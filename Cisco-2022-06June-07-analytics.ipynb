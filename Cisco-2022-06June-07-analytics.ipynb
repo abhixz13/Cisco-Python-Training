{
 "cells": [
  {
   "cell_type": "markdown",
   "id": "7a6d7d44",
   "metadata": {},
   "source": [
    "# Agenda\n",
    "\n",
    "1. Pandas in general\n",
    "2. Series\n",
    "    - Creating \n",
    "    - Retrieving from them\n",
    "    - Methods\n",
    "    - Working with `nan`\n",
    "    - Broadcasting\n",
    "    - Indexes\n",
    "3. Data frames\n",
    "    - Creating\n",
    "    - Retrieving from them\n",
    "    - Applying methods across all columns\n",
    "4. Reading data from files\n",
    "    - CSV\n",
    "    - (Excel, a little)\n",
    "    - JSON\n",
    "    - Retrieving from the network"
   ]
  },
  {
   "cell_type": "markdown",
   "id": "647cd997",
   "metadata": {},
   "source": [
    "# Pandas data structures\n",
    "\n",
    "There are two main data structures you need to know about with Pandas:\n",
    "\n",
    "- `Series` -- basically a 1D NumPy array\n",
    "- `DataFrame` -- basically a 2D NumPy array\n",
    "\n",
    "The rows of a data frame are going to be equivalent to the rows of a NumPy array.\n",
    "\n",
    "The columns of a data frame are all going to be Series objects."
   ]
  },
  {
   "cell_type": "markdown",
   "id": "1df5337a",
   "metadata": {},
   "source": [
    "# Installing pandas\n",
    "\n",
    "You can install it along with many other Python packages with `pip` (command-line program, not to be run inside of Python or Jupyter):\n",
    "\n",
    "    python3 -m pip install -U pandas\n",
    "    \n",
    "Once it is installed, then we'll want to load it into our program."
   ]
  },
  {
   "cell_type": "code",
   "execution_count": 1,
   "id": "5807b46c",
   "metadata": {},
   "outputs": [],
   "source": [
    "import numpy as np\n",
    "import pandas as pd\n",
    "from "
   ]
  },
  {
   "cell_type": "code",
   "execution_count": null,
   "id": "235eead6",
   "metadata": {},
   "outputs": [],
   "source": [
    "# let's create a Pandas Series\n",
    "\n"
   ]
  }
 ],
 "metadata": {
  "kernelspec": {
   "display_name": "Python 3 (ipykernel)",
   "language": "python",
   "name": "python3"
  },
  "language_info": {
   "codemirror_mode": {
    "name": "ipython",
    "version": 3
   },
   "file_extension": ".py",
   "mimetype": "text/x-python",
   "name": "python",
   "nbconvert_exporter": "python",
   "pygments_lexer": "ipython3",
   "version": "3.10.4"
  }
 },
 "nbformat": 4,
 "nbformat_minor": 5
}
