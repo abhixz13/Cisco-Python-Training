{
 "cells": [
  {
   "cell_type": "markdown",
   "id": "d02af12c",
   "metadata": {},
   "source": [
    "# Agenda\n",
    "\n",
    "1. Pandas in general\n",
    "2. Series\n",
    "    - Creating \n",
    "    - Retrieving from them\n",
    "    - Methods\n",
    "    - Working with `nan`\n",
    "    - Broadcasting\n",
    "    - Indexes\n",
    "3. Data frames\n",
    "    - Creating\n",
    "    - Retrieving from them\n",
    "    - Applying methods across all columns\n",
    "4. Reading data from files\n",
    "    - CSV\n",
    "    - (Excel, a little)\n",
    "    - JSON\n",
    "    - Retrieving from the network"
   ]
  },
  {
   "cell_type": "markdown",
   "id": "2eaec444",
   "metadata": {},
   "source": [
    "# Pandas data structures\n",
    "\n",
    "There are two main data structures you need to know about with Pandas:\n",
    "\n",
    "- `Series` -- basically a 1D NumPy array\n",
    "- `DataFrame` -- basically a 2D NumPy array\n",
    "\n",
    "The rows of a data frame are going to be equivalent to the rows of a NumPy array.\n",
    "\n",
    "The columns of a data frame are all going to be Series objects."
   ]
  },
  {
   "cell_type": "markdown",
   "id": "3e8465aa",
   "metadata": {},
   "source": [
    "# Installing pandas\n",
    "\n",
    "You can install it along with many other Python packages with `pip` (command-line program, not to be run inside of Python or Jupyter):\n",
    "\n",
    "    python3 -m pip install -U pandas\n",
    "    \n",
    "Once it is installed, then we'll want to load it into our program."
   ]
  },
  {
   "cell_type": "code",
   "execution_count": 2,
   "id": "aaf42508",
   "metadata": {},
   "outputs": [],
   "source": [
    "import numpy as np\n",
    "import pandas as pd\n",
    "from pandas import Series, DataFrame"
   ]
  },
  {
   "cell_type": "code",
   "execution_count": 3,
   "id": "0b4abdb7",
   "metadata": {},
   "outputs": [],
   "source": [
    "# let's create a Pandas Series\n",
    "\n",
    "s = Series([10, 20, 30, 40, 50, 60, 70])"
   ]
  },
  {
   "cell_type": "code",
   "execution_count": 4,
   "id": "83c2a582",
   "metadata": {},
   "outputs": [
    {
     "data": {
      "text/plain": [
       "pandas.core.series.Series"
      ]
     },
     "execution_count": 4,
     "metadata": {},
     "output_type": "execute_result"
    }
   ],
   "source": [
    "type(s)"
   ]
  },
  {
   "cell_type": "code",
   "execution_count": 5,
   "id": "b048905b",
   "metadata": {},
   "outputs": [
    {
     "data": {
      "text/plain": [
       "0    10\n",
       "1    20\n",
       "2    30\n",
       "3    40\n",
       "4    50\n",
       "5    60\n",
       "6    70\n",
       "dtype: int64"
      ]
     },
     "execution_count": 5,
     "metadata": {},
     "output_type": "execute_result"
    }
   ],
   "source": [
    "s"
   ]
  },
  {
   "cell_type": "code",
   "execution_count": 6,
   "id": "18c30eb1",
   "metadata": {},
   "outputs": [
    {
     "data": {
      "text/plain": [
       "10"
      ]
     },
     "execution_count": 6,
     "metadata": {},
     "output_type": "execute_result"
    }
   ],
   "source": [
    "# I can do many of the same things with a series that I did with NumPy arrays\n",
    "\n",
    "s[0]"
   ]
  },
  {
   "cell_type": "code",
   "execution_count": 7,
   "id": "08904e3f",
   "metadata": {},
   "outputs": [
    {
     "data": {
      "text/plain": [
       "40"
      ]
     },
     "execution_count": 7,
     "metadata": {},
     "output_type": "execute_result"
    }
   ],
   "source": [
    "s[3]"
   ]
  },
  {
   "cell_type": "code",
   "execution_count": 8,
   "id": "ac93cf2a",
   "metadata": {},
   "outputs": [
    {
     "data": {
      "text/plain": [
       "280"
      ]
     },
     "execution_count": 8,
     "metadata": {},
     "output_type": "execute_result"
    }
   ],
   "source": [
    "s.sum()"
   ]
  },
  {
   "cell_type": "code",
   "execution_count": 9,
   "id": "1540da1e",
   "metadata": {},
   "outputs": [
    {
     "data": {
      "text/plain": [
       "40.0"
      ]
     },
     "execution_count": 9,
     "metadata": {},
     "output_type": "execute_result"
    }
   ],
   "source": [
    "s.mean()"
   ]
  },
  {
   "cell_type": "code",
   "execution_count": 10,
   "id": "67fbf7ba",
   "metadata": {},
   "outputs": [],
   "source": [
    "s = Series([10, 20, 30, 40, 50, 60, 70], dtype=np.float64)"
   ]
  },
  {
   "cell_type": "code",
   "execution_count": 11,
   "id": "322bd47b",
   "metadata": {},
   "outputs": [
    {
     "data": {
      "text/plain": [
       "0    10.0\n",
       "1    20.0\n",
       "2    30.0\n",
       "3    40.0\n",
       "4    50.0\n",
       "5    60.0\n",
       "6    70.0\n",
       "dtype: float64"
      ]
     },
     "execution_count": 11,
     "metadata": {},
     "output_type": "execute_result"
    }
   ],
   "source": [
    "s"
   ]
  },
  {
   "cell_type": "code",
   "execution_count": 12,
   "id": "edb214fb",
   "metadata": {},
   "outputs": [
    {
     "data": {
      "text/plain": [
       "array([10., 20., 30., 40., 50., 60., 70.])"
      ]
     },
     "execution_count": 12,
     "metadata": {},
     "output_type": "execute_result"
    }
   ],
   "source": [
    "# behind the scenes, we can find a NumPy array\n",
    "s.values"
   ]
  },
  {
   "cell_type": "code",
   "execution_count": 13,
   "id": "3bca3512",
   "metadata": {},
   "outputs": [
    {
     "data": {
      "text/plain": [
       "0    44\n",
       "1    47\n",
       "2    64\n",
       "3    67\n",
       "4    67\n",
       "5     9\n",
       "6    83\n",
       "7    21\n",
       "8    36\n",
       "9    87\n",
       "dtype: int64"
      ]
     },
     "execution_count": 13,
     "metadata": {},
     "output_type": "execute_result"
    }
   ],
   "source": [
    "# I can create a Pandas Series  based on a 1D NumPy array\n",
    "\n",
    "np.random.seed(0)\n",
    "s = Series(np.random.randint(0, 100, 10))\n",
    "\n",
    "s"
   ]
  },
  {
   "cell_type": "code",
   "execution_count": 14,
   "id": "4d5c9be3",
   "metadata": {},
   "outputs": [
    {
     "data": {
      "text/plain": [
       "9"
      ]
     },
     "execution_count": 14,
     "metadata": {},
     "output_type": "execute_result"
    }
   ],
   "source": [
    "s.min()"
   ]
  },
  {
   "cell_type": "code",
   "execution_count": 15,
   "id": "4e70f680",
   "metadata": {},
   "outputs": [
    {
     "data": {
      "text/plain": [
       "87"
      ]
     },
     "execution_count": 15,
     "metadata": {},
     "output_type": "execute_result"
    }
   ],
   "source": [
    "s.max()"
   ]
  },
  {
   "cell_type": "code",
   "execution_count": 16,
   "id": "d4f3fe40",
   "metadata": {},
   "outputs": [
    {
     "data": {
      "text/plain": [
       "52.5"
      ]
     },
     "execution_count": 16,
     "metadata": {},
     "output_type": "execute_result"
    }
   ],
   "source": [
    "s.mean()"
   ]
  },
  {
   "cell_type": "code",
   "execution_count": 17,
   "id": "bbf28e2c",
   "metadata": {},
   "outputs": [
    {
     "data": {
      "text/plain": [
       "25.67424130654432"
      ]
     },
     "execution_count": 17,
     "metadata": {},
     "output_type": "execute_result"
    }
   ],
   "source": [
    "s.std()"
   ]
  },
  {
   "cell_type": "code",
   "execution_count": 18,
   "id": "c9a44172",
   "metadata": {},
   "outputs": [
    {
     "data": {
      "text/plain": [
       "525"
      ]
     },
     "execution_count": 18,
     "metadata": {},
     "output_type": "execute_result"
    }
   ],
   "source": [
    "s.sum()"
   ]
  },
  {
   "cell_type": "code",
   "execution_count": 20,
   "id": "0e33d80f",
   "metadata": {},
   "outputs": [
    {
     "data": {
      "text/plain": [
       "10"
      ]
     },
     "execution_count": 20,
     "metadata": {},
     "output_type": "execute_result"
    }
   ],
   "source": [
    "s.count()   # how many non-nan values are there in this series?"
   ]
  },
  {
   "cell_type": "code",
   "execution_count": 21,
   "id": "a4078e34",
   "metadata": {},
   "outputs": [
    {
     "data": {
      "text/plain": [
       "0    False\n",
       "1    False\n",
       "2    False\n",
       "3    False\n",
       "4    False\n",
       "5     True\n",
       "6    False\n",
       "7     True\n",
       "8    False\n",
       "9    False\n",
       "dtype: bool"
      ]
     },
     "execution_count": 21,
     "metadata": {},
     "output_type": "execute_result"
    }
   ],
   "source": [
    "# can I create a boolean series, and use it as a mask index? YES!\n",
    "\n",
    "s < 30"
   ]
  },
  {
   "cell_type": "code",
   "execution_count": 22,
   "id": "f0f76fb2",
   "metadata": {},
   "outputs": [
    {
     "data": {
      "text/plain": [
       "5     9\n",
       "7    21\n",
       "dtype: int64"
      ]
     },
     "execution_count": 22,
     "metadata": {},
     "output_type": "execute_result"
    }
   ],
   "source": [
    "s[s<30]  # notice that when I filter the elements of s, the items I get back retain their original indexes"
   ]
  },
  {
   "cell_type": "code",
   "execution_count": 23,
   "id": "8cfbdf82",
   "metadata": {},
   "outputs": [
    {
     "data": {
      "text/plain": [
       "0    44\n",
       "1    47\n",
       "5     9\n",
       "7    21\n",
       "8    36\n",
       "dtype: int64"
      ]
     },
     "execution_count": 23,
     "metadata": {},
     "output_type": "execute_result"
    }
   ],
   "source": [
    "s[s<s.mean()]  # retrieve values less than the mean"
   ]
  },
  {
   "cell_type": "markdown",
   "id": "62fa27e3",
   "metadata": {},
   "source": [
    "# Ways to retrieve from a series\n",
    "\n",
    "1. We've now seen that we can retrieve from a series using `[]`, just as we did with NumPy arrays.  But I'd like you to break this habit, ASAP.  (When we get to data frames, this will make more sense, and you won't regret it.)\n",
    "\n",
    "2. We can also retrieve from a series using the `.loc` accessor and `[]`.  This lets us retrieve via the index.\n",
    "\n",
    "3. We can also retrieve from a series using the `iloc` accessor and `[]`.  This lets us retrieve via the position in the series, regardless of the index, starting at 0."
   ]
  },
  {
   "cell_type": "code",
   "execution_count": 24,
   "id": "e26aec1d",
   "metadata": {},
   "outputs": [],
   "source": [
    "a = s[s<s.mean()]"
   ]
  },
  {
   "cell_type": "code",
   "execution_count": 25,
   "id": "ed82ac55",
   "metadata": {},
   "outputs": [
    {
     "data": {
      "text/plain": [
       "0    44\n",
       "1    47\n",
       "5     9\n",
       "7    21\n",
       "8    36\n",
       "dtype: int64"
      ]
     },
     "execution_count": 25,
     "metadata": {},
     "output_type": "execute_result"
    }
   ],
   "source": [
    "a   # this is a series containing 5 elements."
   ]
  },
  {
   "cell_type": "code",
   "execution_count": 26,
   "id": "2c2b0e89",
   "metadata": {},
   "outputs": [
    {
     "data": {
      "text/plain": [
       "9"
      ]
     },
     "execution_count": 26,
     "metadata": {},
     "output_type": "execute_result"
    }
   ],
   "source": [
    "# I can retrieve via the index using just [].  Again: Probably not a good idea, but it will work!\n",
    "a[5]"
   ]
  },
  {
   "cell_type": "code",
   "execution_count": 27,
   "id": "96da5a48",
   "metadata": {},
   "outputs": [
    {
     "data": {
      "text/plain": [
       "36"
      ]
     },
     "execution_count": 27,
     "metadata": {},
     "output_type": "execute_result"
    }
   ],
   "source": [
    "a[8]"
   ]
  },
  {
   "cell_type": "code",
   "execution_count": 28,
   "id": "600d4339",
   "metadata": {},
   "outputs": [
    {
     "data": {
      "text/plain": [
       "44"
      ]
     },
     "execution_count": 28,
     "metadata": {},
     "output_type": "execute_result"
    }
   ],
   "source": [
    "a[0]"
   ]
  },
  {
   "cell_type": "code",
   "execution_count": 29,
   "id": "bcfffd4b",
   "metadata": {},
   "outputs": [
    {
     "data": {
      "text/plain": [
       "1    47\n",
       "7    21\n",
       "dtype: int64"
      ]
     },
     "execution_count": 29,
     "metadata": {},
     "output_type": "execute_result"
    }
   ],
   "source": [
    "a[[1, 7]]   # fancy indexing works here, too!"
   ]
  },
  {
   "cell_type": "code",
   "execution_count": 30,
   "id": "74c57243",
   "metadata": {},
   "outputs": [
    {
     "data": {
      "text/plain": [
       "9"
      ]
     },
     "execution_count": 30,
     "metadata": {},
     "output_type": "execute_result"
    }
   ],
   "source": [
    "# Better than [] alone is retrieving with .loc, which lets us specify the index\n",
    "\n",
    "a.loc[5]"
   ]
  },
  {
   "cell_type": "code",
   "execution_count": 31,
   "id": "bba6bce9",
   "metadata": {},
   "outputs": [
    {
     "data": {
      "text/plain": [
       "36"
      ]
     },
     "execution_count": 31,
     "metadata": {},
     "output_type": "execute_result"
    }
   ],
   "source": [
    "a.loc[8]"
   ]
  },
  {
   "cell_type": "code",
   "execution_count": 32,
   "id": "2013a44f",
   "metadata": {},
   "outputs": [
    {
     "data": {
      "text/plain": [
       "44"
      ]
     },
     "execution_count": 32,
     "metadata": {},
     "output_type": "execute_result"
    }
   ],
   "source": [
    "a.loc[0]"
   ]
  },
  {
   "cell_type": "code",
   "execution_count": 33,
   "id": "d5a1eeba",
   "metadata": {},
   "outputs": [
    {
     "data": {
      "text/plain": [
       "1    47\n",
       "7    21\n",
       "dtype: int64"
      ]
     },
     "execution_count": 33,
     "metadata": {},
     "output_type": "execute_result"
    }
   ],
   "source": [
    "a.loc[[1,7]]"
   ]
  },
  {
   "cell_type": "code",
   "execution_count": 36,
   "id": "2827bcd0",
   "metadata": {},
   "outputs": [
    {
     "data": {
      "text/plain": [
       "21"
      ]
     },
     "execution_count": 36,
     "metadata": {},
     "output_type": "execute_result"
    }
   ],
   "source": [
    "# Another way to retrieve is with .iloc, where we specify the numeric position in the series,\n",
    "# starting with 0.\n",
    "\n",
    "a.iloc[3]"
   ]
  },
  {
   "cell_type": "code",
   "execution_count": 37,
   "id": "628f2abc",
   "metadata": {},
   "outputs": [
    {
     "data": {
      "text/plain": [
       "0    44\n",
       "1    47\n",
       "5     9\n",
       "7    21\n",
       "8    36\n",
       "dtype: int64"
      ]
     },
     "execution_count": 37,
     "metadata": {},
     "output_type": "execute_result"
    }
   ],
   "source": [
    "a"
   ]
  },
  {
   "cell_type": "code",
   "execution_count": 38,
   "id": "b11968e3",
   "metadata": {},
   "outputs": [
    {
     "data": {
      "text/plain": [
       "21"
      ]
     },
     "execution_count": 38,
     "metadata": {},
     "output_type": "execute_result"
    }
   ],
   "source": [
    "a.loc[7]    # same as a.iloc[3]"
   ]
  },
  {
   "cell_type": "code",
   "execution_count": 39,
   "id": "3e374764",
   "metadata": {},
   "outputs": [
    {
     "data": {
      "text/plain": [
       "9"
      ]
     },
     "execution_count": 39,
     "metadata": {},
     "output_type": "execute_result"
    }
   ],
   "source": [
    "a.iloc[2]"
   ]
  },
  {
   "cell_type": "code",
   "execution_count": 40,
   "id": "b89ca5ce",
   "metadata": {},
   "outputs": [
    {
     "ename": "KeyError",
     "evalue": "2",
     "output_type": "error",
     "traceback": [
      "\u001b[0;31m---------------------------------------------------------------------------\u001b[0m",
      "\u001b[0;31mKeyError\u001b[0m                                  Traceback (most recent call last)",
      "\u001b[0;32m/usr/local/lib/python3.10/site-packages/pandas/core/indexes/base.py\u001b[0m in \u001b[0;36mget_loc\u001b[0;34m(self, key, method, tolerance)\u001b[0m\n\u001b[1;32m   3620\u001b[0m             \u001b[0;32mtry\u001b[0m\u001b[0;34m:\u001b[0m\u001b[0;34m\u001b[0m\u001b[0;34m\u001b[0m\u001b[0m\n\u001b[0;32m-> 3621\u001b[0;31m                 \u001b[0;32mreturn\u001b[0m \u001b[0mself\u001b[0m\u001b[0;34m.\u001b[0m\u001b[0m_engine\u001b[0m\u001b[0;34m.\u001b[0m\u001b[0mget_loc\u001b[0m\u001b[0;34m(\u001b[0m\u001b[0mcasted_key\u001b[0m\u001b[0;34m)\u001b[0m\u001b[0;34m\u001b[0m\u001b[0;34m\u001b[0m\u001b[0m\n\u001b[0m\u001b[1;32m   3622\u001b[0m             \u001b[0;32mexcept\u001b[0m \u001b[0mKeyError\u001b[0m \u001b[0;32mas\u001b[0m \u001b[0merr\u001b[0m\u001b[0;34m:\u001b[0m\u001b[0;34m\u001b[0m\u001b[0;34m\u001b[0m\u001b[0m\n",
      "\u001b[0;32mpandas/_libs/index.pyx\u001b[0m in \u001b[0;36mpandas._libs.index.IndexEngine.get_loc\u001b[0;34m()\u001b[0m\n",
      "\u001b[0;32mpandas/_libs/index.pyx\u001b[0m in \u001b[0;36mpandas._libs.index.IndexEngine.get_loc\u001b[0;34m()\u001b[0m\n",
      "\u001b[0;32mpandas/_libs/hashtable_class_helper.pxi\u001b[0m in \u001b[0;36mpandas._libs.hashtable.Int64HashTable.get_item\u001b[0;34m()\u001b[0m\n",
      "\u001b[0;32mpandas/_libs/hashtable_class_helper.pxi\u001b[0m in \u001b[0;36mpandas._libs.hashtable.Int64HashTable.get_item\u001b[0;34m()\u001b[0m\n",
      "\u001b[0;31mKeyError\u001b[0m: 2",
      "\nThe above exception was the direct cause of the following exception:\n",
      "\u001b[0;31mKeyError\u001b[0m                                  Traceback (most recent call last)",
      "\u001b[0;32m/var/folders/rr/0mnyyv811fs5vyp22gf4fxk00000gn/T/ipykernel_77757/1776306547.py\u001b[0m in \u001b[0;36m<module>\u001b[0;34m\u001b[0m\n\u001b[0;32m----> 1\u001b[0;31m \u001b[0ma\u001b[0m\u001b[0;34m.\u001b[0m\u001b[0mloc\u001b[0m\u001b[0;34m[\u001b[0m\u001b[0;36m2\u001b[0m\u001b[0;34m]\u001b[0m\u001b[0;34m\u001b[0m\u001b[0;34m\u001b[0m\u001b[0m\n\u001b[0m",
      "\u001b[0;32m/usr/local/lib/python3.10/site-packages/pandas/core/indexing.py\u001b[0m in \u001b[0;36m__getitem__\u001b[0;34m(self, key)\u001b[0m\n\u001b[1;32m    965\u001b[0m \u001b[0;34m\u001b[0m\u001b[0m\n\u001b[1;32m    966\u001b[0m             \u001b[0mmaybe_callable\u001b[0m \u001b[0;34m=\u001b[0m \u001b[0mcom\u001b[0m\u001b[0;34m.\u001b[0m\u001b[0mapply_if_callable\u001b[0m\u001b[0;34m(\u001b[0m\u001b[0mkey\u001b[0m\u001b[0;34m,\u001b[0m \u001b[0mself\u001b[0m\u001b[0;34m.\u001b[0m\u001b[0mobj\u001b[0m\u001b[0;34m)\u001b[0m\u001b[0;34m\u001b[0m\u001b[0;34m\u001b[0m\u001b[0m\n\u001b[0;32m--> 967\u001b[0;31m             \u001b[0;32mreturn\u001b[0m \u001b[0mself\u001b[0m\u001b[0;34m.\u001b[0m\u001b[0m_getitem_axis\u001b[0m\u001b[0;34m(\u001b[0m\u001b[0mmaybe_callable\u001b[0m\u001b[0;34m,\u001b[0m \u001b[0maxis\u001b[0m\u001b[0;34m=\u001b[0m\u001b[0maxis\u001b[0m\u001b[0;34m)\u001b[0m\u001b[0;34m\u001b[0m\u001b[0;34m\u001b[0m\u001b[0m\n\u001b[0m\u001b[1;32m    968\u001b[0m \u001b[0;34m\u001b[0m\u001b[0m\n\u001b[1;32m    969\u001b[0m     \u001b[0;32mdef\u001b[0m \u001b[0m_is_scalar_access\u001b[0m\u001b[0;34m(\u001b[0m\u001b[0mself\u001b[0m\u001b[0;34m,\u001b[0m \u001b[0mkey\u001b[0m\u001b[0;34m:\u001b[0m \u001b[0mtuple\u001b[0m\u001b[0;34m)\u001b[0m\u001b[0;34m:\u001b[0m\u001b[0;34m\u001b[0m\u001b[0;34m\u001b[0m\u001b[0m\n",
      "\u001b[0;32m/usr/local/lib/python3.10/site-packages/pandas/core/indexing.py\u001b[0m in \u001b[0;36m_getitem_axis\u001b[0;34m(self, key, axis)\u001b[0m\n\u001b[1;32m   1200\u001b[0m         \u001b[0;31m# fall thru to straight lookup\u001b[0m\u001b[0;34m\u001b[0m\u001b[0;34m\u001b[0m\u001b[0m\n\u001b[1;32m   1201\u001b[0m         \u001b[0mself\u001b[0m\u001b[0;34m.\u001b[0m\u001b[0m_validate_key\u001b[0m\u001b[0;34m(\u001b[0m\u001b[0mkey\u001b[0m\u001b[0;34m,\u001b[0m \u001b[0maxis\u001b[0m\u001b[0;34m)\u001b[0m\u001b[0;34m\u001b[0m\u001b[0;34m\u001b[0m\u001b[0m\n\u001b[0;32m-> 1202\u001b[0;31m         \u001b[0;32mreturn\u001b[0m \u001b[0mself\u001b[0m\u001b[0;34m.\u001b[0m\u001b[0m_get_label\u001b[0m\u001b[0;34m(\u001b[0m\u001b[0mkey\u001b[0m\u001b[0;34m,\u001b[0m \u001b[0maxis\u001b[0m\u001b[0;34m=\u001b[0m\u001b[0maxis\u001b[0m\u001b[0;34m)\u001b[0m\u001b[0;34m\u001b[0m\u001b[0;34m\u001b[0m\u001b[0m\n\u001b[0m\u001b[1;32m   1203\u001b[0m \u001b[0;34m\u001b[0m\u001b[0m\n\u001b[1;32m   1204\u001b[0m     \u001b[0;32mdef\u001b[0m \u001b[0m_get_slice_axis\u001b[0m\u001b[0;34m(\u001b[0m\u001b[0mself\u001b[0m\u001b[0;34m,\u001b[0m \u001b[0mslice_obj\u001b[0m\u001b[0;34m:\u001b[0m \u001b[0mslice\u001b[0m\u001b[0;34m,\u001b[0m \u001b[0maxis\u001b[0m\u001b[0;34m:\u001b[0m \u001b[0mint\u001b[0m\u001b[0;34m)\u001b[0m\u001b[0;34m:\u001b[0m\u001b[0;34m\u001b[0m\u001b[0;34m\u001b[0m\u001b[0m\n",
      "\u001b[0;32m/usr/local/lib/python3.10/site-packages/pandas/core/indexing.py\u001b[0m in \u001b[0;36m_get_label\u001b[0;34m(self, label, axis)\u001b[0m\n\u001b[1;32m   1151\u001b[0m     \u001b[0;32mdef\u001b[0m \u001b[0m_get_label\u001b[0m\u001b[0;34m(\u001b[0m\u001b[0mself\u001b[0m\u001b[0;34m,\u001b[0m \u001b[0mlabel\u001b[0m\u001b[0;34m,\u001b[0m \u001b[0maxis\u001b[0m\u001b[0;34m:\u001b[0m \u001b[0mint\u001b[0m\u001b[0;34m)\u001b[0m\u001b[0;34m:\u001b[0m\u001b[0;34m\u001b[0m\u001b[0;34m\u001b[0m\u001b[0m\n\u001b[1;32m   1152\u001b[0m         \u001b[0;31m# GH#5667 this will fail if the label is not present in the axis.\u001b[0m\u001b[0;34m\u001b[0m\u001b[0;34m\u001b[0m\u001b[0m\n\u001b[0;32m-> 1153\u001b[0;31m         \u001b[0;32mreturn\u001b[0m \u001b[0mself\u001b[0m\u001b[0;34m.\u001b[0m\u001b[0mobj\u001b[0m\u001b[0;34m.\u001b[0m\u001b[0mxs\u001b[0m\u001b[0;34m(\u001b[0m\u001b[0mlabel\u001b[0m\u001b[0;34m,\u001b[0m \u001b[0maxis\u001b[0m\u001b[0;34m=\u001b[0m\u001b[0maxis\u001b[0m\u001b[0;34m)\u001b[0m\u001b[0;34m\u001b[0m\u001b[0;34m\u001b[0m\u001b[0m\n\u001b[0m\u001b[1;32m   1154\u001b[0m \u001b[0;34m\u001b[0m\u001b[0m\n\u001b[1;32m   1155\u001b[0m     \u001b[0;32mdef\u001b[0m \u001b[0m_handle_lowerdim_multi_index_axis0\u001b[0m\u001b[0;34m(\u001b[0m\u001b[0mself\u001b[0m\u001b[0;34m,\u001b[0m \u001b[0mtup\u001b[0m\u001b[0;34m:\u001b[0m \u001b[0mtuple\u001b[0m\u001b[0;34m)\u001b[0m\u001b[0;34m:\u001b[0m\u001b[0;34m\u001b[0m\u001b[0;34m\u001b[0m\u001b[0m\n",
      "\u001b[0;32m/usr/local/lib/python3.10/site-packages/pandas/core/generic.py\u001b[0m in \u001b[0;36mxs\u001b[0;34m(self, key, axis, level, drop_level)\u001b[0m\n\u001b[1;32m   3862\u001b[0m                     \u001b[0mnew_index\u001b[0m \u001b[0;34m=\u001b[0m \u001b[0mindex\u001b[0m\u001b[0;34m[\u001b[0m\u001b[0mloc\u001b[0m\u001b[0;34m]\u001b[0m\u001b[0;34m\u001b[0m\u001b[0;34m\u001b[0m\u001b[0m\n\u001b[1;32m   3863\u001b[0m         \u001b[0;32melse\u001b[0m\u001b[0;34m:\u001b[0m\u001b[0;34m\u001b[0m\u001b[0;34m\u001b[0m\u001b[0m\n\u001b[0;32m-> 3864\u001b[0;31m             \u001b[0mloc\u001b[0m \u001b[0;34m=\u001b[0m \u001b[0mindex\u001b[0m\u001b[0;34m.\u001b[0m\u001b[0mget_loc\u001b[0m\u001b[0;34m(\u001b[0m\u001b[0mkey\u001b[0m\u001b[0;34m)\u001b[0m\u001b[0;34m\u001b[0m\u001b[0;34m\u001b[0m\u001b[0m\n\u001b[0m\u001b[1;32m   3865\u001b[0m \u001b[0;34m\u001b[0m\u001b[0m\n\u001b[1;32m   3866\u001b[0m             \u001b[0;32mif\u001b[0m \u001b[0misinstance\u001b[0m\u001b[0;34m(\u001b[0m\u001b[0mloc\u001b[0m\u001b[0;34m,\u001b[0m \u001b[0mnp\u001b[0m\u001b[0;34m.\u001b[0m\u001b[0mndarray\u001b[0m\u001b[0;34m)\u001b[0m\u001b[0;34m:\u001b[0m\u001b[0;34m\u001b[0m\u001b[0;34m\u001b[0m\u001b[0m\n",
      "\u001b[0;32m/usr/local/lib/python3.10/site-packages/pandas/core/indexes/base.py\u001b[0m in \u001b[0;36mget_loc\u001b[0;34m(self, key, method, tolerance)\u001b[0m\n\u001b[1;32m   3621\u001b[0m                 \u001b[0;32mreturn\u001b[0m \u001b[0mself\u001b[0m\u001b[0;34m.\u001b[0m\u001b[0m_engine\u001b[0m\u001b[0;34m.\u001b[0m\u001b[0mget_loc\u001b[0m\u001b[0;34m(\u001b[0m\u001b[0mcasted_key\u001b[0m\u001b[0;34m)\u001b[0m\u001b[0;34m\u001b[0m\u001b[0;34m\u001b[0m\u001b[0m\n\u001b[1;32m   3622\u001b[0m             \u001b[0;32mexcept\u001b[0m \u001b[0mKeyError\u001b[0m \u001b[0;32mas\u001b[0m \u001b[0merr\u001b[0m\u001b[0;34m:\u001b[0m\u001b[0;34m\u001b[0m\u001b[0;34m\u001b[0m\u001b[0m\n\u001b[0;32m-> 3623\u001b[0;31m                 \u001b[0;32mraise\u001b[0m \u001b[0mKeyError\u001b[0m\u001b[0;34m(\u001b[0m\u001b[0mkey\u001b[0m\u001b[0;34m)\u001b[0m \u001b[0;32mfrom\u001b[0m \u001b[0merr\u001b[0m\u001b[0;34m\u001b[0m\u001b[0;34m\u001b[0m\u001b[0m\n\u001b[0m\u001b[1;32m   3624\u001b[0m             \u001b[0;32mexcept\u001b[0m \u001b[0mTypeError\u001b[0m\u001b[0;34m:\u001b[0m\u001b[0;34m\u001b[0m\u001b[0;34m\u001b[0m\u001b[0m\n\u001b[1;32m   3625\u001b[0m                 \u001b[0;31m# If we have a listlike key, _check_indexing_error will raise\u001b[0m\u001b[0;34m\u001b[0m\u001b[0;34m\u001b[0m\u001b[0m\n",
      "\u001b[0;31mKeyError\u001b[0m: 2"
     ]
    }
   ],
   "source": [
    "a.loc[2]"
   ]
  },
  {
   "cell_type": "code",
   "execution_count": 41,
   "id": "c9b6ba58",
   "metadata": {},
   "outputs": [
    {
     "data": {
      "text/plain": [
       "0    44\n",
       "1    47\n",
       "5     9\n",
       "7    21\n",
       "8    36\n",
       "dtype: int64"
      ]
     },
     "execution_count": 41,
     "metadata": {},
     "output_type": "execute_result"
    }
   ],
   "source": [
    "a"
   ]
  },
  {
   "cell_type": "code",
   "execution_count": 43,
   "id": "ed08d277",
   "metadata": {},
   "outputs": [],
   "source": [
    "# is there a way for me to set the index when I create a series?\n",
    "# yes!\n",
    "\n",
    "s = Series([10, 20, 30, 40, 50],\n",
    "          index=[2,4,6,8,10])      # index and values must be of the same length!"
   ]
  },
  {
   "cell_type": "code",
   "execution_count": 44,
   "id": "8513fbe8",
   "metadata": {},
   "outputs": [
    {
     "data": {
      "text/plain": [
       "2     10\n",
       "4     20\n",
       "6     30\n",
       "8     40\n",
       "10    50\n",
       "dtype: int64"
      ]
     },
     "execution_count": 44,
     "metadata": {},
     "output_type": "execute_result"
    }
   ],
   "source": [
    "s"
   ]
  },
  {
   "cell_type": "code",
   "execution_count": 45,
   "id": "d2023322",
   "metadata": {},
   "outputs": [
    {
     "data": {
      "text/plain": [
       "20"
      ]
     },
     "execution_count": 45,
     "metadata": {},
     "output_type": "execute_result"
    }
   ],
   "source": [
    "s.loc[4]  # this retrieves the item whose index is 4"
   ]
  },
  {
   "cell_type": "code",
   "execution_count": 46,
   "id": "eb48a89a",
   "metadata": {},
   "outputs": [
    {
     "data": {
      "text/plain": [
       "50"
      ]
     },
     "execution_count": 46,
     "metadata": {},
     "output_type": "execute_result"
    }
   ],
   "source": [
    "s.iloc[4]  # this retrieves the item whose position is 4"
   ]
  },
  {
   "cell_type": "code",
   "execution_count": 47,
   "id": "95b0cac5",
   "metadata": {},
   "outputs": [
    {
     "data": {
      "text/plain": [
       "a    10\n",
       "b    20\n",
       "c    30\n",
       "d    40\n",
       "e    50\n",
       "dtype: int64"
      ]
     },
     "execution_count": 47,
     "metadata": {},
     "output_type": "execute_result"
    }
   ],
   "source": [
    "s = Series([10, 20, 30, 40, 50],\n",
    "          index=list('abcde'))    # indexes can be strings, including 1-character strings!\n",
    "\n",
    "s"
   ]
  },
  {
   "cell_type": "code",
   "execution_count": 48,
   "id": "7b0ec319",
   "metadata": {},
   "outputs": [
    {
     "data": {
      "text/plain": [
       "40"
      ]
     },
     "execution_count": 48,
     "metadata": {},
     "output_type": "execute_result"
    }
   ],
   "source": [
    "s.loc['d']"
   ]
  },
  {
   "cell_type": "code",
   "execution_count": 49,
   "id": "b0e312db",
   "metadata": {},
   "outputs": [
    {
     "data": {
      "text/plain": [
       "40"
      ]
     },
     "execution_count": 49,
     "metadata": {},
     "output_type": "execute_result"
    }
   ],
   "source": [
    "s.iloc[3]"
   ]
  },
  {
   "cell_type": "code",
   "execution_count": 51,
   "id": "3def338d",
   "metadata": {},
   "outputs": [
    {
     "data": {
      "text/plain": [
       "b    20\n",
       "d    40\n",
       "dtype: int64"
      ]
     },
     "execution_count": 51,
     "metadata": {},
     "output_type": "execute_result"
    }
   ],
   "source": [
    "# we can retrieve multiple values with fancy indexing\n",
    "# we'll get a series back as a result (assuming that there's more than one value there)\n",
    "\n",
    "s.loc[['b', 'd']] # fancy indexing with strings"
   ]
  },
  {
   "cell_type": "code",
   "execution_count": 52,
   "id": "4709dbaa",
   "metadata": {},
   "outputs": [
    {
     "data": {
      "text/plain": [
       "b    20\n",
       "c    30\n",
       "d    40\n",
       "dtype: int64"
      ]
     },
     "execution_count": 52,
     "metadata": {},
     "output_type": "execute_result"
    }
   ],
   "source": [
    "# I can even use a slice!\n",
    "\n",
    "s.loc['b':'d']   # in general, Python slices are [start:end+1] -- but not in Pandas, where slices are INCLUSIVE"
   ]
  },
  {
   "cell_type": "markdown",
   "id": "8e17dde5",
   "metadata": {},
   "source": [
    "# Exercises: Series\n",
    "\n",
    "1. Create a series containing 10 random integers from 0-100, with index `a` - `j`.\n",
    "2. Retrieve the item at index `b`.\n",
    "3. Retrieve the items at indexes `c`, `d`, and `f`.\n",
    "4. What is the mean of the items at indexes `a`, `e`, `g`, and `h`?\n",
    "5. What is the sum of the even values?\n",
    "6. What is the sum of the items whose positions (`.iloc`) are even?"
   ]
  },
  {
   "cell_type": "code",
   "execution_count": 56,
   "id": "85ef3df5",
   "metadata": {},
   "outputs": [
    {
     "data": {
      "text/plain": [
       "a    44\n",
       "b    47\n",
       "c    64\n",
       "d    67\n",
       "e    67\n",
       "f     9\n",
       "g    83\n",
       "h    21\n",
       "i    36\n",
       "j    87\n",
       "dtype: int64"
      ]
     },
     "execution_count": 56,
     "metadata": {},
     "output_type": "execute_result"
    }
   ],
   "source": [
    "np.random.seed(0)\n",
    "s = Series(np.random.randint(0, 100, 10),\n",
    "          index=list('abcdefghij'))\n",
    "s"
   ]
  },
  {
   "cell_type": "code",
   "execution_count": 58,
   "id": "45fdc385",
   "metadata": {},
   "outputs": [
    {
     "data": {
      "text/plain": [
       "47"
      ]
     },
     "execution_count": 58,
     "metadata": {},
     "output_type": "execute_result"
    }
   ],
   "source": [
    "# retrieve the item at index b\n",
    "\n",
    "s.loc['b']"
   ]
  },
  {
   "cell_type": "code",
   "execution_count": 59,
   "id": "17e133b1",
   "metadata": {},
   "outputs": [
    {
     "data": {
      "text/plain": [
       "c    64\n",
       "d    67\n",
       "f     9\n",
       "dtype: int64"
      ]
     },
     "execution_count": 59,
     "metadata": {},
     "output_type": "execute_result"
    }
   ],
   "source": [
    "# Retrieve the items at indexes c, d, and f.\n",
    "\n",
    "s.loc[['c', 'd', 'f']]   # fancy indexing -- pass a list of indexes to .loc[]"
   ]
  },
  {
   "cell_type": "code",
   "execution_count": 60,
   "id": "93c865a9",
   "metadata": {},
   "outputs": [
    {
     "data": {
      "text/plain": [
       "c    64\n",
       "d    67\n",
       "e    67\n",
       "dtype: int64"
      ]
     },
     "execution_count": 60,
     "metadata": {},
     "output_type": "execute_result"
    }
   ],
   "source": [
    "# Retrieve the items at indexes c, d, and e\n",
    "\n",
    "s.loc['c':'e']  # one set of square brackets here"
   ]
  },
  {
   "cell_type": "code",
   "execution_count": 63,
   "id": "43485a30",
   "metadata": {},
   "outputs": [
    {
     "data": {
      "text/plain": [
       "53.75"
      ]
     },
     "execution_count": 63,
     "metadata": {},
     "output_type": "execute_result"
    }
   ],
   "source": [
    "# What is the mean of the items at indexes a, e, g, and h?\n",
    "\n",
    "s.loc[['a', 'e', 'g', 'h']].mean()"
   ]
  },
  {
   "cell_type": "code",
   "execution_count": 66,
   "id": "95d913df",
   "metadata": {},
   "outputs": [
    {
     "data": {
      "text/plain": [
       "144"
      ]
     },
     "execution_count": 66,
     "metadata": {},
     "output_type": "execute_result"
    }
   ],
   "source": [
    "# What is the sum of the even values?\n",
    "\n",
    "s.loc[s%2==0].sum()"
   ]
  },
  {
   "cell_type": "code",
   "execution_count": 67,
   "id": "86bbb822",
   "metadata": {},
   "outputs": [
    {
     "data": {
      "text/plain": [
       "a    44\n",
       "c    64\n",
       "e    67\n",
       "g    83\n",
       "i    36\n",
       "dtype: int64"
      ]
     },
     "execution_count": 67,
     "metadata": {},
     "output_type": "execute_result"
    }
   ],
   "source": [
    "# What is the sum of the items whose positions (.iloc) are even?\n",
    "\n",
    "s.iloc[[0,2,4,6,8]]"
   ]
  },
  {
   "cell_type": "code",
   "execution_count": 69,
   "id": "274c04db",
   "metadata": {},
   "outputs": [
    {
     "data": {
      "text/plain": [
       "a    44\n",
       "c    64\n",
       "e    67\n",
       "g    83\n",
       "i    36\n",
       "dtype: int64"
      ]
     },
     "execution_count": 69,
     "metadata": {},
     "output_type": "execute_result"
    }
   ],
   "source": [
    "s.iloc[range(0, 10, 2)]   # from 0, up to (not including) 10, skipping by 2"
   ]
  },
  {
   "cell_type": "code",
   "execution_count": 70,
   "id": "9bfce676",
   "metadata": {},
   "outputs": [
    {
     "data": {
      "text/plain": [
       "294"
      ]
     },
     "execution_count": 70,
     "metadata": {},
     "output_type": "execute_result"
    }
   ],
   "source": [
    "s.iloc[range(0, 10, 2)].sum()"
   ]
  },
  {
   "cell_type": "markdown",
   "id": "5396563d",
   "metadata": {},
   "source": [
    "# How is Pandas different from NumPy?\n"
   ]
  },
  {
   "cell_type": "code",
   "execution_count": 71,
   "id": "ce6eae3d",
   "metadata": {},
   "outputs": [],
   "source": [
    "np.random.seed(0)\n",
    "s1 = Series(np.random.randint(0, 100, 10), \n",
    "           index=list('abcdefghij'))\n",
    "s2 = Series(np.random.randint(0, 100, 10), \n",
    "           index=list('defghijklm'))\n"
   ]
  },
  {
   "cell_type": "code",
   "execution_count": 72,
   "id": "abcad5f4",
   "metadata": {},
   "outputs": [
    {
     "data": {
      "text/plain": [
       "a    44\n",
       "b    47\n",
       "c    64\n",
       "d    67\n",
       "e    67\n",
       "f     9\n",
       "g    83\n",
       "h    21\n",
       "i    36\n",
       "j    87\n",
       "dtype: int64"
      ]
     },
     "execution_count": 72,
     "metadata": {},
     "output_type": "execute_result"
    }
   ],
   "source": [
    "s1"
   ]
  },
  {
   "cell_type": "code",
   "execution_count": 73,
   "id": "afa74259",
   "metadata": {},
   "outputs": [
    {
     "data": {
      "text/plain": [
       "d    70\n",
       "e    88\n",
       "f    88\n",
       "g    12\n",
       "h    58\n",
       "i    65\n",
       "j    39\n",
       "k    87\n",
       "l    46\n",
       "m    88\n",
       "dtype: int64"
      ]
     },
     "execution_count": 73,
     "metadata": {},
     "output_type": "execute_result"
    }
   ],
   "source": [
    "s2"
   ]
  },
  {
   "cell_type": "code",
   "execution_count": 74,
   "id": "b304399b",
   "metadata": {},
   "outputs": [
    {
     "data": {
      "text/plain": [
       "a     88\n",
       "b     94\n",
       "c    128\n",
       "d    134\n",
       "e    134\n",
       "f     18\n",
       "g    166\n",
       "h     42\n",
       "i     72\n",
       "j    174\n",
       "dtype: int64"
      ]
     },
     "execution_count": 74,
     "metadata": {},
     "output_type": "execute_result"
    }
   ],
   "source": [
    "s1 + s1  # add it to itself"
   ]
  },
  {
   "cell_type": "code",
   "execution_count": 75,
   "id": "c72e6110",
   "metadata": {},
   "outputs": [
    {
     "data": {
      "text/plain": [
       "a      NaN\n",
       "b      NaN\n",
       "c      NaN\n",
       "d    137.0\n",
       "e    155.0\n",
       "f     97.0\n",
       "g     95.0\n",
       "h     79.0\n",
       "i    101.0\n",
       "j    126.0\n",
       "k      NaN\n",
       "l      NaN\n",
       "m      NaN\n",
       "dtype: float64"
      ]
     },
     "execution_count": 75,
     "metadata": {},
     "output_type": "execute_result"
    }
   ],
   "source": [
    "s1 + s2  # what happens here?"
   ]
  },
  {
   "cell_type": "code",
   "execution_count": 76,
   "id": "7313d114",
   "metadata": {},
   "outputs": [
    {
     "data": {
      "text/plain": [
       "a     54.0\n",
       "b     67.0\n",
       "c     94.0\n",
       "d    107.0\n",
       "e      NaN\n",
       "f      NaN\n",
       "g      NaN\n",
       "h      NaN\n",
       "i      NaN\n",
       "j      NaN\n",
       "dtype: float64"
      ]
     },
     "execution_count": 76,
     "metadata": {},
     "output_type": "execute_result"
    }
   ],
   "source": [
    "s3 = Series([10, 20, 30, 40], index=list('abcd'))\n",
    "\n",
    "s1 + s3"
   ]
  },
  {
   "cell_type": "code",
   "execution_count": 77,
   "id": "667ae234",
   "metadata": {},
   "outputs": [
    {
     "data": {
      "text/plain": [
       "a      NaN\n",
       "b      NaN\n",
       "c      NaN\n",
       "d    137.0\n",
       "e    155.0\n",
       "f     97.0\n",
       "g     95.0\n",
       "h     79.0\n",
       "i    101.0\n",
       "j    126.0\n",
       "k      NaN\n",
       "l      NaN\n",
       "m      NaN\n",
       "dtype: float64"
      ]
     },
     "execution_count": 77,
     "metadata": {},
     "output_type": "execute_result"
    }
   ],
   "source": [
    "# how can I get around this, if I want to?\n",
    "\n",
    "s1 + s2   # this is translated in Python to s1.__add__(s2).  In Pandas, that becomes s1.add(s2)"
   ]
  },
  {
   "cell_type": "code",
   "execution_count": 78,
   "id": "c9b551bc",
   "metadata": {},
   "outputs": [
    {
     "data": {
      "text/plain": [
       "a      NaN\n",
       "b      NaN\n",
       "c      NaN\n",
       "d    137.0\n",
       "e    155.0\n",
       "f     97.0\n",
       "g     95.0\n",
       "h     79.0\n",
       "i    101.0\n",
       "j    126.0\n",
       "k      NaN\n",
       "l      NaN\n",
       "m      NaN\n",
       "dtype: float64"
      ]
     },
     "execution_count": 78,
     "metadata": {},
     "output_type": "execute_result"
    }
   ],
   "source": [
    "s1.add(s2)"
   ]
  },
  {
   "cell_type": "code",
   "execution_count": 79,
   "id": "b1dc8c0f",
   "metadata": {},
   "outputs": [
    {
     "data": {
      "text/plain": [
       "a     44.0\n",
       "b     47.0\n",
       "c     64.0\n",
       "d    137.0\n",
       "e    155.0\n",
       "f     97.0\n",
       "g     95.0\n",
       "h     79.0\n",
       "i    101.0\n",
       "j    126.0\n",
       "k     87.0\n",
       "l     46.0\n",
       "m     88.0\n",
       "dtype: float64"
      ]
     },
     "execution_count": 79,
     "metadata": {},
     "output_type": "execute_result"
    }
   ],
   "source": [
    "# we can pass a value to the \"fill_value\" keyword argument in s1.add, telling it what\n",
    "# value to use if the index isn't matched on the other side.\n",
    "\n",
    "s1.add(s2, fill_value=0)"
   ]
  },
  {
   "cell_type": "markdown",
   "id": "e9415b49",
   "metadata": {},
   "source": [
    "# Exercises: Indexing and series\n",
    "\n",
    "1. Create two series, each with 10 random integers from 0-100.  The first should have an index of a-j. The second should have an index of b-k.\n",
    "2. Add them together, but first predicting which indexes will give you `nan` results.\n",
    "3. Add them together, with 0 being a fill value.  Can you use a different fill value?\n",
    "4. Multiply them together, with 1 being a fill value. \n",
    "5. Sum all of the even numbers together from both of the series."
   ]
  },
  {
   "cell_type": "code",
   "execution_count": 80,
   "id": "3681875c",
   "metadata": {},
   "outputs": [],
   "source": [
    "np.random.seed(0)\n",
    "\n",
    "s1 = Series(np.random.randint(0, 100, 10), \n",
    "           index=list('abcdefghij'))\n",
    "\n",
    "s2 = Series(np.random.randint(0, 100, 10), \n",
    "           index=list('bcdefghijk'))\n",
    "\n"
   ]
  },
  {
   "cell_type": "code",
   "execution_count": 81,
   "id": "0b883285",
   "metadata": {},
   "outputs": [
    {
     "data": {
      "text/plain": [
       "a    44\n",
       "b    47\n",
       "c    64\n",
       "d    67\n",
       "e    67\n",
       "f     9\n",
       "g    83\n",
       "h    21\n",
       "i    36\n",
       "j    87\n",
       "dtype: int64"
      ]
     },
     "execution_count": 81,
     "metadata": {},
     "output_type": "execute_result"
    }
   ],
   "source": [
    "s1"
   ]
  },
  {
   "cell_type": "code",
   "execution_count": 82,
   "id": "7ee2d342",
   "metadata": {},
   "outputs": [
    {
     "data": {
      "text/plain": [
       "b    70\n",
       "c    88\n",
       "d    88\n",
       "e    12\n",
       "f    58\n",
       "g    65\n",
       "h    39\n",
       "i    87\n",
       "j    46\n",
       "k    88\n",
       "dtype: int64"
      ]
     },
     "execution_count": 82,
     "metadata": {},
     "output_type": "execute_result"
    }
   ],
   "source": [
    "s2"
   ]
  },
  {
   "cell_type": "code",
   "execution_count": 83,
   "id": "180458ca",
   "metadata": {},
   "outputs": [
    {
     "data": {
      "text/plain": [
       "a      NaN\n",
       "b    117.0\n",
       "c    152.0\n",
       "d    155.0\n",
       "e     79.0\n",
       "f     67.0\n",
       "g    148.0\n",
       "h     60.0\n",
       "i    123.0\n",
       "j    133.0\n",
       "k      NaN\n",
       "dtype: float64"
      ]
     },
     "execution_count": 83,
     "metadata": {},
     "output_type": "execute_result"
    }
   ],
   "source": [
    "# Add them together, but first predicting which indexes will give you nan results.\n",
    "\n",
    "# we should get nan for a (only in s1) and k (only in s2)\n",
    "\n",
    "s1 + s2"
   ]
  },
  {
   "cell_type": "code",
   "execution_count": 84,
   "id": "f584b70d",
   "metadata": {},
   "outputs": [
    {
     "data": {
      "text/plain": [
       "a     44.0\n",
       "b    117.0\n",
       "c    152.0\n",
       "d    155.0\n",
       "e     79.0\n",
       "f     67.0\n",
       "g    148.0\n",
       "h     60.0\n",
       "i    123.0\n",
       "j    133.0\n",
       "k     88.0\n",
       "dtype: float64"
      ]
     },
     "execution_count": 84,
     "metadata": {},
     "output_type": "execute_result"
    }
   ],
   "source": [
    "# Add them together, with 0 being a fill value.  Can you use a different fill value?\n",
    "\n",
    "s1.add(s2, fill_value=0)  # now, if any index doesn't have a match in the other series, we'll use 0"
   ]
  },
  {
   "cell_type": "code",
   "execution_count": 85,
   "id": "40488f88",
   "metadata": {},
   "outputs": [
    {
     "data": {
      "text/plain": [
       "a    167.456\n",
       "b    117.000\n",
       "c    152.000\n",
       "d    155.000\n",
       "e     79.000\n",
       "f     67.000\n",
       "g    148.000\n",
       "h     60.000\n",
       "i    123.000\n",
       "j    133.000\n",
       "k    211.456\n",
       "dtype: float64"
      ]
     },
     "execution_count": 85,
     "metadata": {},
     "output_type": "execute_result"
    }
   ],
   "source": [
    "s1.add(s2, fill_value=123.456)"
   ]
  },
  {
   "cell_type": "code",
   "execution_count": 88,
   "id": "2f61aa10",
   "metadata": {},
   "outputs": [
    {
     "data": {
      "text/plain": [
       "a      44.0\n",
       "b    3290.0\n",
       "c    5632.0\n",
       "d    5896.0\n",
       "e     804.0\n",
       "f     522.0\n",
       "g    5395.0\n",
       "h     819.0\n",
       "i    3132.0\n",
       "j    4002.0\n",
       "k      88.0\n",
       "dtype: float64"
      ]
     },
     "execution_count": 88,
     "metadata": {},
     "output_type": "execute_result"
    }
   ],
   "source": [
    "# Multiply them together, with 1 being a fill value. \n",
    "\n",
    "s1.mul(s2, fill_value=1)"
   ]
  },
  {
   "cell_type": "code",
   "execution_count": 93,
   "id": "28c532cc",
   "metadata": {},
   "outputs": [
    {
     "data": {
      "text/plain": [
       "a    44\n",
       "c    64\n",
       "i    36\n",
       "dtype: int64"
      ]
     },
     "execution_count": 93,
     "metadata": {},
     "output_type": "execute_result"
    }
   ],
   "source": [
    "# Sum all of the even numbers together from both of the series.\n",
    "\n",
    "s1[s1%2==0]   # all even items in s1\n"
   ]
  },
  {
   "cell_type": "code",
   "execution_count": 94,
   "id": "5e040b1d",
   "metadata": {},
   "outputs": [
    {
     "data": {
      "text/plain": [
       "b    70\n",
       "c    88\n",
       "d    88\n",
       "e    12\n",
       "f    58\n",
       "j    46\n",
       "k    88\n",
       "dtype: int64"
      ]
     },
     "execution_count": 94,
     "metadata": {},
     "output_type": "execute_result"
    }
   ],
   "source": [
    "s2[s2%2==0]  # all even items in s2"
   ]
  },
  {
   "cell_type": "code",
   "execution_count": 96,
   "id": "71956497",
   "metadata": {},
   "outputs": [
    {
     "data": {
      "text/plain": [
       "594.0"
      ]
     },
     "execution_count": 96,
     "metadata": {},
     "output_type": "execute_result"
    }
   ],
   "source": [
    "s1[s1%2==0].add(s2[s2%2==0], fill_value=0).sum()"
   ]
  },
  {
   "cell_type": "markdown",
   "id": "b8a9cff6",
   "metadata": {},
   "source": [
    "# Next up\n",
    "\n",
    "1. `nan` in Pandas (removing, filling)\n",
    "2. dtypes and assignment\n",
    "3. Aggregate methods and convenience methods\n",
    "4. Sorting by value\n",
    "\n",
    "Resume at :25"
   ]
  },
  {
   "cell_type": "code",
   "execution_count": 97,
   "id": "6e372e06",
   "metadata": {},
   "outputs": [
    {
     "data": {
      "text/plain": [
       "0    10\n",
       "1    20\n",
       "2    30\n",
       "3    40\n",
       "4    50\n",
       "dtype: int64"
      ]
     },
     "execution_count": 97,
     "metadata": {},
     "output_type": "execute_result"
    }
   ],
   "source": [
    "s = Series([10, 20, 30, 40, 50])\n",
    "s"
   ]
  },
  {
   "cell_type": "code",
   "execution_count": 98,
   "id": "8afbd629",
   "metadata": {},
   "outputs": [
    {
     "data": {
      "text/plain": [
       "array([10, 20, 30, 40, 50])"
      ]
     },
     "execution_count": 98,
     "metadata": {},
     "output_type": "execute_result"
    }
   ],
   "source": [
    "a = np.array([10, 20, 30, 40, 50])\n",
    "a"
   ]
  },
  {
   "cell_type": "code",
   "execution_count": 99,
   "id": "aff3b933",
   "metadata": {},
   "outputs": [
    {
     "ename": "ValueError",
     "evalue": "cannot convert float NaN to integer",
     "output_type": "error",
     "traceback": [
      "\u001b[0;31m---------------------------------------------------------------------------\u001b[0m",
      "\u001b[0;31mValueError\u001b[0m                                Traceback (most recent call last)",
      "\u001b[0;32m/var/folders/rr/0mnyyv811fs5vyp22gf4fxk00000gn/T/ipykernel_77757/1546375891.py\u001b[0m in \u001b[0;36m<module>\u001b[0;34m\u001b[0m\n\u001b[0;32m----> 1\u001b[0;31m \u001b[0ma\u001b[0m\u001b[0;34m[\u001b[0m\u001b[0;36m2\u001b[0m\u001b[0;34m]\u001b[0m \u001b[0;34m=\u001b[0m \u001b[0mnp\u001b[0m\u001b[0;34m.\u001b[0m\u001b[0mnan\u001b[0m\u001b[0;34m\u001b[0m\u001b[0;34m\u001b[0m\u001b[0m\n\u001b[0m",
      "\u001b[0;31mValueError\u001b[0m: cannot convert float NaN to integer"
     ]
    }
   ],
   "source": [
    "a[2] = np.nan"
   ]
  },
  {
   "cell_type": "code",
   "execution_count": 100,
   "id": "e8fd1233",
   "metadata": {},
   "outputs": [],
   "source": [
    "s.loc[2] = np.nan"
   ]
  },
  {
   "cell_type": "code",
   "execution_count": 101,
   "id": "c80af7d8",
   "metadata": {},
   "outputs": [
    {
     "data": {
      "text/plain": [
       "0    10.0\n",
       "1    20.0\n",
       "2     NaN\n",
       "3    40.0\n",
       "4    50.0\n",
       "dtype: float64"
      ]
     },
     "execution_count": 101,
     "metadata": {},
     "output_type": "execute_result"
    }
   ],
   "source": [
    "s"
   ]
  },
  {
   "cell_type": "code",
   "execution_count": 102,
   "id": "482e0416",
   "metadata": {},
   "outputs": [
    {
     "data": {
      "text/plain": [
       "array([10., 20., nan, 40., 50.])"
      ]
     },
     "execution_count": 102,
     "metadata": {},
     "output_type": "execute_result"
    }
   ],
   "source": [
    "a = np.array([10, 20, np.nan, 40, 50])\n",
    "a"
   ]
  },
  {
   "cell_type": "code",
   "execution_count": 103,
   "id": "56499f18",
   "metadata": {},
   "outputs": [
    {
     "data": {
      "text/plain": [
       "nan"
      ]
     },
     "execution_count": 103,
     "metadata": {},
     "output_type": "execute_result"
    }
   ],
   "source": [
    "a.mean()"
   ]
  },
  {
   "cell_type": "code",
   "execution_count": 104,
   "id": "b7ac6289",
   "metadata": {},
   "outputs": [
    {
     "data": {
      "text/plain": [
       "30.0"
      ]
     },
     "execution_count": 104,
     "metadata": {},
     "output_type": "execute_result"
    }
   ],
   "source": [
    "s.mean()    # what happens when we ask for the mean of our nan-containing series?"
   ]
  },
  {
   "cell_type": "markdown",
   "id": "f74679f8",
   "metadata": {},
   "source": [
    "# Pandas and `nan`\n",
    "\n",
    "In Pandas, much of the behavior around `nan` is the opposite of what we've seen in NumPy:\n",
    "\n",
    "- Assigning `nan` (or any float value) to a series with an integer dtype will result in the dtype changing to accommodate our data, including `nan`.\n",
    "- Invoking an aggregate method, such as `mean` or `std` on a series containing `np.nan` will *ignore* the `np.nan` value(s) when making its calculation."
   ]
  },
  {
   "cell_type": "code",
   "execution_count": 107,
   "id": "178f2d16",
   "metadata": {},
   "outputs": [
    {
     "data": {
      "text/plain": [
       "nan"
      ]
     },
     "execution_count": 107,
     "metadata": {},
     "output_type": "execute_result"
    }
   ],
   "source": [
    "# what if you really want the nan values, and want them to mess up your calculation?\n",
    "s.mean(skipna=False)"
   ]
  },
  {
   "cell_type": "code",
   "execution_count": 111,
   "id": "1801d2f8",
   "metadata": {},
   "outputs": [
    {
     "data": {
      "text/plain": [
       "30.0"
      ]
     },
     "execution_count": 111,
     "metadata": {},
     "output_type": "execute_result"
    }
   ],
   "source": [
    "s.mean()   # implicitly, skipna=True"
   ]
  },
  {
   "cell_type": "code",
   "execution_count": 112,
   "id": "4ca86e23",
   "metadata": {},
   "outputs": [
    {
     "data": {
      "text/plain": [
       "30.0"
      ]
     },
     "execution_count": 112,
     "metadata": {},
     "output_type": "execute_result"
    }
   ],
   "source": [
    "s.dropna().mean()"
   ]
  },
  {
   "cell_type": "code",
   "execution_count": 108,
   "id": "27707b3b",
   "metadata": {},
   "outputs": [
    {
     "data": {
      "text/plain": [
       "0    10.0\n",
       "1    20.0\n",
       "2     NaN\n",
       "3    40.0\n",
       "4    50.0\n",
       "dtype: float64"
      ]
     },
     "execution_count": 108,
     "metadata": {},
     "output_type": "execute_result"
    }
   ],
   "source": [
    "s"
   ]
  },
  {
   "cell_type": "code",
   "execution_count": 109,
   "id": "4e321ec7",
   "metadata": {},
   "outputs": [
    {
     "data": {
      "text/plain": [
       "0    10.0\n",
       "1    20.0\n",
       "3    40.0\n",
       "4    50.0\n",
       "dtype: float64"
      ]
     },
     "execution_count": 109,
     "metadata": {},
     "output_type": "execute_result"
    }
   ],
   "source": [
    "# if I want to get rid of the nan values, I can use \"dropna\"\n",
    "\n",
    "s.dropna()  # we get a new series back, without any nan values"
   ]
  },
  {
   "cell_type": "code",
   "execution_count": 110,
   "id": "8b7d33ab",
   "metadata": {},
   "outputs": [
    {
     "data": {
      "text/plain": [
       "0    10.0\n",
       "1    20.0\n",
       "2     NaN\n",
       "3    40.0\n",
       "4    50.0\n",
       "dtype: float64"
      ]
     },
     "execution_count": 110,
     "metadata": {},
     "output_type": "execute_result"
    }
   ],
   "source": [
    "s  # s is totally unchanged -- dropna returns a new series, not touching/changing the original one"
   ]
  },
  {
   "cell_type": "code",
   "execution_count": 113,
   "id": "2d864cc4",
   "metadata": {},
   "outputs": [
    {
     "data": {
      "text/plain": [
       "0    10.0\n",
       "1    20.0\n",
       "2     NaN\n",
       "3    40.0\n",
       "4    50.0\n",
       "dtype: float64"
      ]
     },
     "execution_count": 113,
     "metadata": {},
     "output_type": "execute_result"
    }
   ],
   "source": [
    "# fillna replaces all nan values with another value -- it returns a new series\n",
    "s"
   ]
  },
  {
   "cell_type": "code",
   "execution_count": 114,
   "id": "41d66a5a",
   "metadata": {},
   "outputs": [
    {
     "data": {
      "text/plain": [
       "0     10.0\n",
       "1     20.0\n",
       "2    999.0\n",
       "3     40.0\n",
       "4     50.0\n",
       "dtype: float64"
      ]
     },
     "execution_count": 114,
     "metadata": {},
     "output_type": "execute_result"
    }
   ],
   "source": [
    "s.fillna(999)"
   ]
  },
  {
   "cell_type": "code",
   "execution_count": 115,
   "id": "9f6dbd6c",
   "metadata": {},
   "outputs": [
    {
     "data": {
      "text/plain": [
       "0    10.0\n",
       "1    20.0\n",
       "2    30.0\n",
       "3    40.0\n",
       "4    50.0\n",
       "dtype: float64"
      ]
     },
     "execution_count": 115,
     "metadata": {},
     "output_type": "execute_result"
    }
   ],
   "source": [
    "s.fillna(s.mean())"
   ]
  },
  {
   "cell_type": "markdown",
   "id": "4b5b5c38",
   "metadata": {},
   "source": [
    "# dtypes are similar to NumPy"
   ]
  },
  {
   "cell_type": "code",
   "execution_count": 125,
   "id": "c66a5699",
   "metadata": {},
   "outputs": [],
   "source": [
    "s = Series([10, 20, 30, 40, 50], dtype=np.float16)"
   ]
  },
  {
   "cell_type": "code",
   "execution_count": 126,
   "id": "43115e45",
   "metadata": {},
   "outputs": [
    {
     "data": {
      "text/plain": [
       "0    10.0\n",
       "1    20.0\n",
       "2    30.0\n",
       "3    40.0\n",
       "4    50.0\n",
       "dtype: float16"
      ]
     },
     "execution_count": 126,
     "metadata": {},
     "output_type": "execute_result"
    }
   ],
   "source": [
    "s"
   ]
  },
  {
   "cell_type": "code",
   "execution_count": 127,
   "id": "cbcfe7f2",
   "metadata": {},
   "outputs": [],
   "source": [
    "# how can I now turn my series into a dtype of np.int64?\n",
    "# you cannot set it - -but you can use \"astype\", just like with NumPy"
   ]
  },
  {
   "cell_type": "code",
   "execution_count": 128,
   "id": "3469ae36",
   "metadata": {},
   "outputs": [
    {
     "data": {
      "text/plain": [
       "0    10\n",
       "1    20\n",
       "2    30\n",
       "3    40\n",
       "4    50\n",
       "dtype: int64"
      ]
     },
     "execution_count": 128,
     "metadata": {},
     "output_type": "execute_result"
    }
   ],
   "source": [
    "s.astype(np.int64)"
   ]
  },
  {
   "cell_type": "code",
   "execution_count": 129,
   "id": "dafa25ce",
   "metadata": {},
   "outputs": [],
   "source": [
    "s = s.astype(np.int64)"
   ]
  },
  {
   "cell_type": "code",
   "execution_count": 130,
   "id": "4a48f42c",
   "metadata": {},
   "outputs": [
    {
     "data": {
      "text/plain": [
       "0    10\n",
       "1    20\n",
       "2    30\n",
       "3    40\n",
       "4    50\n",
       "dtype: int64"
      ]
     },
     "execution_count": 130,
     "metadata": {},
     "output_type": "execute_result"
    }
   ],
   "source": [
    "s"
   ]
  },
  {
   "cell_type": "code",
   "execution_count": 131,
   "id": "c8a9f4a2",
   "metadata": {},
   "outputs": [],
   "source": [
    "s.loc[3] = 12.34"
   ]
  },
  {
   "cell_type": "code",
   "execution_count": 132,
   "id": "9e1b659f",
   "metadata": {
    "scrolled": true
   },
   "outputs": [
    {
     "data": {
      "text/plain": [
       "0    10.00\n",
       "1    20.00\n",
       "2    30.00\n",
       "3    12.34\n",
       "4    50.00\n",
       "dtype: float64"
      ]
     },
     "execution_count": 132,
     "metadata": {},
     "output_type": "execute_result"
    }
   ],
   "source": [
    "s"
   ]
  },
  {
   "cell_type": "markdown",
   "id": "260bca78",
   "metadata": {},
   "source": [
    "# Exercises with dtypes and `nan`\n",
    "\n",
    "1. Create a series containing 10 random *floats* from 0-1,000.\n",
    "2. Replace those numbers whose integer part is even with `nan`.\n",
    "3. Replace those `nan` values with the mean of the remaining numbers."
   ]
  },
  {
   "cell_type": "code",
   "execution_count": 134,
   "id": "86333607",
   "metadata": {},
   "outputs": [
    {
     "data": {
      "text/plain": [
       "0    548.813504\n",
       "1    715.189366\n",
       "2    602.763376\n",
       "3    544.883183\n",
       "4    423.654799\n",
       "5    645.894113\n",
       "6    437.587211\n",
       "7    891.773001\n",
       "8    963.662761\n",
       "9    383.441519\n",
       "dtype: float64"
      ]
     },
     "execution_count": 134,
     "metadata": {},
     "output_type": "execute_result"
    }
   ],
   "source": [
    "np.random.seed(0)\n",
    "s = Series(np.random.rand(10) * 1000)\n",
    "s"
   ]
  },
  {
   "cell_type": "code",
   "execution_count": 139,
   "id": "e1aa2bd6",
   "metadata": {},
   "outputs": [],
   "source": [
    "# let's try to find the even numbers here\n",
    "\n",
    "s.loc[s.astype(np.int64)%2==0] = np.nan"
   ]
  },
  {
   "cell_type": "code",
   "execution_count": 140,
   "id": "d7a00122",
   "metadata": {},
   "outputs": [
    {
     "data": {
      "text/plain": [
       "0           NaN\n",
       "1    715.189366\n",
       "2           NaN\n",
       "3           NaN\n",
       "4    423.654799\n",
       "5    645.894113\n",
       "6    437.587211\n",
       "7    891.773001\n",
       "8    963.662761\n",
       "9    383.441519\n",
       "dtype: float64"
      ]
     },
     "execution_count": 140,
     "metadata": {},
     "output_type": "execute_result"
    }
   ],
   "source": [
    "s"
   ]
  },
  {
   "cell_type": "code",
   "execution_count": 142,
   "id": "774f18b0",
   "metadata": {},
   "outputs": [
    {
     "data": {
      "text/plain": [
       "0    637.314681\n",
       "1    715.189366\n",
       "2    637.314681\n",
       "3    637.314681\n",
       "4    423.654799\n",
       "5    645.894113\n",
       "6    437.587211\n",
       "7    891.773001\n",
       "8    963.662761\n",
       "9    383.441519\n",
       "dtype: float64"
      ]
     },
     "execution_count": 142,
     "metadata": {},
     "output_type": "execute_result"
    }
   ],
   "source": [
    "s.fillna(s.mean())"
   ]
  },
  {
   "cell_type": "code",
   "execution_count": 143,
   "id": "e33478fe",
   "metadata": {},
   "outputs": [],
   "source": [
    "# actually assign the new series back to s\n",
    "s = s.fillna(s.mean())"
   ]
  },
  {
   "cell_type": "code",
   "execution_count": 144,
   "id": "4e4faa83",
   "metadata": {},
   "outputs": [
    {
     "data": {
      "text/plain": [
       "0    637.314681\n",
       "1    715.189366\n",
       "2    637.314681\n",
       "3    637.314681\n",
       "4    423.654799\n",
       "5    645.894113\n",
       "6    437.587211\n",
       "7    891.773001\n",
       "8    963.662761\n",
       "9    383.441519\n",
       "dtype: float64"
      ]
     },
     "execution_count": 144,
     "metadata": {},
     "output_type": "execute_result"
    }
   ],
   "source": [
    "s"
   ]
  },
  {
   "cell_type": "code",
   "execution_count": 145,
   "id": "b1476d35",
   "metadata": {},
   "outputs": [
    {
     "data": {
      "text/plain": [
       "0    637.314681\n",
       "1    715.189366\n",
       "2    637.314681\n",
       "3    637.314681\n",
       "4    423.654799\n",
       "5    645.894113\n",
       "6    437.587211\n",
       "7    891.773001\n",
       "8    963.662761\n",
       "9    383.441519\n",
       "dtype: float64"
      ]
     },
     "execution_count": 145,
     "metadata": {},
     "output_type": "execute_result"
    }
   ],
   "source": [
    "s"
   ]
  },
  {
   "cell_type": "code",
   "execution_count": 146,
   "id": "d567ffc3",
   "metadata": {},
   "outputs": [
    {
     "data": {
      "text/plain": [
       "0     39\n",
       "1     87\n",
       "2     46\n",
       "3     88\n",
       "4     81\n",
       "5     37\n",
       "6     25\n",
       "7     77\n",
       "8     72\n",
       "9      9\n",
       "10    20\n",
       "11    80\n",
       "12    69\n",
       "13    79\n",
       "14    47\n",
       "15    64\n",
       "16    82\n",
       "17    99\n",
       "18    88\n",
       "19    49\n",
       "20    29\n",
       "21    19\n",
       "22    19\n",
       "23    14\n",
       "24    39\n",
       "25    32\n",
       "26    65\n",
       "27     9\n",
       "28    57\n",
       "29    32\n",
       "30    31\n",
       "31    74\n",
       "32    23\n",
       "33    35\n",
       "34    75\n",
       "35    55\n",
       "36    28\n",
       "37    34\n",
       "38     0\n",
       "39     0\n",
       "40    36\n",
       "41    53\n",
       "42     5\n",
       "43    38\n",
       "44    17\n",
       "45    79\n",
       "46     4\n",
       "47    42\n",
       "48    58\n",
       "49    31\n",
       "dtype: int64"
      ]
     },
     "execution_count": 146,
     "metadata": {},
     "output_type": "execute_result"
    }
   ],
   "source": [
    "s = Series(np.random.randint(0, 100, 50))\n",
    "s"
   ]
  },
  {
   "cell_type": "code",
   "execution_count": 147,
   "id": "448430f7",
   "metadata": {},
   "outputs": [
    {
     "data": {
      "text/plain": [
       "0"
      ]
     },
     "execution_count": 147,
     "metadata": {},
     "output_type": "execute_result"
    }
   ],
   "source": [
    "# descriptive statistics\n",
    "s.min()"
   ]
  },
  {
   "cell_type": "code",
   "execution_count": 148,
   "id": "ca3ecab8",
   "metadata": {},
   "outputs": [
    {
     "data": {
      "text/plain": [
       "99"
      ]
     },
     "execution_count": 148,
     "metadata": {},
     "output_type": "execute_result"
    }
   ],
   "source": [
    "s.max()"
   ]
  },
  {
   "cell_type": "code",
   "execution_count": 149,
   "id": "74c2304d",
   "metadata": {},
   "outputs": [
    {
     "data": {
      "text/plain": [
       "45.42"
      ]
     },
     "execution_count": 149,
     "metadata": {},
     "output_type": "execute_result"
    }
   ],
   "source": [
    "s.mean()"
   ]
  },
  {
   "cell_type": "code",
   "execution_count": 150,
   "id": "7506999b",
   "metadata": {},
   "outputs": [
    {
     "data": {
      "text/plain": [
       "27.180492704759224"
      ]
     },
     "execution_count": 150,
     "metadata": {},
     "output_type": "execute_result"
    }
   ],
   "source": [
    "s.std()"
   ]
  },
  {
   "cell_type": "code",
   "execution_count": 151,
   "id": "102ad9f0",
   "metadata": {},
   "outputs": [
    {
     "data": {
      "text/plain": [
       "25.75"
      ]
     },
     "execution_count": 151,
     "metadata": {},
     "output_type": "execute_result"
    }
   ],
   "source": [
    "s.quantile(0.25)   # 25% mark"
   ]
  },
  {
   "cell_type": "code",
   "execution_count": 152,
   "id": "1fd2aebf",
   "metadata": {},
   "outputs": [
    {
     "data": {
      "text/plain": [
       "39.0"
      ]
     },
     "execution_count": 152,
     "metadata": {},
     "output_type": "execute_result"
    }
   ],
   "source": [
    "s.quantile(0.5)    # 50% mark, aka median"
   ]
  },
  {
   "cell_type": "code",
   "execution_count": 153,
   "id": "8c5e9365",
   "metadata": {},
   "outputs": [
    {
     "data": {
      "text/plain": [
       "71.25"
      ]
     },
     "execution_count": 153,
     "metadata": {},
     "output_type": "execute_result"
    }
   ],
   "source": [
    "s.quantile(0.75)"
   ]
  },
  {
   "cell_type": "code",
   "execution_count": 154,
   "id": "6948c6c5",
   "metadata": {},
   "outputs": [
    {
     "data": {
      "text/plain": [
       "count    50.000000\n",
       "mean     45.420000\n",
       "std      27.180493\n",
       "min       0.000000\n",
       "25%      25.750000\n",
       "50%      39.000000\n",
       "75%      71.250000\n",
       "max      99.000000\n",
       "dtype: float64"
      ]
     },
     "execution_count": 154,
     "metadata": {},
     "output_type": "execute_result"
    }
   ],
   "source": [
    "# having all of these descriptive statistics for our series would be really great\n",
    "# fortunately, Pandas provides us with such a method, namely .describe\n",
    "\n",
    "s.describe()"
   ]
  },
  {
   "cell_type": "code",
   "execution_count": 155,
   "id": "c88823e2",
   "metadata": {},
   "outputs": [
    {
     "data": {
      "text/plain": [
       "0    39\n",
       "1    87\n",
       "2    46\n",
       "3    88\n",
       "4    81\n",
       "dtype: int64"
      ]
     },
     "execution_count": 155,
     "metadata": {},
     "output_type": "execute_result"
    }
   ],
   "source": [
    "# another useful method is .head, which shows the first part of a series\n",
    "s.head()"
   ]
  },
  {
   "cell_type": "code",
   "execution_count": 156,
   "id": "ccfbbcc3",
   "metadata": {},
   "outputs": [
    {
     "data": {
      "text/plain": [
       "0    39\n",
       "1    87\n",
       "2    46\n",
       "dtype: int64"
      ]
     },
     "execution_count": 156,
     "metadata": {},
     "output_type": "execute_result"
    }
   ],
   "source": [
    "s.head(3)"
   ]
  },
  {
   "cell_type": "code",
   "execution_count": 157,
   "id": "77b6e090",
   "metadata": {},
   "outputs": [
    {
     "data": {
      "text/plain": [
       "45    79\n",
       "46     4\n",
       "47    42\n",
       "48    58\n",
       "49    31\n",
       "dtype: int64"
      ]
     },
     "execution_count": 157,
     "metadata": {},
     "output_type": "execute_result"
    }
   ],
   "source": [
    "# similarly, we have tail\n",
    "s.tail()"
   ]
  },
  {
   "cell_type": "code",
   "execution_count": 158,
   "id": "f6222f4f",
   "metadata": {},
   "outputs": [
    {
     "data": {
      "text/plain": [
       "47    42\n",
       "48    58\n",
       "49    31\n",
       "dtype: int64"
      ]
     },
     "execution_count": 158,
     "metadata": {},
     "output_type": "execute_result"
    }
   ],
   "source": [
    "s.tail(3)"
   ]
  },
  {
   "cell_type": "code",
   "execution_count": 159,
   "id": "29e0cac5",
   "metadata": {},
   "outputs": [
    {
     "data": {
      "text/plain": [
       "39    2\n",
       "9     2\n",
       "31    2\n",
       "19    2\n",
       "79    2\n",
       "0     2\n",
       "32    2\n",
       "88    2\n",
       "55    1\n",
       "42    1\n",
       "74    1\n",
       "23    1\n",
       "35    1\n",
       "75    1\n",
       "38    1\n",
       "5     1\n",
       "4     1\n",
       "34    1\n",
       "57    1\n",
       "36    1\n",
       "17    1\n",
       "53    1\n",
       "28    1\n",
       "14    1\n",
       "65    1\n",
       "87    1\n",
       "46    1\n",
       "81    1\n",
       "37    1\n",
       "25    1\n",
       "77    1\n",
       "72    1\n",
       "20    1\n",
       "80    1\n",
       "69    1\n",
       "47    1\n",
       "64    1\n",
       "82    1\n",
       "99    1\n",
       "49    1\n",
       "29    1\n",
       "58    1\n",
       "dtype: int64"
      ]
     },
     "execution_count": 159,
     "metadata": {},
     "output_type": "execute_result"
    }
   ],
   "source": [
    "# how often does each value appear?\n",
    "s.value_counts()"
   ]
  },
  {
   "cell_type": "code",
   "execution_count": 160,
   "id": "cca48df3",
   "metadata": {},
   "outputs": [],
   "source": [
    "s = Series([10, 20, 30, 10, 10, 30, np.nan])"
   ]
  },
  {
   "cell_type": "code",
   "execution_count": 161,
   "id": "77a8637c",
   "metadata": {},
   "outputs": [
    {
     "data": {
      "text/plain": [
       "10.0    3\n",
       "30.0    2\n",
       "20.0    1\n",
       "dtype: int64"
      ]
     },
     "execution_count": 161,
     "metadata": {},
     "output_type": "execute_result"
    }
   ],
   "source": [
    "s.value_counts()"
   ]
  },
  {
   "cell_type": "code",
   "execution_count": 163,
   "id": "43efb5c6",
   "metadata": {},
   "outputs": [
    {
     "data": {
      "text/plain": [
       "10.0    3\n",
       "30.0    2\n",
       "20.0    1\n",
       "NaN     1\n",
       "dtype: int64"
      ]
     },
     "execution_count": 163,
     "metadata": {},
     "output_type": "execute_result"
    }
   ],
   "source": [
    "s.value_counts(dropna=False)"
   ]
  },
  {
   "cell_type": "markdown",
   "id": "1adfce6c",
   "metadata": {},
   "source": [
    "# Exercises: Weather forecast\n",
    "\n",
    "1. Create a series in which the values are the forecast high temperatures in the next 10-12 days.  The index should be a list of strings containing the dates in 'MMDD' format.\n",
    "2. What 2 temperatures occur the greatest number of times?\n",
    "3. Get descriptive statistics for the weather forecast."
   ]
  },
  {
   "cell_type": "code",
   "execution_count": 165,
   "id": "7ed3fa72",
   "metadata": {},
   "outputs": [],
   "source": [
    "s = Series([30, 31, 33, 34, 34, 30, 28, 29, 28, 29, 29, 31, 31, 32],\n",
    "          index='0607 0608 0609 0610 0611 0612 0613 0614 0615 0616 0617 0618 0619 0620'.split())"
   ]
  },
  {
   "cell_type": "code",
   "execution_count": 166,
   "id": "1deb6f68",
   "metadata": {},
   "outputs": [
    {
     "data": {
      "text/plain": [
       "0607    30\n",
       "0608    31\n",
       "0609    33\n",
       "0610    34\n",
       "0611    34\n",
       "0612    30\n",
       "0613    28\n",
       "0614    29\n",
       "0615    28\n",
       "0616    29\n",
       "0617    29\n",
       "0618    31\n",
       "0619    31\n",
       "0620    32\n",
       "dtype: int64"
      ]
     },
     "execution_count": 166,
     "metadata": {},
     "output_type": "execute_result"
    }
   ],
   "source": [
    "s"
   ]
  },
  {
   "cell_type": "code",
   "execution_count": 167,
   "id": "c13763ff",
   "metadata": {},
   "outputs": [
    {
     "data": {
      "text/plain": [
       "31    3\n",
       "29    3\n",
       "30    2\n",
       "34    2\n",
       "28    2\n",
       "33    1\n",
       "32    1\n",
       "dtype: int64"
      ]
     },
     "execution_count": 167,
     "metadata": {},
     "output_type": "execute_result"
    }
   ],
   "source": [
    "s.value_counts()"
   ]
  },
  {
   "cell_type": "code",
   "execution_count": 168,
   "id": "ddeacf72",
   "metadata": {},
   "outputs": [
    {
     "data": {
      "text/plain": [
       "31    3\n",
       "29    3\n",
       "dtype: int64"
      ]
     },
     "execution_count": 168,
     "metadata": {},
     "output_type": "execute_result"
    }
   ],
   "source": [
    "s.value_counts().head(2)"
   ]
  },
  {
   "cell_type": "code",
   "execution_count": 169,
   "id": "fff5f881",
   "metadata": {
    "scrolled": true
   },
   "outputs": [
    {
     "data": {
      "text/plain": [
       "count    14.000000\n",
       "mean     30.642857\n",
       "std       2.023217\n",
       "min      28.000000\n",
       "25%      29.000000\n",
       "50%      30.500000\n",
       "75%      31.750000\n",
       "max      34.000000\n",
       "dtype: float64"
      ]
     },
     "execution_count": 169,
     "metadata": {},
     "output_type": "execute_result"
    }
   ],
   "source": [
    "s.describe()"
   ]
  },
  {
   "cell_type": "markdown",
   "id": "bb9b3640",
   "metadata": {},
   "source": [
    "# Sorting\n",
    "\n",
    "Yesterday, we saw that we can sort a NumPy array using `np.sort`.\n",
    "\n",
    "In Pandas, we actually have two different ways to sort a series:\n",
    "\n",
    "- Sort by values\n",
    "- Sort by the index"
   ]
  },
  {
   "cell_type": "code",
   "execution_count": 171,
   "id": "8c190be8",
   "metadata": {},
   "outputs": [
    {
     "data": {
      "text/plain": [
       "0613    28\n",
       "0615    28\n",
       "0614    29\n",
       "0616    29\n",
       "0617    29\n",
       "0607    30\n",
       "0612    30\n",
       "0608    31\n",
       "0618    31\n",
       "0619    31\n",
       "0620    32\n",
       "0609    33\n",
       "0610    34\n",
       "0611    34\n",
       "dtype: int64"
      ]
     },
     "execution_count": 171,
     "metadata": {},
     "output_type": "execute_result"
    }
   ],
   "source": [
    "s.sort_values()  # returns a new series, with the old series' index and values, sorted ascending"
   ]
  },
  {
   "cell_type": "code",
   "execution_count": 172,
   "id": "7a575343",
   "metadata": {},
   "outputs": [
    {
     "data": {
      "text/plain": [
       "0610    34\n",
       "0611    34\n",
       "0609    33\n",
       "0620    32\n",
       "0608    31\n",
       "0618    31\n",
       "0619    31\n",
       "0607    30\n",
       "0612    30\n",
       "0614    29\n",
       "0616    29\n",
       "0617    29\n",
       "0613    28\n",
       "0615    28\n",
       "dtype: int64"
      ]
     },
     "execution_count": 172,
     "metadata": {},
     "output_type": "execute_result"
    }
   ],
   "source": [
    "s.sort_values(ascending=False)"
   ]
  },
  {
   "cell_type": "code",
   "execution_count": 174,
   "id": "e45a0184",
   "metadata": {},
   "outputs": [
    {
     "data": {
      "text/plain": [
       "0610    34\n",
       "0611    34\n",
       "0609    33\n",
       "dtype: int64"
      ]
     },
     "execution_count": 174,
     "metadata": {},
     "output_type": "execute_result"
    }
   ],
   "source": [
    "# What are the three highest temperatures we'll see?\n",
    "s.sort_values(ascending=False).head(3)"
   ]
  },
  {
   "cell_type": "code",
   "execution_count": 175,
   "id": "a666cf3f",
   "metadata": {},
   "outputs": [
    {
     "data": {
      "text/plain": [
       "0607    30\n",
       "0608    31\n",
       "0609    33\n",
       "0610    34\n",
       "0611    34\n",
       "0612    30\n",
       "0613    28\n",
       "0614    29\n",
       "0615    28\n",
       "0616    29\n",
       "0617    29\n",
       "0618    31\n",
       "0619    31\n",
       "0620    32\n",
       "dtype: int64"
      ]
     },
     "execution_count": 175,
     "metadata": {},
     "output_type": "execute_result"
    }
   ],
   "source": [
    "# let's sort by the index, instead\n",
    "\n",
    "s.sort_index()"
   ]
  },
  {
   "cell_type": "code",
   "execution_count": 176,
   "id": "e1590430",
   "metadata": {},
   "outputs": [
    {
     "data": {
      "text/plain": [
       "0620    32\n",
       "0619    31\n",
       "0618    31\n",
       "0617    29\n",
       "0616    29\n",
       "0615    28\n",
       "0614    29\n",
       "0613    28\n",
       "0612    30\n",
       "0611    34\n",
       "0610    34\n",
       "0609    33\n",
       "0608    31\n",
       "0607    30\n",
       "dtype: int64"
      ]
     },
     "execution_count": 176,
     "metadata": {},
     "output_type": "execute_result"
    }
   ],
   "source": [
    "s.sort_index(ascending=False)"
   ]
  },
  {
   "cell_type": "code",
   "execution_count": 177,
   "id": "4485e6fc",
   "metadata": {},
   "outputs": [
    {
     "name": "stdout",
     "output_type": "stream",
     "text": [
      "Help on method sort_values in module pandas.core.series:\n",
      "\n",
      "sort_values(axis=0, ascending: 'bool | int | Sequence[bool | int]' = True, inplace: 'bool' = False, kind: 'str' = 'quicksort', na_position: 'str' = 'last', ignore_index: 'bool' = False, key: 'ValueKeyFunc' = None) method of pandas.core.series.Series instance\n",
      "    Sort by the values.\n",
      "    \n",
      "    Sort a Series in ascending or descending order by some\n",
      "    criterion.\n",
      "    \n",
      "    Parameters\n",
      "    ----------\n",
      "    axis : {0 or 'index'}, default 0\n",
      "        Axis to direct sorting. The value 'index' is accepted for\n",
      "        compatibility with DataFrame.sort_values.\n",
      "    ascending : bool or list of bools, default True\n",
      "        If True, sort values in ascending order, otherwise descending.\n",
      "    inplace : bool, default False\n",
      "        If True, perform operation in-place.\n",
      "    kind : {'quicksort', 'mergesort', 'heapsort', 'stable'}, default 'quicksort'\n",
      "        Choice of sorting algorithm. See also :func:`numpy.sort` for more\n",
      "        information. 'mergesort' and 'stable' are the only stable  algorithms.\n",
      "    na_position : {'first' or 'last'}, default 'last'\n",
      "        Argument 'first' puts NaNs at the beginning, 'last' puts NaNs at\n",
      "        the end.\n",
      "    ignore_index : bool, default False\n",
      "        If True, the resulting axis will be labeled 0, 1, …, n - 1.\n",
      "    \n",
      "        .. versionadded:: 1.0.0\n",
      "    \n",
      "    key : callable, optional\n",
      "        If not None, apply the key function to the series values\n",
      "        before sorting. This is similar to the `key` argument in the\n",
      "        builtin :meth:`sorted` function, with the notable difference that\n",
      "        this `key` function should be *vectorized*. It should expect a\n",
      "        ``Series`` and return an array-like.\n",
      "    \n",
      "        .. versionadded:: 1.1.0\n",
      "    \n",
      "    Returns\n",
      "    -------\n",
      "    Series or None\n",
      "        Series ordered by values or None if ``inplace=True``.\n",
      "    \n",
      "    See Also\n",
      "    --------\n",
      "    Series.sort_index : Sort by the Series indices.\n",
      "    DataFrame.sort_values : Sort DataFrame by the values along either axis.\n",
      "    DataFrame.sort_index : Sort DataFrame by indices.\n",
      "    \n",
      "    Examples\n",
      "    --------\n",
      "    >>> s = pd.Series([np.nan, 1, 3, 10, 5])\n",
      "    >>> s\n",
      "    0     NaN\n",
      "    1     1.0\n",
      "    2     3.0\n",
      "    3     10.0\n",
      "    4     5.0\n",
      "    dtype: float64\n",
      "    \n",
      "    Sort values ascending order (default behaviour)\n",
      "    \n",
      "    >>> s.sort_values(ascending=True)\n",
      "    1     1.0\n",
      "    2     3.0\n",
      "    4     5.0\n",
      "    3    10.0\n",
      "    0     NaN\n",
      "    dtype: float64\n",
      "    \n",
      "    Sort values descending order\n",
      "    \n",
      "    >>> s.sort_values(ascending=False)\n",
      "    3    10.0\n",
      "    4     5.0\n",
      "    2     3.0\n",
      "    1     1.0\n",
      "    0     NaN\n",
      "    dtype: float64\n",
      "    \n",
      "    Sort values inplace\n",
      "    \n",
      "    >>> s.sort_values(ascending=False, inplace=True)\n",
      "    >>> s\n",
      "    3    10.0\n",
      "    4     5.0\n",
      "    2     3.0\n",
      "    1     1.0\n",
      "    0     NaN\n",
      "    dtype: float64\n",
      "    \n",
      "    Sort values putting NAs first\n",
      "    \n",
      "    >>> s.sort_values(na_position='first')\n",
      "    0     NaN\n",
      "    1     1.0\n",
      "    2     3.0\n",
      "    4     5.0\n",
      "    3    10.0\n",
      "    dtype: float64\n",
      "    \n",
      "    Sort a series of strings\n",
      "    \n",
      "    >>> s = pd.Series(['z', 'b', 'd', 'a', 'c'])\n",
      "    >>> s\n",
      "    0    z\n",
      "    1    b\n",
      "    2    d\n",
      "    3    a\n",
      "    4    c\n",
      "    dtype: object\n",
      "    \n",
      "    >>> s.sort_values()\n",
      "    3    a\n",
      "    1    b\n",
      "    4    c\n",
      "    2    d\n",
      "    0    z\n",
      "    dtype: object\n",
      "    \n",
      "    Sort using a key function. Your `key` function will be\n",
      "    given the ``Series`` of values and should return an array-like.\n",
      "    \n",
      "    >>> s = pd.Series(['a', 'B', 'c', 'D', 'e'])\n",
      "    >>> s.sort_values()\n",
      "    1    B\n",
      "    3    D\n",
      "    0    a\n",
      "    2    c\n",
      "    4    e\n",
      "    dtype: object\n",
      "    >>> s.sort_values(key=lambda x: x.str.lower())\n",
      "    0    a\n",
      "    1    B\n",
      "    2    c\n",
      "    3    D\n",
      "    4    e\n",
      "    dtype: object\n",
      "    \n",
      "    NumPy ufuncs work well here. For example, we can\n",
      "    sort by the ``sin`` of the value\n",
      "    \n",
      "    >>> s = pd.Series([-4, -2, 0, 2, 4])\n",
      "    >>> s.sort_values(key=np.sin)\n",
      "    1   -2\n",
      "    4    4\n",
      "    2    0\n",
      "    0   -4\n",
      "    3    2\n",
      "    dtype: int64\n",
      "    \n",
      "    More complicated user-defined functions can be used,\n",
      "    as long as they expect a Series and return an array-like\n",
      "    \n",
      "    >>> s.sort_values(key=lambda x: (np.tan(x.cumsum())))\n",
      "    0   -4\n",
      "    3    2\n",
      "    4    4\n",
      "    1   -2\n",
      "    2    0\n",
      "    dtype: int64\n",
      "\n"
     ]
    }
   ],
   "source": [
    "help(s.sort_values)"
   ]
  },
  {
   "cell_type": "markdown",
   "id": "8d13b7d1",
   "metadata": {},
   "source": [
    "# Strings\n",
    "\n",
    "Python offers powerful strings, and NumPy arrays can contain strings."
   ]
  },
  {
   "cell_type": "code",
   "execution_count": 178,
   "id": "70c1e3a2",
   "metadata": {},
   "outputs": [],
   "source": [
    "a = np.array('this is a test'.split())"
   ]
  },
  {
   "cell_type": "code",
   "execution_count": 179,
   "id": "aa49c133",
   "metadata": {},
   "outputs": [
    {
     "data": {
      "text/plain": [
       "array(['this', 'is', 'a', 'test'], dtype='<U4')"
      ]
     },
     "execution_count": 179,
     "metadata": {},
     "output_type": "execute_result"
    }
   ],
   "source": [
    "a"
   ]
  },
  {
   "cell_type": "code",
   "execution_count": 180,
   "id": "2bfff1d6",
   "metadata": {},
   "outputs": [],
   "source": [
    "a[0] = 'pqrstuv'"
   ]
  },
  {
   "cell_type": "code",
   "execution_count": 181,
   "id": "04b5d37c",
   "metadata": {},
   "outputs": [
    {
     "data": {
      "text/plain": [
       "array(['pqrs', 'is', 'a', 'test'], dtype='<U4')"
      ]
     },
     "execution_count": 181,
     "metadata": {},
     "output_type": "execute_result"
    }
   ],
   "source": [
    "a"
   ]
  },
  {
   "cell_type": "code",
   "execution_count": 184,
   "id": "bf63d369",
   "metadata": {},
   "outputs": [],
   "source": [
    "s = Series('this is a test'.split())  # dtype will be \"object\", meaning: Python objects"
   ]
  },
  {
   "cell_type": "code",
   "execution_count": 185,
   "id": "9701ada9",
   "metadata": {},
   "outputs": [
    {
     "data": {
      "text/plain": [
       "0    this\n",
       "1      is\n",
       "2       a\n",
       "3    test\n",
       "dtype: object"
      ]
     },
     "execution_count": 185,
     "metadata": {},
     "output_type": "execute_result"
    }
   ],
   "source": [
    "s"
   ]
  },
  {
   "cell_type": "code",
   "execution_count": 186,
   "id": "46149a9f",
   "metadata": {},
   "outputs": [
    {
     "data": {
      "text/plain": [
       "4"
      ]
     },
     "execution_count": 186,
     "metadata": {},
     "output_type": "execute_result"
    }
   ],
   "source": [
    "# how many characters are in each word?\n",
    "\n",
    "\n",
    "len(s)"
   ]
  },
  {
   "cell_type": "markdown",
   "id": "a3f8715e",
   "metadata": {},
   "source": [
    "# Working with strings in Pandas\n",
    "\n",
    "A Pandas series has an `.str` attribute, which is used to access string functionality. This functionality includes all of the methods provided by the Python `str` class, plus a bunch of other convenience methods that you might want to use. \n",
    "\n",
    "So *never* use a `for` loop on your Pandas series.  Instead, find the appropriate method via `.str`, and apply it on the series."
   ]
  },
  {
   "cell_type": "code",
   "execution_count": 187,
   "id": "5aff45cc",
   "metadata": {},
   "outputs": [
    {
     "data": {
      "text/plain": [
       "0    4\n",
       "1    2\n",
       "2    1\n",
       "3    4\n",
       "dtype: int64"
      ]
     },
     "execution_count": 187,
     "metadata": {},
     "output_type": "execute_result"
    }
   ],
   "source": [
    "s.str.len()   # this means: run len() on each element of s, and return a series with its results"
   ]
  },
  {
   "cell_type": "code",
   "execution_count": 188,
   "id": "a027bf3c",
   "metadata": {},
   "outputs": [
    {
     "data": {
      "text/plain": [
       "0    False\n",
       "1    False\n",
       "2     True\n",
       "3    False\n",
       "dtype: bool"
      ]
     },
     "execution_count": 188,
     "metadata": {},
     "output_type": "execute_result"
    }
   ],
   "source": [
    "# another method: contains\n",
    "\n",
    "s.str.contains('a')  # sort of like the \"in\" operator -- does the argument string appear in each element of s?"
   ]
  },
  {
   "cell_type": "code",
   "execution_count": 189,
   "id": "1099bcd8",
   "metadata": {},
   "outputs": [
    {
     "data": {
      "text/plain": [
       "0    False\n",
       "1    False\n",
       "2    False\n",
       "3     True\n",
       "dtype: bool"
      ]
     },
     "execution_count": 189,
     "metadata": {},
     "output_type": "execute_result"
    }
   ],
   "source": [
    "s.str.contains('e')"
   ]
  },
  {
   "cell_type": "code",
   "execution_count": 190,
   "id": "449758fa",
   "metadata": {},
   "outputs": [
    {
     "data": {
      "text/plain": [
       "0    False\n",
       "1    False\n",
       "2     True\n",
       "3     True\n",
       "dtype: bool"
      ]
     },
     "execution_count": 190,
     "metadata": {},
     "output_type": "execute_result"
    }
   ],
   "source": [
    "# contains can actually look for a regular expression\n",
    "\n",
    "s.str.contains('[ae]')  # does it contain either a or e?"
   ]
  },
  {
   "cell_type": "code",
   "execution_count": 191,
   "id": "a58db3d0",
   "metadata": {},
   "outputs": [
    {
     "data": {
      "text/plain": [
       "0    False\n",
       "1    False\n",
       "2    False\n",
       "3    False\n",
       "dtype: bool"
      ]
     },
     "execution_count": 191,
     "metadata": {},
     "output_type": "execute_result"
    }
   ],
   "source": [
    "s.str.isdigit()  # can I turn each of these elements into an integer?"
   ]
  },
  {
   "cell_type": "code",
   "execution_count": 192,
   "id": "1c1fe2b0",
   "metadata": {},
   "outputs": [
    {
     "data": {
      "text/plain": [
       "0    ab\n",
       "1    12\n",
       "2    cd\n",
       "3    34\n",
       "dtype: object"
      ]
     },
     "execution_count": 192,
     "metadata": {},
     "output_type": "execute_result"
    }
   ],
   "source": [
    "s = Series('ab 12 cd 34'.split())\n",
    "s"
   ]
  },
  {
   "cell_type": "code",
   "execution_count": 193,
   "id": "0b8615a0",
   "metadata": {},
   "outputs": [
    {
     "ename": "ValueError",
     "evalue": "invalid literal for int() with base 10: 'ab'",
     "output_type": "error",
     "traceback": [
      "\u001b[0;31m---------------------------------------------------------------------------\u001b[0m",
      "\u001b[0;31mValueError\u001b[0m                                Traceback (most recent call last)",
      "\u001b[0;32m/var/folders/rr/0mnyyv811fs5vyp22gf4fxk00000gn/T/ipykernel_77757/3235199183.py\u001b[0m in \u001b[0;36m<module>\u001b[0;34m\u001b[0m\n\u001b[0;32m----> 1\u001b[0;31m \u001b[0ms\u001b[0m\u001b[0;34m.\u001b[0m\u001b[0mastype\u001b[0m\u001b[0;34m(\u001b[0m\u001b[0mnp\u001b[0m\u001b[0;34m.\u001b[0m\u001b[0mint64\u001b[0m\u001b[0;34m)\u001b[0m  \u001b[0;31m# let's convert our series to a bunch of integers\u001b[0m\u001b[0;34m\u001b[0m\u001b[0;34m\u001b[0m\u001b[0m\n\u001b[0m",
      "\u001b[0;32m/usr/local/lib/python3.10/site-packages/pandas/core/generic.py\u001b[0m in \u001b[0;36mastype\u001b[0;34m(self, dtype, copy, errors)\u001b[0m\n\u001b[1;32m   5910\u001b[0m         \u001b[0;32melse\u001b[0m\u001b[0;34m:\u001b[0m\u001b[0;34m\u001b[0m\u001b[0;34m\u001b[0m\u001b[0m\n\u001b[1;32m   5911\u001b[0m             \u001b[0;31m# else, only a single dtype is given\u001b[0m\u001b[0;34m\u001b[0m\u001b[0;34m\u001b[0m\u001b[0m\n\u001b[0;32m-> 5912\u001b[0;31m             \u001b[0mnew_data\u001b[0m \u001b[0;34m=\u001b[0m \u001b[0mself\u001b[0m\u001b[0;34m.\u001b[0m\u001b[0m_mgr\u001b[0m\u001b[0;34m.\u001b[0m\u001b[0mastype\u001b[0m\u001b[0;34m(\u001b[0m\u001b[0mdtype\u001b[0m\u001b[0;34m=\u001b[0m\u001b[0mdtype\u001b[0m\u001b[0;34m,\u001b[0m \u001b[0mcopy\u001b[0m\u001b[0;34m=\u001b[0m\u001b[0mcopy\u001b[0m\u001b[0;34m,\u001b[0m \u001b[0merrors\u001b[0m\u001b[0;34m=\u001b[0m\u001b[0merrors\u001b[0m\u001b[0;34m)\u001b[0m\u001b[0;34m\u001b[0m\u001b[0;34m\u001b[0m\u001b[0m\n\u001b[0m\u001b[1;32m   5913\u001b[0m             \u001b[0;32mreturn\u001b[0m \u001b[0mself\u001b[0m\u001b[0;34m.\u001b[0m\u001b[0m_constructor\u001b[0m\u001b[0;34m(\u001b[0m\u001b[0mnew_data\u001b[0m\u001b[0;34m)\u001b[0m\u001b[0;34m.\u001b[0m\u001b[0m__finalize__\u001b[0m\u001b[0;34m(\u001b[0m\u001b[0mself\u001b[0m\u001b[0;34m,\u001b[0m \u001b[0mmethod\u001b[0m\u001b[0;34m=\u001b[0m\u001b[0;34m\"astype\"\u001b[0m\u001b[0;34m)\u001b[0m\u001b[0;34m\u001b[0m\u001b[0;34m\u001b[0m\u001b[0m\n\u001b[1;32m   5914\u001b[0m \u001b[0;34m\u001b[0m\u001b[0m\n",
      "\u001b[0;32m/usr/local/lib/python3.10/site-packages/pandas/core/internals/managers.py\u001b[0m in \u001b[0;36mastype\u001b[0;34m(self, dtype, copy, errors)\u001b[0m\n\u001b[1;32m    417\u001b[0m \u001b[0;34m\u001b[0m\u001b[0m\n\u001b[1;32m    418\u001b[0m     \u001b[0;32mdef\u001b[0m \u001b[0mastype\u001b[0m\u001b[0;34m(\u001b[0m\u001b[0mself\u001b[0m\u001b[0;34m:\u001b[0m \u001b[0mT\u001b[0m\u001b[0;34m,\u001b[0m \u001b[0mdtype\u001b[0m\u001b[0;34m,\u001b[0m \u001b[0mcopy\u001b[0m\u001b[0;34m:\u001b[0m \u001b[0mbool\u001b[0m \u001b[0;34m=\u001b[0m \u001b[0;32mFalse\u001b[0m\u001b[0;34m,\u001b[0m \u001b[0merrors\u001b[0m\u001b[0;34m:\u001b[0m \u001b[0mstr\u001b[0m \u001b[0;34m=\u001b[0m \u001b[0;34m\"raise\"\u001b[0m\u001b[0;34m)\u001b[0m \u001b[0;34m->\u001b[0m \u001b[0mT\u001b[0m\u001b[0;34m:\u001b[0m\u001b[0;34m\u001b[0m\u001b[0;34m\u001b[0m\u001b[0m\n\u001b[0;32m--> 419\u001b[0;31m         \u001b[0;32mreturn\u001b[0m \u001b[0mself\u001b[0m\u001b[0;34m.\u001b[0m\u001b[0mapply\u001b[0m\u001b[0;34m(\u001b[0m\u001b[0;34m\"astype\"\u001b[0m\u001b[0;34m,\u001b[0m \u001b[0mdtype\u001b[0m\u001b[0;34m=\u001b[0m\u001b[0mdtype\u001b[0m\u001b[0;34m,\u001b[0m \u001b[0mcopy\u001b[0m\u001b[0;34m=\u001b[0m\u001b[0mcopy\u001b[0m\u001b[0;34m,\u001b[0m \u001b[0merrors\u001b[0m\u001b[0;34m=\u001b[0m\u001b[0merrors\u001b[0m\u001b[0;34m)\u001b[0m\u001b[0;34m\u001b[0m\u001b[0;34m\u001b[0m\u001b[0m\n\u001b[0m\u001b[1;32m    420\u001b[0m \u001b[0;34m\u001b[0m\u001b[0m\n\u001b[1;32m    421\u001b[0m     def convert(\n",
      "\u001b[0;32m/usr/local/lib/python3.10/site-packages/pandas/core/internals/managers.py\u001b[0m in \u001b[0;36mapply\u001b[0;34m(self, f, align_keys, ignore_failures, **kwargs)\u001b[0m\n\u001b[1;32m    302\u001b[0m                     \u001b[0mapplied\u001b[0m \u001b[0;34m=\u001b[0m \u001b[0mb\u001b[0m\u001b[0;34m.\u001b[0m\u001b[0mapply\u001b[0m\u001b[0;34m(\u001b[0m\u001b[0mf\u001b[0m\u001b[0;34m,\u001b[0m \u001b[0;34m**\u001b[0m\u001b[0mkwargs\u001b[0m\u001b[0;34m)\u001b[0m\u001b[0;34m\u001b[0m\u001b[0;34m\u001b[0m\u001b[0m\n\u001b[1;32m    303\u001b[0m                 \u001b[0;32melse\u001b[0m\u001b[0;34m:\u001b[0m\u001b[0;34m\u001b[0m\u001b[0;34m\u001b[0m\u001b[0m\n\u001b[0;32m--> 304\u001b[0;31m                     \u001b[0mapplied\u001b[0m \u001b[0;34m=\u001b[0m \u001b[0mgetattr\u001b[0m\u001b[0;34m(\u001b[0m\u001b[0mb\u001b[0m\u001b[0;34m,\u001b[0m \u001b[0mf\u001b[0m\u001b[0;34m)\u001b[0m\u001b[0;34m(\u001b[0m\u001b[0;34m**\u001b[0m\u001b[0mkwargs\u001b[0m\u001b[0;34m)\u001b[0m\u001b[0;34m\u001b[0m\u001b[0;34m\u001b[0m\u001b[0m\n\u001b[0m\u001b[1;32m    305\u001b[0m             \u001b[0;32mexcept\u001b[0m \u001b[0;34m(\u001b[0m\u001b[0mTypeError\u001b[0m\u001b[0;34m,\u001b[0m \u001b[0mNotImplementedError\u001b[0m\u001b[0;34m)\u001b[0m\u001b[0;34m:\u001b[0m\u001b[0;34m\u001b[0m\u001b[0;34m\u001b[0m\u001b[0m\n\u001b[1;32m    306\u001b[0m                 \u001b[0;32mif\u001b[0m \u001b[0;32mnot\u001b[0m \u001b[0mignore_failures\u001b[0m\u001b[0;34m:\u001b[0m\u001b[0;34m\u001b[0m\u001b[0;34m\u001b[0m\u001b[0m\n",
      "\u001b[0;32m/usr/local/lib/python3.10/site-packages/pandas/core/internals/blocks.py\u001b[0m in \u001b[0;36mastype\u001b[0;34m(self, dtype, copy, errors)\u001b[0m\n\u001b[1;32m    578\u001b[0m         \u001b[0mvalues\u001b[0m \u001b[0;34m=\u001b[0m \u001b[0mself\u001b[0m\u001b[0;34m.\u001b[0m\u001b[0mvalues\u001b[0m\u001b[0;34m\u001b[0m\u001b[0;34m\u001b[0m\u001b[0m\n\u001b[1;32m    579\u001b[0m \u001b[0;34m\u001b[0m\u001b[0m\n\u001b[0;32m--> 580\u001b[0;31m         \u001b[0mnew_values\u001b[0m \u001b[0;34m=\u001b[0m \u001b[0mastype_array_safe\u001b[0m\u001b[0;34m(\u001b[0m\u001b[0mvalues\u001b[0m\u001b[0;34m,\u001b[0m \u001b[0mdtype\u001b[0m\u001b[0;34m,\u001b[0m \u001b[0mcopy\u001b[0m\u001b[0;34m=\u001b[0m\u001b[0mcopy\u001b[0m\u001b[0;34m,\u001b[0m \u001b[0merrors\u001b[0m\u001b[0;34m=\u001b[0m\u001b[0merrors\u001b[0m\u001b[0;34m)\u001b[0m\u001b[0;34m\u001b[0m\u001b[0;34m\u001b[0m\u001b[0m\n\u001b[0m\u001b[1;32m    581\u001b[0m \u001b[0;34m\u001b[0m\u001b[0m\n\u001b[1;32m    582\u001b[0m         \u001b[0mnew_values\u001b[0m \u001b[0;34m=\u001b[0m \u001b[0mmaybe_coerce_values\u001b[0m\u001b[0;34m(\u001b[0m\u001b[0mnew_values\u001b[0m\u001b[0;34m)\u001b[0m\u001b[0;34m\u001b[0m\u001b[0;34m\u001b[0m\u001b[0m\n",
      "\u001b[0;32m/usr/local/lib/python3.10/site-packages/pandas/core/dtypes/cast.py\u001b[0m in \u001b[0;36mastype_array_safe\u001b[0;34m(values, dtype, copy, errors)\u001b[0m\n\u001b[1;32m   1290\u001b[0m \u001b[0;34m\u001b[0m\u001b[0m\n\u001b[1;32m   1291\u001b[0m     \u001b[0;32mtry\u001b[0m\u001b[0;34m:\u001b[0m\u001b[0;34m\u001b[0m\u001b[0;34m\u001b[0m\u001b[0m\n\u001b[0;32m-> 1292\u001b[0;31m         \u001b[0mnew_values\u001b[0m \u001b[0;34m=\u001b[0m \u001b[0mastype_array\u001b[0m\u001b[0;34m(\u001b[0m\u001b[0mvalues\u001b[0m\u001b[0;34m,\u001b[0m \u001b[0mdtype\u001b[0m\u001b[0;34m,\u001b[0m \u001b[0mcopy\u001b[0m\u001b[0;34m=\u001b[0m\u001b[0mcopy\u001b[0m\u001b[0;34m)\u001b[0m\u001b[0;34m\u001b[0m\u001b[0;34m\u001b[0m\u001b[0m\n\u001b[0m\u001b[1;32m   1293\u001b[0m     \u001b[0;32mexcept\u001b[0m \u001b[0;34m(\u001b[0m\u001b[0mValueError\u001b[0m\u001b[0;34m,\u001b[0m \u001b[0mTypeError\u001b[0m\u001b[0;34m)\u001b[0m\u001b[0;34m:\u001b[0m\u001b[0;34m\u001b[0m\u001b[0;34m\u001b[0m\u001b[0m\n\u001b[1;32m   1294\u001b[0m         \u001b[0;31m# e.g. astype_nansafe can fail on object-dtype of strings\u001b[0m\u001b[0;34m\u001b[0m\u001b[0;34m\u001b[0m\u001b[0m\n",
      "\u001b[0;32m/usr/local/lib/python3.10/site-packages/pandas/core/dtypes/cast.py\u001b[0m in \u001b[0;36mastype_array\u001b[0;34m(values, dtype, copy)\u001b[0m\n\u001b[1;32m   1235\u001b[0m \u001b[0;34m\u001b[0m\u001b[0m\n\u001b[1;32m   1236\u001b[0m     \u001b[0;32melse\u001b[0m\u001b[0;34m:\u001b[0m\u001b[0;34m\u001b[0m\u001b[0;34m\u001b[0m\u001b[0m\n\u001b[0;32m-> 1237\u001b[0;31m         \u001b[0mvalues\u001b[0m \u001b[0;34m=\u001b[0m \u001b[0mastype_nansafe\u001b[0m\u001b[0;34m(\u001b[0m\u001b[0mvalues\u001b[0m\u001b[0;34m,\u001b[0m \u001b[0mdtype\u001b[0m\u001b[0;34m,\u001b[0m \u001b[0mcopy\u001b[0m\u001b[0;34m=\u001b[0m\u001b[0mcopy\u001b[0m\u001b[0;34m)\u001b[0m\u001b[0;34m\u001b[0m\u001b[0;34m\u001b[0m\u001b[0m\n\u001b[0m\u001b[1;32m   1238\u001b[0m \u001b[0;34m\u001b[0m\u001b[0m\n\u001b[1;32m   1239\u001b[0m     \u001b[0;31m# in pandas we don't store numpy str dtypes, so convert to object\u001b[0m\u001b[0;34m\u001b[0m\u001b[0;34m\u001b[0m\u001b[0m\n",
      "\u001b[0;32m/usr/local/lib/python3.10/site-packages/pandas/core/dtypes/cast.py\u001b[0m in \u001b[0;36mastype_nansafe\u001b[0;34m(arr, dtype, copy, skipna)\u001b[0m\n\u001b[1;32m   1152\u001b[0m         \u001b[0;31m# work around NumPy brokenness, #1987\u001b[0m\u001b[0;34m\u001b[0m\u001b[0;34m\u001b[0m\u001b[0m\n\u001b[1;32m   1153\u001b[0m         \u001b[0;32mif\u001b[0m \u001b[0mnp\u001b[0m\u001b[0;34m.\u001b[0m\u001b[0missubdtype\u001b[0m\u001b[0;34m(\u001b[0m\u001b[0mdtype\u001b[0m\u001b[0;34m.\u001b[0m\u001b[0mtype\u001b[0m\u001b[0;34m,\u001b[0m \u001b[0mnp\u001b[0m\u001b[0;34m.\u001b[0m\u001b[0minteger\u001b[0m\u001b[0;34m)\u001b[0m\u001b[0;34m:\u001b[0m\u001b[0;34m\u001b[0m\u001b[0;34m\u001b[0m\u001b[0m\n\u001b[0;32m-> 1154\u001b[0;31m             \u001b[0;32mreturn\u001b[0m \u001b[0mlib\u001b[0m\u001b[0;34m.\u001b[0m\u001b[0mastype_intsafe\u001b[0m\u001b[0;34m(\u001b[0m\u001b[0marr\u001b[0m\u001b[0;34m,\u001b[0m \u001b[0mdtype\u001b[0m\u001b[0;34m)\u001b[0m\u001b[0;34m\u001b[0m\u001b[0;34m\u001b[0m\u001b[0m\n\u001b[0m\u001b[1;32m   1155\u001b[0m \u001b[0;34m\u001b[0m\u001b[0m\n\u001b[1;32m   1156\u001b[0m         \u001b[0;31m# if we have a datetime/timedelta array of objects\u001b[0m\u001b[0;34m\u001b[0m\u001b[0;34m\u001b[0m\u001b[0m\n",
      "\u001b[0;32mpandas/_libs/lib.pyx\u001b[0m in \u001b[0;36mpandas._libs.lib.astype_intsafe\u001b[0;34m()\u001b[0m\n",
      "\u001b[0;31mValueError\u001b[0m: invalid literal for int() with base 10: 'ab'"
     ]
    }
   ],
   "source": [
    "s.astype(np.int64)  # let's convert our series to a bunch of integers"
   ]
  },
  {
   "cell_type": "code",
   "execution_count": 197,
   "id": "729665a6",
   "metadata": {},
   "outputs": [
    {
     "data": {
      "text/plain": [
       "46"
      ]
     },
     "execution_count": 197,
     "metadata": {},
     "output_type": "execute_result"
    }
   ],
   "source": [
    "# let's find all of the int-able (digits-only) strings, retrieve them,\n",
    "# and then turn them into integers\n",
    "\n",
    "s.loc[s.str.isdigit()].astype(np.int64).sum()"
   ]
  },
  {
   "cell_type": "code",
   "execution_count": 198,
   "id": "3c08229b",
   "metadata": {},
   "outputs": [
    {
     "data": {
      "text/plain": [
       "'ab12cd34'"
      ]
     },
     "execution_count": 198,
     "metadata": {},
     "output_type": "execute_result"
    }
   ],
   "source": [
    "# what happens if we sum the elements in s?\n",
    "s.sum()"
   ]
  },
  {
   "cell_type": "markdown",
   "id": "c95e926a",
   "metadata": {},
   "source": [
    "# Exercises: Strings and series\n",
    "\n",
    "1. Create a series containing 10 words of different lengths.\n",
    "2. Find the words whose lengths are odd.\n",
    "3. Find the words whose lengths are greater than the mean word length (i.e., longer than average).\n",
    "4. Find words that contain the letter 't'."
   ]
  },
  {
   "cell_type": "code",
   "execution_count": 199,
   "id": "3dd594be",
   "metadata": {},
   "outputs": [],
   "source": [
    "s = Series('this is a fantastic example of brilliant writing for my course'.split())"
   ]
  },
  {
   "cell_type": "code",
   "execution_count": 200,
   "id": "a580f469",
   "metadata": {},
   "outputs": [
    {
     "data": {
      "text/plain": [
       "0          this\n",
       "1            is\n",
       "2             a\n",
       "3     fantastic\n",
       "4       example\n",
       "5            of\n",
       "6     brilliant\n",
       "7       writing\n",
       "8           for\n",
       "9            my\n",
       "10       course\n",
       "dtype: object"
      ]
     },
     "execution_count": 200,
     "metadata": {},
     "output_type": "execute_result"
    }
   ],
   "source": [
    "s"
   ]
  },
  {
   "cell_type": "code",
   "execution_count": 201,
   "id": "cca244c5",
   "metadata": {},
   "outputs": [
    {
     "data": {
      "text/plain": [
       "array(['this', 'is', 'a', 'fantastic', 'example', 'of', 'brilliant',\n",
       "       'writing', 'for', 'my', 'course'], dtype=object)"
      ]
     },
     "execution_count": 201,
     "metadata": {},
     "output_type": "execute_result"
    }
   ],
   "source": [
    "s.values"
   ]
  },
  {
   "cell_type": "code",
   "execution_count": 202,
   "id": "e839d07c",
   "metadata": {},
   "outputs": [
    {
     "data": {
      "text/plain": [
       "0     4\n",
       "1     2\n",
       "2     1\n",
       "3     9\n",
       "4     7\n",
       "5     2\n",
       "6     9\n",
       "7     7\n",
       "8     3\n",
       "9     2\n",
       "10    6\n",
       "dtype: int64"
      ]
     },
     "execution_count": 202,
     "metadata": {},
     "output_type": "execute_result"
    }
   ],
   "source": [
    "s.str.len()"
   ]
  },
  {
   "cell_type": "code",
   "execution_count": 204,
   "id": "2a824754",
   "metadata": {},
   "outputs": [
    {
     "data": {
      "text/plain": [
       "0     False\n",
       "1     False\n",
       "2      True\n",
       "3      True\n",
       "4      True\n",
       "5     False\n",
       "6      True\n",
       "7      True\n",
       "8      True\n",
       "9     False\n",
       "10    False\n",
       "dtype: bool"
      ]
     },
     "execution_count": 204,
     "metadata": {},
     "output_type": "execute_result"
    }
   ],
   "source": [
    "# get a boolean series in which True says, \"This element has an odd length\"\n",
    "\n",
    "s.str.len() % 2 == 1"
   ]
  },
  {
   "cell_type": "code",
   "execution_count": 205,
   "id": "c8ef56f7",
   "metadata": {},
   "outputs": [
    {
     "data": {
      "text/plain": [
       "2            a\n",
       "3    fantastic\n",
       "4      example\n",
       "6    brilliant\n",
       "7      writing\n",
       "8          for\n",
       "dtype: object"
      ]
     },
     "execution_count": 205,
     "metadata": {},
     "output_type": "execute_result"
    }
   ],
   "source": [
    "# apply that boolean series to s.loc, and thus get only those words with odd lengths from s\n",
    "s.loc[s.str.len() % 2 == 1]"
   ]
  },
  {
   "cell_type": "code",
   "execution_count": 207,
   "id": "872242cd",
   "metadata": {},
   "outputs": [
    {
     "data": {
      "text/plain": [
       "4.7272727272727275"
      ]
     },
     "execution_count": 207,
     "metadata": {},
     "output_type": "execute_result"
    }
   ],
   "source": [
    "# get the mean word length\n",
    "s.str.len().mean()"
   ]
  },
  {
   "cell_type": "code",
   "execution_count": 208,
   "id": "9e2f1570",
   "metadata": {},
   "outputs": [
    {
     "data": {
      "text/plain": [
       "0     False\n",
       "1     False\n",
       "2     False\n",
       "3      True\n",
       "4      True\n",
       "5     False\n",
       "6      True\n",
       "7      True\n",
       "8     False\n",
       "9     False\n",
       "10     True\n",
       "dtype: bool"
      ]
     },
     "execution_count": 208,
     "metadata": {},
     "output_type": "execute_result"
    }
   ],
   "source": [
    "# get a boolean series based on this, for words longer than the mean length \n",
    "s.str.len() > s.str.len().mean()"
   ]
  },
  {
   "cell_type": "code",
   "execution_count": 209,
   "id": "20618369",
   "metadata": {},
   "outputs": [
    {
     "data": {
      "text/plain": [
       "3     fantastic\n",
       "4       example\n",
       "6     brilliant\n",
       "7       writing\n",
       "10       course\n",
       "dtype: object"
      ]
     },
     "execution_count": 209,
     "metadata": {},
     "output_type": "execute_result"
    }
   ],
   "source": [
    "# use this boolean series as a mask index to get only those words in s that are longer than the mean\n",
    "s.loc[s.str.len() > s.str.len().mean()]"
   ]
  },
  {
   "cell_type": "code",
   "execution_count": 211,
   "id": "b014332f",
   "metadata": {},
   "outputs": [
    {
     "data": {
      "text/plain": [
       "0         this\n",
       "3    fantastic\n",
       "6    brilliant\n",
       "7      writing\n",
       "dtype: object"
      ]
     },
     "execution_count": 211,
     "metadata": {},
     "output_type": "execute_result"
    }
   ],
   "source": [
    "# find words that contain the letter 't'\n",
    "\n",
    "s.loc[s.str.contains('t')]"
   ]
  },
  {
   "cell_type": "code",
   "execution_count": 212,
   "id": "315ccf6e",
   "metadata": {},
   "outputs": [
    {
     "data": {
      "text/plain": [
       "0    123\n",
       "1    456\n",
       "2    789\n",
       "dtype: object"
      ]
     },
     "execution_count": 212,
     "metadata": {},
     "output_type": "execute_result"
    }
   ],
   "source": [
    "s = Series('123 456 789'.split())\n",
    "s"
   ]
  },
  {
   "cell_type": "code",
   "execution_count": 213,
   "id": "77e31a88",
   "metadata": {},
   "outputs": [
    {
     "data": {
      "text/plain": [
       "41152263.0"
      ]
     },
     "execution_count": 213,
     "metadata": {},
     "output_type": "execute_result"
    }
   ],
   "source": [
    "s.mean()"
   ]
  },
  {
   "cell_type": "code",
   "execution_count": 214,
   "id": "96983d0a",
   "metadata": {},
   "outputs": [
    {
     "data": {
      "text/plain": [
       "'123456789'"
      ]
     },
     "execution_count": 214,
     "metadata": {},
     "output_type": "execute_result"
    }
   ],
   "source": [
    "# what is the mean? It's the sum / the length\n",
    "\n",
    "s.sum()"
   ]
  },
  {
   "cell_type": "code",
   "execution_count": 215,
   "id": "6b0c2edc",
   "metadata": {},
   "outputs": [
    {
     "data": {
      "text/plain": [
       "41152263.0"
      ]
     },
     "execution_count": 215,
     "metadata": {},
     "output_type": "execute_result"
    }
   ],
   "source": [
    "123456789 / 3"
   ]
  },
  {
   "cell_type": "markdown",
   "id": "2f559f53",
   "metadata": {},
   "source": [
    "# Next up\n",
    "\n",
    "1. Data frames\n",
    "    - Creating them\n",
    "    - Retrieving from them\n",
    "    - Applying the methods we've learned for series on data frames\n",
    "2. Loading and storing data in different formats    \n",
    "\n",
    "Resume at 1:10 p.m. Eastern"
   ]
  },
  {
   "cell_type": "markdown",
   "id": "c30d0a7e",
   "metadata": {},
   "source": [
    "# Data frames\n",
    "\n",
    "A data frame is a 2D data structure. It has column and rows.\n",
    "\n",
    "The more important thing to understand is that each column is a Pandas series.  Each column has a dtype.\n",
    "\n",
    "We can create data frames in a few different ways:\n",
    "\n",
    "- List of lists (or list of series, or a 2D NumPy array)\n",
    "- List of dicts\n",
    "- Dict of lists\n"
   ]
  },
  {
   "cell_type": "code",
   "execution_count": 216,
   "id": "6faa59b1",
   "metadata": {},
   "outputs": [],
   "source": [
    "# 3 rows and 4 columns as a list of lists\n",
    "\n",
    "df = DataFrame([[10, 20, 30, 40],\n",
    "                [50, 60, 70, 80], \n",
    "               [90, 100, 110, 120]])"
   ]
  },
  {
   "cell_type": "code",
   "execution_count": 217,
   "id": "7507b6b9",
   "metadata": {},
   "outputs": [
    {
     "data": {
      "text/html": [
       "<div>\n",
       "<style scoped>\n",
       "    .dataframe tbody tr th:only-of-type {\n",
       "        vertical-align: middle;\n",
       "    }\n",
       "\n",
       "    .dataframe tbody tr th {\n",
       "        vertical-align: top;\n",
       "    }\n",
       "\n",
       "    .dataframe thead th {\n",
       "        text-align: right;\n",
       "    }\n",
       "</style>\n",
       "<table border=\"1\" class=\"dataframe\">\n",
       "  <thead>\n",
       "    <tr style=\"text-align: right;\">\n",
       "      <th></th>\n",
       "      <th>0</th>\n",
       "      <th>1</th>\n",
       "      <th>2</th>\n",
       "      <th>3</th>\n",
       "    </tr>\n",
       "  </thead>\n",
       "  <tbody>\n",
       "    <tr>\n",
       "      <th>0</th>\n",
       "      <td>10</td>\n",
       "      <td>20</td>\n",
       "      <td>30</td>\n",
       "      <td>40</td>\n",
       "    </tr>\n",
       "    <tr>\n",
       "      <th>1</th>\n",
       "      <td>50</td>\n",
       "      <td>60</td>\n",
       "      <td>70</td>\n",
       "      <td>80</td>\n",
       "    </tr>\n",
       "    <tr>\n",
       "      <th>2</th>\n",
       "      <td>90</td>\n",
       "      <td>100</td>\n",
       "      <td>110</td>\n",
       "      <td>120</td>\n",
       "    </tr>\n",
       "  </tbody>\n",
       "</table>\n",
       "</div>"
      ],
      "text/plain": [
       "    0    1    2    3\n",
       "0  10   20   30   40\n",
       "1  50   60   70   80\n",
       "2  90  100  110  120"
      ]
     },
     "execution_count": 217,
     "metadata": {},
     "output_type": "execute_result"
    }
   ],
   "source": [
    "df"
   ]
  },
  {
   "cell_type": "code",
   "execution_count": 218,
   "id": "5dcd540a",
   "metadata": {},
   "outputs": [],
   "source": [
    "# the rows are the index, just like before with series, and can be set in the same way (index=...)\n",
    "# the columns are set in the same way, but with columns=...\n",
    "\n",
    "df = DataFrame([[10, 20, 30, 40],\n",
    "                [50, 60, 70, 80], \n",
    "               [90, 100, 110, 120]],\n",
    "              index=list('xyz'),\n",
    "              columns=list('abcd'))"
   ]
  },
  {
   "cell_type": "code",
   "execution_count": 219,
   "id": "83632b2b",
   "metadata": {},
   "outputs": [
    {
     "data": {
      "text/html": [
       "<div>\n",
       "<style scoped>\n",
       "    .dataframe tbody tr th:only-of-type {\n",
       "        vertical-align: middle;\n",
       "    }\n",
       "\n",
       "    .dataframe tbody tr th {\n",
       "        vertical-align: top;\n",
       "    }\n",
       "\n",
       "    .dataframe thead th {\n",
       "        text-align: right;\n",
       "    }\n",
       "</style>\n",
       "<table border=\"1\" class=\"dataframe\">\n",
       "  <thead>\n",
       "    <tr style=\"text-align: right;\">\n",
       "      <th></th>\n",
       "      <th>a</th>\n",
       "      <th>b</th>\n",
       "      <th>c</th>\n",
       "      <th>d</th>\n",
       "    </tr>\n",
       "  </thead>\n",
       "  <tbody>\n",
       "    <tr>\n",
       "      <th>x</th>\n",
       "      <td>10</td>\n",
       "      <td>20</td>\n",
       "      <td>30</td>\n",
       "      <td>40</td>\n",
       "    </tr>\n",
       "    <tr>\n",
       "      <th>y</th>\n",
       "      <td>50</td>\n",
       "      <td>60</td>\n",
       "      <td>70</td>\n",
       "      <td>80</td>\n",
       "    </tr>\n",
       "    <tr>\n",
       "      <th>z</th>\n",
       "      <td>90</td>\n",
       "      <td>100</td>\n",
       "      <td>110</td>\n",
       "      <td>120</td>\n",
       "    </tr>\n",
       "  </tbody>\n",
       "</table>\n",
       "</div>"
      ],
      "text/plain": [
       "    a    b    c    d\n",
       "x  10   20   30   40\n",
       "y  50   60   70   80\n",
       "z  90  100  110  120"
      ]
     },
     "execution_count": 219,
     "metadata": {},
     "output_type": "execute_result"
    }
   ],
   "source": [
    "df"
   ]
  },
  {
   "cell_type": "code",
   "execution_count": 220,
   "id": "8b23ae61",
   "metadata": {},
   "outputs": [
    {
     "data": {
      "text/plain": [
       "Index(['x', 'y', 'z'], dtype='object')"
      ]
     },
     "execution_count": 220,
     "metadata": {},
     "output_type": "execute_result"
    }
   ],
   "source": [
    "df.index"
   ]
  },
  {
   "cell_type": "code",
   "execution_count": 221,
   "id": "19fdde6e",
   "metadata": {},
   "outputs": [
    {
     "data": {
      "text/plain": [
       "Index(['a', 'b', 'c', 'd'], dtype='object')"
      ]
     },
     "execution_count": 221,
     "metadata": {},
     "output_type": "execute_result"
    }
   ],
   "source": [
    "df.columns"
   ]
  },
  {
   "cell_type": "markdown",
   "id": "89f162d1",
   "metadata": {},
   "source": [
    "# Retrieving from a data frame\n",
    "\n",
    "In a data frame, we can use `[]` to retrieve the *columns*.\n",
    "\n",
    "We can retrieve the rows with our old friends `.loc` and `.iloc` using the index and the numeric position."
   ]
  },
  {
   "cell_type": "code",
   "execution_count": 222,
   "id": "bd9c0971",
   "metadata": {},
   "outputs": [
    {
     "data": {
      "text/plain": [
       "x    10\n",
       "y    50\n",
       "z    90\n",
       "Name: a, dtype: int64"
      ]
     },
     "execution_count": 222,
     "metadata": {},
     "output_type": "execute_result"
    }
   ],
   "source": [
    "df['a']  # this means: retrieve column a"
   ]
  },
  {
   "cell_type": "code",
   "execution_count": 223,
   "id": "e6ba39fd",
   "metadata": {},
   "outputs": [
    {
     "data": {
      "text/html": [
       "<div>\n",
       "<style scoped>\n",
       "    .dataframe tbody tr th:only-of-type {\n",
       "        vertical-align: middle;\n",
       "    }\n",
       "\n",
       "    .dataframe tbody tr th {\n",
       "        vertical-align: top;\n",
       "    }\n",
       "\n",
       "    .dataframe thead th {\n",
       "        text-align: right;\n",
       "    }\n",
       "</style>\n",
       "<table border=\"1\" class=\"dataframe\">\n",
       "  <thead>\n",
       "    <tr style=\"text-align: right;\">\n",
       "      <th></th>\n",
       "      <th>a</th>\n",
       "      <th>b</th>\n",
       "    </tr>\n",
       "  </thead>\n",
       "  <tbody>\n",
       "    <tr>\n",
       "      <th>x</th>\n",
       "      <td>10</td>\n",
       "      <td>20</td>\n",
       "    </tr>\n",
       "    <tr>\n",
       "      <th>y</th>\n",
       "      <td>50</td>\n",
       "      <td>60</td>\n",
       "    </tr>\n",
       "    <tr>\n",
       "      <th>z</th>\n",
       "      <td>90</td>\n",
       "      <td>100</td>\n",
       "    </tr>\n",
       "  </tbody>\n",
       "</table>\n",
       "</div>"
      ],
      "text/plain": [
       "    a    b\n",
       "x  10   20\n",
       "y  50   60\n",
       "z  90  100"
      ]
     },
     "execution_count": 223,
     "metadata": {},
     "output_type": "execute_result"
    }
   ],
   "source": [
    "# multiple columns via fancy indexing\n",
    "\n",
    "df[['a', 'b']]"
   ]
  },
  {
   "cell_type": "code",
   "execution_count": 224,
   "id": "6c2e16b4",
   "metadata": {},
   "outputs": [
    {
     "data": {
      "text/plain": [
       "a    10\n",
       "b    20\n",
       "c    30\n",
       "d    40\n",
       "Name: x, dtype: int64"
      ]
     },
     "execution_count": 224,
     "metadata": {},
     "output_type": "execute_result"
    }
   ],
   "source": [
    "# how do I retrieve rows? Mainly via .loc\n",
    "\n",
    "df.loc['x']    # when you retrieve a row, you get a (temporary) series based on the items in that row"
   ]
  },
  {
   "cell_type": "code",
   "execution_count": 225,
   "id": "dbffdcfe",
   "metadata": {},
   "outputs": [
    {
     "data": {
      "text/html": [
       "<div>\n",
       "<style scoped>\n",
       "    .dataframe tbody tr th:only-of-type {\n",
       "        vertical-align: middle;\n",
       "    }\n",
       "\n",
       "    .dataframe tbody tr th {\n",
       "        vertical-align: top;\n",
       "    }\n",
       "\n",
       "    .dataframe thead th {\n",
       "        text-align: right;\n",
       "    }\n",
       "</style>\n",
       "<table border=\"1\" class=\"dataframe\">\n",
       "  <thead>\n",
       "    <tr style=\"text-align: right;\">\n",
       "      <th></th>\n",
       "      <th>a</th>\n",
       "      <th>b</th>\n",
       "      <th>c</th>\n",
       "      <th>d</th>\n",
       "    </tr>\n",
       "  </thead>\n",
       "  <tbody>\n",
       "    <tr>\n",
       "      <th>x</th>\n",
       "      <td>10</td>\n",
       "      <td>20</td>\n",
       "      <td>30</td>\n",
       "      <td>40</td>\n",
       "    </tr>\n",
       "    <tr>\n",
       "      <th>z</th>\n",
       "      <td>90</td>\n",
       "      <td>100</td>\n",
       "      <td>110</td>\n",
       "      <td>120</td>\n",
       "    </tr>\n",
       "  </tbody>\n",
       "</table>\n",
       "</div>"
      ],
      "text/plain": [
       "    a    b    c    d\n",
       "x  10   20   30   40\n",
       "z  90  100  110  120"
      ]
     },
     "execution_count": 225,
     "metadata": {},
     "output_type": "execute_result"
    }
   ],
   "source": [
    "# fancy indexing with .loc\n",
    "\n",
    "df.loc[['x', 'z']]"
   ]
  },
  {
   "cell_type": "code",
   "execution_count": 228,
   "id": "a6f3d26b",
   "metadata": {},
   "outputs": [
    {
     "data": {
      "text/plain": [
       "30"
      ]
     },
     "execution_count": 228,
     "metadata": {},
     "output_type": "execute_result"
    }
   ],
   "source": [
    "# what if I want to retrieve a particular item in a row and a column?\n",
    "\n",
    "df['c']['x']     # row 'x', column 'c'"
   ]
  },
  {
   "cell_type": "markdown",
   "id": "52c1fe9b",
   "metadata": {},
   "source": [
    "# Don't retrieve in this way!\n",
    "\n",
    "If you have multiple sets of square brackets, you're asking for trouble!\n",
    "\n",
    "1. It'll take more time, because every `[]` is a method call\n",
    "2. It'll take more memory, because it has to load the temporary data\n",
    "3. There will likely be an interim, temporary series created behind the scenes, which if you try to assign to it, will give you trouble.\n",
    "\n",
    "Rule of thumb is: Don't use square brackets after square brackets."
   ]
  },
  {
   "cell_type": "code",
   "execution_count": 229,
   "id": "9f8339ab",
   "metadata": {},
   "outputs": [
    {
     "data": {
      "text/plain": [
       "30"
      ]
     },
     "execution_count": 229,
     "metadata": {},
     "output_type": "execute_result"
    }
   ],
   "source": [
    "# how should I do it?\n",
    "\n",
    "df.loc['x', 'c']     # .loc takes two arguments -- a row selector and a column selector"
   ]
  },
  {
   "cell_type": "code",
   "execution_count": 230,
   "id": "1becf0f1",
   "metadata": {},
   "outputs": [
    {
     "data": {
      "text/plain": [
       "x    30\n",
       "y    70\n",
       "Name: c, dtype: int64"
      ]
     },
     "execution_count": 230,
     "metadata": {},
     "output_type": "execute_result"
    }
   ],
   "source": [
    "df.loc[['x', 'y'], 'c']"
   ]
  },
  {
   "cell_type": "code",
   "execution_count": 231,
   "id": "efb3aa7f",
   "metadata": {},
   "outputs": [
    {
     "data": {
      "text/html": [
       "<div>\n",
       "<style scoped>\n",
       "    .dataframe tbody tr th:only-of-type {\n",
       "        vertical-align: middle;\n",
       "    }\n",
       "\n",
       "    .dataframe tbody tr th {\n",
       "        vertical-align: top;\n",
       "    }\n",
       "\n",
       "    .dataframe thead th {\n",
       "        text-align: right;\n",
       "    }\n",
       "</style>\n",
       "<table border=\"1\" class=\"dataframe\">\n",
       "  <thead>\n",
       "    <tr style=\"text-align: right;\">\n",
       "      <th></th>\n",
       "      <th>a</th>\n",
       "      <th>c</th>\n",
       "    </tr>\n",
       "  </thead>\n",
       "  <tbody>\n",
       "    <tr>\n",
       "      <th>x</th>\n",
       "      <td>10</td>\n",
       "      <td>30</td>\n",
       "    </tr>\n",
       "    <tr>\n",
       "      <th>y</th>\n",
       "      <td>50</td>\n",
       "      <td>70</td>\n",
       "    </tr>\n",
       "  </tbody>\n",
       "</table>\n",
       "</div>"
      ],
      "text/plain": [
       "    a   c\n",
       "x  10  30\n",
       "y  50  70"
      ]
     },
     "execution_count": 231,
     "metadata": {},
     "output_type": "execute_result"
    }
   ],
   "source": [
    "df.loc[['x', 'y'], ['a', 'c']]"
   ]
  },
  {
   "cell_type": "code",
   "execution_count": 232,
   "id": "0145025c",
   "metadata": {},
   "outputs": [
    {
     "data": {
      "text/html": [
       "<div>\n",
       "<style scoped>\n",
       "    .dataframe tbody tr th:only-of-type {\n",
       "        vertical-align: middle;\n",
       "    }\n",
       "\n",
       "    .dataframe tbody tr th {\n",
       "        vertical-align: top;\n",
       "    }\n",
       "\n",
       "    .dataframe thead th {\n",
       "        text-align: right;\n",
       "    }\n",
       "</style>\n",
       "<table border=\"1\" class=\"dataframe\">\n",
       "  <thead>\n",
       "    <tr style=\"text-align: right;\">\n",
       "      <th></th>\n",
       "      <th>a</th>\n",
       "      <th>b</th>\n",
       "      <th>c</th>\n",
       "      <th>d</th>\n",
       "    </tr>\n",
       "  </thead>\n",
       "  <tbody>\n",
       "    <tr>\n",
       "      <th>x</th>\n",
       "      <td>10</td>\n",
       "      <td>20</td>\n",
       "      <td>30</td>\n",
       "      <td>40</td>\n",
       "    </tr>\n",
       "    <tr>\n",
       "      <th>y</th>\n",
       "      <td>50</td>\n",
       "      <td>60</td>\n",
       "      <td>70</td>\n",
       "      <td>80</td>\n",
       "    </tr>\n",
       "    <tr>\n",
       "      <th>z</th>\n",
       "      <td>90</td>\n",
       "      <td>100</td>\n",
       "      <td>110</td>\n",
       "      <td>120</td>\n",
       "    </tr>\n",
       "  </tbody>\n",
       "</table>\n",
       "</div>"
      ],
      "text/plain": [
       "    a    b    c    d\n",
       "x  10   20   30   40\n",
       "y  50   60   70   80\n",
       "z  90  100  110  120"
      ]
     },
     "execution_count": 232,
     "metadata": {},
     "output_type": "execute_result"
    }
   ],
   "source": [
    "df"
   ]
  },
  {
   "cell_type": "code",
   "execution_count": 233,
   "id": "fa398854",
   "metadata": {},
   "outputs": [
    {
     "data": {
      "text/plain": [
       "x    False\n",
       "y     True\n",
       "z     True\n",
       "Name: a, dtype: bool"
      ]
     },
     "execution_count": 233,
     "metadata": {},
     "output_type": "execute_result"
    }
   ],
   "source": [
    "df['a'] > 40    # this will compare every element in df['a'] with 40, and return True/False"
   ]
  },
  {
   "cell_type": "code",
   "execution_count": 234,
   "id": "77471070",
   "metadata": {},
   "outputs": [
    {
     "data": {
      "text/html": [
       "<div>\n",
       "<style scoped>\n",
       "    .dataframe tbody tr th:only-of-type {\n",
       "        vertical-align: middle;\n",
       "    }\n",
       "\n",
       "    .dataframe tbody tr th {\n",
       "        vertical-align: top;\n",
       "    }\n",
       "\n",
       "    .dataframe thead th {\n",
       "        text-align: right;\n",
       "    }\n",
       "</style>\n",
       "<table border=\"1\" class=\"dataframe\">\n",
       "  <thead>\n",
       "    <tr style=\"text-align: right;\">\n",
       "      <th></th>\n",
       "      <th>a</th>\n",
       "      <th>b</th>\n",
       "      <th>c</th>\n",
       "      <th>d</th>\n",
       "    </tr>\n",
       "  </thead>\n",
       "  <tbody>\n",
       "    <tr>\n",
       "      <th>y</th>\n",
       "      <td>50</td>\n",
       "      <td>60</td>\n",
       "      <td>70</td>\n",
       "      <td>80</td>\n",
       "    </tr>\n",
       "    <tr>\n",
       "      <th>z</th>\n",
       "      <td>90</td>\n",
       "      <td>100</td>\n",
       "      <td>110</td>\n",
       "      <td>120</td>\n",
       "    </tr>\n",
       "  </tbody>\n",
       "</table>\n",
       "</div>"
      ],
      "text/plain": [
       "    a    b    c    d\n",
       "y  50   60   70   80\n",
       "z  90  100  110  120"
      ]
     },
     "execution_count": 234,
     "metadata": {},
     "output_type": "execute_result"
    }
   ],
   "source": [
    "df.loc[ df['a']>40   ]   # retrieve all rows from df where 'a' > 40"
   ]
  },
  {
   "cell_type": "code",
   "execution_count": 235,
   "id": "26a656b5",
   "metadata": {},
   "outputs": [
    {
     "data": {
      "text/html": [
       "<div>\n",
       "<style scoped>\n",
       "    .dataframe tbody tr th:only-of-type {\n",
       "        vertical-align: middle;\n",
       "    }\n",
       "\n",
       "    .dataframe tbody tr th {\n",
       "        vertical-align: top;\n",
       "    }\n",
       "\n",
       "    .dataframe thead th {\n",
       "        text-align: right;\n",
       "    }\n",
       "</style>\n",
       "<table border=\"1\" class=\"dataframe\">\n",
       "  <thead>\n",
       "    <tr style=\"text-align: right;\">\n",
       "      <th></th>\n",
       "      <th>a</th>\n",
       "      <th>c</th>\n",
       "    </tr>\n",
       "  </thead>\n",
       "  <tbody>\n",
       "    <tr>\n",
       "      <th>y</th>\n",
       "      <td>50</td>\n",
       "      <td>70</td>\n",
       "    </tr>\n",
       "    <tr>\n",
       "      <th>z</th>\n",
       "      <td>90</td>\n",
       "      <td>110</td>\n",
       "    </tr>\n",
       "  </tbody>\n",
       "</table>\n",
       "</div>"
      ],
      "text/plain": [
       "    a    c\n",
       "y  50   70\n",
       "z  90  110"
      ]
     },
     "execution_count": 235,
     "metadata": {},
     "output_type": "execute_result"
    }
   ],
   "source": [
    "#       row selector    column selector\n",
    "df.loc[ df['a']>40,      ['a', 'c']   ] "
   ]
  },
  {
   "cell_type": "markdown",
   "id": "1965b9c4",
   "metadata": {},
   "source": [
    "# Exercises: Retrieving from data frames\n",
    "\n",
    "1. Create a 6x6 data frame with rows 'uvwxyz' and columns 'abcdef'.  The values should be random integers from 0-1,000.  (Remember that you can use a 2D NumPy array to seed a data frame.)\n",
    "2. Retrieve column `b`.\n",
    "3. Retrieve row `v`.\n",
    "4. Retrieve columns `b` and `d`.\n",
    "5. Retrieve rows `u` and `y`.\n",
    "6. Retrieve the item at row `x`, and column `d`.\n",
    "7. Retrieve the items at rows `y` and `z`, and columns `a` and `c`.\n",
    "\n"
   ]
  },
  {
   "cell_type": "code",
   "execution_count": 237,
   "id": "e5ba33d5",
   "metadata": {},
   "outputs": [
    {
     "data": {
      "text/html": [
       "<div>\n",
       "<style scoped>\n",
       "    .dataframe tbody tr th:only-of-type {\n",
       "        vertical-align: middle;\n",
       "    }\n",
       "\n",
       "    .dataframe tbody tr th {\n",
       "        vertical-align: top;\n",
       "    }\n",
       "\n",
       "    .dataframe thead th {\n",
       "        text-align: right;\n",
       "    }\n",
       "</style>\n",
       "<table border=\"1\" class=\"dataframe\">\n",
       "  <thead>\n",
       "    <tr style=\"text-align: right;\">\n",
       "      <th></th>\n",
       "      <th>a</th>\n",
       "      <th>b</th>\n",
       "      <th>c</th>\n",
       "      <th>d</th>\n",
       "      <th>e</th>\n",
       "      <th>f</th>\n",
       "    </tr>\n",
       "  </thead>\n",
       "  <tbody>\n",
       "    <tr>\n",
       "      <th>u</th>\n",
       "      <td>684</td>\n",
       "      <td>559</td>\n",
       "      <td>629</td>\n",
       "      <td>192</td>\n",
       "      <td>835</td>\n",
       "      <td>763</td>\n",
       "    </tr>\n",
       "    <tr>\n",
       "      <th>v</th>\n",
       "      <td>707</td>\n",
       "      <td>359</td>\n",
       "      <td>9</td>\n",
       "      <td>723</td>\n",
       "      <td>277</td>\n",
       "      <td>754</td>\n",
       "    </tr>\n",
       "    <tr>\n",
       "      <th>w</th>\n",
       "      <td>804</td>\n",
       "      <td>599</td>\n",
       "      <td>70</td>\n",
       "      <td>472</td>\n",
       "      <td>600</td>\n",
       "      <td>396</td>\n",
       "    </tr>\n",
       "    <tr>\n",
       "      <th>x</th>\n",
       "      <td>314</td>\n",
       "      <td>705</td>\n",
       "      <td>486</td>\n",
       "      <td>551</td>\n",
       "      <td>87</td>\n",
       "      <td>174</td>\n",
       "    </tr>\n",
       "    <tr>\n",
       "      <th>y</th>\n",
       "      <td>600</td>\n",
       "      <td>849</td>\n",
       "      <td>677</td>\n",
       "      <td>537</td>\n",
       "      <td>845</td>\n",
       "      <td>72</td>\n",
       "    </tr>\n",
       "    <tr>\n",
       "      <th>z</th>\n",
       "      <td>777</td>\n",
       "      <td>916</td>\n",
       "      <td>115</td>\n",
       "      <td>976</td>\n",
       "      <td>755</td>\n",
       "      <td>709</td>\n",
       "    </tr>\n",
       "  </tbody>\n",
       "</table>\n",
       "</div>"
      ],
      "text/plain": [
       "     a    b    c    d    e    f\n",
       "u  684  559  629  192  835  763\n",
       "v  707  359    9  723  277  754\n",
       "w  804  599   70  472  600  396\n",
       "x  314  705  486  551   87  174\n",
       "y  600  849  677  537  845   72\n",
       "z  777  916  115  976  755  709"
      ]
     },
     "execution_count": 237,
     "metadata": {},
     "output_type": "execute_result"
    }
   ],
   "source": [
    "np.random.seed(0)\n",
    "\n",
    "df = DataFrame(np.random.randint(0, 1000, [6,6]),\n",
    "              index=list('uvwxyz'),\n",
    "              columns=list('abcdef'))\n",
    "df"
   ]
  },
  {
   "cell_type": "code",
   "execution_count": 238,
   "id": "3ad9b4cb",
   "metadata": {},
   "outputs": [
    {
     "data": {
      "text/plain": [
       "u    559\n",
       "v    359\n",
       "w    599\n",
       "x    705\n",
       "y    849\n",
       "z    916\n",
       "Name: b, dtype: int64"
      ]
     },
     "execution_count": 238,
     "metadata": {},
     "output_type": "execute_result"
    }
   ],
   "source": [
    "# retrieve column b\n",
    "\n",
    "df['b']"
   ]
  },
  {
   "cell_type": "code",
   "execution_count": 239,
   "id": "09ec8e87",
   "metadata": {},
   "outputs": [
    {
     "data": {
      "text/plain": [
       "u    559\n",
       "v    359\n",
       "w    599\n",
       "x    705\n",
       "y    849\n",
       "z    916\n",
       "Name: b, dtype: int64"
      ]
     },
     "execution_count": 239,
     "metadata": {},
     "output_type": "execute_result"
    }
   ],
   "source": [
    "# another syntax for retrieving columns -- dot syntax\n",
    "\n",
    "df.b"
   ]
  },
  {
   "cell_type": "code",
   "execution_count": 240,
   "id": "db1225e3",
   "metadata": {},
   "outputs": [
    {
     "data": {
      "text/plain": [
       "a    707\n",
       "b    359\n",
       "c      9\n",
       "d    723\n",
       "e    277\n",
       "f    754\n",
       "Name: v, dtype: int64"
      ]
     },
     "execution_count": 240,
     "metadata": {},
     "output_type": "execute_result"
    }
   ],
   "source": [
    "# retrieve row v\n",
    "\n",
    "df.loc['v']"
   ]
  },
  {
   "cell_type": "code",
   "execution_count": 241,
   "id": "7cacae36",
   "metadata": {},
   "outputs": [
    {
     "data": {
      "text/html": [
       "<div>\n",
       "<style scoped>\n",
       "    .dataframe tbody tr th:only-of-type {\n",
       "        vertical-align: middle;\n",
       "    }\n",
       "\n",
       "    .dataframe tbody tr th {\n",
       "        vertical-align: top;\n",
       "    }\n",
       "\n",
       "    .dataframe thead th {\n",
       "        text-align: right;\n",
       "    }\n",
       "</style>\n",
       "<table border=\"1\" class=\"dataframe\">\n",
       "  <thead>\n",
       "    <tr style=\"text-align: right;\">\n",
       "      <th></th>\n",
       "      <th>b</th>\n",
       "      <th>d</th>\n",
       "    </tr>\n",
       "  </thead>\n",
       "  <tbody>\n",
       "    <tr>\n",
       "      <th>u</th>\n",
       "      <td>559</td>\n",
       "      <td>192</td>\n",
       "    </tr>\n",
       "    <tr>\n",
       "      <th>v</th>\n",
       "      <td>359</td>\n",
       "      <td>723</td>\n",
       "    </tr>\n",
       "    <tr>\n",
       "      <th>w</th>\n",
       "      <td>599</td>\n",
       "      <td>472</td>\n",
       "    </tr>\n",
       "    <tr>\n",
       "      <th>x</th>\n",
       "      <td>705</td>\n",
       "      <td>551</td>\n",
       "    </tr>\n",
       "    <tr>\n",
       "      <th>y</th>\n",
       "      <td>849</td>\n",
       "      <td>537</td>\n",
       "    </tr>\n",
       "    <tr>\n",
       "      <th>z</th>\n",
       "      <td>916</td>\n",
       "      <td>976</td>\n",
       "    </tr>\n",
       "  </tbody>\n",
       "</table>\n",
       "</div>"
      ],
      "text/plain": [
       "     b    d\n",
       "u  559  192\n",
       "v  359  723\n",
       "w  599  472\n",
       "x  705  551\n",
       "y  849  537\n",
       "z  916  976"
      ]
     },
     "execution_count": 241,
     "metadata": {},
     "output_type": "execute_result"
    }
   ],
   "source": [
    "# retrieve columns 'b' and 'd'\n",
    "\n",
    "df[['b', 'd']]   # fancy indexing to rescue!"
   ]
  },
  {
   "cell_type": "code",
   "execution_count": 242,
   "id": "d8d22562",
   "metadata": {},
   "outputs": [
    {
     "data": {
      "text/html": [
       "<div>\n",
       "<style scoped>\n",
       "    .dataframe tbody tr th:only-of-type {\n",
       "        vertical-align: middle;\n",
       "    }\n",
       "\n",
       "    .dataframe tbody tr th {\n",
       "        vertical-align: top;\n",
       "    }\n",
       "\n",
       "    .dataframe thead th {\n",
       "        text-align: right;\n",
       "    }\n",
       "</style>\n",
       "<table border=\"1\" class=\"dataframe\">\n",
       "  <thead>\n",
       "    <tr style=\"text-align: right;\">\n",
       "      <th></th>\n",
       "      <th>a</th>\n",
       "      <th>b</th>\n",
       "      <th>c</th>\n",
       "      <th>d</th>\n",
       "      <th>e</th>\n",
       "      <th>f</th>\n",
       "    </tr>\n",
       "  </thead>\n",
       "  <tbody>\n",
       "    <tr>\n",
       "      <th>u</th>\n",
       "      <td>684</td>\n",
       "      <td>559</td>\n",
       "      <td>629</td>\n",
       "      <td>192</td>\n",
       "      <td>835</td>\n",
       "      <td>763</td>\n",
       "    </tr>\n",
       "    <tr>\n",
       "      <th>y</th>\n",
       "      <td>600</td>\n",
       "      <td>849</td>\n",
       "      <td>677</td>\n",
       "      <td>537</td>\n",
       "      <td>845</td>\n",
       "      <td>72</td>\n",
       "    </tr>\n",
       "  </tbody>\n",
       "</table>\n",
       "</div>"
      ],
      "text/plain": [
       "     a    b    c    d    e    f\n",
       "u  684  559  629  192  835  763\n",
       "y  600  849  677  537  845   72"
      ]
     },
     "execution_count": 242,
     "metadata": {},
     "output_type": "execute_result"
    }
   ],
   "source": [
    "# retrieve rows 'u' and 'y'\n",
    "df.loc[['u', 'y']]"
   ]
  },
  {
   "cell_type": "code",
   "execution_count": 243,
   "id": "dff0fa1b",
   "metadata": {},
   "outputs": [
    {
     "data": {
      "text/plain": [
       "551"
      ]
     },
     "execution_count": 243,
     "metadata": {},
     "output_type": "execute_result"
    }
   ],
   "source": [
    "# retrieve the item at row 'x', column 'd'\n",
    "\n",
    "#     rows   columns\n",
    "df.loc['x', 'd']"
   ]
  },
  {
   "cell_type": "code",
   "execution_count": 244,
   "id": "e0b78b0a",
   "metadata": {},
   "outputs": [
    {
     "data": {
      "text/html": [
       "<div>\n",
       "<style scoped>\n",
       "    .dataframe tbody tr th:only-of-type {\n",
       "        vertical-align: middle;\n",
       "    }\n",
       "\n",
       "    .dataframe tbody tr th {\n",
       "        vertical-align: top;\n",
       "    }\n",
       "\n",
       "    .dataframe thead th {\n",
       "        text-align: right;\n",
       "    }\n",
       "</style>\n",
       "<table border=\"1\" class=\"dataframe\">\n",
       "  <thead>\n",
       "    <tr style=\"text-align: right;\">\n",
       "      <th></th>\n",
       "      <th>a</th>\n",
       "      <th>c</th>\n",
       "    </tr>\n",
       "  </thead>\n",
       "  <tbody>\n",
       "    <tr>\n",
       "      <th>y</th>\n",
       "      <td>600</td>\n",
       "      <td>677</td>\n",
       "    </tr>\n",
       "    <tr>\n",
       "      <th>z</th>\n",
       "      <td>777</td>\n",
       "      <td>115</td>\n",
       "    </tr>\n",
       "  </tbody>\n",
       "</table>\n",
       "</div>"
      ],
      "text/plain": [
       "     a    c\n",
       "y  600  677\n",
       "z  777  115"
      ]
     },
     "execution_count": 244,
     "metadata": {},
     "output_type": "execute_result"
    }
   ],
   "source": [
    "# retrieve rows y and z, columns a and c\n",
    "df.loc[['y', 'z'],  ['a', 'c']]"
   ]
  },
  {
   "cell_type": "code",
   "execution_count": 245,
   "id": "c2dd1035",
   "metadata": {},
   "outputs": [
    {
     "data": {
      "text/html": [
       "<div>\n",
       "<style scoped>\n",
       "    .dataframe tbody tr th:only-of-type {\n",
       "        vertical-align: middle;\n",
       "    }\n",
       "\n",
       "    .dataframe tbody tr th {\n",
       "        vertical-align: top;\n",
       "    }\n",
       "\n",
       "    .dataframe thead th {\n",
       "        text-align: right;\n",
       "    }\n",
       "</style>\n",
       "<table border=\"1\" class=\"dataframe\">\n",
       "  <thead>\n",
       "    <tr style=\"text-align: right;\">\n",
       "      <th></th>\n",
       "      <th>a</th>\n",
       "      <th>b</th>\n",
       "      <th>c</th>\n",
       "      <th>d</th>\n",
       "      <th>e</th>\n",
       "      <th>f</th>\n",
       "    </tr>\n",
       "  </thead>\n",
       "  <tbody>\n",
       "    <tr>\n",
       "      <th>u</th>\n",
       "      <td>684</td>\n",
       "      <td>559</td>\n",
       "      <td>629</td>\n",
       "      <td>192</td>\n",
       "      <td>835</td>\n",
       "      <td>763</td>\n",
       "    </tr>\n",
       "    <tr>\n",
       "      <th>v</th>\n",
       "      <td>707</td>\n",
       "      <td>359</td>\n",
       "      <td>9</td>\n",
       "      <td>723</td>\n",
       "      <td>277</td>\n",
       "      <td>754</td>\n",
       "    </tr>\n",
       "    <tr>\n",
       "      <th>w</th>\n",
       "      <td>804</td>\n",
       "      <td>599</td>\n",
       "      <td>70</td>\n",
       "      <td>472</td>\n",
       "      <td>600</td>\n",
       "      <td>396</td>\n",
       "    </tr>\n",
       "    <tr>\n",
       "      <th>x</th>\n",
       "      <td>314</td>\n",
       "      <td>705</td>\n",
       "      <td>486</td>\n",
       "      <td>551</td>\n",
       "      <td>87</td>\n",
       "      <td>174</td>\n",
       "    </tr>\n",
       "    <tr>\n",
       "      <th>y</th>\n",
       "      <td>600</td>\n",
       "      <td>849</td>\n",
       "      <td>677</td>\n",
       "      <td>537</td>\n",
       "      <td>845</td>\n",
       "      <td>72</td>\n",
       "    </tr>\n",
       "    <tr>\n",
       "      <th>z</th>\n",
       "      <td>777</td>\n",
       "      <td>916</td>\n",
       "      <td>115</td>\n",
       "      <td>976</td>\n",
       "      <td>755</td>\n",
       "      <td>709</td>\n",
       "    </tr>\n",
       "  </tbody>\n",
       "</table>\n",
       "</div>"
      ],
      "text/plain": [
       "     a    b    c    d    e    f\n",
       "u  684  559  629  192  835  763\n",
       "v  707  359    9  723  277  754\n",
       "w  804  599   70  472  600  396\n",
       "x  314  705  486  551   87  174\n",
       "y  600  849  677  537  845   72\n",
       "z  777  916  115  976  755  709"
      ]
     },
     "execution_count": 245,
     "metadata": {},
     "output_type": "execute_result"
    }
   ],
   "source": [
    "df"
   ]
  },
  {
   "cell_type": "code",
   "execution_count": 246,
   "id": "fba75f3e",
   "metadata": {},
   "outputs": [
    {
     "data": {
      "text/html": [
       "<div>\n",
       "<style scoped>\n",
       "    .dataframe tbody tr th:only-of-type {\n",
       "        vertical-align: middle;\n",
       "    }\n",
       "\n",
       "    .dataframe tbody tr th {\n",
       "        vertical-align: top;\n",
       "    }\n",
       "\n",
       "    .dataframe thead th {\n",
       "        text-align: right;\n",
       "    }\n",
       "</style>\n",
       "<table border=\"1\" class=\"dataframe\">\n",
       "  <thead>\n",
       "    <tr style=\"text-align: right;\">\n",
       "      <th></th>\n",
       "      <th>a</th>\n",
       "      <th>b</th>\n",
       "      <th>c</th>\n",
       "      <th>d</th>\n",
       "      <th>e</th>\n",
       "      <th>f</th>\n",
       "    </tr>\n",
       "  </thead>\n",
       "  <tbody>\n",
       "    <tr>\n",
       "      <th>u</th>\n",
       "      <td>684</td>\n",
       "      <td>559</td>\n",
       "      <td>629</td>\n",
       "      <td>192</td>\n",
       "      <td>835</td>\n",
       "      <td>763</td>\n",
       "    </tr>\n",
       "    <tr>\n",
       "      <th>v</th>\n",
       "      <td>707</td>\n",
       "      <td>359</td>\n",
       "      <td>9</td>\n",
       "      <td>723</td>\n",
       "      <td>277</td>\n",
       "      <td>754</td>\n",
       "    </tr>\n",
       "    <tr>\n",
       "      <th>w</th>\n",
       "      <td>804</td>\n",
       "      <td>599</td>\n",
       "      <td>70</td>\n",
       "      <td>472</td>\n",
       "      <td>600</td>\n",
       "      <td>396</td>\n",
       "    </tr>\n",
       "    <tr>\n",
       "      <th>x</th>\n",
       "      <td>314</td>\n",
       "      <td>999</td>\n",
       "      <td>486</td>\n",
       "      <td>551</td>\n",
       "      <td>87</td>\n",
       "      <td>174</td>\n",
       "    </tr>\n",
       "    <tr>\n",
       "      <th>y</th>\n",
       "      <td>600</td>\n",
       "      <td>849</td>\n",
       "      <td>677</td>\n",
       "      <td>537</td>\n",
       "      <td>845</td>\n",
       "      <td>72</td>\n",
       "    </tr>\n",
       "    <tr>\n",
       "      <th>z</th>\n",
       "      <td>777</td>\n",
       "      <td>916</td>\n",
       "      <td>115</td>\n",
       "      <td>976</td>\n",
       "      <td>755</td>\n",
       "      <td>709</td>\n",
       "    </tr>\n",
       "  </tbody>\n",
       "</table>\n",
       "</div>"
      ],
      "text/plain": [
       "     a    b    c    d    e    f\n",
       "u  684  559  629  192  835  763\n",
       "v  707  359    9  723  277  754\n",
       "w  804  599   70  472  600  396\n",
       "x  314  999  486  551   87  174\n",
       "y  600  849  677  537  845   72\n",
       "z  777  916  115  976  755  709"
      ]
     },
     "execution_count": 246,
     "metadata": {},
     "output_type": "execute_result"
    }
   ],
   "source": [
    "# I want to change a value in the data frame!\n",
    "# I can do this by assigning, using .loc[rows, columns]\n",
    "\n",
    "df.loc['x', 'b'] = 999\n",
    "df"
   ]
  },
  {
   "cell_type": "code",
   "execution_count": 247,
   "id": "d70c2a4c",
   "metadata": {},
   "outputs": [
    {
     "data": {
      "text/html": [
       "<div>\n",
       "<style scoped>\n",
       "    .dataframe tbody tr th:only-of-type {\n",
       "        vertical-align: middle;\n",
       "    }\n",
       "\n",
       "    .dataframe tbody tr th {\n",
       "        vertical-align: top;\n",
       "    }\n",
       "\n",
       "    .dataframe thead th {\n",
       "        text-align: right;\n",
       "    }\n",
       "</style>\n",
       "<table border=\"1\" class=\"dataframe\">\n",
       "  <thead>\n",
       "    <tr style=\"text-align: right;\">\n",
       "      <th></th>\n",
       "      <th>a</th>\n",
       "      <th>b</th>\n",
       "      <th>c</th>\n",
       "      <th>d</th>\n",
       "      <th>e</th>\n",
       "      <th>f</th>\n",
       "    </tr>\n",
       "  </thead>\n",
       "  <tbody>\n",
       "    <tr>\n",
       "      <th>u</th>\n",
       "      <td>684</td>\n",
       "      <td>559.000</td>\n",
       "      <td>629</td>\n",
       "      <td>192</td>\n",
       "      <td>835</td>\n",
       "      <td>763</td>\n",
       "    </tr>\n",
       "    <tr>\n",
       "      <th>v</th>\n",
       "      <td>707</td>\n",
       "      <td>359.000</td>\n",
       "      <td>9</td>\n",
       "      <td>723</td>\n",
       "      <td>277</td>\n",
       "      <td>754</td>\n",
       "    </tr>\n",
       "    <tr>\n",
       "      <th>w</th>\n",
       "      <td>804</td>\n",
       "      <td>599.000</td>\n",
       "      <td>70</td>\n",
       "      <td>472</td>\n",
       "      <td>600</td>\n",
       "      <td>396</td>\n",
       "    </tr>\n",
       "    <tr>\n",
       "      <th>x</th>\n",
       "      <td>314</td>\n",
       "      <td>123.456</td>\n",
       "      <td>486</td>\n",
       "      <td>551</td>\n",
       "      <td>87</td>\n",
       "      <td>174</td>\n",
       "    </tr>\n",
       "    <tr>\n",
       "      <th>y</th>\n",
       "      <td>600</td>\n",
       "      <td>849.000</td>\n",
       "      <td>677</td>\n",
       "      <td>537</td>\n",
       "      <td>845</td>\n",
       "      <td>72</td>\n",
       "    </tr>\n",
       "    <tr>\n",
       "      <th>z</th>\n",
       "      <td>777</td>\n",
       "      <td>916.000</td>\n",
       "      <td>115</td>\n",
       "      <td>976</td>\n",
       "      <td>755</td>\n",
       "      <td>709</td>\n",
       "    </tr>\n",
       "  </tbody>\n",
       "</table>\n",
       "</div>"
      ],
      "text/plain": [
       "     a        b    c    d    e    f\n",
       "u  684  559.000  629  192  835  763\n",
       "v  707  359.000    9  723  277  754\n",
       "w  804  599.000   70  472  600  396\n",
       "x  314  123.456  486  551   87  174\n",
       "y  600  849.000  677  537  845   72\n",
       "z  777  916.000  115  976  755  709"
      ]
     },
     "execution_count": 247,
     "metadata": {},
     "output_type": "execute_result"
    }
   ],
   "source": [
    "df.loc['x', 'b'] = 123.456   # what if I set it to be a float?\n",
    "df"
   ]
  },
  {
   "cell_type": "code",
   "execution_count": 249,
   "id": "6a064239",
   "metadata": {},
   "outputs": [
    {
     "data": {
      "text/plain": [
       "a      int64\n",
       "b    float64\n",
       "c      int64\n",
       "d      int64\n",
       "e      int64\n",
       "f      int64\n",
       "dtype: object"
      ]
     },
     "execution_count": 249,
     "metadata": {},
     "output_type": "execute_result"
    }
   ],
   "source": [
    "# how do we know which column has which type?\n",
    "df.dtypes"
   ]
  },
  {
   "cell_type": "code",
   "execution_count": 250,
   "id": "0e6fb907",
   "metadata": {},
   "outputs": [
    {
     "data": {
      "text/plain": [
       "a    707.0\n",
       "b    359.0\n",
       "c      9.0\n",
       "d    723.0\n",
       "e    277.0\n",
       "f    754.0\n",
       "Name: v, dtype: float64"
      ]
     },
     "execution_count": 250,
     "metadata": {},
     "output_type": "execute_result"
    }
   ],
   "source": [
    "# we now have seen that column b is float64.  What happens when I retrieve the row v?\n",
    "\n",
    "df.loc['v']"
   ]
  },
  {
   "cell_type": "code",
   "execution_count": 251,
   "id": "b8af9b6f",
   "metadata": {},
   "outputs": [],
   "source": [
    "# assigning a single/scalar value to a number of locations will broadcast the assignment\n",
    "df.loc[['v', 'y'], ['b', 'd', 'f']] = 8888"
   ]
  },
  {
   "cell_type": "code",
   "execution_count": 252,
   "id": "1bbe38c0",
   "metadata": {},
   "outputs": [
    {
     "data": {
      "text/html": [
       "<div>\n",
       "<style scoped>\n",
       "    .dataframe tbody tr th:only-of-type {\n",
       "        vertical-align: middle;\n",
       "    }\n",
       "\n",
       "    .dataframe tbody tr th {\n",
       "        vertical-align: top;\n",
       "    }\n",
       "\n",
       "    .dataframe thead th {\n",
       "        text-align: right;\n",
       "    }\n",
       "</style>\n",
       "<table border=\"1\" class=\"dataframe\">\n",
       "  <thead>\n",
       "    <tr style=\"text-align: right;\">\n",
       "      <th></th>\n",
       "      <th>a</th>\n",
       "      <th>b</th>\n",
       "      <th>c</th>\n",
       "      <th>d</th>\n",
       "      <th>e</th>\n",
       "      <th>f</th>\n",
       "    </tr>\n",
       "  </thead>\n",
       "  <tbody>\n",
       "    <tr>\n",
       "      <th>u</th>\n",
       "      <td>684</td>\n",
       "      <td>559.000</td>\n",
       "      <td>629</td>\n",
       "      <td>192</td>\n",
       "      <td>835</td>\n",
       "      <td>763</td>\n",
       "    </tr>\n",
       "    <tr>\n",
       "      <th>v</th>\n",
       "      <td>707</td>\n",
       "      <td>8888.000</td>\n",
       "      <td>9</td>\n",
       "      <td>8888</td>\n",
       "      <td>277</td>\n",
       "      <td>8888</td>\n",
       "    </tr>\n",
       "    <tr>\n",
       "      <th>w</th>\n",
       "      <td>804</td>\n",
       "      <td>599.000</td>\n",
       "      <td>70</td>\n",
       "      <td>472</td>\n",
       "      <td>600</td>\n",
       "      <td>396</td>\n",
       "    </tr>\n",
       "    <tr>\n",
       "      <th>x</th>\n",
       "      <td>314</td>\n",
       "      <td>123.456</td>\n",
       "      <td>486</td>\n",
       "      <td>551</td>\n",
       "      <td>87</td>\n",
       "      <td>174</td>\n",
       "    </tr>\n",
       "    <tr>\n",
       "      <th>y</th>\n",
       "      <td>600</td>\n",
       "      <td>8888.000</td>\n",
       "      <td>677</td>\n",
       "      <td>8888</td>\n",
       "      <td>845</td>\n",
       "      <td>8888</td>\n",
       "    </tr>\n",
       "    <tr>\n",
       "      <th>z</th>\n",
       "      <td>777</td>\n",
       "      <td>916.000</td>\n",
       "      <td>115</td>\n",
       "      <td>976</td>\n",
       "      <td>755</td>\n",
       "      <td>709</td>\n",
       "    </tr>\n",
       "  </tbody>\n",
       "</table>\n",
       "</div>"
      ],
      "text/plain": [
       "     a         b    c     d    e     f\n",
       "u  684   559.000  629   192  835   763\n",
       "v  707  8888.000    9  8888  277  8888\n",
       "w  804   599.000   70   472  600   396\n",
       "x  314   123.456  486   551   87   174\n",
       "y  600  8888.000  677  8888  845  8888\n",
       "z  777   916.000  115   976  755   709"
      ]
     },
     "execution_count": 252,
     "metadata": {},
     "output_type": "execute_result"
    }
   ],
   "source": [
    "df"
   ]
  },
  {
   "cell_type": "markdown",
   "id": "4901a63c",
   "metadata": {},
   "source": [
    "# Exercises: Assigning and retrieving in data frames\n",
    "\n",
    "1. Create a 4x6 data frame with rows 'wxyz' and columns 'abcdef', and values being random integers from 0-1,000.\n",
    "2. Find all elements of the column 'a' that are even.\n",
    "3. Use this boolean array (where 'a' is even) as a mask index on .loc, for columns 'b' and 'd'.\n",
    "4. Find all elements of the column 'd' that are >= d's mean.\n",
    "5. Assign the number 234 to all rows where d >= its mean, and columns 'a' and 'f'."
   ]
  },
  {
   "cell_type": "code",
   "execution_count": 253,
   "id": "126d817b",
   "metadata": {},
   "outputs": [
    {
     "data": {
      "text/html": [
       "<div>\n",
       "<style scoped>\n",
       "    .dataframe tbody tr th:only-of-type {\n",
       "        vertical-align: middle;\n",
       "    }\n",
       "\n",
       "    .dataframe tbody tr th {\n",
       "        vertical-align: top;\n",
       "    }\n",
       "\n",
       "    .dataframe thead th {\n",
       "        text-align: right;\n",
       "    }\n",
       "</style>\n",
       "<table border=\"1\" class=\"dataframe\">\n",
       "  <thead>\n",
       "    <tr style=\"text-align: right;\">\n",
       "      <th></th>\n",
       "      <th>a</th>\n",
       "      <th>b</th>\n",
       "      <th>c</th>\n",
       "      <th>d</th>\n",
       "      <th>e</th>\n",
       "      <th>f</th>\n",
       "    </tr>\n",
       "  </thead>\n",
       "  <tbody>\n",
       "    <tr>\n",
       "      <th>w</th>\n",
       "      <td>684</td>\n",
       "      <td>559</td>\n",
       "      <td>629</td>\n",
       "      <td>192</td>\n",
       "      <td>835</td>\n",
       "      <td>763</td>\n",
       "    </tr>\n",
       "    <tr>\n",
       "      <th>x</th>\n",
       "      <td>707</td>\n",
       "      <td>359</td>\n",
       "      <td>9</td>\n",
       "      <td>723</td>\n",
       "      <td>277</td>\n",
       "      <td>754</td>\n",
       "    </tr>\n",
       "    <tr>\n",
       "      <th>y</th>\n",
       "      <td>804</td>\n",
       "      <td>599</td>\n",
       "      <td>70</td>\n",
       "      <td>472</td>\n",
       "      <td>600</td>\n",
       "      <td>396</td>\n",
       "    </tr>\n",
       "    <tr>\n",
       "      <th>z</th>\n",
       "      <td>314</td>\n",
       "      <td>705</td>\n",
       "      <td>486</td>\n",
       "      <td>551</td>\n",
       "      <td>87</td>\n",
       "      <td>174</td>\n",
       "    </tr>\n",
       "  </tbody>\n",
       "</table>\n",
       "</div>"
      ],
      "text/plain": [
       "     a    b    c    d    e    f\n",
       "w  684  559  629  192  835  763\n",
       "x  707  359    9  723  277  754\n",
       "y  804  599   70  472  600  396\n",
       "z  314  705  486  551   87  174"
      ]
     },
     "execution_count": 253,
     "metadata": {},
     "output_type": "execute_result"
    }
   ],
   "source": [
    "np.random.seed(0)\n",
    "\n",
    "df = DataFrame(np.random.randint(0, 1000, [4,6]),\n",
    "              index=list('wxyz'),\n",
    "              columns=list('abcdef'))\n",
    "df"
   ]
  },
  {
   "cell_type": "code",
   "execution_count": 255,
   "id": "d7fdb4c3",
   "metadata": {},
   "outputs": [
    {
     "data": {
      "text/plain": [
       "w    684\n",
       "y    804\n",
       "z    314\n",
       "Name: a, dtype: int64"
      ]
     },
     "execution_count": 255,
     "metadata": {},
     "output_type": "execute_result"
    }
   ],
   "source": [
    "df['a'][df['a'] % 2 == 0]"
   ]
  },
  {
   "cell_type": "code",
   "execution_count": 256,
   "id": "c06b964a",
   "metadata": {},
   "outputs": [
    {
     "data": {
      "text/html": [
       "<div>\n",
       "<style scoped>\n",
       "    .dataframe tbody tr th:only-of-type {\n",
       "        vertical-align: middle;\n",
       "    }\n",
       "\n",
       "    .dataframe tbody tr th {\n",
       "        vertical-align: top;\n",
       "    }\n",
       "\n",
       "    .dataframe thead th {\n",
       "        text-align: right;\n",
       "    }\n",
       "</style>\n",
       "<table border=\"1\" class=\"dataframe\">\n",
       "  <thead>\n",
       "    <tr style=\"text-align: right;\">\n",
       "      <th></th>\n",
       "      <th>b</th>\n",
       "      <th>d</th>\n",
       "    </tr>\n",
       "  </thead>\n",
       "  <tbody>\n",
       "    <tr>\n",
       "      <th>w</th>\n",
       "      <td>559</td>\n",
       "      <td>192</td>\n",
       "    </tr>\n",
       "    <tr>\n",
       "      <th>y</th>\n",
       "      <td>599</td>\n",
       "      <td>472</td>\n",
       "    </tr>\n",
       "    <tr>\n",
       "      <th>z</th>\n",
       "      <td>705</td>\n",
       "      <td>551</td>\n",
       "    </tr>\n",
       "  </tbody>\n",
       "</table>\n",
       "</div>"
      ],
      "text/plain": [
       "     b    d\n",
       "w  559  192\n",
       "y  599  472\n",
       "z  705  551"
      ]
     },
     "execution_count": 256,
     "metadata": {},
     "output_type": "execute_result"
    }
   ],
   "source": [
    "#       rows          columns\n",
    "df.loc[df['a']%2==0, ['b', 'd'] ]"
   ]
  },
  {
   "cell_type": "code",
   "execution_count": 259,
   "id": "4811633b",
   "metadata": {},
   "outputs": [
    {
     "data": {
      "text/plain": [
       "x    723\n",
       "z    551\n",
       "Name: d, dtype: int64"
      ]
     },
     "execution_count": 259,
     "metadata": {},
     "output_type": "execute_result"
    }
   ],
   "source": [
    "#            row selector          column selector\n",
    "df.loc[df['d'] >= df['d'].mean(),    'd' ]"
   ]
  },
  {
   "cell_type": "code",
   "execution_count": 260,
   "id": "b4131b43",
   "metadata": {},
   "outputs": [
    {
     "data": {
      "text/html": [
       "<div>\n",
       "<style scoped>\n",
       "    .dataframe tbody tr th:only-of-type {\n",
       "        vertical-align: middle;\n",
       "    }\n",
       "\n",
       "    .dataframe tbody tr th {\n",
       "        vertical-align: top;\n",
       "    }\n",
       "\n",
       "    .dataframe thead th {\n",
       "        text-align: right;\n",
       "    }\n",
       "</style>\n",
       "<table border=\"1\" class=\"dataframe\">\n",
       "  <thead>\n",
       "    <tr style=\"text-align: right;\">\n",
       "      <th></th>\n",
       "      <th>a</th>\n",
       "      <th>f</th>\n",
       "    </tr>\n",
       "  </thead>\n",
       "  <tbody>\n",
       "    <tr>\n",
       "      <th>x</th>\n",
       "      <td>707</td>\n",
       "      <td>754</td>\n",
       "    </tr>\n",
       "    <tr>\n",
       "      <th>z</th>\n",
       "      <td>314</td>\n",
       "      <td>174</td>\n",
       "    </tr>\n",
       "  </tbody>\n",
       "</table>\n",
       "</div>"
      ],
      "text/plain": [
       "     a    f\n",
       "x  707  754\n",
       "z  314  174"
      ]
     },
     "execution_count": 260,
     "metadata": {},
     "output_type": "execute_result"
    }
   ],
   "source": [
    "#            row selector          column selector\n",
    "df.loc[df['d'] >= df['d'].mean(),    ['a', 'f'] ]"
   ]
  },
  {
   "cell_type": "markdown",
   "id": "d12f58ad",
   "metadata": {},
   "source": [
    "# Next up\n",
    "\n",
    "1. Series methods on a data frame\n",
    "2. Add/remove rows/columns to a data frame\n",
    "3. Real-world data! CSV\n",
    "    - Read data into our data frame\n",
    "    - Start to ask questions about real-world data using row/column selectors\n",
    "    \n",
    "Resume at :35    "
   ]
  },
  {
   "cell_type": "code",
   "execution_count": 261,
   "id": "d9f26aad",
   "metadata": {},
   "outputs": [
    {
     "data": {
      "text/html": [
       "<div>\n",
       "<style scoped>\n",
       "    .dataframe tbody tr th:only-of-type {\n",
       "        vertical-align: middle;\n",
       "    }\n",
       "\n",
       "    .dataframe tbody tr th {\n",
       "        vertical-align: top;\n",
       "    }\n",
       "\n",
       "    .dataframe thead th {\n",
       "        text-align: right;\n",
       "    }\n",
       "</style>\n",
       "<table border=\"1\" class=\"dataframe\">\n",
       "  <thead>\n",
       "    <tr style=\"text-align: right;\">\n",
       "      <th></th>\n",
       "      <th>a</th>\n",
       "      <th>b</th>\n",
       "      <th>c</th>\n",
       "      <th>d</th>\n",
       "      <th>e</th>\n",
       "      <th>f</th>\n",
       "    </tr>\n",
       "  </thead>\n",
       "  <tbody>\n",
       "    <tr>\n",
       "      <th>w</th>\n",
       "      <td>684</td>\n",
       "      <td>559</td>\n",
       "      <td>629</td>\n",
       "      <td>192</td>\n",
       "      <td>835</td>\n",
       "      <td>763</td>\n",
       "    </tr>\n",
       "    <tr>\n",
       "      <th>x</th>\n",
       "      <td>707</td>\n",
       "      <td>359</td>\n",
       "      <td>9</td>\n",
       "      <td>723</td>\n",
       "      <td>277</td>\n",
       "      <td>754</td>\n",
       "    </tr>\n",
       "    <tr>\n",
       "      <th>y</th>\n",
       "      <td>804</td>\n",
       "      <td>599</td>\n",
       "      <td>70</td>\n",
       "      <td>472</td>\n",
       "      <td>600</td>\n",
       "      <td>396</td>\n",
       "    </tr>\n",
       "    <tr>\n",
       "      <th>z</th>\n",
       "      <td>314</td>\n",
       "      <td>705</td>\n",
       "      <td>486</td>\n",
       "      <td>551</td>\n",
       "      <td>87</td>\n",
       "      <td>174</td>\n",
       "    </tr>\n",
       "  </tbody>\n",
       "</table>\n",
       "</div>"
      ],
      "text/plain": [
       "     a    b    c    d    e    f\n",
       "w  684  559  629  192  835  763\n",
       "x  707  359    9  723  277  754\n",
       "y  804  599   70  472  600  396\n",
       "z  314  705  486  551   87  174"
      ]
     },
     "execution_count": 261,
     "metadata": {},
     "output_type": "execute_result"
    }
   ],
   "source": [
    "df"
   ]
  },
  {
   "cell_type": "code",
   "execution_count": 262,
   "id": "da43e761",
   "metadata": {},
   "outputs": [],
   "source": [
    "# general rule of thumb: Any series method can be run on a data frame, too\n",
    "# you'll get a result for each column on the data frame\n",
    "# your result will typically be a series (in which the index is the df's columns)\n",
    "#   or a new data frame, based on the one you have"
   ]
  },
  {
   "cell_type": "code",
   "execution_count": 263,
   "id": "02b39b58",
   "metadata": {},
   "outputs": [
    {
     "data": {
      "text/plain": [
       "627.25"
      ]
     },
     "execution_count": 263,
     "metadata": {},
     "output_type": "execute_result"
    }
   ],
   "source": [
    "df['a'].mean()  # gets the mean of column a"
   ]
  },
  {
   "cell_type": "code",
   "execution_count": 264,
   "id": "b36d1738",
   "metadata": {},
   "outputs": [
    {
     "data": {
      "text/plain": [
       "a    627.25\n",
       "b    555.50\n",
       "c    298.50\n",
       "d    484.50\n",
       "e    449.75\n",
       "f    521.75\n",
       "dtype: float64"
      ]
     },
     "execution_count": 264,
     "metadata": {},
     "output_type": "execute_result"
    }
   ],
   "source": [
    "df.mean()   # gets the mean of every column"
   ]
  },
  {
   "cell_type": "code",
   "execution_count": 265,
   "id": "9bb04ee3",
   "metadata": {},
   "outputs": [
    {
     "data": {
      "text/plain": [
       "a    215.210556\n",
       "b    144.760722\n",
       "c    305.728093\n",
       "d    221.372236\n",
       "e    332.877730\n",
       "f    288.030525\n",
       "dtype: float64"
      ]
     },
     "execution_count": 265,
     "metadata": {},
     "output_type": "execute_result"
    }
   ],
   "source": [
    "df.std()"
   ]
  },
  {
   "cell_type": "code",
   "execution_count": 266,
   "id": "6a5395bc",
   "metadata": {},
   "outputs": [
    {
     "data": {
      "text/html": [
       "<div>\n",
       "<style scoped>\n",
       "    .dataframe tbody tr th:only-of-type {\n",
       "        vertical-align: middle;\n",
       "    }\n",
       "\n",
       "    .dataframe tbody tr th {\n",
       "        vertical-align: top;\n",
       "    }\n",
       "\n",
       "    .dataframe thead th {\n",
       "        text-align: right;\n",
       "    }\n",
       "</style>\n",
       "<table border=\"1\" class=\"dataframe\">\n",
       "  <thead>\n",
       "    <tr style=\"text-align: right;\">\n",
       "      <th></th>\n",
       "      <th>a</th>\n",
       "      <th>b</th>\n",
       "      <th>c</th>\n",
       "      <th>d</th>\n",
       "      <th>e</th>\n",
       "      <th>f</th>\n",
       "    </tr>\n",
       "  </thead>\n",
       "  <tbody>\n",
       "    <tr>\n",
       "      <th>count</th>\n",
       "      <td>4.000000</td>\n",
       "      <td>4.000000</td>\n",
       "      <td>4.000000</td>\n",
       "      <td>4.000000</td>\n",
       "      <td>4.00000</td>\n",
       "      <td>4.000000</td>\n",
       "    </tr>\n",
       "    <tr>\n",
       "      <th>mean</th>\n",
       "      <td>627.250000</td>\n",
       "      <td>555.500000</td>\n",
       "      <td>298.500000</td>\n",
       "      <td>484.500000</td>\n",
       "      <td>449.75000</td>\n",
       "      <td>521.750000</td>\n",
       "    </tr>\n",
       "    <tr>\n",
       "      <th>std</th>\n",
       "      <td>215.210556</td>\n",
       "      <td>144.760722</td>\n",
       "      <td>305.728093</td>\n",
       "      <td>221.372236</td>\n",
       "      <td>332.87773</td>\n",
       "      <td>288.030525</td>\n",
       "    </tr>\n",
       "    <tr>\n",
       "      <th>min</th>\n",
       "      <td>314.000000</td>\n",
       "      <td>359.000000</td>\n",
       "      <td>9.000000</td>\n",
       "      <td>192.000000</td>\n",
       "      <td>87.00000</td>\n",
       "      <td>174.000000</td>\n",
       "    </tr>\n",
       "    <tr>\n",
       "      <th>25%</th>\n",
       "      <td>591.500000</td>\n",
       "      <td>509.000000</td>\n",
       "      <td>54.750000</td>\n",
       "      <td>402.000000</td>\n",
       "      <td>229.50000</td>\n",
       "      <td>340.500000</td>\n",
       "    </tr>\n",
       "    <tr>\n",
       "      <th>50%</th>\n",
       "      <td>695.500000</td>\n",
       "      <td>579.000000</td>\n",
       "      <td>278.000000</td>\n",
       "      <td>511.500000</td>\n",
       "      <td>438.50000</td>\n",
       "      <td>575.000000</td>\n",
       "    </tr>\n",
       "    <tr>\n",
       "      <th>75%</th>\n",
       "      <td>731.250000</td>\n",
       "      <td>625.500000</td>\n",
       "      <td>521.750000</td>\n",
       "      <td>594.000000</td>\n",
       "      <td>658.75000</td>\n",
       "      <td>756.250000</td>\n",
       "    </tr>\n",
       "    <tr>\n",
       "      <th>max</th>\n",
       "      <td>804.000000</td>\n",
       "      <td>705.000000</td>\n",
       "      <td>629.000000</td>\n",
       "      <td>723.000000</td>\n",
       "      <td>835.00000</td>\n",
       "      <td>763.000000</td>\n",
       "    </tr>\n",
       "  </tbody>\n",
       "</table>\n",
       "</div>"
      ],
      "text/plain": [
       "                a           b           c           d          e           f\n",
       "count    4.000000    4.000000    4.000000    4.000000    4.00000    4.000000\n",
       "mean   627.250000  555.500000  298.500000  484.500000  449.75000  521.750000\n",
       "std    215.210556  144.760722  305.728093  221.372236  332.87773  288.030525\n",
       "min    314.000000  359.000000    9.000000  192.000000   87.00000  174.000000\n",
       "25%    591.500000  509.000000   54.750000  402.000000  229.50000  340.500000\n",
       "50%    695.500000  579.000000  278.000000  511.500000  438.50000  575.000000\n",
       "75%    731.250000  625.500000  521.750000  594.000000  658.75000  756.250000\n",
       "max    804.000000  705.000000  629.000000  723.000000  835.00000  763.000000"
      ]
     },
     "execution_count": 266,
     "metadata": {},
     "output_type": "execute_result"
    }
   ],
   "source": [
    "df.describe()  # now, we'll get descriptive statistics for every column"
   ]
  },
  {
   "cell_type": "code",
   "execution_count": 267,
   "id": "d032376d",
   "metadata": {},
   "outputs": [
    {
     "data": {
      "text/html": [
       "<div>\n",
       "<style scoped>\n",
       "    .dataframe tbody tr th:only-of-type {\n",
       "        vertical-align: middle;\n",
       "    }\n",
       "\n",
       "    .dataframe tbody tr th {\n",
       "        vertical-align: top;\n",
       "    }\n",
       "\n",
       "    .dataframe thead th {\n",
       "        text-align: right;\n",
       "    }\n",
       "</style>\n",
       "<table border=\"1\" class=\"dataframe\">\n",
       "  <thead>\n",
       "    <tr style=\"text-align: right;\">\n",
       "      <th></th>\n",
       "      <th>a</th>\n",
       "      <th>b</th>\n",
       "      <th>c</th>\n",
       "      <th>d</th>\n",
       "      <th>e</th>\n",
       "      <th>f</th>\n",
       "    </tr>\n",
       "  </thead>\n",
       "  <tbody>\n",
       "    <tr>\n",
       "      <th>w</th>\n",
       "      <td>684</td>\n",
       "      <td>559</td>\n",
       "      <td>629</td>\n",
       "      <td>192</td>\n",
       "      <td>835</td>\n",
       "      <td>763</td>\n",
       "    </tr>\n",
       "    <tr>\n",
       "      <th>x</th>\n",
       "      <td>707</td>\n",
       "      <td>359</td>\n",
       "      <td>9</td>\n",
       "      <td>723</td>\n",
       "      <td>277</td>\n",
       "      <td>754</td>\n",
       "    </tr>\n",
       "    <tr>\n",
       "      <th>y</th>\n",
       "      <td>804</td>\n",
       "      <td>599</td>\n",
       "      <td>70</td>\n",
       "      <td>472</td>\n",
       "      <td>600</td>\n",
       "      <td>396</td>\n",
       "    </tr>\n",
       "    <tr>\n",
       "      <th>z</th>\n",
       "      <td>314</td>\n",
       "      <td>705</td>\n",
       "      <td>486</td>\n",
       "      <td>551</td>\n",
       "      <td>87</td>\n",
       "      <td>174</td>\n",
       "    </tr>\n",
       "  </tbody>\n",
       "</table>\n",
       "</div>"
      ],
      "text/plain": [
       "     a    b    c    d    e    f\n",
       "w  684  559  629  192  835  763\n",
       "x  707  359    9  723  277  754\n",
       "y  804  599   70  472  600  396\n",
       "z  314  705  486  551   87  174"
      ]
     },
     "execution_count": 267,
     "metadata": {},
     "output_type": "execute_result"
    }
   ],
   "source": [
    "df"
   ]
  },
  {
   "cell_type": "code",
   "execution_count": 268,
   "id": "15d703b7",
   "metadata": {},
   "outputs": [],
   "source": [
    "df.loc['y', 'd'] = np.nan\n",
    "df.loc['y', 'f'] = np.nan\n",
    "df.loc['x', 'b'] = np.nan\n",
    "df.loc['w', 'a'] = np.nan\n"
   ]
  },
  {
   "cell_type": "code",
   "execution_count": 269,
   "id": "e6547a15",
   "metadata": {},
   "outputs": [
    {
     "data": {
      "text/html": [
       "<div>\n",
       "<style scoped>\n",
       "    .dataframe tbody tr th:only-of-type {\n",
       "        vertical-align: middle;\n",
       "    }\n",
       "\n",
       "    .dataframe tbody tr th {\n",
       "        vertical-align: top;\n",
       "    }\n",
       "\n",
       "    .dataframe thead th {\n",
       "        text-align: right;\n",
       "    }\n",
       "</style>\n",
       "<table border=\"1\" class=\"dataframe\">\n",
       "  <thead>\n",
       "    <tr style=\"text-align: right;\">\n",
       "      <th></th>\n",
       "      <th>a</th>\n",
       "      <th>b</th>\n",
       "      <th>c</th>\n",
       "      <th>d</th>\n",
       "      <th>e</th>\n",
       "      <th>f</th>\n",
       "    </tr>\n",
       "  </thead>\n",
       "  <tbody>\n",
       "    <tr>\n",
       "      <th>w</th>\n",
       "      <td>NaN</td>\n",
       "      <td>559.0</td>\n",
       "      <td>629</td>\n",
       "      <td>192.0</td>\n",
       "      <td>835</td>\n",
       "      <td>763.0</td>\n",
       "    </tr>\n",
       "    <tr>\n",
       "      <th>x</th>\n",
       "      <td>707.0</td>\n",
       "      <td>NaN</td>\n",
       "      <td>9</td>\n",
       "      <td>723.0</td>\n",
       "      <td>277</td>\n",
       "      <td>754.0</td>\n",
       "    </tr>\n",
       "    <tr>\n",
       "      <th>y</th>\n",
       "      <td>804.0</td>\n",
       "      <td>599.0</td>\n",
       "      <td>70</td>\n",
       "      <td>NaN</td>\n",
       "      <td>600</td>\n",
       "      <td>NaN</td>\n",
       "    </tr>\n",
       "    <tr>\n",
       "      <th>z</th>\n",
       "      <td>314.0</td>\n",
       "      <td>705.0</td>\n",
       "      <td>486</td>\n",
       "      <td>551.0</td>\n",
       "      <td>87</td>\n",
       "      <td>174.0</td>\n",
       "    </tr>\n",
       "  </tbody>\n",
       "</table>\n",
       "</div>"
      ],
      "text/plain": [
       "       a      b    c      d    e      f\n",
       "w    NaN  559.0  629  192.0  835  763.0\n",
       "x  707.0    NaN    9  723.0  277  754.0\n",
       "y  804.0  599.0   70    NaN  600    NaN\n",
       "z  314.0  705.0  486  551.0   87  174.0"
      ]
     },
     "execution_count": 269,
     "metadata": {},
     "output_type": "execute_result"
    }
   ],
   "source": [
    "df"
   ]
  },
  {
   "cell_type": "code",
   "execution_count": 270,
   "id": "1e5bdc3c",
   "metadata": {},
   "outputs": [
    {
     "data": {
      "text/html": [
       "<div>\n",
       "<style scoped>\n",
       "    .dataframe tbody tr th:only-of-type {\n",
       "        vertical-align: middle;\n",
       "    }\n",
       "\n",
       "    .dataframe tbody tr th {\n",
       "        vertical-align: top;\n",
       "    }\n",
       "\n",
       "    .dataframe thead th {\n",
       "        text-align: right;\n",
       "    }\n",
       "</style>\n",
       "<table border=\"1\" class=\"dataframe\">\n",
       "  <thead>\n",
       "    <tr style=\"text-align: right;\">\n",
       "      <th></th>\n",
       "      <th>a</th>\n",
       "      <th>b</th>\n",
       "      <th>c</th>\n",
       "      <th>d</th>\n",
       "      <th>e</th>\n",
       "      <th>f</th>\n",
       "    </tr>\n",
       "  </thead>\n",
       "  <tbody>\n",
       "    <tr>\n",
       "      <th>z</th>\n",
       "      <td>314.0</td>\n",
       "      <td>705.0</td>\n",
       "      <td>486</td>\n",
       "      <td>551.0</td>\n",
       "      <td>87</td>\n",
       "      <td>174.0</td>\n",
       "    </tr>\n",
       "  </tbody>\n",
       "</table>\n",
       "</div>"
      ],
      "text/plain": [
       "       a      b    c      d   e      f\n",
       "z  314.0  705.0  486  551.0  87  174.0"
      ]
     },
     "execution_count": 270,
     "metadata": {},
     "output_type": "execute_result"
    }
   ],
   "source": [
    "# remove all rows containing nan with df.dropna\n",
    "# in a data frame, dropna removes any row containing any np.nan values!\n",
    "df.dropna()"
   ]
  },
  {
   "cell_type": "code",
   "execution_count": 272,
   "id": "87d6a28f",
   "metadata": {},
   "outputs": [
    {
     "data": {
      "text/html": [
       "<div>\n",
       "<style scoped>\n",
       "    .dataframe tbody tr th:only-of-type {\n",
       "        vertical-align: middle;\n",
       "    }\n",
       "\n",
       "    .dataframe tbody tr th {\n",
       "        vertical-align: top;\n",
       "    }\n",
       "\n",
       "    .dataframe thead th {\n",
       "        text-align: right;\n",
       "    }\n",
       "</style>\n",
       "<table border=\"1\" class=\"dataframe\">\n",
       "  <thead>\n",
       "    <tr style=\"text-align: right;\">\n",
       "      <th></th>\n",
       "      <th>a</th>\n",
       "      <th>b</th>\n",
       "      <th>c</th>\n",
       "      <th>d</th>\n",
       "      <th>e</th>\n",
       "      <th>f</th>\n",
       "    </tr>\n",
       "  </thead>\n",
       "  <tbody>\n",
       "    <tr>\n",
       "      <th>w</th>\n",
       "      <td>NaN</td>\n",
       "      <td>559.0</td>\n",
       "      <td>629</td>\n",
       "      <td>192.0</td>\n",
       "      <td>835</td>\n",
       "      <td>763.0</td>\n",
       "    </tr>\n",
       "    <tr>\n",
       "      <th>x</th>\n",
       "      <td>707.0</td>\n",
       "      <td>NaN</td>\n",
       "      <td>9</td>\n",
       "      <td>723.0</td>\n",
       "      <td>277</td>\n",
       "      <td>754.0</td>\n",
       "    </tr>\n",
       "    <tr>\n",
       "      <th>z</th>\n",
       "      <td>314.0</td>\n",
       "      <td>705.0</td>\n",
       "      <td>486</td>\n",
       "      <td>551.0</td>\n",
       "      <td>87</td>\n",
       "      <td>174.0</td>\n",
       "    </tr>\n",
       "  </tbody>\n",
       "</table>\n",
       "</div>"
      ],
      "text/plain": [
       "       a      b    c      d    e      f\n",
       "w    NaN  559.0  629  192.0  835  763.0\n",
       "x  707.0    NaN    9  723.0  277  754.0\n",
       "z  314.0  705.0  486  551.0   87  174.0"
      ]
     },
     "execution_count": 272,
     "metadata": {},
     "output_type": "execute_result"
    }
   ],
   "source": [
    "# what if we want to be a bit looser, and so longer as we have 4 good pieces of\n",
    "# data, we'll keep a row?\n",
    "\n",
    "df.dropna(thresh=5)"
   ]
  },
  {
   "cell_type": "code",
   "execution_count": 273,
   "id": "cf2c9f75",
   "metadata": {},
   "outputs": [
    {
     "data": {
      "text/html": [
       "<div>\n",
       "<style scoped>\n",
       "    .dataframe tbody tr th:only-of-type {\n",
       "        vertical-align: middle;\n",
       "    }\n",
       "\n",
       "    .dataframe tbody tr th {\n",
       "        vertical-align: top;\n",
       "    }\n",
       "\n",
       "    .dataframe thead th {\n",
       "        text-align: right;\n",
       "    }\n",
       "</style>\n",
       "<table border=\"1\" class=\"dataframe\">\n",
       "  <thead>\n",
       "    <tr style=\"text-align: right;\">\n",
       "      <th></th>\n",
       "      <th>a</th>\n",
       "      <th>b</th>\n",
       "      <th>c</th>\n",
       "      <th>d</th>\n",
       "      <th>e</th>\n",
       "      <th>f</th>\n",
       "    </tr>\n",
       "  </thead>\n",
       "  <tbody>\n",
       "    <tr>\n",
       "      <th>w</th>\n",
       "      <td>NaN</td>\n",
       "      <td>559.0</td>\n",
       "      <td>629</td>\n",
       "      <td>192.0</td>\n",
       "      <td>835</td>\n",
       "      <td>763.0</td>\n",
       "    </tr>\n",
       "    <tr>\n",
       "      <th>x</th>\n",
       "      <td>707.0</td>\n",
       "      <td>NaN</td>\n",
       "      <td>9</td>\n",
       "      <td>723.0</td>\n",
       "      <td>277</td>\n",
       "      <td>754.0</td>\n",
       "    </tr>\n",
       "    <tr>\n",
       "      <th>y</th>\n",
       "      <td>804.0</td>\n",
       "      <td>599.0</td>\n",
       "      <td>70</td>\n",
       "      <td>NaN</td>\n",
       "      <td>600</td>\n",
       "      <td>NaN</td>\n",
       "    </tr>\n",
       "    <tr>\n",
       "      <th>z</th>\n",
       "      <td>314.0</td>\n",
       "      <td>705.0</td>\n",
       "      <td>486</td>\n",
       "      <td>551.0</td>\n",
       "      <td>87</td>\n",
       "      <td>174.0</td>\n",
       "    </tr>\n",
       "  </tbody>\n",
       "</table>\n",
       "</div>"
      ],
      "text/plain": [
       "       a      b    c      d    e      f\n",
       "w    NaN  559.0  629  192.0  835  763.0\n",
       "x  707.0    NaN    9  723.0  277  754.0\n",
       "y  804.0  599.0   70    NaN  600    NaN\n",
       "z  314.0  705.0  486  551.0   87  174.0"
      ]
     },
     "execution_count": 273,
     "metadata": {},
     "output_type": "execute_result"
    }
   ],
   "source": [
    "df"
   ]
  },
  {
   "cell_type": "code",
   "execution_count": 275,
   "id": "7ec3912c",
   "metadata": {},
   "outputs": [
    {
     "data": {
      "text/html": [
       "<div>\n",
       "<style scoped>\n",
       "    .dataframe tbody tr th:only-of-type {\n",
       "        vertical-align: middle;\n",
       "    }\n",
       "\n",
       "    .dataframe tbody tr th {\n",
       "        vertical-align: top;\n",
       "    }\n",
       "\n",
       "    .dataframe thead th {\n",
       "        text-align: right;\n",
       "    }\n",
       "</style>\n",
       "<table border=\"1\" class=\"dataframe\">\n",
       "  <thead>\n",
       "    <tr style=\"text-align: right;\">\n",
       "      <th></th>\n",
       "      <th>a</th>\n",
       "      <th>b</th>\n",
       "      <th>c</th>\n",
       "      <th>d</th>\n",
       "      <th>e</th>\n",
       "      <th>f</th>\n",
       "    </tr>\n",
       "  </thead>\n",
       "  <tbody>\n",
       "    <tr>\n",
       "      <th>w</th>\n",
       "      <td>NaN</td>\n",
       "      <td>559.0</td>\n",
       "      <td>629</td>\n",
       "      <td>192.0</td>\n",
       "      <td>835</td>\n",
       "      <td>763.0</td>\n",
       "    </tr>\n",
       "    <tr>\n",
       "      <th>x</th>\n",
       "      <td>707.0</td>\n",
       "      <td>NaN</td>\n",
       "      <td>9</td>\n",
       "      <td>723.0</td>\n",
       "      <td>277</td>\n",
       "      <td>754.0</td>\n",
       "    </tr>\n",
       "    <tr>\n",
       "      <th>y</th>\n",
       "      <td>804.0</td>\n",
       "      <td>599.0</td>\n",
       "      <td>70</td>\n",
       "      <td>NaN</td>\n",
       "      <td>600</td>\n",
       "      <td>NaN</td>\n",
       "    </tr>\n",
       "    <tr>\n",
       "      <th>z</th>\n",
       "      <td>314.0</td>\n",
       "      <td>705.0</td>\n",
       "      <td>486</td>\n",
       "      <td>551.0</td>\n",
       "      <td>87</td>\n",
       "      <td>174.0</td>\n",
       "    </tr>\n",
       "    <tr>\n",
       "      <th>q</th>\n",
       "      <td>10.0</td>\n",
       "      <td>20.0</td>\n",
       "      <td>30</td>\n",
       "      <td>40.0</td>\n",
       "      <td>50</td>\n",
       "      <td>60.0</td>\n",
       "    </tr>\n",
       "  </tbody>\n",
       "</table>\n",
       "</div>"
      ],
      "text/plain": [
       "       a      b    c      d    e      f\n",
       "w    NaN  559.0  629  192.0  835  763.0\n",
       "x  707.0    NaN    9  723.0  277  754.0\n",
       "y  804.0  599.0   70    NaN  600    NaN\n",
       "z  314.0  705.0  486  551.0   87  174.0\n",
       "q   10.0   20.0   30   40.0   50   60.0"
      ]
     },
     "execution_count": 275,
     "metadata": {},
     "output_type": "execute_result"
    }
   ],
   "source": [
    "# how can I add a row to a data frame? Just assign to it, using .loc and naming the index\n",
    "df.loc['q'] = [10, 20, 30, 40, 50, 60]\n",
    "df"
   ]
  },
  {
   "cell_type": "code",
   "execution_count": 276,
   "id": "fa13f5aa",
   "metadata": {},
   "outputs": [
    {
     "data": {
      "text/html": [
       "<div>\n",
       "<style scoped>\n",
       "    .dataframe tbody tr th:only-of-type {\n",
       "        vertical-align: middle;\n",
       "    }\n",
       "\n",
       "    .dataframe tbody tr th {\n",
       "        vertical-align: top;\n",
       "    }\n",
       "\n",
       "    .dataframe thead th {\n",
       "        text-align: right;\n",
       "    }\n",
       "</style>\n",
       "<table border=\"1\" class=\"dataframe\">\n",
       "  <thead>\n",
       "    <tr style=\"text-align: right;\">\n",
       "      <th></th>\n",
       "      <th>a</th>\n",
       "      <th>b</th>\n",
       "      <th>c</th>\n",
       "      <th>d</th>\n",
       "      <th>e</th>\n",
       "      <th>f</th>\n",
       "    </tr>\n",
       "  </thead>\n",
       "  <tbody>\n",
       "    <tr>\n",
       "      <th>w</th>\n",
       "      <td>NaN</td>\n",
       "      <td>559.0</td>\n",
       "      <td>629</td>\n",
       "      <td>192.0</td>\n",
       "      <td>835</td>\n",
       "      <td>763.0</td>\n",
       "    </tr>\n",
       "    <tr>\n",
       "      <th>x</th>\n",
       "      <td>707.0</td>\n",
       "      <td>NaN</td>\n",
       "      <td>9</td>\n",
       "      <td>723.0</td>\n",
       "      <td>277</td>\n",
       "      <td>754.0</td>\n",
       "    </tr>\n",
       "    <tr>\n",
       "      <th>y</th>\n",
       "      <td>804.0</td>\n",
       "      <td>599.0</td>\n",
       "      <td>70</td>\n",
       "      <td>NaN</td>\n",
       "      <td>600</td>\n",
       "      <td>NaN</td>\n",
       "    </tr>\n",
       "    <tr>\n",
       "      <th>z</th>\n",
       "      <td>314.0</td>\n",
       "      <td>705.0</td>\n",
       "      <td>486</td>\n",
       "      <td>551.0</td>\n",
       "      <td>87</td>\n",
       "      <td>174.0</td>\n",
       "    </tr>\n",
       "    <tr>\n",
       "      <th>q</th>\n",
       "      <td>10.0</td>\n",
       "      <td>20.0</td>\n",
       "      <td>30</td>\n",
       "      <td>40.0</td>\n",
       "      <td>50</td>\n",
       "      <td>60.0</td>\n",
       "    </tr>\n",
       "    <tr>\n",
       "      <th>r</th>\n",
       "      <td>100.0</td>\n",
       "      <td>200.0</td>\n",
       "      <td>300</td>\n",
       "      <td>400.0</td>\n",
       "      <td>500</td>\n",
       "      <td>600.0</td>\n",
       "    </tr>\n",
       "  </tbody>\n",
       "</table>\n",
       "</div>"
      ],
      "text/plain": [
       "       a      b    c      d    e      f\n",
       "w    NaN  559.0  629  192.0  835  763.0\n",
       "x  707.0    NaN    9  723.0  277  754.0\n",
       "y  804.0  599.0   70    NaN  600    NaN\n",
       "z  314.0  705.0  486  551.0   87  174.0\n",
       "q   10.0   20.0   30   40.0   50   60.0\n",
       "r  100.0  200.0  300  400.0  500  600.0"
      ]
     },
     "execution_count": 276,
     "metadata": {},
     "output_type": "execute_result"
    }
   ],
   "source": [
    "df.loc['r'] = [100, 200, 300, 400, 500, 600]\n",
    "df"
   ]
  },
  {
   "cell_type": "code",
   "execution_count": 277,
   "id": "9b2f2347",
   "metadata": {},
   "outputs": [
    {
     "data": {
      "text/html": [
       "<div>\n",
       "<style scoped>\n",
       "    .dataframe tbody tr th:only-of-type {\n",
       "        vertical-align: middle;\n",
       "    }\n",
       "\n",
       "    .dataframe tbody tr th {\n",
       "        vertical-align: top;\n",
       "    }\n",
       "\n",
       "    .dataframe thead th {\n",
       "        text-align: right;\n",
       "    }\n",
       "</style>\n",
       "<table border=\"1\" class=\"dataframe\">\n",
       "  <thead>\n",
       "    <tr style=\"text-align: right;\">\n",
       "      <th></th>\n",
       "      <th>a</th>\n",
       "      <th>b</th>\n",
       "      <th>c</th>\n",
       "      <th>d</th>\n",
       "      <th>e</th>\n",
       "      <th>f</th>\n",
       "      <th>g</th>\n",
       "    </tr>\n",
       "  </thead>\n",
       "  <tbody>\n",
       "    <tr>\n",
       "      <th>w</th>\n",
       "      <td>NaN</td>\n",
       "      <td>559.0</td>\n",
       "      <td>629</td>\n",
       "      <td>192.0</td>\n",
       "      <td>835</td>\n",
       "      <td>763.0</td>\n",
       "      <td>10</td>\n",
       "    </tr>\n",
       "    <tr>\n",
       "      <th>x</th>\n",
       "      <td>707.0</td>\n",
       "      <td>NaN</td>\n",
       "      <td>9</td>\n",
       "      <td>723.0</td>\n",
       "      <td>277</td>\n",
       "      <td>754.0</td>\n",
       "      <td>20</td>\n",
       "    </tr>\n",
       "    <tr>\n",
       "      <th>y</th>\n",
       "      <td>804.0</td>\n",
       "      <td>599.0</td>\n",
       "      <td>70</td>\n",
       "      <td>NaN</td>\n",
       "      <td>600</td>\n",
       "      <td>NaN</td>\n",
       "      <td>30</td>\n",
       "    </tr>\n",
       "    <tr>\n",
       "      <th>z</th>\n",
       "      <td>314.0</td>\n",
       "      <td>705.0</td>\n",
       "      <td>486</td>\n",
       "      <td>551.0</td>\n",
       "      <td>87</td>\n",
       "      <td>174.0</td>\n",
       "      <td>40</td>\n",
       "    </tr>\n",
       "    <tr>\n",
       "      <th>q</th>\n",
       "      <td>10.0</td>\n",
       "      <td>20.0</td>\n",
       "      <td>30</td>\n",
       "      <td>40.0</td>\n",
       "      <td>50</td>\n",
       "      <td>60.0</td>\n",
       "      <td>50</td>\n",
       "    </tr>\n",
       "    <tr>\n",
       "      <th>r</th>\n",
       "      <td>100.0</td>\n",
       "      <td>200.0</td>\n",
       "      <td>300</td>\n",
       "      <td>400.0</td>\n",
       "      <td>500</td>\n",
       "      <td>600.0</td>\n",
       "      <td>60</td>\n",
       "    </tr>\n",
       "  </tbody>\n",
       "</table>\n",
       "</div>"
      ],
      "text/plain": [
       "       a      b    c      d    e      f   g\n",
       "w    NaN  559.0  629  192.0  835  763.0  10\n",
       "x  707.0    NaN    9  723.0  277  754.0  20\n",
       "y  804.0  599.0   70    NaN  600    NaN  30\n",
       "z  314.0  705.0  486  551.0   87  174.0  40\n",
       "q   10.0   20.0   30   40.0   50   60.0  50\n",
       "r  100.0  200.0  300  400.0  500  600.0  60"
      ]
     },
     "execution_count": 277,
     "metadata": {},
     "output_type": "execute_result"
    }
   ],
   "source": [
    "# how do I add a column? Assign to a new column with []\n",
    "df['g'] = [10, 20, 30, 40, 50, 60]\n",
    "df"
   ]
  },
  {
   "cell_type": "code",
   "execution_count": 278,
   "id": "afc8dfd9",
   "metadata": {},
   "outputs": [
    {
     "data": {
      "text/html": [
       "<div>\n",
       "<style scoped>\n",
       "    .dataframe tbody tr th:only-of-type {\n",
       "        vertical-align: middle;\n",
       "    }\n",
       "\n",
       "    .dataframe tbody tr th {\n",
       "        vertical-align: top;\n",
       "    }\n",
       "\n",
       "    .dataframe thead th {\n",
       "        text-align: right;\n",
       "    }\n",
       "</style>\n",
       "<table border=\"1\" class=\"dataframe\">\n",
       "  <thead>\n",
       "    <tr style=\"text-align: right;\">\n",
       "      <th></th>\n",
       "      <th>a</th>\n",
       "      <th>b</th>\n",
       "      <th>c</th>\n",
       "      <th>d</th>\n",
       "      <th>e</th>\n",
       "      <th>f</th>\n",
       "      <th>g</th>\n",
       "    </tr>\n",
       "  </thead>\n",
       "  <tbody>\n",
       "    <tr>\n",
       "      <th>w</th>\n",
       "      <td>NaN</td>\n",
       "      <td>559.0</td>\n",
       "      <td>629</td>\n",
       "      <td>192.0</td>\n",
       "      <td>835</td>\n",
       "      <td>763.0</td>\n",
       "      <td>10</td>\n",
       "    </tr>\n",
       "    <tr>\n",
       "      <th>x</th>\n",
       "      <td>707.0</td>\n",
       "      <td>NaN</td>\n",
       "      <td>9</td>\n",
       "      <td>723.0</td>\n",
       "      <td>277</td>\n",
       "      <td>754.0</td>\n",
       "      <td>20</td>\n",
       "    </tr>\n",
       "    <tr>\n",
       "      <th>y</th>\n",
       "      <td>804.0</td>\n",
       "      <td>599.0</td>\n",
       "      <td>70</td>\n",
       "      <td>NaN</td>\n",
       "      <td>600</td>\n",
       "      <td>NaN</td>\n",
       "      <td>30</td>\n",
       "    </tr>\n",
       "    <tr>\n",
       "      <th>z</th>\n",
       "      <td>314.0</td>\n",
       "      <td>705.0</td>\n",
       "      <td>486</td>\n",
       "      <td>551.0</td>\n",
       "      <td>87</td>\n",
       "      <td>174.0</td>\n",
       "      <td>40</td>\n",
       "    </tr>\n",
       "    <tr>\n",
       "      <th>q</th>\n",
       "      <td>10.0</td>\n",
       "      <td>20.0</td>\n",
       "      <td>30</td>\n",
       "      <td>40.0</td>\n",
       "      <td>50</td>\n",
       "      <td>60.0</td>\n",
       "      <td>50</td>\n",
       "    </tr>\n",
       "  </tbody>\n",
       "</table>\n",
       "</div>"
      ],
      "text/plain": [
       "       a      b    c      d    e      f   g\n",
       "w    NaN  559.0  629  192.0  835  763.0  10\n",
       "x  707.0    NaN    9  723.0  277  754.0  20\n",
       "y  804.0  599.0   70    NaN  600    NaN  30\n",
       "z  314.0  705.0  486  551.0   87  174.0  40\n",
       "q   10.0   20.0   30   40.0   50   60.0  50"
      ]
     },
     "execution_count": 278,
     "metadata": {},
     "output_type": "execute_result"
    }
   ],
   "source": [
    "# how do I remove a row?\n",
    "\n",
    "df.drop('r')   # we get back a new data frame, without 'r', but df hasn't changed!"
   ]
  },
  {
   "cell_type": "code",
   "execution_count": 280,
   "id": "0fda0f57",
   "metadata": {},
   "outputs": [
    {
     "data": {
      "text/html": [
       "<div>\n",
       "<style scoped>\n",
       "    .dataframe tbody tr th:only-of-type {\n",
       "        vertical-align: middle;\n",
       "    }\n",
       "\n",
       "    .dataframe tbody tr th {\n",
       "        vertical-align: top;\n",
       "    }\n",
       "\n",
       "    .dataframe thead th {\n",
       "        text-align: right;\n",
       "    }\n",
       "</style>\n",
       "<table border=\"1\" class=\"dataframe\">\n",
       "  <thead>\n",
       "    <tr style=\"text-align: right;\">\n",
       "      <th></th>\n",
       "      <th>a</th>\n",
       "      <th>b</th>\n",
       "      <th>c</th>\n",
       "      <th>d</th>\n",
       "      <th>e</th>\n",
       "      <th>f</th>\n",
       "      <th>g</th>\n",
       "    </tr>\n",
       "  </thead>\n",
       "  <tbody>\n",
       "    <tr>\n",
       "      <th>w</th>\n",
       "      <td>NaN</td>\n",
       "      <td>559.0</td>\n",
       "      <td>629</td>\n",
       "      <td>192.0</td>\n",
       "      <td>835</td>\n",
       "      <td>763.0</td>\n",
       "      <td>10</td>\n",
       "    </tr>\n",
       "    <tr>\n",
       "      <th>x</th>\n",
       "      <td>707.0</td>\n",
       "      <td>NaN</td>\n",
       "      <td>9</td>\n",
       "      <td>723.0</td>\n",
       "      <td>277</td>\n",
       "      <td>754.0</td>\n",
       "      <td>20</td>\n",
       "    </tr>\n",
       "    <tr>\n",
       "      <th>y</th>\n",
       "      <td>804.0</td>\n",
       "      <td>599.0</td>\n",
       "      <td>70</td>\n",
       "      <td>NaN</td>\n",
       "      <td>600</td>\n",
       "      <td>NaN</td>\n",
       "      <td>30</td>\n",
       "    </tr>\n",
       "    <tr>\n",
       "      <th>z</th>\n",
       "      <td>314.0</td>\n",
       "      <td>705.0</td>\n",
       "      <td>486</td>\n",
       "      <td>551.0</td>\n",
       "      <td>87</td>\n",
       "      <td>174.0</td>\n",
       "      <td>40</td>\n",
       "    </tr>\n",
       "  </tbody>\n",
       "</table>\n",
       "</div>"
      ],
      "text/plain": [
       "       a      b    c      d    e      f   g\n",
       "w    NaN  559.0  629  192.0  835  763.0  10\n",
       "x  707.0    NaN    9  723.0  277  754.0  20\n",
       "y  804.0  599.0   70    NaN  600    NaN  30\n",
       "z  314.0  705.0  486  551.0   87  174.0  40"
      ]
     },
     "execution_count": 280,
     "metadata": {},
     "output_type": "execute_result"
    }
   ],
   "source": [
    "df = df.drop(['q', 'r'])   # assign to df the result of removing 'q' and 'r' from df\n",
    "df"
   ]
  },
  {
   "cell_type": "code",
   "execution_count": 281,
   "id": "a3916bc4",
   "metadata": {},
   "outputs": [
    {
     "data": {
      "text/html": [
       "<div>\n",
       "<style scoped>\n",
       "    .dataframe tbody tr th:only-of-type {\n",
       "        vertical-align: middle;\n",
       "    }\n",
       "\n",
       "    .dataframe tbody tr th {\n",
       "        vertical-align: top;\n",
       "    }\n",
       "\n",
       "    .dataframe thead th {\n",
       "        text-align: right;\n",
       "    }\n",
       "</style>\n",
       "<table border=\"1\" class=\"dataframe\">\n",
       "  <thead>\n",
       "    <tr style=\"text-align: right;\">\n",
       "      <th></th>\n",
       "      <th>a</th>\n",
       "      <th>b</th>\n",
       "      <th>c</th>\n",
       "      <th>d</th>\n",
       "      <th>e</th>\n",
       "      <th>f</th>\n",
       "    </tr>\n",
       "  </thead>\n",
       "  <tbody>\n",
       "    <tr>\n",
       "      <th>w</th>\n",
       "      <td>NaN</td>\n",
       "      <td>559.0</td>\n",
       "      <td>629</td>\n",
       "      <td>192.0</td>\n",
       "      <td>835</td>\n",
       "      <td>763.0</td>\n",
       "    </tr>\n",
       "    <tr>\n",
       "      <th>x</th>\n",
       "      <td>707.0</td>\n",
       "      <td>NaN</td>\n",
       "      <td>9</td>\n",
       "      <td>723.0</td>\n",
       "      <td>277</td>\n",
       "      <td>754.0</td>\n",
       "    </tr>\n",
       "    <tr>\n",
       "      <th>y</th>\n",
       "      <td>804.0</td>\n",
       "      <td>599.0</td>\n",
       "      <td>70</td>\n",
       "      <td>NaN</td>\n",
       "      <td>600</td>\n",
       "      <td>NaN</td>\n",
       "    </tr>\n",
       "    <tr>\n",
       "      <th>z</th>\n",
       "      <td>314.0</td>\n",
       "      <td>705.0</td>\n",
       "      <td>486</td>\n",
       "      <td>551.0</td>\n",
       "      <td>87</td>\n",
       "      <td>174.0</td>\n",
       "    </tr>\n",
       "  </tbody>\n",
       "</table>\n",
       "</div>"
      ],
      "text/plain": [
       "       a      b    c      d    e      f\n",
       "w    NaN  559.0  629  192.0  835  763.0\n",
       "x  707.0    NaN    9  723.0  277  754.0\n",
       "y  804.0  599.0   70    NaN  600    NaN\n",
       "z  314.0  705.0  486  551.0   87  174.0"
      ]
     },
     "execution_count": 281,
     "metadata": {},
     "output_type": "execute_result"
    }
   ],
   "source": [
    "# to remove a column, we can still use \"drop\"\n",
    "# but we need to specify that we're removing a column -- otherwise, the default is a row\n",
    "\n",
    "df.drop('g', axis='columns')  # this returns a new data frame, doesn't affect df"
   ]
  },
  {
   "cell_type": "code",
   "execution_count": 282,
   "id": "d90e1396",
   "metadata": {},
   "outputs": [
    {
     "data": {
      "text/html": [
       "<div>\n",
       "<style scoped>\n",
       "    .dataframe tbody tr th:only-of-type {\n",
       "        vertical-align: middle;\n",
       "    }\n",
       "\n",
       "    .dataframe tbody tr th {\n",
       "        vertical-align: top;\n",
       "    }\n",
       "\n",
       "    .dataframe thead th {\n",
       "        text-align: right;\n",
       "    }\n",
       "</style>\n",
       "<table border=\"1\" class=\"dataframe\">\n",
       "  <thead>\n",
       "    <tr style=\"text-align: right;\">\n",
       "      <th></th>\n",
       "      <th>a</th>\n",
       "      <th>b</th>\n",
       "      <th>c</th>\n",
       "      <th>d</th>\n",
       "      <th>e</th>\n",
       "    </tr>\n",
       "  </thead>\n",
       "  <tbody>\n",
       "    <tr>\n",
       "      <th>w</th>\n",
       "      <td>NaN</td>\n",
       "      <td>559.0</td>\n",
       "      <td>629</td>\n",
       "      <td>192.0</td>\n",
       "      <td>835</td>\n",
       "    </tr>\n",
       "    <tr>\n",
       "      <th>x</th>\n",
       "      <td>707.0</td>\n",
       "      <td>NaN</td>\n",
       "      <td>9</td>\n",
       "      <td>723.0</td>\n",
       "      <td>277</td>\n",
       "    </tr>\n",
       "    <tr>\n",
       "      <th>y</th>\n",
       "      <td>804.0</td>\n",
       "      <td>599.0</td>\n",
       "      <td>70</td>\n",
       "      <td>NaN</td>\n",
       "      <td>600</td>\n",
       "    </tr>\n",
       "    <tr>\n",
       "      <th>z</th>\n",
       "      <td>314.0</td>\n",
       "      <td>705.0</td>\n",
       "      <td>486</td>\n",
       "      <td>551.0</td>\n",
       "      <td>87</td>\n",
       "    </tr>\n",
       "  </tbody>\n",
       "</table>\n",
       "</div>"
      ],
      "text/plain": [
       "       a      b    c      d    e\n",
       "w    NaN  559.0  629  192.0  835\n",
       "x  707.0    NaN    9  723.0  277\n",
       "y  804.0  599.0   70    NaN  600\n",
       "z  314.0  705.0  486  551.0   87"
      ]
     },
     "execution_count": 282,
     "metadata": {},
     "output_type": "execute_result"
    }
   ],
   "source": [
    "df = df.drop(['f', 'g'], axis='columns')\n",
    "df"
   ]
  },
  {
   "cell_type": "code",
   "execution_count": 283,
   "id": "86d4266e",
   "metadata": {},
   "outputs": [
    {
     "name": "stdout",
     "output_type": "stream",
     "text": [
      "Help on method drop in module pandas.core.frame:\n",
      "\n",
      "drop(labels=None, axis: 'Axis' = 0, index=None, columns=None, level: 'Level | None' = None, inplace: 'bool' = False, errors: 'str' = 'raise') method of pandas.core.frame.DataFrame instance\n",
      "    Drop specified labels from rows or columns.\n",
      "    \n",
      "    Remove rows or columns by specifying label names and corresponding\n",
      "    axis, or by specifying directly index or column names. When using a\n",
      "    multi-index, labels on different levels can be removed by specifying\n",
      "    the level. See the `user guide <advanced.shown_levels>`\n",
      "    for more information about the now unused levels.\n",
      "    \n",
      "    Parameters\n",
      "    ----------\n",
      "    labels : single label or list-like\n",
      "        Index or column labels to drop. A tuple will be used as a single\n",
      "        label and not treated as a list-like.\n",
      "    axis : {0 or 'index', 1 or 'columns'}, default 0\n",
      "        Whether to drop labels from the index (0 or 'index') or\n",
      "        columns (1 or 'columns').\n",
      "    index : single label or list-like\n",
      "        Alternative to specifying axis (``labels, axis=0``\n",
      "        is equivalent to ``index=labels``).\n",
      "    columns : single label or list-like\n",
      "        Alternative to specifying axis (``labels, axis=1``\n",
      "        is equivalent to ``columns=labels``).\n",
      "    level : int or level name, optional\n",
      "        For MultiIndex, level from which the labels will be removed.\n",
      "    inplace : bool, default False\n",
      "        If False, return a copy. Otherwise, do operation\n",
      "        inplace and return None.\n",
      "    errors : {'ignore', 'raise'}, default 'raise'\n",
      "        If 'ignore', suppress error and only existing labels are\n",
      "        dropped.\n",
      "    \n",
      "    Returns\n",
      "    -------\n",
      "    DataFrame or None\n",
      "        DataFrame without the removed index or column labels or\n",
      "        None if ``inplace=True``.\n",
      "    \n",
      "    Raises\n",
      "    ------\n",
      "    KeyError\n",
      "        If any of the labels is not found in the selected axis.\n",
      "    \n",
      "    See Also\n",
      "    --------\n",
      "    DataFrame.loc : Label-location based indexer for selection by label.\n",
      "    DataFrame.dropna : Return DataFrame with labels on given axis omitted\n",
      "        where (all or any) data are missing.\n",
      "    DataFrame.drop_duplicates : Return DataFrame with duplicate rows\n",
      "        removed, optionally only considering certain columns.\n",
      "    Series.drop : Return Series with specified index labels removed.\n",
      "    \n",
      "    Examples\n",
      "    --------\n",
      "    >>> df = pd.DataFrame(np.arange(12).reshape(3, 4),\n",
      "    ...                   columns=['A', 'B', 'C', 'D'])\n",
      "    >>> df\n",
      "       A  B   C   D\n",
      "    0  0  1   2   3\n",
      "    1  4  5   6   7\n",
      "    2  8  9  10  11\n",
      "    \n",
      "    Drop columns\n",
      "    \n",
      "    >>> df.drop(['B', 'C'], axis=1)\n",
      "       A   D\n",
      "    0  0   3\n",
      "    1  4   7\n",
      "    2  8  11\n",
      "    \n",
      "    >>> df.drop(columns=['B', 'C'])\n",
      "       A   D\n",
      "    0  0   3\n",
      "    1  4   7\n",
      "    2  8  11\n",
      "    \n",
      "    Drop a row by index\n",
      "    \n",
      "    >>> df.drop([0, 1])\n",
      "       A  B   C   D\n",
      "    2  8  9  10  11\n",
      "    \n",
      "    Drop columns and/or rows of MultiIndex DataFrame\n",
      "    \n",
      "    >>> midx = pd.MultiIndex(levels=[['lama', 'cow', 'falcon'],\n",
      "    ...                              ['speed', 'weight', 'length']],\n",
      "    ...                      codes=[[0, 0, 0, 1, 1, 1, 2, 2, 2],\n",
      "    ...                             [0, 1, 2, 0, 1, 2, 0, 1, 2]])\n",
      "    >>> df = pd.DataFrame(index=midx, columns=['big', 'small'],\n",
      "    ...                   data=[[45, 30], [200, 100], [1.5, 1], [30, 20],\n",
      "    ...                         [250, 150], [1.5, 0.8], [320, 250],\n",
      "    ...                         [1, 0.8], [0.3, 0.2]])\n",
      "    >>> df\n",
      "                    big     small\n",
      "    lama    speed   45.0    30.0\n",
      "            weight  200.0   100.0\n",
      "            length  1.5     1.0\n",
      "    cow     speed   30.0    20.0\n",
      "            weight  250.0   150.0\n",
      "            length  1.5     0.8\n",
      "    falcon  speed   320.0   250.0\n",
      "            weight  1.0     0.8\n",
      "            length  0.3     0.2\n",
      "    \n",
      "    Drop a specific index combination from the MultiIndex\n",
      "    DataFrame, i.e., drop the combination ``'falcon'`` and\n",
      "    ``'weight'``, which deletes only the corresponding row\n",
      "    \n",
      "    >>> df.drop(index=('falcon', 'weight'))\n",
      "                    big     small\n",
      "    lama    speed   45.0    30.0\n",
      "            weight  200.0   100.0\n",
      "            length  1.5     1.0\n",
      "    cow     speed   30.0    20.0\n",
      "            weight  250.0   150.0\n",
      "            length  1.5     0.8\n",
      "    falcon  speed   320.0   250.0\n",
      "            length  0.3     0.2\n",
      "    \n",
      "    >>> df.drop(index='cow', columns='small')\n",
      "                    big\n",
      "    lama    speed   45.0\n",
      "            weight  200.0\n",
      "            length  1.5\n",
      "    falcon  speed   320.0\n",
      "            weight  1.0\n",
      "            length  0.3\n",
      "    \n",
      "    >>> df.drop(index='length', level=1)\n",
      "                    big     small\n",
      "    lama    speed   45.0    30.0\n",
      "            weight  200.0   100.0\n",
      "    cow     speed   30.0    20.0\n",
      "            weight  250.0   150.0\n",
      "    falcon  speed   320.0   250.0\n",
      "            weight  1.0     0.8\n",
      "\n"
     ]
    }
   ],
   "source": [
    "help(df.drop)"
   ]
  },
  {
   "cell_type": "markdown",
   "id": "f3bc1a46",
   "metadata": {},
   "source": [
    "# Reading real-world data files\n",
    "\n",
    "Most data in the data-science world is exchanged in either (a) CSV or (b) Excel.  A growing amount is also in JSON, but it's still in third place.\n",
    "\n",
    "Pandas can easily read in CSV data.\n",
    "\n"
   ]
  },
  {
   "cell_type": "code",
   "execution_count": 284,
   "id": "c07d51e5",
   "metadata": {},
   "outputs": [
    {
     "name": "stdout",
     "output_type": "stream",
     "text": [
      "Cisco-2022-06June-06-analytics.html   Cisco-2022-06June-06.zip\r\n",
      "Cisco-2022-06June-06-analytics.ipynb  Cisco-2022-06June-07-analytics.ipynb\r\n"
     ]
    }
   ],
   "source": [
    "!ls"
   ]
  },
  {
   "cell_type": "code",
   "execution_count": 285,
   "id": "3834e508",
   "metadata": {},
   "outputs": [
    {
     "name": "stdout",
     "output_type": "stream",
     "text": [
      "--2022-06-07 21:49:08--  https://files.lerner.co.il/data-science-exercise-files.zip\n",
      "Resolving files.lerner.co.il (files.lerner.co.il)... 138.197.26.202\n",
      "Connecting to files.lerner.co.il (files.lerner.co.il)|138.197.26.202|:443... connected.\n",
      "HTTP request sent, awaiting response... 200 OK\n",
      "Length: 1561985 (1.5M) [application/zip]\n",
      "Saving to: ‘data-science-exercise-files.zip’\n",
      "\n",
      "data-science-exerci 100%[===================>]   1.49M  46.1KB/s    in 26s     \n",
      "\n",
      "2022-06-07 21:49:35 (57.9 KB/s) - ‘data-science-exercise-files.zip’ saved [1561985/1561985]\n",
      "\n"
     ]
    }
   ],
   "source": [
    "!wget https://files.lerner.co.il/data-science-exercise-files.zip"
   ]
  },
  {
   "cell_type": "code",
   "execution_count": 286,
   "id": "1d403055",
   "metadata": {},
   "outputs": [
    {
     "name": "stdout",
     "output_type": "stream",
     "text": [
      "Archive:  data-science-exercise-files.zip\r\n",
      " extracting: airports.zip            \r\n",
      "  inflating: taxi.csv                \r\n",
      "  inflating: burrito_current.csv     \r\n",
      "   creating: airports/\r\n",
      "  inflating: titanic3.csv            \r\n",
      "  inflating: celebrity_deaths_2016.csv  \r\n",
      "  inflating: languages.csv           \r\n",
      "  inflating: airlines.dat            \r\n"
     ]
    }
   ],
   "source": [
    "!unzip data-science-exercise-files.zip"
   ]
  },
  {
   "cell_type": "code",
   "execution_count": 287,
   "id": "aad6eb39",
   "metadata": {},
   "outputs": [],
   "source": [
    "# how can I read a CSV file into Pandas?\n",
    "# answer: I use the pd.read_csv method, which takes a filename \n",
    "\n",
    "df = pd.read_csv('taxi.csv')"
   ]
  },
  {
   "cell_type": "code",
   "execution_count": 288,
   "id": "d9f47c70",
   "metadata": {},
   "outputs": [
    {
     "data": {
      "text/html": [
       "<div>\n",
       "<style scoped>\n",
       "    .dataframe tbody tr th:only-of-type {\n",
       "        vertical-align: middle;\n",
       "    }\n",
       "\n",
       "    .dataframe tbody tr th {\n",
       "        vertical-align: top;\n",
       "    }\n",
       "\n",
       "    .dataframe thead th {\n",
       "        text-align: right;\n",
       "    }\n",
       "</style>\n",
       "<table border=\"1\" class=\"dataframe\">\n",
       "  <thead>\n",
       "    <tr style=\"text-align: right;\">\n",
       "      <th></th>\n",
       "      <th>VendorID</th>\n",
       "      <th>tpep_pickup_datetime</th>\n",
       "      <th>tpep_dropoff_datetime</th>\n",
       "      <th>passenger_count</th>\n",
       "      <th>trip_distance</th>\n",
       "      <th>pickup_longitude</th>\n",
       "      <th>pickup_latitude</th>\n",
       "      <th>RateCodeID</th>\n",
       "      <th>store_and_fwd_flag</th>\n",
       "      <th>dropoff_longitude</th>\n",
       "      <th>dropoff_latitude</th>\n",
       "      <th>payment_type</th>\n",
       "      <th>fare_amount</th>\n",
       "      <th>extra</th>\n",
       "      <th>mta_tax</th>\n",
       "      <th>tip_amount</th>\n",
       "      <th>tolls_amount</th>\n",
       "      <th>improvement_surcharge</th>\n",
       "      <th>total_amount</th>\n",
       "    </tr>\n",
       "  </thead>\n",
       "  <tbody>\n",
       "    <tr>\n",
       "      <th>0</th>\n",
       "      <td>2</td>\n",
       "      <td>2015-06-02 11:19:29</td>\n",
       "      <td>2015-06-02 11:47:52</td>\n",
       "      <td>1</td>\n",
       "      <td>1.63</td>\n",
       "      <td>-73.954430</td>\n",
       "      <td>40.764141</td>\n",
       "      <td>1</td>\n",
       "      <td>N</td>\n",
       "      <td>-73.974754</td>\n",
       "      <td>40.754093</td>\n",
       "      <td>2</td>\n",
       "      <td>17.0</td>\n",
       "      <td>0.0</td>\n",
       "      <td>0.5</td>\n",
       "      <td>0.00</td>\n",
       "      <td>0.0</td>\n",
       "      <td>0.3</td>\n",
       "      <td>17.80</td>\n",
       "    </tr>\n",
       "    <tr>\n",
       "      <th>1</th>\n",
       "      <td>2</td>\n",
       "      <td>2015-06-02 11:19:30</td>\n",
       "      <td>2015-06-02 11:27:56</td>\n",
       "      <td>1</td>\n",
       "      <td>0.46</td>\n",
       "      <td>-73.971443</td>\n",
       "      <td>40.758942</td>\n",
       "      <td>1</td>\n",
       "      <td>N</td>\n",
       "      <td>-73.978539</td>\n",
       "      <td>40.761909</td>\n",
       "      <td>1</td>\n",
       "      <td>6.5</td>\n",
       "      <td>0.0</td>\n",
       "      <td>0.5</td>\n",
       "      <td>1.00</td>\n",
       "      <td>0.0</td>\n",
       "      <td>0.3</td>\n",
       "      <td>8.30</td>\n",
       "    </tr>\n",
       "    <tr>\n",
       "      <th>2</th>\n",
       "      <td>2</td>\n",
       "      <td>2015-06-02 11:19:31</td>\n",
       "      <td>2015-06-02 11:30:30</td>\n",
       "      <td>1</td>\n",
       "      <td>0.87</td>\n",
       "      <td>-73.978111</td>\n",
       "      <td>40.738434</td>\n",
       "      <td>1</td>\n",
       "      <td>N</td>\n",
       "      <td>-73.990273</td>\n",
       "      <td>40.745438</td>\n",
       "      <td>1</td>\n",
       "      <td>8.0</td>\n",
       "      <td>0.0</td>\n",
       "      <td>0.5</td>\n",
       "      <td>2.20</td>\n",
       "      <td>0.0</td>\n",
       "      <td>0.3</td>\n",
       "      <td>11.00</td>\n",
       "    </tr>\n",
       "    <tr>\n",
       "      <th>3</th>\n",
       "      <td>2</td>\n",
       "      <td>2015-06-02 11:19:31</td>\n",
       "      <td>2015-06-02 11:39:02</td>\n",
       "      <td>1</td>\n",
       "      <td>2.13</td>\n",
       "      <td>-73.945892</td>\n",
       "      <td>40.773529</td>\n",
       "      <td>1</td>\n",
       "      <td>N</td>\n",
       "      <td>-73.971527</td>\n",
       "      <td>40.760330</td>\n",
       "      <td>1</td>\n",
       "      <td>13.5</td>\n",
       "      <td>0.0</td>\n",
       "      <td>0.5</td>\n",
       "      <td>2.86</td>\n",
       "      <td>0.0</td>\n",
       "      <td>0.3</td>\n",
       "      <td>17.16</td>\n",
       "    </tr>\n",
       "    <tr>\n",
       "      <th>4</th>\n",
       "      <td>1</td>\n",
       "      <td>2015-06-02 11:19:32</td>\n",
       "      <td>2015-06-02 11:32:49</td>\n",
       "      <td>1</td>\n",
       "      <td>1.40</td>\n",
       "      <td>-73.979088</td>\n",
       "      <td>40.776772</td>\n",
       "      <td>1</td>\n",
       "      <td>N</td>\n",
       "      <td>-73.982162</td>\n",
       "      <td>40.758999</td>\n",
       "      <td>2</td>\n",
       "      <td>9.5</td>\n",
       "      <td>0.0</td>\n",
       "      <td>0.5</td>\n",
       "      <td>0.00</td>\n",
       "      <td>0.0</td>\n",
       "      <td>0.3</td>\n",
       "      <td>10.30</td>\n",
       "    </tr>\n",
       "    <tr>\n",
       "      <th>...</th>\n",
       "      <td>...</td>\n",
       "      <td>...</td>\n",
       "      <td>...</td>\n",
       "      <td>...</td>\n",
       "      <td>...</td>\n",
       "      <td>...</td>\n",
       "      <td>...</td>\n",
       "      <td>...</td>\n",
       "      <td>...</td>\n",
       "      <td>...</td>\n",
       "      <td>...</td>\n",
       "      <td>...</td>\n",
       "      <td>...</td>\n",
       "      <td>...</td>\n",
       "      <td>...</td>\n",
       "      <td>...</td>\n",
       "      <td>...</td>\n",
       "      <td>...</td>\n",
       "      <td>...</td>\n",
       "    </tr>\n",
       "    <tr>\n",
       "      <th>9994</th>\n",
       "      <td>1</td>\n",
       "      <td>2015-06-01 00:12:59</td>\n",
       "      <td>2015-06-01 00:24:18</td>\n",
       "      <td>1</td>\n",
       "      <td>2.70</td>\n",
       "      <td>-73.947792</td>\n",
       "      <td>40.814972</td>\n",
       "      <td>1</td>\n",
       "      <td>N</td>\n",
       "      <td>-73.973358</td>\n",
       "      <td>40.783638</td>\n",
       "      <td>2</td>\n",
       "      <td>11.0</td>\n",
       "      <td>0.5</td>\n",
       "      <td>0.5</td>\n",
       "      <td>0.00</td>\n",
       "      <td>0.0</td>\n",
       "      <td>0.3</td>\n",
       "      <td>12.30</td>\n",
       "    </tr>\n",
       "    <tr>\n",
       "      <th>9995</th>\n",
       "      <td>1</td>\n",
       "      <td>2015-06-01 00:12:59</td>\n",
       "      <td>2015-06-01 00:28:16</td>\n",
       "      <td>1</td>\n",
       "      <td>4.50</td>\n",
       "      <td>-74.004066</td>\n",
       "      <td>40.747818</td>\n",
       "      <td>1</td>\n",
       "      <td>N</td>\n",
       "      <td>-73.953758</td>\n",
       "      <td>40.779285</td>\n",
       "      <td>1</td>\n",
       "      <td>16.0</td>\n",
       "      <td>0.5</td>\n",
       "      <td>0.5</td>\n",
       "      <td>3.00</td>\n",
       "      <td>0.0</td>\n",
       "      <td>0.3</td>\n",
       "      <td>20.30</td>\n",
       "    </tr>\n",
       "    <tr>\n",
       "      <th>9996</th>\n",
       "      <td>2</td>\n",
       "      <td>2015-06-01 00:13:00</td>\n",
       "      <td>2015-06-01 00:37:25</td>\n",
       "      <td>1</td>\n",
       "      <td>5.59</td>\n",
       "      <td>-73.994377</td>\n",
       "      <td>40.766102</td>\n",
       "      <td>1</td>\n",
       "      <td>N</td>\n",
       "      <td>-73.903206</td>\n",
       "      <td>40.750546</td>\n",
       "      <td>2</td>\n",
       "      <td>21.0</td>\n",
       "      <td>0.5</td>\n",
       "      <td>0.5</td>\n",
       "      <td>0.00</td>\n",
       "      <td>0.0</td>\n",
       "      <td>0.3</td>\n",
       "      <td>22.30</td>\n",
       "    </tr>\n",
       "    <tr>\n",
       "      <th>9997</th>\n",
       "      <td>2</td>\n",
       "      <td>2015-06-01 00:13:02</td>\n",
       "      <td>2015-06-01 00:19:10</td>\n",
       "      <td>6</td>\n",
       "      <td>1.54</td>\n",
       "      <td>-73.978302</td>\n",
       "      <td>40.748531</td>\n",
       "      <td>1</td>\n",
       "      <td>N</td>\n",
       "      <td>-73.989166</td>\n",
       "      <td>40.762852</td>\n",
       "      <td>2</td>\n",
       "      <td>6.5</td>\n",
       "      <td>0.5</td>\n",
       "      <td>0.5</td>\n",
       "      <td>0.00</td>\n",
       "      <td>0.0</td>\n",
       "      <td>0.3</td>\n",
       "      <td>7.80</td>\n",
       "    </tr>\n",
       "    <tr>\n",
       "      <th>9998</th>\n",
       "      <td>1</td>\n",
       "      <td>2015-06-01 00:13:04</td>\n",
       "      <td>2015-06-01 00:36:33</td>\n",
       "      <td>1</td>\n",
       "      <td>5.80</td>\n",
       "      <td>-73.983215</td>\n",
       "      <td>40.726414</td>\n",
       "      <td>1</td>\n",
       "      <td>N</td>\n",
       "      <td>-73.924133</td>\n",
       "      <td>40.701645</td>\n",
       "      <td>1</td>\n",
       "      <td>21.0</td>\n",
       "      <td>0.5</td>\n",
       "      <td>0.5</td>\n",
       "      <td>4.45</td>\n",
       "      <td>0.0</td>\n",
       "      <td>0.3</td>\n",
       "      <td>26.75</td>\n",
       "    </tr>\n",
       "  </tbody>\n",
       "</table>\n",
       "<p>9999 rows × 19 columns</p>\n",
       "</div>"
      ],
      "text/plain": [
       "      VendorID tpep_pickup_datetime tpep_dropoff_datetime  passenger_count  \\\n",
       "0            2  2015-06-02 11:19:29   2015-06-02 11:47:52                1   \n",
       "1            2  2015-06-02 11:19:30   2015-06-02 11:27:56                1   \n",
       "2            2  2015-06-02 11:19:31   2015-06-02 11:30:30                1   \n",
       "3            2  2015-06-02 11:19:31   2015-06-02 11:39:02                1   \n",
       "4            1  2015-06-02 11:19:32   2015-06-02 11:32:49                1   \n",
       "...        ...                  ...                   ...              ...   \n",
       "9994         1  2015-06-01 00:12:59   2015-06-01 00:24:18                1   \n",
       "9995         1  2015-06-01 00:12:59   2015-06-01 00:28:16                1   \n",
       "9996         2  2015-06-01 00:13:00   2015-06-01 00:37:25                1   \n",
       "9997         2  2015-06-01 00:13:02   2015-06-01 00:19:10                6   \n",
       "9998         1  2015-06-01 00:13:04   2015-06-01 00:36:33                1   \n",
       "\n",
       "      trip_distance  pickup_longitude  pickup_latitude  RateCodeID  \\\n",
       "0              1.63        -73.954430        40.764141           1   \n",
       "1              0.46        -73.971443        40.758942           1   \n",
       "2              0.87        -73.978111        40.738434           1   \n",
       "3              2.13        -73.945892        40.773529           1   \n",
       "4              1.40        -73.979088        40.776772           1   \n",
       "...             ...               ...              ...         ...   \n",
       "9994           2.70        -73.947792        40.814972           1   \n",
       "9995           4.50        -74.004066        40.747818           1   \n",
       "9996           5.59        -73.994377        40.766102           1   \n",
       "9997           1.54        -73.978302        40.748531           1   \n",
       "9998           5.80        -73.983215        40.726414           1   \n",
       "\n",
       "     store_and_fwd_flag  dropoff_longitude  dropoff_latitude  payment_type  \\\n",
       "0                     N         -73.974754         40.754093             2   \n",
       "1                     N         -73.978539         40.761909             1   \n",
       "2                     N         -73.990273         40.745438             1   \n",
       "3                     N         -73.971527         40.760330             1   \n",
       "4                     N         -73.982162         40.758999             2   \n",
       "...                 ...                ...               ...           ...   \n",
       "9994                  N         -73.973358         40.783638             2   \n",
       "9995                  N         -73.953758         40.779285             1   \n",
       "9996                  N         -73.903206         40.750546             2   \n",
       "9997                  N         -73.989166         40.762852             2   \n",
       "9998                  N         -73.924133         40.701645             1   \n",
       "\n",
       "      fare_amount  extra  mta_tax  tip_amount  tolls_amount  \\\n",
       "0            17.0    0.0      0.5        0.00           0.0   \n",
       "1             6.5    0.0      0.5        1.00           0.0   \n",
       "2             8.0    0.0      0.5        2.20           0.0   \n",
       "3            13.5    0.0      0.5        2.86           0.0   \n",
       "4             9.5    0.0      0.5        0.00           0.0   \n",
       "...           ...    ...      ...         ...           ...   \n",
       "9994         11.0    0.5      0.5        0.00           0.0   \n",
       "9995         16.0    0.5      0.5        3.00           0.0   \n",
       "9996         21.0    0.5      0.5        0.00           0.0   \n",
       "9997          6.5    0.5      0.5        0.00           0.0   \n",
       "9998         21.0    0.5      0.5        4.45           0.0   \n",
       "\n",
       "      improvement_surcharge  total_amount  \n",
       "0                       0.3         17.80  \n",
       "1                       0.3          8.30  \n",
       "2                       0.3         11.00  \n",
       "3                       0.3         17.16  \n",
       "4                       0.3         10.30  \n",
       "...                     ...           ...  \n",
       "9994                    0.3         12.30  \n",
       "9995                    0.3         20.30  \n",
       "9996                    0.3         22.30  \n",
       "9997                    0.3          7.80  \n",
       "9998                    0.3         26.75  \n",
       "\n",
       "[9999 rows x 19 columns]"
      ]
     },
     "execution_count": 288,
     "metadata": {},
     "output_type": "execute_result"
    }
   ],
   "source": [
    "df"
   ]
  },
  {
   "cell_type": "code",
   "execution_count": 289,
   "id": "59a8450d",
   "metadata": {},
   "outputs": [
    {
     "data": {
      "text/plain": [
       "(9999, 19)"
      ]
     },
     "execution_count": 289,
     "metadata": {},
     "output_type": "execute_result"
    }
   ],
   "source": [
    "df.shape"
   ]
  },
  {
   "cell_type": "code",
   "execution_count": 290,
   "id": "ad042ff3",
   "metadata": {},
   "outputs": [
    {
     "data": {
      "text/plain": [
       "VendorID                   int64\n",
       "tpep_pickup_datetime      object\n",
       "tpep_dropoff_datetime     object\n",
       "passenger_count            int64\n",
       "trip_distance            float64\n",
       "pickup_longitude         float64\n",
       "pickup_latitude          float64\n",
       "RateCodeID                 int64\n",
       "store_and_fwd_flag        object\n",
       "dropoff_longitude        float64\n",
       "dropoff_latitude         float64\n",
       "payment_type               int64\n",
       "fare_amount              float64\n",
       "extra                    float64\n",
       "mta_tax                  float64\n",
       "tip_amount               float64\n",
       "tolls_amount             float64\n",
       "improvement_surcharge    float64\n",
       "total_amount             float64\n",
       "dtype: object"
      ]
     },
     "execution_count": 290,
     "metadata": {},
     "output_type": "execute_result"
    }
   ],
   "source": [
    "df.dtypes"
   ]
  },
  {
   "cell_type": "code",
   "execution_count": 291,
   "id": "66eaf858",
   "metadata": {},
   "outputs": [
    {
     "data": {
      "text/html": [
       "<div>\n",
       "<style scoped>\n",
       "    .dataframe tbody tr th:only-of-type {\n",
       "        vertical-align: middle;\n",
       "    }\n",
       "\n",
       "    .dataframe tbody tr th {\n",
       "        vertical-align: top;\n",
       "    }\n",
       "\n",
       "    .dataframe thead th {\n",
       "        text-align: right;\n",
       "    }\n",
       "</style>\n",
       "<table border=\"1\" class=\"dataframe\">\n",
       "  <thead>\n",
       "    <tr style=\"text-align: right;\">\n",
       "      <th></th>\n",
       "      <th>passenger_count</th>\n",
       "      <th>trip_distance</th>\n",
       "      <th>total_amount</th>\n",
       "    </tr>\n",
       "  </thead>\n",
       "  <tbody>\n",
       "    <tr>\n",
       "      <th>0</th>\n",
       "      <td>1</td>\n",
       "      <td>1.63</td>\n",
       "      <td>17.80</td>\n",
       "    </tr>\n",
       "    <tr>\n",
       "      <th>1</th>\n",
       "      <td>1</td>\n",
       "      <td>0.46</td>\n",
       "      <td>8.30</td>\n",
       "    </tr>\n",
       "    <tr>\n",
       "      <th>2</th>\n",
       "      <td>1</td>\n",
       "      <td>0.87</td>\n",
       "      <td>11.00</td>\n",
       "    </tr>\n",
       "    <tr>\n",
       "      <th>3</th>\n",
       "      <td>1</td>\n",
       "      <td>2.13</td>\n",
       "      <td>17.16</td>\n",
       "    </tr>\n",
       "    <tr>\n",
       "      <th>4</th>\n",
       "      <td>1</td>\n",
       "      <td>1.40</td>\n",
       "      <td>10.30</td>\n",
       "    </tr>\n",
       "  </tbody>\n",
       "</table>\n",
       "</div>"
      ],
      "text/plain": [
       "   passenger_count  trip_distance  total_amount\n",
       "0                1           1.63         17.80\n",
       "1                1           0.46          8.30\n",
       "2                1           0.87         11.00\n",
       "3                1           2.13         17.16\n",
       "4                1           1.40         10.30"
      ]
     },
     "execution_count": 291,
     "metadata": {},
     "output_type": "execute_result"
    }
   ],
   "source": [
    "# load only a few columns: trip_distance, passenger_count, total_amount\n",
    "\n",
    "df = pd.read_csv('taxi.csv',\n",
    "                usecols=['trip_distance', 'passenger_count', 'total_amount'])\n",
    "df.head()"
   ]
  },
  {
   "cell_type": "markdown",
   "id": "86180943",
   "metadata": {},
   "source": [
    "# Exercise: Weird taxi rides\n",
    "\n",
    "1. Create a data frame from `taxi.csv`.  You only need three columns: `trip_distance`, `total_amount`, and `passenger_count`.\n",
    "2. What was the most common number of passengers? What percentage of the trips had that number of passengers?\n",
    "3. Get descriptive statistics for `total_amount` and `passenger_count`.\n",
    "4. How many trips (if any) had a `total_amount` that was <= 0?  In such trips, what was the average value for `trip_distance`?\n",
    "5. How many trips (if any) had a `trip_distance` of 0?  In such trips, what was the average value for `total_amount`?\n"
   ]
  },
  {
   "cell_type": "code",
   "execution_count": 292,
   "id": "fc753184",
   "metadata": {},
   "outputs": [
    {
     "data": {
      "text/html": [
       "<div>\n",
       "<style scoped>\n",
       "    .dataframe tbody tr th:only-of-type {\n",
       "        vertical-align: middle;\n",
       "    }\n",
       "\n",
       "    .dataframe tbody tr th {\n",
       "        vertical-align: top;\n",
       "    }\n",
       "\n",
       "    .dataframe thead th {\n",
       "        text-align: right;\n",
       "    }\n",
       "</style>\n",
       "<table border=\"1\" class=\"dataframe\">\n",
       "  <thead>\n",
       "    <tr style=\"text-align: right;\">\n",
       "      <th></th>\n",
       "      <th>passenger_count</th>\n",
       "      <th>trip_distance</th>\n",
       "      <th>total_amount</th>\n",
       "    </tr>\n",
       "  </thead>\n",
       "  <tbody>\n",
       "    <tr>\n",
       "      <th>0</th>\n",
       "      <td>1</td>\n",
       "      <td>1.63</td>\n",
       "      <td>17.80</td>\n",
       "    </tr>\n",
       "    <tr>\n",
       "      <th>1</th>\n",
       "      <td>1</td>\n",
       "      <td>0.46</td>\n",
       "      <td>8.30</td>\n",
       "    </tr>\n",
       "    <tr>\n",
       "      <th>2</th>\n",
       "      <td>1</td>\n",
       "      <td>0.87</td>\n",
       "      <td>11.00</td>\n",
       "    </tr>\n",
       "    <tr>\n",
       "      <th>3</th>\n",
       "      <td>1</td>\n",
       "      <td>2.13</td>\n",
       "      <td>17.16</td>\n",
       "    </tr>\n",
       "    <tr>\n",
       "      <th>4</th>\n",
       "      <td>1</td>\n",
       "      <td>1.40</td>\n",
       "      <td>10.30</td>\n",
       "    </tr>\n",
       "  </tbody>\n",
       "</table>\n",
       "</div>"
      ],
      "text/plain": [
       "   passenger_count  trip_distance  total_amount\n",
       "0                1           1.63         17.80\n",
       "1                1           0.46          8.30\n",
       "2                1           0.87         11.00\n",
       "3                1           2.13         17.16\n",
       "4                1           1.40         10.30"
      ]
     },
     "execution_count": 292,
     "metadata": {},
     "output_type": "execute_result"
    }
   ],
   "source": [
    "df = pd.read_csv('taxi.csv', \n",
    "                usecols=['trip_distance', 'total_amount', 'passenger_count'])\n",
    "df.head()"
   ]
  },
  {
   "cell_type": "code",
   "execution_count": 294,
   "id": "e0cfdac1",
   "metadata": {},
   "outputs": [
    {
     "data": {
      "text/plain": [
       "1    7207\n",
       "2    1313\n",
       "5     520\n",
       "3     406\n",
       "6     369\n",
       "4     182\n",
       "0       2\n",
       "Name: passenger_count, dtype: int64"
      ]
     },
     "execution_count": 294,
     "metadata": {},
     "output_type": "execute_result"
    }
   ],
   "source": [
    "df['passenger_count'].value_counts()"
   ]
  },
  {
   "cell_type": "code",
   "execution_count": 295,
   "id": "335a6e1f",
   "metadata": {},
   "outputs": [
    {
     "data": {
      "text/plain": [
       "0.7207"
      ]
     },
     "execution_count": 295,
     "metadata": {},
     "output_type": "execute_result"
    }
   ],
   "source": [
    "7207 / 10000"
   ]
  },
  {
   "cell_type": "code",
   "execution_count": 296,
   "id": "0c29355a",
   "metadata": {},
   "outputs": [
    {
     "data": {
      "text/plain": [
       "1    0.720772\n",
       "2    0.131313\n",
       "5    0.052005\n",
       "3    0.040604\n",
       "6    0.036904\n",
       "4    0.018202\n",
       "0    0.000200\n",
       "Name: passenger_count, dtype: float64"
      ]
     },
     "execution_count": 296,
     "metadata": {},
     "output_type": "execute_result"
    }
   ],
   "source": [
    "df['passenger_count'].value_counts(normalize=True)"
   ]
  },
  {
   "cell_type": "code",
   "execution_count": 297,
   "id": "3264c479",
   "metadata": {},
   "outputs": [
    {
     "data": {
      "text/html": [
       "<div>\n",
       "<style scoped>\n",
       "    .dataframe tbody tr th:only-of-type {\n",
       "        vertical-align: middle;\n",
       "    }\n",
       "\n",
       "    .dataframe tbody tr th {\n",
       "        vertical-align: top;\n",
       "    }\n",
       "\n",
       "    .dataframe thead th {\n",
       "        text-align: right;\n",
       "    }\n",
       "</style>\n",
       "<table border=\"1\" class=\"dataframe\">\n",
       "  <thead>\n",
       "    <tr style=\"text-align: right;\">\n",
       "      <th></th>\n",
       "      <th>passenger_count</th>\n",
       "      <th>trip_distance</th>\n",
       "      <th>total_amount</th>\n",
       "    </tr>\n",
       "  </thead>\n",
       "  <tbody>\n",
       "    <tr>\n",
       "      <th>count</th>\n",
       "      <td>9999.000000</td>\n",
       "      <td>9999.000000</td>\n",
       "      <td>9999.000000</td>\n",
       "    </tr>\n",
       "    <tr>\n",
       "      <th>mean</th>\n",
       "      <td>1.659466</td>\n",
       "      <td>3.158511</td>\n",
       "      <td>17.552472</td>\n",
       "    </tr>\n",
       "    <tr>\n",
       "      <th>std</th>\n",
       "      <td>1.333306</td>\n",
       "      <td>4.037516</td>\n",
       "      <td>15.137990</td>\n",
       "    </tr>\n",
       "    <tr>\n",
       "      <th>min</th>\n",
       "      <td>0.000000</td>\n",
       "      <td>0.000000</td>\n",
       "      <td>-7.800000</td>\n",
       "    </tr>\n",
       "    <tr>\n",
       "      <th>25%</th>\n",
       "      <td>1.000000</td>\n",
       "      <td>1.000000</td>\n",
       "      <td>8.800000</td>\n",
       "    </tr>\n",
       "    <tr>\n",
       "      <th>50%</th>\n",
       "      <td>1.000000</td>\n",
       "      <td>1.700000</td>\n",
       "      <td>12.800000</td>\n",
       "    </tr>\n",
       "    <tr>\n",
       "      <th>75%</th>\n",
       "      <td>2.000000</td>\n",
       "      <td>3.300000</td>\n",
       "      <td>19.800000</td>\n",
       "    </tr>\n",
       "    <tr>\n",
       "      <th>max</th>\n",
       "      <td>6.000000</td>\n",
       "      <td>64.600000</td>\n",
       "      <td>252.350000</td>\n",
       "    </tr>\n",
       "  </tbody>\n",
       "</table>\n",
       "</div>"
      ],
      "text/plain": [
       "       passenger_count  trip_distance  total_amount\n",
       "count      9999.000000    9999.000000   9999.000000\n",
       "mean          1.659466       3.158511     17.552472\n",
       "std           1.333306       4.037516     15.137990\n",
       "min           0.000000       0.000000     -7.800000\n",
       "25%           1.000000       1.000000      8.800000\n",
       "50%           1.000000       1.700000     12.800000\n",
       "75%           2.000000       3.300000     19.800000\n",
       "max           6.000000      64.600000    252.350000"
      ]
     },
     "execution_count": 297,
     "metadata": {},
     "output_type": "execute_result"
    }
   ],
   "source": [
    "df.describe()"
   ]
  },
  {
   "cell_type": "code",
   "execution_count": 299,
   "id": "ae4378a6",
   "metadata": {},
   "outputs": [
    {
     "data": {
      "text/html": [
       "<div>\n",
       "<style scoped>\n",
       "    .dataframe tbody tr th:only-of-type {\n",
       "        vertical-align: middle;\n",
       "    }\n",
       "\n",
       "    .dataframe tbody tr th {\n",
       "        vertical-align: top;\n",
       "    }\n",
       "\n",
       "    .dataframe thead th {\n",
       "        text-align: right;\n",
       "    }\n",
       "</style>\n",
       "<table border=\"1\" class=\"dataframe\">\n",
       "  <thead>\n",
       "    <tr style=\"text-align: right;\">\n",
       "      <th></th>\n",
       "      <th>trip_distance</th>\n",
       "      <th>total_amount</th>\n",
       "    </tr>\n",
       "  </thead>\n",
       "  <tbody>\n",
       "    <tr>\n",
       "      <th>count</th>\n",
       "      <td>9999.000000</td>\n",
       "      <td>9999.000000</td>\n",
       "    </tr>\n",
       "    <tr>\n",
       "      <th>mean</th>\n",
       "      <td>3.158511</td>\n",
       "      <td>17.552472</td>\n",
       "    </tr>\n",
       "    <tr>\n",
       "      <th>std</th>\n",
       "      <td>4.037516</td>\n",
       "      <td>15.137990</td>\n",
       "    </tr>\n",
       "    <tr>\n",
       "      <th>min</th>\n",
       "      <td>0.000000</td>\n",
       "      <td>-7.800000</td>\n",
       "    </tr>\n",
       "    <tr>\n",
       "      <th>25%</th>\n",
       "      <td>1.000000</td>\n",
       "      <td>8.800000</td>\n",
       "    </tr>\n",
       "    <tr>\n",
       "      <th>50%</th>\n",
       "      <td>1.700000</td>\n",
       "      <td>12.800000</td>\n",
       "    </tr>\n",
       "    <tr>\n",
       "      <th>75%</th>\n",
       "      <td>3.300000</td>\n",
       "      <td>19.800000</td>\n",
       "    </tr>\n",
       "    <tr>\n",
       "      <th>max</th>\n",
       "      <td>64.600000</td>\n",
       "      <td>252.350000</td>\n",
       "    </tr>\n",
       "  </tbody>\n",
       "</table>\n",
       "</div>"
      ],
      "text/plain": [
       "       trip_distance  total_amount\n",
       "count    9999.000000   9999.000000\n",
       "mean        3.158511     17.552472\n",
       "std         4.037516     15.137990\n",
       "min         0.000000     -7.800000\n",
       "25%         1.000000      8.800000\n",
       "50%         1.700000     12.800000\n",
       "75%         3.300000     19.800000\n",
       "max        64.600000    252.350000"
      ]
     },
     "execution_count": 299,
     "metadata": {},
     "output_type": "execute_result"
    }
   ],
   "source": [
    "# get descriptive statistics for just trip_distance and total_amount\n",
    "df[['trip_distance', 'total_amount']].describe()"
   ]
  },
  {
   "cell_type": "code",
   "execution_count": 303,
   "id": "14b0c33e",
   "metadata": {},
   "outputs": [
    {
     "data": {
      "text/plain": [
       "2903    0.00\n",
       "5719    0.89\n",
       "9276    0.93\n",
       "Name: trip_distance, dtype: float64"
      ]
     },
     "execution_count": 303,
     "metadata": {},
     "output_type": "execute_result"
    }
   ],
   "source": [
    "# wherever total_amount <= 0, show trip_distance\n",
    "\n",
    "#           row selector          column selector\n",
    "df.loc[df['total_amount'] <= 0, 'trip_distance']"
   ]
  },
  {
   "cell_type": "code",
   "execution_count": 304,
   "id": "2d6a8369",
   "metadata": {},
   "outputs": [
    {
     "data": {
      "text/plain": [
       "0.6066666666666667"
      ]
     },
     "execution_count": 304,
     "metadata": {},
     "output_type": "execute_result"
    }
   ],
   "source": [
    "df.loc[df['total_amount'] <= 0, 'trip_distance'].mean()"
   ]
  },
  {
   "cell_type": "code",
   "execution_count": 307,
   "id": "acff9828",
   "metadata": {},
   "outputs": [
    {
     "data": {
      "text/plain": [
       "31.581940298507465"
      ]
     },
     "execution_count": 307,
     "metadata": {},
     "output_type": "execute_result"
    }
   ],
   "source": [
    "# find trip_distance == 0, and show how much people paid\n",
    "df.loc[df['trip_distance'] == 0, 'total_amount'].mean()"
   ]
  },
  {
   "cell_type": "code",
   "execution_count": 308,
   "id": "9c25b914",
   "metadata": {},
   "outputs": [
    {
     "data": {
      "text/html": [
       "<div>\n",
       "<style scoped>\n",
       "    .dataframe tbody tr th:only-of-type {\n",
       "        vertical-align: middle;\n",
       "    }\n",
       "\n",
       "    .dataframe tbody tr th {\n",
       "        vertical-align: top;\n",
       "    }\n",
       "\n",
       "    .dataframe thead th {\n",
       "        text-align: right;\n",
       "    }\n",
       "</style>\n",
       "<table border=\"1\" class=\"dataframe\">\n",
       "  <thead>\n",
       "    <tr style=\"text-align: right;\">\n",
       "      <th></th>\n",
       "      <th>passenger_count</th>\n",
       "      <th>trip_distance</th>\n",
       "      <th>total_amount</th>\n",
       "    </tr>\n",
       "  </thead>\n",
       "  <tbody>\n",
       "    <tr>\n",
       "      <th>0</th>\n",
       "      <td>1</td>\n",
       "      <td>1.63</td>\n",
       "      <td>17.80</td>\n",
       "    </tr>\n",
       "    <tr>\n",
       "      <th>1</th>\n",
       "      <td>1</td>\n",
       "      <td>0.46</td>\n",
       "      <td>8.30</td>\n",
       "    </tr>\n",
       "    <tr>\n",
       "      <th>2</th>\n",
       "      <td>1</td>\n",
       "      <td>0.87</td>\n",
       "      <td>11.00</td>\n",
       "    </tr>\n",
       "    <tr>\n",
       "      <th>3</th>\n",
       "      <td>1</td>\n",
       "      <td>2.13</td>\n",
       "      <td>17.16</td>\n",
       "    </tr>\n",
       "    <tr>\n",
       "      <th>4</th>\n",
       "      <td>1</td>\n",
       "      <td>1.40</td>\n",
       "      <td>10.30</td>\n",
       "    </tr>\n",
       "    <tr>\n",
       "      <th>...</th>\n",
       "      <td>...</td>\n",
       "      <td>...</td>\n",
       "      <td>...</td>\n",
       "    </tr>\n",
       "    <tr>\n",
       "      <th>9994</th>\n",
       "      <td>1</td>\n",
       "      <td>2.70</td>\n",
       "      <td>12.30</td>\n",
       "    </tr>\n",
       "    <tr>\n",
       "      <th>9995</th>\n",
       "      <td>1</td>\n",
       "      <td>4.50</td>\n",
       "      <td>20.30</td>\n",
       "    </tr>\n",
       "    <tr>\n",
       "      <th>9996</th>\n",
       "      <td>1</td>\n",
       "      <td>5.59</td>\n",
       "      <td>22.30</td>\n",
       "    </tr>\n",
       "    <tr>\n",
       "      <th>9997</th>\n",
       "      <td>6</td>\n",
       "      <td>1.54</td>\n",
       "      <td>7.80</td>\n",
       "    </tr>\n",
       "    <tr>\n",
       "      <th>9998</th>\n",
       "      <td>1</td>\n",
       "      <td>5.80</td>\n",
       "      <td>26.75</td>\n",
       "    </tr>\n",
       "  </tbody>\n",
       "</table>\n",
       "<p>9999 rows × 3 columns</p>\n",
       "</div>"
      ],
      "text/plain": [
       "      passenger_count  trip_distance  total_amount\n",
       "0                   1           1.63         17.80\n",
       "1                   1           0.46          8.30\n",
       "2                   1           0.87         11.00\n",
       "3                   1           2.13         17.16\n",
       "4                   1           1.40         10.30\n",
       "...               ...            ...           ...\n",
       "9994                1           2.70         12.30\n",
       "9995                1           4.50         20.30\n",
       "9996                1           5.59         22.30\n",
       "9997                6           1.54          7.80\n",
       "9998                1           5.80         26.75\n",
       "\n",
       "[9999 rows x 3 columns]"
      ]
     },
     "execution_count": 308,
     "metadata": {},
     "output_type": "execute_result"
    }
   ],
   "source": [
    "df"
   ]
  },
  {
   "cell_type": "code",
   "execution_count": 309,
   "id": "d1d0f9bc",
   "metadata": {},
   "outputs": [],
   "source": [
    "# to write a data frame to a file, use the df.to_csv method\n",
    "df.to_csv('small_taxi_data.csv')"
   ]
  },
  {
   "cell_type": "code",
   "execution_count": 310,
   "id": "8fdffb4d",
   "metadata": {},
   "outputs": [
    {
     "name": "stdout",
     "output_type": "stream",
     "text": [
      ",passenger_count,trip_distance,total_amount\r\n",
      "0,1,1.63,17.8\r\n",
      "1,1,0.46,8.3\r\n",
      "2,1,0.87,11.0\r\n",
      "3,1,2.13,17.16\r\n",
      "4,1,1.4,10.3\r\n",
      "5,1,1.4,10.55\r\n",
      "6,1,1.8,16.3\r\n",
      "7,4,11.9,73.84\r\n",
      "8,1,1.27,15.8\r\n"
     ]
    }
   ],
   "source": [
    "!head small_taxi_data.csv"
   ]
  },
  {
   "cell_type": "code",
   "execution_count": 311,
   "id": "0bdb1ece",
   "metadata": {},
   "outputs": [],
   "source": [
    "# what if I want to write the data with tab separated values, rather than comma?\n",
    "df.to_csv('small_taxi_data.csv', sep='\\t')"
   ]
  },
  {
   "cell_type": "code",
   "execution_count": 312,
   "id": "ca1d7823",
   "metadata": {},
   "outputs": [
    {
     "name": "stdout",
     "output_type": "stream",
     "text": [
      "\tpassenger_count\ttrip_distance\ttotal_amount\r\n",
      "0\t1\t1.63\t17.8\r\n",
      "1\t1\t0.46\t8.3\r\n",
      "2\t1\t0.87\t11.0\r\n",
      "3\t1\t2.13\t17.16\r\n",
      "4\t1\t1.4\t10.3\r\n",
      "5\t1\t1.4\t10.55\r\n",
      "6\t1\t1.8\t16.3\r\n",
      "7\t4\t11.9\t73.84\r\n",
      "8\t1\t1.27\t15.8\r\n"
     ]
    }
   ],
   "source": [
    "!head small_taxi_data.csv"
   ]
  },
  {
   "cell_type": "code",
   "execution_count": 313,
   "id": "690d5014",
   "metadata": {},
   "outputs": [],
   "source": [
    "df.to_json('small_taxi_data.json')"
   ]
  },
  {
   "cell_type": "code",
   "execution_count": 314,
   "id": "de2d8c58",
   "metadata": {
    "collapsed": true
   },
   "outputs": [
    {
     "name": "stdout",
     "output_type": "stream",
     "text": [
      "{\"passenger_count\":{\"0\":1,\"1\":1,\"2\":1,\"3\":1,\"4\":1,\"5\":1,\"6\":1,\"7\":4,\"8\":1,\"9\":1,\"10\":3,\"11\":1,\"12\":1,\"13\":2,\"14\":1,\"15\":2,\"16\":1,\"17\":1,\"18\":1,\"19\":1,\"20\":1,\"21\":1,\"22\":1,\"23\":1,\"24\":1,\"25\":1,\"26\":1,\"27\":5,\"28\":2,\"29\":1,\"30\":6,\"31\":5,\"32\":1,\"33\":1,\"34\":5,\"35\":1,\"36\":1,\"37\":1,\"38\":1,\"39\":2,\"40\":1,\"41\":1,\"42\":2,\"43\":2,\"44\":1,\"45\":1,\"46\":1,\"47\":1,\"48\":1,\"49\":5,\"50\":2,\"51\":1,\"52\":1,\"53\":1,\"54\":1,\"55\":1,\"56\":1,\"57\":1,\"58\":1,\"59\":1,\"60\":1,\"61\":1,\"62\":6,\"63\":1,\"64\":1,\"65\":2,\"66\":1,\"67\":3,\"68\":1,\"69\":1,\"70\":1,\"71\":6,\"72\":5,\"73\":1,\"74\":5,\"75\":1,\"76\":1,\"77\":1,\"78\":1,\"79\":1,\"80\":1,\"81\":2,\"82\":3,\"83\":1,\"84\":1,\"85\":2,\"86\":2,\"87\":1,\"88\":2,\"89\":1,\"90\":1,\"91\":1,\"92\":1,\"93\":5,\"94\":1,\"95\":1,\"96\":1,\"97\":1,\"98\":1,\"99\":5,\"100\":1,\"101\":1,\"102\":2,\"103\":1,\"104\":1,\"105\":1,\"106\":1,\"107\":4,\"108\":1,\"109\":2,\"110\":5,\"111\":2,\"112\":2,\"113\":1,\"114\":1,\"115\":1,\"116\":1,\"117\":1,\"118\":1,\"119\":1,\"120\":1,\"121\":1,\"122\":1,\"123\":1,\"124\":1,\"125\":2,\"126\":3,\"127\":1,\"128\":4,\"129\":5,\"130\":4,\"131\":2,\"132\":1,\"133\":1,\"134\":1,\"135\":4,\"136\":1,\"137\":1,\"138\":1,\"139\":1,\"140\":1,\"141\":2,\"142\":2,\"143\":1,\"144\":1,\"145\":1,\"146\":6,\"147\":1,\"148\":1,\"149\":1,\"150\":1,\"151\":1,\"152\":1,\"153\":1,\"154\":2,\"155\":1,\"156\":1,\"157\":1,\"158\":1,\"159\":1,\"160\":1,\"161\":5,\"162\":1,\"163\":1,\"164\":1,\"165\":1,\"166\":1,\"167\":1,\"168\":1,\"169\":1,\"170\":1,\"171\":1,\"172\":1,\"173\":2,\"174\":1,\"175\":1,\"176\":1,\"177\":1,\"178\":1,\"179\":1,\"180\":1,\"181\":1,\"182\":1,\"183\":1,\"184\":1,\"185\":1,\"186\":1,\"187\":1,\"188\":6,\"189\":1,\"190\":1,\"191\":1,\"192\":3,\"193\":1,\"194\":1,\"195\":1,\"196\":1,\"197\":6,\"198\":1,\"199\":5,\"200\":1,\"201\":1,\"202\":1,\"203\":1,\"204\":2,\"205\":1,\"206\":1,\"207\":2,\"208\":1,\"209\":1,\"210\":1,\"211\":6,\"212\":1,\"213\":1,\"214\":2,\"215\":2,\"216\":1,\"217\":1,\"218\":1,\"219\":1,\"220\":1,\"221\":2,\"222\":5,\"223\":1,\"224\":1,\"225\":2,\"226\":1,\"227\":3,\"228\":5,\"229\":1,\"230\":1,\"231\":1,\"232\":6,\"233\":1,\"234\":1,\"235\":1,\"236\":1,\"237\":1,\"238\":1,\"239\":1,\"240\":1,\"241\":1,\"242\":6,\"243\":1,\"244\":1,\"245\":1,\"246\":1,\"247\":2,\"248\":1,\"249\":1,\"250\":1,\"251\":6,\"252\":1,\"253\":1,\"254\":3,\"255\":1,\"256\":4,\"257\":1,\"258\":5,\"259\":1,\"260\":1,\"261\":1,\"262\":3,\"263\":6,\"264\":1,\"265\":1,\"266\":6,\"267\":6,\"268\":1,\"269\":1,\"270\":1,\"271\":1,\"272\":5,\"273\":1,\"274\":3,\"275\":1,\"276\":1,\"277\":1,\"278\":1,\"279\":5,\"280\":1,\"281\":1,\"282\":1,\"283\":2,\"284\":5,\"285\":1,\"286\":2,\"287\":1,\"288\":1,\"289\":1,\"290\":1,\"291\":1,\"292\":1,\"293\":1,\"294\":1,\"295\":1,\"296\":1,\"297\":2,\"298\":6,\"299\":1,\"300\":2,\"301\":2,\"302\":1,\"303\":1,\"304\":1,\"305\":1,\"306\":2,\"307\":2,\"308\":1,\"309\":6,\"310\":1,\"311\":1,\"312\":2,\"313\":1,\"314\":1,\"315\":1,\"316\":1,\"317\":1,\"318\":1,\"319\":1,\"320\":1,\"321\":1,\"322\":1,\"323\":1,\"324\":5,\"325\":1,\"326\":1,\"327\":1,\"328\":1,\"329\":1,\"330\":1,\"331\":1,\"332\":2,\"333\":1,\"334\":1,\"335\":1,\"336\":1,\"337\":3,\"338\":1,\"339\":2,\"340\":1,\"341\":1,\"342\":1,\"343\":1,\"344\":1,\"345\":1,\"346\":1,\"347\":1,\"348\":1,\"349\":1,\"350\":1,\"351\":1,\"352\":2,\"353\":1,\"354\":1,\"355\":1,\"356\":1,\"357\":2,\"358\":1,\"359\":6,\"360\":1,\"361\":2,\"362\":1,\"363\":1,\"364\":1,\"365\":1,\"366\":1,\"367\":1,\"368\":1,\"369\":1,\"370\":5,\"371\":1,\"372\":1,\"373\":1,\"374\":1,\"375\":1,\"376\":1,\"377\":1,\"378\":2,\"379\":2,\"380\":1,\"381\":1,\"382\":1,\"383\":1,\"384\":2,\"385\":1,\"386\":5,\"387\":2,\"388\":1,\"389\":1,\"390\":1,\"391\":2,\"392\":1,\"393\":1,\"394\":1,\"395\":2,\"396\":5,\"397\":1,\"398\":1,\"399\":1,\"400\":2,\"401\":2,\"402\":1,\"403\":1,\"404\":1,\"405\":5,\"406\":1,\"407\":1,\"408\":2,\"409\":1,\"410\":6,\"411\":1,\"412\":5,\"413\":1,\"414\":1,\"415\":5,\"416\":1,\"417\":1,\"418\":2,\"419\":4,\"420\":2,\"421\":6,\"422\":1,\"423\":2,\"424\":1,\"425\":1,\"426\":6,\"427\":1,\"428\":1,\"429\":1,\"430\":1,\"431\":1,\"432\":1,\"433\":1,\"434\":3,\"435\":1,\"436\":1,\"437\":1,\"438\":1,\"439\":2,\"440\":1,\"441\":1,\"442\":2,\"443\":6,\"444\":2,\"445\":6,\"446\":1,\"447\":1,\"448\":2,\"449\":1,\"450\":2,\"451\":1,\"452\":1,\"453\":1,\"454\":1,\"455\":1,\"456\":1,\"457\":1,\"458\":1,\"459\":1,\"460\":3,\"461\":4,\"462\":1,\"463\":6,\"464\":3,\"465\":2,\"466\":1,\"467\":1,\"468\":1,\"469\":2,\"470\":1,\"471\":1,\"472\":1,\"473\":1,\"474\":1,\"475\":1,\"476\":1,\"477\":1,\"478\":2,\"479\":1,\"480\":6,\"481\":1,\"482\":1,\"483\":1,\"484\":1,\"485\":1,\"486\":1,\"487\":2,\"488\":2,\"489\":1,\"490\":1,\"491\":1,\"492\":1,\"493\":1,\"494\":1,\"495\":1,\"496\":2,\"497\":5,\"498\":3,\"499\":2,\"500\":1,\"501\":1,\"502\":6,\"503\":1,\"504\":1,\"505\":1,\"506\":1,\"507\":1,\"508\":1,\"509\":1,\"510\":1,\"511\":1,\"512\":1,\"513\":1,\"514\":6,\"515\":2,\"516\":1,\"517\":1,\"518\":2,\"519\":1,\"520\":1,\"521\":1,\"522\":2,\"523\":1,\"524\":1,\"525\":1,\"526\":1,\"527\":6,\"528\":1,\"529\":1,\"530\":1,\"531\":1,\"532\":3,\"533\":1,\"534\":1,\"535\":2,\"536\":1,\"537\":1,\"538\":5,\"539\":1,\"540\":1,\"541\":1,\"542\":1,\"543\":1,\"544\":1,\"545\":1,\"546\":5,\"547\":1,\"548\":1,\"549\":1,\"550\":1,\"551\":4,\"552\":1,\"553\":1,\"554\":1,\"555\":2,\"556\":2,\"557\":1,\"558\":1,\"559\":2,\"560\":1,\"561\":1,\"562\":1,\"563\":1,\"564\":1,\"565\":1,\"566\":1,\"567\":1,\"568\":1,\"569\":1,\"570\":1,\"571\":1,\"572\":1,\"573\":1,\"574\":1,\"575\":1,\"576\":2,\"577\":1,\"578\":1,\"579\":2,\"580\":1,\"581\":1,\"582\":1,\"583\":1,\"584\":1,\"585\":1,\"586\":1,\"587\":1,\"588\":2,\"589\":4,\"590\":1,\"591\":1,\"592\":1,\"593\":1,\"594\":1,\"595\":1,\"596\":1,\"597\":1,\"598\":5,\"599\":1,\"600\":1,\"601\":1,\"602\":6,\"603\":3,\"604\":1,\"605\":1,\"606\":5,\"607\":1,\"608\":2,\"609\":5,\"610\":1,\"611\":1,\"612\":1,\"613\":2,\"614\":5,\"615\":3,\"616\":3,\"617\":1,\"618\":1,\"619\":5,\"620\":5,\"621\":1,\"622\":1,\"623\":1,\"624\":1,\"625\":2,\"626\":2,\"627\":1,\"628\":1,\"629\":1,\"630\":1,\"631\":1,\"632\":1,\"633\":1,\"634\":1,\"635\":1,\"636\":1,\"637\":1,\"638\":1,\"639\":1,\"640\":5,\"641\":1,\"642\":1,\"643\":1,\"644\":1,\"645\":1,\"646\":1,\"647\":4,\"648\":1,\"649\":1,\"650\":1,\"651\":1,\"652\":1,\"653\":1,\"654\":1,\"655\":1,\"656\":1,\"657\":1,\"658\":2,\"659\":1,\"660\":1,\"661\":1,\"662\":1,\"663\":1,\"664\":1,\"665\":2,\"666\":1,\"667\":2,\"668\":1,\"669\":1,\"670\":1,\"671\":1,\"672\":1,\"673\":5,\"674\":6,\"675\":2,\"676\":6,\"677\":1,\"678\":1,\"679\":1,\"680\":1,\"681\":1,\"682\":1,\"683\":6,\"684\":1,\"685\":1,\"686\":1,\"687\":2,\"688\":1,\"689\":2,\"690\":2,\"691\":1,\"692\":1,\"693\":1,\"694\":6,\"695\":5,\"696\":2,\"697\":1,\"698\":1,\"699\":5,\"700\":1,\"701\":2,\"702\":5,\"703\":1,\"704\":1,\"705\":1,\"706\":2,\"707\":6,\"708\":5,\"709\":1,\"710\":6,\"711\":1,\"712\":1,\"713\":1,\"714\":1,\"715\":1,\"716\":1,\"717\":2,\"718\":1,\"719\":6,\"720\":1,\"721\":1,\"722\":1,\"723\":1,\"724\":1,\"725\":1,\"726\":1,\"727\":1,\"728\":1,\"729\":1,\"730\":1,\"731\":1,\"732\":1,\"733\":1,\"734\":1,\"735\":2,\"736\":5,\"737\":1,\"738\":1,\"739\":1,\"740\":3,\"741\":1,\"742\":1,\"743\":1,\"744\":1,\"745\":1,\"746\":1,\"747\":1,\"748\":1,\"749\":1,\"750\":1,\"751\":2,\"752\":1,\"753\":1,\"754\":1,\"755\":1,\"756\":1,\"757\":5,\"758\":2,\"759\":1,\"760\":1,\"761\":1,\"762\":4,\"763\":1,\"764\":2,\"765\":1,\"766\":1,\"767\":1,\"768\":1,\"769\":1,\"770\":5,\"771\":1,\"772\":1,\"773\":1,\"774\":2,\"775\":2,\"776\":1,\"777\":1,\"778\":1,\"779\":1,\"780\":1,\"781\":2,\"782\":1,\"783\":2,\"784\":1,\"785\":1,\"786\":1,\"787\":1,\"788\":1,\"789\":1,\"790\":1,\"791\":1,\"792\":6,\"793\":5,\"794\":1,\"795\":2,\"796\":1,\"797\":1,\"798\":4,\"799\":1,\"800\":1,\"801\":1,\"802\":1,\"803\":1,\"804\":1,\"805\":1,\"806\":1,\"807\":1,\"808\":1,\"809\":1,\"810\":1,\"811\":1,\"812\":1,\"813\":1,\"814\":1,\"815\":1,\"816\":1,\"817\":1,\"818\":1,\"819\":1,\"820\":1,\"821\":1,\"822\":1,\"823\":1,\"824\":1,\"825\":1,\"826\":1,\"827\":1,\"828\":1,\"829\":1,\"830\":1,\"831\":2,\"832\":2,\"833\":1,\"834\":1,\"835\":1,\"836\":4,\"837\":1,\"838\":2,\"839\":2,\"840\":2,\"841\":1,\"842\":5,\"843\":1,\"844\":1,\"845\":1,\"846\":4,\"847\":1,\"848\":1,\"849\":2,\"850\":6,\"851\":1,\"852\":1,\"853\":1,\"854\":1,\"855\":1,\"856\":1,\"857\":1,\"858\":1,\"859\":1,\"860\":1,\"861\":1,\"862\":3,\"863\":2,\"864\":1,\"865\":1,\"866\":1,\"867\":2,\"868\":1,\"869\":1,\"870\":1,\"871\":1,\"872\":1,\"873\":6,\"874\":1,\"875\":2,\"876\":1,\"877\":1,\"878\":2,\"879\":2,\"880\":1,\"881\":1,\"882\":1,\"883\":1,\"884\":1,\"885\":1,\"886\":2,\"887\":1,\"888\":1,\"889\":1,\"890\":1,\"891\":2,\"892\":1,\"893\":3,\"894\":1,\"895\":1,\"896\":1,\"897\":3,\"898\":1,\"899\":1,\"900\":2,\"901\":1,\"902\":1,\"903\":2,\"904\":1,\"905\":1,\"906\":1,\"907\":1,\"908\":1,\"909\":1,\"910\":1,\"911\":1,\"912\":1,\"913\":1,\"914\":1,\"915\":1,\"916\":4,\"917\":1,\"918\":1,\"919\":5,\"920\":1,\"921\":1,\"922\":5,\"923\":1,\"924\":1,\"925\":2,\"926\":1,\"927\":2,\"928\":2,\"929\":1,\"930\":1,\"931\":6,\"932\":2,\"933\":4,\"934\":1,\"935\":6,\"936\":1,\"937\":1,\"938\":2,\"939\":2,\"940\":1,\"941\":1,\"942\":1,\"943\":1,\"944\":1,\"945\":1,\"946\":2,\"947\":1,\"948\":1,\"949\":1,\"950\":1,\"951\":1,\"952\":5,\"953\":3,\"954\":1,\"955\":1,\"956\":5,\"957\":1,\"958\":1,\"959\":2,\"960\":1,\"961\":1,\"962\":1,\"963\":1,\"964\":2,\"965\":3,\"966\":1,\"967\":1,\"968\":1,\"969\":1,\"970\":1,\"971\":1,\"972\":2,\"973\":1,\"974\":5,\"975\":3,\"976\":1,\"977\":1,\"978\":1,\"979\":3,\"980\":1,\"981\":2,\"982\":6,\"983\":5,\"984\":1,\"985\":1,\"986\":1,\"987\":1,\"988\":1,\"989\":1,\"990\":1,\"991\":2,\"992\":2,\"993\":3,\"994\":1,\"995\":1,\"996\":2,\"997\":1,\"998\":1,\"999\":4,\"1000\":1,\"1001\":1,\"1002\":1,\"1003\":1,\"1004\":2,\"1005\":1,\"1006\":1,\"1007\":1,\"1008\":1,\"1009\":1,\"1010\":1,\"1011\":1,\"1012\":1,\"1013\":1,\"1014\":4,\"1015\":2,\"1016\":5,\"1017\":1,\"1018\":1,\"1019\":1,\"1020\":1,\"1021\":1,\"1022\":2,\"1023\":1,\"1024\":1,\"1025\":2,\"1026\":1,\"1027\":1,\"1028\":1,\"1029\":1,\"1030\":5,\"1031\":1,\"1032\":6,\"1033\":1,\"1034\":1,\"1035\":2,\"1036\":1,\"1037\":1,\"1038\":2,\"1039\":1,\"1040\":1,\"1041\":1,\"1042\":5,\"1043\":1,\"1044\":1,\"1045\":1,\"1046\":1,\"1047\":2,\"1048\":1,\"1049\":1,\"1050\":1,\"1051\":1,\"1052\":1,\"1053\":1,\"1054\":1,\"1055\":1,\"1056\":1,\"1057\":1,\"1058\":1,\"1059\":1,\"1060\":1,\"1061\":1,\"1062\":1,\"1063\":1,\"1064\":1,\"1065\":1,\"1066\":1,\"1067\":1,\"1068\":1,\"1069\":1,\"1070\":2,\"1071\":2,\"1072\":1,\"1073\":1,\"1074\":1,\"1075\":1,\"1076\":1,\"1077\":1,\"1078\":1,\"1079\":1,\"1080\":1,\"1081\":1,\"1082\":1,\"1083\":3,\"1084\":1,\"1085\":2,\"1086\":1,\"1087\":1,\"1088\":1,\"1089\":1,\"1090\":1,\"1091\":2,\"1092\":1,\"1093\":1,\"1094\":3,\"1095\":5,\"1096\":1,\"1097\":1,\"1098\":1,\"1099\":1,\"1100\":5,\"1101\":1,\"1102\":1,\"1103\":1,\"1104\":2,\"1105\":5,\"1106\":3,\"1107\":3,\"1108\":6,\"1109\":1,\"1110\":1,\"1111\":1,\"1112\":1,\"1113\":1,\"1114\":1,\"1115\":1,\"1116\":1,\"1117\":2,\"1118\":1,\"1119\":1,\"1120\":3,\"1121\":1,\"1122\":1,\"1123\":3,\"1124\":1,\"1125\":1,\"1126\":5,\"1127\":1,\"1128\":1,\"1129\":1,\"1130\":2,\"1131\":1,\"1132\":1,\"1133\":1,\"1134\":1,\"1135\":1,\"1136\":1,\"1137\":1,\"1138\":1,\"1139\":1,\"1140\":1,\"1141\":1,\"1142\":1,\"1143\":2,\"1144\":5,\"1145\":1,\"1146\":1,\"1147\":1,\"1148\":3,\"1149\":2,\"1150\":1,\"1151\":1,\"1152\":1,\"1153\":1,\"1154\":1,\"1155\":1,\"1156\":1,\"1157\":2,\"1158\":2,\"1159\":1,\"1160\":5,\"1161\":2,\"1162\":1,\"1163\":1,\"1164\":1,\"1165\":1,\"1166\":1,\"1167\":1,\"1168\":1,\"1169\":1,\"1170\":1,\"1171\":2,\"1172\":1,\"1173\":1,\"1174\":6,\"1175\":3,\"1176\":1,\"1177\":1,\"1178\":1,\"1179\":2,\"1180\":6,\"1181\":2,\"1182\":1,\"1183\":1,\"1184\":1,\"1185\":1,\"1186\":1,\"1187\":1,\"1188\":1,\"1189\":1,\"1190\":1,\"1191\":1,\"1192\":2,\"1193\":1,\"1194\":6,\"1195\":1,\"1196\":6,\"1197\":1,\"1198\":1,\"1199\":1,\"1200\":1,\"1201\":1,\"1202\":4,\"1203\":1,\"1204\":2,\"1205\":1,\"1206\":1,\"1207\":1,\"1208\":5,\"1209\":3,\"1210\":1,\"1211\":1,\"1212\":1,\"1213\":1,\"1214\":1,\"1215\":1,\"1216\":1,\"1217\":1,\"1218\":1,\"1219\":1,\"1220\":1,\"1221\":1,\"1222\":1,\"1223\":1,\"1224\":1,\"1225\":1,\"1226\":1,\"1227\":1,\"1228\":1,\"1229\":1,\"1230\":2,\"1231\":1,\"1232\":5,\"1233\":1,\"1234\":1,\"1235\":1,\"1236\":1,\"1237\":1,\"1238\":1,\"1239\":5,\"1240\":1,\"1241\":1,\"1242\":1,\"1243\":1,\"1244\":2,\"1245\":1,\"1246\":1,\"1247\":1,\"1248\":1,\"1249\":1,\"1250\":2,\"1251\":1,\"1252\":2,\"1253\":1,\"1254\":1,\"1255\":1,\"1256\":1,\"1257\":1,\"1258\":2,\"1259\":1,\"1260\":2,\"1261\":1,\"1262\":2,\"1263\":1,\"1264\":1,\"1265\":1,\"1266\":1,\"1267\":4,\"1268\":2,\"1269\":1,\"1270\":1,\"1271\":5,\"1272\":1,\"1273\":1,\"1274\":1,\"1275\":1,\"1276\":1,\"1277\":1,\"1278\":1,\"1279\":1,\"1280\":1,\"1281\":1,\"1282\":1,\"1283\":1,\"1284\":3,\"1285\":2,\"1286\":1,\"1287\":6,\"1288\":1,\"1289\":1,\"1290\":1,\"1291\":1,\"1292\":5,\"1293\":2,\"1294\":1,\"1295\":1,\"1296\":1,\"1297\":1,\"1298\":1,\"1299\":1,\"1300\":1,\"1301\":1,\"1302\":1,\"1303\":1,\"1304\":1,\"1305\":1,\"1306\":1,\"1307\":1,\"1308\":1,\"1309\":1,\"1310\":1,\"1311\":1,\"1312\":2,\"1313\":1,\"1314\":4,\"1315\":1,\"1316\":1,\"1317\":2,\"1318\":1,\"1319\":1,\"1320\":1,\"1321\":1,\"1322\":1,\"1323\":1,\"1324\":1,\"1325\":1,\"1326\":5,\"1327\":1,\"1328\":1,\"1329\":1,\"1330\":3,\"1331\":1,\"1332\":2,\"1333\":1,\"1334\":1,\"1335\":1,\"1336\":1,\"1337\":1,\"1338\":1,\"1339\":1,\"1340\":1,\"1341\":1,\"1342\":1,\"1343\":5,\"1344\":1,\"1345\":1,\"1346\":1,\"1347\":1,\"1348\":1,\"1349\":1,\"1350\":1,\"1351\":1,\"1352\":1,\"1353\":4,\"1354\":1,\"1355\":1,\"1356\":1,\"1357\":6,\"1358\":1,\"1359\":2,\"1360\":3,\"1361\":1,\"1362\":2,\"1363\":6,\"1364\":1,\"1365\":2,\"1366\":4,\"1367\":1,\"1368\":3,\"1369\":1,\"1370\":1,\"1371\":5,\"1372\":1,\"1373\":1,\"1374\":1,\"1375\":1,\"1376\":1,\"1377\":1,\"1378\":1,\"1379\":1,\"1380\":1,\"1381\":1,\"1382\":1,\"1383\":1,\"1384\":1,\"1385\":1,\"1386\":1,\"1387\":1,\"1388\":1,\"1389\":6,\"1390\":3,\"1391\":1,\"1392\":1,\"1393\":2,\"1394\":1,\"1395\":1,\"1396\":1,\"1397\":1,\"1398\":1,\"1399\":2,\"1400\":1,\"1401\":1,\"1402\":1,\"1403\":1,\"1404\":1,\"1405\":1,\"1406\":5,\"1407\":1,\"1408\":1,\"1409\":1,\"1410\":1,\"1411\":1,\"1412\":1,\"1413\":1,\"1414\":1,\"1415\":2,\"1416\":1,\"1417\":1,\"1418\":1,\"1419\":1,\"1420\":1,\"1421\":2,\"1422\":4,\"1423\":1,\"1424\":4,\"1425\":1,\"1426\":1,\"1427\":1,\"1428\":1,\"1429\":5,\"1430\":1,\"1431\":1,\"1432\":1,\"1433\":1,\"1434\":2,\"1435\":1,\"1436\":1,\"1437\":1,\"1438\":1,\"1439\":1,\"1440\":1,\"1441\":1,\"1442\":1,\"1443\":1,\"1444\":2,\"1445\":1,\"1446\":1,\"1447\":1,\"1448\":1,\"1449\":1,\"1450\":1,\"1451\":1,\"1452\":1,\"1453\":1,\"1454\":1,\"1455\":1,\"1456\":1,\"1457\":1,\"1458\":2,\"1459\":1,\"1460\":1,\"1461\":1,\"1462\":1,\"1463\":1,\"1464\":1,\"1465\":2,\"1466\":5,\"1467\":2,\"1468\":1,\"1469\":1,\"1470\":1,\"1471\":1,\"1472\":1,\"1473\":1,\"1474\":1,\"1475\":1,\"1476\":1,\"1477\":5,\"1478\":1,\"1479\":1,\"1480\":1,\"1481\":5,\"1482\":2,\"1483\":1,\"1484\":1,\"1485\":1,\"1486\":6,\"1487\":5,\"1488\":5,\"1489\":1,\"1490\":1,\"1491\":1,\"1492\":1,\"1493\":1,\"1494\":1,\"1495\":1,\"1496\":1,\"1497\":1,\"1498\":1,\"1499\":2,\"1500\":1,\"1501\":3,\"1502\":1,\"1503\":2,\"1504\":1,\"1505\":1,\"1506\":1,\"1507\":1,\"1508\":1,\"1509\":2,\"1510\":1,\"1511\":1,\"1512\":1,\"1513\":4,\"1514\":6,\"1515\":1,\"1516\":1,\"1517\":2,\"1518\":2,\"1519\":1,\"1520\":1,\"1521\":1,\"1522\":1,\"1523\":1,\"1524\":1,\"1525\":1,\"1526\":1,\"1527\":1,\"1528\":2,\"1529\":4,\"1530\":1,\"1531\":1,\"1532\":5,\"1533\":1,\"1534\":1,\"1535\":2,\"1536\":1,\"1537\":1,\"1538\":1,\"1539\":1,\"1540\":1,\"1541\":1,\"1542\":5,\"1543\":1,\"1544\":6,\"1545\":1,\"1546\":1,\"1547\":1,\"1548\":1,\"1549\":1,\"1550\":6,\"1551\":1,\"1552\":1,\"1553\":6,\"1554\":1,\"1555\":1,\"1556\":2,\"1557\":2,\"1558\":1,\"1559\":1,\"1560\":5,\"1561\":1,\"1562\":3,\"1563\":1,\"1564\":3,\"1565\":1,\"1566\":2,\"1567\":1,\"1568\":1,\"1569\":1,\"1570\":1,\"1571\":1,\"1572\":1,\"1573\":1,\"1574\":1,\"1575\":2,\"1576\":1,\"1577\":4,\"1578\":4,\"1579\":3,\"1580\":1,\"1581\":1,\"1582\":1,\"1583\":6,\"1584\":1,\"1585\":1,\"1586\":1,\"1587\":1,\"1588\":1,\"1589\":2,\"1590\":2,\"1591\":1,\"1592\":1,\"1593\":5,\"1594\":1,\"1595\":1,\"1596\":5,\"1597\":2,\"1598\":1,\"1599\":1,\"1600\":1,\"1601\":1,\"1602\":1,\"1603\":5,\"1604\":1,\"1605\":1,\"1606\":1,\"1607\":2,\"1608\":4,\"1609\":1,\"1610\":1,\"1611\":1,\"1612\":1,\"1613\":6,\"1614\":1,\"1615\":1,\"1616\":1,\"1617\":3,\"1618\":2,\"1619\":2,\"1620\":1,\"1621\":1,\"1622\":5,\"1623\":1,\"1624\":1,\"1625\":1,\"1626\":1,\"1627\":1,\"1628\":1,\"1629\":1,\"1630\":1,\"1631\":1,\"1632\":2,\"1633\":1,\"1634\":1,\"1635\":1,\"1636\":1,\"1637\":1,\"1638\":1,\"1639\":6,\"1640\":1,\"1641\":1,\"1642\":1,\"1643\":1,\"1644\":6,\"1645\":5,\"1646\":1,\"1647\":2,\"1648\":1,\"1649\":1,\"1650\":1,\"1651\":1,\"1652\":1,\"1653\":1,\"1654\":1,\"1655\":1,\"1656\":1,\"1657\":1,\"1658\":1,\"1659\":2,\"1660\":1,\"1661\":1,\"1662\":1,\"1663\":1,\"1664\":1,\"1665\":1,\"1666\":2,\"1667\":1,\"1668\":1,\"1669\":1,\"1670\":1,\"1671\":1,\"1672\":5,\"1673\":1,\"1674\":1,\"1675\":1,\"1676\":1,\"1677\":3,\"1678\":1,\"1679\":1,\"1680\":1,\"1681\":1,\"1682\":1,\"1683\":2,\"1684\":1,\"1685\":1,\"1686\":5,\"1687\":1,\"1688\":1,\"1689\":1,\"1690\":1,\"1691\":1,\"1692\":1,\"1693\":1,\"1694\":1,\"1695\":5,\"1696\":1,\"1697\":1,\"1698\":1,\"1699\":3,\"1700\":2,\"1701\":1,\"1702\":1,\"1703\":1,\"1704\":1,\"1705\":4,\"1706\":2,\"1707\":1,\"1708\":2,\"1709\":1,\"1710\":1,\"1711\":2,\"1712\":5,\"1713\":1,\"1714\":1,\"1715\":1,\"1716\":3,\"1717\":1,\"1718\":1,\"1719\":1,\"1720\":1,\"1721\":6,\"1722\":6,\"1723\":2,\"1724\":1,\"1725\":1,\"1726\":1,\"1727\":1,\"1728\":1,\"1729\":1,\"1730\":3,\"1731\":1,\"1732\":1,\"1733\":5,\"1734\":1,\"1735\":1,\"1736\":4,\"1737\":1,\"1738\":1,\"1739\":1,\"1740\":5,\"1741\":1,\"1742\":3,\"1743\":1,\"1744\":5,\"1745\":1,\"1746\":3,\"1747\":1,\"1748\":1,\"1749\":2,\"1750\":1,\"1751\":1,\"1752\":1,\"1753\":1,\"1754\":2,\"1755\":2,\"1756\":1,\"1757\":1,\"1758\":1,\"1759\":1,\"1760\":1,\"1761\":1,\"1762\":1,\"1763\":6,\"1764\":1,\"1765\":5,\"1766\":2,\"1767\":2,\"1768\":4,\"1769\":1,\"1770\":1,\"1771\":1,\"1772\":1,\"1773\":2,\"1774\":1,\"1775\":1,\"1776\":4,\"1777\":1,\"1778\":1,\"1779\":1,\"1780\":1,\"1781\":1,\"1782\":1,\"1783\":1,\"1784\":1,\"1785\":1,\"1786\":1,\"1787\":1,\"1788\":1,\"1789\":1,\"1790\":2,\"1791\":1,\"1792\":1,\"1793\":3,\"1794\":1,\"1795\":1,\"1796\":1,\"1797\":1,\"1798\":1,\"1799\":1,\"1800\":1,\"1801\":1,\"1802\":6,\"1803\":5,\"1804\":5,\"1805\":6,\"1806\":1,\"1807\":1,\"1808\":1,\"1809\":2,\"1810\":1,\"1811\":1,\"1812\":1,\"1813\":1,\"1814\":1,\"1815\":5,\"1816\":1,\"1817\":1,\"1818\":1,\"1819\":1,\"1820\":1,\"1821\":3,\"1822\":1,\"1823\":1,\"1824\":1,\"1825\":1,\"1826\":1,\"1827\":1,\"1828\":1,\"1829\":1,\"1830\":2,\"1831\":1,\"1832\":1,\"1833\":1,\"1834\":1,\"1835\":6,\"1836\":1,\"1837\":1,\"1838\":1,\"1839\":1,\"1840\":1,\"1841\":1,\"1842\":5,\"1843\":1,\"1844\":1,\"1845\":1,\"1846\":2,\"1847\":1,\"1848\":1,\"1849\":1,\"1850\":1,\"1851\":1,\"1852\":1,\"1853\":4,\"1854\":2,\"1855\":1,\"1856\":6,\"1857\":1,\"1858\":1,\"1859\":1,\"1860\":1,\"1861\":1,\"1862\":2,\"1863\":5,\"1864\":5,\"1865\":6,\"1866\":1,\"1867\":1,\"1868\":5,\"1869\":1,\"1870\":6,\"1871\":1,\"1872\":2,\"1873\":1,\"1874\":6,\"1875\":1,\"1876\":1,\"1877\":1,\"1878\":1,\"1879\":1,\"1880\":2,\"1881\":1,\"1882\":1,\"1883\":2,\"1884\":1,\"1885\":1,\"1886\":1,\"1887\":1,\"1888\":1,\"1889\":1,\"1890\":1,\"1891\":1,\"1892\":1,\"1893\":1,\"1894\":1,\"1895\":1,\"1896\":1,\"1897\":1,\"1898\":1,\"1899\":1,\"1900\":1,\"1901\":1,\"1902\":2,\"1903\":1,\"1904\":2,\"1905\":1,\"1906\":3,\"1907\":1,\"1908\":1,\"1909\":1,\"1910\":1,\"1911\":1,\"1912\":1,\"1913\":1,\"1914\":1,\"1915\":6,\"1916\":1,\"1917\":1,\"1918\":1,\"1919\":1,\"1920\":1,\"1921\":1,\"1922\":1,\"1923\":1,\"1924\":2,\"1925\":1,\"1926\":1,\"1927\":1,\"1928\":1,\"1929\":1,\"1930\":1,\"1931\":1,\"1932\":2,\"1933\":1,\"1934\":2,\"1935\":1,\"1936\":1,\"1937\":1,\"1938\":1,\"1939\":1,\"1940\":1,\"1941\":1,\"1942\":1,\"1943\":1,\"1944\":1,\"1945\":1,\"1946\":1,\"1947\":1,\"1948\":1,\"1949\":1,\"1950\":1,\"1951\":1,\"1952\":1,\"1953\":1,\"1954\":1,\"1955\":5,\"1956\":6,\"1957\":1,\"1958\":1,\"1959\":1,\"1960\":1,\"1961\":3,\"1962\":1,\"1963\":1,\"1964\":1,\"1965\":1,\"1966\":2,\"1967\":1,\"1968\":1,\"1969\":1,\"1970\":5,\"1971\":1,\"1972\":2,\"1973\":1,\"1974\":4,\"1975\":1,\"1976\":1,\"1977\":5,\"1978\":1,\"1979\":1,\"1980\":1,\"1981\":6,\"1982\":1,\"1983\":1,\"1984\":1,\"1985\":1,\"1986\":1,\"1987\":1,\"1988\":1,\"1989\":1,\"1990\":1,\"1991\":1,\"1992\":1,\"1993\":1,\"1994\":1,\"1995\":1,\"1996\":1,\"1997\":2,\"1998\":1,\"1999\":6,\"2000\":2,\"2001\":1,\"2002\":1,\"2003\":3,\"2004\":1,\"2005\":1,\"2006\":1,\"2007\":1,\"2008\":2,\"2009\":1,\"2010\":1,\"2011\":1,\"2012\":1,\"2013\":1,\"2014\":1,\"2015\":1,\"2016\":1,\"2017\":1,\"2018\":1,\"2019\":1,\"2020\":1,\"2021\":1,\"2022\":1,\"2023\":1,\"2024\":2,\"2025\":1,\"2026\":1,\"2027\":1,\"2028\":1,\"2029\":3,\"2030\":1,\"2031\":6,\"2032\":1,\"2033\":2,\"2034\":1,\"2035\":1,\"2036\":1,\"2037\":1,\"2038\":6,\"2039\":1,\"2040\":3,\"2041\":1,\"2042\":2,\"2043\":1,\"2044\":1,\"2045\":1,\"2046\":2,\"2047\":1,\"2048\":1,\"2049\":3,\"2050\":1,\"2051\":1,\"2052\":1,\"2053\":1,\"2054\":1,\"2055\":1,\"2056\":5,\"2057\":1,\"2058\":1,\"2059\":5,\"2060\":1,\"2061\":5,\"2062\":1,\"2063\":5,\"2064\":1,\"2065\":1,\"2066\":1,\"2067\":1,\"2068\":1,\"2069\":1,\"2070\":5,\"2071\":2,\"2072\":1,\"2073\":5,\"2074\":1,\"2075\":1,\"2076\":1,\"2077\":3,\"2078\":1,\"2079\":1,\"2080\":4,\"2081\":1,\"2082\":1,\"2083\":1,\"2084\":1,\"2085\":2,\"2086\":1,\"2087\":1,\"2088\":1,\"2089\":1,\"2090\":3,\"2091\":1,\"2092\":1,\"2093\":1,\"2094\":1,\"2095\":1,\"2096\":2,\"2097\":1,\"2098\":1,\"2099\":1,\"2100\":1,\"2101\":1,\"2102\":1,\"2103\":1,\"2104\":2,\"2105\":5,\"2106\":2,\"2107\":2,\"2108\":1,\"2109\":1,\"2110\":6,\"2111\":1,\"2112\":1,\"2113\":1,\"2114\":2,\"2115\":5,\"2116\":3,\"2117\":5,\"2118\":1,\"2119\":1,\"2120\":2,\"2121\":1,\"2122\":6,\"2123\":1,\"2124\":1,\"2125\":1,\"2126\":1,\"2127\":1,\"2128\":1,\"2129\":1,\"2130\":1,\"2131\":1,\"2132\":1,\"2133\":1,\"2134\":1,\"2135\":1,\"2136\":1,\"2137\":1,\"2138\":1,\"2139\":1,\"2140\":2,\"2141\":1,\"2142\":1,\"2143\":1,\"2144\":1,\"2145\":1,\"2146\":1,\"2147\":1,\"2148\":1,\"2149\":1,\"2150\":2,\"2151\":3,\"2152\":1,\"2153\":2,\"2154\":1,\"2155\":2,\"2156\":1,\"2157\":1,\"2158\":1,\"2159\":2,\"2160\":1,\"2161\":1,\"2162\":1,\"2163\":1,\"2164\":2,\"2165\":1,\"2166\":1,\"2167\":1,\"2168\":1,\"2169\":1,\"2170\":1,\"2171\":2,\"2172\":1,\"2173\":1,\"2174\":1,\"2175\":1,\"2176\":1,\"2177\":1,\"2178\":1,\"2179\":1,\"2180\":1,\"2181\":1,\"2182\":1,\"2183\":1,\"2184\":2,\"2185\":5,\"2186\":1,\"2187\":1,\"2188\":1,\"2189\":2,\"2190\":1,\"2191\":6,\"2192\":6,\"2193\":1,\"2194\":1,\"2195\":1,\"2196\":1,\"2197\":2,\"2198\":1,\"2199\":1,\"2200\":1,\"2201\":1,\"2202\":1,\"2203\":2,\"2204\":5,\"2205\":1,\"2206\":4,\"2207\":1,\"2208\":2,\"2209\":1,\"2210\":2,\"2211\":1,\"2212\":3,\"2213\":1,\"2214\":1,\"2215\":1,\"2216\":3,\"2217\":1,\"2218\":1,\"2219\":1,\"2220\":6,\"2221\":1,\"2222\":1,\"2223\":6,\"2224\":1,\"2225\":5,\"2226\":2,\"2227\":1,\"2228\":1,\"2229\":1,\"2230\":1,\"2231\":1,\"2232\":2,\"2233\":5,\"2234\":1,\"2235\":1,\"2236\":1,\"2237\":5,\"2238\":1,\"2239\":1,\"2240\":1,\"2241\":1,\"2242\":1,\"2243\":2,\"2244\":1,\"2245\":1,\"2246\":1,\"2247\":1,\"2248\":1,\"2249\":1,\"2250\":1,\"2251\":4,\"2252\":5,\"2253\":1,\"2254\":1,\"2255\":1,\"2256\":1,\"2257\":2,\"2258\":2,\"2259\":1,\"2260\":1,\"2261\":6,\"2262\":2,\"2263\":6,\"2264\":3,\"2265\":1,\"2266\":1,\"2267\":1,\"2268\":2,\"2269\":1,\"2270\":2,\"2271\":1,\"2272\":5,\"2273\":1,\"2274\":3,\"2275\":3,\"2276\":1,\"2277\":1,\"2278\":1,\"2279\":1,\"2280\":1,\"2281\":1,\"2282\":2,\"2283\":1,\"2284\":1,\"2285\":1,\"2286\":1,\"2287\":1,\"2288\":1,\"2289\":5,\"2290\":1,\"2291\":1,\"2292\":1,\"2293\":1,\"2294\":1,\"2295\":1,\"2296\":2,\"2297\":1,\"2298\":1,\"2299\":1,\"2300\":2,\"2301\":1,\"2302\":1,\"2303\":2,\"2304\":5,\"2305\":2,\"2306\":1,\"2307\":1,\"2308\":1,\"2309\":1,\"2310\":1,\"2311\":1,\"2312\":5,\"2313\":2,\"2314\":1,\"2315\":2,\"2316\":1,\"2317\":1,\"2318\":4,\"2319\":1,\"2320\":3,\"2321\":1,\"2322\":2,\"2323\":1,\"2324\":1,\"2325\":2,\"2326\":1,\"2327\":6,\"2328\":1,\"2329\":2,\"2330\":1,\"2331\":1,\"2332\":1,\"2333\":1,\"2334\":1,\"2335\":6,\"2336\":1,\"2337\":1,\"2338\":6,\"2339\":1,\"2340\":1,\"2341\":1,\"2342\":1,\"2343\":2,\"2344\":2,\"2345\":1,\"2346\":1,\"2347\":1,\"2348\":2,\"2349\":1,\"2350\":1,\"2351\":1,\"2352\":3,\"2353\":1,\"2354\":1,\"2355\":2,\"2356\":3,\"2357\":1,\"2358\":1,\"2359\":1,\"2360\":1,\"2361\":1,\"2362\":1,\"2363\":6,\"2364\":1,\"2365\":1,\"2366\":4,\"2367\":1,\"2368\":1,\"2369\":1,\"2370\":6,\"2371\":2,\"2372\":1,\"2373\":6,\"2374\":1,\"2375\":1,\"2376\":2,\"2377\":1,\"2378\":5,\"2379\":1,\"2380\":1,\"2381\":1,\"2382\":4,\"2383\":1,\"2384\":1,\"2385\":1,\"2386\":1,\"2387\":1,\"2388\":1,\"2389\":1,\"2390\":1,\"2391\":2,\"2392\":1,\"2393\":1,\"2394\":1,\"2395\":2,\"2396\":1,\"2397\":1,\"2398\":1,\"2399\":1,\"2400\":1,\"2401\":4,\"2402\":1,\"2403\":2,\"2404\":2,\"2405\":2,\"2406\":5,\"2407\":5,\"2408\":1,\"2409\":1,\"2410\":1,\"2411\":2,\"2412\":3,\"2413\":5,\"2414\":1,\"2415\":1,\"2416\":1,\"2417\":2,\"2418\":1,\"2419\":5,\"2420\":6,\"2421\":1,\"2422\":5,\"2423\":6,\"2424\":1,\"2425\":2,\"2426\":1,\"2427\":1,\"2428\":5,\"2429\":1,\"2430\":2,\"2431\":6,\"2432\":1,\"2433\":1,\"2434\":1,\"2435\":1,\"2436\":1,\"2437\":1,\"2438\":2,\"2439\":1,\"2440\":1,\"2441\":1,\"2442\":1,\"2443\":1,\"2444\":1,\"2445\":3,\"2446\":1,\"2447\":1,\"2448\":1,\"2449\":5,\"2450\":3,\"2451\":1,\"2452\":1,\"2453\":6,\"2454\":1,\"2455\":1,\"2456\":1,\"2457\":1,\"2458\":3,\"2459\":1,\"2460\":1,\"2461\":1,\"2462\":1,\"2463\":1,\"2464\":1,\"2465\":2,\"2466\":1,\"2467\":1,\"2468\":3,\"2469\":5,\"2470\":1,\"2471\":1,\"2472\":1,\"2473\":2,\"2474\":1,\"2475\":1,\"2476\":1,\"2477\":1,\"2478\":3,\"2479\":2,\"2480\":1,\"2481\":1,\"2482\":2,\"2483\":1,\"2484\":5,\"2485\":1,\"2486\":2,\"2487\":1,\"2488\":1,\"2489\":1,\"2490\":1,\"2491\":5,\"2492\":1,\"2493\":1,\"2494\":1,\"2495\":1,\"2496\":1,\"2497\":1,\"2498\":5,\"2499\":1,\"2500\":2,\"2501\":1,\"2502\":1,\"2503\":1,\"2504\":2,\"2505\":1,\"2506\":1,\"2507\":1,\"2508\":1,\"2509\":1,\"2510\":1,\"2511\":6,\"2512\":2,\"2513\":1,\"2514\":2,\"2515\":1,\"2516\":1,\"2517\":2,\"2518\":1,\"2519\":5,\"2520\":1,\"2521\":1,\"2522\":2,\"2523\":1,\"2524\":1,\"2525\":1,\"2526\":2,\"2527\":5,\"2528\":1,\"2529\":1,\"2530\":1,\"2531\":1,\"2532\":1,\"2533\":1,\"2534\":1,\"2535\":1,\"2536\":1,\"2537\":2,\"2538\":1,\"2539\":1,\"2540\":1,\"2541\":5,\"2542\":1,\"2543\":1,\"2544\":1,\"2545\":2,\"2546\":2,\"2547\":1,\"2548\":1,\"2549\":2,\"2550\":1,\"2551\":2,\"2552\":1,\"2553\":6,\"2554\":1,\"2555\":1,\"2556\":1,\"2557\":1,\"2558\":1,\"2559\":1,\"2560\":1,\"2561\":1,\"2562\":1,\"2563\":1,\"2564\":1,\"2565\":1,\"2566\":3,\"2567\":1,\"2568\":1,\"2569\":1,\"2570\":1,\"2571\":1,\"2572\":1,\"2573\":1,\"2574\":1,\"2575\":3,\"2576\":1,\"2577\":2,\"2578\":1,\"2579\":1,\"2580\":1,\"2581\":1,\"2582\":3,\"2583\":1,\"2584\":1,\"2585\":1,\"2586\":1,\"2587\":1,\"2588\":1,\"2589\":1,\"2590\":3,\"2591\":1,\"2592\":1,\"2593\":1,\"2594\":1,\"2595\":1,\"2596\":1,\"2597\":1,\"2598\":1,\"2599\":1,\"2600\":1,\"2601\":1,\"2602\":1,\"2603\":1,\"2604\":2,\"2605\":1,\"2606\":1,\"2607\":1,\"2608\":1,\"2609\":3,\"2610\":1,\"2611\":1,\"2612\":1,\"2613\":5,\"2614\":1,\"2615\":1,\"2616\":6,\"2617\":1,\"2618\":1,\"2619\":1,\"2620\":6,\"2621\":1,\"2622\":1,\"2623\":1,\"2624\":1,\"2625\":1,\"2626\":1,\"2627\":2,\"2628\":1,\"2629\":2,\"2630\":1,\"2631\":1,\"2632\":1,\"2633\":3,\"2634\":1,\"2635\":2,\"2636\":2,\"2637\":6,\"2638\":5,\"2639\":3,\"2640\":5,\"2641\":1,\"2642\":2,\"2643\":6,\"2644\":1,\"2645\":4,\"2646\":1,\"2647\":1,\"2648\":1,\"2649\":1,\"2650\":2,\"2651\":1,\"2652\":1,\"2653\":1,\"2654\":1,\"2655\":1,\"2656\":1,\"2657\":1,\"2658\":1,\"2659\":1,\"2660\":1,\"2661\":1,\"2662\":1,\"2663\":1,\"2664\":6,\"2665\":1,\"2666\":1,\"2667\":1,\"2668\":1,\"2669\":1,\"2670\":1,\"2671\":1,\"2672\":1,\"2673\":1,\"2674\":3,\"2675\":1,\"2676\":1,\"2677\":1,\"2678\":1,\"2679\":1,\"2680\":5,\"2681\":1,\"2682\":1,\"2683\":1,\"2684\":1,\"2685\":1,\"2686\":1,\"2687\":2,\"2688\":5,\"2689\":1,\"2690\":1,\"2691\":1,\"2692\":1,\"2693\":1,\"2694\":1,\"2695\":1,\"2696\":1,\"2697\":1,\"2698\":4,\"2699\":1,\"2700\":1,\"2701\":1,\"2702\":1,\"2703\":1,\"2704\":1,\"2705\":1,\"2706\":1,\"2707\":5,\"2708\":1,\"2709\":5,\"2710\":1,\"2711\":1,\"2712\":1,\"2713\":1,\"2714\":2,\"2715\":1,\"2716\":1,\"2717\":1,\"2718\":2,\"2719\":1,\"2720\":1,\"2721\":1,\"2722\":3,\"2723\":1,\"2724\":1,\"2725\":1,\"2726\":2,\"2727\":1,\"2728\":2,\"2729\":1,\"2730\":1,\"2731\":1,\"2732\":1,\"2733\":1,\"2734\":2,\"2735\":3,\"2736\":5,\"2737\":1,\"2738\":1,\"2739\":1,\"2740\":1,\"2741\":1,\"2742\":4,\"2743\":1,\"2744\":2,\"2745\":1,\"2746\":3,\"2747\":1,\"2748\":1,\"2749\":1,\"2750\":1,\"2751\":1,\"2752\":1,\"2753\":1,\"2754\":1,\"2755\":2,\"2756\":1,\"2757\":1,\"2758\":2,\"2759\":1,\"2760\":3,\"2761\":5,\"2762\":1,\"2763\":1,\"2764\":6,\"2765\":1,\"2766\":1,\"2767\":1,\"2768\":1,\"2769\":5,\"2770\":1,\"2771\":1,\"2772\":1,\"2773\":1,\"2774\":1,\"2775\":1,\"2776\":2,\"2777\":1,\"2778\":2,\"2779\":1,\"2780\":2,\"2781\":3,\"2782\":2,\"2783\":1,\"2784\":1,\"2785\":1,\"2786\":5,\"2787\":1,\"2788\":1,\"2789\":5,\"2790\":1,\"2791\":6,\"2792\":1,\"2793\":1,\"2794\":5,\"2795\":1,\"2796\":1,\"2797\":3,\"2798\":2,\"2799\":4,\"2800\":1,\"2801\":2,\"2802\":1,\"2803\":2,\"2804\":2,\"2805\":1,\"2806\":1,\"2807\":1,\"2808\":1,\"2809\":1,\"2810\":1,\"2811\":1,\"2812\":1,\"2813\":1,\"2814\":5,\"2815\":1,\"2816\":2,\"2817\":1,\"2818\":1,\"2819\":1,\"2820\":1,\"2821\":1,\"2822\":1,\"2823\":1,\"2824\":5,\"2825\":6,\"2826\":1,\"2827\":1,\"2828\":2,\"2829\":1,\"2830\":2,\"2831\":1,\"2832\":2,\"2833\":1,\"2834\":2,\"2835\":5,\"2836\":1,\"2837\":3,\"2838\":3,\"2839\":1,\"2840\":1,\"2841\":1,\"2842\":1,\"2843\":1,\"2844\":1,\"2845\":1,\"2846\":1,\"2847\":1,\"2848\":1,\"2849\":2,\"2850\":1,\"2851\":1,\"2852\":1,\"2853\":1,\"2854\":1,\"2855\":1,\"2856\":1,\"2857\":1,\"2858\":1,\"2859\":1,\"2860\":1,\"2861\":1,\"2862\":1,\"2863\":1,\"2864\":1,\"2865\":1,\"2866\":1,\"2867\":1,\"2868\":1,\"2869\":1,\"2870\":6,\"2871\":5,\"2872\":1,\"2873\":1,\"2874\":1,\"2875\":1,\"2876\":1,\"2877\":1,\"2878\":1,\"2879\":1,\"2880\":1,\"2881\":1,\"2882\":1,\"2883\":1,\"2884\":2,\"2885\":1,\"2886\":1,\"2887\":1,\"2888\":1,\"2889\":1,\"2890\":2,\"2891\":1,\"2892\":1,\"2893\":1,\"2894\":1,\"2895\":6,\"2896\":3,\"2897\":1,\"2898\":1,\"2899\":1,\"2900\":6,\"2901\":1,\"2902\":1,\"2903\":1,\"2904\":1,\"2905\":1,\"2906\":2,\"2907\":1,\"2908\":2,\"2909\":1,\"2910\":2,\"2911\":6,\"2912\":1,\"2913\":1,\"2914\":6,\"2915\":4,\"2916\":1,\"2917\":1,\"2918\":1,\"2919\":2,\"2920\":1,\"2921\":1,\"2922\":1,\"2923\":1,\"2924\":1,\"2925\":1,\"2926\":5,\"2927\":1,\"2928\":5,\"2929\":1,\"2930\":1,\"2931\":5,\"2932\":1,\"2933\":1,\"2934\":1,\"2935\":1,\"2936\":5,\"2937\":1,\"2938\":1,\"2939\":6,\"2940\":1,\"2941\":1,\"2942\":1,\"2943\":1,\"2944\":1,\"2945\":1,\"2946\":1,\"2947\":1,\"2948\":2,\"2949\":1,\"2950\":1,\"2951\":6,\"2952\":1,\"2953\":1,\"2954\":1,\"2955\":3,\"2956\":5,\"2957\":2,\"2958\":6,\"2959\":1,\"2960\":1,\"2961\":1,\"2962\":1,\"2963\":1,\"2964\":6,\"2965\":1,\"2966\":6,\"2967\":1,\"2968\":1,\"2969\":1,\"2970\":1,\"2971\":3,\"2972\":1,\"2973\":1,\"2974\":1,\"2975\":1,\"2976\":1,\"2977\":1,\"2978\":3,\"2979\":1,\"2980\":1,\"2981\":3,\"2982\":1,\"2983\":1,\"2984\":1,\"2985\":1,\"2986\":2,\"2987\":1,\"2988\":3,\"2989\":1,\"2990\":1,\"2991\":5,\"2992\":1,\"2993\":1,\"2994\":1,\"2995\":1,\"2996\":6,\"2997\":1,\"2998\":1,\"2999\":1,\"3000\":2,\"3001\":1,\"3002\":1,\"3003\":1,\"3004\":1,\"3005\":1,\"3006\":5,\"3007\":1,\"3008\":2,\"3009\":1,\"3010\":1,\"3011\":1,\"3012\":6,\"3013\":1,\"3014\":5,\"3015\":1,\"3016\":1,\"3017\":1,\"3018\":6,\"3019\":1,\"3020\":1,\"3021\":5,\"3022\":1,\"3023\":1,\"3024\":1,\"3025\":5,\"3026\":1,\"3027\":3,\"3028\":1,\"3029\":2,\"3030\":1,\"3031\":1,\"3032\":1,\"3033\":2,\"3034\":1,\"3035\":1,\"3036\":1,\"3037\":1,\"3038\":6,\"3039\":1,\"3040\":1,\"3041\":2,\"3042\":1,\"3043\":1,\"3044\":1,\"3045\":1,\"3046\":5,\"3047\":2,\"3048\":1,\"3049\":2,\"3050\":1,\"3051\":2,\"3052\":1,\"3053\":6,\"3054\":2,\"3055\":1,\"3056\":1,\"3057\":2,\"3058\":2,\"3059\":1,\"3060\":1,\"3061\":1,\"3062\":5,\"3063\":5,\"3064\":6,\"3065\":1,\"3066\":1,\"3067\":1,\"3068\":1,\"3069\":1,\"3070\":1,\"3071\":1,\"3072\":1,\"3073\":2,\"3074\":1,\"3075\":5,\"3076\":5,\"3077\":1,\"3078\":5,\"3079\":1,\"3080\":2,\"3081\":1,\"3082\":1,\"3083\":1,\"3084\":1,\"3085\":2,\"3086\":1,\"3087\":2,\"3088\":1,\"3089\":5,\"3090\":1,\"3091\":5,\"3092\":3,\"3093\":1,\"3094\":1,\"3095\":1,\"3096\":1,\"3097\":2,\"3098\":1,\"3099\":2,\"3100\":1,\"3101\":1,\"3102\":1,\"3103\":5,\"3104\":1,\"3105\":1,\"3106\":5,\"3107\":4,\"3108\":1,\"3109\":1,\"3110\":1,\"3111\":2,\"3112\":6,\"3113\":1,\"3114\":1,\"3115\":1,\"3116\":1,\"3117\":1,\"3118\":1,\"3119\":1,\"3120\":1,\"3121\":1,\"3122\":6,\"3123\":1,\"3124\":1,\"3125\":1,\"3126\":2,\"3127\":1,\"3128\":2,\"3129\":1,\"3130\":5,\"3131\":2,\"3132\":1,\"3133\":1,\"3134\":1,\"3135\":1,\"3136\":1,\"3137\":1,\"3138\":1,\"3139\":1,\"3140\":4,\"3141\":1,\"3142\":1,\"3143\":1,\"3144\":1,\"3145\":6,\"3146\":5,\"3147\":2,\"3148\":2,\"3149\":1,\"3150\":2,\"3151\":2,\"3152\":2,\"3153\":2,\"3154\":4,\"3155\":1,\"3156\":1,\"3157\":1,\"3158\":1,\"3159\":1,\"3160\":4,\"3161\":2,\"3162\":1,\"3163\":6,\"3164\":5,\"3165\":5,\"3166\":1,\"3167\":1,\"3168\":2,\"3169\":1,\"3170\":1,\"3171\":1,\"3172\":1,\"3173\":1,\"3174\":1,\"3175\":2,\"3176\":1,\"3177\":1,\"3178\":3,\"3179\":4,\"3180\":1,\"3181\":1,\"3182\":3,\"3183\":1,\"3184\":5,\"3185\":1,\"3186\":1,\"3187\":1,\"3188\":2,\"3189\":1,\"3190\":1,\"3191\":1,\"3192\":1,\"3193\":1,\"3194\":1,\"3195\":1,\"3196\":1,\"3197\":1,\"3198\":1,\"3199\":1,\"3200\":1,\"3201\":1,\"3202\":1,\"3203\":1,\"3204\":1,\"3205\":1,\"3206\":5,\"3207\":1,\"3208\":2,\"3209\":6,\"3210\":1,\"3211\":1,\"3212\":1,\"3213\":1,\"3214\":1,\"3215\":1,\"3216\":1,\"3217\":1,\"3218\":2,\"3219\":1,\"3220\":1,\"3221\":1,\"3222\":1,\"3223\":1,\"3224\":1,\"3225\":1,\"3226\":2,\"3227\":1,\"3228\":3,\"3229\":1,\"3230\":1,\"3231\":2,\"3232\":6,\"3233\":1,\"3234\":1,\"3235\":1,\"3236\":1,\"3237\":1,\"3238\":1,\"3239\":4,\"3240\":1,\"3241\":1,\"3242\":1,\"3243\":1,\"3244\":1,\"3245\":1,\"3246\":1,\"3247\":1,\"3248\":1,\"3249\":1,\"3250\":1,\"3251\":1,\"3252\":1,\"3253\":1,\"3254\":3,\"3255\":1,\"3256\":1,\"3257\":6,\"3258\":1,\"3259\":2,\"3260\":1,\"3261\":3,\"3262\":1,\"3263\":1,\"3264\":2,\"3265\":1,\"3266\":2,\"3267\":6,\"3268\":1,\"3269\":5,\"3270\":6,\"3271\":2,\"3272\":1,\"3273\":1,\"3274\":1,\"3275\":1,\"3276\":2,\"3277\":1,\"3278\":1,\"3279\":1,\"3280\":1,\"3281\":5,\"3282\":1,\"3283\":1,\"3284\":1,\"3285\":1,\"3286\":1,\"3287\":2,\"3288\":1,\"3289\":6,\"3290\":1,\"3291\":1,\"3292\":2,\"3293\":1,\"3294\":1,\"3295\":1,\"3296\":3,\"3297\":1,\"3298\":1,\"3299\":1,\"3300\":1,\"3301\":1,\"3302\":1,\"3303\":1,\"3304\":1,\"3305\":1,\"3306\":6,\"3307\":1,\"3308\":6,\"3309\":1,\"3310\":2,\"3311\":6,\"3312\":1,\"3313\":1,\"3314\":1,\"3315\":1,\"3316\":3,\"3317\":1,\"3318\":1,\"3319\":6,\"3320\":1,\"3321\":1,\"3322\":1,\"3323\":1,\"3324\":1,\"3325\":2,\"3326\":1,\"3327\":1,\"3328\":1,\"3329\":1,\"3330\":6,\"3331\":1,\"3332\":1,\"3333\":5,\"3334\":2,\"3335\":5,\"3336\":1,\"3337\":5,\"3338\":1,\"3339\":1,\"3340\":1,\"3341\":1,\"3342\":5,\"3343\":1,\"3344\":1,\"3345\":1,\"3346\":5,\"3347\":1,\"3348\":1,\"3349\":1,\"3350\":1,\"3351\":1,\"3352\":1,\"3353\":2,\"3354\":1,\"3355\":1,\"3356\":3,\"3357\":1,\"3358\":1,\"3359\":1,\"3360\":1,\"3361\":1,\"3362\":1,\"3363\":6,\"3364\":1,\"3365\":1,\"3366\":1,\"3367\":1,\"3368\":3,\"3369\":2,\"3370\":1,\"3371\":6,\"3372\":1,\"3373\":1,\"3374\":1,\"3375\":1,\"3376\":1,\"3377\":1,\"3378\":2,\"3379\":1,\"3380\":1,\"3381\":1,\"3382\":1,\"3383\":2,\"3384\":1,\"3385\":1,\"3386\":1,\"3387\":1,\"3388\":2,\"3389\":1,\"3390\":1,\"3391\":1,\"3392\":1,\"3393\":1,\"3394\":1,\"3395\":2,\"3396\":1,\"3397\":1,\"3398\":1,\"3399\":1,\"3400\":2,\"3401\":1,\"3402\":1,\"3403\":3,\"3404\":1,\"3405\":5,\"3406\":2,\"3407\":1,\"3408\":5,\"3409\":1,\"3410\":1,\"3411\":1,\"3412\":1,\"3413\":2,\"3414\":3,\"3415\":1,\"3416\":1,\"3417\":1,\"3418\":1,\"3419\":1,\"3420\":3,\"3421\":6,\"3422\":1,\"3423\":1,\"3424\":1,\"3425\":1,\"3426\":2,\"3427\":1,\"3428\":2,\"3429\":1,\"3430\":1,\"3431\":1,\"3432\":1,\"3433\":2,\"3434\":1,\"3435\":5,\"3436\":1,\"3437\":1,\"3438\":1,\"3439\":1,\"3440\":1,\"3441\":2,\"3442\":1,\"3443\":1,\"3444\":1,\"3445\":1,\"3446\":2,\"3447\":1,\"3448\":1,\"3449\":1,\"3450\":1,\"3451\":1,\"3452\":1,\"3453\":6,\"3454\":1,\"3455\":1,\"3456\":1,\"3457\":2,\"3458\":1,\"3459\":1,\"3460\":1,\"3461\":1,\"3462\":1,\"3463\":1,\"3464\":4,\"3465\":1,\"3466\":2,\"3467\":1,\"3468\":1,\"3469\":1,\"3470\":1,\"3471\":4,\"3472\":2,\"3473\":1,\"3474\":1,\"3475\":1,\"3476\":1,\"3477\":6,\"3478\":1,\"3479\":1,\"3480\":1,\"3481\":1,\"3482\":1,\"3483\":2,\"3484\":2,\"3485\":3,\"3486\":1,\"3487\":6,\"3488\":1,\"3489\":1,\"3490\":2,\"3491\":1,\"3492\":1,\"3493\":1,\"3494\":1,\"3495\":1,\"3496\":1,\"3497\":1,\"3498\":1,\"3499\":6,\"3500\":1,\"3501\":6,\"3502\":6,\"3503\":1,\"3504\":1,\"3505\":1,\"3506\":1,\"3507\":2,\"3508\":1,\"3509\":1,\"3510\":1,\"3511\":3,\"3512\":1,\"3513\":1,\"3514\":1,\"3515\":1,\"3516\":1,\"3517\":1,\"3518\":5,\"3519\":1,\"3520\":5,\"3521\":2,\"3522\":1,\"3523\":2,\"3524\":2,\"3525\":1,\"3526\":1,\"3527\":5,\"3528\":6,\"3529\":1,\"3530\":1,\"3531\":1,\"3532\":1,\"3533\":2,\"3534\":1,\"3535\":2,\"3536\":1,\"3537\":1,\"3538\":1,\"3539\":1,\"3540\":1,\"3541\":2,\"3542\":1,\"3543\":1,\"3544\":1,\"3545\":1,\"3546\":1,\"3547\":1,\"3548\":1,\"3549\":1,\"3550\":1,\"3551\":1,\"3552\":1,\"3553\":6,\"3554\":1,\"3555\":1,\"3556\":1,\"3557\":2,\"3558\":1,\"3559\":1,\"3560\":6,\"3561\":1,\"3562\":1,\"3563\":6,\"3564\":1,\"3565\":2,\"3566\":2,\"3567\":1,\"3568\":1,\"3569\":1,\"3570\":1,\"3571\":1,\"3572\":2,\"3573\":1,\"3574\":5,\"3575\":1,\"3576\":1,\"3577\":1,\"3578\":1,\"3579\":6,\"3580\":1,\"3581\":3,\"3582\":1,\"3583\":1,\"3584\":1,\"3585\":2,\"3586\":1,\"3587\":1,\"3588\":1,\"3589\":1,\"3590\":1,\"3591\":1,\"3592\":1,\"3593\":2,\"3594\":1,\"3595\":5,\"3596\":1,\"3597\":1,\"3598\":1,\"3599\":1,\"3600\":5,\"3601\":1,\"3602\":2,\"3603\":4,\"3604\":1,\"3605\":5,\"3606\":1,\"3607\":1,\"3608\":1,\"3609\":1,\"3610\":1,\"3611\":1,\"3612\":1,\"3613\":1,\"3614\":1,\"3615\":4,\"3616\":1,\"3617\":1,\"3618\":1,\"3619\":3,\"3620\":1,\"3621\":1,\"3622\":1,\"3623\":1,\"3624\":1,\"3625\":1,\"3626\":1,\"3627\":1,\"3628\":1,\"3629\":1,\"3630\":1,\"3631\":1,\"3632\":1,\"3633\":1,\"3634\":1,\"3635\":1,\"3636\":1,\"3637\":1,\"3638\":1,\"3639\":1,\"3640\":2,\"3641\":1,\"3642\":5,\"3643\":1,\"3644\":1,\"3645\":1,\"3646\":2,\"3647\":1,\"3648\":1,\"3649\":1,\"3650\":1,\"3651\":1,\"3652\":5,\"3653\":1,\"3654\":1,\"3655\":1,\"3656\":5,\"3657\":6,\"3658\":1,\"3659\":1,\"3660\":3,\"3661\":1,\"3662\":1,\"3663\":1,\"3664\":1,\"3665\":1,\"3666\":1,\"3667\":1,\"3668\":1,\"3669\":1,\"3670\":1,\"3671\":1,\"3672\":3,\"3673\":1,\"3674\":1,\"3675\":1,\"3676\":1,\"3677\":4,\"3678\":1,\"3679\":1,\"3680\":1,\"3681\":1,\"3682\":1,\"3683\":1,\"3684\":1,\"3685\":1,\"3686\":1,\"3687\":1,\"3688\":2,\"3689\":1,\"3690\":1,\"3691\":3,\"3692\":1,\"3693\":1,\"3694\":1,\"3695\":1,\"3696\":1,\"3697\":1,\"3698\":1,\"3699\":2,\"3700\":6,\"3701\":1,\"3702\":1,\"3703\":1,\"3704\":1,\"3705\":1,\"3706\":1,\"3707\":1,\"3708\":1,\"3709\":1,\"3710\":1,\"3711\":1,\"3712\":6,\"3713\":1,\"3714\":2,\"3715\":4,\"3716\":1,\"3717\":1,\"3718\":1,\"3719\":1,\"3720\":1,\"3721\":5,\"3722\":1,\"3723\":1,\"3724\":5,\"3725\":2,\"3726\":6,\"3727\":1,\"3728\":1,\"3729\":2,\"3730\":1,\"3731\":1,\"3732\":1,\"3733\":1,\"3734\":4,\"3735\":1,\"3736\":1,\"3737\":6,\"3738\":1,\"3739\":1,\"3740\":5,\"3741\":1,\"3742\":1,\"3743\":1,\"3744\":1,\"3745\":1,\"3746\":1,\"3747\":1,\"3748\":2,\"3749\":1,\"3750\":1,\"3751\":2,\"3752\":5,\"3753\":1,\"3754\":2,\"3755\":1,\"3756\":1,\"3757\":1,\"3758\":1,\"3759\":1,\"3760\":1,\"3761\":1,\"3762\":1,\"3763\":5,\"3764\":1,\"3765\":1,\"3766\":4,\"3767\":1,\"3768\":1,\"3769\":1,\"3770\":1,\"3771\":1,\"3772\":3,\"3773\":1,\"3774\":1,\"3775\":2,\"3776\":1,\"3777\":1,\"3778\":1,\"3779\":2,\"3780\":5,\"3781\":3,\"3782\":1,\"3783\":2,\"3784\":1,\"3785\":1,\"3786\":1,\"3787\":1,\"3788\":1,\"3789\":1,\"3790\":6,\"3791\":1,\"3792\":1,\"3793\":1,\"3794\":1,\"3795\":1,\"3796\":1,\"3797\":1,\"3798\":1,\"3799\":1,\"3800\":1,\"3801\":1,\"3802\":1,\"3803\":2,\"3804\":1,\"3805\":1,\"3806\":2,\"3807\":1,\"3808\":1,\"3809\":1,\"3810\":1,\"3811\":1,\"3812\":2,\"3813\":1,\"3814\":1,\"3815\":1,\"3816\":1,\"3817\":1,\"3818\":1,\"3819\":1,\"3820\":5,\"3821\":1,\"3822\":6,\"3823\":1,\"3824\":2,\"3825\":1,\"3826\":6,\"3827\":1,\"3828\":1,\"3829\":1,\"3830\":2,\"3831\":1,\"3832\":3,\"3833\":2,\"3834\":5,\"3835\":3,\"3836\":1,\"3837\":3,\"3838\":1,\"3839\":1,\"3840\":1,\"3841\":2,\"3842\":4,\"3843\":1,\"3844\":5,\"3845\":1,\"3846\":1,\"3847\":1,\"3848\":1,\"3849\":1,\"3850\":1,\"3851\":1,\"3852\":1,\"3853\":1,\"3854\":1,\"3855\":1,\"3856\":1,\"3857\":5,\"3858\":2,\"3859\":1,\"3860\":1,\"3861\":1,\"3862\":1,\"3863\":1,\"3864\":1,\"3865\":1,\"3866\":1,\"3867\":1,\"3868\":1,\"3869\":4,\"3870\":6,\"3871\":1,\"3872\":1,\"3873\":1,\"3874\":6,\"3875\":1,\"3876\":1,\"3877\":1,\"3878\":1,\"3879\":1,\"3880\":1,\"3881\":1,\"3882\":1,\"3883\":1,\"3884\":1,\"3885\":2,\"3886\":1,\"3887\":1,\"3888\":1,\"3889\":3,\"3890\":1,\"3891\":1,\"3892\":5,\"3893\":1,\"3894\":1,\"3895\":1,\"3896\":5,\"3897\":5,\"3898\":2,\"3899\":1,\"3900\":1,\"3901\":2,\"3902\":1,\"3903\":3,\"3904\":4,\"3905\":1,\"3906\":2,\"3907\":1,\"3908\":1,\"3909\":4,\"3910\":1,\"3911\":1,\"3912\":1,\"3913\":2,\"3914\":1,\"3915\":4,\"3916\":1,\"3917\":2,\"3918\":2,\"3919\":1,\"3920\":2,\"3921\":1,\"3922\":2,\"3923\":1,\"3924\":1,\"3925\":1,\"3926\":1,\"3927\":1,\"3928\":1,\"3929\":1,\"3930\":1,\"3931\":1,\"3932\":1,\"3933\":2,\"3934\":1,\"3935\":1,\"3936\":1,\"3937\":1,\"3938\":1,\"3939\":1,\"3940\":1,\"3941\":1,\"3942\":1,\"3943\":1,\"3944\":2,\"3945\":1,\"3946\":6,\"3947\":2,\"3948\":4,\"3949\":1,\"3950\":2,\"3951\":1,\"3952\":5,\"3953\":1,\"3954\":1,\"3955\":1,\"3956\":1,\"3957\":3,\"3958\":1,\"3959\":1,\"3960\":2,\"3961\":2,\"3962\":1,\"3963\":2,\"3964\":1,\"3965\":1,\"3966\":1,\"3967\":1,\"3968\":1,\"3969\":1,\"3970\":5,\"3971\":1,\"3972\":1,\"3973\":1,\"3974\":1,\"3975\":1,\"3976\":1,\"3977\":1,\"3978\":1,\"3979\":1,\"3980\":1,\"3981\":2,\"3982\":6,\"3983\":1,\"3984\":1,\"3985\":1,\"3986\":1,\"3987\":1,\"3988\":1,\"3989\":1,\"3990\":5,\"3991\":5,\"3992\":1,\"3993\":1,\"3994\":1,\"3995\":2,\"3996\":1,\"3997\":2,\"3998\":1,\"3999\":1,\"4000\":1,\"4001\":1,\"4002\":1,\"4003\":2,\"4004\":5,\"4005\":3,\"4006\":1,\"4007\":1,\"4008\":3,\"4009\":1,\"4010\":1,\"4011\":4,\"4012\":1,\"4013\":1,\"4014\":1,\"4015\":1,\"4016\":1,\"4017\":1,\"4018\":1,\"4019\":1,\"4020\":6,\"4021\":1,\"4022\":1,\"4023\":1,\"4024\":1,\"4025\":1,\"4026\":1,\"4027\":2,\"4028\":1,\"4029\":5,\"4030\":1,\"4031\":1,\"4032\":1,\"4033\":1,\"4034\":1,\"4035\":5,\"4036\":1,\"4037\":1,\"4038\":1,\"4039\":1,\"4040\":2,\"4041\":1,\"4042\":1,\"4043\":1,\"4044\":1,\"4045\":1,\"4046\":1,\"4047\":1,\"4048\":1,\"4049\":1,\"4050\":1,\"4051\":1,\"4052\":1,\"4053\":1,\"4054\":1,\"4055\":5,\"4056\":1,\"4057\":1,\"4058\":5,\"4059\":1,\"4060\":1,\"4061\":1,\"4062\":1,\"4063\":2,\"4064\":3,\"4065\":1,\"4066\":1,\"4067\":1,\"4068\":1,\"4069\":1,\"4070\":1,\"4071\":1,\"4072\":1,\"4073\":1,\"4074\":1,\"4075\":1,\"4076\":1,\"4077\":1,\"4078\":1,\"4079\":1,\"4080\":1,\"4081\":2,\"4082\":4,\"4083\":1,\"4084\":1,\"4085\":2,\"4086\":1,\"4087\":6,\"4088\":1,\"4089\":1,\"4090\":1,\"4091\":1,\"4092\":1,\"4093\":1,\"4094\":1,\"4095\":1,\"4096\":1,\"4097\":1,\"4098\":2,\"4099\":1,\"4100\":1,\"4101\":1,\"4102\":2,\"4103\":1,\"4104\":1,\"4105\":2,\"4106\":1,\"4107\":2,\"4108\":1,\"4109\":4,\"4110\":4,\"4111\":1,\"4112\":1,\"4113\":2,\"4114\":1,\"4115\":1,\"4116\":1,\"4117\":1,\"4118\":2,\"4119\":2,\"4120\":1,\"4121\":2,\"4122\":2,\"4123\":1,\"4124\":1,\"4125\":1,\"4126\":1,\"4127\":1,\"4128\":1,\"4129\":2,\"4130\":6,\"4131\":1,\"4132\":1,\"4133\":1,\"4134\":1,\"4135\":1,\"4136\":1,\"4137\":2,\"4138\":1,\"4139\":1,\"4140\":1,\"4141\":1,\"4142\":1,\"4143\":1,\"4144\":1,\"4145\":1,\"4146\":2,\"4147\":3,\"4148\":1,\"4149\":1,\"4150\":1,\"4151\":1,\"4152\":1,\"4153\":1,\"4154\":1,\"4155\":2,\"4156\":1,\"4157\":1,\"4158\":1,\"4159\":1,\"4160\":1,\"4161\":1,\"4162\":1,\"4163\":1,\"4164\":1,\"4165\":1,\"4166\":2,\"4167\":6,\"4168\":1,\"4169\":5,\"4170\":2,\"4171\":1,\"4172\":2,\"4173\":1,\"4174\":1,\"4175\":1,\"4176\":6,\"4177\":1,\"4178\":1,\"4179\":1,\"4180\":2,\"4181\":1,\"4182\":5,\"4183\":1,\"4184\":1,\"4185\":1,\"4186\":1,\"4187\":1,\"4188\":1,\"4189\":1,\"4190\":5,\"4191\":1,\"4192\":1,\"4193\":1,\"4194\":1,\"4195\":6,\"4196\":1,\"4197\":1,\"4198\":1,\"4199\":1,\"4200\":1,\"4201\":4,\"4202\":1,\"4203\":1,\"4204\":2,\"4205\":1,\"4206\":1,\"4207\":2,\"4208\":1,\"4209\":1,\"4210\":1,\"4211\":3,\"4212\":1,\"4213\":1,\"4214\":2,\"4215\":1,\"4216\":6,\"4217\":1,\"4218\":1,\"4219\":1,\"4220\":1,\"4221\":2,\"4222\":1,\"4223\":2,\"4224\":1,\"4225\":1,\"4226\":3,\"4227\":2,\"4228\":1,\"4229\":1,\"4230\":1,\"4231\":1,\"4232\":1,\"4233\":2,\"4234\":1,\"4235\":1,\"4236\":1,\"4237\":1,\"4238\":6,\"4239\":1,\"4240\":1,\"4241\":1,\"4242\":1,\"4243\":2,\"4244\":1,\"4245\":1,\"4246\":1,\"4247\":4,\"4248\":1,\"4249\":1,\"4250\":1,\"4251\":1,\"4252\":1,\"4253\":1,\"4254\":1,\"4255\":1,\"4256\":3,\"4257\":1,\"4258\":1,\"4259\":3,\"4260\":1,\"4261\":1,\"4262\":1,\"4263\":1,\"4264\":1,\"4265\":1,\"4266\":1,\"4267\":1,\"4268\":1,\"4269\":1,\"4270\":1,\"4271\":5,\"4272\":1,\"4273\":1,\"4274\":1,\"4275\":1,\"4276\":3,\"4277\":1,\"4278\":1,\"4279\":4,\"4280\":1,\"4281\":1,\"4282\":1,\"4283\":1,\"4284\":1,\"4285\":1,\"4286\":3,\"4287\":1,\"4288\":1,\"4289\":1,\"4290\":1,\"4291\":1,\"4292\":1,\"4293\":1,\"4294\":1,\"4295\":2,\"4296\":1,\"4297\":1,\"4298\":1,\"4299\":1,\"4300\":1,\"4301\":2,\"4302\":1,\"4303\":1,\"4304\":1,\"4305\":1,\"4306\":1,\"4307\":1,\"4308\":3,\"4309\":1,\"4310\":1,\"4311\":1,\"4312\":1,\"4313\":5,\"4314\":5,\"4315\":6,\"4316\":1,\"4317\":1,\"4318\":5,\"4319\":1,\"4320\":1,\"4321\":2,\"4322\":1,\"4323\":1,\"4324\":1,\"4325\":1,\"4326\":1,\"4327\":1,\"4328\":1,\"4329\":1,\"4330\":1,\"4331\":1,\"4332\":1,\"4333\":3,\"4334\":1,\"4335\":1,\"4336\":2,\"4337\":2,\"4338\":1,\"4339\":1,\"4340\":1,\"4341\":4,\"4342\":2,\"4343\":2,\"4344\":2,\"4345\":5,\"4346\":1,\"4347\":4,\"4348\":2,\"4349\":2,\"4350\":1,\"4351\":2,\"4352\":1,\"4353\":3,\"4354\":2,\"4355\":1,\"4356\":1,\"4357\":1,\"4358\":1,\"4359\":1,\"4360\":1,\"4361\":5,\"4362\":1,\"4363\":1,\"4364\":4,\"4365\":6,\"4366\":1,\"4367\":1,\"4368\":2,\"4369\":2,\"4370\":1,\"4371\":3,\"4372\":1,\"4373\":1,\"4374\":2,\"4375\":1,\"4376\":3,\"4377\":1,\"4378\":1,\"4379\":1,\"4380\":1,\"4381\":1,\"4382\":1,\"4383\":1,\"4384\":1,\"4385\":1,\"4386\":3,\"4387\":1,\"4388\":1,\"4389\":5,\"4390\":1,\"4391\":1,\"4392\":1,\"4393\":1,\"4394\":1,\"4395\":3,\"4396\":1,\"4397\":1,\"4398\":1,\"4399\":1,\"4400\":1,\"4401\":6,\"4402\":1,\"4403\":5,\"4404\":1,\"4405\":1,\"4406\":1,\"4407\":1,\"4408\":1,\"4409\":2,\"4410\":1,\"4411\":1,\"4412\":1,\"4413\":3,\"4414\":1,\"4415\":1,\"4416\":1,\"4417\":1,\"4418\":1,\"4419\":1,\"4420\":1,\"4421\":1,\"4422\":1,\"4423\":2,\"4424\":2,\"4425\":1,\"4426\":1,\"4427\":1,\"4428\":1,\"4429\":1,\"4430\":4,\"4431\":1,\"4432\":1,\"4433\":1,\"4434\":2,\"4435\":1,\"4436\":2,\"4437\":1,\"4438\":1,\"4439\":1,\"4440\":6,\"4441\":1,\"4442\":1,\"4443\":1,\"4444\":1,\"4445\":2,\"4446\":1,\"4447\":1,\"4448\":1,\"4449\":2,\"4450\":1,\"4451\":1,\"4452\":2,\"4453\":1,\"4454\":1,\"4455\":5,\"4456\":3,\"4457\":1,\"4458\":2,\"4459\":5,\"4460\":1,\"4461\":2,\"4462\":1,\"4463\":1,\"4464\":1,\"4465\":1,\"4466\":1,\"4467\":1,\"4468\":1,\"4469\":1,\"4470\":1,\"4471\":1,\"4472\":1,\"4473\":1,\"4474\":1,\"4475\":1,\"4476\":2,\"4477\":1,\"4478\":1,\"4479\":1,\"4480\":3,\"4481\":1,\"4482\":4,\"4483\":1,\"4484\":6,\"4485\":1,\"4486\":1,\"4487\":6,\"4488\":2,\"4489\":1,\"4490\":2,\"4491\":1,\"4492\":2,\"4493\":1,\"4494\":1,\"4495\":1,\"4496\":1,\"4497\":2,\"4498\":5,\"4499\":1,\"4500\":1,\"4501\":1,\"4502\":1,\"4503\":2,\"4504\":1,\"4505\":1,\"4506\":2,\"4507\":1,\"4508\":1,\"4509\":1,\"4510\":1,\"4511\":1,\"4512\":1,\"4513\":5,\"4514\":1,\"4515\":1,\"4516\":1,\"4517\":1,\"4518\":4,\"4519\":1,\"4520\":1,\"4521\":1,\"4522\":1,\"4523\":1,\"4524\":1,\"4525\":1,\"4526\":1,\"4527\":2,\"4528\":6,\"4529\":1,\"4530\":6,\"4531\":4,\"4532\":2,\"4533\":1,\"4534\":1,\"4535\":1,\"4536\":3,\"4537\":1,\"4538\":1,\"4539\":1,\"4540\":1,\"4541\":1,\"4542\":2,\"4543\":3,\"4544\":1,\"4545\":1,\"4546\":2,\"4547\":2,\"4548\":1,\"4549\":1,\"4550\":5,\"4551\":6,\"4552\":1,\"4553\":1,\"4554\":1,\"4555\":1,\"4556\":1,\"4557\":1,\"4558\":5,\"4559\":1,\"4560\":1,\"4561\":2,\"4562\":1,\"4563\":1,\"4564\":1,\"4565\":2,\"4566\":1,\"4567\":1,\"4568\":1,\"4569\":2,\"4570\":1,\"4571\":1,\"4572\":1,\"4573\":5,\"4574\":1,\"4575\":1,\"4576\":1,\"4577\":1,\"4578\":1,\"4579\":1,\"4580\":1,\"4581\":1,\"4582\":5,\"4583\":1,\"4584\":1,\"4585\":1,\"4586\":1,\"4587\":1,\"4588\":1,\"4589\":1,\"4590\":1,\"4591\":1,\"4592\":1,\"4593\":2,\"4594\":1,\"4595\":2,\"4596\":1,\"4597\":1,\"4598\":1,\"4599\":1,\"4600\":1,\"4601\":1,\"4602\":5,\"4603\":2,\"4604\":2,\"4605\":2,\"4606\":5,\"4607\":1,\"4608\":1,\"4609\":1,\"4610\":1,\"4611\":1,\"4612\":2,\"4613\":2,\"4614\":1,\"4615\":1,\"4616\":1,\"4617\":1,\"4618\":6,\"4619\":5,\"4620\":1,\"4621\":1,\"4622\":4,\"4623\":1,\"4624\":2,\"4625\":1,\"4626\":6,\"4627\":1,\"4628\":1,\"4629\":3,\"4630\":1,\"4631\":1,\"4632\":1,\"4633\":1,\"4634\":5,\"4635\":1,\"4636\":1,\"4637\":1,\"4638\":1,\"4639\":4,\"4640\":1,\"4641\":2,\"4642\":1,\"4643\":1,\"4644\":3,\"4645\":1,\"4646\":1,\"4647\":2,\"4648\":1,\"4649\":1,\"4650\":1,\"4651\":1,\"4652\":1,\"4653\":1,\"4654\":1,\"4655\":1,\"4656\":1,\"4657\":1,\"4658\":1,\"4659\":1,\"4660\":3,\"4661\":1,\"4662\":1,\"4663\":3,\"4664\":1,\"4665\":1,\"4666\":2,\"4667\":1,\"4668\":1,\"4669\":1,\"4670\":1,\"4671\":3,\"4672\":1,\"4673\":1,\"4674\":1,\"4675\":1,\"4676\":1,\"4677\":1,\"4678\":1,\"4679\":2,\"4680\":1,\"4681\":1,\"4682\":1,\"4683\":1,\"4684\":1,\"4685\":1,\"4686\":1,\"4687\":1,\"4688\":1,\"4689\":1,\"4690\":1,\"4691\":1,\"4692\":1,\"4693\":1,\"4694\":1,\"4695\":1,\"4696\":1,\"4697\":1,\"4698\":1,\"4699\":1,\"4700\":1,\"4701\":3,\"4702\":1,\"4703\":1,\"4704\":1,\"4705\":1,\"4706\":1,\"4707\":3,\"4708\":1,\"4709\":1,\"4710\":1,\"4711\":2,\"4712\":1,\"4713\":1,\"4714\":5,\"4715\":1,\"4716\":6,\"4717\":2,\"4718\":1,\"4719\":1,\"4720\":3,\"4721\":1,\"4722\":1,\"4723\":1,\"4724\":1,\"4725\":1,\"4726\":1,\"4727\":4,\"4728\":4,\"4729\":3,\"4730\":1,\"4731\":1,\"4732\":1,\"4733\":1,\"4734\":1,\"4735\":1,\"4736\":1,\"4737\":5,\"4738\":1,\"4739\":1,\"4740\":2,\"4741\":1,\"4742\":1,\"4743\":1,\"4744\":1,\"4745\":1,\"4746\":2,\"4747\":2,\"4748\":2,\"4749\":5,\"4750\":1,\"4751\":1,\"4752\":2,\"4753\":1,\"4754\":1,\"4755\":1,\"4756\":2,\"4757\":1,\"4758\":2,\"4759\":5,\"4760\":4,\"4761\":1,\"4762\":3,\"4763\":1,\"4764\":1,\"4765\":4,\"4766\":2,\"4767\":1,\"4768\":1,\"4769\":1,\"4770\":1,\"4771\":1,\"4772\":5,\"4773\":1,\"4774\":1,\"4775\":1,\"4776\":1,\"4777\":1,\"4778\":3,\"4779\":1,\"4780\":1,\"4781\":1,\"4782\":1,\"4783\":2,\"4784\":2,\"4785\":2,\"4786\":1,\"4787\":4,\"4788\":1,\"4789\":3,\"4790\":4,\"4791\":1,\"4792\":1,\"4793\":1,\"4794\":1,\"4795\":1,\"4796\":1,\"4797\":2,\"4798\":1,\"4799\":1,\"4800\":1,\"4801\":2,\"4802\":1,\"4803\":1,\"4804\":5,\"4805\":2,\"4806\":2,\"4807\":1,\"4808\":1,\"4809\":1,\"4810\":1,\"4811\":1,\"4812\":1,\"4813\":1,\"4814\":1,\"4815\":1,\"4816\":1,\"4817\":2,\"4818\":4,\"4819\":1,\"4820\":1,\"4821\":6,\"4822\":1,\"4823\":1,\"4824\":1,\"4825\":4,\"4826\":1,\"4827\":1,\"4828\":1,\"4829\":1,\"4830\":2,\"4831\":1,\"4832\":1,\"4833\":1,\"4834\":2,\"4835\":1,\"4836\":1,\"4837\":1,\"4838\":6,\"4839\":1,\"4840\":1,\"4841\":5,\"4842\":1,\"4843\":1,\"4844\":1,\"4845\":1,\"4846\":1,\"4847\":2,\"4848\":1,\"4849\":1,\"4850\":1,\"4851\":1,\"4852\":4,\"4853\":2,\"4854\":3,\"4855\":1,\"4856\":1,\"4857\":1,\"4858\":1,\"4859\":1,\"4860\":1,\"4861\":1,\"4862\":1,\"4863\":1,\"4864\":1,\"4865\":1,\"4866\":2,\"4867\":1,\"4868\":1,\"4869\":1,\"4870\":1,\"4871\":1,\"4872\":1,\"4873\":1,\"4874\":5,\"4875\":2,\"4876\":1,\"4877\":1,\"4878\":1,\"4879\":2,\"4880\":1,\"4881\":5,\"4882\":1,\"4883\":1,\"4884\":1,\"4885\":5,\"4886\":2,\"4887\":3,\"4888\":1,\"4889\":6,\"4890\":2,\"4891\":1,\"4892\":1,\"4893\":1,\"4894\":5,\"4895\":1,\"4896\":1,\"4897\":1,\"4898\":2,\"4899\":1,\"4900\":1,\"4901\":1,\"4902\":1,\"4903\":1,\"4904\":1,\"4905\":1,\"4906\":1,\"4907\":1,\"4908\":2,\"4909\":5,\"4910\":1,\"4911\":1,\"4912\":1,\"4913\":1,\"4914\":1,\"4915\":5,\"4916\":2,\"4917\":1,\"4918\":2,\"4919\":1,\"4920\":1,\"4921\":1,\"4922\":1,\"4923\":1,\"4924\":5,\"4925\":1,\"4926\":1,\"4927\":1,\"4928\":1,\"4929\":6,\"4930\":1,\"4931\":1,\"4932\":1,\"4933\":1,\"4934\":1,\"4935\":1,\"4936\":1,\"4937\":3,\"4938\":1,\"4939\":1,\"4940\":1,\"4941\":2,\"4942\":1,\"4943\":1,\"4944\":1,\"4945\":1,\"4946\":1,\"4947\":1,\"4948\":1,\"4949\":5,\"4950\":1,\"4951\":1,\"4952\":1,\"4953\":1,\"4954\":3,\"4955\":1,\"4956\":1,\"4957\":1,\"4958\":1,\"4959\":1,\"4960\":1,\"4961\":1,\"4962\":1,\"4963\":1,\"4964\":1,\"4965\":1,\"4966\":6,\"4967\":1,\"4968\":1,\"4969\":5,\"4970\":1,\"4971\":1,\"4972\":1,\"4973\":2,\"4974\":1,\"4975\":1,\"4976\":1,\"4977\":5,\"4978\":1,\"4979\":4,\"4980\":3,\"4981\":2,\"4982\":1,\"4983\":1,\"4984\":1,\"4985\":4,\"4986\":1,\"4987\":1,\"4988\":5,\"4989\":1,\"4990\":1,\"4991\":1,\"4992\":1,\"4993\":1,\"4994\":2,\"4995\":2,\"4996\":1,\"4997\":2,\"4998\":1,\"4999\":2,\"5000\":1,\"5001\":1,\"5002\":1,\"5003\":1,\"5004\":5,\"5005\":1,\"5006\":2,\"5007\":1,\"5008\":1,\"5009\":3,\"5010\":1,\"5011\":1,\"5012\":1,\"5013\":1,\"5014\":1,\"5015\":1,\"5016\":1,\"5017\":1,\"5018\":1,\"5019\":2,\"5020\":1,\"5021\":3,\"5022\":3,\"5023\":6,\"5024\":1,\"5025\":2,\"5026\":5,\"5027\":2,\"5028\":4,\"5029\":1,\"5030\":1,\"5031\":1,\"5032\":1,\"5033\":1,\"5034\":1,\"5035\":1,\"5036\":1,\"5037\":1,\"5038\":1,\"5039\":1,\"5040\":1,\"5041\":1,\"5042\":1,\"5043\":2,\"5044\":1,\"5045\":1,\"5046\":1,\"5047\":1,\"5048\":1,\"5049\":1,\"5050\":5,\"5051\":1,\"5052\":5,\"5053\":1,\"5054\":1,\"5055\":1,\"5056\":1,\"5057\":1,\"5058\":2,\"5059\":1,\"5060\":1,\"5061\":1,\"5062\":1,\"5063\":1,\"5064\":1,\"5065\":1,\"5066\":2,\"5067\":1,\"5068\":2,\"5069\":1,\"5070\":2,\"5071\":5,\"5072\":3,\"5073\":2,\"5074\":2,\"5075\":1,\"5076\":1,\"5077\":1,\"5078\":1,\"5079\":2,\"5080\":1,\"5081\":2,\"5082\":1,\"5083\":1,\"5084\":3,\"5085\":1,\"5086\":5,\"5087\":5,\"5088\":1,\"5089\":1,\"5090\":1,\"5091\":2,\"5092\":1,\"5093\":2,\"5094\":1,\"5095\":1,\"5096\":2,\"5097\":0,\"5098\":6,\"5099\":1,\"5100\":5,\"5101\":2,\"5102\":1,\"5103\":1,\"5104\":1,\"5105\":1,\"5106\":6,\"5107\":1,\"5108\":3,\"5109\":1,\"5110\":1,\"5111\":5,\"5112\":3,\"5113\":1,\"5114\":1,\"5115\":2,\"5116\":1,\"5117\":1,\"5118\":1,\"5119\":1,\"5120\":1,\"5121\":6,\"5122\":1,\"5123\":1,\"5124\":1,\"5125\":2,\"5126\":3,\"5127\":1,\"5128\":2,\"5129\":1,\"5130\":5,\"5131\":5,\"5132\":1,\"5133\":1,\"5134\":1,\"5135\":1,\"5136\":1,\"5137\":1,\"5138\":2,\"5139\":1,\"5140\":1,\"5141\":1,\"5142\":2,\"5143\":1,\"5144\":2,\"5145\":2,\"5146\":1,\"5147\":2,\"5148\":1,\"5149\":1,\"5150\":2,\"5151\":1,\"5152\":3,\"5153\":1,\"5154\":1,\"5155\":1,\"5156\":3,\"5157\":1,\"5158\":1,\"5159\":3,\"5160\":1,\"5161\":1,\"5162\":1,\"5163\":5,\"5164\":1,\"5165\":1,\"5166\":1,\"5167\":1,\"5168\":2,\"5169\":1,\"5170\":2,\"5171\":1,\"5172\":4,\"5173\":1,\"5174\":6,\"5175\":1,\"5176\":2,\"5177\":3,\"5178\":1,\"5179\":1,\"5180\":6,\"5181\":1,\"5182\":1,\"5183\":1,\"5184\":1,\"5185\":1,\"5186\":2,\"5187\":1,\"5188\":2,\"5189\":3,\"5190\":1,\"5191\":1,\"5192\":1,\"5193\":1,\"5194\":1,\"5195\":1,\"5196\":1,\"5197\":6,\"5198\":1,\"5199\":2,\"5200\":1,\"5201\":1,\"5202\":1,\"5203\":3,\"5204\":1,\"5205\":1,\"5206\":1,\"5207\":1,\"5208\":1,\"5209\":1,\"5210\":1,\"5211\":6,\"5212\":2,\"5213\":1,\"5214\":1,\"5215\":1,\"5216\":1,\"5217\":1,\"5218\":1,\"5219\":1,\"5220\":1,\"5221\":6,\"5222\":1,\"5223\":1,\"5224\":1,\"5225\":1,\"5226\":1,\"5227\":1,\"5228\":1,\"5229\":1,\"5230\":1,\"5231\":1,\"5232\":1,\"5233\":1,\"5234\":1,\"5235\":1,\"5236\":1,\"5237\":1,\"5238\":1,\"5239\":1,\"5240\":3,\"5241\":6,\"5242\":1,\"5243\":1,\"5244\":1,\"5245\":1,\"5246\":1,\"5247\":1,\"5248\":1,\"5249\":2,\"5250\":1,\"5251\":1,\"5252\":1,\"5253\":2,\"5254\":1,\"5255\":1,\"5256\":1,\"5257\":1,\"5258\":1,\"5259\":1,\"5260\":3,\"5261\":1,\"5262\":1,\"5263\":5,\"5264\":1,\"5265\":1,\"5266\":5,\"5267\":1,\"5268\":2,\"5269\":1,\"5270\":2,\"5271\":3,\"5272\":1,\"5273\":5,\"5274\":5,\"5275\":1,\"5276\":1,\"5277\":1,\"5278\":2,\"5279\":3,\"5280\":5,\"5281\":1,\"5282\":1,\"5283\":4,\"5284\":1,\"5285\":1,\"5286\":1,\"5287\":1,\"5288\":1,\"5289\":1,\"5290\":1,\"5291\":2,\"5292\":1,\"5293\":3,\"5294\":1,\"5295\":5,\"5296\":1,\"5297\":1,\"5298\":1,\"5299\":2,\"5300\":3,\"5301\":3,\"5302\":2,\"5303\":1,\"5304\":1,\"5305\":1,\"5306\":1,\"5307\":1,\"5308\":1,\"5309\":1,\"5310\":1,\"5311\":3,\"5312\":2,\"5313\":1,\"5314\":6,\"5315\":1,\"5316\":1,\"5317\":1,\"5318\":1,\"5319\":1,\"5320\":5,\"5321\":1,\"5322\":1,\"5323\":2,\"5324\":1,\"5325\":2,\"5326\":1,\"5327\":2,\"5328\":1,\"5329\":1,\"5330\":1,\"5331\":2,\"5332\":3,\"5333\":2,\"5334\":2,\"5335\":1,\"5336\":3,\"5337\":2,\"5338\":1,\"5339\":2,\"5340\":1,\"5341\":2,\"5342\":1,\"5343\":1,\"5344\":3,\"5345\":5,\"5346\":2,\"5347\":2,\"5348\":1,\"5349\":1,\"5350\":2,\"5351\":1,\"5352\":1,\"5353\":1,\"5354\":2,\"5355\":6,\"5356\":1,\"5357\":2,\"5358\":1,\"5359\":2,\"5360\":1,\"5361\":1,\"5362\":1,\"5363\":1,\"5364\":1,\"5365\":1,\"5366\":1,\"5367\":1,\"5368\":1,\"5369\":2,\"5370\":2,\"5371\":1,\"5372\":1,\"5373\":1,\"5374\":5,\"5375\":2,\"5376\":1,\"5377\":5,\"5378\":5,\"5379\":1,\"5380\":2,\"5381\":1,\"5382\":5,\"5383\":1,\"5384\":1,\"5385\":1,\"5386\":2,\"5387\":1,\"5388\":2,\"5389\":2,\"5390\":1,\"5391\":1,\"5392\":2,\"5393\":1,\"5394\":1,\"5395\":1,\"5396\":2,\"5397\":1,\"5398\":1,\"5399\":2,\"5400\":1,\"5401\":2,\"5402\":1,\"5403\":1,\"5404\":1,\"5405\":1,\"5406\":1,\"5407\":1,\"5408\":1,\"5409\":1,\"5410\":1,\"5411\":2,\"5412\":1,\"5413\":1,\"5414\":1,\"5415\":2,\"5416\":1,\"5417\":1,\"5418\":5,\"5419\":1,\"5420\":1,\"5421\":1,\"5422\":1,\"5423\":1,\"5424\":2,\"5425\":1,\"5426\":6,\"5427\":1,\"5428\":1,\"5429\":1,\"5430\":1,\"5431\":1,\"5432\":1,\"5433\":1,\"5434\":1,\"5435\":2,\"5436\":1,\"5437\":5,\"5438\":1,\"5439\":1,\"5440\":2,\"5441\":1,\"5442\":5,\"5443\":1,\"5444\":3,\"5445\":1,\"5446\":1,\"5447\":2,\"5448\":1,\"5449\":5,\"5450\":1,\"5451\":1,\"5452\":1,\"5453\":2,\"5454\":1,\"5455\":1,\"5456\":1,\"5457\":1,\"5458\":2,\"5459\":6,\"5460\":1,\"5461\":3,\"5462\":1,\"5463\":2,\"5464\":1,\"5465\":5,\"5466\":1,\"5467\":1,\"5468\":1,\"5469\":1,\"5470\":1,\"5471\":1,\"5472\":2,\"5473\":1,\"5474\":2,\"5475\":1,\"5476\":5,\"5477\":1,\"5478\":1,\"5479\":1,\"5480\":1,\"5481\":1,\"5482\":1,\"5483\":1,\"5484\":2,\"5485\":1,\"5486\":1,\"5487\":1,\"5488\":1,\"5489\":4,\"5490\":1,\"5491\":1,\"5492\":1,\"5493\":3,\"5494\":1,\"5495\":5,\"5496\":1,\"5497\":1,\"5498\":1,\"5499\":5,\"5500\":3,\"5501\":1,\"5502\":3,\"5503\":1,\"5504\":1,\"5505\":1,\"5506\":1,\"5507\":2,\"5508\":2,\"5509\":1,\"5510\":1,\"5511\":1,\"5512\":1,\"5513\":1,\"5514\":2,\"5515\":1,\"5516\":2,\"5517\":1,\"5518\":1,\"5519\":4,\"5520\":1,\"5521\":1,\"5522\":6,\"5523\":1,\"5524\":1,\"5525\":3,\"5526\":1,\"5527\":3,\"5528\":1,\"5529\":1,\"5530\":1,\"5531\":1,\"5532\":1,\"5533\":1,\"5534\":1,\"5535\":1,\"5536\":6,\"5537\":1,\"5538\":1,\"5539\":2,\"5540\":1,\"5541\":1,\"5542\":1,\"5543\":1,\"5544\":2,\"5545\":1,\"5546\":1,\"5547\":2,\"5548\":1,\"5549\":2,\"5550\":1,\"5551\":1,\"5552\":1,\"5553\":1,\"5554\":1,\"5555\":1,\"5556\":1,\"5557\":1,\"5558\":1,\"5559\":1,\"5560\":1,\"5561\":1,\"5562\":1,\"5563\":1,\"5564\":1,\"5565\":1,\"5566\":1,\"5567\":1,\"5568\":1,\"5569\":1,\"5570\":1,\"5571\":1,\"5572\":1,\"5573\":1,\"5574\":6,\"5575\":2,\"5576\":1,\"5577\":6,\"5578\":1,\"5579\":1,\"5580\":1,\"5581\":1,\"5582\":1,\"5583\":2,\"5584\":1,\"5585\":2,\"5586\":1,\"5587\":1,\"5588\":2,\"5589\":2,\"5590\":1,\"5591\":1,\"5592\":1,\"5593\":1,\"5594\":1,\"5595\":2,\"5596\":1,\"5597\":1,\"5598\":3,\"5599\":1,\"5600\":2,\"5601\":5,\"5602\":1,\"5603\":1,\"5604\":1,\"5605\":1,\"5606\":2,\"5607\":1,\"5608\":1,\"5609\":1,\"5610\":2,\"5611\":1,\"5612\":1,\"5613\":2,\"5614\":1,\"5615\":1,\"5616\":1,\"5617\":6,\"5618\":1,\"5619\":6,\"5620\":2,\"5621\":1,\"5622\":6,\"5623\":3,\"5624\":1,\"5625\":1,\"5626\":1,\"5627\":2,\"5628\":1,\"5629\":2,\"5630\":1,\"5631\":1,\"5632\":1,\"5633\":4,\"5634\":2,\"5635\":1,\"5636\":1,\"5637\":1,\"5638\":1,\"5639\":1,\"5640\":5,\"5641\":2,\"5642\":1,\"5643\":1,\"5644\":2,\"5645\":5,\"5646\":1,\"5647\":1,\"5648\":1,\"5649\":1,\"5650\":5,\"5651\":1,\"5652\":1,\"5653\":1,\"5654\":1,\"5655\":1,\"5656\":1,\"5657\":1,\"5658\":1,\"5659\":2,\"5660\":1,\"5661\":1,\"5662\":1,\"5663\":2,\"5664\":1,\"5665\":2,\"5666\":1,\"5667\":1,\"5668\":1,\"5669\":1,\"5670\":1,\"5671\":2,\"5672\":2,\"5673\":2,\"5674\":1,\"5675\":1,\"5676\":1,\"5677\":4,\"5678\":1,\"5679\":1,\"5680\":1,\"5681\":3,\"5682\":1,\"5683\":2,\"5684\":5,\"5685\":1,\"5686\":1,\"5687\":5,\"5688\":1,\"5689\":1,\"5690\":2,\"5691\":1,\"5692\":1,\"5693\":1,\"5694\":1,\"5695\":4,\"5696\":1,\"5697\":1,\"5698\":2,\"5699\":1,\"5700\":1,\"5701\":2,\"5702\":5,\"5703\":1,\"5704\":1,\"5705\":5,\"5706\":6,\"5707\":5,\"5708\":5,\"5709\":3,\"5710\":1,\"5711\":1,\"5712\":6,\"5713\":5,\"5714\":6,\"5715\":6,\"5716\":1,\"5717\":1,\"5718\":1,\"5719\":1,\"5720\":1,\"5721\":1,\"5722\":1,\"5723\":1,\"5724\":1,\"5725\":1,\"5726\":1,\"5727\":1,\"5728\":1,\"5729\":1,\"5730\":1,\"5731\":1,\"5732\":2,\"5733\":1,\"5734\":5,\"5735\":1,\"5736\":1,\"5737\":1,\"5738\":1,\"5739\":1,\"5740\":1,\"5741\":1,\"5742\":1,\"5743\":2,\"5744\":2,\"5745\":6,\"5746\":5,\"5747\":1,\"5748\":1,\"5749\":1,\"5750\":1,\"5751\":1,\"5752\":1,\"5753\":1,\"5754\":1,\"5755\":2,\"5756\":1,\"5757\":1,\"5758\":1,\"5759\":1,\"5760\":3,\"5761\":1,\"5762\":2,\"5763\":1,\"5764\":1,\"5765\":1,\"5766\":4,\"5767\":1,\"5768\":1,\"5769\":1,\"5770\":2,\"5771\":1,\"5772\":2,\"5773\":6,\"5774\":2,\"5775\":1,\"5776\":2,\"5777\":1,\"5778\":1,\"5779\":1,\"5780\":1,\"5781\":1,\"5782\":1,\"5783\":5,\"5784\":1,\"5785\":1,\"5786\":5,\"5787\":1,\"5788\":1,\"5789\":1,\"5790\":1,\"5791\":3,\"5792\":1,\"5793\":4,\"5794\":6,\"5795\":1,\"5796\":2,\"5797\":1,\"5798\":2,\"5799\":1,\"5800\":1,\"5801\":1,\"5802\":1,\"5803\":2,\"5804\":1,\"5805\":1,\"5806\":1,\"5807\":1,\"5808\":5,\"5809\":3,\"5810\":1,\"5811\":1,\"5812\":1,\"5813\":1,\"5814\":1,\"5815\":1,\"5816\":1,\"5817\":1,\"5818\":1,\"5819\":1,\"5820\":1,\"5821\":1,\"5822\":1,\"5823\":1,\"5824\":1,\"5825\":4,\"5826\":1,\"5827\":1,\"5828\":1,\"5829\":1,\"5830\":1,\"5831\":1,\"5832\":2,\"5833\":3,\"5834\":3,\"5835\":2,\"5836\":1,\"5837\":1,\"5838\":1,\"5839\":1,\"5840\":1,\"5841\":1,\"5842\":5,\"5843\":1,\"5844\":1,\"5845\":1,\"5846\":2,\"5847\":1,\"5848\":1,\"5849\":1,\"5850\":2,\"5851\":2,\"5852\":1,\"5853\":2,\"5854\":2,\"5855\":1,\"5856\":1,\"5857\":1,\"5858\":1,\"5859\":1,\"5860\":1,\"5861\":2,\"5862\":3,\"5863\":1,\"5864\":4,\"5865\":1,\"5866\":1,\"5867\":1,\"5868\":6,\"5869\":1,\"5870\":1,\"5871\":2,\"5872\":2,\"5873\":1,\"5874\":1,\"5875\":2,\"5876\":1,\"5877\":2,\"5878\":2,\"5879\":1,\"5880\":1,\"5881\":1,\"5882\":1,\"5883\":2,\"5884\":1,\"5885\":1,\"5886\":1,\"5887\":2,\"5888\":4,\"5889\":1,\"5890\":1,\"5891\":1,\"5892\":1,\"5893\":1,\"5894\":2,\"5895\":1,\"5896\":1,\"5897\":5,\"5898\":2,\"5899\":2,\"5900\":1,\"5901\":6,\"5902\":1,\"5903\":1,\"5904\":1,\"5905\":1,\"5906\":2,\"5907\":2,\"5908\":1,\"5909\":1,\"5910\":2,\"5911\":1,\"5912\":1,\"5913\":1,\"5914\":1,\"5915\":5,\"5916\":1,\"5917\":1,\"5918\":1,\"5919\":1,\"5920\":5,\"5921\":1,\"5922\":1,\"5923\":4,\"5924\":5,\"5925\":1,\"5926\":1,\"5927\":1,\"5928\":2,\"5929\":1,\"5930\":1,\"5931\":2,\"5932\":1,\"5933\":1,\"5934\":1,\"5935\":6,\"5936\":5,\"5937\":1,\"5938\":1,\"5939\":1,\"5940\":1,\"5941\":4,\"5942\":1,\"5943\":2,\"5944\":1,\"5945\":1,\"5946\":1,\"5947\":1,\"5948\":3,\"5949\":2,\"5950\":3,\"5951\":1,\"5952\":4,\"5953\":1,\"5954\":1,\"5955\":1,\"5956\":1,\"5957\":3,\"5958\":2,\"5959\":3,\"5960\":1,\"5961\":2,\"5962\":2,\"5963\":1,\"5964\":1,\"5965\":3,\"5966\":1,\"5967\":5,\"5968\":1,\"5969\":1,\"5970\":5,\"5971\":1,\"5972\":1,\"5973\":1,\"5974\":1,\"5975\":2,\"5976\":1,\"5977\":1,\"5978\":1,\"5979\":1,\"5980\":1,\"5981\":1,\"5982\":1,\"5983\":1,\"5984\":1,\"5985\":2,\"5986\":1,\"5987\":1,\"5988\":1,\"5989\":1,\"5990\":1,\"5991\":2,\"5992\":2,\"5993\":1,\"5994\":1,\"5995\":1,\"5996\":1,\"5997\":1,\"5998\":4,\"5999\":1,\"6000\":2,\"6001\":1,\"6002\":2,\"6003\":1,\"6004\":2,\"6005\":1,\"6006\":1,\"6007\":2,\"6008\":1,\"6009\":3,\"6010\":1,\"6011\":3,\"6012\":1,\"6013\":2,\"6014\":6,\"6015\":1,\"6016\":1,\"6017\":1,\"6018\":1,\"6019\":1,\"6020\":2,\"6021\":1,\"6022\":5,\"6023\":1,\"6024\":1,\"6025\":1,\"6026\":5,\"6027\":1,\"6028\":1,\"6029\":6,\"6030\":1,\"6031\":1,\"6032\":1,\"6033\":1,\"6034\":1,\"6035\":1,\"6036\":1,\"6037\":5,\"6038\":1,\"6039\":1,\"6040\":5,\"6041\":2,\"6042\":1,\"6043\":1,\"6044\":1,\"6045\":2,\"6046\":1,\"6047\":1,\"6048\":1,\"6049\":2,\"6050\":4,\"6051\":2,\"6052\":2,\"6053\":1,\"6054\":1,\"6055\":1,\"6056\":1,\"6057\":1,\"6058\":2,\"6059\":3,\"6060\":1,\"6061\":1,\"6062\":1,\"6063\":1,\"6064\":6,\"6065\":2,\"6066\":1,\"6067\":2,\"6068\":1,\"6069\":1,\"6070\":1,\"6071\":1,\"6072\":1,\"6073\":5,\"6074\":1,\"6075\":1,\"6076\":1,\"6077\":1,\"6078\":3,\"6079\":1,\"6080\":1,\"6081\":2,\"6082\":1,\"6083\":3,\"6084\":1,\"6085\":6,\"6086\":1,\"6087\":1,\"6088\":1,\"6089\":2,\"6090\":1,\"6091\":1,\"6092\":1,\"6093\":1,\"6094\":2,\"6095\":1,\"6096\":1,\"6097\":1,\"6098\":6,\"6099\":3,\"6100\":2,\"6101\":1,\"6102\":1,\"6103\":6,\"6104\":1,\"6105\":1,\"6106\":1,\"6107\":1,\"6108\":6,\"6109\":1,\"6110\":1,\"6111\":1,\"6112\":1,\"6113\":1,\"6114\":1,\"6115\":1,\"6116\":1,\"6117\":1,\"6118\":1,\"6119\":1,\"6120\":3,\"6121\":3,\"6122\":1,\"6123\":6,\"6124\":1,\"6125\":3,\"6126\":1,\"6127\":1,\"6128\":1,\"6129\":1,\"6130\":1,\"6131\":3,\"6132\":1,\"6133\":1,\"6134\":1,\"6135\":1,\"6136\":1,\"6137\":1,\"6138\":1,\"6139\":2,\"6140\":2,\"6141\":2,\"6142\":1,\"6143\":1,\"6144\":2,\"6145\":2,\"6146\":1,\"6147\":1,\"6148\":1,\"6149\":1,\"6150\":1,\"6151\":1,\"6152\":1,\"6153\":1,\"6154\":1,\"6155\":2,\"6156\":1,\"6157\":1,\"6158\":1,\"6159\":1,\"6160\":1,\"6161\":1,\"6162\":2,\"6163\":1,\"6164\":1,\"6165\":1,\"6166\":3,\"6167\":1,\"6168\":1,\"6169\":1,\"6170\":1,\"6171\":1,\"6172\":1,\"6173\":6,\"6174\":1,\"6175\":1,\"6176\":1,\"6177\":4,\"6178\":1,\"6179\":2,\"6180\":1,\"6181\":3,\"6182\":1,\"6183\":1,\"6184\":3,\"6185\":1,\"6186\":1,\"6187\":1,\"6188\":1,\"6189\":1,\"6190\":1,\"6191\":1,\"6192\":2,\"6193\":6,\"6194\":1,\"6195\":1,\"6196\":1,\"6197\":1,\"6198\":1,\"6199\":1,\"6200\":1,\"6201\":1,\"6202\":1,\"6203\":1,\"6204\":5,\"6205\":6,\"6206\":6,\"6207\":1,\"6208\":1,\"6209\":1,\"6210\":1,\"6211\":1,\"6212\":1,\"6213\":1,\"6214\":3,\"6215\":1,\"6216\":1,\"6217\":1,\"6218\":1,\"6219\":1,\"6220\":1,\"6221\":1,\"6222\":2,\"6223\":1,\"6224\":2,\"6225\":1,\"6226\":6,\"6227\":1,\"6228\":1,\"6229\":1,\"6230\":4,\"6231\":2,\"6232\":3,\"6233\":1,\"6234\":1,\"6235\":2,\"6236\":1,\"6237\":1,\"6238\":5,\"6239\":4,\"6240\":6,\"6241\":1,\"6242\":1,\"6243\":1,\"6244\":1,\"6245\":2,\"6246\":1,\"6247\":1,\"6248\":1,\"6249\":1,\"6250\":1,\"6251\":1,\"6252\":2,\"6253\":1,\"6254\":1,\"6255\":1,\"6256\":1,\"6257\":1,\"6258\":1,\"6259\":1,\"6260\":1,\"6261\":1,\"6262\":1,\"6263\":1,\"6264\":1,\"6265\":2,\"6266\":1,\"6267\":1,\"6268\":1,\"6269\":2,\"6270\":1,\"6271\":1,\"6272\":1,\"6273\":1,\"6274\":2,\"6275\":1,\"6276\":1,\"6277\":2,\"6278\":1,\"6279\":1,\"6280\":1,\"6281\":1,\"6282\":1,\"6283\":6,\"6284\":1,\"6285\":1,\"6286\":1,\"6287\":1,\"6288\":1,\"6289\":1,\"6290\":2,\"6291\":1,\"6292\":1,\"6293\":1,\"6294\":1,\"6295\":2,\"6296\":5,\"6297\":1,\"6298\":1,\"6299\":1,\"6300\":1,\"6301\":1,\"6302\":2,\"6303\":1,\"6304\":2,\"6305\":1,\"6306\":1,\"6307\":1,\"6308\":1,\"6309\":2,\"6310\":1,\"6311\":1,\"6312\":2,\"6313\":1,\"6314\":1,\"6315\":5,\"6316\":1,\"6317\":4,\"6318\":1,\"6319\":1,\"6320\":2,\"6321\":1,\"6322\":1,\"6323\":1,\"6324\":1,\"6325\":1,\"6326\":6,\"6327\":1,\"6328\":2,\"6329\":1,\"6330\":2,\"6331\":1,\"6332\":2,\"6333\":1,\"6334\":1,\"6335\":1,\"6336\":5,\"6337\":1,\"6338\":6,\"6339\":1,\"6340\":1,\"6341\":1,\"6342\":1,\"6343\":1,\"6344\":2,\"6345\":1,\"6346\":1,\"6347\":2,\"6348\":1,\"6349\":6,\"6350\":1,\"6351\":1,\"6352\":1,\"6353\":1,\"6354\":1,\"6355\":1,\"6356\":5,\"6357\":1,\"6358\":1,\"6359\":1,\"6360\":1,\"6361\":1,\"6362\":1,\"6363\":2,\"6364\":1,\"6365\":1,\"6366\":6,\"6367\":2,\"6368\":1,\"6369\":6,\"6370\":1,\"6371\":4,\"6372\":2,\"6373\":1,\"6374\":1,\"6375\":1,\"6376\":2,\"6377\":1,\"6378\":1,\"6379\":1,\"6380\":1,\"6381\":1,\"6382\":1,\"6383\":1,\"6384\":2,\"6385\":1,\"6386\":1,\"6387\":2,\"6388\":3,\"6389\":1,\"6390\":1,\"6391\":1,\"6392\":1,\"6393\":6,\"6394\":5,\"6395\":3,\"6396\":2,\"6397\":1,\"6398\":1,\"6399\":2,\"6400\":6,\"6401\":1,\"6402\":1,\"6403\":1,\"6404\":1,\"6405\":1,\"6406\":3,\"6407\":1,\"6408\":1,\"6409\":6,\"6410\":1,\"6411\":1,\"6412\":1,\"6413\":2,\"6414\":5,\"6415\":5,\"6416\":1,\"6417\":1,\"6418\":1,\"6419\":1,\"6420\":1,\"6421\":1,\"6422\":5,\"6423\":5,\"6424\":1,\"6425\":3,\"6426\":1,\"6427\":1,\"6428\":1,\"6429\":5,\"6430\":1,\"6431\":1,\"6432\":1,\"6433\":1,\"6434\":1,\"6435\":2,\"6436\":1,\"6437\":1,\"6438\":1,\"6439\":2,\"6440\":1,\"6441\":1,\"6442\":1,\"6443\":2,\"6444\":1,\"6445\":1,\"6446\":1,\"6447\":1,\"6448\":6,\"6449\":1,\"6450\":6,\"6451\":1,\"6452\":2,\"6453\":6,\"6454\":2,\"6455\":1,\"6456\":1,\"6457\":1,\"6458\":1,\"6459\":1,\"6460\":1,\"6461\":1,\"6462\":1,\"6463\":1,\"6464\":5,\"6465\":1,\"6466\":1,\"6467\":2,\"6468\":2,\"6469\":4,\"6470\":1,\"6471\":1,\"6472\":2,\"6473\":1,\"6474\":2,\"6475\":1,\"6476\":1,\"6477\":2,\"6478\":5,\"6479\":1,\"6480\":1,\"6481\":1,\"6482\":5,\"6483\":2,\"6484\":1,\"6485\":5,\"6486\":1,\"6487\":1,\"6488\":1,\"6489\":1,\"6490\":1,\"6491\":1,\"6492\":1,\"6493\":1,\"6494\":1,\"6495\":1,\"6496\":2,\"6497\":5,\"6498\":1,\"6499\":4,\"6500\":2,\"6501\":1,\"6502\":2,\"6503\":1,\"6504\":1,\"6505\":1,\"6506\":1,\"6507\":1,\"6508\":1,\"6509\":1,\"6510\":1,\"6511\":1,\"6512\":1,\"6513\":2,\"6514\":1,\"6515\":1,\"6516\":6,\"6517\":6,\"6518\":1,\"6519\":1,\"6520\":5,\"6521\":1,\"6522\":6,\"6523\":2,\"6524\":3,\"6525\":5,\"6526\":1,\"6527\":1,\"6528\":1,\"6529\":1,\"6530\":1,\"6531\":1,\"6532\":1,\"6533\":1,\"6534\":1,\"6535\":6,\"6536\":1,\"6537\":1,\"6538\":1,\"6539\":1,\"6540\":1,\"6541\":5,\"6542\":1,\"6543\":1,\"6544\":1,\"6545\":1,\"6546\":2,\"6547\":1,\"6548\":3,\"6549\":1,\"6550\":1,\"6551\":1,\"6552\":1,\"6553\":2,\"6554\":1,\"6555\":1,\"6556\":6,\"6557\":2,\"6558\":5,\"6559\":1,\"6560\":2,\"6561\":3,\"6562\":1,\"6563\":1,\"6564\":1,\"6565\":1,\"6566\":1,\"6567\":1,\"6568\":1,\"6569\":1,\"6570\":5,\"6571\":1,\"6572\":6,\"6573\":1,\"6574\":1,\"6575\":1,\"6576\":1,\"6577\":1,\"6578\":1,\"6579\":1,\"6580\":1,\"6581\":1,\"6582\":1,\"6583\":1,\"6584\":1,\"6585\":1,\"6586\":1,\"6587\":5,\"6588\":3,\"6589\":3,\"6590\":1,\"6591\":1,\"6592\":2,\"6593\":5,\"6594\":2,\"6595\":1,\"6596\":5,\"6597\":1,\"6598\":2,\"6599\":1,\"6600\":1,\"6601\":1,\"6602\":1,\"6603\":6,\"6604\":1,\"6605\":1,\"6606\":1,\"6607\":1,\"6608\":1,\"6609\":1,\"6610\":1,\"6611\":1,\"6612\":2,\"6613\":1,\"6614\":1,\"6615\":1,\"6616\":1,\"6617\":1,\"6618\":5,\"6619\":2,\"6620\":2,\"6621\":1,\"6622\":1,\"6623\":2,\"6624\":1,\"6625\":6,\"6626\":3,\"6627\":1,\"6628\":1,\"6629\":1,\"6630\":6,\"6631\":1,\"6632\":1,\"6633\":1,\"6634\":1,\"6635\":1,\"6636\":1,\"6637\":2,\"6638\":2,\"6639\":2,\"6640\":6,\"6641\":1,\"6642\":1,\"6643\":2,\"6644\":2,\"6645\":2,\"6646\":1,\"6647\":1,\"6648\":1,\"6649\":1,\"6650\":2,\"6651\":3,\"6652\":1,\"6653\":1,\"6654\":1,\"6655\":1,\"6656\":1,\"6657\":1,\"6658\":1,\"6659\":2,\"6660\":1,\"6661\":2,\"6662\":5,\"6663\":1,\"6664\":1,\"6665\":1,\"6666\":1,\"6667\":1,\"6668\":1,\"6669\":1,\"6670\":2,\"6671\":6,\"6672\":1,\"6673\":1,\"6674\":5,\"6675\":2,\"6676\":1,\"6677\":1,\"6678\":1,\"6679\":1,\"6680\":1,\"6681\":2,\"6682\":1,\"6683\":1,\"6684\":1,\"6685\":1,\"6686\":1,\"6687\":1,\"6688\":2,\"6689\":6,\"6690\":1,\"6691\":1,\"6692\":3,\"6693\":1,\"6694\":1,\"6695\":1,\"6696\":1,\"6697\":1,\"6698\":1,\"6699\":1,\"6700\":1,\"6701\":3,\"6702\":3,\"6703\":1,\"6704\":5,\"6705\":1,\"6706\":2,\"6707\":1,\"6708\":6,\"6709\":2,\"6710\":1,\"6711\":1,\"6712\":1,\"6713\":2,\"6714\":1,\"6715\":1,\"6716\":1,\"6717\":1,\"6718\":1,\"6719\":1,\"6720\":1,\"6721\":1,\"6722\":6,\"6723\":1,\"6724\":6,\"6725\":4,\"6726\":1,\"6727\":1,\"6728\":1,\"6729\":1,\"6730\":1,\"6731\":1,\"6732\":1,\"6733\":1,\"6734\":1,\"6735\":1,\"6736\":1,\"6737\":1,\"6738\":3,\"6739\":4,\"6740\":2,\"6741\":2,\"6742\":1,\"6743\":1,\"6744\":1,\"6745\":1,\"6746\":2,\"6747\":1,\"6748\":2,\"6749\":1,\"6750\":1,\"6751\":1,\"6752\":1,\"6753\":1,\"6754\":1,\"6755\":1,\"6756\":1,\"6757\":1,\"6758\":1,\"6759\":1,\"6760\":6,\"6761\":2,\"6762\":1,\"6763\":2,\"6764\":2,\"6765\":1,\"6766\":1,\"6767\":1,\"6768\":6,\"6769\":1,\"6770\":1,\"6771\":1,\"6772\":3,\"6773\":4,\"6774\":3,\"6775\":2,\"6776\":2,\"6777\":6,\"6778\":5,\"6779\":1,\"6780\":1,\"6781\":1,\"6782\":1,\"6783\":1,\"6784\":1,\"6785\":1,\"6786\":2,\"6787\":1,\"6788\":6,\"6789\":1,\"6790\":1,\"6791\":2,\"6792\":2,\"6793\":2,\"6794\":1,\"6795\":2,\"6796\":1,\"6797\":5,\"6798\":6,\"6799\":1,\"6800\":5,\"6801\":2,\"6802\":1,\"6803\":1,\"6804\":1,\"6805\":1,\"6806\":1,\"6807\":1,\"6808\":1,\"6809\":1,\"6810\":1,\"6811\":1,\"6812\":1,\"6813\":2,\"6814\":1,\"6815\":1,\"6816\":3,\"6817\":1,\"6818\":1,\"6819\":2,\"6820\":1,\"6821\":1,\"6822\":3,\"6823\":2,\"6824\":1,\"6825\":1,\"6826\":2,\"6827\":2,\"6828\":1,\"6829\":1,\"6830\":1,\"6831\":1,\"6832\":1,\"6833\":2,\"6834\":1,\"6835\":2,\"6836\":1,\"6837\":1,\"6838\":1,\"6839\":1,\"6840\":1,\"6841\":1,\"6842\":3,\"6843\":1,\"6844\":1,\"6845\":3,\"6846\":1,\"6847\":1,\"6848\":1,\"6849\":2,\"6850\":1,\"6851\":4,\"6852\":1,\"6853\":1,\"6854\":1,\"6855\":1,\"6856\":2,\"6857\":1,\"6858\":1,\"6859\":1,\"6860\":4,\"6861\":1,\"6862\":1,\"6863\":1,\"6864\":3,\"6865\":2,\"6866\":1,\"6867\":1,\"6868\":3,\"6869\":1,\"6870\":1,\"6871\":1,\"6872\":1,\"6873\":2,\"6874\":4,\"6875\":1,\"6876\":6,\"6877\":5,\"6878\":1,\"6879\":1,\"6880\":3,\"6881\":1,\"6882\":1,\"6883\":1,\"6884\":1,\"6885\":2,\"6886\":5,\"6887\":1,\"6888\":1,\"6889\":1,\"6890\":1,\"6891\":1,\"6892\":1,\"6893\":3,\"6894\":1,\"6895\":1,\"6896\":1,\"6897\":2,\"6898\":1,\"6899\":1,\"6900\":1,\"6901\":2,\"6902\":1,\"6903\":1,\"6904\":1,\"6905\":1,\"6906\":3,\"6907\":3,\"6908\":1,\"6909\":1,\"6910\":3,\"6911\":2,\"6912\":3,\"6913\":2,\"6914\":6,\"6915\":1,\"6916\":1,\"6917\":1,\"6918\":4,\"6919\":1,\"6920\":1,\"6921\":1,\"6922\":2,\"6923\":2,\"6924\":1,\"6925\":1,\"6926\":1,\"6927\":1,\"6928\":1,\"6929\":1,\"6930\":1,\"6931\":1,\"6932\":1,\"6933\":1,\"6934\":1,\"6935\":1,\"6936\":1,\"6937\":1,\"6938\":1,\"6939\":2,\"6940\":1,\"6941\":1,\"6942\":1,\"6943\":2,\"6944\":1,\"6945\":4,\"6946\":1,\"6947\":5,\"6948\":1,\"6949\":2,\"6950\":1,\"6951\":1,\"6952\":1,\"6953\":2,\"6954\":1,\"6955\":2,\"6956\":1,\"6957\":6,\"6958\":1,\"6959\":1,\"6960\":1,\"6961\":1,\"6962\":6,\"6963\":1,\"6964\":2,\"6965\":2,\"6966\":1,\"6967\":2,\"6968\":1,\"6969\":1,\"6970\":5,\"6971\":1,\"6972\":4,\"6973\":2,\"6974\":1,\"6975\":5,\"6976\":6,\"6977\":1,\"6978\":6,\"6979\":1,\"6980\":1,\"6981\":1,\"6982\":3,\"6983\":1,\"6984\":2,\"6985\":1,\"6986\":1,\"6987\":1,\"6988\":1,\"6989\":2,\"6990\":2,\"6991\":2,\"6992\":1,\"6993\":1,\"6994\":1,\"6995\":1,\"6996\":1,\"6997\":1,\"6998\":1,\"6999\":1,\"7000\":1,\"7001\":5,\"7002\":3,\"7003\":1,\"7004\":1,\"7005\":2,\"7006\":1,\"7007\":1,\"7008\":2,\"7009\":1,\"7010\":1,\"7011\":1,\"7012\":1,\"7013\":1,\"7014\":2,\"7015\":1,\"7016\":1,\"7017\":1,\"7018\":1,\"7019\":1,\"7020\":1,\"7021\":1,\"7022\":1,\"7023\":2,\"7024\":1,\"7025\":1,\"7026\":2,\"7027\":1,\"7028\":1,\"7029\":6,\"7030\":1,\"7031\":1,\"7032\":1,\"7033\":5,\"7034\":1,\"7035\":1,\"7036\":2,\"7037\":3,\"7038\":5,\"7039\":2,\"7040\":1,\"7041\":1,\"7042\":3,\"7043\":1,\"7044\":2,\"7045\":1,\"7046\":1,\"7047\":1,\"7048\":1,\"7049\":1,\"7050\":1,\"7051\":1,\"7052\":1,\"7053\":1,\"7054\":1,\"7055\":1,\"7056\":2,\"7057\":1,\"7058\":1,\"7059\":2,\"7060\":1,\"7061\":1,\"7062\":1,\"7063\":6,\"7064\":2,\"7065\":1,\"7066\":1,\"7067\":1,\"7068\":1,\"7069\":1,\"7070\":1,\"7071\":1,\"7072\":2,\"7073\":2,\"7074\":1,\"7075\":1,\"7076\":1,\"7077\":2,\"7078\":2,\"7079\":1,\"7080\":1,\"7081\":1,\"7082\":1,\"7083\":1,\"7084\":1,\"7085\":2,\"7086\":1,\"7087\":2,\"7088\":2,\"7089\":1,\"7090\":6,\"7091\":2,\"7092\":6,\"7093\":1,\"7094\":1,\"7095\":1,\"7096\":4,\"7097\":1,\"7098\":1,\"7099\":1,\"7100\":1,\"7101\":1,\"7102\":1,\"7103\":1,\"7104\":2,\"7105\":1,\"7106\":3,\"7107\":2,\"7108\":1,\"7109\":2,\"7110\":1,\"7111\":1,\"7112\":1,\"7113\":2,\"7114\":6,\"7115\":1,\"7116\":3,\"7117\":1,\"7118\":1,\"7119\":1,\"7120\":1,\"7121\":1,\"7122\":2,\"7123\":1,\"7124\":1,\"7125\":1,\"7126\":1,\"7127\":1,\"7128\":1,\"7129\":1,\"7130\":1,\"7131\":5,\"7132\":1,\"7133\":1,\"7134\":1,\"7135\":1,\"7136\":1,\"7137\":1,\"7138\":1,\"7139\":1,\"7140\":1,\"7141\":1,\"7142\":1,\"7143\":1,\"7144\":2,\"7145\":1,\"7146\":1,\"7147\":3,\"7148\":1,\"7149\":1,\"7150\":5,\"7151\":6,\"7152\":1,\"7153\":1,\"7154\":5,\"7155\":1,\"7156\":2,\"7157\":6,\"7158\":1,\"7159\":1,\"7160\":1,\"7161\":6,\"7162\":1,\"7163\":1,\"7164\":1,\"7165\":1,\"7166\":1,\"7167\":1,\"7168\":2,\"7169\":1,\"7170\":2,\"7171\":2,\"7172\":1,\"7173\":3,\"7174\":1,\"7175\":1,\"7176\":3,\"7177\":1,\"7178\":1,\"7179\":3,\"7180\":2,\"7181\":1,\"7182\":1,\"7183\":4,\"7184\":1,\"7185\":1,\"7186\":1,\"7187\":1,\"7188\":1,\"7189\":1,\"7190\":2,\"7191\":1,\"7192\":1,\"7193\":1,\"7194\":1,\"7195\":5,\"7196\":5,\"7197\":1,\"7198\":1,\"7199\":1,\"7200\":1,\"7201\":1,\"7202\":1,\"7203\":1,\"7204\":2,\"7205\":1,\"7206\":1,\"7207\":1,\"7208\":1,\"7209\":1,\"7210\":1,\"7211\":1,\"7212\":5,\"7213\":2,\"7214\":1,\"7215\":2,\"7216\":5,\"7217\":1,\"7218\":2,\"7219\":1,\"7220\":2,\"7221\":1,\"7222\":1,\"7223\":1,\"7224\":1,\"7225\":4,\"7226\":1,\"7227\":2,\"7228\":1,\"7229\":1,\"7230\":1,\"7231\":1,\"7232\":1,\"7233\":1,\"7234\":1,\"7235\":5,\"7236\":2,\"7237\":2,\"7238\":1,\"7239\":1,\"7240\":1,\"7241\":1,\"7242\":1,\"7243\":1,\"7244\":2,\"7245\":1,\"7246\":1,\"7247\":2,\"7248\":1,\"7249\":1,\"7250\":2,\"7251\":1,\"7252\":1,\"7253\":5,\"7254\":2,\"7255\":2,\"7256\":1,\"7257\":1,\"7258\":1,\"7259\":2,\"7260\":1,\"7261\":3,\"7262\":1,\"7263\":1,\"7264\":1,\"7265\":5,\"7266\":1,\"7267\":6,\"7268\":1,\"7269\":1,\"7270\":1,\"7271\":1,\"7272\":1,\"7273\":1,\"7274\":1,\"7275\":1,\"7276\":1,\"7277\":2,\"7278\":1,\"7279\":2,\"7280\":1,\"7281\":1,\"7282\":1,\"7283\":1,\"7284\":1,\"7285\":6,\"7286\":2,\"7287\":1,\"7288\":1,\"7289\":1,\"7290\":1,\"7291\":2,\"7292\":1,\"7293\":1,\"7294\":1,\"7295\":2,\"7296\":1,\"7297\":2,\"7298\":1,\"7299\":2,\"7300\":1,\"7301\":1,\"7302\":1,\"7303\":3,\"7304\":1,\"7305\":2,\"7306\":1,\"7307\":1,\"7308\":1,\"7309\":2,\"7310\":1,\"7311\":2,\"7312\":1,\"7313\":1,\"7314\":1,\"7315\":4,\"7316\":1,\"7317\":2,\"7318\":2,\"7319\":1,\"7320\":3,\"7321\":1,\"7322\":1,\"7323\":5,\"7324\":1,\"7325\":3,\"7326\":1,\"7327\":1,\"7328\":1,\"7329\":1,\"7330\":1,\"7331\":1,\"7332\":2,\"7333\":5,\"7334\":1,\"7335\":1,\"7336\":2,\"7337\":3,\"7338\":1,\"7339\":1,\"7340\":1,\"7341\":1,\"7342\":1,\"7343\":2,\"7344\":1,\"7345\":1,\"7346\":2,\"7347\":2,\"7348\":1,\"7349\":1,\"7350\":1,\"7351\":1,\"7352\":1,\"7353\":1,\"7354\":5,\"7355\":4,\"7356\":1,\"7357\":1,\"7358\":4,\"7359\":1,\"7360\":1,\"7361\":1,\"7362\":2,\"7363\":2,\"7364\":1,\"7365\":6,\"7366\":1,\"7367\":5,\"7368\":6,\"7369\":1,\"7370\":1,\"7371\":4,\"7372\":1,\"7373\":1,\"7374\":1,\"7375\":1,\"7376\":1,\"7377\":1,\"7378\":5,\"7379\":1,\"7380\":1,\"7381\":1,\"7382\":6,\"7383\":1,\"7384\":1,\"7385\":1,\"7386\":1,\"7387\":1,\"7388\":1,\"7389\":1,\"7390\":4,\"7391\":4,\"7392\":1,\"7393\":1,\"7394\":2,\"7395\":2,\"7396\":1,\"7397\":1,\"7398\":1,\"7399\":1,\"7400\":2,\"7401\":1,\"7402\":1,\"7403\":1,\"7404\":1,\"7405\":3,\"7406\":1,\"7407\":2,\"7408\":2,\"7409\":1,\"7410\":2,\"7411\":1,\"7412\":1,\"7413\":3,\"7414\":6,\"7415\":1,\"7416\":1,\"7417\":1,\"7418\":1,\"7419\":5,\"7420\":1,\"7421\":5,\"7422\":1,\"7423\":1,\"7424\":1,\"7425\":1,\"7426\":1,\"7427\":2,\"7428\":1,\"7429\":6,\"7430\":1,\"7431\":1,\"7432\":2,\"7433\":1,\"7434\":1,\"7435\":4,\"7436\":1,\"7437\":3,\"7438\":1,\"7439\":3,\"7440\":1,\"7441\":1,\"7442\":2,\"7443\":1,\"7444\":5,\"7445\":1,\"7446\":1,\"7447\":3,\"7448\":1,\"7449\":6,\"7450\":1,\"7451\":1,\"7452\":3,\"7453\":1,\"7454\":1,\"7455\":3,\"7456\":1,\"7457\":1,\"7458\":2,\"7459\":1,\"7460\":6,\"7461\":1,\"7462\":3,\"7463\":1,\"7464\":6,\"7465\":1,\"7466\":5,\"7467\":3,\"7468\":1,\"7469\":1,\"7470\":1,\"7471\":1,\"7472\":1,\"7473\":1,\"7474\":3,\"7475\":1,\"7476\":5,\"7477\":1,\"7478\":1,\"7479\":1,\"7480\":6,\"7481\":1,\"7482\":1,\"7483\":2,\"7484\":1,\"7485\":1,\"7486\":5,\"7487\":1,\"7488\":2,\"7489\":1,\"7490\":2,\"7491\":1,\"7492\":5,\"7493\":4,\"7494\":1,\"7495\":4,\"7496\":3,\"7497\":1,\"7498\":2,\"7499\":1,\"7500\":1,\"7501\":1,\"7502\":1,\"7503\":1,\"7504\":5,\"7505\":1,\"7506\":1,\"7507\":1,\"7508\":1,\"7509\":6,\"7510\":6,\"7511\":1,\"7512\":1,\"7513\":1,\"7514\":1,\"7515\":1,\"7516\":1,\"7517\":1,\"7518\":1,\"7519\":5,\"7520\":3,\"7521\":1,\"7522\":1,\"7523\":1,\"7524\":1,\"7525\":1,\"7526\":1,\"7527\":3,\"7528\":2,\"7529\":4,\"7530\":1,\"7531\":2,\"7532\":1,\"7533\":2,\"7534\":1,\"7535\":2,\"7536\":5,\"7537\":1,\"7538\":1,\"7539\":1,\"7540\":1,\"7541\":1,\"7542\":1,\"7543\":2,\"7544\":1,\"7545\":1,\"7546\":1,\"7547\":1,\"7548\":2,\"7549\":2,\"7550\":1,\"7551\":2,\"7552\":1,\"7553\":1,\"7554\":1,\"7555\":1,\"7556\":1,\"7557\":1,\"7558\":1,\"7559\":1,\"7560\":1,\"7561\":4,\"7562\":1,\"7563\":1,\"7564\":1,\"7565\":1,\"7566\":2,\"7567\":1,\"7568\":3,\"7569\":1,\"7570\":5,\"7571\":2,\"7572\":1,\"7573\":1,\"7574\":4,\"7575\":2,\"7576\":1,\"7577\":3,\"7578\":1,\"7579\":1,\"7580\":1,\"7581\":6,\"7582\":1,\"7583\":1,\"7584\":1,\"7585\":1,\"7586\":1,\"7587\":3,\"7588\":4,\"7589\":1,\"7590\":1,\"7591\":3,\"7592\":1,\"7593\":1,\"7594\":1,\"7595\":5,\"7596\":3,\"7597\":1,\"7598\":1,\"7599\":1,\"7600\":1,\"7601\":6,\"7602\":1,\"7603\":1,\"7604\":2,\"7605\":1,\"7606\":5,\"7607\":2,\"7608\":1,\"7609\":1,\"7610\":1,\"7611\":6,\"7612\":1,\"7613\":1,\"7614\":5,\"7615\":1,\"7616\":6,\"7617\":1,\"7618\":2,\"7619\":1,\"7620\":1,\"7621\":1,\"7622\":1,\"7623\":3,\"7624\":1,\"7625\":5,\"7626\":5,\"7627\":1,\"7628\":1,\"7629\":2,\"7630\":6,\"7631\":1,\"7632\":1,\"7633\":6,\"7634\":1,\"7635\":1,\"7636\":2,\"7637\":5,\"7638\":1,\"7639\":2,\"7640\":1,\"7641\":1,\"7642\":5,\"7643\":1,\"7644\":2,\"7645\":3,\"7646\":1,\"7647\":1,\"7648\":1,\"7649\":3,\"7650\":1,\"7651\":1,\"7652\":2,\"7653\":1,\"7654\":1,\"7655\":1,\"7656\":1,\"7657\":6,\"7658\":1,\"7659\":2,\"7660\":2,\"7661\":1,\"7662\":1,\"7663\":2,\"7664\":2,\"7665\":6,\"7666\":1,\"7667\":1,\"7668\":2,\"7669\":3,\"7670\":1,\"7671\":1,\"7672\":1,\"7673\":1,\"7674\":1,\"7675\":5,\"7676\":1,\"7677\":2,\"7678\":1,\"7679\":2,\"7680\":1,\"7681\":4,\"7682\":1,\"7683\":1,\"7684\":5,\"7685\":1,\"7686\":1,\"7687\":1,\"7688\":1,\"7689\":3,\"7690\":2,\"7691\":2,\"7692\":6,\"7693\":2,\"7694\":1,\"7695\":6,\"7696\":2,\"7697\":1,\"7698\":3,\"7699\":1,\"7700\":1,\"7701\":1,\"7702\":1,\"7703\":2,\"7704\":1,\"7705\":1,\"7706\":1,\"7707\":1,\"7708\":1,\"7709\":2,\"7710\":2,\"7711\":5,\"7712\":1,\"7713\":1,\"7714\":1,\"7715\":2,\"7716\":3,\"7717\":1,\"7718\":5,\"7719\":3,\"7720\":1,\"7721\":1,\"7722\":1,\"7723\":2,\"7724\":1,\"7725\":2,\"7726\":2,\"7727\":1,\"7728\":1,\"7729\":1,\"7730\":1,\"7731\":6,\"7732\":1,\"7733\":2,\"7734\":1,\"7735\":1,\"7736\":1,\"7737\":1,\"7738\":1,\"7739\":1,\"7740\":1,\"7741\":1,\"7742\":1,\"7743\":1,\"7744\":5,\"7745\":6,\"7746\":3,\"7747\":5,\"7748\":1,\"7749\":2,\"7750\":1,\"7751\":1,\"7752\":1,\"7753\":1,\"7754\":1,\"7755\":1,\"7756\":2,\"7757\":1,\"7758\":1,\"7759\":1,\"7760\":1,\"7761\":1,\"7762\":1,\"7763\":1,\"7764\":1,\"7765\":1,\"7766\":1,\"7767\":2,\"7768\":2,\"7769\":1,\"7770\":1,\"7771\":5,\"7772\":1,\"7773\":1,\"7774\":1,\"7775\":1,\"7776\":1,\"7777\":6,\"7778\":4,\"7779\":2,\"7780\":1,\"7781\":1,\"7782\":2,\"7783\":1,\"7784\":1,\"7785\":3,\"7786\":1,\"7787\":3,\"7788\":2,\"7789\":2,\"7790\":1,\"7791\":6,\"7792\":1,\"7793\":1,\"7794\":1,\"7795\":1,\"7796\":2,\"7797\":1,\"7798\":3,\"7799\":3,\"7800\":1,\"7801\":1,\"7802\":2,\"7803\":1,\"7804\":2,\"7805\":6,\"7806\":1,\"7807\":1,\"7808\":1,\"7809\":6,\"7810\":1,\"7811\":1,\"7812\":1,\"7813\":1,\"7814\":2,\"7815\":4,\"7816\":1,\"7817\":1,\"7818\":1,\"7819\":1,\"7820\":5,\"7821\":1,\"7822\":1,\"7823\":5,\"7824\":1,\"7825\":1,\"7826\":1,\"7827\":1,\"7828\":1,\"7829\":1,\"7830\":5,\"7831\":1,\"7832\":1,\"7833\":1,\"7834\":1,\"7835\":1,\"7836\":1,\"7837\":1,\"7838\":2,\"7839\":1,\"7840\":2,\"7841\":1,\"7842\":1,\"7843\":1,\"7844\":2,\"7845\":1,\"7846\":1,\"7847\":4,\"7848\":1,\"7849\":1,\"7850\":1,\"7851\":2,\"7852\":3,\"7853\":1,\"7854\":1,\"7855\":1,\"7856\":1,\"7857\":1,\"7858\":2,\"7859\":1,\"7860\":1,\"7861\":1,\"7862\":2,\"7863\":1,\"7864\":2,\"7865\":1,\"7866\":2,\"7867\":2,\"7868\":1,\"7869\":1,\"7870\":2,\"7871\":2,\"7872\":2,\"7873\":1,\"7874\":4,\"7875\":1,\"7876\":1,\"7877\":1,\"7878\":1,\"7879\":1,\"7880\":2,\"7881\":1,\"7882\":1,\"7883\":1,\"7884\":1,\"7885\":1,\"7886\":1,\"7887\":1,\"7888\":1,\"7889\":1,\"7890\":1,\"7891\":1,\"7892\":1,\"7893\":1,\"7894\":1,\"7895\":1,\"7896\":2,\"7897\":2,\"7898\":1,\"7899\":1,\"7900\":1,\"7901\":1,\"7902\":1,\"7903\":1,\"7904\":1,\"7905\":1,\"7906\":1,\"7907\":1,\"7908\":1,\"7909\":1,\"7910\":3,\"7911\":1,\"7912\":5,\"7913\":1,\"7914\":1,\"7915\":1,\"7916\":6,\"7917\":2,\"7918\":2,\"7919\":1,\"7920\":1,\"7921\":1,\"7922\":1,\"7923\":1,\"7924\":1,\"7925\":1,\"7926\":1,\"7927\":1,\"7928\":6,\"7929\":1,\"7930\":1,\"7931\":1,\"7932\":2,\"7933\":1,\"7934\":1,\"7935\":3,\"7936\":3,\"7937\":1,\"7938\":5,\"7939\":1,\"7940\":5,\"7941\":3,\"7942\":1,\"7943\":2,\"7944\":1,\"7945\":1,\"7946\":1,\"7947\":2,\"7948\":1,\"7949\":1,\"7950\":3,\"7951\":1,\"7952\":6,\"7953\":1,\"7954\":1,\"7955\":2,\"7956\":2,\"7957\":1,\"7958\":6,\"7959\":1,\"7960\":1,\"7961\":2,\"7962\":1,\"7963\":2,\"7964\":1,\"7965\":2,\"7966\":1,\"7967\":3,\"7968\":1,\"7969\":2,\"7970\":1,\"7971\":1,\"7972\":1,\"7973\":1,\"7974\":1,\"7975\":1,\"7976\":1,\"7977\":2,\"7978\":4,\"7979\":1,\"7980\":2,\"7981\":2,\"7982\":2,\"7983\":5,\"7984\":2,\"7985\":1,\"7986\":1,\"7987\":5,\"7988\":1,\"7989\":5,\"7990\":5,\"7991\":2,\"7992\":3,\"7993\":1,\"7994\":3,\"7995\":1,\"7996\":3,\"7997\":6,\"7998\":2,\"7999\":1,\"8000\":1,\"8001\":5,\"8002\":1,\"8003\":1,\"8004\":2,\"8005\":1,\"8006\":1,\"8007\":3,\"8008\":1,\"8009\":2,\"8010\":1,\"8011\":2,\"8012\":1,\"8013\":1,\"8014\":3,\"8015\":1,\"8016\":1,\"8017\":1,\"8018\":6,\"8019\":2,\"8020\":3,\"8021\":1,\"8022\":1,\"8023\":1,\"8024\":2,\"8025\":1,\"8026\":6,\"8027\":2,\"8028\":1,\"8029\":1,\"8030\":1,\"8031\":1,\"8032\":1,\"8033\":1,\"8034\":1,\"8035\":1,\"8036\":1,\"8037\":1,\"8038\":1,\"8039\":1,\"8040\":1,\"8041\":2,\"8042\":1,\"8043\":1,\"8044\":1,\"8045\":1,\"8046\":2,\"8047\":1,\"8048\":1,\"8049\":1,\"8050\":1,\"8051\":1,\"8052\":1,\"8053\":2,\"8054\":2,\"8055\":6,\"8056\":1,\"8057\":5,\"8058\":3,\"8059\":1,\"8060\":1,\"8061\":1,\"8062\":1,\"8063\":2,\"8064\":1,\"8065\":1,\"8066\":1,\"8067\":1,\"8068\":5,\"8069\":1,\"8070\":1,\"8071\":5,\"8072\":2,\"8073\":1,\"8074\":5,\"8075\":1,\"8076\":5,\"8077\":1,\"8078\":3,\"8079\":3,\"8080\":1,\"8081\":1,\"8082\":2,\"8083\":1,\"8084\":1,\"8085\":2,\"8086\":1,\"8087\":1,\"8088\":1,\"8089\":1,\"8090\":1,\"8091\":2,\"8092\":1,\"8093\":5,\"8094\":1,\"8095\":1,\"8096\":1,\"8097\":1,\"8098\":1,\"8099\":4,\"8100\":1,\"8101\":1,\"8102\":1,\"8103\":1,\"8104\":1,\"8105\":1,\"8106\":2,\"8107\":2,\"8108\":2,\"8109\":4,\"8110\":1,\"8111\":1,\"8112\":1,\"8113\":1,\"8114\":1,\"8115\":1,\"8116\":1,\"8117\":1,\"8118\":1,\"8119\":3,\"8120\":1,\"8121\":2,\"8122\":1,\"8123\":1,\"8124\":1,\"8125\":1,\"8126\":6,\"8127\":1,\"8128\":6,\"8129\":2,\"8130\":1,\"8131\":1,\"8132\":1,\"8133\":1,\"8134\":1,\"8135\":1,\"8136\":2,\"8137\":2,\"8138\":2,\"8139\":2,\"8140\":3,\"8141\":1,\"8142\":1,\"8143\":1,\"8144\":4,\"8145\":2,\"8146\":3,\"8147\":3,\"8148\":1,\"8149\":1,\"8150\":1,\"8151\":6,\"8152\":1,\"8153\":1,\"8154\":1,\"8155\":1,\"8156\":1,\"8157\":2,\"8158\":4,\"8159\":1,\"8160\":2,\"8161\":2,\"8162\":1,\"8163\":1,\"8164\":1,\"8165\":1,\"8166\":2,\"8167\":1,\"8168\":6,\"8169\":1,\"8170\":1,\"8171\":1,\"8172\":2,\"8173\":2,\"8174\":1,\"8175\":1,\"8176\":3,\"8177\":1,\"8178\":2,\"8179\":1,\"8180\":1,\"8181\":1,\"8182\":1,\"8183\":1,\"8184\":5,\"8185\":1,\"8186\":1,\"8187\":3,\"8188\":1,\"8189\":1,\"8190\":3,\"8191\":1,\"8192\":1,\"8193\":1,\"8194\":1,\"8195\":1,\"8196\":2,\"8197\":1,\"8198\":1,\"8199\":1,\"8200\":2,\"8201\":1,\"8202\":1,\"8203\":2,\"8204\":1,\"8205\":1,\"8206\":1,\"8207\":1,\"8208\":1,\"8209\":2,\"8210\":1,\"8211\":1,\"8212\":1,\"8213\":1,\"8214\":1,\"8215\":6,\"8216\":2,\"8217\":1,\"8218\":1,\"8219\":6,\"8220\":1,\"8221\":1,\"8222\":1,\"8223\":1,\"8224\":1,\"8225\":1,\"8226\":1,\"8227\":3,\"8228\":1,\"8229\":1,\"8230\":3,\"8231\":1,\"8232\":1,\"8233\":4,\"8234\":2,\"8235\":3,\"8236\":1,\"8237\":1,\"8238\":1,\"8239\":1,\"8240\":1,\"8241\":1,\"8242\":1,\"8243\":1,\"8244\":2,\"8245\":5,\"8246\":1,\"8247\":1,\"8248\":2,\"8249\":1,\"8250\":1,\"8251\":1,\"8252\":1,\"8253\":1,\"8254\":2,\"8255\":2,\"8256\":1,\"8257\":1,\"8258\":1,\"8259\":1,\"8260\":1,\"8261\":1,\"8262\":1,\"8263\":1,\"8264\":1,\"8265\":5,\"8266\":1,\"8267\":4,\"8268\":5,\"8269\":1,\"8270\":1,\"8271\":2,\"8272\":1,\"8273\":1,\"8274\":2,\"8275\":5,\"8276\":2,\"8277\":1,\"8278\":1,\"8279\":1,\"8280\":1,\"8281\":1,\"8282\":2,\"8283\":2,\"8284\":1,\"8285\":1,\"8286\":1,\"8287\":1,\"8288\":2,\"8289\":1,\"8290\":1,\"8291\":1,\"8292\":1,\"8293\":1,\"8294\":1,\"8295\":1,\"8296\":1,\"8297\":1,\"8298\":1,\"8299\":1,\"8300\":1,\"8301\":1,\"8302\":1,\"8303\":1,\"8304\":1,\"8305\":2,\"8306\":1,\"8307\":1,\"8308\":1,\"8309\":1,\"8310\":1,\"8311\":1,\"8312\":2,\"8313\":0,\"8314\":1,\"8315\":1,\"8316\":1,\"8317\":1,\"8318\":1,\"8319\":1,\"8320\":1,\"8321\":1,\"8322\":1,\"8323\":1,\"8324\":5,\"8325\":1,\"8326\":3,\"8327\":1,\"8328\":2,\"8329\":1,\"8330\":1,\"8331\":2,\"8332\":1,\"8333\":2,\"8334\":1,\"8335\":1,\"8336\":1,\"8337\":1,\"8338\":1,\"8339\":1,\"8340\":1,\"8341\":1,\"8342\":3,\"8343\":1,\"8344\":1,\"8345\":2,\"8346\":1,\"8347\":1,\"8348\":1,\"8349\":2,\"8350\":1,\"8351\":2,\"8352\":1,\"8353\":5,\"8354\":1,\"8355\":1,\"8356\":1,\"8357\":5,\"8358\":1,\"8359\":5,\"8360\":1,\"8361\":1,\"8362\":1,\"8363\":1,\"8364\":4,\"8365\":1,\"8366\":1,\"8367\":1,\"8368\":1,\"8369\":3,\"8370\":1,\"8371\":1,\"8372\":1,\"8373\":2,\"8374\":1,\"8375\":1,\"8376\":6,\"8377\":1,\"8378\":1,\"8379\":1,\"8380\":2,\"8381\":1,\"8382\":1,\"8383\":1,\"8384\":1,\"8385\":1,\"8386\":2,\"8387\":2,\"8388\":1,\"8389\":1,\"8390\":1,\"8391\":6,\"8392\":1,\"8393\":1,\"8394\":1,\"8395\":5,\"8396\":1,\"8397\":1,\"8398\":1,\"8399\":1,\"8400\":1,\"8401\":3,\"8402\":1,\"8403\":1,\"8404\":5,\"8405\":1,\"8406\":5,\"8407\":1,\"8408\":1,\"8409\":1,\"8410\":1,\"8411\":1,\"8412\":1,\"8413\":1,\"8414\":1,\"8415\":1,\"8416\":1,\"8417\":1,\"8418\":1,\"8419\":1,\"8420\":1,\"8421\":1,\"8422\":1,\"8423\":1,\"8424\":1,\"8425\":1,\"8426\":5,\"8427\":1,\"8428\":4,\"8429\":2,\"8430\":1,\"8431\":1,\"8432\":1,\"8433\":1,\"8434\":6,\"8435\":1,\"8436\":1,\"8437\":1,\"8438\":1,\"8439\":1,\"8440\":6,\"8441\":1,\"8442\":1,\"8443\":1,\"8444\":5,\"8445\":2,\"8446\":2,\"8447\":1,\"8448\":1,\"8449\":1,\"8450\":1,\"8451\":5,\"8452\":1,\"8453\":5,\"8454\":3,\"8455\":1,\"8456\":1,\"8457\":1,\"8458\":1,\"8459\":1,\"8460\":1,\"8461\":1,\"8462\":1,\"8463\":1,\"8464\":1,\"8465\":2,\"8466\":1,\"8467\":2,\"8468\":1,\"8469\":1,\"8470\":1,\"8471\":5,\"8472\":2,\"8473\":1,\"8474\":1,\"8475\":1,\"8476\":1,\"8477\":4,\"8478\":1,\"8479\":1,\"8480\":5,\"8481\":1,\"8482\":5,\"8483\":1,\"8484\":1,\"8485\":1,\"8486\":1,\"8487\":2,\"8488\":2,\"8489\":2,\"8490\":1,\"8491\":1,\"8492\":2,\"8493\":1,\"8494\":1,\"8495\":1,\"8496\":2,\"8497\":1,\"8498\":1,\"8499\":2,\"8500\":1,\"8501\":5,\"8502\":1,\"8503\":1,\"8504\":5,\"8505\":1,\"8506\":1,\"8507\":1,\"8508\":1,\"8509\":3,\"8510\":1,\"8511\":2,\"8512\":1,\"8513\":1,\"8514\":1,\"8515\":1,\"8516\":1,\"8517\":1,\"8518\":1,\"8519\":1,\"8520\":1,\"8521\":3,\"8522\":2,\"8523\":1,\"8524\":3,\"8525\":1,\"8526\":2,\"8527\":1,\"8528\":1,\"8529\":1,\"8530\":1,\"8531\":1,\"8532\":1,\"8533\":1,\"8534\":2,\"8535\":1,\"8536\":1,\"8537\":1,\"8538\":1,\"8539\":1,\"8540\":5,\"8541\":1,\"8542\":1,\"8543\":1,\"8544\":1,\"8545\":1,\"8546\":1,\"8547\":6,\"8548\":1,\"8549\":1,\"8550\":1,\"8551\":1,\"8552\":1,\"8553\":1,\"8554\":1,\"8555\":5,\"8556\":1,\"8557\":1,\"8558\":1,\"8559\":1,\"8560\":3,\"8561\":1,\"8562\":1,\"8563\":1,\"8564\":1,\"8565\":1,\"8566\":1,\"8567\":2,\"8568\":2,\"8569\":1,\"8570\":2,\"8571\":1,\"8572\":1,\"8573\":1,\"8574\":1,\"8575\":1,\"8576\":1,\"8577\":5,\"8578\":1,\"8579\":1,\"8580\":1,\"8581\":3,\"8582\":2,\"8583\":2,\"8584\":1,\"8585\":1,\"8586\":1,\"8587\":4,\"8588\":1,\"8589\":1,\"8590\":1,\"8591\":2,\"8592\":1,\"8593\":1,\"8594\":1,\"8595\":1,\"8596\":2,\"8597\":1,\"8598\":1,\"8599\":2,\"8600\":3,\"8601\":1,\"8602\":1,\"8603\":6,\"8604\":3,\"8605\":1,\"8606\":5,\"8607\":2,\"8608\":1,\"8609\":1,\"8610\":3,\"8611\":1,\"8612\":1,\"8613\":1,\"8614\":1,\"8615\":2,\"8616\":1,\"8617\":1,\"8618\":2,\"8619\":1,\"8620\":1,\"8621\":1,\"8622\":1,\"8623\":2,\"8624\":2,\"8625\":1,\"8626\":1,\"8627\":1,\"8628\":1,\"8629\":2,\"8630\":6,\"8631\":2,\"8632\":1,\"8633\":1,\"8634\":2,\"8635\":1,\"8636\":2,\"8637\":1,\"8638\":1,\"8639\":1,\"8640\":1,\"8641\":1,\"8642\":1,\"8643\":1,\"8644\":1,\"8645\":1,\"8646\":1,\"8647\":1,\"8648\":3,\"8649\":1,\"8650\":1,\"8651\":1,\"8652\":1,\"8653\":1,\"8654\":1,\"8655\":1,\"8656\":1,\"8657\":1,\"8658\":1,\"8659\":1,\"8660\":1,\"8661\":1,\"8662\":1,\"8663\":1,\"8664\":1,\"8665\":3,\"8666\":1,\"8667\":1,\"8668\":1,\"8669\":1,\"8670\":1,\"8671\":2,\"8672\":1,\"8673\":1,\"8674\":5,\"8675\":1,\"8676\":5,\"8677\":1,\"8678\":1,\"8679\":1,\"8680\":1,\"8681\":5,\"8682\":1,\"8683\":1,\"8684\":1,\"8685\":1,\"8686\":1,\"8687\":5,\"8688\":1,\"8689\":1,\"8690\":1,\"8691\":3,\"8692\":1,\"8693\":1,\"8694\":1,\"8695\":1,\"8696\":1,\"8697\":1,\"8698\":1,\"8699\":1,\"8700\":6,\"8701\":1,\"8702\":1,\"8703\":1,\"8704\":1,\"8705\":1,\"8706\":2,\"8707\":1,\"8708\":1,\"8709\":1,\"8710\":2,\"8711\":2,\"8712\":1,\"8713\":1,\"8714\":1,\"8715\":1,\"8716\":1,\"8717\":1,\"8718\":5,\"8719\":1,\"8720\":1,\"8721\":1,\"8722\":6,\"8723\":1,\"8724\":1,\"8725\":1,\"8726\":5,\"8727\":1,\"8728\":1,\"8729\":1,\"8730\":1,\"8731\":2,\"8732\":2,\"8733\":1,\"8734\":1,\"8735\":2,\"8736\":1,\"8737\":1,\"8738\":3,\"8739\":1,\"8740\":1,\"8741\":1,\"8742\":1,\"8743\":2,\"8744\":1,\"8745\":1,\"8746\":5,\"8747\":1,\"8748\":4,\"8749\":1,\"8750\":1,\"8751\":2,\"8752\":4,\"8753\":3,\"8754\":3,\"8755\":2,\"8756\":1,\"8757\":1,\"8758\":1,\"8759\":2,\"8760\":2,\"8761\":1,\"8762\":1,\"8763\":1,\"8764\":1,\"8765\":1,\"8766\":1,\"8767\":1,\"8768\":2,\"8769\":1,\"8770\":1,\"8771\":1,\"8772\":1,\"8773\":1,\"8774\":5,\"8775\":2,\"8776\":1,\"8777\":1,\"8778\":1,\"8779\":1,\"8780\":2,\"8781\":1,\"8782\":1,\"8783\":1,\"8784\":1,\"8785\":2,\"8786\":1,\"8787\":1,\"8788\":1,\"8789\":5,\"8790\":5,\"8791\":2,\"8792\":1,\"8793\":3,\"8794\":1,\"8795\":1,\"8796\":1,\"8797\":1,\"8798\":1,\"8799\":1,\"8800\":1,\"8801\":1,\"8802\":1,\"8803\":1,\"8804\":1,\"8805\":1,\"8806\":2,\"8807\":1,\"8808\":2,\"8809\":6,\"8810\":1,\"8811\":2,\"8812\":1,\"8813\":1,\"8814\":2,\"8815\":2,\"8816\":2,\"8817\":5,\"8818\":1,\"8819\":1,\"8820\":1,\"8821\":1,\"8822\":1,\"8823\":1,\"8824\":1,\"8825\":1,\"8826\":1,\"8827\":5,\"8828\":1,\"8829\":1,\"8830\":1,\"8831\":1,\"8832\":1,\"8833\":1,\"8834\":1,\"8835\":1,\"8836\":3,\"8837\":6,\"8838\":1,\"8839\":1,\"8840\":1,\"8841\":1,\"8842\":1,\"8843\":1,\"8844\":1,\"8845\":1,\"8846\":2,\"8847\":1,\"8848\":1,\"8849\":1,\"8850\":1,\"8851\":1,\"8852\":2,\"8853\":1,\"8854\":2,\"8855\":1,\"8856\":1,\"8857\":1,\"8858\":1,\"8859\":6,\"8860\":1,\"8861\":1,\"8862\":1,\"8863\":1,\"8864\":1,\"8865\":1,\"8866\":1,\"8867\":1,\"8868\":1,\"8869\":1,\"8870\":1,\"8871\":1,\"8872\":1,\"8873\":1,\"8874\":1,\"8875\":1,\"8876\":1,\"8877\":1,\"8878\":1,\"8879\":2,\"8880\":5,\"8881\":1,\"8882\":1,\"8883\":1,\"8884\":2,\"8885\":1,\"8886\":3,\"8887\":1,\"8888\":2,\"8889\":1,\"8890\":1,\"8891\":1,\"8892\":1,\"8893\":3,\"8894\":1,\"8895\":1,\"8896\":1,\"8897\":1,\"8898\":1,\"8899\":1,\"8900\":1,\"8901\":1,\"8902\":3,\"8903\":1,\"8904\":1,\"8905\":1,\"8906\":1,\"8907\":1,\"8908\":1,\"8909\":1,\"8910\":1,\"8911\":1,\"8912\":1,\"8913\":1,\"8914\":1,\"8915\":1,\"8916\":1,\"8917\":1,\"8918\":1,\"8919\":1,\"8920\":1,\"8921\":1,\"8922\":2,\"8923\":1,\"8924\":1,\"8925\":1,\"8926\":1,\"8927\":1,\"8928\":2,\"8929\":2,\"8930\":1,\"8931\":1,\"8932\":1,\"8933\":4,\"8934\":1,\"8935\":3,\"8936\":1,\"8937\":1,\"8938\":1,\"8939\":1,\"8940\":1,\"8941\":1,\"8942\":1,\"8943\":1,\"8944\":1,\"8945\":1,\"8946\":1,\"8947\":1,\"8948\":1,\"8949\":4,\"8950\":1,\"8951\":1,\"8952\":1,\"8953\":1,\"8954\":1,\"8955\":1,\"8956\":1,\"8957\":1,\"8958\":1,\"8959\":1,\"8960\":1,\"8961\":1,\"8962\":1,\"8963\":6,\"8964\":2,\"8965\":1,\"8966\":1,\"8967\":1,\"8968\":1,\"8969\":1,\"8970\":1,\"8971\":3,\"8972\":2,\"8973\":5,\"8974\":1,\"8975\":1,\"8976\":2,\"8977\":1,\"8978\":3,\"8979\":5,\"8980\":1,\"8981\":1,\"8982\":1,\"8983\":4,\"8984\":1,\"8985\":1,\"8986\":1,\"8987\":5,\"8988\":5,\"8989\":1,\"8990\":1,\"8991\":5,\"8992\":2,\"8993\":1,\"8994\":6,\"8995\":1,\"8996\":5,\"8997\":2,\"8998\":4,\"8999\":2,\"9000\":2,\"9001\":1,\"9002\":1,\"9003\":1,\"9004\":1,\"9005\":1,\"9006\":1,\"9007\":1,\"9008\":1,\"9009\":1,\"9010\":1,\"9011\":1,\"9012\":1,\"9013\":1,\"9014\":1,\"9015\":1,\"9016\":1,\"9017\":1,\"9018\":1,\"9019\":5,\"9020\":4,\"9021\":1,\"9022\":1,\"9023\":1,\"9024\":1,\"9025\":1,\"9026\":1,\"9027\":1,\"9028\":1,\"9029\":1,\"9030\":1,\"9031\":2,\"9032\":3,\"9033\":1,\"9034\":1,\"9035\":4,\"9036\":5,\"9037\":1,\"9038\":2,\"9039\":1,\"9040\":1,\"9041\":1,\"9042\":2,\"9043\":1,\"9044\":1,\"9045\":2,\"9046\":1,\"9047\":1,\"9048\":1,\"9049\":3,\"9050\":2,\"9051\":1,\"9052\":2,\"9053\":1,\"9054\":1,\"9055\":1,\"9056\":1,\"9057\":1,\"9058\":2,\"9059\":1,\"9060\":5,\"9061\":1,\"9062\":6,\"9063\":2,\"9064\":1,\"9065\":1,\"9066\":1,\"9067\":1,\"9068\":1,\"9069\":1,\"9070\":1,\"9071\":4,\"9072\":1,\"9073\":1,\"9074\":1,\"9075\":3,\"9076\":1,\"9077\":1,\"9078\":1,\"9079\":6,\"9080\":1,\"9081\":3,\"9082\":1,\"9083\":3,\"9084\":1,\"9085\":1,\"9086\":2,\"9087\":2,\"9088\":4,\"9089\":1,\"9090\":1,\"9091\":3,\"9092\":1,\"9093\":1,\"9094\":1,\"9095\":1,\"9096\":1,\"9097\":5,\"9098\":5,\"9099\":1,\"9100\":1,\"9101\":1,\"9102\":2,\"9103\":1,\"9104\":1,\"9105\":1,\"9106\":1,\"9107\":1,\"9108\":1,\"9109\":1,\"9110\":1,\"9111\":1,\"9112\":1,\"9113\":3,\"9114\":1,\"9115\":2,\"9116\":6,\"9117\":1,\"9118\":2,\"9119\":3,\"9120\":1,\"9121\":1,\"9122\":6,\"9123\":1,\"9124\":3,\"9125\":6,\"9126\":1,\"9127\":1,\"9128\":1,\"9129\":1,\"9130\":6,\"9131\":1,\"9132\":3,\"9133\":1,\"9134\":1,\"9135\":1,\"9136\":6,\"9137\":1,\"9138\":1,\"9139\":5,\"9140\":1,\"9141\":1,\"9142\":1,\"9143\":1,\"9144\":5,\"9145\":1,\"9146\":1,\"9147\":1,\"9148\":1,\"9149\":1,\"9150\":1,\"9151\":1,\"9152\":1,\"9153\":1,\"9154\":5,\"9155\":1,\"9156\":3,\"9157\":1,\"9158\":2,\"9159\":3,\"9160\":1,\"9161\":1,\"9162\":1,\"9163\":1,\"9164\":2,\"9165\":1,\"9166\":1,\"9167\":1,\"9168\":2,\"9169\":1,\"9170\":5,\"9171\":1,\"9172\":1,\"9173\":1,\"9174\":2,\"9175\":1,\"9176\":1,\"9177\":2,\"9178\":1,\"9179\":1,\"9180\":3,\"9181\":1,\"9182\":1,\"9183\":2,\"9184\":4,\"9185\":1,\"9186\":4,\"9187\":1,\"9188\":1,\"9189\":1,\"9190\":1,\"9191\":2,\"9192\":1,\"9193\":2,\"9194\":2,\"9195\":1,\"9196\":1,\"9197\":1,\"9198\":2,\"9199\":1,\"9200\":6,\"9201\":6,\"9202\":3,\"9203\":1,\"9204\":1,\"9205\":1,\"9206\":1,\"9207\":5,\"9208\":1,\"9209\":1,\"9210\":1,\"9211\":3,\"9212\":1,\"9213\":1,\"9214\":2,\"9215\":2,\"9216\":2,\"9217\":1,\"9218\":2,\"9219\":1,\"9220\":1,\"9221\":6,\"9222\":3,\"9223\":2,\"9224\":1,\"9225\":1,\"9226\":2,\"9227\":1,\"9228\":3,\"9229\":1,\"9230\":1,\"9231\":1,\"9232\":1,\"9233\":1,\"9234\":1,\"9235\":1,\"9236\":1,\"9237\":2,\"9238\":1,\"9239\":1,\"9240\":6,\"9241\":2,\"9242\":1,\"9243\":1,\"9244\":1,\"9245\":1,\"9246\":1,\"9247\":1,\"9248\":1,\"9249\":2,\"9250\":1,\"9251\":1,\"9252\":2,\"9253\":1,\"9254\":2,\"9255\":1,\"9256\":1,\"9257\":1,\"9258\":1,\"9259\":2,\"9260\":1,\"9261\":2,\"9262\":2,\"9263\":1,\"9264\":1,\"9265\":1,\"9266\":2,\"9267\":2,\"9268\":1,\"9269\":1,\"9270\":1,\"9271\":1,\"9272\":4,\"9273\":2,\"9274\":5,\"9275\":1,\"9276\":1,\"9277\":2,\"9278\":3,\"9279\":1,\"9280\":1,\"9281\":1,\"9282\":1,\"9283\":1,\"9284\":1,\"9285\":5,\"9286\":1,\"9287\":1,\"9288\":1,\"9289\":1,\"9290\":1,\"9291\":5,\"9292\":6,\"9293\":1,\"9294\":1,\"9295\":1,\"9296\":1,\"9297\":1,\"9298\":1,\"9299\":1,\"9300\":1,\"9301\":6,\"9302\":6,\"9303\":1,\"9304\":1,\"9305\":1,\"9306\":1,\"9307\":3,\"9308\":1,\"9309\":1,\"9310\":1,\"9311\":1,\"9312\":1,\"9313\":1,\"9314\":1,\"9315\":1,\"9316\":2,\"9317\":1,\"9318\":1,\"9319\":1,\"9320\":6,\"9321\":1,\"9322\":1,\"9323\":1,\"9324\":1,\"9325\":1,\"9326\":1,\"9327\":1,\"9328\":1,\"9329\":1,\"9330\":1,\"9331\":1,\"9332\":2,\"9333\":1,\"9334\":1,\"9335\":1,\"9336\":1,\"9337\":6,\"9338\":1,\"9339\":1,\"9340\":1,\"9341\":1,\"9342\":1,\"9343\":1,\"9344\":1,\"9345\":6,\"9346\":1,\"9347\":1,\"9348\":1,\"9349\":1,\"9350\":5,\"9351\":1,\"9352\":2,\"9353\":5,\"9354\":3,\"9355\":1,\"9356\":1,\"9357\":1,\"9358\":1,\"9359\":1,\"9360\":1,\"9361\":2,\"9362\":1,\"9363\":1,\"9364\":1,\"9365\":1,\"9366\":1,\"9367\":1,\"9368\":1,\"9369\":1,\"9370\":1,\"9371\":1,\"9372\":1,\"9373\":1,\"9374\":5,\"9375\":1,\"9376\":1,\"9377\":2,\"9378\":5,\"9379\":1,\"9380\":5,\"9381\":1,\"9382\":2,\"9383\":1,\"9384\":1,\"9385\":1,\"9386\":1,\"9387\":1,\"9388\":1,\"9389\":1,\"9390\":1,\"9391\":1,\"9392\":1,\"9393\":5,\"9394\":1,\"9395\":1,\"9396\":1,\"9397\":1,\"9398\":1,\"9399\":2,\"9400\":1,\"9401\":1,\"9402\":2,\"9403\":1,\"9404\":1,\"9405\":1,\"9406\":4,\"9407\":1,\"9408\":1,\"9409\":1,\"9410\":1,\"9411\":1,\"9412\":1,\"9413\":1,\"9414\":3,\"9415\":1,\"9416\":1,\"9417\":1,\"9418\":3,\"9419\":1,\"9420\":2,\"9421\":5,\"9422\":1,\"9423\":1,\"9424\":1,\"9425\":1,\"9426\":2,\"9427\":3,\"9428\":1,\"9429\":2,\"9430\":2,\"9431\":1,\"9432\":5,\"9433\":1,\"9434\":2,\"9435\":1,\"9436\":1,\"9437\":1,\"9438\":1,\"9439\":1,\"9440\":1,\"9441\":2,\"9442\":1,\"9443\":6,\"9444\":2,\"9445\":3,\"9446\":1,\"9447\":3,\"9448\":2,\"9449\":1,\"9450\":1,\"9451\":2,\"9452\":1,\"9453\":1,\"9454\":5,\"9455\":1,\"9456\":1,\"9457\":2,\"9458\":1,\"9459\":5,\"9460\":2,\"9461\":1,\"9462\":2,\"9463\":1,\"9464\":1,\"9465\":1,\"9466\":1,\"9467\":2,\"9468\":2,\"9469\":1,\"9470\":1,\"9471\":1,\"9472\":1,\"9473\":1,\"9474\":1,\"9475\":5,\"9476\":1,\"9477\":1,\"9478\":3,\"9479\":2,\"9480\":4,\"9481\":2,\"9482\":1,\"9483\":1,\"9484\":1,\"9485\":1,\"9486\":5,\"9487\":1,\"9488\":1,\"9489\":1,\"9490\":1,\"9491\":1,\"9492\":1,\"9493\":1,\"9494\":5,\"9495\":2,\"9496\":1,\"9497\":1,\"9498\":2,\"9499\":1,\"9500\":1,\"9501\":1,\"9502\":3,\"9503\":5,\"9504\":6,\"9505\":3,\"9506\":1,\"9507\":1,\"9508\":1,\"9509\":5,\"9510\":1,\"9511\":1,\"9512\":1,\"9513\":1,\"9514\":1,\"9515\":1,\"9516\":2,\"9517\":3,\"9518\":1,\"9519\":6,\"9520\":1,\"9521\":1,\"9522\":1,\"9523\":1,\"9524\":1,\"9525\":1,\"9526\":1,\"9527\":5,\"9528\":1,\"9529\":1,\"9530\":1,\"9531\":1,\"9532\":1,\"9533\":2,\"9534\":1,\"9535\":1,\"9536\":5,\"9537\":1,\"9538\":1,\"9539\":1,\"9540\":1,\"9541\":1,\"9542\":1,\"9543\":1,\"9544\":1,\"9545\":1,\"9546\":1,\"9547\":1,\"9548\":1,\"9549\":5,\"9550\":1,\"9551\":2,\"9552\":1,\"9553\":2,\"9554\":1,\"9555\":1,\"9556\":1,\"9557\":1,\"9558\":1,\"9559\":5,\"9560\":1,\"9561\":2,\"9562\":2,\"9563\":2,\"9564\":1,\"9565\":4,\"9566\":5,\"9567\":5,\"9568\":1,\"9569\":1,\"9570\":1,\"9571\":5,\"9572\":3,\"9573\":1,\"9574\":1,\"9575\":1,\"9576\":1,\"9577\":1,\"9578\":1,\"9579\":1,\"9580\":1,\"9581\":6,\"9582\":1,\"9583\":1,\"9584\":1,\"9585\":1,\"9586\":2,\"9587\":1,\"9588\":1,\"9589\":1,\"9590\":5,\"9591\":3,\"9592\":6,\"9593\":1,\"9594\":1,\"9595\":1,\"9596\":6,\"9597\":1,\"9598\":2,\"9599\":1,\"9600\":1,\"9601\":2,\"9602\":1,\"9603\":2,\"9604\":2,\"9605\":5,\"9606\":2,\"9607\":1,\"9608\":3,\"9609\":1,\"9610\":1,\"9611\":2,\"9612\":1,\"9613\":1,\"9614\":1,\"9615\":1,\"9616\":1,\"9617\":2,\"9618\":1,\"9619\":1,\"9620\":1,\"9621\":1,\"9622\":1,\"9623\":1,\"9624\":5,\"9625\":1,\"9626\":1,\"9627\":3,\"9628\":3,\"9629\":1,\"9630\":1,\"9631\":1,\"9632\":5,\"9633\":1,\"9634\":5,\"9635\":5,\"9636\":1,\"9637\":1,\"9638\":1,\"9639\":1,\"9640\":1,\"9641\":1,\"9642\":4,\"9643\":1,\"9644\":1,\"9645\":1,\"9646\":1,\"9647\":1,\"9648\":1,\"9649\":1,\"9650\":1,\"9651\":2,\"9652\":1,\"9653\":1,\"9654\":2,\"9655\":1,\"9656\":5,\"9657\":1,\"9658\":1,\"9659\":1,\"9660\":1,\"9661\":4,\"9662\":1,\"9663\":1,\"9664\":2,\"9665\":1,\"9666\":1,\"9667\":3,\"9668\":1,\"9669\":1,\"9670\":1,\"9671\":2,\"9672\":1,\"9673\":1,\"9674\":1,\"9675\":5,\"9676\":1,\"9677\":1,\"9678\":6,\"9679\":1,\"9680\":5,\"9681\":2,\"9682\":1,\"9683\":1,\"9684\":1,\"9685\":1,\"9686\":1,\"9687\":1,\"9688\":1,\"9689\":5,\"9690\":1,\"9691\":1,\"9692\":2,\"9693\":1,\"9694\":1,\"9695\":2,\"9696\":1,\"9697\":2,\"9698\":5,\"9699\":1,\"9700\":1,\"9701\":2,\"9702\":1,\"9703\":1,\"9704\":1,\"9705\":2,\"9706\":5,\"9707\":2,\"9708\":1,\"9709\":5,\"9710\":1,\"9711\":1,\"9712\":1,\"9713\":1,\"9714\":1,\"9715\":1,\"9716\":2,\"9717\":1,\"9718\":2,\"9719\":1,\"9720\":1,\"9721\":1,\"9722\":5,\"9723\":1,\"9724\":6,\"9725\":1,\"9726\":2,\"9727\":3,\"9728\":1,\"9729\":2,\"9730\":1,\"9731\":2,\"9732\":1,\"9733\":1,\"9734\":1,\"9735\":1,\"9736\":1,\"9737\":1,\"9738\":1,\"9739\":3,\"9740\":1,\"9741\":1,\"9742\":1,\"9743\":1,\"9744\":4,\"9745\":1,\"9746\":2,\"9747\":1,\"9748\":1,\"9749\":1,\"9750\":1,\"9751\":1,\"9752\":2,\"9753\":1,\"9754\":1,\"9755\":1,\"9756\":3,\"9757\":1,\"9758\":1,\"9759\":6,\"9760\":3,\"9761\":1,\"9762\":1,\"9763\":1,\"9764\":1,\"9765\":1,\"9766\":1,\"9767\":3,\"9768\":1,\"9769\":1,\"9770\":2,\"9771\":1,\"9772\":1,\"9773\":3,\"9774\":1,\"9775\":1,\"9776\":5,\"9777\":1,\"9778\":1,\"9779\":1,\"9780\":2,\"9781\":1,\"9782\":1,\"9783\":1,\"9784\":1,\"9785\":1,\"9786\":5,\"9787\":1,\"9788\":1,\"9789\":2,\"9790\":1,\"9791\":5,\"9792\":5,\"9793\":1,\"9794\":4,\"9795\":1,\"9796\":1,\"9797\":1,\"9798\":1,\"9799\":1,\"9800\":1,\"9801\":1,\"9802\":1,\"9803\":3,\"9804\":1,\"9805\":1,\"9806\":1,\"9807\":3,\"9808\":2,\"9809\":2,\"9810\":1,\"9811\":1,\"9812\":1,\"9813\":1,\"9814\":1,\"9815\":1,\"9816\":1,\"9817\":1,\"9818\":6,\"9819\":1,\"9820\":1,\"9821\":2,\"9822\":1,\"9823\":1,\"9824\":1,\"9825\":1,\"9826\":1,\"9827\":1,\"9828\":1,\"9829\":1,\"9830\":1,\"9831\":1,\"9832\":1,\"9833\":1,\"9834\":1,\"9835\":2,\"9836\":1,\"9837\":3,\"9838\":1,\"9839\":1,\"9840\":1,\"9841\":1,\"9842\":1,\"9843\":2,\"9844\":1,\"9845\":1,\"9846\":2,\"9847\":1,\"9848\":1,\"9849\":2,\"9850\":1,\"9851\":1,\"9852\":1,\"9853\":1,\"9854\":1,\"9855\":1,\"9856\":1,\"9857\":1,\"9858\":2,\"9859\":1,\"9860\":1,\"9861\":1,\"9862\":1,\"9863\":2,\"9864\":1,\"9865\":2,\"9866\":1,\"9867\":1,\"9868\":2,\"9869\":1,\"9870\":1,\"9871\":2,\"9872\":1,\"9873\":1,\"9874\":5,\"9875\":2,\"9876\":1,\"9877\":1,\"9878\":1,\"9879\":1,\"9880\":2,\"9881\":1,\"9882\":1,\"9883\":1,\"9884\":1,\"9885\":1,\"9886\":2,\"9887\":1,\"9888\":3,\"9889\":5,\"9890\":1,\"9891\":2,\"9892\":1,\"9893\":1,\"9894\":1,\"9895\":1,\"9896\":2,\"9897\":6,\"9898\":1,\"9899\":5,\"9900\":1,\"9901\":1,\"9902\":1,\"9903\":1,\"9904\":6,\"9905\":1,\"9906\":1,\"9907\":1,\"9908\":1,\"9909\":1,\"9910\":1,\"9911\":1,\"9912\":1,\"9913\":1,\"9914\":3,\"9915\":2,\"9916\":1,\"9917\":1,\"9918\":1,\"9919\":1,\"9920\":1,\"9921\":1,\"9922\":6,\"9923\":1,\"9924\":1,\"9925\":1,\"9926\":1,\"9927\":1,\"9928\":1,\"9929\":1,\"9930\":1,\"9931\":1,\"9932\":1,\"9933\":1,\"9934\":1,\"9935\":2,\"9936\":1,\"9937\":1,\"9938\":1,\"9939\":1,\"9940\":1,\"9941\":2,\"9942\":1,\"9943\":1,\"9944\":1,\"9945\":2,\"9946\":3,\"9947\":1,\"9948\":1,\"9949\":1,\"9950\":1,\"9951\":2,\"9952\":6,\"9953\":6,\"9954\":1,\"9955\":1,\"9956\":1,\"9957\":1,\"9958\":1,\"9959\":1,\"9960\":5,\"9961\":6,\"9962\":1,\"9963\":6,\"9964\":1,\"9965\":2,\"9966\":2,\"9967\":1,\"9968\":1,\"9969\":1,\"9970\":1,\"9971\":1,\"9972\":1,\"9973\":1,\"9974\":1,\"9975\":1,\"9976\":1,\"9977\":1,\"9978\":1,\"9979\":1,\"9980\":1,\"9981\":1,\"9982\":1,\"9983\":3,\"9984\":1,\"9985\":2,\"9986\":1,\"9987\":1,\"9988\":1,\"9989\":6,\"9990\":1,\"9991\":1,\"9992\":1,\"9993\":1,\"9994\":1,\"9995\":1,\"9996\":1,\"9997\":6,\"9998\":1},\"trip_distance\":{\"0\":1.63,\"1\":0.46,\"2\":0.87,\"3\":2.13,\"4\":1.4,\"5\":1.4,\"6\":1.8,\"7\":11.9,\"8\":1.27,\"9\":0.6,\"10\":0.01,\"11\":1.65,\"12\":1.14,\"13\":0.5,\"14\":1.28,\"15\":0.6,\"16\":1.41,\"17\":0.7,\"18\":1.9,\"19\":1.1,\"20\":3.9,\"21\":1.99,\"22\":1.94,\"23\":1.1,\"24\":3.8,\"25\":1.2,\"26\":0.94,\"27\":1.35,\"28\":1.9,\"29\":1.3,\"30\":0.81,\"31\":1.92,\"32\":0.7,\"33\":0.8,\"34\":0.85,\"35\":2.06,\"36\":1.3,\"37\":0.8,\"38\":0.5,\"39\":5.28,\"40\":0.8,\"41\":0.69,\"42\":0.41,\"43\":5.3,\"44\":1.3,\"45\":0.7,\"46\":1.6,\"47\":0.99,\"48\":1.6,\"49\":0.57,\"50\":4.0,\"51\":1.7,\"52\":1.62,\"53\":2.05,\"54\":2.0,\"55\":2.1,\"56\":4.71,\"57\":3.15,\"58\":3.07,\"59\":0.9,\"60\":9.3,\"61\":1.7,\"62\":0.51,\"63\":5.8,\"64\":1.6,\"65\":3.8,\"66\":1.5,\"67\":2.5,\"68\":2.1,\"69\":0.89,\"70\":0.83,\"71\":0.88,\"72\":6.24,\"73\":12.65,\"74\":0.76,\"75\":1.8,\"76\":1.0,\"77\":1.34,\"78\":2.0,\"79\":1.99,\"80\":0.95,\"81\":0.78,\"82\":10.24,\"83\":1.2,\"84\":1.95,\"85\":0.76,\"86\":0.5,\"87\":0.76,\"88\":23.76,\"89\":2.61,\"90\":0.9,\"91\":2.43,\"92\":8.2,\"93\":1.9,\"94\":0.81,\"95\":0.91,\"96\":1.4,\"97\":2.8,\"98\":1.8,\"99\":1.85,\"100\":0.7,\"101\":3.46,\"102\":1.14,\"103\":2.2,\"104\":2.0,\"105\":1.8,\"106\":2.33,\"107\":1.48,\"108\":5.5,\"109\":1.54,\"110\":1.75,\"111\":4.8,\"112\":3.85,\"113\":9.1,\"114\":0.87,\"115\":0.8,\"116\":1.7,\"117\":1.7,\"118\":0.7,\"119\":2.5,\"120\":0.5,\"121\":2.7,\"122\":1.1,\"123\":0.5,\"124\":10.6,\"125\":0.4,\"126\":1.06,\"127\":1.52,\"128\":3.46,\"129\":3.17,\"130\":0.63,\"131\":1.72,\"132\":1.3,\"133\":0.9,\"134\":1.33,\"135\":6.2,\"136\":1.93,\"137\":0.8,\"138\":0.3,\"139\":0.3,\"140\":0.52,\"141\":0.55,\"142\":0.6,\"143\":3.4,\"144\":7.4,\"145\":0.8,\"146\":1.21,\"147\":0.91,\"148\":12.35,\"149\":0.0,\"150\":1.45,\"151\":1.2,\"152\":7.35,\"153\":5.8,\"154\":4.45,\"155\":11.6,\"156\":1.71,\"157\":0.7,\"158\":1.0,\"159\":2.27,\"160\":2.4,\"161\":0.7,\"162\":0.1,\"163\":1.49,\"164\":1.2,\"165\":0.8,\"166\":0.48,\"167\":7.3,\"168\":0.98,\"169\":2.9,\"170\":4.8,\"171\":1.34,\"172\":1.69,\"173\":1.11,\"174\":6.65,\"175\":0.4,\"176\":0.76,\"177\":6.93,\"178\":2.6,\"179\":0.97,\"180\":1.0,\"181\":2.2,\"182\":0.9,\"183\":1.91,\"184\":0.82,\"185\":1.0,\"186\":1.2,\"187\":1.05,\"188\":1.84,\"189\":0.86,\"190\":1.06,\"191\":2.68,\"192\":0.6,\"193\":0.3,\"194\":1.97,\"195\":1.0,\"196\":0.5,\"197\":7.45,\"198\":1.74,\"199\":0.74,\"200\":1.87,\"201\":1.24,\"202\":7.07,\"203\":0.81,\"204\":1.08,\"205\":1.1,\"206\":1.6,\"207\":1.79,\"208\":4.3,\"209\":2.1,\"210\":1.92,\"211\":10.85,\"212\":1.5,\"213\":0.5,\"214\":1.53,\"215\":2.1,\"216\":0.46,\"217\":14.84,\"218\":4.3,\"219\":1.57,\"220\":1.0,\"221\":1.46,\"222\":6.53,\"223\":2.1,\"224\":0.38,\"225\":1.17,\"226\":0.71,\"227\":2.5,\"228\":2.14,\"229\":1.2,\"230\":1.1,\"231\":1.68,\"232\":4.2,\"233\":1.27,\"234\":1.1,\"235\":0.96,\"236\":0.5,\"237\":1.7,\"238\":18.32,\"239\":1.22,\"240\":4.45,\"241\":2.1,\"242\":0.57,\"243\":1.14,\"244\":1.6,\"245\":2.3,\"246\":0.0,\"247\":1.15,\"248\":1.4,\"249\":1.0,\"250\":1.5,\"251\":1.48,\"252\":4.31,\"253\":1.04,\"254\":6.24,\"255\":0.9,\"256\":2.8,\"257\":5.86,\"258\":3.73,\"259\":1.11,\"260\":0.8,\"261\":0.65,\"262\":12.72,\"263\":3.11,\"264\":13.4,\"265\":1.24,\"266\":10.77,\"267\":0.59,\"268\":1.34,\"269\":1.1,\"270\":1.35,\"271\":10.3,\"272\":0.5,\"273\":0.69,\"274\":0.33,\"275\":0.7,\"276\":0.8,\"277\":3.1,\"278\":0.8,\"279\":1.53,\"280\":3.4,\"281\":5.7,\"282\":13.3,\"283\":8.15,\"284\":1.89,\"285\":3.9,\"286\":9.96,\"287\":1.5,\"288\":0.7,\"289\":1.47,\"290\":0.83,\"291\":1.89,\"292\":0.67,\"293\":2.5,\"294\":1.2,\"295\":3.8,\"296\":10.4,\"297\":0.0,\"298\":1.05,\"299\":2.04,\"300\":2.71,\"301\":3.09,\"302\":0.5,\"303\":11.08,\"304\":4.6,\"305\":0.7,\"306\":1.04,\"307\":0.75,\"308\":2.1,\"309\":1.78,\"310\":1.5,\"311\":2.12,\"312\":3.82,\"313\":1.8,\"314\":0.8,\"315\":0.3,\"316\":0.32,\"317\":2.3,\"318\":1.0,\"319\":1.4,\"320\":0.85,\"321\":1.09,\"322\":0.71,\"323\":1.8,\"324\":0.72,\"325\":9.44,\"326\":1.01,\"327\":1.6,\"328\":2.2,\"329\":10.5,\"330\":0.5,\"331\":0.6,\"332\":1.45,\"333\":1.2,\"334\":0.09,\"335\":8.1,\"336\":7.5,\"337\":2.7,\"338\":3.58,\"339\":1.7,\"340\":5.5,\"341\":1.8,\"342\":3.5,\"343\":1.76,\"344\":2.0,\"345\":0.54,\"346\":14.27,\"347\":0.96,\"348\":1.6,\"349\":2.2,\"350\":3.28,\"351\":3.0,\"352\":1.2,\"353\":9.55,\"354\":1.07,\"355\":2.1,\"356\":6.6,\"357\":3.53,\"358\":2.0,\"359\":0.76,\"360\":0.6,\"361\":0.93,\"362\":0.6,\"363\":1.59,\"364\":1.8,\"365\":0.7,\"366\":0.5,\"367\":1.75,\"368\":10.6,\"369\":2.7,\"370\":7.45,\"371\":2.12,\"372\":2.14,\"373\":0.8,\"374\":7.0,\"375\":0.5,\"376\":0.85,\"377\":0.84,\"378\":1.1,\"379\":16.38,\"380\":0.77,\"381\":1.1,\"382\":1.8,\"383\":1.1,\"384\":10.0,\"385\":0.7,\"386\":2.18,\"387\":7.8,\"388\":0.99,\"389\":2.5,\"390\":1.28,\"391\":3.95,\"392\":2.24,\"393\":1.9,\"394\":1.3,\"395\":2.25,\"396\":1.22,\"397\":11.7,\"398\":2.24,\"399\":1.38,\"400\":1.0,\"401\":2.06,\"402\":0.7,\"403\":1.93,\"404\":6.0,\"405\":1.45,\"406\":2.6,\"407\":2.6,\"408\":6.74,\"409\":1.2,\"410\":0.87,\"411\":3.5,\"412\":0.38,\"413\":10.49,\"414\":0.9,\"415\":0.24,\"416\":1.06,\"417\":1.2,\"418\":1.47,\"419\":0.8,\"420\":0.85,\"421\":1.05,\"422\":1.5,\"423\":1.27,\"424\":2.0,\"425\":2.0,\"426\":12.72,\"427\":0.8,\"428\":1.7,\"429\":0.52,\"430\":0.8,\"431\":1.33,\"432\":3.6,\"433\":0.5,\"434\":1.39,\"435\":1.3,\"436\":1.3,\"437\":1.51,\"438\":2.4,\"439\":1.46,\"440\":0.9,\"441\":1.56,\"442\":1.9,\"443\":1.55,\"444\":6.31,\"445\":3.22,\"446\":0.9,\"447\":12.5,\"448\":15.25,\"449\":1.82,\"450\":1.46,\"451\":1.91,\"452\":5.5,\"453\":0.55,\"454\":2.89,\"455\":5.56,\"456\":1.1,\"457\":4.76,\"458\":1.0,\"459\":1.1,\"460\":2.1,\"461\":1.1,\"462\":1.6,\"463\":1.78,\"464\":0.8,\"465\":11.16,\"466\":1.57,\"467\":1.1,\"468\":0.99,\"469\":1.03,\"470\":0.9,\"471\":1.6,\"472\":0.67,\"473\":3.5,\"474\":7.86,\"475\":1.8,\"476\":2.2,\"477\":1.1,\"478\":0.6,\"479\":2.4,\"480\":0.95,\"481\":8.3,\"482\":6.8,\"483\":0.19,\"484\":1.2,\"485\":0.78,\"486\":2.23,\"487\":0.4,\"488\":10.99,\"489\":4.4,\"490\":1.06,\"491\":0.9,\"492\":2.2,\"493\":2.35,\"494\":2.9,\"495\":1.26,\"496\":1.0,\"497\":2.94,\"498\":0.8,\"499\":0.4,\"500\":1.6,\"501\":1.8,\"502\":2.81,\"503\":1.4,\"504\":4.7,\"505\":2.1,\"506\":4.11,\"507\":0.8,\"508\":0.9,\"509\":16.82,\"510\":1.2,\"511\":1.5,\"512\":0.6,\"513\":1.58,\"514\":1.13,\"515\":1.4,\"516\":0.03,\"517\":0.6,\"518\":3.87,\"519\":1.0,\"520\":1.5,\"521\":1.7,\"522\":1.7,\"523\":1.3,\"524\":4.5,\"525\":1.05,\"526\":1.81,\"527\":4.07,\"528\":1.11,\"529\":1.2,\"530\":0.8,\"531\":0.3,\"532\":2.0,\"533\":1.92,\"534\":1.0,\"535\":1.08,\"536\":0.6,\"537\":1.2,\"538\":0.92,\"539\":1.2,\"540\":3.95,\"541\":1.4,\"542\":8.5,\"543\":3.04,\"544\":1.2,\"545\":0.5,\"546\":0.58,\"547\":2.5,\"548\":4.21,\"549\":0.6,\"550\":5.92,\"551\":7.6,\"552\":1.4,\"553\":3.0,\"554\":0.48,\"555\":6.0,\"556\":0.79,\"557\":12.3,\"558\":1.78,\"559\":2.4,\"560\":0.62,\"561\":1.0,\"562\":1.1,\"563\":2.6,\"564\":8.1,\"565\":1.7,\"566\":1.3,\"567\":1.49,\"568\":3.7,\"569\":1.69,\"570\":1.47,\"571\":1.0,\"572\":2.3,\"573\":0.75,\"574\":2.0,\"575\":0.75,\"576\":0.5,\"577\":1.2,\"578\":6.22,\"579\":6.4,\"580\":1.29,\"581\":3.34,\"582\":1.0,\"583\":3.79,\"584\":0.7,\"585\":5.43,\"586\":1.28,\"587\":2.03,\"588\":1.61,\"589\":3.22,\"590\":6.4,\"591\":1.2,\"592\":3.32,\"593\":2.01,\"594\":0.6,\"595\":1.46,\"596\":0.7,\"597\":0.3,\"598\":0.9,\"599\":8.33,\"600\":1.1,\"601\":0.33,\"602\":2.9,\"603\":0.44,\"604\":0.9,\"605\":0.6,\"606\":4.17,\"607\":8.01,\"608\":0.8,\"609\":2.24,\"610\":1.3,\"611\":1.93,\"612\":2.15,\"613\":1.5,\"614\":0.73,\"615\":5.4,\"616\":3.48,\"617\":0.6,\"618\":0.58,\"619\":5.76,\"620\":0.4,\"621\":0.86,\"622\":1.6,\"623\":3.05,\"624\":1.5,\"625\":1.0,\"626\":0.58,\"627\":1.4,\"628\":1.41,\"629\":0.7,\"630\":1.73,\"631\":6.0,\"632\":0.7,\"633\":0.4,\"634\":3.49,\"635\":0.7,\"636\":1.76,\"637\":1.0,\"638\":3.2,\"639\":5.5,\"640\":1.22,\"641\":19.72,\"642\":0.5,\"643\":0.71,\"644\":0.5,\"645\":1.1,\"646\":1.0,\"647\":1.1,\"648\":1.16,\"649\":2.0,\"650\":1.9,\"651\":3.7,\"652\":0.6,\"653\":2.3,\"654\":2.68,\"655\":0.64,\"656\":2.1,\"657\":0.0,\"658\":0.64,\"659\":1.59,\"660\":0.0,\"661\":2.08,\"662\":1.4,\"663\":17.87,\"664\":1.4,\"665\":1.7,\"666\":2.68,\"667\":1.61,\"668\":2.0,\"669\":6.0,\"670\":0.7,\"671\":1.0,\"672\":0.6,\"673\":18.08,\"674\":4.71,\"675\":1.16,\"676\":1.74,\"677\":1.7,\"678\":1.24,\"679\":0.8,\"680\":1.0,\"681\":2.0,\"682\":2.3,\"683\":0.68,\"684\":6.3,\"685\":0.9,\"686\":1.0,\"687\":1.08,\"688\":0.6,\"689\":1.04,\"690\":1.9,\"691\":7.09,\"692\":4.29,\"693\":1.1,\"694\":2.25,\"695\":1.65,\"696\":1.81,\"697\":1.07,\"698\":1.34,\"699\":4.71,\"700\":0.82,\"701\":2.02,\"702\":0.97,\"703\":1.5,\"704\":1.6,\"705\":0.48,\"706\":1.1,\"707\":2.51,\"708\":0.0,\"709\":0.7,\"710\":0.84,\"711\":9.4,\"712\":0.7,\"713\":1.8,\"714\":0.7,\"715\":0.9,\"716\":1.8,\"717\":1.69,\"718\":0.8,\"719\":3.67,\"720\":1.3,\"721\":1.47,\"722\":0.9,\"723\":17.2,\"724\":1.68,\"725\":1.8,\"726\":0.8,\"727\":3.2,\"728\":7.1,\"729\":1.89,\"730\":1.7,\"731\":1.1,\"732\":0.64,\"733\":1.21,\"734\":0.9,\"735\":0.77,\"736\":4.27,\"737\":3.2,\"738\":1.8,\"739\":2.3,\"740\":1.1,\"741\":0.63,\"742\":1.6,\"743\":1.1,\"744\":4.38,\"745\":4.2,\"746\":1.95,\"747\":0.73,\"748\":3.0,\"749\":2.57,\"750\":0.7,\"751\":3.51,\"752\":1.2,\"753\":4.82,\"754\":4.8,\"755\":1.06,\"756\":4.93,\"757\":0.68,\"758\":2.3,\"759\":1.39,\"760\":2.0,\"761\":1.33,\"762\":0.8,\"763\":0.97,\"764\":1.86,\"765\":2.1,\"766\":3.54,\"767\":0.6,\"768\":1.0,\"769\":0.6,\"770\":0.43,\"771\":3.0,\"772\":5.8,\"773\":1.6,\"774\":1.28,\"775\":2.19,\"776\":1.3,\"777\":0.8,\"778\":2.8,\"779\":1.38,\"780\":0.9,\"781\":4.1,\"782\":2.0,\"783\":7.46,\"784\":1.0,\"785\":0.95,\"786\":1.62,\"787\":2.1,\"788\":2.0,\"789\":0.9,\"790\":1.09,\"791\":3.1,\"792\":0.52,\"793\":0.94,\"794\":1.87,\"795\":2.7,\"796\":0.99,\"797\":2.0,\"798\":0.69,\"799\":5.93,\"800\":1.69,\"801\":1.8,\"802\":2.81,\"803\":4.67,\"804\":1.75,\"805\":0.2,\"806\":4.21,\"807\":2.6,\"808\":4.3,\"809\":35.51,\"810\":4.16,\"811\":0.7,\"812\":1.5,\"813\":1.4,\"814\":2.72,\"815\":5.51,\"816\":0.8,\"817\":1.7,\"818\":3.71,\"819\":2.5,\"820\":2.49,\"821\":6.7,\"822\":0.31,\"823\":5.2,\"824\":3.5,\"825\":1.81,\"826\":1.36,\"827\":1.2,\"828\":0.9,\"829\":0.9,\"830\":0.3,\"831\":1.0,\"832\":3.15,\"833\":1.38,\"834\":1.09,\"835\":1.4,\"836\":2.04,\"837\":2.21,\"838\":4.28,\"839\":0.97,\"840\":14.53,\"841\":2.4,\"842\":0.8,\"843\":3.5,\"844\":1.6,\"845\":0.77,\"846\":2.79,\"847\":3.9,\"848\":1.93,\"849\":10.74,\"850\":4.35,\"851\":1.2,\"852\":0.7,\"853\":2.19,\"854\":3.8,\"855\":0.6,\"856\":1.39,\"857\":0.8,\"858\":0.7,\"859\":1.4,\"860\":0.8,\"861\":1.7,\"862\":0.5,\"863\":1.4,\"864\":2.2,\"865\":1.4,\"866\":1.2,\"867\":3.77,\"868\":0.8,\"869\":1.67,\"870\":1.03,\"871\":2.6,\"872\":0.5,\"873\":1.13,\"874\":5.09,\"875\":1.25,\"876\":1.7,\"877\":1.6,\"878\":1.6,\"879\":13.26,\"880\":6.1,\"881\":1.45,\"882\":1.0,\"883\":2.22,\"884\":11.68,\"885\":1.2,\"886\":0.7,\"887\":17.7,\"888\":17.56,\"889\":1.58,\"890\":1.6,\"891\":2.9,\"892\":3.28,\"893\":1.32,\"894\":0.3,\"895\":1.23,\"896\":0.8,\"897\":0.7,\"898\":0.49,\"899\":0.6,\"900\":0.49,\"901\":1.02,\"902\":3.2,\"903\":2.57,\"904\":10.74,\"905\":2.95,\"906\":0.9,\"907\":2.0,\"908\":0.45,\"909\":0.87,\"910\":1.8,\"911\":4.6,\"912\":8.5,\"913\":0.4,\"914\":0.3,\"915\":0.9,\"916\":5.24,\"917\":1.0,\"918\":8.8,\"919\":1.21,\"920\":8.6,\"921\":1.1,\"922\":3.54,\"923\":0.6,\"924\":2.04,\"925\":1.68,\"926\":2.69,\"927\":0.77,\"928\":6.41,\"929\":2.2,\"930\":1.9,\"931\":1.13,\"932\":0.93,\"933\":1.15,\"934\":0.93,\"935\":10.64,\"936\":1.49,\"937\":0.6,\"938\":0.9,\"939\":2.8,\"940\":1.6,\"941\":1.3,\"942\":0.96,\"943\":1.38,\"944\":0.55,\"945\":3.0,\"946\":2.0,\"947\":7.7,\"948\":12.4,\"949\":0.51,\"950\":0.5,\"951\":0.9,\"952\":1.67,\"953\":2.5,\"954\":1.0,\"955\":1.1,\"956\":2.45,\"957\":0.6,\"958\":1.73,\"959\":0.92,\"960\":10.6,\"961\":0.8,\"962\":1.2,\"963\":9.3,\"964\":1.19,\"965\":1.12,\"966\":1.87,\"967\":0.79,\"968\":2.5,\"969\":8.5,\"970\":2.07,\"971\":1.25,\"972\":1.5,\"973\":0.63,\"974\":0.97,\"975\":1.3,\"976\":1.1,\"977\":7.2,\"978\":1.4,\"979\":1.13,\"980\":0.0,\"981\":4.1,\"982\":1.31,\"983\":5.44,\"984\":0.87,\"985\":0.9,\"986\":0.78,\"987\":2.9,\"988\":2.49,\"989\":0.67,\"990\":1.14,\"991\":5.41,\"992\":0.92,\"993\":0.55,\"994\":0.81,\"995\":18.04,\"996\":1.12,\"997\":1.77,\"998\":2.1,\"999\":1.83,\"1000\":2.2,\"1001\":0.3,\"1002\":1.3,\"1003\":2.17,\"1004\":3.3,\"1005\":1.07,\"1006\":0.7,\"1007\":1.59,\"1008\":0.6,\"1009\":4.2,\"1010\":5.4,\"1011\":0.31,\"1012\":2.48,\"1013\":0.58,\"1014\":0.0,\"1015\":3.7,\"1016\":0.74,\"1017\":2.8,\"1018\":6.3,\"1019\":2.56,\"1020\":2.31,\"1021\":0.81,\"1022\":1.5,\"1023\":1.6,\"1024\":1.4,\"1025\":0.9,\"1026\":6.2,\"1027\":0.7,\"1028\":2.86,\"1029\":0.8,\"1030\":1.75,\"1031\":0.89,\"1032\":4.11,\"1033\":3.71,\"1034\":2.14,\"1035\":1.06,\"1036\":2.0,\"1037\":0.7,\"1038\":1.26,\"1039\":8.14,\"1040\":0.97,\"1041\":4.3,\"1042\":0.41,\"1043\":2.76,\"1044\":1.73,\"1045\":1.1,\"1046\":3.89,\"1047\":9.72,\"1048\":1.1,\"1049\":1.5,\"1050\":1.5,\"1051\":6.1,\"1052\":0.23,\"1053\":8.07,\"1054\":7.9,\"1055\":2.1,\"1056\":1.86,\"1057\":1.2,\"1058\":2.33,\"1059\":1.5,\"1060\":0.6,\"1061\":3.2,\"1062\":2.0,\"1063\":1.12,\"1064\":0.4,\"1065\":0.5,\"1066\":3.65,\"1067\":0.7,\"1068\":1.0,\"1069\":2.05,\"1070\":2.39,\"1071\":1.2,\"1072\":3.2,\"1073\":0.72,\"1074\":11.1,\"1075\":1.32,\"1076\":0.9,\"1077\":0.9,\"1078\":0.3,\"1079\":12.3,\"1080\":0.9,\"1081\":2.6,\"1082\":1.5,\"1083\":10.1,\"1084\":5.68,\"1085\":1.0,\"1086\":1.62,\"1087\":2.31,\"1088\":1.8,\"1089\":1.1,\"1090\":2.65,\"1091\":1.57,\"1092\":1.6,\"1093\":2.2,\"1094\":0.42,\"1095\":2.53,\"1096\":0.6,\"1097\":0.9,\"1098\":0.9,\"1099\":2.01,\"1100\":1.74,\"1101\":1.0,\"1102\":0.62,\"1103\":3.71,\"1104\":1.02,\"1105\":0.77,\"1106\":0.45,\"1107\":14.23,\"1108\":0.39,\"1109\":0.4,\"1110\":4.66,\"1111\":0.6,\"1112\":2.41,\"1113\":2.37,\"1114\":3.21,\"1115\":0.7,\"1116\":2.9,\"1117\":1.7,\"1118\":1.64,\"1119\":18.84,\"1120\":0.68,\"1121\":0.3,\"1122\":1.1,\"1123\":0.8,\"1124\":3.12,\"1125\":1.8,\"1126\":0.66,\"1127\":1.04,\"1128\":0.8,\"1129\":12.0,\"1130\":1.4,\"1131\":1.1,\"1132\":0.67,\"1133\":0.72,\"1134\":1.09,\"1135\":1.28,\"1136\":2.2,\"1137\":1.81,\"1138\":2.7,\"1139\":0.67,\"1140\":17.3,\"1141\":1.4,\"1142\":1.6,\"1143\":0.46,\"1144\":7.38,\"1145\":0.8,\"1146\":0.8,\"1147\":3.93,\"1148\":1.57,\"1149\":0.79,\"1150\":1.0,\"1151\":1.83,\"1152\":0.7,\"1153\":6.6,\"1154\":0.7,\"1155\":0.7,\"1156\":3.2,\"1157\":1.07,\"1158\":0.86,\"1159\":2.3,\"1160\":2.31,\"1161\":1.51,\"1162\":2.5,\"1163\":11.1,\"1164\":1.63,\"1165\":1.0,\"1166\":11.09,\"1167\":0.87,\"1168\":0.3,\"1169\":1.4,\"1170\":1.44,\"1171\":0.92,\"1172\":2.2,\"1173\":1.19,\"1174\":1.52,\"1175\":3.34,\"1176\":3.3,\"1177\":0.8,\"1178\":4.8,\"1179\":0.8,\"1180\":2.39,\"1181\":1.4,\"1182\":1.14,\"1183\":4.0,\"1184\":0.5,\"1185\":0.4,\"1186\":2.2,\"1187\":1.29,\"1188\":1.7,\"1189\":3.3,\"1190\":1.7,\"1191\":2.3,\"1192\":0.7,\"1193\":1.7,\"1194\":1.26,\"1195\":1.57,\"1196\":9.17,\"1197\":6.05,\"1198\":1.07,\"1199\":1.14,\"1200\":1.4,\"1201\":0.71,\"1202\":0.9,\"1203\":0.81,\"1204\":2.9,\"1205\":1.6,\"1206\":3.0,\"1207\":1.3,\"1208\":1.28,\"1209\":1.0,\"1210\":0.5,\"1211\":1.13,\"1212\":12.2,\"1213\":0.64,\"1214\":4.8,\"1215\":0.63,\"1216\":0.78,\"1217\":0.5,\"1218\":0.8,\"1219\":0.0,\"1220\":1.36,\"1221\":1.5,\"1222\":3.5,\"1223\":2.03,\"1224\":0.7,\"1225\":10.8,\"1226\":0.8,\"1227\":9.1,\"1228\":1.76,\"1229\":0.6,\"1230\":11.34,\"1231\":1.29,\"1232\":3.72,\"1233\":10.57,\"1234\":3.02,\"1235\":1.0,\"1236\":0.9,\"1237\":0.8,\"1238\":1.72,\"1239\":0.7,\"1240\":0.69,\"1241\":0.9,\"1242\":1.7,\"1243\":1.62,\"1244\":2.17,\"1245\":0.26,\"1246\":2.0,\"1247\":9.8,\"1248\":6.89,\"1249\":1.2,\"1250\":3.5,\"1251\":1.77,\"1252\":1.73,\"1253\":2.63,\"1254\":0.64,\"1255\":0.64,\"1256\":0.65,\"1257\":0.8,\"1258\":7.61,\"1259\":4.09,\"1260\":0.73,\"1261\":0.71,\"1262\":1.86,\"1263\":2.1,\"1264\":1.6,\"1265\":0.5,\"1266\":10.9,\"1267\":2.7,\"1268\":1.97,\"1269\":1.0,\"1270\":0.98,\"1271\":1.36,\"1272\":1.3,\"1273\":1.49,\"1274\":1.1,\"1275\":1.3,\"1276\":1.3,\"1277\":1.43,\"1278\":3.3,\"1279\":0.9,\"1280\":0.9,\"1281\":2.4,\"1282\":1.0,\"1283\":2.59,\"1284\":3.0,\"1285\":0.7,\"1286\":0.85,\"1287\":1.31,\"1288\":6.7,\"1289\":1.2,\"1290\":1.1,\"1291\":0.79,\"1292\":1.13,\"1293\":12.9,\"1294\":0.43,\"1295\":1.28,\"1296\":1.4,\"1297\":0.18,\"1298\":1.4,\"1299\":1.0,\"1300\":1.79,\"1301\":11.1,\"1302\":7.38,\"1303\":1.09,\"1304\":0.8,\"1305\":0.42,\"1306\":0.38,\"1307\":5.0,\"1308\":10.1,\"1309\":0.79,\"1310\":2.4,\"1311\":7.0,\"1312\":1.99,\"1313\":7.8,\"1314\":0.15,\"1315\":0.8,\"1316\":0.51,\"1317\":0.4,\"1318\":2.7,\"1319\":4.0,\"1320\":0.7,\"1321\":0.8,\"1322\":2.4,\"1323\":7.33,\"1324\":1.07,\"1325\":1.9,\"1326\":3.88,\"1327\":1.4,\"1328\":0.4,\"1329\":0.76,\"1330\":1.8,\"1331\":12.7,\"1332\":1.0,\"1333\":1.45,\"1334\":0.8,\"1335\":4.66,\"1336\":3.51,\"1337\":2.9,\"1338\":0.53,\"1339\":3.89,\"1340\":2.0,\"1341\":7.32,\"1342\":1.52,\"1343\":0.79,\"1344\":4.8,\"1345\":0.99,\"1346\":1.6,\"1347\":0.9,\"1348\":6.0,\"1349\":0.5,\"1350\":0.8,\"1351\":1.0,\"1352\":2.2,\"1353\":0.72,\"1354\":1.1,\"1355\":0.7,\"1356\":0.63,\"1357\":1.67,\"1358\":1.5,\"1359\":1.3,\"1360\":2.4,\"1361\":1.7,\"1362\":1.4,\"1363\":1.53,\"1364\":1.4,\"1365\":8.4,\"1366\":1.62,\"1367\":1.43,\"1368\":5.9,\"1369\":1.71,\"1370\":1.89,\"1371\":0.88,\"1372\":2.3,\"1373\":2.8,\"1374\":2.2,\"1375\":0.66,\"1376\":8.6,\"1377\":1.0,\"1378\":1.6,\"1379\":1.0,\"1380\":1.3,\"1381\":1.14,\"1382\":1.84,\"1383\":2.0,\"1384\":1.8,\"1385\":1.25,\"1386\":1.2,\"1387\":0.81,\"1388\":1.1,\"1389\":0.68,\"1390\":1.3,\"1391\":0.7,\"1392\":5.75,\"1393\":2.4,\"1394\":1.3,\"1395\":13.7,\"1396\":1.4,\"1397\":3.7,\"1398\":0.9,\"1399\":11.3,\"1400\":9.7,\"1401\":3.19,\"1402\":0.98,\"1403\":0.96,\"1404\":12.67,\"1405\":16.3,\"1406\":6.5,\"1407\":1.23,\"1408\":9.5,\"1409\":1.29,\"1410\":1.1,\"1411\":3.8,\"1412\":1.7,\"1413\":1.34,\"1414\":0.3,\"1415\":0.9,\"1416\":0.7,\"1417\":0.6,\"1418\":1.3,\"1419\":5.7,\"1420\":3.0,\"1421\":0.77,\"1422\":2.52,\"1423\":1.21,\"1424\":1.58,\"1425\":0.8,\"1426\":4.04,\"1427\":1.2,\"1428\":0.29,\"1429\":2.12,\"1430\":16.7,\"1431\":0.9,\"1432\":19.12,\"1433\":1.1,\"1434\":2.04,\"1435\":1.14,\"1436\":4.5,\"1437\":1.6,\"1438\":0.9,\"1439\":0.96,\"1440\":1.2,\"1441\":0.8,\"1442\":0.8,\"1443\":1.5,\"1444\":2.21,\"1445\":9.76,\"1446\":0.8,\"1447\":8.21,\"1448\":0.9,\"1449\":4.8,\"1450\":1.21,\"1451\":1.4,\"1452\":2.66,\"1453\":4.1,\"1454\":1.85,\"1455\":1.75,\"1456\":1.17,\"1457\":0.7,\"1458\":4.26,\"1459\":2.01,\"1460\":0.9,\"1461\":8.27,\"1462\":2.92,\"1463\":1.56,\"1464\":0.47,\"1465\":2.5,\"1466\":1.45,\"1467\":1.66,\"1468\":1.13,\"1469\":1.71,\"1470\":0.99,\"1471\":0.5,\"1472\":2.71,\"1473\":2.1,\"1474\":10.0,\"1475\":0.4,\"1476\":10.13,\"1477\":1.42,\"1478\":0.72,\"1479\":3.4,\"1480\":0.6,\"1481\":3.05,\"1482\":0.6,\"1483\":2.84,\"1484\":1.0,\"1485\":2.1,\"1486\":0.76,\"1487\":1.48,\"1488\":1.37,\"1489\":0.9,\"1490\":1.1,\"1491\":0.91,\"1492\":1.02,\"1493\":9.07,\"1494\":0.8,\"1495\":1.6,\"1496\":1.5,\"1497\":13.0,\"1498\":0.4,\"1499\":2.96,\"1500\":1.29,\"1501\":2.85,\"1502\":1.0,\"1503\":1.1,\"1504\":0.9,\"1505\":1.86,\"1506\":2.8,\"1507\":0.4,\"1508\":1.36,\"1509\":3.12,\"1510\":1.4,\"1511\":1.7,\"1512\":0.8,\"1513\":0.3,\"1514\":0.86,\"1515\":0.64,\"1516\":0.51,\"1517\":9.1,\"1518\":1.49,\"1519\":0.44,\"1520\":9.8,\"1521\":0.63,\"1522\":7.26,\"1523\":1.2,\"1524\":16.2,\"1525\":2.6,\"1526\":1.92,\"1527\":1.38,\"1528\":1.04,\"1529\":2.4,\"1530\":0.65,\"1531\":1.1,\"1532\":2.3,\"1533\":1.5,\"1534\":1.6,\"1535\":2.87,\"1536\":2.23,\"1537\":0.7,\"1538\":0.43,\"1539\":5.6,\"1540\":0.8,\"1541\":0.5,\"1542\":1.31,\"1543\":1.94,\"1544\":0.5,\"1545\":1.98,\"1546\":1.0,\"1547\":2.0,\"1548\":2.2,\"1549\":9.44,\"1550\":2.84,\"1551\":1.6,\"1552\":0.24,\"1553\":0.38,\"1554\":1.6,\"1555\":0.6,\"1556\":0.2,\"1557\":1.3,\"1558\":2.8,\"1559\":16.77,\"1560\":2.13,\"1561\":0.79,\"1562\":2.34,\"1563\":1.9,\"1564\":1.2,\"1565\":0.8,\"1566\":1.1,\"1567\":0.88,\"1568\":1.9,\"1569\":6.5,\"1570\":3.8,\"1571\":0.9,\"1572\":0.59,\"1573\":0.74,\"1574\":1.08,\"1575\":1.03,\"1576\":1.28,\"1577\":3.94,\"1578\":2.0,\"1579\":7.8,\"1580\":1.6,\"1581\":0.5,\"1582\":0.9,\"1583\":0.45,\"1584\":4.08,\"1585\":1.4,\"1586\":0.8,\"1587\":0.8,\"1588\":0.7,\"1589\":2.3,\"1590\":1.1,\"1591\":1.59,\"1592\":1.33,\"1593\":4.4,\"1594\":0.7,\"1595\":2.2,\"1596\":2.69,\"1597\":20.9,\"1598\":1.4,\"1599\":1.61,\"1600\":0.84,\"1601\":1.09,\"1602\":0.7,\"1603\":1.8,\"1604\":0.5,\"1605\":0.0,\"1606\":1.06,\"1607\":2.27,\"1608\":2.06,\"1609\":1.08,\"1610\":2.5,\"1611\":2.0,\"1612\":0.74,\"1613\":1.58,\"1614\":3.11,\"1615\":0.5,\"1616\":2.1,\"1617\":2.2,\"1618\":3.46,\"1619\":2.75,\"1620\":11.25,\"1621\":1.1,\"1622\":1.36,\"1623\":0.7,\"1624\":1.24,\"1625\":1.33,\"1626\":7.38,\"1627\":1.2,\"1628\":1.48,\"1629\":1.28,\"1630\":0.76,\"1631\":0.9,\"1632\":1.0,\"1633\":0.6,\"1634\":3.56,\"1635\":0.7,\"1636\":3.0,\"1637\":2.09,\"1638\":3.08,\"1639\":1.6,\"1640\":28.8,\"1641\":0.5,\"1642\":0.72,\"1643\":0.9,\"1644\":0.73,\"1645\":0.74,\"1646\":1.9,\"1647\":1.67,\"1648\":0.6,\"1649\":3.0,\"1650\":2.7,\"1651\":1.3,\"1652\":2.4,\"1653\":2.4,\"1654\":6.7,\"1655\":1.14,\"1656\":1.8,\"1657\":0.6,\"1658\":1.28,\"1659\":1.6,\"1660\":0.67,\"1661\":0.4,\"1662\":0.63,\"1663\":0.7,\"1664\":4.4,\"1665\":2.9,\"1666\":2.41,\"1667\":0.4,\"1668\":11.4,\"1669\":1.4,\"1670\":0.94,\"1671\":5.38,\"1672\":2.43,\"1673\":1.79,\"1674\":0.3,\"1675\":3.3,\"1676\":0.6,\"1677\":3.07,\"1678\":1.75,\"1679\":5.5,\"1680\":1.26,\"1681\":8.4,\"1682\":1.17,\"1683\":2.8,\"1684\":0.9,\"1685\":1.9,\"1686\":1.67,\"1687\":2.71,\"1688\":1.4,\"1689\":0.54,\"1690\":1.0,\"1691\":0.84,\"1692\":2.21,\"1693\":0.4,\"1694\":8.8,\"1695\":0.81,\"1696\":3.0,\"1697\":1.3,\"1698\":0.92,\"1699\":1.0,\"1700\":4.93,\"1701\":1.2,\"1702\":0.76,\"1703\":0.9,\"1704\":2.31,\"1705\":5.6,\"1706\":0.4,\"1707\":1.6,\"1708\":15.6,\"1709\":0.92,\"1710\":0.5,\"1711\":0.55,\"1712\":0.53,\"1713\":1.03,\"1714\":1.64,\"1715\":0.73,\"1716\":1.64,\"1717\":0.7,\"1718\":0.96,\"1719\":2.1,\"1720\":1.7,\"1721\":2.18,\"1722\":1.05,\"1723\":1.31,\"1724\":4.92,\"1725\":10.9,\"1726\":1.53,\"1727\":1.41,\"1728\":2.89,\"1729\":0.94,\"1730\":6.69,\"1731\":1.7,\"1732\":1.28,\"1733\":1.08,\"1734\":6.0,\"1735\":1.1,\"1736\":9.7,\"1737\":2.1,\"1738\":2.4,\"1739\":1.18,\"1740\":1.29,\"1741\":2.8,\"1742\":0.95,\"1743\":0.8,\"1744\":19.69,\"1745\":0.68,\"1746\":11.0,\"1747\":0.91,\"1748\":4.6,\"1749\":9.0,\"1750\":1.7,\"1751\":13.0,\"1752\":0.9,\"1753\":0.8,\"1754\":1.56,\"1755\":2.67,\"1756\":1.1,\"1757\":2.18,\"1758\":2.3,\"1759\":3.2,\"1760\":1.7,\"1761\":2.15,\"1762\":1.08,\"1763\":1.02,\"1764\":1.1,\"1765\":2.72,\"1766\":1.73,\"1767\":7.3,\"1768\":2.1,\"1769\":0.9,\"1770\":0.1,\"1771\":2.3,\"1772\":2.0,\"1773\":1.41,\"1774\":0.73,\"1775\":1.1,\"1776\":1.35,\"1777\":7.28,\"1778\":0.5,\"1779\":4.1,\"1780\":1.0,\"1781\":0.7,\"1782\":2.18,\"1783\":0.45,\"1784\":1.76,\"1785\":3.83,\"1786\":10.9,\"1787\":0.3,\"1788\":0.6,\"1789\":10.69,\"1790\":4.4,\"1791\":1.85,\"1792\":4.9,\"1793\":1.2,\"1794\":6.82,\"1795\":1.3,\"1796\":1.9,\"1797\":1.0,\"1798\":1.0,\"1799\":0.6,\"1800\":5.4,\"1801\":4.88,\"1802\":11.28,\"1803\":0.79,\"1804\":2.18,\"1805\":5.11,\"1806\":1.1,\"1807\":1.01,\"1808\":1.7,\"1809\":1.3,\"1810\":0.68,\"1811\":1.1,\"1812\":18.0,\"1813\":3.02,\"1814\":3.4,\"1815\":0.58,\"1816\":1.4,\"1817\":1.2,\"1818\":1.7,\"1819\":0.9,\"1820\":1.11,\"1821\":5.57,\"1822\":2.4,\"1823\":1.5,\"1824\":0.77,\"1825\":19.87,\"1826\":0.6,\"1827\":1.43,\"1828\":8.71,\"1829\":1.13,\"1830\":1.93,\"1831\":5.9,\"1832\":1.0,\"1833\":21.0,\"1834\":1.9,\"1835\":7.94,\"1836\":1.5,\"1837\":1.4,\"1838\":1.33,\"1839\":6.7,\"1840\":2.2,\"1841\":1.6,\"1842\":24.91,\"1843\":1.4,\"1844\":1.0,\"1845\":2.5,\"1846\":1.03,\"1847\":5.31,\"1848\":2.6,\"1849\":1.17,\"1850\":2.62,\"1851\":0.8,\"1852\":0.8,\"1853\":2.21,\"1854\":2.25,\"1855\":0.8,\"1856\":1.17,\"1857\":1.3,\"1858\":0.39,\"1859\":0.7,\"1860\":1.37,\"1861\":0.8,\"1862\":0.88,\"1863\":2.36,\"1864\":1.54,\"1865\":0.43,\"1866\":5.5,\"1867\":0.73,\"1868\":1.65,\"1869\":1.2,\"1870\":0.66,\"1871\":0.7,\"1872\":0.5,\"1873\":1.9,\"1874\":2.94,\"1875\":1.5,\"1876\":0.69,\"1877\":1.26,\"1878\":0.49,\"1879\":3.45,\"1880\":4.98,\"1881\":1.3,\"1882\":1.72,\"1883\":1.13,\"1884\":2.1,\"1885\":1.1,\"1886\":2.98,\"1887\":0.3,\"1888\":0.6,\"1889\":2.17,\"1890\":2.4,\"1891\":2.09,\"1892\":0.38,\"1893\":2.79,\"1894\":17.73,\"1895\":1.2,\"1896\":0.96,\"1897\":2.3,\"1898\":1.61,\"1899\":3.5,\"1900\":2.05,\"1901\":3.73,\"1902\":20.3,\"1903\":0.5,\"1904\":4.5,\"1905\":0.6,\"1906\":1.35,\"1907\":3.9,\"1908\":2.29,\"1909\":1.57,\"1910\":0.98,\"1911\":0.4,\"1912\":0.9,\"1913\":1.54,\"1914\":1.4,\"1915\":1.94,\"1916\":1.0,\"1917\":0.68,\"1918\":4.7,\"1919\":0.86,\"1920\":1.36,\"1921\":1.39,\"1922\":2.0,\"1923\":0.6,\"1924\":0.6,\"1925\":0.38,\"1926\":1.14,\"1927\":0.15,\"1928\":0.4,\"1929\":0.5,\"1930\":3.65,\"1931\":1.4,\"1932\":5.0,\"1933\":1.0,\"1934\":0.5,\"1935\":2.5,\"1936\":0.61,\"1937\":0.94,\"1938\":4.7,\"1939\":2.32,\"1940\":1.35,\"1941\":2.43,\"1942\":1.3,\"1943\":3.4,\"1944\":7.5,\"1945\":1.6,\"1946\":2.5,\"1947\":0.4,\"1948\":18.66,\"1949\":2.0,\"1950\":3.32,\"1951\":1.8,\"1952\":5.43,\"1953\":0.8,\"1954\":3.3,\"1955\":0.89,\"1956\":2.36,\"1957\":3.84,\"1958\":1.0,\"1959\":1.0,\"1960\":1.4,\"1961\":0.0,\"1962\":1.26,\"1963\":2.6,\"1964\":0.6,\"1965\":3.45,\"1966\":0.99,\"1967\":0.89,\"1968\":2.5,\"1969\":0.84,\"1970\":5.31,\"1971\":6.06,\"1972\":1.4,\"1973\":7.7,\"1974\":1.57,\"1975\":0.9,\"1976\":0.7,\"1977\":0.54,\"1978\":1.9,\"1979\":4.9,\"1980\":1.39,\"1981\":1.32,\"1982\":1.3,\"1983\":0.06,\"1984\":1.7,\"1985\":0.9,\"1986\":1.02,\"1987\":0.6,\"1988\":0.2,\"1989\":10.03,\"1990\":20.96,\"1991\":0.92,\"1992\":0.4,\"1993\":0.31,\"1994\":0.3,\"1995\":1.07,\"1996\":8.7,\"1997\":14.3,\"1998\":1.2,\"1999\":3.13,\"2000\":1.06,\"2001\":1.3,\"2002\":7.95,\"2003\":2.46,\"2004\":4.6,\"2005\":1.8,\"2006\":0.8,\"2007\":2.67,\"2008\":1.22,\"2009\":3.1,\"2010\":0.7,\"2011\":1.7,\"2012\":1.16,\"2013\":0.97,\"2014\":9.81,\"2015\":1.2,\"2016\":1.27,\"2017\":1.57,\"2018\":0.4,\"2019\":2.9,\"2020\":1.8,\"2021\":2.24,\"2022\":0.59,\"2023\":0.8,\"2024\":9.9,\"2025\":3.12,\"2026\":1.2,\"2027\":4.32,\"2028\":6.97,\"2029\":1.3,\"2030\":0.81,\"2031\":1.06,\"2032\":2.06,\"2033\":2.65,\"2034\":2.36,\"2035\":0.31,\"2036\":3.4,\"2037\":1.35,\"2038\":8.79,\"2039\":0.2,\"2040\":1.25,\"2041\":4.3,\"2042\":3.97,\"2043\":0.9,\"2044\":1.46,\"2045\":1.8,\"2046\":1.13,\"2047\":0.7,\"2048\":2.7,\"2049\":5.3,\"2050\":2.4,\"2051\":1.0,\"2052\":5.3,\"2053\":0.7,\"2054\":0.92,\"2055\":0.86,\"2056\":8.64,\"2057\":1.0,\"2058\":0.8,\"2059\":2.06,\"2060\":2.2,\"2061\":0.26,\"2062\":2.0,\"2063\":0.64,\"2064\":1.9,\"2065\":0.3,\"2066\":1.1,\"2067\":1.78,\"2068\":11.94,\"2069\":1.3,\"2070\":0.82,\"2071\":11.7,\"2072\":0.4,\"2073\":1.06,\"2074\":0.65,\"2075\":1.4,\"2076\":3.31,\"2077\":2.2,\"2078\":1.03,\"2079\":13.9,\"2080\":0.53,\"2081\":1.3,\"2082\":0.44,\"2083\":6.09,\"2084\":9.68,\"2085\":1.2,\"2086\":3.5,\"2087\":0.82,\"2088\":1.0,\"2089\":6.74,\"2090\":0.8,\"2091\":0.47,\"2092\":0.3,\"2093\":1.23,\"2094\":1.6,\"2095\":0.7,\"2096\":1.37,\"2097\":1.2,\"2098\":1.2,\"2099\":1.32,\"2100\":2.92,\"2101\":2.48,\"2102\":0.88,\"2103\":1.8,\"2104\":8.7,\"2105\":0.46,\"2106\":3.7,\"2107\":2.0,\"2108\":1.4,\"2109\":1.96,\"2110\":1.24,\"2111\":1.2,\"2112\":1.8,\"2113\":0.7,\"2114\":1.0,\"2115\":0.97,\"2116\":1.6,\"2117\":1.47,\"2118\":1.57,\"2119\":0.86,\"2120\":1.09,\"2121\":1.53,\"2122\":0.37,\"2123\":0.59,\"2124\":21.65,\"2125\":1.8,\"2126\":3.61,\"2127\":0.9,\"2128\":2.3,\"2129\":1.05,\"2130\":2.3,\"2131\":10.08,\"2132\":0.4,\"2133\":2.83,\"2134\":2.0,\"2135\":0.0,\"2136\":0.8,\"2137\":0.5,\"2138\":1.2,\"2139\":5.4,\"2140\":5.38,\"2141\":0.44,\"2142\":0.3,\"2143\":5.7,\"2144\":1.7,\"2145\":0.5,\"2146\":10.2,\"2147\":3.17,\"2148\":1.6,\"2149\":1.42,\"2150\":5.94,\"2151\":2.55,\"2152\":1.9,\"2153\":0.32,\"2154\":2.55,\"2155\":1.6,\"2156\":3.69,\"2157\":1.5,\"2158\":1.21,\"2159\":1.89,\"2160\":0.84,\"2161\":0.8,\"2162\":1.6,\"2163\":1.0,\"2164\":4.75,\"2165\":0.99,\"2166\":10.4,\"2167\":2.77,\"2168\":1.2,\"2169\":1.81,\"2170\":1.08,\"2171\":0.66,\"2172\":1.5,\"2173\":3.5,\"2174\":1.1,\"2175\":1.0,\"2176\":0.75,\"2177\":0.5,\"2178\":12.32,\"2179\":0.7,\"2180\":4.5,\"2181\":0.8,\"2182\":2.76,\"2183\":0.73,\"2184\":1.0,\"2185\":0.85,\"2186\":1.2,\"2187\":0.6,\"2188\":1.4,\"2189\":1.51,\"2190\":1.7,\"2191\":0.77,\"2192\":3.81,\"2193\":2.36,\"2194\":1.74,\"2195\":3.0,\"2196\":1.33,\"2197\":5.41,\"2198\":0.79,\"2199\":1.0,\"2200\":1.3,\"2201\":0.7,\"2202\":9.21,\"2203\":0.35,\"2204\":1.0,\"2205\":0.8,\"2206\":1.8,\"2207\":0.7,\"2208\":3.0,\"2209\":2.0,\"2210\":2.67,\"2211\":0.86,\"2212\":0.43,\"2213\":2.41,\"2214\":1.38,\"2215\":1.6,\"2216\":5.2,\"2217\":1.29,\"2218\":0.88,\"2219\":1.2,\"2220\":1.56,\"2221\":1.8,\"2222\":0.63,\"2223\":0.73,\"2224\":6.84,\"2225\":0.57,\"2226\":2.51,\"2227\":6.4,\"2228\":0.7,\"2229\":0.9,\"2230\":0.51,\"2231\":8.1,\"2232\":0.52,\"2233\":6.42,\"2234\":0.75,\"2235\":1.27,\"2236\":1.0,\"2237\":0.67,\"2238\":0.3,\"2239\":3.4,\"2240\":0.75,\"2241\":0.7,\"2242\":1.2,\"2243\":0.9,\"2244\":4.17,\"2245\":2.08,\"2246\":0.29,\"2247\":0.54,\"2248\":0.62,\"2249\":0.8,\"2250\":5.15,\"2251\":1.08,\"2252\":1.57,\"2253\":17.4,\"2254\":1.7,\"2255\":3.5,\"2256\":0.8,\"2257\":1.5,\"2258\":0.5,\"2259\":1.8,\"2260\":3.12,\"2261\":2.06,\"2262\":1.38,\"2263\":1.94,\"2264\":5.35,\"2265\":0.8,\"2266\":0.9,\"2267\":1.88,\"2268\":1.03,\"2269\":1.31,\"2270\":2.8,\"2271\":1.06,\"2272\":0.33,\"2273\":2.5,\"2274\":3.28,\"2275\":1.78,\"2276\":1.3,\"2277\":2.1,\"2278\":9.54,\"2279\":1.5,\"2280\":3.7,\"2281\":1.8,\"2282\":6.85,\"2283\":1.78,\"2284\":1.0,\"2285\":0.89,\"2286\":1.1,\"2287\":2.4,\"2288\":1.51,\"2289\":1.23,\"2290\":1.8,\"2291\":3.1,\"2292\":0.8,\"2293\":17.53,\"2294\":1.9,\"2295\":0.6,\"2296\":1.3,\"2297\":1.54,\"2298\":1.69,\"2299\":6.8,\"2300\":2.43,\"2301\":0.4,\"2302\":1.0,\"2303\":0.59,\"2304\":0.2,\"2305\":2.55,\"2306\":0.74,\"2307\":1.8,\"2308\":1.43,\"2309\":4.1,\"2310\":0.92,\"2311\":1.78,\"2312\":1.11,\"2313\":3.36,\"2314\":5.3,\"2315\":0.8,\"2316\":0.9,\"2317\":0.7,\"2318\":1.21,\"2319\":4.1,\"2320\":8.3,\"2321\":0.7,\"2322\":0.91,\"2323\":0.65,\"2324\":2.8,\"2325\":0.9,\"2326\":0.3,\"2327\":2.1,\"2328\":1.84,\"2329\":1.37,\"2330\":2.44,\"2331\":0.9,\"2332\":2.2,\"2333\":1.2,\"2334\":1.0,\"2335\":0.74,\"2336\":0.53,\"2337\":1.3,\"2338\":1.08,\"2339\":1.3,\"2340\":0.9,\"2341\":1.4,\"2342\":3.13,\"2343\":5.0,\"2344\":0.94,\"2345\":1.75,\"2346\":1.12,\"2347\":0.93,\"2348\":1.0,\"2349\":2.69,\"2350\":0.9,\"2351\":1.19,\"2352\":7.71,\"2353\":1.51,\"2354\":2.2,\"2355\":1.0,\"2356\":2.14,\"2357\":0.9,\"2358\":0.8,\"2359\":1.1,\"2360\":2.12,\"2361\":0.7,\"2362\":6.04,\"2363\":1.28,\"2364\":20.81,\"2365\":1.7,\"2366\":2.29,\"2367\":1.1,\"2368\":1.2,\"2369\":1.72,\"2370\":10.27,\"2371\":4.52,\"2372\":0.9,\"2373\":12.63,\"2374\":1.11,\"2375\":0.85,\"2376\":0.84,\"2377\":1.6,\"2378\":3.11,\"2379\":0.74,\"2380\":0.81,\"2381\":0.2,\"2382\":2.34,\"2383\":0.89,\"2384\":6.0,\"2385\":1.3,\"2386\":2.03,\"2387\":0.8,\"2388\":1.1,\"2389\":0.5,\"2390\":1.7,\"2391\":0.7,\"2392\":0.72,\"2393\":3.4,\"2394\":1.21,\"2395\":1.3,\"2396\":3.1,\"2397\":3.6,\"2398\":0.8,\"2399\":3.7,\"2400\":2.65,\"2401\":1.5,\"2402\":1.39,\"2403\":0.0,\"2404\":0.24,\"2405\":4.7,\"2406\":0.92,\"2407\":0.99,\"2408\":2.24,\"2409\":0.74,\"2410\":5.3,\"2411\":10.1,\"2412\":0.98,\"2413\":1.59,\"2414\":0.8,\"2415\":6.3,\"2416\":0.5,\"2417\":1.62,\"2418\":1.2,\"2419\":2.51,\"2420\":0.85,\"2421\":0.53,\"2422\":2.69,\"2423\":0.63,\"2424\":0.7,\"2425\":2.5,\"2426\":11.78,\"2427\":0.6,\"2428\":0.79,\"2429\":1.2,\"2430\":1.28,\"2431\":7.74,\"2432\":0.9,\"2433\":0.52,\"2434\":9.5,\"2435\":0.9,\"2436\":2.56,\"2437\":0.8,\"2438\":1.2,\"2439\":0.7,\"2440\":1.24,\"2441\":9.64,\"2442\":0.95,\"2443\":0.7,\"2444\":3.11,\"2445\":2.24,\"2446\":1.2,\"2447\":1.27,\"2448\":1.67,\"2449\":1.69,\"2450\":1.5,\"2451\":1.33,\"2452\":3.11,\"2453\":1.64,\"2454\":1.15,\"2455\":1.6,\"2456\":2.04,\"2457\":1.0,\"2458\":13.3,\"2459\":1.1,\"2460\":2.7,\"2461\":2.16,\"2462\":1.02,\"2463\":1.2,\"2464\":2.5,\"2465\":18.02,\"2466\":4.82,\"2467\":2.08,\"2468\":1.06,\"2469\":2.51,\"2470\":0.8,\"2471\":0.91,\"2472\":1.0,\"2473\":2.45,\"2474\":0.7,\"2475\":1.31,\"2476\":1.5,\"2477\":0.7,\"2478\":0.62,\"2479\":3.3,\"2480\":1.7,\"2481\":1.23,\"2482\":1.7,\"2483\":1.71,\"2484\":0.82,\"2485\":2.7,\"2486\":6.3,\"2487\":1.08,\"2488\":1.52,\"2489\":0.89,\"2490\":7.16,\"2491\":1.08,\"2492\":1.6,\"2493\":1.07,\"2494\":1.1,\"2495\":0.8,\"2496\":4.4,\"2497\":1.3,\"2498\":0.72,\"2499\":2.37,\"2500\":1.19,\"2501\":2.6,\"2502\":0.82,\"2503\":0.37,\"2504\":1.12,\"2505\":1.7,\"2506\":1.6,\"2507\":0.3,\"2508\":0.9,\"2509\":1.67,\"2510\":2.9,\"2511\":1.24,\"2512\":2.88,\"2513\":1.75,\"2514\":1.29,\"2515\":2.9,\"2516\":0.5,\"2517\":6.2,\"2518\":3.4,\"2519\":6.35,\"2520\":0.34,\"2521\":0.67,\"2522\":5.7,\"2523\":0.8,\"2524\":2.45,\"2525\":14.41,\"2526\":1.1,\"2527\":1.46,\"2528\":1.2,\"2529\":0.8,\"2530\":0.43,\"2531\":3.1,\"2532\":1.0,\"2533\":5.11,\"2534\":1.9,\"2535\":0.99,\"2536\":1.29,\"2537\":1.9,\"2538\":2.3,\"2539\":1.21,\"2540\":0.7,\"2541\":2.67,\"2542\":0.6,\"2543\":2.6,\"2544\":1.64,\"2545\":1.6,\"2546\":1.4,\"2547\":0.57,\"2548\":2.7,\"2549\":2.31,\"2550\":4.2,\"2551\":3.12,\"2552\":15.59,\"2553\":6.68,\"2554\":2.32,\"2555\":0.48,\"2556\":0.92,\"2557\":1.0,\"2558\":2.39,\"2559\":1.9,\"2560\":0.83,\"2561\":0.85,\"2562\":1.69,\"2563\":1.2,\"2564\":1.13,\"2565\":1.0,\"2566\":0.6,\"2567\":1.76,\"2568\":0.93,\"2569\":0.7,\"2570\":6.5,\"2571\":1.8,\"2572\":0.89,\"2573\":2.1,\"2574\":1.28,\"2575\":0.6,\"2576\":1.4,\"2577\":1.03,\"2578\":0.22,\"2579\":11.0,\"2580\":1.29,\"2581\":1.9,\"2582\":17.6,\"2583\":1.97,\"2584\":2.1,\"2585\":0.4,\"2586\":0.6,\"2587\":1.77,\"2588\":1.83,\"2589\":2.3,\"2590\":1.3,\"2591\":5.4,\"2592\":1.0,\"2593\":3.6,\"2594\":2.19,\"2595\":1.85,\"2596\":2.19,\"2597\":14.7,\"2598\":0.9,\"2599\":0.7,\"2600\":0.5,\"2601\":0.74,\"2602\":1.16,\"2603\":2.09,\"2604\":0.7,\"2605\":0.76,\"2606\":16.85,\"2607\":0.6,\"2608\":4.9,\"2609\":1.18,\"2610\":3.38,\"2611\":1.1,\"2612\":6.1,\"2613\":1.34,\"2614\":0.5,\"2615\":5.9,\"2616\":1.51,\"2617\":1.8,\"2618\":1.0,\"2619\":1.2,\"2620\":0.29,\"2621\":0.94,\"2622\":1.88,\"2623\":17.7,\"2624\":1.57,\"2625\":1.3,\"2626\":4.43,\"2627\":1.67,\"2628\":1.1,\"2629\":10.97,\"2630\":8.9,\"2631\":0.2,\"2632\":1.14,\"2633\":1.26,\"2634\":3.99,\"2635\":2.71,\"2636\":1.8,\"2637\":1.41,\"2638\":0.4,\"2639\":1.1,\"2640\":2.42,\"2641\":2.6,\"2642\":18.5,\"2643\":23.81,\"2644\":0.79,\"2645\":8.76,\"2646\":1.1,\"2647\":8.58,\"2648\":1.03,\"2649\":6.6,\"2650\":1.47,\"2651\":8.5,\"2652\":0.9,\"2653\":1.01,\"2654\":2.0,\"2655\":1.8,\"2656\":1.91,\"2657\":1.1,\"2658\":1.23,\"2659\":1.99,\"2660\":0.8,\"2661\":2.91,\"2662\":3.89,\"2663\":2.3,\"2664\":0.8,\"2665\":1.58,\"2666\":1.2,\"2667\":2.9,\"2668\":0.54,\"2669\":2.93,\"2670\":0.9,\"2671\":0.97,\"2672\":0.9,\"2673\":6.3,\"2674\":17.5,\"2675\":0.0,\"2676\":17.3,\"2677\":1.67,\"2678\":2.2,\"2679\":1.49,\"2680\":1.14,\"2681\":1.14,\"2682\":1.04,\"2683\":1.83,\"2684\":2.1,\"2685\":1.6,\"2686\":2.09,\"2687\":0.66,\"2688\":1.08,\"2689\":0.77,\"2690\":1.0,\"2691\":0.96,\"2692\":3.5,\"2693\":1.0,\"2694\":9.0,\"2695\":0.6,\"2696\":2.17,\"2697\":1.5,\"2698\":1.62,\"2699\":6.4,\"2700\":1.0,\"2701\":1.39,\"2702\":1.03,\"2703\":7.22,\"2704\":0.47,\"2705\":2.2,\"2706\":0.8,\"2707\":9.78,\"2708\":1.3,\"2709\":1.58,\"2710\":2.2,\"2711\":1.9,\"2712\":1.5,\"2713\":12.1,\"2714\":16.0,\"2715\":1.4,\"2716\":0.7,\"2717\":2.2,\"2718\":1.5,\"2719\":1.76,\"2720\":2.59,\"2721\":2.73,\"2722\":2.31,\"2723\":3.25,\"2724\":2.1,\"2725\":1.0,\"2726\":1.7,\"2727\":1.2,\"2728\":1.84,\"2729\":17.3,\"2730\":0.9,\"2731\":4.1,\"2732\":6.53,\"2733\":0.62,\"2734\":16.7,\"2735\":0.51,\"2736\":3.03,\"2737\":4.48,\"2738\":0.9,\"2739\":1.71,\"2740\":1.4,\"2741\":1.7,\"2742\":1.24,\"2743\":0.5,\"2744\":4.1,\"2745\":2.2,\"2746\":3.24,\"2747\":1.3,\"2748\":0.95,\"2749\":3.3,\"2750\":3.37,\"2751\":5.78,\"2752\":0.9,\"2753\":0.92,\"2754\":1.0,\"2755\":0.8,\"2756\":1.3,\"2757\":1.7,\"2758\":2.33,\"2759\":1.35,\"2760\":0.88,\"2761\":2.36,\"2762\":12.58,\"2763\":0.64,\"2764\":0.81,\"2765\":1.42,\"2766\":1.5,\"2767\":1.2,\"2768\":4.7,\"2769\":2.62,\"2770\":1.04,\"2771\":2.1,\"2772\":1.03,\"2773\":0.9,\"2774\":1.3,\"2775\":0.58,\"2776\":2.5,\"2777\":1.5,\"2778\":4.3,\"2779\":1.41,\"2780\":1.9,\"2781\":1.49,\"2782\":0.91,\"2783\":0.5,\"2784\":2.2,\"2785\":1.88,\"2786\":1.19,\"2787\":1.0,\"2788\":6.0,\"2789\":0.66,\"2790\":0.4,\"2791\":1.9,\"2792\":0.0,\"2793\":1.7,\"2794\":2.11,\"2795\":1.08,\"2796\":3.3,\"2797\":1.64,\"2798\":2.08,\"2799\":0.44,\"2800\":9.09,\"2801\":3.17,\"2802\":2.0,\"2803\":0.4,\"2804\":0.66,\"2805\":0.4,\"2806\":0.5,\"2807\":3.0,\"2808\":10.5,\"2809\":0.6,\"2810\":4.1,\"2811\":2.8,\"2812\":0.89,\"2813\":1.2,\"2814\":2.83,\"2815\":2.5,\"2816\":0.66,\"2817\":1.1,\"2818\":0.74,\"2819\":2.4,\"2820\":1.5,\"2821\":8.8,\"2822\":0.8,\"2823\":11.03,\"2824\":1.41,\"2825\":1.51,\"2826\":0.3,\"2827\":1.8,\"2828\":1.73,\"2829\":1.4,\"2830\":10.75,\"2831\":0.55,\"2832\":0.27,\"2833\":0.94,\"2834\":3.37,\"2835\":10.2,\"2836\":18.5,\"2837\":13.51,\"2838\":1.1,\"2839\":2.1,\"2840\":1.25,\"2841\":0.5,\"2842\":11.99,\"2843\":0.3,\"2844\":1.43,\"2845\":9.5,\"2846\":4.19,\"2847\":2.9,\"2848\":1.3,\"2849\":0.9,\"2850\":2.6,\"2851\":9.9,\"2852\":3.0,\"2853\":1.3,\"2854\":1.3,\"2855\":1.3,\"2856\":0.9,\"2857\":1.6,\"2858\":1.5,\"2859\":1.57,\"2860\":2.9,\"2861\":2.14,\"2862\":0.7,\"2863\":1.67,\"2864\":3.9,\"2865\":2.1,\"2866\":1.5,\"2867\":1.1,\"2868\":1.7,\"2869\":9.37,\"2870\":2.95,\"2871\":0.38,\"2872\":0.63,\"2873\":1.5,\"2874\":2.6,\"2875\":1.0,\"2876\":0.4,\"2877\":2.87,\"2878\":0.8,\"2879\":2.4,\"2880\":0.9,\"2881\":2.8,\"2882\":2.28,\"2883\":1.4,\"2884\":3.23,\"2885\":1.1,\"2886\":0.7,\"2887\":9.68,\"2888\":2.01,\"2889\":9.78,\"2890\":1.67,\"2891\":1.93,\"2892\":10.79,\"2893\":1.9,\"2894\":0.81,\"2895\":0.84,\"2896\":11.35,\"2897\":1.1,\"2898\":2.6,\"2899\":2.2,\"2900\":1.38,\"2901\":0.7,\"2902\":0.7,\"2903\":0.0,\"2904\":1.01,\"2905\":3.6,\"2906\":0.62,\"2907\":1.4,\"2908\":0.49,\"2909\":1.1,\"2910\":1.67,\"2911\":0.57,\"2912\":1.09,\"2913\":1.52,\"2914\":0.73,\"2915\":0.5,\"2916\":1.8,\"2917\":0.74,\"2918\":0.67,\"2919\":0.59,\"2920\":1.5,\"2921\":0.67,\"2922\":3.15,\"2923\":1.2,\"2924\":0.78,\"2925\":1.5,\"2926\":0.35,\"2927\":1.7,\"2928\":1.31,\"2929\":2.2,\"2930\":6.68,\"2931\":0.74,\"2932\":2.33,\"2933\":0.8,\"2934\":2.0,\"2935\":0.85,\"2936\":1.48,\"2937\":3.3,\"2938\":0.68,\"2939\":1.32,\"2940\":6.0,\"2941\":1.6,\"2942\":1.0,\"2943\":1.6,\"2944\":17.17,\"2945\":1.9,\"2946\":2.7,\"2947\":1.3,\"2948\":1.1,\"2949\":3.3,\"2950\":0.6,\"2951\":1.96,\"2952\":1.2,\"2953\":0.8,\"2954\":0.9,\"2955\":0.98,\"2956\":1.65,\"2957\":2.1,\"2958\":0.75,\"2959\":2.02,\"2960\":2.68,\"2961\":3.5,\"2962\":0.7,\"2963\":6.2,\"2964\":2.16,\"2965\":0.24,\"2966\":1.05,\"2967\":0.9,\"2968\":0.4,\"2969\":9.15,\"2970\":0.35,\"2971\":0.9,\"2972\":3.7,\"2973\":9.52,\"2974\":1.4,\"2975\":2.0,\"2976\":1.08,\"2977\":1.53,\"2978\":1.7,\"2979\":1.14,\"2980\":0.42,\"2981\":1.14,\"2982\":1.02,\"2983\":2.0,\"2984\":0.8,\"2985\":6.23,\"2986\":1.1,\"2987\":3.62,\"2988\":16.9,\"2989\":2.1,\"2990\":1.1,\"2991\":4.14,\"2992\":0.67,\"2993\":5.9,\"2994\":17.3,\"2995\":4.5,\"2996\":0.94,\"2997\":1.56,\"2998\":1.2,\"2999\":1.51,\"3000\":1.04,\"3001\":0.7,\"3002\":0.95,\"3003\":1.04,\"3004\":1.99,\"3005\":1.6,\"3006\":0.44,\"3007\":0.5,\"3008\":17.03,\"3009\":0.3,\"3010\":2.8,\"3011\":1.22,\"3012\":1.63,\"3013\":1.7,\"3014\":1.53,\"3015\":2.2,\"3016\":3.37,\"3017\":2.0,\"3018\":9.58,\"3019\":4.59,\"3020\":8.3,\"3021\":2.25,\"3022\":1.0,\"3023\":1.95,\"3024\":5.44,\"3025\":2.93,\"3026\":3.18,\"3027\":0.82,\"3028\":1.29,\"3029\":2.6,\"3030\":0.46,\"3031\":3.2,\"3032\":5.3,\"3033\":2.69,\"3034\":3.8,\"3035\":8.87,\"3036\":3.75,\"3037\":1.3,\"3038\":0.93,\"3039\":4.06,\"3040\":1.2,\"3041\":2.26,\"3042\":2.2,\"3043\":1.66,\"3044\":1.2,\"3045\":3.0,\"3046\":1.95,\"3047\":0.8,\"3048\":3.52,\"3049\":1.0,\"3050\":1.0,\"3051\":3.2,\"3052\":1.1,\"3053\":2.75,\"3054\":2.94,\"3055\":2.1,\"3056\":6.2,\"3057\":2.0,\"3058\":3.2,\"3059\":2.28,\"3060\":3.13,\"3061\":0.8,\"3062\":11.38,\"3063\":1.44,\"3064\":0.77,\"3065\":0.84,\"3066\":1.6,\"3067\":1.2,\"3068\":0.5,\"3069\":1.38,\"3070\":3.1,\"3071\":3.32,\"3072\":10.39,\"3073\":1.33,\"3074\":0.72,\"3075\":0.94,\"3076\":0.0,\"3077\":0.46,\"3078\":0.5,\"3079\":0.92,\"3080\":2.54,\"3081\":1.3,\"3082\":1.4,\"3083\":1.53,\"3084\":3.84,\"3085\":2.1,\"3086\":5.94,\"3087\":2.2,\"3088\":1.87,\"3089\":1.11,\"3090\":1.0,\"3091\":1.41,\"3092\":3.0,\"3093\":0.9,\"3094\":1.4,\"3095\":1.0,\"3096\":2.99,\"3097\":1.86,\"3098\":0.9,\"3099\":1.6,\"3100\":6.4,\"3101\":8.22,\"3102\":13.21,\"3103\":4.43,\"3104\":2.3,\"3105\":1.06,\"3106\":0.73,\"3107\":2.3,\"3108\":9.3,\"3109\":1.5,\"3110\":1.11,\"3111\":18.45,\"3112\":1.26,\"3113\":2.9,\"3114\":1.72,\"3115\":1.23,\"3116\":1.26,\"3117\":27.81,\"3118\":0.6,\"3119\":0.63,\"3120\":2.0,\"3121\":0.9,\"3122\":5.5,\"3123\":5.8,\"3124\":1.02,\"3125\":11.0,\"3126\":2.3,\"3127\":1.35,\"3128\":10.1,\"3129\":1.6,\"3130\":1.59,\"3131\":3.4,\"3132\":0.97,\"3133\":0.85,\"3134\":1.8,\"3135\":1.6,\"3136\":1.7,\"3137\":11.17,\"3138\":9.3,\"3139\":1.3,\"3140\":1.21,\"3141\":2.7,\"3142\":0.53,\"3143\":1.8,\"3144\":0.86,\"3145\":6.96,\"3146\":3.25,\"3147\":1.02,\"3148\":5.24,\"3149\":5.0,\"3150\":0.81,\"3151\":1.0,\"3152\":1.1,\"3153\":1.97,\"3154\":1.7,\"3155\":1.4,\"3156\":11.94,\"3157\":3.6,\"3158\":0.7,\"3159\":6.5,\"3160\":1.2,\"3161\":1.8,\"3162\":0.78,\"3163\":6.06,\"3164\":2.17,\"3165\":1.13,\"3166\":3.21,\"3167\":1.01,\"3168\":7.97,\"3169\":2.3,\"3170\":17.0,\"3171\":10.37,\"3172\":1.3,\"3173\":0.9,\"3174\":4.4,\"3175\":0.89,\"3176\":6.9,\"3177\":9.5,\"3178\":7.03,\"3179\":0.75,\"3180\":4.83,\"3181\":1.76,\"3182\":2.8,\"3183\":1.1,\"3184\":9.99,\"3185\":5.6,\"3186\":1.1,\"3187\":2.05,\"3188\":3.8,\"3189\":3.0,\"3190\":0.77,\"3191\":0.95,\"3192\":0.8,\"3193\":3.5,\"3194\":3.7,\"3195\":5.7,\"3196\":2.5,\"3197\":0.3,\"3198\":3.3,\"3199\":0.4,\"3200\":0.7,\"3201\":1.49,\"3202\":0.5,\"3203\":1.94,\"3204\":1.7,\"3205\":1.89,\"3206\":0.97,\"3207\":1.3,\"3208\":6.01,\"3209\":2.32,\"3210\":1.4,\"3211\":2.0,\"3212\":1.43,\"3213\":1.3,\"3214\":4.1,\"3215\":1.0,\"3216\":1.1,\"3217\":0.68,\"3218\":0.84,\"3219\":1.85,\"3220\":4.02,\"3221\":0.45,\"3222\":0.8,\"3223\":0.68,\"3224\":4.32,\"3225\":1.4,\"3226\":1.4,\"3227\":2.0,\"3228\":1.21,\"3229\":2.5,\"3230\":1.88,\"3231\":2.61,\"3232\":2.86,\"3233\":1.9,\"3234\":1.63,\"3235\":0.88,\"3236\":2.7,\"3237\":1.24,\"3238\":1.6,\"3239\":2.22,\"3240\":1.3,\"3241\":9.91,\"3242\":1.48,\"3243\":0.55,\"3244\":12.85,\"3245\":3.4,\"3246\":1.5,\"3247\":0.67,\"3248\":2.2,\"3249\":4.8,\"3250\":1.3,\"3251\":0.5,\"3252\":1.13,\"3253\":4.45,\"3254\":7.13,\"3255\":4.9,\"3256\":0.4,\"3257\":3.34,\"3258\":0.95,\"3259\":0.89,\"3260\":0.9,\"3261\":1.4,\"3262\":1.6,\"3263\":1.62,\"3264\":7.48,\"3265\":1.4,\"3266\":0.7,\"3267\":2.06,\"3268\":1.0,\"3269\":0.69,\"3270\":0.02,\"3271\":0.9,\"3272\":4.5,\"3273\":2.0,\"3274\":0.7,\"3275\":1.3,\"3276\":0.7,\"3277\":3.19,\"3278\":5.03,\"3279\":0.7,\"3280\":1.69,\"3281\":1.28,\"3282\":0.5,\"3283\":0.6,\"3284\":0.32,\"3285\":14.8,\"3286\":1.18,\"3287\":1.59,\"3288\":1.1,\"3289\":2.47,\"3290\":0.91,\"3291\":2.54,\"3292\":3.1,\"3293\":0.8,\"3294\":16.04,\"3295\":1.04,\"3296\":2.04,\"3297\":1.2,\"3298\":1.66,\"3299\":1.79,\"3300\":6.0,\"3301\":0.9,\"3302\":5.37,\"3303\":2.2,\"3304\":2.36,\"3305\":0.7,\"3306\":2.29,\"3307\":14.2,\"3308\":1.96,\"3309\":0.74,\"3310\":0.48,\"3311\":0.84,\"3312\":1.1,\"3313\":1.76,\"3314\":0.56,\"3315\":2.1,\"3316\":0.52,\"3317\":1.36,\"3318\":1.0,\"3319\":1.03,\"3320\":0.89,\"3321\":2.09,\"3322\":4.7,\"3323\":32.1,\"3324\":9.6,\"3325\":3.98,\"3326\":1.09,\"3327\":1.0,\"3328\":1.5,\"3329\":5.0,\"3330\":0.66,\"3331\":3.67,\"3332\":1.2,\"3333\":9.15,\"3334\":4.1,\"3335\":1.94,\"3336\":1.62,\"3337\":1.41,\"3338\":2.5,\"3339\":2.6,\"3340\":1.7,\"3341\":1.98,\"3342\":1.1,\"3343\":1.98,\"3344\":13.19,\"3345\":0.84,\"3346\":1.51,\"3347\":1.08,\"3348\":2.5,\"3349\":1.6,\"3350\":19.9,\"3351\":1.5,\"3352\":12.09,\"3353\":0.8,\"3354\":0.42,\"3355\":1.7,\"3356\":7.28,\"3357\":0.8,\"3358\":1.5,\"3359\":1.82,\"3360\":0.9,\"3361\":0.73,\"3362\":1.45,\"3363\":1.17,\"3364\":0.73,\"3365\":0.34,\"3366\":1.9,\"3367\":0.39,\"3368\":1.62,\"3369\":0.64,\"3370\":1.27,\"3371\":3.05,\"3372\":1.79,\"3373\":1.98,\"3374\":2.2,\"3375\":0.7,\"3376\":5.0,\"3377\":0.56,\"3378\":1.5,\"3379\":1.48,\"3380\":3.7,\"3381\":1.4,\"3382\":0.8,\"3383\":2.3,\"3384\":0.57,\"3385\":2.39,\"3386\":1.4,\"3387\":1.72,\"3388\":1.33,\"3389\":1.1,\"3390\":9.8,\"3391\":1.51,\"3392\":1.4,\"3393\":1.8,\"3394\":4.46,\"3395\":0.86,\"3396\":3.2,\"3397\":0.81,\"3398\":0.56,\"3399\":1.7,\"3400\":3.0,\"3401\":3.54,\"3402\":2.2,\"3403\":1.69,\"3404\":1.8,\"3405\":0.92,\"3406\":27.35,\"3407\":4.4,\"3408\":15.08,\"3409\":17.45,\"3410\":0.69,\"3411\":2.0,\"3412\":1.89,\"3413\":2.3,\"3414\":5.1,\"3415\":1.05,\"3416\":1.35,\"3417\":1.3,\"3418\":5.6,\"3419\":1.9,\"3420\":1.1,\"3421\":1.25,\"3422\":0.5,\"3423\":1.6,\"3424\":1.4,\"3425\":0.8,\"3426\":1.74,\"3427\":2.2,\"3428\":18.0,\"3429\":1.75,\"3430\":1.7,\"3431\":4.54,\"3432\":0.81,\"3433\":0.57,\"3434\":1.12,\"3435\":1.58,\"3436\":5.7,\"3437\":1.67,\"3438\":4.69,\"3439\":0.2,\"3440\":0.7,\"3441\":5.4,\"3442\":1.4,\"3443\":0.73,\"3444\":5.3,\"3445\":1.19,\"3446\":1.7,\"3447\":3.6,\"3448\":0.65,\"3449\":8.6,\"3450\":2.2,\"3451\":1.5,\"3452\":1.9,\"3453\":3.35,\"3454\":1.0,\"3455\":1.5,\"3456\":2.96,\"3457\":3.3,\"3458\":1.7,\"3459\":1.25,\"3460\":5.0,\"3461\":2.95,\"3462\":5.7,\"3463\":2.3,\"3464\":2.37,\"3465\":1.51,\"3466\":0.65,\"3467\":0.8,\"3468\":0.4,\"3469\":1.1,\"3470\":0.9,\"3471\":10.6,\"3472\":5.91,\"3473\":1.0,\"3474\":0.4,\"3475\":2.0,\"3476\":1.1,\"3477\":4.16,\"3478\":2.18,\"3479\":1.1,\"3480\":2.0,\"3481\":1.6,\"3482\":3.9,\"3483\":10.52,\"3484\":1.4,\"3485\":1.78,\"3486\":0.7,\"3487\":2.28,\"3488\":1.0,\"3489\":0.64,\"3490\":2.2,\"3491\":0.5,\"3492\":3.5,\"3493\":2.08,\"3494\":1.37,\"3495\":1.76,\"3496\":1.1,\"3497\":12.39,\"3498\":2.1,\"3499\":1.05,\"3500\":6.0,\"3501\":0.95,\"3502\":1.03,\"3503\":1.81,\"3504\":0.7,\"3505\":1.67,\"3506\":0.4,\"3507\":0.2,\"3508\":1.1,\"3509\":2.1,\"3510\":0.56,\"3511\":0.73,\"3512\":2.8,\"3513\":2.35,\"3514\":1.0,\"3515\":2.0,\"3516\":1.4,\"3517\":2.5,\"3518\":4.95,\"3519\":4.4,\"3520\":1.64,\"3521\":1.03,\"3522\":1.1,\"3523\":1.69,\"3524\":2.0,\"3525\":0.41,\"3526\":4.5,\"3527\":1.18,\"3528\":0.94,\"3529\":3.24,\"3530\":7.4,\"3531\":10.76,\"3532\":0.34,\"3533\":4.72,\"3534\":1.8,\"3535\":15.8,\"3536\":10.0,\"3537\":0.9,\"3538\":3.7,\"3539\":15.12,\"3540\":1.1,\"3541\":0.72,\"3542\":4.0,\"3543\":2.04,\"3544\":1.6,\"3545\":2.39,\"3546\":0.58,\"3547\":0.9,\"3548\":1.78,\"3549\":0.8,\"3550\":22.3,\"3551\":3.0,\"3552\":1.87,\"3553\":2.98,\"3554\":0.61,\"3555\":0.59,\"3556\":2.4,\"3557\":1.74,\"3558\":2.1,\"3559\":2.3,\"3560\":1.95,\"3561\":0.9,\"3562\":12.01,\"3563\":2.0,\"3564\":2.39,\"3565\":1.2,\"3566\":11.1,\"3567\":1.46,\"3568\":2.3,\"3569\":2.01,\"3570\":0.58,\"3571\":1.76,\"3572\":1.94,\"3573\":1.6,\"3574\":2.04,\"3575\":10.99,\"3576\":2.14,\"3577\":1.1,\"3578\":2.77,\"3579\":0.91,\"3580\":2.7,\"3581\":1.33,\"3582\":2.4,\"3583\":1.48,\"3584\":1.3,\"3585\":22.2,\"3586\":1.82,\"3587\":5.77,\"3588\":1.0,\"3589\":1.6,\"3590\":2.76,\"3591\":2.0,\"3592\":1.39,\"3593\":4.24,\"3594\":1.34,\"3595\":0.63,\"3596\":0.8,\"3597\":0.5,\"3598\":0.69,\"3599\":1.2,\"3600\":2.42,\"3601\":1.1,\"3602\":0.96,\"3603\":0.97,\"3604\":1.11,\"3605\":4.83,\"3606\":18.3,\"3607\":2.3,\"3608\":0.7,\"3609\":1.3,\"3610\":6.0,\"3611\":1.04,\"3612\":1.48,\"3613\":1.9,\"3614\":4.8,\"3615\":1.81,\"3616\":0.6,\"3617\":0.99,\"3618\":0.77,\"3619\":4.05,\"3620\":2.31,\"3621\":3.41,\"3622\":0.73,\"3623\":1.5,\"3624\":0.6,\"3625\":2.27,\"3626\":11.4,\"3627\":1.5,\"3628\":2.7,\"3629\":3.39,\"3630\":1.1,\"3631\":0.4,\"3632\":0.96,\"3633\":3.5,\"3634\":1.44,\"3635\":1.92,\"3636\":1.47,\"3637\":6.5,\"3638\":2.2,\"3639\":5.6,\"3640\":10.42,\"3641\":1.79,\"3642\":1.91,\"3643\":2.1,\"3644\":4.77,\"3645\":1.08,\"3646\":6.2,\"3647\":2.71,\"3648\":2.89,\"3649\":0.0,\"3650\":9.8,\"3651\":0.7,\"3652\":4.71,\"3653\":0.71,\"3654\":0.75,\"3655\":2.2,\"3656\":0.61,\"3657\":1.74,\"3658\":0.69,\"3659\":1.09,\"3660\":1.55,\"3661\":1.11,\"3662\":2.25,\"3663\":0.63,\"3664\":3.3,\"3665\":0.9,\"3666\":1.2,\"3667\":0.39,\"3668\":0.65,\"3669\":0.7,\"3670\":1.11,\"3671\":0.9,\"3672\":2.2,\"3673\":1.73,\"3674\":1.9,\"3675\":0.9,\"3676\":3.66,\"3677\":5.6,\"3678\":0.6,\"3679\":1.5,\"3680\":2.0,\"3681\":1.09,\"3682\":2.11,\"3683\":3.6,\"3684\":1.1,\"3685\":0.7,\"3686\":0.78,\"3687\":10.05,\"3688\":1.3,\"3689\":1.0,\"3690\":3.07,\"3691\":3.07,\"3692\":5.8,\"3693\":5.6,\"3694\":0.97,\"3695\":0.7,\"3696\":2.2,\"3697\":1.97,\"3698\":0.51,\"3699\":8.48,\"3700\":2.84,\"3701\":1.1,\"3702\":0.6,\"3703\":10.75,\"3704\":1.49,\"3705\":1.7,\"3706\":1.15,\"3707\":0.8,\"3708\":2.39,\"3709\":1.8,\"3710\":0.88,\"3711\":1.4,\"3712\":1.22,\"3713\":4.23,\"3714\":1.59,\"3715\":2.57,\"3716\":3.5,\"3717\":0.73,\"3718\":0.6,\"3719\":1.22,\"3720\":0.9,\"3721\":0.97,\"3722\":0.5,\"3723\":0.93,\"3724\":1.28,\"3725\":0.8,\"3726\":4.11,\"3727\":1.24,\"3728\":0.5,\"3729\":12.1,\"3730\":0.77,\"3731\":2.4,\"3732\":12.6,\"3733\":0.4,\"3734\":7.1,\"3735\":0.94,\"3736\":1.61,\"3737\":0.62,\"3738\":5.3,\"3739\":1.9,\"3740\":0.67,\"3741\":0.9,\"3742\":2.39,\"3743\":0.5,\"3744\":0.9,\"3745\":2.5,\"3746\":24.78,\"3747\":2.7,\"3748\":0.72,\"3749\":1.7,\"3750\":0.47,\"3751\":2.82,\"3752\":1.06,\"3753\":0.2,\"3754\":13.3,\"3755\":3.2,\"3756\":2.17,\"3757\":1.01,\"3758\":8.63,\"3759\":1.4,\"3760\":2.05,\"3761\":11.6,\"3762\":1.34,\"3763\":0.64,\"3764\":0.37,\"3765\":1.72,\"3766\":10.86,\"3767\":1.38,\"3768\":1.21,\"3769\":0.93,\"3770\":4.3,\"3771\":0.0,\"3772\":11.7,\"3773\":0.9,\"3774\":1.72,\"3775\":0.7,\"3776\":1.0,\"3777\":0.49,\"3778\":0.9,\"3779\":1.9,\"3780\":1.85,\"3781\":0.37,\"3782\":0.5,\"3783\":4.6,\"3784\":8.76,\"3785\":0.7,\"3786\":1.9,\"3787\":2.3,\"3788\":2.71,\"3789\":0.71,\"3790\":1.44,\"3791\":5.6,\"3792\":1.49,\"3793\":5.41,\"3794\":5.24,\"3795\":4.2,\"3796\":0.9,\"3797\":1.6,\"3798\":1.03,\"3799\":0.97,\"3800\":1.2,\"3801\":4.57,\"3802\":1.04,\"3803\":0.66,\"3804\":1.27,\"3805\":0.6,\"3806\":0.6,\"3807\":3.0,\"3808\":1.23,\"3809\":1.0,\"3810\":0.9,\"3811\":4.7,\"3812\":1.6,\"3813\":0.7,\"3814\":11.09,\"3815\":0.82,\"3816\":0.87,\"3817\":1.4,\"3818\":1.33,\"3819\":1.3,\"3820\":0.61,\"3821\":0.6,\"3822\":2.85,\"3823\":2.29,\"3824\":2.1,\"3825\":11.1,\"3826\":1.81,\"3827\":16.9,\"3828\":1.1,\"3829\":1.05,\"3830\":18.3,\"3831\":1.75,\"3832\":8.24,\"3833\":0.52,\"3834\":1.24,\"3835\":1.2,\"3836\":0.8,\"3837\":15.3,\"3838\":1.8,\"3839\":2.4,\"3840\":1.1,\"3841\":0.91,\"3842\":3.6,\"3843\":8.9,\"3844\":10.9,\"3845\":0.7,\"3846\":14.6,\"3847\":1.27,\"3848\":2.1,\"3849\":3.4,\"3850\":4.56,\"3851\":22.0,\"3852\":1.6,\"3853\":6.99,\"3854\":19.3,\"3855\":3.0,\"3856\":2.03,\"3857\":2.94,\"3858\":3.72,\"3859\":0.69,\"3860\":5.1,\"3861\":0.79,\"3862\":2.45,\"3863\":2.2,\"3864\":1.8,\"3865\":1.1,\"3866\":1.13,\"3867\":1.5,\"3868\":2.08,\"3869\":2.28,\"3870\":0.55,\"3871\":2.0,\"3872\":7.3,\"3873\":0.8,\"3874\":0.77,\"3875\":0.5,\"3876\":0.58,\"3877\":1.39,\"3878\":1.0,\"3879\":2.4,\"3880\":8.05,\"3881\":2.0,\"3882\":0.3,\"3883\":0.78,\"3884\":1.7,\"3885\":2.1,\"3886\":0.7,\"3887\":0.9,\"3888\":0.0,\"3889\":5.8,\"3890\":1.84,\"3891\":0.4,\"3892\":0.61,\"3893\":1.6,\"3894\":1.3,\"3895\":1.0,\"3896\":1.66,\"3897\":0.72,\"3898\":1.9,\"3899\":2.94,\"3900\":0.9,\"3901\":4.0,\"3902\":5.22,\"3903\":2.38,\"3904\":5.7,\"3905\":1.5,\"3906\":1.7,\"3907\":9.05,\"3908\":1.16,\"3909\":0.67,\"3910\":0.8,\"3911\":24.73,\"3912\":1.18,\"3913\":1.8,\"3914\":1.1,\"3915\":0.4,\"3916\":0.8,\"3917\":1.5,\"3918\":6.42,\"3919\":0.0,\"3920\":1.1,\"3921\":11.0,\"3922\":1.58,\"3923\":1.55,\"3924\":0.6,\"3925\":1.65,\"3926\":1.3,\"3927\":1.5,\"3928\":6.9,\"3929\":0.4,\"3930\":0.74,\"3931\":3.6,\"3932\":1.11,\"3933\":2.13,\"3934\":4.0,\"3935\":0.71,\"3936\":2.0,\"3937\":0.9,\"3938\":0.5,\"3939\":1.14,\"3940\":5.3,\"3941\":0.72,\"3942\":2.72,\"3943\":6.2,\"3944\":0.43,\"3945\":2.8,\"3946\":0.68,\"3947\":0.6,\"3948\":1.25,\"3949\":1.6,\"3950\":1.72,\"3951\":0.9,\"3952\":0.77,\"3953\":2.24,\"3954\":0.0,\"3955\":1.4,\"3956\":0.87,\"3957\":0.6,\"3958\":1.0,\"3959\":1.1,\"3960\":1.0,\"3961\":2.4,\"3962\":1.44,\"3963\":1.93,\"3964\":2.33,\"3965\":2.4,\"3966\":1.96,\"3967\":2.15,\"3968\":0.2,\"3969\":4.3,\"3970\":0.94,\"3971\":0.76,\"3972\":2.1,\"3973\":11.3,\"3974\":3.51,\"3975\":2.0,\"3976\":0.97,\"3977\":0.92,\"3978\":2.5,\"3979\":0.42,\"3980\":17.2,\"3981\":0.56,\"3982\":0.22,\"3983\":0.8,\"3984\":0.7,\"3985\":2.4,\"3986\":0.94,\"3987\":1.0,\"3988\":5.51,\"3989\":2.59,\"3990\":0.72,\"3991\":2.34,\"3992\":0.8,\"3993\":0.9,\"3994\":1.01,\"3995\":10.79,\"3996\":2.4,\"3997\":0.7,\"3998\":11.1,\"3999\":3.8,\"4000\":10.2,\"4001\":0.5,\"4002\":16.42,\"4003\":1.56,\"4004\":0.56,\"4005\":5.54,\"4006\":10.59,\"4007\":5.4,\"4008\":1.47,\"4009\":1.0,\"4010\":6.04,\"4011\":22.67,\"4012\":1.9,\"4013\":2.82,\"4014\":2.44,\"4015\":21.5,\"4016\":2.4,\"4017\":0.7,\"4018\":0.5,\"4019\":4.2,\"4020\":0.99,\"4021\":1.7,\"4022\":2.69,\"4023\":1.63,\"4024\":2.4,\"4025\":8.15,\"4026\":9.04,\"4027\":0.7,\"4028\":2.3,\"4029\":12.94,\"4030\":0.52,\"4031\":3.16,\"4032\":3.5,\"4033\":0.7,\"4034\":1.1,\"4035\":1.03,\"4036\":2.2,\"4037\":16.95,\"4038\":1.8,\"4039\":18.5,\"4040\":2.9,\"4041\":2.5,\"4042\":1.4,\"4043\":0.1,\"4044\":0.3,\"4045\":0.5,\"4046\":1.18,\"4047\":1.0,\"4048\":0.5,\"4049\":6.49,\"4050\":2.68,\"4051\":13.7,\"4052\":1.14,\"4053\":0.65,\"4054\":1.6,\"4055\":1.14,\"4056\":2.7,\"4057\":5.15,\"4058\":2.18,\"4059\":0.9,\"4060\":7.72,\"4061\":0.9,\"4062\":3.5,\"4063\":1.4,\"4064\":1.2,\"4065\":4.18,\"4066\":1.3,\"4067\":1.44,\"4068\":0.87,\"4069\":0.8,\"4070\":1.6,\"4071\":1.9,\"4072\":2.4,\"4073\":5.34,\"4074\":2.6,\"4075\":0.8,\"4076\":1.98,\"4077\":10.7,\"4078\":0.31,\"4079\":0.6,\"4080\":0.8,\"4081\":1.89,\"4082\":1.24,\"4083\":1.6,\"4084\":6.36,\"4085\":5.03,\"4086\":6.2,\"4087\":1.77,\"4088\":0.1,\"4089\":0.65,\"4090\":0.99,\"4091\":0.8,\"4092\":0.55,\"4093\":0.48,\"4094\":0.6,\"4095\":0.7,\"4096\":1.0,\"4097\":3.1,\"4098\":2.6,\"4099\":0.9,\"4100\":1.83,\"4101\":4.52,\"4102\":1.8,\"4103\":0.9,\"4104\":4.2,\"4105\":1.36,\"4106\":7.71,\"4107\":1.5,\"4108\":0.7,\"4109\":1.8,\"4110\":3.79,\"4111\":1.75,\"4112\":6.4,\"4113\":1.3,\"4114\":1.4,\"4115\":9.54,\"4116\":2.1,\"4117\":8.88,\"4118\":0.8,\"4119\":0.5,\"4120\":1.5,\"4121\":0.85,\"4122\":2.91,\"4123\":0.6,\"4124\":4.52,\"4125\":5.9,\"4126\":1.8,\"4127\":14.0,\"4128\":4.8,\"4129\":2.07,\"4130\":1.04,\"4131\":1.3,\"4132\":1.2,\"4133\":2.8,\"4134\":0.8,\"4135\":1.7,\"4136\":1.6,\"4137\":17.98,\"4138\":2.26,\"4139\":3.1,\"4140\":2.3,\"4141\":6.0,\"4142\":2.1,\"4143\":0.8,\"4144\":22.6,\"4145\":2.8,\"4146\":3.92,\"4147\":4.2,\"4148\":5.04,\"4149\":17.84,\"4150\":5.6,\"4151\":3.1,\"4152\":8.5,\"4153\":7.7,\"4154\":8.5,\"4155\":23.95,\"4156\":9.2,\"4157\":2.63,\"4158\":6.15,\"4159\":7.41,\"4160\":1.8,\"4161\":1.4,\"4162\":0.87,\"4163\":1.38,\"4164\":10.68,\"4165\":0.63,\"4166\":10.73,\"4167\":14.83,\"4168\":3.5,\"4169\":0.71,\"4170\":1.36,\"4171\":14.3,\"4172\":6.45,\"4173\":6.0,\"4174\":1.4,\"4175\":1.7,\"4176\":5.31,\"4177\":0.9,\"4178\":0.38,\"4179\":2.6,\"4180\":3.17,\"4181\":10.2,\"4182\":7.83,\"4183\":6.3,\"4184\":1.1,\"4185\":1.1,\"4186\":2.76,\"4187\":1.8,\"4188\":1.5,\"4189\":1.5,\"4190\":9.83,\"4191\":2.8,\"4192\":12.28,\"4193\":4.0,\"4194\":9.9,\"4195\":6.3,\"4196\":12.26,\"4197\":0.8,\"4198\":22.09,\"4199\":2.32,\"4200\":3.11,\"4201\":1.78,\"4202\":0.2,\"4203\":0.6,\"4204\":1.07,\"4205\":1.54,\"4206\":0.0,\"4207\":6.55,\"4208\":1.82,\"4209\":1.0,\"4210\":2.2,\"4211\":0.9,\"4212\":11.9,\"4213\":2.3,\"4214\":1.1,\"4215\":4.14,\"4216\":3.7,\"4217\":0.35,\"4218\":0.9,\"4219\":3.34,\"4220\":1.25,\"4221\":29.78,\"4222\":0.5,\"4223\":3.01,\"4224\":31.9,\"4225\":8.5,\"4226\":0.6,\"4227\":0.39,\"4228\":1.27,\"4229\":6.99,\"4230\":2.9,\"4231\":9.8,\"4232\":0.87,\"4233\":4.8,\"4234\":5.34,\"4235\":1.63,\"4236\":0.98,\"4237\":2.09,\"4238\":8.69,\"4239\":1.8,\"4240\":2.2,\"4241\":9.5,\"4242\":0.8,\"4243\":1.6,\"4244\":7.23,\"4245\":0.96,\"4246\":2.5,\"4247\":14.2,\"4248\":6.32,\"4249\":1.1,\"4250\":2.9,\"4251\":2.9,\"4252\":0.7,\"4253\":2.02,\"4254\":1.5,\"4255\":0.6,\"4256\":0.7,\"4257\":7.5,\"4258\":1.28,\"4259\":1.14,\"4260\":12.43,\"4261\":0.72,\"4262\":6.3,\"4263\":5.68,\"4264\":5.4,\"4265\":3.0,\"4266\":0.1,\"4267\":1.75,\"4268\":8.3,\"4269\":0.7,\"4270\":64.6,\"4271\":3.21,\"4272\":2.2,\"4273\":1.3,\"4274\":2.1,\"4275\":1.31,\"4276\":1.16,\"4277\":1.1,\"4278\":0.7,\"4279\":1.37,\"4280\":10.7,\"4281\":10.7,\"4282\":4.6,\"4283\":0.73,\"4284\":0.8,\"4285\":11.7,\"4286\":4.89,\"4287\":1.33,\"4288\":4.5,\"4289\":7.4,\"4290\":0.71,\"4291\":32.4,\"4292\":1.09,\"4293\":3.66,\"4294\":1.3,\"4295\":1.21,\"4296\":3.1,\"4297\":4.59,\"4298\":1.4,\"4299\":1.64,\"4300\":1.04,\"4301\":1.33,\"4302\":4.1,\"4303\":0.84,\"4304\":1.8,\"4305\":0.8,\"4306\":3.2,\"4307\":1.0,\"4308\":1.38,\"4309\":0.87,\"4310\":0.5,\"4311\":1.1,\"4312\":1.52,\"4313\":4.29,\"4314\":2.88,\"4315\":9.43,\"4316\":1.5,\"4317\":0.9,\"4318\":1.56,\"4319\":6.7,\"4320\":1.57,\"4321\":4.2,\"4322\":1.3,\"4323\":11.9,\"4324\":20.84,\"4325\":2.34,\"4326\":1.74,\"4327\":2.4,\"4328\":0.9,\"4329\":4.3,\"4330\":0.0,\"4331\":3.18,\"4332\":8.92,\"4333\":3.17,\"4334\":1.82,\"4335\":4.8,\"4336\":2.1,\"4337\":7.6,\"4338\":9.5,\"4339\":6.9,\"4340\":8.05,\"4341\":1.0,\"4342\":3.22,\"4343\":2.3,\"4344\":1.47,\"4345\":1.61,\"4346\":2.18,\"4347\":19.28,\"4348\":1.5,\"4349\":11.0,\"4350\":1.31,\"4351\":1.6,\"4352\":0.5,\"4353\":14.4,\"4354\":6.3,\"4355\":1.1,\"4356\":0.9,\"4357\":4.77,\"4358\":8.6,\"4359\":1.64,\"4360\":11.2,\"4361\":2.56,\"4362\":0.5,\"4363\":3.7,\"4364\":2.29,\"4365\":8.05,\"4366\":1.3,\"4367\":1.3,\"4368\":9.66,\"4369\":4.51,\"4370\":2.3,\"4371\":0.65,\"4372\":0.0,\"4373\":2.01,\"4374\":8.02,\"4375\":7.6,\"4376\":10.2,\"4377\":1.63,\"4378\":0.6,\"4379\":5.3,\"4380\":3.54,\"4381\":0.6,\"4382\":10.63,\"4383\":1.3,\"4384\":3.2,\"4385\":0.87,\"4386\":1.4,\"4387\":1.7,\"4388\":18.6,\"4389\":6.57,\"4390\":2.31,\"4391\":1.03,\"4392\":2.4,\"4393\":9.57,\"4394\":4.18,\"4395\":2.2,\"4396\":0.7,\"4397\":1.4,\"4398\":4.66,\"4399\":2.2,\"4400\":2.8,\"4401\":8.59,\"4402\":0.71,\"4403\":3.14,\"4404\":3.7,\"4405\":1.34,\"4406\":14.0,\"4407\":4.82,\"4408\":1.6,\"4409\":3.3,\"4410\":1.64,\"4411\":2.0,\"4412\":1.2,\"4413\":3.19,\"4414\":0.9,\"4415\":6.1,\"4416\":5.05,\"4417\":9.8,\"4418\":2.51,\"4419\":4.1,\"4420\":4.9,\"4421\":3.3,\"4422\":0.7,\"4423\":3.5,\"4424\":6.6,\"4425\":3.6,\"4426\":2.4,\"4427\":1.7,\"4428\":0.76,\"4429\":8.84,\"4430\":5.4,\"4431\":16.7,\"4432\":3.48,\"4433\":1.5,\"4434\":1.21,\"4435\":3.52,\"4436\":0.97,\"4437\":4.78,\"4438\":4.69,\"4439\":0.5,\"4440\":1.95,\"4441\":1.05,\"4442\":2.9,\"4443\":6.5,\"4444\":0.3,\"4445\":4.3,\"4446\":2.5,\"4447\":1.8,\"4448\":2.9,\"4449\":2.5,\"4450\":4.86,\"4451\":0.4,\"4452\":1.71,\"4453\":2.5,\"4454\":1.5,\"4455\":1.79,\"4456\":10.2,\"4457\":3.96,\"4458\":2.51,\"4459\":2.44,\"4460\":1.7,\"4461\":0.42,\"4462\":2.09,\"4463\":1.99,\"4464\":2.17,\"4465\":0.0,\"4466\":1.64,\"4467\":0.59,\"4468\":0.6,\"4469\":1.2,\"4470\":1.9,\"4471\":1.2,\"4472\":1.37,\"4473\":16.61,\"4474\":0.6,\"4475\":8.4,\"4476\":4.98,\"4477\":2.5,\"4478\":1.5,\"4479\":3.05,\"4480\":13.84,\"4481\":0.6,\"4482\":6.7,\"4483\":1.7,\"4484\":7.4,\"4485\":0.6,\"4486\":3.6,\"4487\":2.09,\"4488\":3.0,\"4489\":1.8,\"4490\":0.56,\"4491\":14.22,\"4492\":3.3,\"4493\":2.7,\"4494\":13.7,\"4495\":0.69,\"4496\":0.5,\"4497\":8.05,\"4498\":7.77,\"4499\":0.8,\"4500\":1.0,\"4501\":3.5,\"4502\":7.0,\"4503\":0.6,\"4504\":2.5,\"4505\":4.79,\"4506\":1.7,\"4507\":4.08,\"4508\":2.4,\"4509\":1.5,\"4510\":0.8,\"4511\":3.3,\"4512\":0.3,\"4513\":3.13,\"4514\":5.3,\"4515\":3.94,\"4516\":0.6,\"4517\":6.1,\"4518\":0.5,\"4519\":1.9,\"4520\":0.8,\"4521\":1.6,\"4522\":9.52,\"4523\":1.6,\"4524\":8.4,\"4525\":6.05,\"4526\":2.22,\"4527\":3.5,\"4528\":1.52,\"4529\":8.5,\"4530\":0.73,\"4531\":1.9,\"4532\":4.5,\"4533\":0.0,\"4534\":3.01,\"4535\":1.7,\"4536\":3.02,\"4537\":5.21,\"4538\":1.8,\"4539\":6.5,\"4540\":18.1,\"4541\":1.0,\"4542\":4.0,\"4543\":1.89,\"4544\":5.1,\"4545\":1.98,\"4546\":8.77,\"4547\":0.9,\"4548\":9.2,\"4549\":15.7,\"4550\":24.97,\"4551\":9.79,\"4552\":2.2,\"4553\":0.9,\"4554\":2.3,\"4555\":11.02,\"4556\":1.48,\"4557\":1.1,\"4558\":4.78,\"4559\":2.3,\"4560\":1.06,\"4561\":2.7,\"4562\":10.41,\"4563\":1.88,\"4564\":7.7,\"4565\":1.8,\"4566\":4.1,\"4567\":3.0,\"4568\":3.15,\"4569\":4.26,\"4570\":1.9,\"4571\":4.38,\"4572\":7.6,\"4573\":17.11,\"4574\":0.84,\"4575\":0.5,\"4576\":8.22,\"4577\":0.58,\"4578\":0.97,\"4579\":20.79,\"4580\":0.93,\"4581\":1.8,\"4582\":3.3,\"4583\":37.2,\"4584\":0.5,\"4585\":0.5,\"4586\":4.5,\"4587\":3.9,\"4588\":3.4,\"4589\":2.15,\"4590\":1.97,\"4591\":1.7,\"4592\":3.8,\"4593\":0.42,\"4594\":6.5,\"4595\":4.13,\"4596\":8.2,\"4597\":0.7,\"4598\":4.53,\"4599\":3.1,\"4600\":2.3,\"4601\":4.12,\"4602\":3.73,\"4603\":11.42,\"4604\":8.0,\"4605\":2.41,\"4606\":0.86,\"4607\":2.78,\"4608\":0.8,\"4609\":1.7,\"4610\":2.4,\"4611\":1.2,\"4612\":7.0,\"4613\":1.4,\"4614\":1.4,\"4615\":0.9,\"4616\":3.1,\"4617\":0.7,\"4618\":0.77,\"4619\":0.42,\"4620\":3.37,\"4621\":0.5,\"4622\":1.1,\"4623\":19.9,\"4624\":3.1,\"4625\":5.09,\"4626\":2.08,\"4627\":0.7,\"4628\":0.7,\"4629\":0.5,\"4630\":4.5,\"4631\":3.4,\"4632\":1.0,\"4633\":19.0,\"4634\":6.86,\"4635\":7.3,\"4636\":2.62,\"4637\":18.2,\"4638\":11.5,\"4639\":10.6,\"4640\":1.93,\"4641\":2.5,\"4642\":3.83,\"4643\":0.78,\"4644\":0.82,\"4645\":0.8,\"4646\":1.0,\"4647\":1.3,\"4648\":0.0,\"4649\":6.25,\"4650\":4.17,\"4651\":0.0,\"4652\":5.6,\"4653\":0.7,\"4654\":2.0,\"4655\":0.6,\"4656\":5.93,\"4657\":0.94,\"4658\":5.06,\"4659\":8.8,\"4660\":7.3,\"4661\":1.7,\"4662\":5.0,\"4663\":0.8,\"4664\":9.1,\"4665\":3.15,\"4666\":1.27,\"4667\":7.3,\"4668\":2.29,\"4669\":1.8,\"4670\":3.15,\"4671\":3.49,\"4672\":3.0,\"4673\":0.6,\"4674\":0.4,\"4675\":2.07,\"4676\":4.2,\"4677\":4.3,\"4678\":1.0,\"4679\":0.99,\"4680\":2.32,\"4681\":4.03,\"4682\":9.1,\"4683\":1.98,\"4684\":1.0,\"4685\":10.4,\"4686\":2.2,\"4687\":1.7,\"4688\":3.0,\"4689\":3.7,\"4690\":1.49,\"4691\":6.32,\"4692\":0.8,\"4693\":1.5,\"4694\":4.7,\"4695\":0.81,\"4696\":2.6,\"4697\":1.9,\"4698\":10.2,\"4699\":3.43,\"4700\":0.45,\"4701\":5.53,\"4702\":6.62,\"4703\":1.3,\"4704\":2.18,\"4705\":6.1,\"4706\":9.69,\"4707\":1.68,\"4708\":2.32,\"4709\":8.4,\"4710\":3.59,\"4711\":1.06,\"4712\":3.4,\"4713\":2.1,\"4714\":1.93,\"4715\":0.9,\"4716\":0.77,\"4717\":0.86,\"4718\":1.8,\"4719\":0.82,\"4720\":1.91,\"4721\":0.41,\"4722\":2.1,\"4723\":2.0,\"4724\":12.0,\"4725\":16.5,\"4726\":2.35,\"4727\":19.3,\"4728\":11.03,\"4729\":1.07,\"4730\":6.1,\"4731\":1.7,\"4732\":2.8,\"4733\":1.14,\"4734\":1.22,\"4735\":1.5,\"4736\":2.1,\"4737\":3.37,\"4738\":0.6,\"4739\":1.9,\"4740\":4.3,\"4741\":0.5,\"4742\":1.8,\"4743\":0.7,\"4744\":0.23,\"4745\":1.18,\"4746\":3.29,\"4747\":1.51,\"4748\":3.7,\"4749\":0.77,\"4750\":1.3,\"4751\":5.16,\"4752\":0.45,\"4753\":1.6,\"4754\":1.7,\"4755\":0.38,\"4756\":2.8,\"4757\":3.67,\"4758\":1.39,\"4759\":0.56,\"4760\":2.8,\"4761\":0.6,\"4762\":2.13,\"4763\":3.1,\"4764\":0.43,\"4765\":1.63,\"4766\":0.7,\"4767\":1.6,\"4768\":1.07,\"4769\":0.52,\"4770\":1.4,\"4771\":11.6,\"4772\":0.65,\"4773\":0.9,\"4774\":1.0,\"4775\":9.6,\"4776\":0.85,\"4777\":2.4,\"4778\":2.82,\"4779\":1.2,\"4780\":1.93,\"4781\":1.53,\"4782\":1.67,\"4783\":1.6,\"4784\":3.13,\"4785\":1.85,\"4786\":1.3,\"4787\":1.63,\"4788\":2.82,\"4789\":8.88,\"4790\":0.55,\"4791\":1.3,\"4792\":4.2,\"4793\":1.6,\"4794\":0.48,\"4795\":2.56,\"4796\":0.6,\"4797\":1.3,\"4798\":0.83,\"4799\":1.7,\"4800\":0.6,\"4801\":1.19,\"4802\":1.2,\"4803\":0.8,\"4804\":1.13,\"4805\":2.1,\"4806\":1.76,\"4807\":0.8,\"4808\":0.0,\"4809\":2.05,\"4810\":1.6,\"4811\":0.77,\"4812\":1.69,\"4813\":2.0,\"4814\":0.75,\"4815\":1.6,\"4816\":0.4,\"4817\":1.1,\"4818\":5.54,\"4819\":0.61,\"4820\":0.93,\"4821\":9.36,\"4822\":4.9,\"4823\":2.72,\"4824\":1.9,\"4825\":0.0,\"4826\":0.98,\"4827\":2.86,\"4828\":1.4,\"4829\":0.6,\"4830\":0.68,\"4831\":4.45,\"4832\":1.0,\"4833\":2.6,\"4834\":1.96,\"4835\":2.2,\"4836\":1.3,\"4837\":1.1,\"4838\":0.59,\"4839\":1.37,\"4840\":2.0,\"4841\":0.0,\"4842\":0.5,\"4843\":6.97,\"4844\":1.4,\"4845\":5.36,\"4846\":3.2,\"4847\":2.9,\"4848\":1.4,\"4849\":0.4,\"4850\":1.5,\"4851\":1.3,\"4852\":0.79,\"4853\":1.4,\"4854\":1.7,\"4855\":1.9,\"4856\":1.0,\"4857\":1.02,\"4858\":1.9,\"4859\":0.7,\"4860\":0.5,\"4861\":1.44,\"4862\":1.4,\"4863\":1.7,\"4864\":11.5,\"4865\":1.7,\"4866\":2.2,\"4867\":1.85,\"4868\":5.75,\"4869\":3.1,\"4870\":1.0,\"4871\":1.26,\"4872\":0.5,\"4873\":6.8,\"4874\":1.12,\"4875\":0.6,\"4876\":0.9,\"4877\":8.13,\"4878\":0.4,\"4879\":8.06,\"4880\":7.36,\"4881\":2.39,\"4882\":1.9,\"4883\":2.04,\"4884\":1.0,\"4885\":0.63,\"4886\":1.7,\"4887\":7.16,\"4888\":0.8,\"4889\":0.45,\"4890\":1.6,\"4891\":0.9,\"4892\":0.5,\"4893\":1.0,\"4894\":1.12,\"4895\":2.26,\"4896\":0.2,\"4897\":1.3,\"4898\":15.4,\"4899\":1.95,\"4900\":0.9,\"4901\":3.01,\"4902\":1.1,\"4903\":0.82,\"4904\":1.3,\"4905\":0.6,\"4906\":0.9,\"4907\":0.6,\"4908\":0.64,\"4909\":2.0,\"4910\":1.9,\"4911\":1.18,\"4912\":0.4,\"4913\":3.2,\"4914\":2.2,\"4915\":3.63,\"4916\":0.86,\"4917\":1.2,\"4918\":2.71,\"4919\":1.2,\"4920\":1.55,\"4921\":1.13,\"4922\":1.1,\"4923\":9.6,\"4924\":22.46,\"4925\":1.0,\"4926\":2.78,\"4927\":1.06,\"4928\":0.5,\"4929\":17.05,\"4930\":2.02,\"4931\":0.94,\"4932\":1.1,\"4933\":1.2,\"4934\":1.6,\"4935\":0.9,\"4936\":2.6,\"4937\":0.6,\"4938\":2.6,\"4939\":2.29,\"4940\":1.2,\"4941\":1.81,\"4942\":1.8,\"4943\":1.28,\"4944\":0.68,\"4945\":0.8,\"4946\":0.5,\"4947\":10.7,\"4948\":2.5,\"4949\":0.61,\"4950\":0.7,\"4951\":2.1,\"4952\":0.44,\"4953\":2.1,\"4954\":1.8,\"4955\":0.6,\"4956\":1.7,\"4957\":1.9,\"4958\":9.5,\"4959\":1.84,\"4960\":0.75,\"4961\":1.92,\"4962\":1.0,\"4963\":1.7,\"4964\":1.5,\"4965\":0.5,\"4966\":2.22,\"4967\":0.7,\"4968\":1.91,\"4969\":1.01,\"4970\":1.6,\"4971\":0.6,\"4972\":11.3,\"4973\":1.68,\"4974\":1.6,\"4975\":1.3,\"4976\":0.7,\"4977\":2.31,\"4978\":1.5,\"4979\":1.42,\"4980\":4.72,\"4981\":1.09,\"4982\":6.8,\"4983\":0.52,\"4984\":5.7,\"4985\":1.06,\"4986\":1.63,\"4987\":2.12,\"4988\":0.73,\"4989\":1.74,\"4990\":2.55,\"4991\":1.6,\"4992\":2.2,\"4993\":1.4,\"4994\":4.2,\"4995\":5.19,\"4996\":0.3,\"4997\":2.05,\"4998\":6.3,\"4999\":1.2,\"5000\":4.6,\"5001\":2.27,\"5002\":0.89,\"5003\":1.33,\"5004\":1.47,\"5005\":3.0,\"5006\":1.02,\"5007\":2.23,\"5008\":1.2,\"5009\":0.78,\"5010\":2.12,\"5011\":1.0,\"5012\":8.0,\"5013\":5.06,\"5014\":8.79,\"5015\":15.81,\"5016\":1.1,\"5017\":0.6,\"5018\":1.5,\"5019\":1.51,\"5020\":2.1,\"5021\":0.63,\"5022\":2.0,\"5023\":2.42,\"5024\":1.0,\"5025\":8.1,\"5026\":0.66,\"5027\":0.87,\"5028\":19.91,\"5029\":11.4,\"5030\":14.9,\"5031\":1.3,\"5032\":1.0,\"5033\":2.3,\"5034\":0.7,\"5035\":5.1,\"5036\":0.81,\"5037\":0.78,\"5038\":1.65,\"5039\":1.2,\"5040\":3.5,\"5041\":2.5,\"5042\":11.88,\"5043\":6.3,\"5044\":1.3,\"5045\":0.0,\"5046\":0.93,\"5047\":1.94,\"5048\":1.09,\"5049\":2.0,\"5050\":1.29,\"5051\":2.8,\"5052\":0.39,\"5053\":3.1,\"5054\":7.0,\"5055\":0.73,\"5056\":1.0,\"5057\":2.6,\"5058\":1.68,\"5059\":2.5,\"5060\":4.43,\"5061\":4.39,\"5062\":9.6,\"5063\":7.0,\"5064\":1.62,\"5065\":1.29,\"5066\":7.55,\"5067\":1.7,\"5068\":0.7,\"5069\":1.2,\"5070\":0.4,\"5071\":1.63,\"5072\":3.5,\"5073\":9.05,\"5074\":2.61,\"5075\":1.28,\"5076\":0.3,\"5077\":1.85,\"5078\":0.84,\"5079\":0.6,\"5080\":1.63,\"5081\":1.5,\"5082\":1.29,\"5083\":1.8,\"5084\":5.4,\"5085\":15.98,\"5086\":2.59,\"5087\":0.0,\"5088\":0.7,\"5089\":3.7,\"5090\":1.0,\"5091\":0.78,\"5092\":0.96,\"5093\":3.5,\"5094\":1.17,\"5095\":11.08,\"5096\":9.93,\"5097\":1.3,\"5098\":3.16,\"5099\":18.15,\"5100\":1.28,\"5101\":3.7,\"5102\":1.0,\"5103\":1.7,\"5104\":13.78,\"5105\":1.8,\"5106\":1.12,\"5107\":13.0,\"5108\":3.61,\"5109\":1.0,\"5110\":0.5,\"5111\":1.42,\"5112\":1.4,\"5113\":17.0,\"5114\":0.7,\"5115\":2.69,\"5116\":1.1,\"5117\":0.7,\"5118\":1.02,\"5119\":1.82,\"5120\":0.7,\"5121\":0.86,\"5122\":1.11,\"5123\":1.0,\"5124\":2.71,\"5125\":0.9,\"5126\":0.95,\"5127\":6.49,\"5128\":7.9,\"5129\":1.9,\"5130\":2.14,\"5131\":0.61,\"5132\":0.8,\"5133\":3.0,\"5134\":1.65,\"5135\":1.35,\"5136\":0.59,\"5137\":1.61,\"5138\":1.43,\"5139\":1.09,\"5140\":9.0,\"5141\":2.08,\"5142\":5.6,\"5143\":8.9,\"5144\":9.87,\"5145\":1.0,\"5146\":1.2,\"5147\":0.84,\"5148\":0.63,\"5149\":7.66,\"5150\":0.78,\"5151\":0.8,\"5152\":9.1,\"5153\":1.5,\"5154\":1.71,\"5155\":1.3,\"5156\":2.19,\"5157\":3.14,\"5158\":12.5,\"5159\":10.3,\"5160\":1.9,\"5161\":0.87,\"5162\":1.6,\"5163\":5.2,\"5164\":2.17,\"5165\":1.85,\"5166\":1.37,\"5167\":1.0,\"5168\":9.1,\"5169\":2.9,\"5170\":1.0,\"5171\":1.3,\"5172\":1.55,\"5173\":1.9,\"5174\":11.62,\"5175\":10.3,\"5176\":1.64,\"5177\":1.2,\"5178\":0.99,\"5179\":1.6,\"5180\":1.08,\"5181\":2.2,\"5182\":0.4,\"5183\":1.2,\"5184\":0.1,\"5185\":19.69,\"5186\":0.61,\"5187\":0.9,\"5188\":17.0,\"5189\":1.1,\"5190\":1.8,\"5191\":0.5,\"5192\":0.8,\"5193\":3.06,\"5194\":2.88,\"5195\":1.5,\"5196\":1.6,\"5197\":1.26,\"5198\":2.7,\"5199\":1.8,\"5200\":2.2,\"5201\":0.77,\"5202\":1.11,\"5203\":0.6,\"5204\":2.2,\"5205\":0.69,\"5206\":1.9,\"5207\":1.0,\"5208\":2.3,\"5209\":0.44,\"5210\":20.31,\"5211\":1.3,\"5212\":1.6,\"5213\":0.07,\"5214\":1.32,\"5215\":1.3,\"5216\":1.4,\"5217\":1.2,\"5218\":2.9,\"5219\":1.5,\"5220\":0.92,\"5221\":0.75,\"5222\":1.6,\"5223\":6.2,\"5224\":0.63,\"5225\":9.2,\"5226\":0.8,\"5227\":0.43,\"5228\":1.5,\"5229\":9.9,\"5230\":2.0,\"5231\":1.1,\"5232\":1.7,\"5233\":0.7,\"5234\":1.1,\"5235\":1.1,\"5236\":7.86,\"5237\":0.47,\"5238\":1.0,\"5239\":1.1,\"5240\":1.07,\"5241\":4.61,\"5242\":2.42,\"5243\":1.34,\"5244\":0.3,\"5245\":2.0,\"5246\":2.2,\"5247\":0.0,\"5248\":1.3,\"5249\":2.43,\"5250\":0.6,\"5251\":2.25,\"5252\":1.0,\"5253\":1.8,\"5254\":1.6,\"5255\":0.5,\"5256\":0.9,\"5257\":10.6,\"5258\":1.7,\"5259\":3.22,\"5260\":1.4,\"5261\":1.07,\"5262\":2.5,\"5263\":1.06,\"5264\":1.78,\"5265\":2.08,\"5266\":1.89,\"5267\":3.86,\"5268\":2.1,\"5269\":0.6,\"5270\":1.16,\"5271\":2.2,\"5272\":1.7,\"5273\":1.32,\"5274\":10.73,\"5275\":1.68,\"5276\":10.99,\"5277\":1.2,\"5278\":1.18,\"5279\":0.79,\"5280\":5.71,\"5281\":0.52,\"5282\":2.5,\"5283\":1.92,\"5284\":3.7,\"5285\":9.1,\"5286\":1.1,\"5287\":3.5,\"5288\":10.38,\"5289\":2.6,\"5290\":3.5,\"5291\":0.4,\"5292\":0.94,\"5293\":9.6,\"5294\":1.28,\"5295\":0.36,\"5296\":2.1,\"5297\":0.9,\"5298\":5.0,\"5299\":0.99,\"5300\":17.3,\"5301\":0.68,\"5302\":11.11,\"5303\":0.3,\"5304\":0.8,\"5305\":6.6,\"5306\":3.2,\"5307\":2.7,\"5308\":1.45,\"5309\":0.2,\"5310\":1.7,\"5311\":1.1,\"5312\":5.19,\"5313\":3.6,\"5314\":0.63,\"5315\":1.43,\"5316\":1.91,\"5317\":0.6,\"5318\":2.2,\"5319\":2.2,\"5320\":2.02,\"5321\":2.91,\"5322\":5.6,\"5323\":1.3,\"5324\":2.2,\"5325\":1.2,\"5326\":0.8,\"5327\":1.71,\"5328\":3.29,\"5329\":1.2,\"5330\":1.29,\"5331\":1.23,\"5332\":10.93,\"5333\":1.5,\"5334\":2.2,\"5335\":9.8,\"5336\":2.07,\"5337\":1.8,\"5338\":1.24,\"5339\":11.0,\"5340\":1.2,\"5341\":0.8,\"5342\":1.73,\"5343\":1.66,\"5344\":2.23,\"5345\":2.42,\"5346\":5.03,\"5347\":1.78,\"5348\":7.6,\"5349\":9.65,\"5350\":1.2,\"5351\":1.2,\"5352\":14.9,\"5353\":12.09,\"5354\":9.34,\"5355\":0.62,\"5356\":0.49,\"5357\":2.4,\"5358\":10.94,\"5359\":1.8,\"5360\":1.2,\"5361\":0.7,\"5362\":2.1,\"5363\":0.47,\"5364\":0.9,\"5365\":1.3,\"5366\":1.7,\"5367\":1.29,\"5368\":0.22,\"5369\":1.37,\"5370\":0.28,\"5371\":2.07,\"5372\":1.4,\"5373\":1.2,\"5374\":3.62,\"5375\":0.5,\"5376\":0.4,\"5377\":1.31,\"5378\":3.89,\"5379\":3.0,\"5380\":1.2,\"5381\":1.71,\"5382\":4.44,\"5383\":1.2,\"5384\":3.62,\"5385\":0.44,\"5386\":2.9,\"5387\":3.5,\"5388\":0.82,\"5389\":18.7,\"5390\":1.85,\"5391\":1.32,\"5392\":11.12,\"5393\":1.0,\"5394\":0.9,\"5395\":6.3,\"5396\":14.36,\"5397\":3.7,\"5398\":3.7,\"5399\":0.85,\"5400\":1.64,\"5401\":3.2,\"5402\":0.4,\"5403\":0.66,\"5404\":17.97,\"5405\":3.19,\"5406\":1.45,\"5407\":1.5,\"5408\":1.0,\"5409\":0.72,\"5410\":9.4,\"5411\":2.7,\"5412\":0.9,\"5413\":0.62,\"5414\":0.71,\"5415\":4.25,\"5416\":14.1,\"5417\":1.8,\"5418\":2.12,\"5419\":1.1,\"5420\":1.1,\"5421\":0.6,\"5422\":0.8,\"5423\":0.33,\"5424\":16.82,\"5425\":1.6,\"5426\":0.7,\"5427\":15.2,\"5428\":0.58,\"5429\":0.53,\"5430\":1.0,\"5431\":1.53,\"5432\":2.2,\"5433\":19.4,\"5434\":0.3,\"5435\":2.1,\"5436\":2.3,\"5437\":1.42,\"5438\":0.71,\"5439\":1.6,\"5440\":2.14,\"5441\":2.0,\"5442\":0.66,\"5443\":1.7,\"5444\":1.2,\"5445\":1.0,\"5446\":5.95,\"5447\":11.27,\"5448\":2.6,\"5449\":1.27,\"5450\":1.67,\"5451\":1.3,\"5452\":1.9,\"5453\":1.4,\"5454\":1.5,\"5455\":0.9,\"5456\":6.13,\"5457\":1.1,\"5458\":2.2,\"5459\":3.02,\"5460\":1.0,\"5461\":2.7,\"5462\":4.12,\"5463\":1.5,\"5464\":0.9,\"5465\":1.07,\"5466\":1.6,\"5467\":1.06,\"5468\":1.9,\"5469\":2.3,\"5470\":34.84,\"5471\":6.75,\"5472\":1.1,\"5473\":1.7,\"5474\":0.8,\"5475\":1.4,\"5476\":10.81,\"5477\":1.0,\"5478\":1.1,\"5479\":0.7,\"5480\":9.45,\"5481\":2.5,\"5482\":11.51,\"5483\":2.4,\"5484\":1.6,\"5485\":15.2,\"5486\":0.6,\"5487\":11.9,\"5488\":2.36,\"5489\":1.07,\"5490\":0.4,\"5491\":3.6,\"5492\":2.1,\"5493\":2.2,\"5494\":0.8,\"5495\":1.04,\"5496\":9.9,\"5497\":2.6,\"5498\":1.04,\"5499\":0.97,\"5500\":1.11,\"5501\":2.1,\"5502\":0.59,\"5503\":1.2,\"5504\":0.3,\"5505\":1.0,\"5506\":1.5,\"5507\":1.2,\"5508\":1.8,\"5509\":0.89,\"5510\":1.7,\"5511\":0.87,\"5512\":0.9,\"5513\":1.4,\"5514\":1.02,\"5515\":0.82,\"5516\":21.7,\"5517\":0.5,\"5518\":1.7,\"5519\":1.23,\"5520\":0.99,\"5521\":2.71,\"5522\":0.43,\"5523\":0.6,\"5524\":9.37,\"5525\":0.37,\"5526\":2.0,\"5527\":1.68,\"5528\":1.2,\"5529\":1.3,\"5530\":1.26,\"5531\":1.1,\"5532\":1.07,\"5533\":3.49,\"5534\":0.6,\"5535\":9.5,\"5536\":17.09,\"5537\":1.45,\"5538\":0.4,\"5539\":0.74,\"5540\":1.05,\"5541\":1.0,\"5542\":1.9,\"5543\":1.1,\"5544\":9.7,\"5545\":1.0,\"5546\":1.28,\"5547\":3.59,\"5548\":3.2,\"5549\":0.97,\"5550\":1.5,\"5551\":3.03,\"5552\":0.6,\"5553\":0.79,\"5554\":2.44,\"5555\":1.3,\"5556\":1.2,\"5557\":1.9,\"5558\":0.0,\"5559\":1.4,\"5560\":0.97,\"5561\":1.92,\"5562\":23.2,\"5563\":1.05,\"5564\":0.8,\"5565\":0.9,\"5566\":2.0,\"5567\":0.89,\"5568\":1.0,\"5569\":1.79,\"5570\":1.15,\"5571\":1.1,\"5572\":1.96,\"5573\":1.1,\"5574\":2.28,\"5575\":17.53,\"5576\":0.6,\"5577\":3.38,\"5578\":0.8,\"5579\":0.1,\"5580\":0.6,\"5581\":1.9,\"5582\":3.57,\"5583\":0.4,\"5584\":2.1,\"5585\":1.1,\"5586\":0.71,\"5587\":0.42,\"5588\":0.9,\"5589\":0.91,\"5590\":0.67,\"5591\":2.76,\"5592\":8.4,\"5593\":1.42,\"5594\":12.1,\"5595\":0.99,\"5596\":13.3,\"5597\":1.39,\"5598\":1.4,\"5599\":1.1,\"5600\":1.17,\"5601\":1.39,\"5602\":10.58,\"5603\":0.5,\"5604\":1.1,\"5605\":1.2,\"5606\":1.94,\"5607\":1.1,\"5608\":1.33,\"5609\":0.6,\"5610\":1.38,\"5611\":0.5,\"5612\":1.3,\"5613\":0.71,\"5614\":0.59,\"5615\":1.1,\"5616\":9.32,\"5617\":6.25,\"5618\":1.42,\"5619\":2.62,\"5620\":8.7,\"5621\":11.05,\"5622\":1.76,\"5623\":0.6,\"5624\":1.1,\"5625\":0.9,\"5626\":2.4,\"5627\":20.9,\"5628\":2.1,\"5629\":16.7,\"5630\":0.8,\"5631\":15.53,\"5632\":0.96,\"5633\":1.4,\"5634\":10.8,\"5635\":0.51,\"5636\":11.8,\"5637\":0.84,\"5638\":0.8,\"5639\":0.6,\"5640\":1.37,\"5641\":1.67,\"5642\":1.5,\"5643\":0.57,\"5644\":0.76,\"5645\":1.44,\"5646\":3.8,\"5647\":3.96,\"5648\":1.6,\"5649\":1.06,\"5650\":16.09,\"5651\":1.4,\"5652\":1.6,\"5653\":10.1,\"5654\":4.9,\"5655\":1.3,\"5656\":1.4,\"5657\":2.6,\"5658\":1.2,\"5659\":0.56,\"5660\":1.1,\"5661\":9.96,\"5662\":15.9,\"5663\":1.75,\"5664\":0.8,\"5665\":0.55,\"5666\":1.21,\"5667\":1.38,\"5668\":1.36,\"5669\":1.0,\"5670\":15.1,\"5671\":3.6,\"5672\":0.6,\"5673\":2.17,\"5674\":0.9,\"5675\":1.02,\"5676\":10.3,\"5677\":1.56,\"5678\":1.0,\"5679\":0.6,\"5680\":0.7,\"5681\":1.13,\"5682\":2.4,\"5683\":2.6,\"5684\":4.79,\"5685\":1.1,\"5686\":2.2,\"5687\":3.65,\"5688\":0.7,\"5689\":1.6,\"5690\":2.36,\"5691\":1.4,\"5692\":1.03,\"5693\":11.22,\"5694\":1.3,\"5695\":1.17,\"5696\":0.9,\"5697\":0.35,\"5698\":1.3,\"5699\":2.05,\"5700\":2.61,\"5701\":0.84,\"5702\":1.11,\"5703\":1.79,\"5704\":1.3,\"5705\":3.1,\"5706\":2.4,\"5707\":2.37,\"5708\":2.06,\"5709\":0.6,\"5710\":1.03,\"5711\":1.75,\"5712\":1.27,\"5713\":1.93,\"5714\":1.6,\"5715\":1.88,\"5716\":1.0,\"5717\":0.6,\"5718\":17.73,\"5719\":0.89,\"5720\":1.05,\"5721\":6.3,\"5722\":10.52,\"5723\":0.5,\"5724\":1.73,\"5725\":0.6,\"5726\":1.05,\"5727\":2.8,\"5728\":1.09,\"5729\":1.3,\"5730\":0.6,\"5731\":0.0,\"5732\":1.1,\"5733\":1.46,\"5734\":3.55,\"5735\":3.3,\"5736\":0.91,\"5737\":0.75,\"5738\":3.1,\"5739\":0.6,\"5740\":3.9,\"5741\":1.05,\"5742\":1.11,\"5743\":1.02,\"5744\":1.3,\"5745\":2.99,\"5746\":1.7,\"5747\":3.6,\"5748\":22.66,\"5749\":0.53,\"5750\":1.0,\"5751\":1.23,\"5752\":1.9,\"5753\":10.34,\"5754\":1.1,\"5755\":1.8,\"5756\":2.8,\"5757\":1.08,\"5758\":1.52,\"5759\":3.1,\"5760\":7.76,\"5761\":0.6,\"5762\":2.95,\"5763\":2.11,\"5764\":1.6,\"5765\":2.4,\"5766\":0.72,\"5767\":0.66,\"5768\":1.1,\"5769\":0.73,\"5770\":3.0,\"5771\":0.9,\"5772\":3.1,\"5773\":1.87,\"5774\":0.37,\"5775\":0.9,\"5776\":1.3,\"5777\":2.3,\"5778\":1.66,\"5779\":0.76,\"5780\":2.1,\"5781\":3.0,\"5782\":0.9,\"5783\":1.8,\"5784\":12.3,\"5785\":0.4,\"5786\":15.75,\"5787\":1.35,\"5788\":2.7,\"5789\":0.9,\"5790\":1.81,\"5791\":2.28,\"5792\":3.29,\"5793\":1.0,\"5794\":0.7,\"5795\":0.6,\"5796\":1.8,\"5797\":2.3,\"5798\":0.0,\"5799\":1.1,\"5800\":1.7,\"5801\":2.5,\"5802\":1.1,\"5803\":1.9,\"5804\":9.0,\"5805\":1.03,\"5806\":1.3,\"5807\":3.1,\"5808\":0.8,\"5809\":0.56,\"5810\":0.7,\"5811\":0.7,\"5812\":1.7,\"5813\":2.22,\"5814\":6.15,\"5815\":2.07,\"5816\":0.44,\"5817\":1.1,\"5818\":0.6,\"5819\":1.1,\"5820\":2.31,\"5821\":1.2,\"5822\":0.5,\"5823\":2.5,\"5824\":1.7,\"5825\":1.75,\"5826\":17.98,\"5827\":5.18,\"5828\":9.8,\"5829\":1.48,\"5830\":1.6,\"5831\":1.8,\"5832\":2.08,\"5833\":0.32,\"5834\":0.95,\"5835\":1.1,\"5836\":1.3,\"5837\":1.01,\"5838\":7.62,\"5839\":0.8,\"5840\":1.55,\"5841\":3.08,\"5842\":0.72,\"5843\":1.31,\"5844\":1.06,\"5845\":0.6,\"5846\":1.3,\"5847\":1.1,\"5848\":2.08,\"5849\":2.3,\"5850\":16.88,\"5851\":0.49,\"5852\":1.8,\"5853\":1.0,\"5854\":1.12,\"5855\":3.61,\"5856\":2.0,\"5857\":0.9,\"5858\":0.7,\"5859\":0.0,\"5860\":2.1,\"5861\":0.7,\"5862\":1.5,\"5863\":6.7,\"5864\":3.98,\"5865\":0.7,\"5866\":1.3,\"5867\":0.8,\"5868\":1.47,\"5869\":1.7,\"5870\":1.3,\"5871\":2.61,\"5872\":0.69,\"5873\":1.41,\"5874\":12.6,\"5875\":2.6,\"5876\":2.5,\"5877\":1.47,\"5878\":1.2,\"5879\":1.0,\"5880\":1.1,\"5881\":0.7,\"5882\":1.7,\"5883\":1.19,\"5884\":1.3,\"5885\":1.3,\"5886\":1.8,\"5887\":11.5,\"5888\":1.1,\"5889\":1.3,\"5890\":0.8,\"5891\":0.62,\"5892\":0.86,\"5893\":3.0,\"5894\":1.4,\"5895\":0.92,\"5896\":17.12,\"5897\":2.0,\"5898\":17.33,\"5899\":11.12,\"5900\":3.1,\"5901\":15.91,\"5902\":1.4,\"5903\":1.1,\"5904\":0.75,\"5905\":0.47,\"5906\":0.5,\"5907\":2.59,\"5908\":0.2,\"5909\":0.9,\"5910\":0.5,\"5911\":7.9,\"5912\":2.2,\"5913\":1.1,\"5914\":0.6,\"5915\":2.58,\"5916\":3.7,\"5917\":0.3,\"5918\":1.66,\"5919\":1.2,\"5920\":4.97,\"5921\":1.95,\"5922\":1.34,\"5923\":5.7,\"5924\":2.08,\"5925\":0.9,\"5926\":1.5,\"5927\":15.31,\"5928\":3.08,\"5929\":3.06,\"5930\":9.3,\"5931\":1.5,\"5932\":2.1,\"5933\":0.41,\"5934\":1.3,\"5935\":2.34,\"5936\":4.45,\"5937\":1.5,\"5938\":1.1,\"5939\":1.6,\"5940\":0.5,\"5941\":3.4,\"5942\":0.97,\"5943\":0.74,\"5944\":5.3,\"5945\":3.54,\"5946\":0.82,\"5947\":1.1,\"5948\":1.57,\"5949\":2.7,\"5950\":2.13,\"5951\":2.3,\"5952\":3.4,\"5953\":1.9,\"5954\":11.0,\"5955\":2.1,\"5956\":2.0,\"5957\":1.2,\"5958\":7.9,\"5959\":17.9,\"5960\":1.0,\"5961\":1.9,\"5962\":0.3,\"5963\":3.2,\"5964\":2.6,\"5965\":1.7,\"5966\":0.7,\"5967\":1.12,\"5968\":0.52,\"5969\":2.35,\"5970\":1.45,\"5971\":0.8,\"5972\":0.57,\"5973\":3.3,\"5974\":1.1,\"5975\":1.8,\"5976\":2.1,\"5977\":1.8,\"5978\":0.5,\"5979\":3.0,\"5980\":0.5,\"5981\":2.34,\"5982\":3.83,\"5983\":0.8,\"5984\":2.0,\"5985\":2.7,\"5986\":1.7,\"5987\":1.15,\"5988\":0.81,\"5989\":1.05,\"5990\":1.8,\"5991\":2.44,\"5992\":1.28,\"5993\":4.2,\"5994\":0.9,\"5995\":6.5,\"5996\":23.0,\"5997\":8.3,\"5998\":1.29,\"5999\":0.89,\"6000\":2.8,\"6001\":2.26,\"6002\":2.18,\"6003\":1.08,\"6004\":2.2,\"6005\":2.87,\"6006\":1.3,\"6007\":0.8,\"6008\":0.72,\"6009\":1.7,\"6010\":18.9,\"6011\":1.55,\"6012\":13.83,\"6013\":1.69,\"6014\":3.91,\"6015\":1.17,\"6016\":10.0,\"6017\":1.0,\"6018\":0.62,\"6019\":1.0,\"6020\":2.49,\"6021\":1.9,\"6022\":0.57,\"6023\":1.91,\"6024\":0.44,\"6025\":1.7,\"6026\":11.74,\"6027\":1.0,\"6028\":2.6,\"6029\":7.5,\"6030\":12.33,\"6031\":1.1,\"6032\":2.6,\"6033\":1.9,\"6034\":2.44,\"6035\":1.2,\"6036\":1.7,\"6037\":10.36,\"6038\":0.9,\"6039\":1.16,\"6040\":1.67,\"6041\":4.41,\"6042\":1.3,\"6043\":1.5,\"6044\":5.8,\"6045\":1.2,\"6046\":1.7,\"6047\":3.4,\"6048\":16.9,\"6049\":1.0,\"6050\":11.9,\"6051\":7.2,\"6052\":3.1,\"6053\":1.99,\"6054\":11.8,\"6055\":0.46,\"6056\":1.26,\"6057\":4.5,\"6058\":2.7,\"6059\":0.74,\"6060\":1.2,\"6061\":1.6,\"6062\":1.26,\"6063\":0.5,\"6064\":0.51,\"6065\":0.79,\"6066\":10.0,\"6067\":0.7,\"6068\":1.6,\"6069\":2.4,\"6070\":0.8,\"6071\":2.81,\"6072\":2.38,\"6073\":2.67,\"6074\":1.0,\"6075\":1.5,\"6076\":1.5,\"6077\":1.82,\"6078\":2.79,\"6079\":0.8,\"6080\":3.7,\"6081\":0.64,\"6082\":21.73,\"6083\":0.0,\"6084\":2.29,\"6085\":1.86,\"6086\":0.38,\"6087\":1.7,\"6088\":2.57,\"6089\":7.5,\"6090\":0.54,\"6091\":1.4,\"6092\":0.7,\"6093\":13.7,\"6094\":1.42,\"6095\":1.34,\"6096\":2.22,\"6097\":1.7,\"6098\":1.62,\"6099\":5.3,\"6100\":1.0,\"6101\":16.9,\"6102\":1.6,\"6103\":1.67,\"6104\":1.6,\"6105\":2.2,\"6106\":6.6,\"6107\":0.7,\"6108\":2.2,\"6109\":2.4,\"6110\":1.5,\"6111\":1.5,\"6112\":11.4,\"6113\":0.0,\"6114\":1.33,\"6115\":0.62,\"6116\":0.7,\"6117\":2.6,\"6118\":9.64,\"6119\":2.3,\"6120\":1.5,\"6121\":1.64,\"6122\":1.1,\"6123\":1.07,\"6124\":1.4,\"6125\":15.1,\"6126\":0.89,\"6127\":0.04,\"6128\":2.97,\"6129\":0.85,\"6130\":0.55,\"6131\":0.52,\"6132\":1.4,\"6133\":0.7,\"6134\":9.72,\"6135\":0.7,\"6136\":1.8,\"6137\":1.48,\"6138\":2.68,\"6139\":3.16,\"6140\":1.11,\"6141\":1.0,\"6142\":1.76,\"6143\":0.76,\"6144\":1.26,\"6145\":21.37,\"6146\":1.99,\"6147\":0.87,\"6148\":1.9,\"6149\":0.46,\"6150\":0.8,\"6151\":1.5,\"6152\":2.98,\"6153\":0.5,\"6154\":1.8,\"6155\":1.32,\"6156\":1.2,\"6157\":11.9,\"6158\":0.9,\"6159\":1.21,\"6160\":1.4,\"6161\":1.1,\"6162\":18.78,\"6163\":2.64,\"6164\":3.5,\"6165\":0.5,\"6166\":3.59,\"6167\":1.1,\"6168\":2.37,\"6169\":2.0,\"6170\":0.3,\"6171\":4.11,\"6172\":2.3,\"6173\":11.59,\"6174\":8.97,\"6175\":15.91,\"6176\":14.8,\"6177\":3.98,\"6178\":1.3,\"6179\":2.6,\"6180\":1.2,\"6181\":1.4,\"6182\":4.02,\"6183\":5.55,\"6184\":1.94,\"6185\":1.0,\"6186\":2.18,\"6187\":4.1,\"6188\":3.9,\"6189\":4.7,\"6190\":0.99,\"6191\":3.83,\"6192\":1.3,\"6193\":0.8,\"6194\":1.29,\"6195\":2.6,\"6196\":0.9,\"6197\":11.3,\"6198\":0.21,\"6199\":0.8,\"6200\":1.0,\"6201\":8.63,\"6202\":2.61,\"6203\":2.2,\"6204\":0.8,\"6205\":1.14,\"6206\":1.36,\"6207\":2.92,\"6208\":0.7,\"6209\":3.0,\"6210\":1.46,\"6211\":7.35,\"6212\":8.32,\"6213\":4.5,\"6214\":1.02,\"6215\":0.89,\"6216\":1.25,\"6217\":1.49,\"6218\":3.6,\"6219\":1.5,\"6220\":1.2,\"6221\":5.06,\"6222\":3.37,\"6223\":0.73,\"6224\":1.45,\"6225\":9.57,\"6226\":2.76,\"6227\":4.9,\"6228\":1.3,\"6229\":12.29,\"6230\":1.6,\"6231\":5.64,\"6232\":0.6,\"6233\":2.9,\"6234\":1.27,\"6235\":2.0,\"6236\":2.3,\"6237\":2.0,\"6238\":0.72,\"6239\":5.54,\"6240\":3.09,\"6241\":1.6,\"6242\":0.84,\"6243\":1.0,\"6244\":1.53,\"6245\":0.68,\"6246\":1.1,\"6247\":1.2,\"6248\":0.52,\"6249\":1.6,\"6250\":0.47,\"6251\":2.93,\"6252\":0.87,\"6253\":0.7,\"6254\":1.8,\"6255\":1.34,\"6256\":1.2,\"6257\":1.1,\"6258\":0.9,\"6259\":1.0,\"6260\":9.2,\"6261\":1.6,\"6262\":1.91,\"6263\":1.5,\"6264\":2.65,\"6265\":0.76,\"6266\":1.83,\"6267\":0.9,\"6268\":0.75,\"6269\":1.07,\"6270\":2.26,\"6271\":1.8,\"6272\":2.16,\"6273\":1.29,\"6274\":10.03,\"6275\":0.9,\"6276\":1.3,\"6277\":0.9,\"6278\":10.3,\"6279\":2.7,\"6280\":0.71,\"6281\":7.38,\"6282\":2.4,\"6283\":0.8,\"6284\":0.66,\"6285\":6.0,\"6286\":0.1,\"6287\":0.91,\"6288\":1.1,\"6289\":2.26,\"6290\":1.8,\"6291\":1.6,\"6292\":0.6,\"6293\":1.31,\"6294\":2.4,\"6295\":0.72,\"6296\":5.48,\"6297\":2.0,\"6298\":0.0,\"6299\":1.26,\"6300\":10.1,\"6301\":1.2,\"6302\":0.76,\"6303\":1.7,\"6304\":1.4,\"6305\":2.77,\"6306\":1.2,\"6307\":2.0,\"6308\":0.61,\"6309\":2.3,\"6310\":2.2,\"6311\":0.8,\"6312\":1.34,\"6313\":0.68,\"6314\":1.75,\"6315\":1.91,\"6316\":2.0,\"6317\":2.7,\"6318\":0.9,\"6319\":1.07,\"6320\":0.84,\"6321\":1.16,\"6322\":0.51,\"6323\":2.4,\"6324\":1.13,\"6325\":1.77,\"6326\":1.68,\"6327\":0.83,\"6328\":1.0,\"6329\":0.72,\"6330\":1.1,\"6331\":0.7,\"6332\":2.2,\"6333\":1.05,\"6334\":1.7,\"6335\":1.23,\"6336\":1.25,\"6337\":1.9,\"6338\":13.07,\"6339\":1.01,\"6340\":2.8,\"6341\":1.1,\"6342\":1.6,\"6343\":1.0,\"6344\":4.57,\"6345\":4.0,\"6346\":21.5,\"6347\":0.85,\"6348\":0.3,\"6349\":0.58,\"6350\":0.61,\"6351\":2.7,\"6352\":2.1,\"6353\":1.05,\"6354\":0.97,\"6355\":2.1,\"6356\":14.26,\"6357\":0.7,\"6358\":0.7,\"6359\":1.43,\"6360\":4.1,\"6361\":0.6,\"6362\":2.4,\"6363\":4.6,\"6364\":4.91,\"6365\":0.4,\"6366\":2.32,\"6367\":1.4,\"6368\":2.8,\"6369\":1.04,\"6370\":16.1,\"6371\":8.83,\"6372\":1.08,\"6373\":0.89,\"6374\":1.18,\"6375\":0.7,\"6376\":6.67,\"6377\":10.6,\"6378\":3.69,\"6379\":2.1,\"6380\":7.1,\"6381\":1.7,\"6382\":2.2,\"6383\":1.1,\"6384\":1.0,\"6385\":2.18,\"6386\":1.34,\"6387\":10.0,\"6388\":1.23,\"6389\":1.0,\"6390\":14.1,\"6391\":0.6,\"6392\":0.89,\"6393\":1.12,\"6394\":1.18,\"6395\":0.9,\"6396\":0.6,\"6397\":0.6,\"6398\":2.0,\"6399\":1.4,\"6400\":1.84,\"6401\":4.2,\"6402\":2.7,\"6403\":0.6,\"6404\":0.63,\"6405\":0.8,\"6406\":0.6,\"6407\":8.5,\"6408\":14.4,\"6409\":1.21,\"6410\":5.91,\"6411\":0.43,\"6412\":1.15,\"6413\":1.0,\"6414\":1.83,\"6415\":0.87,\"6416\":3.5,\"6417\":0.74,\"6418\":2.26,\"6419\":2.0,\"6420\":0.4,\"6421\":0.4,\"6422\":0.98,\"6423\":1.78,\"6424\":1.79,\"6425\":5.22,\"6426\":0.9,\"6427\":1.7,\"6428\":12.3,\"6429\":1.41,\"6430\":1.14,\"6431\":1.2,\"6432\":6.4,\"6433\":0.92,\"6434\":1.3,\"6435\":1.7,\"6436\":0.7,\"6437\":1.5,\"6438\":0.98,\"6439\":10.11,\"6440\":2.3,\"6441\":0.5,\"6442\":1.46,\"6443\":10.53,\"6444\":20.4,\"6445\":0.7,\"6446\":1.3,\"6447\":16.37,\"6448\":0.82,\"6449\":1.5,\"6450\":1.58,\"6451\":1.1,\"6452\":0.4,\"6453\":1.04,\"6454\":1.8,\"6455\":1.8,\"6456\":0.18,\"6457\":3.5,\"6458\":2.6,\"6459\":2.0,\"6460\":2.6,\"6461\":1.54,\"6462\":16.23,\"6463\":1.2,\"6464\":2.71,\"6465\":3.19,\"6466\":1.6,\"6467\":1.11,\"6468\":1.2,\"6469\":0.58,\"6470\":2.65,\"6471\":1.2,\"6472\":1.0,\"6473\":1.71,\"6474\":1.46,\"6475\":1.2,\"6476\":1.4,\"6477\":2.08,\"6478\":1.34,\"6479\":1.5,\"6480\":1.13,\"6481\":0.86,\"6482\":2.73,\"6483\":1.2,\"6484\":1.04,\"6485\":0.88,\"6486\":1.73,\"6487\":0.67,\"6488\":0.2,\"6489\":2.3,\"6490\":0.5,\"6491\":1.2,\"6492\":0.6,\"6493\":2.3,\"6494\":0.6,\"6495\":1.04,\"6496\":1.79,\"6497\":0.73,\"6498\":0.61,\"6499\":22.09,\"6500\":4.62,\"6501\":0.82,\"6502\":3.79,\"6503\":1.4,\"6504\":1.7,\"6505\":0.55,\"6506\":0.5,\"6507\":1.0,\"6508\":3.48,\"6509\":12.2,\"6510\":1.4,\"6511\":1.1,\"6512\":2.49,\"6513\":12.6,\"6514\":2.37,\"6515\":0.4,\"6516\":2.82,\"6517\":1.51,\"6518\":0.9,\"6519\":2.4,\"6520\":1.91,\"6521\":0.0,\"6522\":1.04,\"6523\":2.82,\"6524\":1.0,\"6525\":1.22,\"6526\":1.71,\"6527\":1.5,\"6528\":0.85,\"6529\":0.6,\"6530\":0.7,\"6531\":10.06,\"6532\":1.56,\"6533\":1.01,\"6534\":0.6,\"6535\":2.09,\"6536\":0.76,\"6537\":10.88,\"6538\":10.17,\"6539\":0.7,\"6540\":3.1,\"6541\":5.56,\"6542\":1.0,\"6543\":5.1,\"6544\":0.61,\"6545\":1.63,\"6546\":13.0,\"6547\":0.6,\"6548\":3.41,\"6549\":1.31,\"6550\":4.46,\"6551\":0.7,\"6552\":1.5,\"6553\":6.32,\"6554\":0.4,\"6555\":1.3,\"6556\":6.84,\"6557\":4.9,\"6558\":4.84,\"6559\":0.9,\"6560\":2.8,\"6561\":1.38,\"6562\":2.3,\"6563\":9.8,\"6564\":2.5,\"6565\":1.5,\"6566\":0.8,\"6567\":0.61,\"6568\":0.89,\"6569\":1.5,\"6570\":1.23,\"6571\":10.8,\"6572\":0.97,\"6573\":19.3,\"6574\":0.8,\"6575\":3.34,\"6576\":1.32,\"6577\":2.29,\"6578\":2.03,\"6579\":1.09,\"6580\":0.54,\"6581\":1.11,\"6582\":0.74,\"6583\":1.5,\"6584\":1.1,\"6585\":6.88,\"6586\":2.2,\"6587\":0.93,\"6588\":1.42,\"6589\":1.4,\"6590\":1.0,\"6591\":1.2,\"6592\":1.16,\"6593\":1.48,\"6594\":3.0,\"6595\":1.9,\"6596\":1.1,\"6597\":0.99,\"6598\":2.3,\"6599\":2.26,\"6600\":1.1,\"6601\":1.82,\"6602\":1.6,\"6603\":3.4,\"6604\":2.08,\"6605\":0.7,\"6606\":1.73,\"6607\":2.3,\"6608\":4.0,\"6609\":1.1,\"6610\":17.3,\"6611\":1.2,\"6612\":2.3,\"6613\":1.7,\"6614\":1.4,\"6615\":0.5,\"6616\":0.9,\"6617\":0.1,\"6618\":1.52,\"6619\":2.17,\"6620\":18.34,\"6621\":0.86,\"6622\":0.82,\"6623\":7.09,\"6624\":2.5,\"6625\":2.64,\"6626\":1.26,\"6627\":1.6,\"6628\":0.88,\"6629\":3.2,\"6630\":1.8,\"6631\":0.96,\"6632\":2.8,\"6633\":1.7,\"6634\":2.0,\"6635\":8.64,\"6636\":2.42,\"6637\":0.9,\"6638\":3.39,\"6639\":18.0,\"6640\":0.7,\"6641\":1.7,\"6642\":1.13,\"6643\":0.9,\"6644\":1.82,\"6645\":3.78,\"6646\":2.1,\"6647\":1.0,\"6648\":0.6,\"6649\":1.85,\"6650\":0.9,\"6651\":18.0,\"6652\":6.3,\"6653\":1.5,\"6654\":1.1,\"6655\":0.5,\"6656\":1.51,\"6657\":1.63,\"6658\":1.27,\"6659\":1.2,\"6660\":0.4,\"6661\":1.5,\"6662\":3.97,\"6663\":4.5,\"6664\":3.81,\"6665\":8.3,\"6666\":0.7,\"6667\":11.0,\"6668\":0.36,\"6669\":0.19,\"6670\":2.25,\"6671\":16.55,\"6672\":1.8,\"6673\":18.5,\"6674\":14.47,\"6675\":3.67,\"6676\":0.99,\"6677\":1.8,\"6678\":3.11,\"6679\":0.5,\"6680\":1.6,\"6681\":9.0,\"6682\":1.5,\"6683\":0.89,\"6684\":0.8,\"6685\":2.36,\"6686\":5.2,\"6687\":1.1,\"6688\":2.9,\"6689\":0.37,\"6690\":0.5,\"6691\":0.7,\"6692\":0.73,\"6693\":0.5,\"6694\":0.9,\"6695\":2.7,\"6696\":1.6,\"6697\":1.0,\"6698\":14.61,\"6699\":16.47,\"6700\":0.5,\"6701\":1.03,\"6702\":1.3,\"6703\":0.7,\"6704\":10.62,\"6705\":2.1,\"6706\":1.52,\"6707\":5.0,\"6708\":1.16,\"6709\":1.19,\"6710\":1.5,\"6711\":5.11,\"6712\":2.1,\"6713\":1.6,\"6714\":10.61,\"6715\":2.17,\"6716\":0.7,\"6717\":0.6,\"6718\":5.9,\"6719\":1.54,\"6720\":1.9,\"6721\":3.5,\"6722\":4.13,\"6723\":5.5,\"6724\":4.13,\"6725\":2.68,\"6726\":2.4,\"6727\":0.5,\"6728\":9.0,\"6729\":0.9,\"6730\":1.2,\"6731\":3.06,\"6732\":2.33,\"6733\":10.8,\"6734\":2.2,\"6735\":0.55,\"6736\":1.2,\"6737\":0.9,\"6738\":2.5,\"6739\":1.6,\"6740\":4.74,\"6741\":0.7,\"6742\":1.03,\"6743\":1.23,\"6744\":0.8,\"6745\":2.61,\"6746\":1.51,\"6747\":0.0,\"6748\":0.9,\"6749\":1.17,\"6750\":7.3,\"6751\":0.6,\"6752\":1.05,\"6753\":1.3,\"6754\":4.6,\"6755\":1.33,\"6756\":1.39,\"6757\":1.09,\"6758\":1.56,\"6759\":1.7,\"6760\":0.55,\"6761\":2.9,\"6762\":1.5,\"6763\":1.47,\"6764\":1.05,\"6765\":1.4,\"6766\":2.35,\"6767\":2.08,\"6768\":0.69,\"6769\":2.03,\"6770\":0.6,\"6771\":16.8,\"6772\":6.21,\"6773\":2.13,\"6774\":1.7,\"6775\":1.9,\"6776\":0.9,\"6777\":4.7,\"6778\":0.73,\"6779\":0.66,\"6780\":4.29,\"6781\":9.5,\"6782\":11.4,\"6783\":0.9,\"6784\":11.1,\"6785\":7.9,\"6786\":0.89,\"6787\":1.33,\"6788\":6.92,\"6789\":1.2,\"6790\":1.1,\"6791\":0.7,\"6792\":17.83,\"6793\":3.92,\"6794\":0.0,\"6795\":4.0,\"6796\":1.46,\"6797\":1.69,\"6798\":2.03,\"6799\":1.5,\"6800\":16.98,\"6801\":0.8,\"6802\":1.1,\"6803\":1.5,\"6804\":1.9,\"6805\":0.69,\"6806\":7.3,\"6807\":0.6,\"6808\":2.3,\"6809\":1.79,\"6810\":1.38,\"6811\":1.58,\"6812\":18.28,\"6813\":11.5,\"6814\":0.58,\"6815\":3.5,\"6816\":2.1,\"6817\":0.9,\"6818\":1.4,\"6819\":1.7,\"6820\":0.7,\"6821\":1.5,\"6822\":0.74,\"6823\":1.2,\"6824\":1.0,\"6825\":0.7,\"6826\":3.61,\"6827\":1.4,\"6828\":0.6,\"6829\":11.05,\"6830\":2.95,\"6831\":0.8,\"6832\":1.02,\"6833\":1.98,\"6834\":0.86,\"6835\":2.1,\"6836\":1.8,\"6837\":9.72,\"6838\":4.57,\"6839\":3.04,\"6840\":1.3,\"6841\":0.93,\"6842\":5.62,\"6843\":1.1,\"6844\":3.4,\"6845\":6.76,\"6846\":6.4,\"6847\":1.5,\"6848\":1.5,\"6849\":1.64,\"6850\":13.7,\"6851\":1.0,\"6852\":1.56,\"6853\":2.4,\"6854\":0.73,\"6855\":3.4,\"6856\":4.1,\"6857\":2.9,\"6858\":1.6,\"6859\":2.2,\"6860\":0.0,\"6861\":1.1,\"6862\":1.0,\"6863\":1.98,\"6864\":0.47,\"6865\":2.9,\"6866\":0.8,\"6867\":1.6,\"6868\":2.29,\"6869\":0.1,\"6870\":5.8,\"6871\":1.5,\"6872\":0.8,\"6873\":2.58,\"6874\":1.0,\"6875\":1.1,\"6876\":0.7,\"6877\":1.42,\"6878\":1.5,\"6879\":1.94,\"6880\":1.07,\"6881\":1.96,\"6882\":1.3,\"6883\":1.3,\"6884\":8.63,\"6885\":2.27,\"6886\":0.36,\"6887\":2.02,\"6888\":1.5,\"6889\":2.8,\"6890\":1.1,\"6891\":1.66,\"6892\":1.6,\"6893\":2.16,\"6894\":1.43,\"6895\":1.45,\"6896\":2.6,\"6897\":17.89,\"6898\":0.5,\"6899\":1.1,\"6900\":9.27,\"6901\":2.56,\"6902\":10.95,\"6903\":1.0,\"6904\":2.1,\"6905\":0.9,\"6906\":1.15,\"6907\":8.79,\"6908\":0.5,\"6909\":0.6,\"6910\":11.1,\"6911\":3.3,\"6912\":5.84,\"6913\":0.5,\"6914\":9.78,\"6915\":1.11,\"6916\":1.19,\"6917\":0.92,\"6918\":0.0,\"6919\":1.37,\"6920\":1.46,\"6921\":1.4,\"6922\":1.2,\"6923\":1.96,\"6924\":2.2,\"6925\":1.24,\"6926\":1.6,\"6927\":4.1,\"6928\":1.3,\"6929\":3.38,\"6930\":2.9,\"6931\":0.94,\"6932\":1.1,\"6933\":2.51,\"6934\":1.0,\"6935\":0.62,\"6936\":1.31,\"6937\":0.2,\"6938\":0.91,\"6939\":1.17,\"6940\":0.0,\"6941\":3.0,\"6942\":2.6,\"6943\":1.37,\"6944\":0.71,\"6945\":1.18,\"6946\":0.44,\"6947\":1.53,\"6948\":0.44,\"6949\":1.4,\"6950\":1.24,\"6951\":5.52,\"6952\":1.82,\"6953\":1.18,\"6954\":1.96,\"6955\":1.05,\"6956\":14.73,\"6957\":1.41,\"6958\":16.4,\"6959\":1.6,\"6960\":9.6,\"6961\":1.6,\"6962\":4.25,\"6963\":1.5,\"6964\":0.76,\"6965\":0.5,\"6966\":5.1,\"6967\":1.64,\"6968\":0.7,\"6969\":1.1,\"6970\":6.18,\"6971\":0.79,\"6972\":1.6,\"6973\":1.7,\"6974\":15.9,\"6975\":0.76,\"6976\":5.27,\"6977\":1.44,\"6978\":0.46,\"6979\":1.48,\"6980\":0.5,\"6981\":1.7,\"6982\":2.0,\"6983\":17.5,\"6984\":1.27,\"6985\":0.89,\"6986\":1.94,\"6987\":0.6,\"6988\":0.6,\"6989\":2.3,\"6990\":0.7,\"6991\":4.27,\"6992\":1.8,\"6993\":1.51,\"6994\":2.0,\"6995\":4.0,\"6996\":1.4,\"6997\":1.4,\"6998\":2.9,\"6999\":0.5,\"7000\":0.9,\"7001\":0.47,\"7002\":2.0,\"7003\":1.2,\"7004\":0.7,\"7005\":2.4,\"7006\":1.2,\"7007\":6.3,\"7008\":1.44,\"7009\":2.77,\"7010\":1.1,\"7011\":0.9,\"7012\":0.7,\"7013\":2.49,\"7014\":21.6,\"7015\":1.85,\"7016\":2.69,\"7017\":2.13,\"7018\":2.1,\"7019\":3.52,\"7020\":1.03,\"7021\":1.71,\"7022\":2.5,\"7023\":21.57,\"7024\":2.02,\"7025\":1.0,\"7026\":2.17,\"7027\":1.8,\"7028\":5.3,\"7029\":2.37,\"7030\":1.2,\"7031\":2.3,\"7032\":1.06,\"7033\":2.42,\"7034\":1.21,\"7035\":2.1,\"7036\":19.2,\"7037\":2.62,\"7038\":8.73,\"7039\":9.0,\"7040\":1.5,\"7041\":3.1,\"7042\":1.52,\"7043\":1.2,\"7044\":1.47,\"7045\":2.06,\"7046\":1.19,\"7047\":0.81,\"7048\":1.12,\"7049\":1.71,\"7050\":7.4,\"7051\":2.9,\"7052\":17.89,\"7053\":1.6,\"7054\":1.3,\"7055\":1.0,\"7056\":0.87,\"7057\":2.4,\"7058\":2.8,\"7059\":1.5,\"7060\":2.99,\"7061\":1.91,\"7062\":2.95,\"7063\":1.05,\"7064\":0.88,\"7065\":3.5,\"7066\":1.64,\"7067\":0.86,\"7068\":2.7,\"7069\":0.8,\"7070\":0.27,\"7071\":1.05,\"7072\":0.98,\"7073\":0.7,\"7074\":0.6,\"7075\":1.0,\"7076\":1.97,\"7077\":5.48,\"7078\":2.2,\"7079\":1.96,\"7080\":8.32,\"7081\":1.3,\"7082\":2.3,\"7083\":1.59,\"7084\":0.78,\"7085\":2.2,\"7086\":1.9,\"7087\":6.7,\"7088\":0.33,\"7089\":1.2,\"7090\":1.69,\"7091\":0.4,\"7092\":2.21,\"7093\":2.9,\"7094\":0.47,\"7095\":1.2,\"7096\":1.42,\"7097\":1.5,\"7098\":1.1,\"7099\":2.88,\"7100\":8.7,\"7101\":0.77,\"7102\":0.4,\"7103\":1.3,\"7104\":0.78,\"7105\":0.9,\"7106\":1.5,\"7107\":0.7,\"7108\":3.78,\"7109\":6.89,\"7110\":2.67,\"7111\":10.58,\"7112\":1.06,\"7113\":2.38,\"7114\":2.61,\"7115\":1.2,\"7116\":1.53,\"7117\":2.12,\"7118\":0.3,\"7119\":0.5,\"7120\":1.5,\"7121\":1.69,\"7122\":1.8,\"7123\":2.78,\"7124\":1.31,\"7125\":2.3,\"7126\":3.18,\"7127\":0.9,\"7128\":1.79,\"7129\":2.2,\"7130\":1.7,\"7131\":0.49,\"7132\":0.9,\"7133\":0.7,\"7134\":8.4,\"7135\":0.6,\"7136\":2.95,\"7137\":2.1,\"7138\":1.2,\"7139\":0.6,\"7140\":1.7,\"7141\":1.7,\"7142\":0.8,\"7143\":1.2,\"7144\":1.7,\"7145\":0.5,\"7146\":1.6,\"7147\":3.75,\"7148\":0.95,\"7149\":1.4,\"7150\":1.08,\"7151\":1.22,\"7152\":1.88,\"7153\":0.55,\"7154\":1.24,\"7155\":0.33,\"7156\":1.6,\"7157\":0.77,\"7158\":10.29,\"7159\":0.6,\"7160\":4.61,\"7161\":0.86,\"7162\":1.11,\"7163\":1.66,\"7164\":1.7,\"7165\":2.0,\"7166\":1.9,\"7167\":2.0,\"7168\":0.7,\"7169\":2.0,\"7170\":2.1,\"7171\":13.0,\"7172\":2.69,\"7173\":2.18,\"7174\":0.8,\"7175\":3.41,\"7176\":1.36,\"7177\":2.63,\"7178\":2.9,\"7179\":1.3,\"7180\":1.19,\"7181\":7.42,\"7182\":1.4,\"7183\":1.62,\"7184\":3.76,\"7185\":4.1,\"7186\":1.23,\"7187\":10.88,\"7188\":4.15,\"7189\":1.79,\"7190\":16.24,\"7191\":1.1,\"7192\":0.3,\"7193\":0.6,\"7194\":1.1,\"7195\":0.79,\"7196\":4.31,\"7197\":0.5,\"7198\":1.5,\"7199\":1.1,\"7200\":2.2,\"7201\":0.58,\"7202\":1.68,\"7203\":3.03,\"7204\":2.6,\"7205\":2.18,\"7206\":1.85,\"7207\":0.53,\"7208\":0.9,\"7209\":13.0,\"7210\":0.7,\"7211\":1.8,\"7212\":9.31,\"7213\":0.5,\"7214\":0.7,\"7215\":0.5,\"7216\":3.2,\"7217\":0.73,\"7218\":2.01,\"7219\":2.2,\"7220\":0.24,\"7221\":1.12,\"7222\":4.7,\"7223\":0.9,\"7224\":1.38,\"7225\":18.2,\"7226\":0.46,\"7227\":0.75,\"7228\":2.79,\"7229\":11.4,\"7230\":1.6,\"7231\":1.01,\"7232\":5.36,\"7233\":3.8,\"7234\":2.5,\"7235\":1.1,\"7236\":0.9,\"7237\":3.6,\"7238\":2.3,\"7239\":1.4,\"7240\":7.12,\"7241\":7.7,\"7242\":0.86,\"7243\":0.96,\"7244\":1.94,\"7245\":2.87,\"7246\":0.3,\"7247\":1.87,\"7248\":0.6,\"7249\":19.8,\"7250\":0.51,\"7251\":9.33,\"7252\":8.1,\"7253\":1.18,\"7254\":1.1,\"7255\":2.26,\"7256\":0.74,\"7257\":2.4,\"7258\":9.6,\"7259\":0.45,\"7260\":15.8,\"7261\":0.63,\"7262\":7.78,\"7263\":3.9,\"7264\":12.2,\"7265\":0.66,\"7266\":1.07,\"7267\":4.56,\"7268\":17.51,\"7269\":0.4,\"7270\":0.5,\"7271\":4.1,\"7272\":1.2,\"7273\":0.5,\"7274\":2.1,\"7275\":3.1,\"7276\":2.4,\"7277\":1.34,\"7278\":0.6,\"7279\":3.4,\"7280\":17.39,\"7281\":1.16,\"7282\":0.87,\"7283\":16.87,\"7284\":18.03,\"7285\":0.78,\"7286\":2.42,\"7287\":2.3,\"7288\":0.47,\"7289\":0.71,\"7290\":0.68,\"7291\":0.95,\"7292\":2.4,\"7293\":2.0,\"7294\":0.59,\"7295\":1.8,\"7296\":1.1,\"7297\":1.9,\"7298\":1.71,\"7299\":1.9,\"7300\":0.2,\"7301\":2.91,\"7302\":3.3,\"7303\":0.66,\"7304\":0.5,\"7305\":1.15,\"7306\":4.11,\"7307\":0.59,\"7308\":0.9,\"7309\":4.2,\"7310\":19.67,\"7311\":1.56,\"7312\":1.9,\"7313\":9.6,\"7314\":3.19,\"7315\":1.9,\"7316\":0.3,\"7317\":3.72,\"7318\":1.0,\"7319\":4.5,\"7320\":3.45,\"7321\":2.56,\"7322\":1.6,\"7323\":8.85,\"7324\":1.75,\"7325\":0.68,\"7326\":2.9,\"7327\":8.6,\"7328\":2.74,\"7329\":0.9,\"7330\":1.2,\"7331\":1.9,\"7332\":1.0,\"7333\":0.49,\"7334\":0.6,\"7335\":0.5,\"7336\":0.7,\"7337\":1.6,\"7338\":1.3,\"7339\":1.06,\"7340\":0.9,\"7341\":1.76,\"7342\":0.72,\"7343\":0.7,\"7344\":0.7,\"7345\":0.42,\"7346\":11.0,\"7347\":8.62,\"7348\":2.7,\"7349\":1.1,\"7350\":1.6,\"7351\":0.98,\"7352\":0.5,\"7353\":1.0,\"7354\":3.07,\"7355\":1.1,\"7356\":0.5,\"7357\":16.1,\"7358\":5.71,\"7359\":1.9,\"7360\":0.6,\"7361\":2.7,\"7362\":2.3,\"7363\":4.1,\"7364\":1.1,\"7365\":2.5,\"7366\":5.03,\"7367\":1.21,\"7368\":2.73,\"7369\":2.7,\"7370\":1.6,\"7371\":1.4,\"7372\":0.8,\"7373\":22.03,\"7374\":2.42,\"7375\":1.5,\"7376\":0.35,\"7377\":6.63,\"7378\":9.18,\"7379\":12.0,\"7380\":0.8,\"7381\":8.9,\"7382\":1.23,\"7383\":1.2,\"7384\":1.7,\"7385\":2.4,\"7386\":10.57,\"7387\":1.7,\"7388\":0.97,\"7389\":1.86,\"7390\":2.5,\"7391\":1.2,\"7392\":5.9,\"7393\":1.7,\"7394\":1.1,\"7395\":1.82,\"7396\":0.7,\"7397\":2.1,\"7398\":1.4,\"7399\":0.7,\"7400\":0.8,\"7401\":1.7,\"7402\":1.3,\"7403\":1.0,\"7404\":1.55,\"7405\":1.3,\"7406\":2.6,\"7407\":1.7,\"7408\":0.0,\"7409\":12.7,\"7410\":2.2,\"7411\":15.5,\"7412\":0.0,\"7413\":1.9,\"7414\":17.7,\"7415\":2.0,\"7416\":9.57,\"7417\":0.9,\"7418\":1.0,\"7419\":1.24,\"7420\":2.1,\"7421\":1.22,\"7422\":1.8,\"7423\":17.6,\"7424\":2.1,\"7425\":0.8,\"7426\":2.34,\"7427\":3.39,\"7428\":0.65,\"7429\":4.94,\"7430\":1.1,\"7431\":2.11,\"7432\":1.19,\"7433\":1.07,\"7434\":5.8,\"7435\":2.71,\"7436\":0.6,\"7437\":14.11,\"7438\":9.1,\"7439\":1.0,\"7440\":2.41,\"7441\":2.1,\"7442\":1.0,\"7443\":0.8,\"7444\":0.55,\"7445\":4.4,\"7446\":2.5,\"7447\":1.5,\"7448\":1.4,\"7449\":0.85,\"7450\":0.66,\"7451\":0.95,\"7452\":16.81,\"7453\":1.85,\"7454\":2.3,\"7455\":3.83,\"7456\":7.9,\"7457\":1.02,\"7458\":1.29,\"7459\":1.8,\"7460\":1.33,\"7461\":2.84,\"7462\":1.4,\"7463\":7.3,\"7464\":0.56,\"7465\":0.97,\"7466\":2.09,\"7467\":0.88,\"7468\":9.0,\"7469\":2.08,\"7470\":2.2,\"7471\":1.56,\"7472\":9.9,\"7473\":1.35,\"7474\":1.8,\"7475\":9.4,\"7476\":1.72,\"7477\":0.78,\"7478\":0.7,\"7479\":0.66,\"7480\":1.79,\"7481\":0.7,\"7482\":0.8,\"7483\":5.75,\"7484\":1.1,\"7485\":0.9,\"7486\":20.83,\"7487\":0.0,\"7488\":1.54,\"7489\":1.0,\"7490\":4.14,\"7491\":2.18,\"7492\":1.31,\"7493\":2.1,\"7494\":3.0,\"7495\":2.7,\"7496\":4.69,\"7497\":3.0,\"7498\":3.41,\"7499\":1.1,\"7500\":17.54,\"7501\":1.76,\"7502\":21.5,\"7503\":1.97,\"7504\":1.69,\"7505\":1.8,\"7506\":1.4,\"7507\":1.18,\"7508\":0.8,\"7509\":0.0,\"7510\":1.41,\"7511\":0.8,\"7512\":3.37,\"7513\":1.6,\"7514\":1.97,\"7515\":6.4,\"7516\":7.2,\"7517\":4.57,\"7518\":2.72,\"7519\":2.04,\"7520\":7.17,\"7521\":1.47,\"7522\":3.59,\"7523\":1.1,\"7524\":1.1,\"7525\":4.6,\"7526\":1.42,\"7527\":0.7,\"7528\":2.4,\"7529\":1.1,\"7530\":0.83,\"7531\":3.9,\"7532\":1.2,\"7533\":0.9,\"7534\":1.82,\"7535\":2.93,\"7536\":3.04,\"7537\":4.5,\"7538\":0.92,\"7539\":3.68,\"7540\":0.24,\"7541\":0.5,\"7542\":2.8,\"7543\":2.23,\"7544\":5.3,\"7545\":0.7,\"7546\":1.31,\"7547\":1.4,\"7548\":1.1,\"7549\":3.6,\"7550\":0.9,\"7551\":0.6,\"7552\":2.95,\"7553\":2.18,\"7554\":12.41,\"7555\":1.13,\"7556\":2.1,\"7557\":0.68,\"7558\":5.0,\"7559\":0.9,\"7560\":0.5,\"7561\":2.92,\"7562\":2.5,\"7563\":18.3,\"7564\":17.02,\"7565\":1.2,\"7566\":0.66,\"7567\":1.3,\"7568\":2.31,\"7569\":1.4,\"7570\":2.14,\"7571\":1.14,\"7572\":1.7,\"7573\":1.06,\"7574\":2.06,\"7575\":1.81,\"7576\":3.2,\"7577\":3.6,\"7578\":1.8,\"7579\":1.8,\"7580\":1.57,\"7581\":0.8,\"7582\":1.9,\"7583\":1.1,\"7584\":0.9,\"7585\":1.3,\"7586\":2.2,\"7587\":2.6,\"7588\":2.4,\"7589\":2.8,\"7590\":0.76,\"7591\":1.0,\"7592\":3.0,\"7593\":6.59,\"7594\":3.4,\"7595\":0.95,\"7596\":0.8,\"7597\":4.18,\"7598\":10.2,\"7599\":1.1,\"7600\":2.22,\"7601\":1.28,\"7602\":1.5,\"7603\":1.3,\"7604\":2.01,\"7605\":3.1,\"7606\":0.99,\"7607\":2.43,\"7608\":0.63,\"7609\":1.41,\"7610\":1.5,\"7611\":9.59,\"7612\":1.5,\"7613\":0.7,\"7614\":1.32,\"7615\":0.9,\"7616\":2.3,\"7617\":0.7,\"7618\":0.94,\"7619\":2.8,\"7620\":3.2,\"7621\":2.2,\"7622\":0.92,\"7623\":0.4,\"7624\":1.0,\"7625\":10.57,\"7626\":0.96,\"7627\":18.63,\"7628\":0.8,\"7629\":1.03,\"7630\":6.43,\"7631\":2.4,\"7632\":1.4,\"7633\":11.6,\"7634\":3.2,\"7635\":7.7,\"7636\":0.7,\"7637\":1.4,\"7638\":0.59,\"7639\":7.48,\"7640\":1.43,\"7641\":3.8,\"7642\":2.49,\"7643\":1.6,\"7644\":4.02,\"7645\":5.45,\"7646\":1.02,\"7647\":1.6,\"7648\":2.48,\"7649\":2.2,\"7650\":1.7,\"7651\":2.48,\"7652\":3.95,\"7653\":6.08,\"7654\":2.93,\"7655\":4.03,\"7656\":4.4,\"7657\":1.19,\"7658\":2.2,\"7659\":2.0,\"7660\":2.16,\"7661\":2.7,\"7662\":3.23,\"7663\":2.5,\"7664\":3.15,\"7665\":0.94,\"7666\":3.1,\"7667\":1.4,\"7668\":1.78,\"7669\":0.79,\"7670\":1.21,\"7671\":2.6,\"7672\":3.02,\"7673\":2.95,\"7674\":1.2,\"7675\":2.42,\"7676\":2.47,\"7677\":0.55,\"7678\":0.6,\"7679\":1.5,\"7680\":1.26,\"7681\":1.64,\"7682\":3.8,\"7683\":0.79,\"7684\":1.64,\"7685\":5.13,\"7686\":1.1,\"7687\":0.9,\"7688\":1.47,\"7689\":2.5,\"7690\":3.4,\"7691\":0.0,\"7692\":1.16,\"7693\":1.2,\"7694\":2.71,\"7695\":0.66,\"7696\":2.9,\"7697\":1.3,\"7698\":0.56,\"7699\":0.6,\"7700\":16.13,\"7701\":2.05,\"7702\":0.4,\"7703\":2.8,\"7704\":0.86,\"7705\":2.5,\"7706\":3.6,\"7707\":6.7,\"7708\":2.41,\"7709\":2.15,\"7710\":0.91,\"7711\":3.5,\"7712\":1.4,\"7713\":3.0,\"7714\":1.84,\"7715\":0.0,\"7716\":0.0,\"7717\":1.1,\"7718\":0.7,\"7719\":1.8,\"7720\":1.71,\"7721\":2.9,\"7722\":1.1,\"7723\":4.64,\"7724\":20.4,\"7725\":3.6,\"7726\":0.77,\"7727\":2.0,\"7728\":0.6,\"7729\":1.8,\"7730\":0.81,\"7731\":1.33,\"7732\":7.1,\"7733\":1.53,\"7734\":1.0,\"7735\":0.8,\"7736\":4.33,\"7737\":1.96,\"7738\":1.22,\"7739\":0.56,\"7740\":2.1,\"7741\":19.09,\"7742\":3.5,\"7743\":3.34,\"7744\":1.49,\"7745\":17.92,\"7746\":1.0,\"7747\":1.85,\"7748\":1.84,\"7749\":1.11,\"7750\":0.91,\"7751\":1.5,\"7752\":20.92,\"7753\":0.5,\"7754\":0.8,\"7755\":2.6,\"7756\":1.3,\"7757\":1.2,\"7758\":4.3,\"7759\":1.0,\"7760\":3.06,\"7761\":2.45,\"7762\":0.8,\"7763\":1.5,\"7764\":3.01,\"7765\":2.24,\"7766\":2.39,\"7767\":3.4,\"7768\":1.8,\"7769\":0.2,\"7770\":1.02,\"7771\":0.42,\"7772\":3.88,\"7773\":1.2,\"7774\":1.9,\"7775\":0.9,\"7776\":1.8,\"7777\":1.14,\"7778\":9.3,\"7779\":1.2,\"7780\":4.74,\"7781\":1.86,\"7782\":0.9,\"7783\":0.8,\"7784\":0.9,\"7785\":2.49,\"7786\":1.8,\"7787\":1.28,\"7788\":1.6,\"7789\":1.73,\"7790\":0.9,\"7791\":0.57,\"7792\":1.9,\"7793\":0.2,\"7794\":1.9,\"7795\":0.98,\"7796\":1.01,\"7797\":5.96,\"7798\":0.81,\"7799\":2.0,\"7800\":0.2,\"7801\":3.5,\"7802\":0.27,\"7803\":1.88,\"7804\":1.2,\"7805\":16.16,\"7806\":19.0,\"7807\":3.61,\"7808\":0.4,\"7809\":2.2,\"7810\":1.5,\"7811\":1.84,\"7812\":0.6,\"7813\":1.96,\"7814\":0.9,\"7815\":1.45,\"7816\":2.0,\"7817\":1.7,\"7818\":1.04,\"7819\":0.9,\"7820\":3.0,\"7821\":2.4,\"7822\":0.6,\"7823\":1.2,\"7824\":2.4,\"7825\":8.5,\"7826\":1.1,\"7827\":2.23,\"7828\":2.05,\"7829\":1.14,\"7830\":1.45,\"7831\":1.9,\"7832\":2.07,\"7833\":1.3,\"7834\":3.46,\"7835\":4.46,\"7836\":0.89,\"7837\":2.7,\"7838\":1.41,\"7839\":1.7,\"7840\":2.51,\"7841\":0.7,\"7842\":1.7,\"7843\":0.6,\"7844\":2.2,\"7845\":2.69,\"7846\":2.0,\"7847\":4.09,\"7848\":9.33,\"7849\":1.09,\"7850\":15.66,\"7851\":1.3,\"7852\":3.6,\"7853\":0.61,\"7854\":18.23,\"7855\":1.2,\"7856\":0.51,\"7857\":20.25,\"7858\":1.36,\"7859\":2.1,\"7860\":3.65,\"7861\":20.8,\"7862\":0.9,\"7863\":3.69,\"7864\":5.2,\"7865\":1.18,\"7866\":0.6,\"7867\":5.4,\"7868\":1.3,\"7869\":0.7,\"7870\":5.2,\"7871\":5.0,\"7872\":0.8,\"7873\":1.8,\"7874\":2.0,\"7875\":1.2,\"7876\":17.3,\"7877\":2.0,\"7878\":1.0,\"7879\":2.28,\"7880\":1.2,\"7881\":0.75,\"7882\":1.3,\"7883\":5.1,\"7884\":1.1,\"7885\":2.17,\"7886\":5.3,\"7887\":6.42,\"7888\":1.72,\"7889\":1.9,\"7890\":26.18,\"7891\":2.4,\"7892\":1.65,\"7893\":1.9,\"7894\":1.6,\"7895\":0.84,\"7896\":3.7,\"7897\":2.6,\"7898\":0.64,\"7899\":1.89,\"7900\":9.96,\"7901\":1.48,\"7902\":2.21,\"7903\":1.8,\"7904\":9.52,\"7905\":1.1,\"7906\":1.8,\"7907\":26.6,\"7908\":1.6,\"7909\":2.71,\"7910\":9.82,\"7911\":0.43,\"7912\":8.7,\"7913\":2.72,\"7914\":1.37,\"7915\":3.3,\"7916\":1.72,\"7917\":0.81,\"7918\":7.68,\"7919\":0.72,\"7920\":1.2,\"7921\":1.9,\"7922\":1.23,\"7923\":4.9,\"7924\":13.2,\"7925\":2.72,\"7926\":1.67,\"7927\":0.5,\"7928\":0.74,\"7929\":1.68,\"7930\":1.9,\"7931\":5.3,\"7932\":1.58,\"7933\":4.65,\"7934\":3.3,\"7935\":1.13,\"7936\":1.81,\"7937\":2.92,\"7938\":0.6,\"7939\":1.67,\"7940\":1.18,\"7941\":3.7,\"7942\":2.2,\"7943\":1.6,\"7944\":1.03,\"7945\":0.0,\"7946\":1.9,\"7947\":4.95,\"7948\":1.3,\"7949\":0.91,\"7950\":3.6,\"7951\":2.5,\"7952\":1.32,\"7953\":1.5,\"7954\":0.7,\"7955\":2.67,\"7956\":2.17,\"7957\":19.5,\"7958\":2.42,\"7959\":1.9,\"7960\":0.3,\"7961\":4.5,\"7962\":1.4,\"7963\":0.81,\"7964\":0.7,\"7965\":2.74,\"7966\":1.55,\"7967\":3.98,\"7968\":0.96,\"7969\":1.2,\"7970\":2.8,\"7971\":1.54,\"7972\":2.76,\"7973\":3.01,\"7974\":1.0,\"7975\":5.7,\"7976\":1.6,\"7977\":5.51,\"7978\":1.63,\"7979\":1.13,\"7980\":0.6,\"7981\":2.6,\"7982\":0.6,\"7983\":0.92,\"7984\":5.98,\"7985\":1.6,\"7986\":0.49,\"7987\":1.83,\"7988\":2.2,\"7989\":1.1,\"7990\":4.97,\"7991\":1.71,\"7992\":0.98,\"7993\":0.98,\"7994\":1.76,\"7995\":2.11,\"7996\":0.96,\"7997\":1.01,\"7998\":2.86,\"7999\":2.04,\"8000\":2.2,\"8001\":0.76,\"8002\":3.04,\"8003\":1.95,\"8004\":1.5,\"8005\":2.5,\"8006\":1.1,\"8007\":6.2,\"8008\":0.7,\"8009\":1.0,\"8010\":0.57,\"8011\":1.8,\"8012\":5.3,\"8013\":1.7,\"8014\":10.15,\"8015\":1.77,\"8016\":6.32,\"8017\":2.33,\"8018\":0.7,\"8019\":2.9,\"8020\":1.7,\"8021\":1.5,\"8022\":1.7,\"8023\":1.1,\"8024\":1.0,\"8025\":1.1,\"8026\":1.98,\"8027\":1.85,\"8028\":0.84,\"8029\":16.4,\"8030\":0.84,\"8031\":2.52,\"8032\":0.8,\"8033\":1.1,\"8034\":1.0,\"8035\":0.85,\"8036\":1.3,\"8037\":0.9,\"8038\":2.15,\"8039\":2.7,\"8040\":0.25,\"8041\":0.53,\"8042\":17.98,\"8043\":2.72,\"8044\":0.88,\"8045\":1.49,\"8046\":2.56,\"8047\":1.18,\"8048\":2.5,\"8049\":0.7,\"8050\":5.3,\"8051\":2.6,\"8052\":0.6,\"8053\":2.84,\"8054\":1.04,\"8055\":4.36,\"8056\":3.3,\"8057\":0.67,\"8058\":0.37,\"8059\":1.47,\"8060\":1.3,\"8061\":0.8,\"8062\":3.6,\"8063\":1.8,\"8064\":1.2,\"8065\":2.08,\"8066\":1.3,\"8067\":1.3,\"8068\":1.32,\"8069\":17.9,\"8070\":15.8,\"8071\":1.78,\"8072\":1.1,\"8073\":2.6,\"8074\":0.56,\"8075\":0.3,\"8076\":0.81,\"8077\":12.12,\"8078\":1.4,\"8079\":5.47,\"8080\":1.05,\"8081\":1.4,\"8082\":1.04,\"8083\":1.89,\"8084\":2.33,\"8085\":1.35,\"8086\":1.4,\"8087\":0.76,\"8088\":3.2,\"8089\":9.2,\"8090\":0.87,\"8091\":4.9,\"8092\":0.8,\"8093\":6.96,\"8094\":0.96,\"8095\":0.9,\"8096\":6.52,\"8097\":2.2,\"8098\":11.1,\"8099\":2.0,\"8100\":1.1,\"8101\":2.23,\"8102\":3.4,\"8103\":3.85,\"8104\":0.6,\"8105\":2.5,\"8106\":2.53,\"8107\":0.91,\"8108\":1.3,\"8109\":1.32,\"8110\":1.8,\"8111\":2.76,\"8112\":5.31,\"8113\":1.4,\"8114\":0.84,\"8115\":3.6,\"8116\":5.29,\"8117\":9.18,\"8118\":0.72,\"8119\":1.4,\"8120\":0.84,\"8121\":1.8,\"8122\":0.9,\"8123\":1.5,\"8124\":0.6,\"8125\":1.31,\"8126\":1.36,\"8127\":10.01,\"8128\":5.23,\"8129\":0.8,\"8130\":2.5,\"8131\":3.63,\"8132\":0.92,\"8133\":1.2,\"8134\":1.05,\"8135\":2.45,\"8136\":1.89,\"8137\":1.5,\"8138\":1.3,\"8139\":16.3,\"8140\":2.25,\"8141\":0.82,\"8142\":1.11,\"8143\":2.5,\"8144\":6.37,\"8145\":2.1,\"8146\":1.6,\"8147\":3.6,\"8148\":3.5,\"8149\":0.0,\"8150\":0.89,\"8151\":1.62,\"8152\":1.65,\"8153\":0.8,\"8154\":0.79,\"8155\":4.0,\"8156\":5.8,\"8157\":6.2,\"8158\":4.0,\"8159\":1.14,\"8160\":2.0,\"8161\":1.1,\"8162\":1.2,\"8163\":1.3,\"8164\":0.5,\"8165\":14.65,\"8166\":18.48,\"8167\":10.3,\"8168\":16.36,\"8169\":5.6,\"8170\":0.7,\"8171\":18.01,\"8172\":0.66,\"8173\":1.1,\"8174\":1.2,\"8175\":1.9,\"8176\":1.42,\"8177\":4.1,\"8178\":1.5,\"8179\":2.6,\"8180\":3.27,\"8181\":1.14,\"8182\":1.6,\"8183\":4.0,\"8184\":0.58,\"8185\":19.4,\"8186\":1.5,\"8187\":1.29,\"8188\":2.0,\"8189\":2.01,\"8190\":0.9,\"8191\":1.06,\"8192\":6.5,\"8193\":1.87,\"8194\":1.3,\"8195\":4.6,\"8196\":4.24,\"8197\":0.49,\"8198\":1.3,\"8199\":2.87,\"8200\":3.74,\"8201\":17.36,\"8202\":0.58,\"8203\":0.58,\"8204\":3.64,\"8205\":12.8,\"8206\":4.4,\"8207\":6.4,\"8208\":1.02,\"8209\":9.1,\"8210\":2.9,\"8211\":9.29,\"8212\":10.99,\"8213\":1.73,\"8214\":1.73,\"8215\":2.81,\"8216\":8.25,\"8217\":4.03,\"8218\":3.0,\"8219\":3.87,\"8220\":2.41,\"8221\":5.3,\"8222\":2.9,\"8223\":0.25,\"8224\":9.3,\"8225\":1.0,\"8226\":10.2,\"8227\":2.4,\"8228\":1.41,\"8229\":1.2,\"8230\":1.5,\"8231\":1.74,\"8232\":6.2,\"8233\":8.3,\"8234\":3.1,\"8235\":17.6,\"8236\":10.5,\"8237\":4.7,\"8238\":1.47,\"8239\":2.8,\"8240\":8.9,\"8241\":1.31,\"8242\":16.2,\"8243\":1.74,\"8244\":1.7,\"8245\":1.36,\"8246\":0.6,\"8247\":4.9,\"8248\":1.79,\"8249\":6.1,\"8250\":1.44,\"8251\":1.7,\"8252\":6.2,\"8253\":0.8,\"8254\":18.1,\"8255\":3.16,\"8256\":14.5,\"8257\":1.2,\"8258\":2.6,\"8259\":12.77,\"8260\":5.39,\"8261\":2.96,\"8262\":17.6,\"8263\":1.6,\"8264\":4.9,\"8265\":1.22,\"8266\":1.4,\"8267\":2.0,\"8268\":0.34,\"8269\":7.11,\"8270\":0.9,\"8271\":1.7,\"8272\":3.6,\"8273\":11.34,\"8274\":12.19,\"8275\":2.25,\"8276\":0.65,\"8277\":4.7,\"8278\":2.12,\"8279\":0.0,\"8280\":1.23,\"8281\":2.2,\"8282\":2.0,\"8283\":0.62,\"8284\":2.45,\"8285\":1.2,\"8286\":1.27,\"8287\":6.32,\"8288\":4.04,\"8289\":1.5,\"8290\":2.9,\"8291\":8.88,\"8292\":8.46,\"8293\":8.3,\"8294\":5.9,\"8295\":1.7,\"8296\":11.1,\"8297\":1.1,\"8298\":0.39,\"8299\":6.57,\"8300\":7.42,\"8301\":4.6,\"8302\":2.28,\"8303\":1.2,\"8304\":6.5,\"8305\":20.75,\"8306\":0.4,\"8307\":16.1,\"8308\":1.0,\"8309\":3.49,\"8310\":0.4,\"8311\":17.47,\"8312\":0.8,\"8313\":7.9,\"8314\":4.31,\"8315\":3.7,\"8316\":1.2,\"8317\":21.4,\"8318\":10.2,\"8319\":5.0,\"8320\":1.3,\"8321\":0.4,\"8322\":3.5,\"8323\":2.27,\"8324\":1.64,\"8325\":1.5,\"8326\":1.6,\"8327\":5.8,\"8328\":8.5,\"8329\":0.6,\"8330\":2.1,\"8331\":3.3,\"8332\":0.8,\"8333\":0.5,\"8334\":4.9,\"8335\":1.7,\"8336\":0.3,\"8337\":4.91,\"8338\":4.1,\"8339\":11.1,\"8340\":5.66,\"8341\":2.0,\"8342\":6.4,\"8343\":1.0,\"8344\":3.9,\"8345\":0.72,\"8346\":1.79,\"8347\":1.1,\"8348\":5.3,\"8349\":2.47,\"8350\":1.2,\"8351\":2.1,\"8352\":5.2,\"8353\":10.67,\"8354\":0.2,\"8355\":1.33,\"8356\":1.29,\"8357\":3.07,\"8358\":1.9,\"8359\":2.34,\"8360\":8.1,\"8361\":8.8,\"8362\":1.1,\"8363\":0.9,\"8364\":2.94,\"8365\":3.2,\"8366\":5.4,\"8367\":0.9,\"8368\":1.0,\"8369\":4.1,\"8370\":11.02,\"8371\":6.43,\"8372\":0.4,\"8373\":0.4,\"8374\":8.4,\"8375\":4.28,\"8376\":1.56,\"8377\":7.1,\"8378\":4.3,\"8379\":2.99,\"8380\":1.9,\"8381\":1.42,\"8382\":10.93,\"8383\":1.2,\"8384\":13.4,\"8385\":21.03,\"8386\":19.2,\"8387\":0.8,\"8388\":7.95,\"8389\":4.21,\"8390\":6.53,\"8391\":10.6,\"8392\":1.1,\"8393\":10.3,\"8394\":0.98,\"8395\":10.75,\"8396\":5.3,\"8397\":7.37,\"8398\":0.7,\"8399\":3.1,\"8400\":0.86,\"8401\":1.2,\"8402\":6.5,\"8403\":0.4,\"8404\":0.23,\"8405\":1.77,\"8406\":5.93,\"8407\":1.5,\"8408\":4.79,\"8409\":1.1,\"8410\":1.1,\"8411\":9.6,\"8412\":2.79,\"8413\":1.3,\"8414\":1.53,\"8415\":4.5,\"8416\":8.3,\"8417\":1.4,\"8418\":1.4,\"8419\":3.63,\"8420\":9.0,\"8421\":3.67,\"8422\":2.3,\"8423\":7.55,\"8424\":0.3,\"8425\":1.6,\"8426\":7.41,\"8427\":1.44,\"8428\":0.88,\"8429\":4.33,\"8430\":2.6,\"8431\":1.36,\"8432\":3.12,\"8433\":1.2,\"8434\":1.19,\"8435\":2.8,\"8436\":11.93,\"8437\":1.2,\"8438\":1.7,\"8439\":2.3,\"8440\":10.75,\"8441\":1.36,\"8442\":0.66,\"8443\":3.89,\"8444\":2.93,\"8445\":3.1,\"8446\":0.9,\"8447\":1.3,\"8448\":1.0,\"8449\":4.63,\"8450\":1.2,\"8451\":1.3,\"8452\":1.64,\"8453\":1.72,\"8454\":0.87,\"8455\":1.3,\"8456\":0.8,\"8457\":7.4,\"8458\":16.3,\"8459\":3.04,\"8460\":6.6,\"8461\":3.5,\"8462\":1.8,\"8463\":2.1,\"8464\":3.72,\"8465\":2.6,\"8466\":3.9,\"8467\":15.87,\"8468\":1.48,\"8469\":2.3,\"8470\":1.6,\"8471\":9.43,\"8472\":3.67,\"8473\":1.07,\"8474\":11.73,\"8475\":1.84,\"8476\":1.3,\"8477\":4.47,\"8478\":2.6,\"8479\":1.53,\"8480\":1.91,\"8481\":0.7,\"8482\":0.23,\"8483\":1.1,\"8484\":18.66,\"8485\":1.1,\"8486\":1.15,\"8487\":1.9,\"8488\":2.28,\"8489\":0.3,\"8490\":0.09,\"8491\":1.9,\"8492\":1.31,\"8493\":1.6,\"8494\":1.71,\"8495\":4.1,\"8496\":2.7,\"8497\":1.38,\"8498\":1.3,\"8499\":1.67,\"8500\":5.6,\"8501\":7.27,\"8502\":2.0,\"8503\":9.5,\"8504\":11.86,\"8505\":1.0,\"8506\":2.11,\"8507\":5.7,\"8508\":2.0,\"8509\":0.94,\"8510\":4.97,\"8511\":2.7,\"8512\":1.3,\"8513\":60.3,\"8514\":3.88,\"8515\":3.3,\"8516\":8.17,\"8517\":9.8,\"8518\":5.06,\"8519\":1.73,\"8520\":6.0,\"8521\":10.19,\"8522\":0.5,\"8523\":2.3,\"8524\":3.68,\"8525\":2.39,\"8526\":2.0,\"8527\":3.7,\"8528\":2.74,\"8529\":0.9,\"8530\":2.7,\"8531\":1.1,\"8532\":12.79,\"8533\":2.34,\"8534\":1.2,\"8535\":8.42,\"8536\":1.5,\"8537\":7.0,\"8538\":11.7,\"8539\":0.87,\"8540\":5.98,\"8541\":5.65,\"8542\":4.94,\"8543\":3.23,\"8544\":0.5,\"8545\":10.06,\"8546\":10.9,\"8547\":4.0,\"8548\":1.1,\"8549\":6.6,\"8550\":10.7,\"8551\":9.5,\"8552\":10.42,\"8553\":1.46,\"8554\":3.8,\"8555\":7.51,\"8556\":1.7,\"8557\":0.89,\"8558\":8.3,\"8559\":3.6,\"8560\":2.16,\"8561\":18.6,\"8562\":4.09,\"8563\":8.3,\"8564\":7.6,\"8565\":3.9,\"8566\":0.7,\"8567\":4.37,\"8568\":5.6,\"8569\":0.9,\"8570\":3.6,\"8571\":1.92,\"8572\":4.63,\"8573\":1.0,\"8574\":1.41,\"8575\":4.9,\"8576\":7.4,\"8577\":1.28,\"8578\":7.8,\"8579\":3.46,\"8580\":4.2,\"8581\":8.12,\"8582\":3.5,\"8583\":1.7,\"8584\":0.2,\"8585\":1.8,\"8586\":4.12,\"8587\":1.9,\"8588\":1.3,\"8589\":1.16,\"8590\":9.4,\"8591\":6.5,\"8592\":0.8,\"8593\":10.3,\"8594\":10.3,\"8595\":7.1,\"8596\":20.6,\"8597\":2.3,\"8598\":4.16,\"8599\":15.6,\"8600\":1.8,\"8601\":10.83,\"8602\":0.9,\"8603\":9.28,\"8604\":11.99,\"8605\":5.3,\"8606\":1.77,\"8607\":2.49,\"8608\":1.54,\"8609\":3.5,\"8610\":1.8,\"8611\":2.1,\"8612\":9.83,\"8613\":5.3,\"8614\":5.7,\"8615\":0.3,\"8616\":5.35,\"8617\":3.54,\"8618\":2.0,\"8619\":3.2,\"8620\":19.6,\"8621\":4.5,\"8622\":4.8,\"8623\":5.83,\"8624\":1.44,\"8625\":0.0,\"8626\":1.7,\"8627\":8.6,\"8628\":1.74,\"8629\":1.87,\"8630\":0.87,\"8631\":3.24,\"8632\":1.28,\"8633\":1.4,\"8634\":3.1,\"8635\":3.3,\"8636\":1.4,\"8637\":0.95,\"8638\":0.0,\"8639\":1.6,\"8640\":4.22,\"8641\":0.7,\"8642\":2.15,\"8643\":0.77,\"8644\":2.34,\"8645\":3.0,\"8646\":10.52,\"8647\":18.96,\"8648\":5.45,\"8649\":2.4,\"8650\":0.9,\"8651\":2.4,\"8652\":4.6,\"8653\":4.31,\"8654\":14.61,\"8655\":0.39,\"8656\":10.6,\"8657\":6.9,\"8658\":4.1,\"8659\":0.0,\"8660\":13.1,\"8661\":2.5,\"8662\":4.6,\"8663\":1.4,\"8664\":3.91,\"8665\":5.18,\"8666\":6.4,\"8667\":0.83,\"8668\":2.8,\"8669\":0.97,\"8670\":19.2,\"8671\":2.1,\"8672\":0.48,\"8673\":7.6,\"8674\":0.95,\"8675\":1.55,\"8676\":4.23,\"8677\":1.8,\"8678\":1.22,\"8679\":1.5,\"8680\":3.1,\"8681\":1.22,\"8682\":18.9,\"8683\":3.28,\"8684\":0.43,\"8685\":3.0,\"8686\":4.3,\"8687\":0.63,\"8688\":1.2,\"8689\":9.2,\"8690\":1.9,\"8691\":9.6,\"8692\":1.5,\"8693\":3.23,\"8694\":1.1,\"8695\":3.8,\"8696\":4.73,\"8697\":1.4,\"8698\":17.4,\"8699\":1.5,\"8700\":5.8,\"8701\":5.0,\"8702\":1.9,\"8703\":2.01,\"8704\":1.94,\"8705\":1.36,\"8706\":12.56,\"8707\":3.5,\"8708\":1.3,\"8709\":1.63,\"8710\":1.46,\"8711\":0.9,\"8712\":3.6,\"8713\":1.83,\"8714\":1.1,\"8715\":11.3,\"8716\":0.96,\"8717\":19.3,\"8718\":1.64,\"8719\":1.66,\"8720\":1.5,\"8721\":3.0,\"8722\":0.91,\"8723\":1.4,\"8724\":3.2,\"8725\":0.6,\"8726\":2.47,\"8727\":1.4,\"8728\":1.09,\"8729\":5.0,\"8730\":2.54,\"8731\":0.85,\"8732\":4.14,\"8733\":1.32,\"8734\":2.1,\"8735\":1.2,\"8736\":1.9,\"8737\":19.97,\"8738\":3.2,\"8739\":7.3,\"8740\":0.66,\"8741\":2.41,\"8742\":3.6,\"8743\":2.1,\"8744\":2.08,\"8745\":1.3,\"8746\":1.53,\"8747\":6.72,\"8748\":9.21,\"8749\":3.16,\"8750\":5.4,\"8751\":11.05,\"8752\":5.1,\"8753\":21.8,\"8754\":0.5,\"8755\":3.45,\"8756\":3.8,\"8757\":1.42,\"8758\":1.4,\"8759\":2.37,\"8760\":16.23,\"8761\":1.1,\"8762\":9.1,\"8763\":1.58,\"8764\":0.6,\"8765\":10.09,\"8766\":2.1,\"8767\":18.24,\"8768\":0.4,\"8769\":1.2,\"8770\":2.53,\"8771\":3.6,\"8772\":2.07,\"8773\":1.07,\"8774\":2.8,\"8775\":0.8,\"8776\":1.25,\"8777\":1.2,\"8778\":2.4,\"8779\":0.7,\"8780\":1.3,\"8781\":18.2,\"8782\":5.7,\"8783\":6.3,\"8784\":2.36,\"8785\":7.27,\"8786\":2.3,\"8787\":1.31,\"8788\":1.3,\"8789\":2.83,\"8790\":9.07,\"8791\":0.4,\"8792\":18.1,\"8793\":1.15,\"8794\":7.81,\"8795\":7.62,\"8796\":1.95,\"8797\":10.9,\"8798\":2.1,\"8799\":7.88,\"8800\":2.3,\"8801\":10.7,\"8802\":0.8,\"8803\":7.4,\"8804\":10.25,\"8805\":0.6,\"8806\":0.5,\"8807\":7.8,\"8808\":1.7,\"8809\":10.84,\"8810\":10.44,\"8811\":0.89,\"8812\":3.71,\"8813\":13.7,\"8814\":6.45,\"8815\":1.4,\"8816\":8.5,\"8817\":18.76,\"8818\":9.7,\"8819\":0.72,\"8820\":4.65,\"8821\":2.51,\"8822\":8.2,\"8823\":4.42,\"8824\":1.6,\"8825\":10.5,\"8826\":7.98,\"8827\":3.42,\"8828\":2.9,\"8829\":1.82,\"8830\":5.4,\"8831\":17.73,\"8832\":0.72,\"8833\":17.9,\"8834\":2.59,\"8835\":8.73,\"8836\":2.71,\"8837\":2.82,\"8838\":0.24,\"8839\":2.25,\"8840\":0.5,\"8841\":1.2,\"8842\":2.82,\"8843\":6.9,\"8844\":3.29,\"8845\":0.62,\"8846\":2.76,\"8847\":2.78,\"8848\":4.01,\"8849\":9.6,\"8850\":9.7,\"8851\":2.99,\"8852\":1.22,\"8853\":2.0,\"8854\":2.6,\"8855\":0.38,\"8856\":10.9,\"8857\":1.86,\"8858\":13.0,\"8859\":2.91,\"8860\":0.87,\"8861\":13.94,\"8862\":2.14,\"8863\":4.6,\"8864\":4.97,\"8865\":4.8,\"8866\":8.53,\"8867\":1.29,\"8868\":2.44,\"8869\":18.08,\"8870\":5.36,\"8871\":1.17,\"8872\":17.71,\"8873\":0.8,\"8874\":1.7,\"8875\":1.4,\"8876\":0.3,\"8877\":2.3,\"8878\":0.8,\"8879\":0.6,\"8880\":0.8,\"8881\":3.7,\"8882\":16.4,\"8883\":0.63,\"8884\":0.7,\"8885\":6.6,\"8886\":2.35,\"8887\":1.61,\"8888\":4.94,\"8889\":9.6,\"8890\":7.9,\"8891\":8.0,\"8892\":4.67,\"8893\":0.92,\"8894\":7.5,\"8895\":1.7,\"8896\":5.6,\"8897\":1.3,\"8898\":0.99,\"8899\":2.2,\"8900\":1.6,\"8901\":2.06,\"8902\":0.82,\"8903\":1.6,\"8904\":4.8,\"8905\":1.83,\"8906\":2.64,\"8907\":5.81,\"8908\":0.1,\"8909\":12.9,\"8910\":0.5,\"8911\":2.0,\"8912\":1.56,\"8913\":1.2,\"8914\":2.3,\"8915\":3.38,\"8916\":13.8,\"8917\":0.9,\"8918\":1.8,\"8919\":0.6,\"8920\":1.71,\"8921\":3.0,\"8922\":2.7,\"8923\":14.73,\"8924\":1.84,\"8925\":5.71,\"8926\":1.3,\"8927\":9.6,\"8928\":1.4,\"8929\":5.4,\"8930\":1.7,\"8931\":0.89,\"8932\":3.29,\"8933\":10.44,\"8934\":0.8,\"8935\":1.0,\"8936\":12.4,\"8937\":1.24,\"8938\":2.1,\"8939\":1.6,\"8940\":1.34,\"8941\":0.12,\"8942\":16.3,\"8943\":3.56,\"8944\":2.69,\"8945\":1.89,\"8946\":6.0,\"8947\":11.05,\"8948\":3.9,\"8949\":5.3,\"8950\":1.58,\"8951\":1.38,\"8952\":1.3,\"8953\":5.91,\"8954\":2.85,\"8955\":6.1,\"8956\":12.5,\"8957\":7.17,\"8958\":9.4,\"8959\":5.14,\"8960\":1.48,\"8961\":1.0,\"8962\":9.94,\"8963\":3.02,\"8964\":1.1,\"8965\":1.69,\"8966\":1.3,\"8967\":0.6,\"8968\":3.7,\"8969\":0.8,\"8970\":0.3,\"8971\":1.27,\"8972\":2.06,\"8973\":2.11,\"8974\":6.5,\"8975\":1.12,\"8976\":3.03,\"8977\":6.8,\"8978\":0.6,\"8979\":1.41,\"8980\":10.6,\"8981\":2.0,\"8982\":2.04,\"8983\":3.8,\"8984\":11.8,\"8985\":16.91,\"8986\":1.5,\"8987\":5.31,\"8988\":2.28,\"8989\":0.5,\"8990\":0.6,\"8991\":0.59,\"8992\":17.7,\"8993\":5.8,\"8994\":0.63,\"8995\":0.0,\"8996\":2.01,\"8997\":1.0,\"8998\":2.47,\"8999\":18.1,\"9000\":2.0,\"9001\":0.9,\"9002\":2.73,\"9003\":1.61,\"9004\":2.23,\"9005\":10.3,\"9006\":0.9,\"9007\":4.9,\"9008\":26.4,\"9009\":20.97,\"9010\":14.3,\"9011\":0.5,\"9012\":5.3,\"9013\":4.5,\"9014\":0.8,\"9015\":18.57,\"9016\":0.0,\"9017\":1.88,\"9018\":3.18,\"9019\":9.02,\"9020\":1.32,\"9021\":1.06,\"9022\":4.46,\"9023\":2.8,\"9024\":1.98,\"9025\":6.77,\"9026\":10.4,\"9027\":0.8,\"9028\":4.79,\"9029\":0.5,\"9030\":3.34,\"9031\":5.71,\"9032\":1.01,\"9033\":2.4,\"9034\":3.0,\"9035\":2.3,\"9036\":1.87,\"9037\":0.9,\"9038\":0.39,\"9039\":5.2,\"9040\":0.65,\"9041\":3.1,\"9042\":2.6,\"9043\":1.53,\"9044\":2.0,\"9045\":1.8,\"9046\":1.1,\"9047\":3.08,\"9048\":7.97,\"9049\":0.85,\"9050\":2.1,\"9051\":2.01,\"9052\":0.4,\"9053\":4.14,\"9054\":2.1,\"9055\":0.5,\"9056\":13.2,\"9057\":0.15,\"9058\":1.38,\"9059\":2.7,\"9060\":2.46,\"9061\":1.06,\"9062\":4.09,\"9063\":4.1,\"9064\":0.7,\"9065\":1.04,\"9066\":1.3,\"9067\":1.1,\"9068\":8.94,\"9069\":1.2,\"9070\":1.76,\"9071\":1.63,\"9072\":9.43,\"9073\":2.74,\"9074\":3.6,\"9075\":1.1,\"9076\":1.8,\"9077\":0.52,\"9078\":11.21,\"9079\":1.37,\"9080\":4.6,\"9081\":3.8,\"9082\":3.67,\"9083\":0.63,\"9084\":6.2,\"9085\":3.35,\"9086\":12.3,\"9087\":0.0,\"9088\":4.51,\"9089\":0.37,\"9090\":6.16,\"9091\":3.51,\"9092\":1.9,\"9093\":0.0,\"9094\":12.82,\"9095\":3.9,\"9096\":2.9,\"9097\":4.0,\"9098\":11.39,\"9099\":4.3,\"9100\":1.0,\"9101\":7.74,\"9102\":26.0,\"9103\":0.68,\"9104\":3.56,\"9105\":0.93,\"9106\":0.2,\"9107\":1.4,\"9108\":4.96,\"9109\":1.67,\"9110\":4.4,\"9111\":0.6,\"9112\":11.88,\"9113\":2.97,\"9114\":0.9,\"9115\":3.4,\"9116\":16.27,\"9117\":5.98,\"9118\":1.2,\"9119\":2.84,\"9120\":1.95,\"9121\":9.2,\"9122\":7.87,\"9123\":0.47,\"9124\":12.98,\"9125\":1.18,\"9126\":1.0,\"9127\":4.0,\"9128\":0.64,\"9129\":10.1,\"9130\":0.56,\"9131\":5.6,\"9132\":3.78,\"9133\":10.8,\"9134\":0.6,\"9135\":2.7,\"9136\":1.9,\"9137\":3.0,\"9138\":1.3,\"9139\":3.17,\"9140\":10.01,\"9141\":16.8,\"9142\":7.3,\"9143\":3.9,\"9144\":9.39,\"9145\":3.7,\"9146\":5.95,\"9147\":8.13,\"9148\":2.88,\"9149\":4.68,\"9150\":2.2,\"9151\":3.86,\"9152\":1.8,\"9153\":2.9,\"9154\":4.05,\"9155\":0.62,\"9156\":10.14,\"9157\":6.2,\"9158\":4.37,\"9159\":2.05,\"9160\":1.4,\"9161\":3.27,\"9162\":3.4,\"9163\":17.94,\"9164\":6.12,\"9165\":1.7,\"9166\":2.8,\"9167\":1.6,\"9168\":6.4,\"9169\":6.5,\"9170\":3.08,\"9171\":5.8,\"9172\":1.24,\"9173\":2.58,\"9174\":20.4,\"9175\":7.5,\"9176\":4.03,\"9177\":0.79,\"9178\":0.4,\"9179\":0.45,\"9180\":1.1,\"9181\":0.6,\"9182\":21.3,\"9183\":0.8,\"9184\":15.87,\"9185\":1.8,\"9186\":2.55,\"9187\":7.6,\"9188\":0.42,\"9189\":5.4,\"9190\":2.2,\"9191\":2.55,\"9192\":8.04,\"9193\":3.1,\"9194\":2.9,\"9195\":5.1,\"9196\":0.61,\"9197\":2.18,\"9198\":6.1,\"9199\":2.1,\"9200\":1.55,\"9201\":6.8,\"9202\":5.2,\"9203\":5.3,\"9204\":3.1,\"9205\":1.51,\"9206\":1.6,\"9207\":2.16,\"9208\":12.75,\"9209\":2.54,\"9210\":1.9,\"9211\":0.6,\"9212\":1.19,\"9213\":15.0,\"9214\":3.3,\"9215\":9.1,\"9216\":4.2,\"9217\":1.8,\"9218\":1.7,\"9219\":6.6,\"9220\":2.27,\"9221\":1.11,\"9222\":2.6,\"9223\":2.4,\"9224\":2.5,\"9225\":5.6,\"9226\":5.1,\"9227\":0.46,\"9228\":9.95,\"9229\":1.5,\"9230\":8.4,\"9231\":31.5,\"9232\":17.02,\"9233\":1.4,\"9234\":1.6,\"9235\":0.9,\"9236\":4.0,\"9237\":1.3,\"9238\":2.3,\"9239\":1.44,\"9240\":7.76,\"9241\":1.4,\"9242\":3.1,\"9243\":1.61,\"9244\":5.2,\"9245\":1.8,\"9246\":1.69,\"9247\":1.2,\"9248\":3.6,\"9249\":1.14,\"9250\":4.13,\"9251\":0.93,\"9252\":2.0,\"9253\":3.9,\"9254\":2.7,\"9255\":2.61,\"9256\":1.5,\"9257\":2.1,\"9258\":8.0,\"9259\":0.64,\"9260\":1.16,\"9261\":2.56,\"9262\":12.5,\"9263\":2.2,\"9264\":1.3,\"9265\":2.38,\"9266\":5.0,\"9267\":4.4,\"9268\":0.73,\"9269\":1.08,\"9270\":1.1,\"9271\":6.1,\"9272\":2.14,\"9273\":1.2,\"9274\":0.61,\"9275\":2.52,\"9276\":0.93,\"9277\":0.5,\"9278\":3.71,\"9279\":5.76,\"9280\":0.9,\"9281\":29.3,\"9282\":3.87,\"9283\":1.3,\"9284\":1.3,\"9285\":1.26,\"9286\":0.97,\"9287\":2.08,\"9288\":4.9,\"9289\":1.4,\"9290\":0.9,\"9291\":2.1,\"9292\":5.99,\"9293\":3.36,\"9294\":3.84,\"9295\":2.9,\"9296\":2.96,\"9297\":2.97,\"9298\":2.0,\"9299\":0.8,\"9300\":1.9,\"9301\":0.55,\"9302\":2.9,\"9303\":0.83,\"9304\":3.7,\"9305\":18.8,\"9306\":7.7,\"9307\":6.34,\"9308\":1.61,\"9309\":0.7,\"9310\":7.37,\"9311\":8.1,\"9312\":1.1,\"9313\":0.9,\"9314\":1.82,\"9315\":1.33,\"9316\":1.55,\"9317\":2.5,\"9318\":2.17,\"9319\":1.7,\"9320\":4.52,\"9321\":3.49,\"9322\":1.9,\"9323\":5.8,\"9324\":9.36,\"9325\":1.2,\"9326\":2.0,\"9327\":0.8,\"9328\":0.3,\"9329\":2.5,\"9330\":1.71,\"9331\":9.5,\"9332\":0.75,\"9333\":2.3,\"9334\":6.49,\"9335\":3.93,\"9336\":0.2,\"9337\":2.78,\"9338\":1.59,\"9339\":10.4,\"9340\":22.06,\"9341\":1.23,\"9342\":3.4,\"9343\":1.0,\"9344\":0.45,\"9345\":1.69,\"9346\":5.66,\"9347\":1.99,\"9348\":1.61,\"9349\":4.6,\"9350\":9.29,\"9351\":0.93,\"9352\":4.8,\"9353\":1.68,\"9354\":4.29,\"9355\":1.54,\"9356\":11.58,\"9357\":1.05,\"9358\":2.47,\"9359\":0.93,\"9360\":1.39,\"9361\":0.9,\"9362\":6.3,\"9363\":6.33,\"9364\":1.8,\"9365\":1.94,\"9366\":3.93,\"9367\":6.99,\"9368\":20.3,\"9369\":1.5,\"9370\":3.8,\"9371\":20.36,\"9372\":0.76,\"9373\":2.8,\"9374\":6.1,\"9375\":0.88,\"9376\":15.94,\"9377\":1.1,\"9378\":5.63,\"9379\":0.6,\"9380\":2.04,\"9381\":12.61,\"9382\":1.62,\"9383\":1.2,\"9384\":1.57,\"9385\":1.35,\"9386\":0.45,\"9387\":1.54,\"9388\":0.73,\"9389\":0.9,\"9390\":1.0,\"9391\":8.2,\"9392\":5.1,\"9393\":16.01,\"9394\":20.05,\"9395\":9.2,\"9396\":2.83,\"9397\":5.4,\"9398\":5.5,\"9399\":11.9,\"9400\":0.8,\"9401\":2.68,\"9402\":7.34,\"9403\":2.87,\"9404\":1.0,\"9405\":1.0,\"9406\":0.98,\"9407\":1.2,\"9408\":4.5,\"9409\":18.01,\"9410\":0.8,\"9411\":17.0,\"9412\":2.69,\"9413\":1.3,\"9414\":6.82,\"9415\":4.95,\"9416\":3.1,\"9417\":0.5,\"9418\":1.01,\"9419\":0.7,\"9420\":3.7,\"9421\":2.52,\"9422\":0.74,\"9423\":1.56,\"9424\":2.2,\"9425\":6.3,\"9426\":1.82,\"9427\":10.4,\"9428\":1.2,\"9429\":1.8,\"9430\":19.3,\"9431\":14.06,\"9432\":2.24,\"9433\":4.4,\"9434\":1.97,\"9435\":0.7,\"9436\":0.68,\"9437\":0.02,\"9438\":2.79,\"9439\":0.4,\"9440\":1.94,\"9441\":11.1,\"9442\":1.0,\"9443\":1.52,\"9444\":3.7,\"9445\":1.61,\"9446\":1.6,\"9447\":0.2,\"9448\":1.1,\"9449\":15.93,\"9450\":0.5,\"9451\":0.41,\"9452\":0.1,\"9453\":2.74,\"9454\":17.25,\"9455\":1.19,\"9456\":3.2,\"9457\":8.2,\"9458\":6.7,\"9459\":4.36,\"9460\":0.96,\"9461\":3.3,\"9462\":4.7,\"9463\":0.9,\"9464\":1.68,\"9465\":11.54,\"9466\":1.33,\"9467\":0.32,\"9468\":4.8,\"9469\":0.48,\"9470\":2.6,\"9471\":2.1,\"9472\":2.3,\"9473\":1.2,\"9474\":1.0,\"9475\":19.72,\"9476\":0.9,\"9477\":15.16,\"9478\":1.7,\"9479\":1.0,\"9480\":7.44,\"9481\":3.9,\"9482\":0.88,\"9483\":0.83,\"9484\":5.1,\"9485\":4.64,\"9486\":2.49,\"9487\":6.4,\"9488\":0.66,\"9489\":8.5,\"9490\":0.58,\"9491\":5.9,\"9492\":1.6,\"9493\":2.76,\"9494\":8.21,\"9495\":0.5,\"9496\":1.43,\"9497\":1.0,\"9498\":1.5,\"9499\":1.9,\"9500\":6.34,\"9501\":2.0,\"9502\":4.25,\"9503\":2.35,\"9504\":1.01,\"9505\":0.7,\"9506\":3.18,\"9507\":0.6,\"9508\":1.6,\"9509\":1.61,\"9510\":1.03,\"9511\":7.89,\"9512\":4.54,\"9513\":9.4,\"9514\":3.6,\"9515\":1.6,\"9516\":0.7,\"9517\":7.58,\"9518\":2.2,\"9519\":1.29,\"9520\":4.1,\"9521\":6.4,\"9522\":1.1,\"9523\":1.62,\"9524\":16.02,\"9525\":3.5,\"9526\":4.9,\"9527\":3.29,\"9528\":4.1,\"9529\":1.48,\"9530\":5.07,\"9531\":6.6,\"9532\":7.01,\"9533\":4.3,\"9534\":1.5,\"9535\":15.5,\"9536\":3.98,\"9537\":1.7,\"9538\":2.08,\"9539\":5.2,\"9540\":9.86,\"9541\":1.54,\"9542\":1.5,\"9543\":0.64,\"9544\":0.34,\"9545\":1.7,\"9546\":4.4,\"9547\":12.6,\"9548\":6.3,\"9549\":11.05,\"9550\":17.6,\"9551\":10.98,\"9552\":1.92,\"9553\":1.43,\"9554\":18.1,\"9555\":3.31,\"9556\":0.7,\"9557\":3.7,\"9558\":8.0,\"9559\":2.56,\"9560\":8.23,\"9561\":13.57,\"9562\":2.3,\"9563\":1.11,\"9564\":9.1,\"9565\":1.38,\"9566\":2.04,\"9567\":3.12,\"9568\":1.3,\"9569\":0.92,\"9570\":0.9,\"9571\":10.55,\"9572\":0.34,\"9573\":3.3,\"9574\":2.8,\"9575\":0.64,\"9576\":1.0,\"9577\":0.81,\"9578\":2.0,\"9579\":2.86,\"9580\":1.09,\"9581\":4.79,\"9582\":8.5,\"9583\":4.5,\"9584\":4.9,\"9585\":2.4,\"9586\":6.44,\"9587\":8.39,\"9588\":0.7,\"9589\":3.9,\"9590\":8.7,\"9591\":9.7,\"9592\":0.86,\"9593\":6.19,\"9594\":2.6,\"9595\":1.5,\"9596\":7.12,\"9597\":1.0,\"9598\":4.5,\"9599\":8.2,\"9600\":1.7,\"9601\":4.63,\"9602\":6.61,\"9603\":1.5,\"9604\":4.5,\"9605\":0.7,\"9606\":3.9,\"9607\":2.7,\"9608\":7.76,\"9609\":2.2,\"9610\":0.6,\"9611\":17.2,\"9612\":11.5,\"9613\":7.68,\"9614\":3.5,\"9615\":0.6,\"9616\":4.31,\"9617\":0.32,\"9618\":3.1,\"9619\":2.53,\"9620\":0.8,\"9621\":1.0,\"9622\":1.4,\"9623\":1.52,\"9624\":1.51,\"9625\":1.79,\"9626\":1.47,\"9627\":4.5,\"9628\":1.1,\"9629\":3.52,\"9630\":2.0,\"9631\":13.67,\"9632\":9.64,\"9633\":1.3,\"9634\":9.67,\"9635\":3.17,\"9636\":2.6,\"9637\":2.8,\"9638\":2.53,\"9639\":2.7,\"9640\":5.37,\"9641\":1.73,\"9642\":6.7,\"9643\":2.3,\"9644\":9.97,\"9645\":0.47,\"9646\":3.5,\"9647\":10.09,\"9648\":0.3,\"9649\":18.7,\"9650\":8.7,\"9651\":5.4,\"9652\":1.96,\"9653\":0.8,\"9654\":1.7,\"9655\":0.43,\"9656\":8.34,\"9657\":2.1,\"9658\":2.19,\"9659\":5.93,\"9660\":1.7,\"9661\":4.5,\"9662\":0.2,\"9663\":20.61,\"9664\":1.98,\"9665\":5.2,\"9666\":18.01,\"9667\":0.8,\"9668\":3.1,\"9669\":2.3,\"9670\":3.44,\"9671\":0.9,\"9672\":1.2,\"9673\":5.9,\"9674\":1.5,\"9675\":0.45,\"9676\":3.67,\"9677\":4.13,\"9678\":10.1,\"9679\":4.0,\"9680\":16.39,\"9681\":9.9,\"9682\":1.6,\"9683\":1.9,\"9684\":1.01,\"9685\":21.1,\"9686\":0.96,\"9687\":1.5,\"9688\":3.13,\"9689\":0.89,\"9690\":0.2,\"9691\":1.26,\"9692\":15.69,\"9693\":5.03,\"9694\":4.68,\"9695\":2.5,\"9696\":0.8,\"9697\":1.44,\"9698\":0.59,\"9699\":1.78,\"9700\":0.9,\"9701\":0.8,\"9702\":1.89,\"9703\":1.8,\"9704\":7.27,\"9705\":8.3,\"9706\":2.19,\"9707\":0.94,\"9708\":1.2,\"9709\":2.62,\"9710\":3.02,\"9711\":5.3,\"9712\":1.72,\"9713\":9.7,\"9714\":6.7,\"9715\":3.6,\"9716\":1.4,\"9717\":5.2,\"9718\":2.6,\"9719\":0.5,\"9720\":7.0,\"9721\":1.16,\"9722\":0.4,\"9723\":3.6,\"9724\":1.07,\"9725\":1.5,\"9726\":1.49,\"9727\":1.7,\"9728\":8.1,\"9729\":19.8,\"9730\":8.68,\"9731\":2.23,\"9732\":2.41,\"9733\":1.4,\"9734\":1.3,\"9735\":2.9,\"9736\":1.2,\"9737\":2.1,\"9738\":0.65,\"9739\":2.2,\"9740\":0.0,\"9741\":4.53,\"9742\":2.15,\"9743\":2.81,\"9744\":1.5,\"9745\":0.6,\"9746\":1.9,\"9747\":1.2,\"9748\":12.3,\"9749\":3.6,\"9750\":3.1,\"9751\":1.3,\"9752\":8.2,\"9753\":3.97,\"9754\":1.02,\"9755\":9.2,\"9756\":11.57,\"9757\":0.3,\"9758\":10.61,\"9759\":6.22,\"9760\":3.3,\"9761\":0.0,\"9762\":1.85,\"9763\":0.68,\"9764\":11.7,\"9765\":0.56,\"9766\":10.38,\"9767\":1.31,\"9768\":0.6,\"9769\":0.6,\"9770\":2.28,\"9771\":3.6,\"9772\":7.45,\"9773\":1.5,\"9774\":4.1,\"9775\":2.21,\"9776\":7.92,\"9777\":0.4,\"9778\":1.7,\"9779\":2.9,\"9780\":2.71,\"9781\":0.66,\"9782\":9.6,\"9783\":2.95,\"9784\":1.6,\"9785\":13.87,\"9786\":14.71,\"9787\":1.04,\"9788\":4.8,\"9789\":7.72,\"9790\":1.6,\"9791\":2.99,\"9792\":2.48,\"9793\":2.2,\"9794\":17.34,\"9795\":2.7,\"9796\":8.34,\"9797\":1.6,\"9798\":5.1,\"9799\":13.2,\"9800\":18.63,\"9801\":0.67,\"9802\":3.84,\"9803\":6.69,\"9804\":5.6,\"9805\":3.1,\"9806\":3.9,\"9807\":1.49,\"9808\":2.11,\"9809\":5.79,\"9810\":0.7,\"9811\":1.5,\"9812\":13.23,\"9813\":3.9,\"9814\":9.4,\"9815\":2.05,\"9816\":6.0,\"9817\":3.52,\"9818\":9.36,\"9819\":4.03,\"9820\":0.9,\"9821\":1.5,\"9822\":0.8,\"9823\":3.3,\"9824\":3.55,\"9825\":1.7,\"9826\":3.59,\"9827\":1.93,\"9828\":1.51,\"9829\":12.3,\"9830\":3.0,\"9831\":0.5,\"9832\":4.92,\"9833\":1.3,\"9834\":2.42,\"9835\":0.42,\"9836\":5.3,\"9837\":1.5,\"9838\":8.6,\"9839\":1.3,\"9840\":2.88,\"9841\":0.7,\"9842\":6.14,\"9843\":14.55,\"9844\":1.0,\"9845\":1.0,\"9846\":1.59,\"9847\":10.9,\"9848\":1.2,\"9849\":1.04,\"9850\":0.75,\"9851\":5.2,\"9852\":1.12,\"9853\":0.6,\"9854\":0.95,\"9855\":17.57,\"9856\":3.3,\"9857\":17.4,\"9858\":2.7,\"9859\":1.1,\"9860\":2.64,\"9861\":4.83,\"9862\":1.9,\"9863\":1.1,\"9864\":4.4,\"9865\":9.17,\"9866\":0.7,\"9867\":2.98,\"9868\":2.4,\"9869\":0.92,\"9870\":1.02,\"9871\":6.2,\"9872\":0.9,\"9873\":4.31,\"9874\":3.38,\"9875\":3.34,\"9876\":0.5,\"9877\":2.2,\"9878\":1.6,\"9879\":14.4,\"9880\":2.57,\"9881\":0.18,\"9882\":0.3,\"9883\":2.5,\"9884\":19.14,\"9885\":0.97,\"9886\":3.9,\"9887\":0.94,\"9888\":6.0,\"9889\":8.3,\"9890\":3.3,\"9891\":1.09,\"9892\":1.11,\"9893\":0.88,\"9894\":1.5,\"9895\":9.18,\"9896\":2.56,\"9897\":16.11,\"9898\":3.8,\"9899\":17.48,\"9900\":8.16,\"9901\":3.2,\"9902\":1.1,\"9903\":2.47,\"9904\":2.92,\"9905\":1.5,\"9906\":17.7,\"9907\":0.63,\"9908\":1.97,\"9909\":0.6,\"9910\":4.8,\"9911\":3.3,\"9912\":2.0,\"9913\":3.5,\"9914\":2.44,\"9915\":2.39,\"9916\":1.39,\"9917\":0.54,\"9918\":1.2,\"9919\":1.6,\"9920\":4.1,\"9921\":0.7,\"9922\":0.86,\"9923\":2.1,\"9924\":6.1,\"9925\":6.5,\"9926\":3.67,\"9927\":3.73,\"9928\":9.72,\"9929\":4.8,\"9930\":1.3,\"9931\":3.5,\"9932\":0.1,\"9933\":3.7,\"9934\":4.09,\"9935\":1.23,\"9936\":1.0,\"9937\":0.1,\"9938\":1.9,\"9939\":0.1,\"9940\":2.5,\"9941\":7.84,\"9942\":3.6,\"9943\":1.9,\"9944\":11.4,\"9945\":2.2,\"9946\":5.0,\"9947\":0.9,\"9948\":0.6,\"9949\":2.6,\"9950\":0.5,\"9951\":2.26,\"9952\":0.96,\"9953\":1.07,\"9954\":0.48,\"9955\":15.49,\"9956\":2.0,\"9957\":2.89,\"9958\":4.91,\"9959\":12.56,\"9960\":8.95,\"9961\":2.72,\"9962\":0.47,\"9963\":1.52,\"9964\":18.55,\"9965\":1.31,\"9966\":2.7,\"9967\":0.8,\"9968\":1.6,\"9969\":4.3,\"9970\":5.52,\"9971\":1.3,\"9972\":1.95,\"9973\":2.19,\"9974\":1.7,\"9975\":7.6,\"9976\":12.6,\"9977\":1.09,\"9978\":0.38,\"9979\":11.3,\"9980\":9.13,\"9981\":4.6,\"9982\":9.3,\"9983\":1.78,\"9984\":1.02,\"9985\":1.68,\"9986\":5.55,\"9987\":1.4,\"9988\":0.9,\"9989\":1.34,\"9990\":6.07,\"9991\":1.48,\"9992\":6.37,\"9993\":4.1,\"9994\":2.7,\"9995\":4.5,\"9996\":5.59,\"9997\":1.54,\"9998\":5.8},\"total_amount\":{\"0\":17.8,\"1\":8.3,\"2\":11.0,\"3\":17.16,\"4\":10.3,\"5\":10.55,\"6\":16.3,\"7\":73.84,\"8\":15.8,\"9\":6.3,\"10\":52.8,\"11\":14.8,\"12\":11.3,\"13\":6.6,\"14\":8.8,\"15\":4.8,\"16\":15.36,\"17\":8.8,\"18\":19.12,\"19\":7.3,\"20\":19.55,\"21\":14.12,\"22\":13.3,\"23\":12.36,\"24\":26.75,\"25\":10.55,\"26\":8.8,\"27\":8.8,\"28\":11.8,\"29\":10.3,\"30\":9.3,\"31\":15.8,\"32\":6.8,\"33\":6.3,\"34\":9.36,\"35\":12.3,\"36\":13.55,\"37\":14.75,\"38\":7.85,\"39\":24.96,\"40\":7.56,\"41\":9.96,\"42\":5.76,\"43\":33.35,\"44\":14.15,\"45\":6.3,\"46\":15.8,\"47\":6.8,\"48\":10.3,\"49\":5.3,\"50\":30.94,\"51\":12.3,\"52\":11.3,\"53\":14.75,\"54\":12.8,\"55\":17.3,\"56\":22.88,\"57\":27.25,\"58\":13.3,\"59\":12.3,\"60\":34.84,\"61\":16.8,\"62\":5.8,\"63\":30.8,\"64\":24.96,\"65\":34.56,\"66\":11.15,\"67\":12.3,\"68\":15.36,\"69\":7.3,\"70\":9.3,\"71\":14.04,\"72\":18.8,\"73\":63.55,\"74\":9.36,\"75\":15.8,\"76\":8.5,\"77\":17.76,\"78\":12.96,\"79\":13.8,\"80\":10.56,\"81\":11.3,\"82\":43.8,\"83\":12.35,\"84\":15.3,\"85\":9.75,\"86\":6.3,\"87\":7.54,\"88\":94.0,\"89\":16.56,\"90\":15.8,\"91\":14.76,\"92\":34.3,\"93\":18.36,\"94\":7.56,\"95\":9.3,\"96\":13.3,\"97\":16.56,\"98\":14.3,\"99\":12.3,\"100\":5.8,\"101\":27.8,\"102\":8.8,\"103\":23.15,\"104\":17.15,\"105\":12.8,\"106\":14.76,\"107\":12.96,\"108\":27.3,\"109\":9.8,\"110\":13.56,\"111\":29.75,\"112\":15.8,\"113\":36.35,\"114\":5.8,\"115\":9.95,\"116\":14.3,\"117\":11.75,\"118\":8.15,\"119\":14.3,\"120\":5.8,\"121\":26.0,\"122\":10.3,\"123\":8.15,\"124\":58.0,\"125\":5.8,\"126\":11.16,\"127\":10.3,\"128\":20.16,\"129\":29.76,\"130\":5.3,\"131\":15.36,\"132\":12.8,\"133\":8.3,\"134\":11.76,\"135\":23.3,\"136\":9.3,\"137\":6.3,\"138\":6.95,\"139\":5.15,\"140\":4.8,\"141\":7.3,\"142\":12.3,\"143\":24.96,\"144\":34.34,\"145\":7.3,\"146\":12.25,\"147\":6.3,\"148\":65.42,\"149\":4.3,\"150\":12.96,\"151\":7.8,\"152\":25.3,\"153\":21.8,\"154\":30.96,\"155\":52.55,\"156\":14.3,\"157\":6.95,\"158\":11.3,\"159\":14.8,\"160\":20.76,\"161\":7.8,\"162\":52.8,\"163\":10.3,\"164\":20.75,\"165\":8.75,\"166\":5.3,\"167\":32.15,\"168\":9.36,\"169\":21.3,\"170\":25.5,\"171\":16.56,\"172\":7.8,\"173\":7.8,\"174\":45.96,\"175\":4.3,\"176\":8.16,\"177\":26.3,\"178\":19.1,\"179\":9.36,\"180\":9.3,\"181\":13.3,\"182\":11.3,\"183\":10.3,\"184\":10.56,\"185\":11.6,\"186\":12.09,\"187\":11.8,\"188\":14.16,\"189\":9.3,\"190\":13.8,\"191\":17.8,\"192\":6.24,\"193\":5.76,\"194\":22.56,\"195\":7.8,\"196\":12.3,\"197\":32.16,\"198\":10.56,\"199\":7.56,\"200\":14.3,\"201\":12.3,\"202\":35.16,\"203\":5.3,\"204\":13.55,\"205\":9.96,\"206\":15.36,\"207\":10.3,\"208\":21.3,\"209\":11.3,\"210\":11.8,\"211\":63.55,\"212\":11.62,\"213\":6.3,\"214\":9.96,\"215\":20.15,\"216\":7.25,\"217\":58.01,\"218\":32.83,\"219\":13.56,\"220\":13.3,\"221\":9.3,\"222\":19.8,\"223\":14.3,\"224\":7.56,\"225\":9.8,\"226\":9.36,\"227\":20.75,\"228\":12.8,\"229\":8.3,\"230\":11.3,\"231\":18.36,\"232\":17.3,\"233\":9.3,\"234\":9.35,\"235\":10.3,\"236\":5.8,\"237\":9.35,\"238\":61.94,\"239\":19.56,\"240\":22.8,\"241\":21.8,\"242\":7.8,\"243\":12.36,\"244\":11.3,\"245\":11.8,\"246\":3.3,\"247\":9.8,\"248\":16.6,\"249\":9.96,\"250\":10.8,\"251\":11.0,\"252\":30.8,\"253\":10.3,\"254\":38.5,\"255\":7.3,\"256\":16.3,\"257\":24.3,\"258\":20.16,\"259\":14.16,\"260\":7.55,\"261\":7.54,\"262\":43.8,\"263\":21.3,\"264\":47.85,\"265\":8.3,\"266\":42.36,\"267\":5.3,\"268\":11.76,\"269\":9.36,\"270\":13.5,\"271\":31.3,\"272\":9.8,\"273\":13.3,\"274\":7.54,\"275\":9.3,\"276\":7.3,\"277\":17.8,\"278\":6.3,\"279\":9.3,\"280\":15.35,\"281\":20.3,\"282\":47.85,\"283\":35.76,\"284\":24.36,\"285\":27.87,\"286\":54.41,\"287\":15.38,\"288\":9.79,\"289\":11.8,\"290\":19.89,\"291\":11.8,\"292\":7.3,\"293\":16.3,\"294\":12.8,\"295\":24.95,\"296\":39.63,\"297\":2.3,\"298\":12.09,\"299\":16.56,\"300\":15.3,\"301\":14.3,\"302\":7.5,\"303\":62.21,\"304\":19.3,\"305\":8.3,\"306\":11.8,\"307\":8.19,\"308\":12.8,\"309\":26.62,\"310\":8.8,\"311\":17.76,\"312\":15.3,\"313\":14.18,\"314\":7.55,\"315\":4.3,\"316\":5.8,\"317\":18.96,\"318\":6.8,\"319\":10.37,\"320\":9.8,\"321\":13.8,\"322\":7.88,\"323\":12.96,\"324\":9.3,\"325\":54.84,\"326\":9.3,\"327\":14.75,\"328\":11.3,\"329\":47.34,\"330\":5.75,\"331\":7.3,\"332\":11.8,\"333\":14.3,\"334\":4.3,\"335\":36.35,\"336\":24.8,\"337\":24.35,\"338\":30.36,\"339\":14.75,\"340\":27.87,\"341\":9.8,\"342\":20.8,\"343\":14.75,\"344\":10.91,\"345\":6.96,\"346\":52.8,\"347\":15.36,\"348\":11.8,\"349\":14.15,\"350\":28.56,\"351\":14.75,\"352\":14.15,\"353\":41.0,\"354\":7.3,\"355\":11.3,\"356\":32.75,\"357\":24.8,\"358\":12.8,\"359\":5.3,\"360\":7.25,\"361\":8.16,\"362\":6.8,\"363\":17.8,\"364\":15.96,\"365\":9.55,\"366\":6.8,\"367\":11.76,\"368\":57.39,\"369\":14.3,\"370\":37.34,\"371\":13.8,\"372\":15.8,\"373\":8.5,\"374\":25.8,\"375\":6.8,\"376\":8.76,\"377\":9.75,\"378\":8.8,\"379\":60.8,\"380\":9.96,\"381\":13.35,\"382\":16.8,\"383\":8.75,\"384\":44.34,\"385\":7.55,\"386\":16.3,\"387\":24.3,\"388\":13.8,\"389\":19.3,\"390\":8.8,\"391\":31.56,\"392\":13.56,\"393\":13.35,\"394\":14.8,\"395\":9.3,\"396\":14.76,\"397\":69.95,\"398\":18.96,\"399\":11.8,\"400\":8.8,\"401\":17.8,\"402\":12.3,\"403\":13.3,\"404\":24.8,\"405\":12.09,\"406\":15.8,\"407\":19.3,\"408\":27.25,\"409\":11.75,\"410\":9.1,\"411\":15.37,\"412\":5.3,\"413\":44.84,\"414\":9.35,\"415\":5.16,\"416\":7.3,\"417\":14.3,\"418\":10.8,\"419\":9.95,\"420\":11.0,\"421\":14.76,\"422\":15.3,\"423\":17.3,\"424\":14.15,\"425\":12.8,\"426\":57.96,\"427\":8.8,\"428\":12.8,\"429\":5.8,\"430\":9.35,\"431\":9.36,\"432\":16.3,\"433\":10.8,\"434\":8.8,\"435\":12.42,\"436\":6.8,\"437\":12.3,\"438\":16.56,\"439\":12.3,\"440\":6.3,\"441\":11.3,\"442\":15.3,\"443\":14.12,\"444\":23.3,\"445\":14.3,\"446\":7.8,\"447\":57.92,\"448\":71.29,\"449\":14.3,\"450\":8.8,\"451\":12.3,\"452\":23.15,\"453\":7.25,\"454\":27.25,\"455\":39.12,\"456\":7.3,\"457\":45.3,\"458\":13.8,\"459\":7.8,\"460\":16.55,\"461\":10.8,\"462\":13.55,\"463\":11.3,\"464\":14.15,\"465\":59.21,\"466\":11.16,\"467\":9.8,\"468\":8.16,\"469\":7.3,\"470\":7.3,\"471\":12.96,\"472\":4.8,\"473\":24.8,\"474\":29.16,\"475\":11.8,\"476\":15.8,\"477\":13.5,\"478\":6.95,\"479\":22.85,\"480\":7.8,\"481\":44.79,\"482\":40.56,\"483\":6.8,\"484\":14.8,\"485\":6.3,\"486\":17.25,\"487\":5.75,\"488\":51.14,\"489\":23.3,\"490\":13.5,\"491\":8.8,\"492\":18.3,\"493\":21.36,\"494\":26.15,\"495\":13.8,\"496\":9.8,\"497\":14.8,\"498\":9.8,\"499\":5.8,\"500\":10.3,\"501\":14.8,\"502\":12.8,\"503\":12.35,\"504\":33.5,\"505\":13.8,\"506\":20.38,\"507\":9.3,\"508\":7.3,\"509\":63.34,\"510\":10.8,\"511\":13.8,\"512\":7.56,\"513\":10.56,\"514\":11.3,\"515\":12.8,\"516\":3.96,\"517\":8.8,\"518\":20.38,\"519\":9.8,\"520\":8.8,\"521\":12.85,\"522\":16.6,\"523\":10.55,\"524\":23.76,\"525\":11.62,\"526\":21.3,\"527\":26.0,\"528\":11.16,\"529\":9.3,\"530\":8.3,\"531\":4.3,\"532\":13.8,\"533\":20.54,\"534\":11.16,\"535\":7.3,\"536\":5.8,\"537\":10.3,\"538\":8.3,\"539\":10.55,\"540\":14.8,\"541\":11.55,\"542\":30.95,\"543\":50.05,\"544\":11.75,\"545\":6.35,\"546\":8.5,\"547\":14.3,\"548\":17.3,\"549\":7.8,\"550\":29.76,\"551\":33.96,\"552\":10.55,\"553\":18.35,\"554\":5.76,\"555\":38.61,\"556\":8.19,\"557\":47.75,\"558\":13.8,\"559\":18.35,\"560\":8.8,\"561\":8.8,\"562\":7.8,\"563\":17.85,\"564\":25.3,\"565\":10.3,\"566\":11.8,\"567\":9.3,\"568\":24.95,\"569\":12.36,\"570\":14.16,\"571\":9.95,\"572\":16.56,\"573\":5.3,\"574\":11.55,\"575\":6.96,\"576\":4.8,\"577\":10.3,\"578\":30.36,\"579\":38.19,\"580\":14.3,\"581\":21.96,\"582\":9.8,\"583\":24.3,\"584\":8.15,\"585\":31.59,\"586\":10.3,\"587\":13.3,\"588\":11.62,\"589\":19.3,\"590\":30.3,\"591\":11.15,\"592\":19.8,\"593\":12.88,\"594\":6.96,\"595\":14.76,\"596\":7.85,\"597\":4.3,\"598\":8.0,\"599\":41.0,\"600\":9.8,\"601\":4.56,\"602\":15.8,\"603\":4.8,\"604\":8.15,\"605\":7.9,\"606\":19.24,\"607\":35.34,\"608\":7.8,\"609\":11.3,\"610\":11.15,\"611\":12.8,\"612\":10.8,\"613\":10.8,\"614\":6.3,\"615\":38.8,\"616\":16.56,\"617\":8.8,\"618\":9.75,\"619\":32.16,\"620\":9.96,\"621\":7.8,\"622\":11.3,\"623\":22.3,\"624\":15.3,\"625\":8.3,\"626\":6.36,\"627\":11.15,\"628\":12.88,\"629\":8.8,\"630\":21.62,\"631\":32.85,\"632\":9.8,\"633\":6.88,\"634\":24.36,\"635\":7.3,\"636\":14.16,\"637\":8.75,\"638\":27.95,\"639\":35.15,\"640\":12.3,\"641\":58.34,\"642\":6.36,\"643\":6.8,\"644\":7.8,\"645\":9.3,\"646\":7.3,\"647\":9.96,\"648\":8.76,\"649\":15.95,\"650\":14.55,\"651\":17.8,\"652\":9.75,\"653\":21.3,\"654\":22.3,\"655\":8.16,\"656\":21.6,\"657\":15.35,\"658\":9.12,\"659\":11.3,\"660\":3.3,\"661\":16.56,\"662\":16.3,\"663\":69.76,\"664\":14.3,\"665\":12.3,\"666\":21.96,\"667\":17.16,\"668\":15.3,\"669\":29.15,\"670\":7.5,\"671\":11.75,\"672\":6.3,\"673\":58.34,\"674\":21.96,\"675\":10.8,\"676\":14.76,\"677\":8.8,\"678\":14.12,\"679\":9.8,\"680\":11.15,\"681\":14.75,\"682\":16.55,\"683\":6.3,\"684\":32.75,\"685\":7.3,\"686\":8.8,\"687\":10.3,\"688\":6.62,\"689\":13.5,\"690\":11.8,\"691\":35.34,\"692\":36.36,\"693\":12.35,\"694\":12.3,\"695\":10.8,\"696\":10.3,\"697\":7.8,\"698\":9.3,\"699\":26.16,\"700\":6.3,\"701\":18.5,\"702\":6.8,\"703\":13.3,\"704\":14.15,\"705\":8.76,\"706\":8.3,\"707\":16.8,\"708\":5.8,\"709\":8.3,\"710\":7.3,\"711\":52.61,\"712\":9.95,\"713\":14.76,\"714\":8.75,\"715\":7.8,\"716\":11.3,\"717\":11.16,\"718\":8.8,\"719\":19.3,\"720\":10.35,\"721\":17.16,\"722\":6.8,\"723\":72.92,\"724\":11.8,\"725\":16.0,\"726\":8.75,\"727\":22.3,\"728\":28.55,\"729\":12.5,\"730\":13.55,\"731\":12.96,\"732\":6.96,\"733\":7.3,\"734\":10.3,\"735\":6.3,\"736\":29.75,\"737\":27.8,\"738\":15.3,\"739\":16.55,\"740\":8.8,\"741\":16.56,\"742\":10.3,\"743\":11.75,\"744\":24.3,\"745\":23.3,\"746\":11.8,\"747\":11.16,\"748\":14.55,\"749\":23.16,\"750\":11.16,\"751\":19.3,\"752\":7.8,\"753\":16.3,\"754\":27.8,\"755\":9.3,\"756\":29.16,\"757\":6.3,\"758\":14.16,\"759\":11.0,\"760\":16.56,\"761\":12.96,\"762\":7.3,\"763\":9.3,\"764\":13.3,\"765\":10.3,\"766\":25.0,\"767\":9.3,\"768\":7.8,\"769\":4.8,\"770\":6.8,\"771\":19.75,\"772\":28.56,\"773\":13.56,\"774\":8.8,\"775\":17.76,\"776\":12.8,\"777\":9.3,\"778\":20.75,\"779\":10.56,\"780\":13.56,\"781\":29.75,\"782\":13.8,\"783\":30.96,\"784\":7.8,\"785\":9.96,\"786\":11.8,\"787\":18.3,\"788\":15.3,\"789\":13.8,\"790\":10.56,\"791\":30.3,\"792\":7.56,\"793\":8.16,\"794\":13.5,\"795\":19.8,\"796\":8.76,\"797\":15.0,\"798\":5.3,\"799\":22.8,\"800\":7.8,\"801\":11.3,\"802\":15.96,\"803\":20.8,\"804\":11.3,\"805\":4.3,\"806\":19.56,\"807\":16.0,\"808\":23.15,\"809\":135.13,\"810\":24.3,\"811\":11.6,\"812\":11.3,\"813\":10.8,\"814\":18.17,\"815\":20.8,\"816\":10.8,\"817\":10.56,\"818\":17.76,\"819\":18.5,\"820\":18.3,\"821\":27.05,\"822\":7.88,\"823\":11.76,\"824\":25.8,\"825\":12.8,\"826\":14.76,\"827\":9.8,\"828\":6.8,\"829\":6.3,\"830\":5.55,\"831\":7.3,\"832\":19.3,\"833\":12.0,\"834\":10.14,\"835\":11.8,\"836\":8.8,\"837\":22.56,\"838\":33.36,\"839\":9.36,\"840\":47.8,\"841\":13.55,\"842\":8.3,\"843\":17.75,\"844\":11.3,\"845\":8.8,\"846\":24.8,\"847\":17.76,\"848\":17.88,\"849\":43.84,\"850\":20.76,\"851\":14.75,\"852\":11.6,\"853\":9.8,\"854\":22.8,\"855\":10.35,\"856\":12.8,\"857\":11.3,\"858\":6.35,\"859\":11.3,\"860\":11.0,\"861\":13.56,\"862\":5.3,\"863\":11.15,\"864\":12.8,\"865\":9.36,\"866\":9.8,\"867\":23.16,\"868\":8.3,\"869\":15.96,\"870\":7.8,\"871\":19.3,\"872\":6.8,\"873\":12.25,\"874\":21.36,\"875\":10.8,\"876\":13.3,\"877\":11.3,\"878\":10.3,\"879\":49.84,\"880\":25.8,\"881\":14.16,\"882\":9.36,\"883\":13.3,\"884\":58.01,\"885\":11.75,\"886\":9.8,\"887\":58.34,\"888\":70.01,\"889\":11.76,\"890\":10.8,\"891\":13.8,\"892\":20.8,\"893\":10.8,\"894\":6.8,\"895\":11.44,\"896\":8.8,\"897\":7.8,\"898\":8.16,\"899\":5.8,\"900\":6.8,\"901\":9.8,\"902\":16.3,\"903\":15.3,\"904\":48.96,\"905\":17.76,\"906\":10.14,\"907\":15.35,\"908\":5.55,\"909\":7.3,\"910\":15.35,\"911\":18.35,\"912\":48.84,\"913\":4.8,\"914\":5.8,\"915\":11.3,\"916\":21.8,\"917\":7.8,\"918\":48.84,\"919\":8.16,\"920\":45.99,\"921\":9.36,\"922\":24.36,\"923\":8.8,\"924\":12.3,\"925\":14.3,\"926\":13.56,\"927\":9.96,\"928\":23.3,\"929\":11.8,\"930\":13.3,\"931\":15.3,\"932\":9.36,\"933\":8.8,\"934\":11.0,\"935\":52.92,\"936\":14.8,\"937\":6.3,\"938\":8.3,\"939\":16.0,\"940\":14.3,\"941\":12.8,\"942\":8.3,\"943\":12.96,\"944\":5.8,\"945\":17.8,\"946\":15.8,\"947\":26.3,\"948\":58.6,\"949\":7.3,\"950\":6.3,\"951\":7.3,\"952\":15.36,\"953\":16.8,\"954\":8.16,\"955\":9.3,\"956\":15.36,\"957\":6.95,\"958\":15.36,\"959\":8.3,\"960\":60.14,\"961\":6.8,\"962\":9.8,\"963\":50.16,\"964\":13.8,\"965\":22.88,\"966\":19.3,\"967\":8.16,\"968\":19.8,\"969\":43.34,\"970\":12.3,\"971\":13.3,\"972\":10.8,\"973\":8.3,\"974\":11.3,\"975\":15.35,\"976\":14.75,\"977\":35.0,\"978\":11.8,\"979\":12.96,\"980\":3.8,\"981\":17.8,\"982\":11.62,\"983\":20.0,\"984\":7.56,\"985\":8.8,\"986\":6.8,\"987\":18.35,\"988\":15.36,\"989\":5.8,\"990\":7.8,\"991\":19.8,\"992\":9.8,\"993\":5.3,\"994\":9.3,\"995\":52.8,\"996\":9.36,\"997\":20.76,\"998\":11.84,\"999\":16.0,\"1000\":18.96,\"1001\":4.3,\"1002\":12.74,\"1003\":10.3,\"1004\":16.3,\"1005\":11.16,\"1006\":8.8,\"1007\":17.16,\"1008\":6.8,\"1009\":24.95,\"1010\":27.8,\"1011\":5.59,\"1012\":19.56,\"1013\":4.8,\"1014\":3.3,\"1015\":19.8,\"1016\":8.8,\"1017\":27.35,\"1018\":29.75,\"1019\":22.25,\"1020\":14.3,\"1021\":6.3,\"1022\":11.15,\"1023\":9.8,\"1024\":9.35,\"1025\":10.0,\"1026\":28.3,\"1027\":6.35,\"1028\":16.3,\"1029\":10.3,\"1030\":10.8,\"1031\":9.51,\"1032\":18.96,\"1033\":14.8,\"1034\":20.54,\"1035\":8.19,\"1036\":17.15,\"1037\":6.3,\"1038\":12.88,\"1039\":37.61,\"1040\":6.3,\"1041\":26.75,\"1042\":4.3,\"1043\":17.8,\"1044\":15.96,\"1045\":9.96,\"1046\":21.3,\"1047\":42.84,\"1048\":8.8,\"1049\":12.3,\"1050\":11.8,\"1051\":39.96,\"1052\":4.8,\"1053\":28.3,\"1054\":44.8,\"1055\":14.15,\"1056\":15.96,\"1057\":14.15,\"1058\":16.3,\"1059\":7.8,\"1060\":6.35,\"1061\":18.3,\"1062\":12.8,\"1063\":11.8,\"1064\":4.8,\"1065\":8.3,\"1066\":13.3,\"1067\":7.8,\"1068\":8.8,\"1069\":13.8,\"1070\":22.3,\"1071\":11.16,\"1072\":23.3,\"1073\":5.8,\"1074\":56.19,\"1075\":12.36,\"1076\":8.3,\"1077\":10.8,\"1078\":5.75,\"1079\":63.39,\"1080\":9.95,\"1081\":17.75,\"1082\":12.95,\"1083\":53.19,\"1084\":21.8,\"1085\":13.55,\"1086\":12.36,\"1087\":18.36,\"1088\":11.3,\"1089\":17.15,\"1090\":13.8,\"1091\":10.8,\"1092\":12.3,\"1093\":19.56,\"1094\":7.25,\"1095\":19.12,\"1096\":7.8,\"1097\":8.16,\"1098\":9.8,\"1099\":16.8,\"1100\":16.0,\"1101\":9.35,\"1102\":5.3,\"1103\":22.8,\"1104\":11.62,\"1105\":5.8,\"1106\":5.8,\"1107\":61.01,\"1108\":4.3,\"1109\":6.3,\"1110\":34.56,\"1111\":7.8,\"1112\":15.36,\"1113\":19.3,\"1114\":24.3,\"1115\":7.8,\"1116\":17.8,\"1117\":10.8,\"1118\":17.3,\"1119\":63.36,\"1120\":5.8,\"1121\":5.15,\"1122\":8.8,\"1123\":5.8,\"1124\":19.8,\"1125\":14.3,\"1126\":7.56,\"1127\":9.36,\"1128\":9.95,\"1129\":54.95,\"1130\":13.8,\"1131\":9.8,\"1132\":5.8,\"1133\":8.5,\"1134\":12.36,\"1135\":17.76,\"1136\":12.36,\"1137\":12.3,\"1138\":17.3,\"1139\":8.16,\"1140\":67.8,\"1141\":14.15,\"1142\":14.16,\"1143\":5.3,\"1144\":33.36,\"1145\":5.8,\"1146\":6.8,\"1147\":25.8,\"1148\":18.96,\"1149\":7.56,\"1150\":8.8,\"1151\":17.16,\"1152\":6.8,\"1153\":29.3,\"1154\":9.1,\"1155\":5.8,\"1156\":21.0,\"1157\":7.8,\"1158\":8.76,\"1159\":18.3,\"1160\":16.3,\"1161\":14.3,\"1162\":16.8,\"1163\":50.79,\"1164\":11.3,\"1165\":14.15,\"1166\":52.8,\"1167\":7.8,\"1168\":12.25,\"1169\":6.8,\"1170\":9.3,\"1171\":11.44,\"1172\":14.75,\"1173\":15.96,\"1174\":13.56,\"1175\":19.8,\"1176\":29.76,\"1177\":8.75,\"1178\":31.4,\"1179\":6.8,\"1180\":15.3,\"1181\":16.56,\"1182\":7.3,\"1183\":15.8,\"1184\":7.8,\"1185\":6.36,\"1186\":24.13,\"1187\":11.3,\"1188\":20.75,\"1189\":24.8,\"1190\":18.3,\"1191\":15.3,\"1192\":7.3,\"1193\":15.3,\"1194\":12.88,\"1195\":11.76,\"1196\":51.68,\"1197\":41.62,\"1198\":9.36,\"1199\":9.36,\"1200\":8.3,\"1201\":7.8,\"1202\":7.8,\"1203\":6.3,\"1204\":16.3,\"1205\":8.3,\"1206\":18.8,\"1207\":16.55,\"1208\":8.3,\"1209\":9.55,\"1210\":6.95,\"1211\":11.8,\"1212\":44.15,\"1213\":7.3,\"1214\":16.3,\"1215\":6.89,\"1216\":8.76,\"1217\":4.8,\"1218\":9.45,\"1219\":11.0,\"1220\":11.76,\"1221\":9.8,\"1222\":20.3,\"1223\":14.16,\"1224\":8.19,\"1225\":41.34,\"1226\":7.8,\"1227\":55.61,\"1228\":13.8,\"1229\":15.36,\"1230\":46.34,\"1231\":8.3,\"1232\":14.8,\"1233\":52.06,\"1234\":18.3,\"1235\":6.8,\"1236\":7.55,\"1237\":9.3,\"1238\":15.38,\"1239\":7.25,\"1240\":8.3,\"1241\":10.0,\"1242\":12.3,\"1243\":15.36,\"1244\":15.36,\"1245\":9.96,\"1246\":13.8,\"1247\":45.99,\"1248\":43.8,\"1249\":10.3,\"1250\":27.95,\"1251\":14.76,\"1252\":14.69,\"1253\":17.16,\"1254\":5.8,\"1255\":6.3,\"1256\":6.8,\"1257\":7.56,\"1258\":25.3,\"1259\":23.8,\"1260\":8.16,\"1261\":6.8,\"1262\":13.8,\"1263\":15.8,\"1264\":11.3,\"1265\":6.0,\"1266\":60.39,\"1267\":20.16,\"1268\":14.3,\"1269\":7.3,\"1270\":9.96,\"1271\":15.96,\"1272\":11.75,\"1273\":17.76,\"1274\":9.3,\"1275\":13.55,\"1276\":10.8,\"1277\":13.3,\"1278\":20.3,\"1279\":8.15,\"1280\":9.3,\"1281\":12.8,\"1282\":9.96,\"1283\":16.8,\"1284\":18.3,\"1285\":17.76,\"1286\":15.99,\"1287\":9.3,\"1288\":35.3,\"1289\":9.3,\"1290\":7.3,\"1291\":7.8,\"1292\":6.8,\"1293\":44.8,\"1294\":5.8,\"1295\":7.3,\"1296\":10.8,\"1297\":3.8,\"1298\":11.3,\"1299\":8.8,\"1300\":11.3,\"1301\":42.99,\"1302\":32.16,\"1303\":9.8,\"1304\":6.8,\"1305\":6.8,\"1306\":5.76,\"1307\":24.36,\"1308\":49.84,\"1309\":8.76,\"1310\":14.15,\"1311\":30.35,\"1312\":12.3,\"1313\":44.75,\"1314\":3.3,\"1315\":6.3,\"1316\":6.62,\"1317\":11.0,\"1318\":18.8,\"1319\":21.95,\"1320\":6.8,\"1321\":8.15,\"1322\":17.8,\"1323\":26.3,\"1324\":10.3,\"1325\":14.3,\"1326\":25.3,\"1327\":10.3,\"1328\":6.95,\"1329\":7.56,\"1330\":15.96,\"1331\":48.5,\"1332\":12.35,\"1333\":11.8,\"1334\":6.8,\"1335\":35.16,\"1336\":23.3,\"1337\":22.8,\"1338\":5.3,\"1339\":29.12,\"1340\":11.3,\"1341\":30.96,\"1342\":14.75,\"1343\":9.8,\"1344\":35.16,\"1345\":6.8,\"1346\":12.42,\"1347\":18.35,\"1348\":39.44,\"1349\":6.8,\"1350\":10.55,\"1351\":16.3,\"1352\":11.8,\"1353\":6.36,\"1354\":17.75,\"1355\":6.8,\"1356\":6.33,\"1357\":13.3,\"1358\":10.3,\"1359\":9.3,\"1360\":16.8,\"1361\":15.3,\"1362\":9.8,\"1363\":12.96,\"1364\":13.55,\"1365\":34.56,\"1366\":11.3,\"1367\":14.3,\"1368\":21.8,\"1369\":14.04,\"1370\":12.8,\"1371\":9.96,\"1372\":24.3,\"1373\":12.3,\"1374\":14.3,\"1375\":4.8,\"1376\":51.99,\"1377\":11.75,\"1378\":10.78,\"1379\":8.3,\"1380\":10.1,\"1381\":8.8,\"1382\":12.36,\"1383\":10.56,\"1384\":11.3,\"1385\":15.8,\"1386\":12.3,\"1387\":9.3,\"1388\":12.25,\"1389\":5.8,\"1390\":9.8,\"1391\":8.8,\"1392\":34.3,\"1393\":14.8,\"1394\":11.8,\"1395\":45.84,\"1396\":10.3,\"1397\":26.6,\"1398\":6.8,\"1399\":42.84,\"1400\":50.2,\"1401\":29.12,\"1402\":6.96,\"1403\":9.36,\"1404\":50.34,\"1405\":63.34,\"1406\":23.3,\"1407\":10.3,\"1408\":41.84,\"1409\":13.0,\"1410\":9.35,\"1411\":22.3,\"1412\":10.3,\"1413\":12.25,\"1414\":3.8,\"1415\":7.3,\"1416\":18.35,\"1417\":6.3,\"1418\":8.8,\"1419\":25.8,\"1420\":16.8,\"1421\":7.8,\"1422\":12.8,\"1423\":9.36,\"1424\":9.8,\"1425\":6.62,\"1426\":17.3,\"1427\":14.3,\"1428\":3.8,\"1429\":19.56,\"1430\":69.99,\"1431\":10.75,\"1432\":70.01,\"1433\":15.3,\"1434\":10.3,\"1435\":8.76,\"1436\":30.94,\"1437\":11.15,\"1438\":9.8,\"1439\":9.8,\"1440\":9.36,\"1441\":8.3,\"1442\":7.3,\"1443\":14.15,\"1444\":11.8,\"1445\":70.61,\"1446\":7.55,\"1447\":30.8,\"1448\":9.3,\"1449\":29.75,\"1450\":10.56,\"1451\":9.8,\"1452\":15.3,\"1453\":23.75,\"1454\":23.3,\"1455\":24.96,\"1456\":8.4,\"1457\":5.3,\"1458\":23.3,\"1459\":19.8,\"1460\":8.8,\"1461\":57.41,\"1462\":24.36,\"1463\":9.3,\"1464\":7.3,\"1465\":16.8,\"1466\":8.8,\"1467\":12.36,\"1468\":10.56,\"1469\":15.8,\"1470\":7.3,\"1471\":6.35,\"1472\":15.8,\"1473\":13.3,\"1474\":53.84,\"1475\":6.96,\"1476\":67.3,\"1477\":10.3,\"1478\":6.96,\"1479\":20.3,\"1480\":6.8,\"1481\":12.3,\"1482\":7.55,\"1483\":17.8,\"1484\":11.8,\"1485\":15.3,\"1486\":10.8,\"1487\":8.76,\"1488\":12.25,\"1489\":7.5,\"1490\":12.8,\"1491\":10.8,\"1492\":11.0,\"1493\":49.61,\"1494\":8.3,\"1495\":11.3,\"1496\":10.8,\"1497\":56.2,\"1498\":4.8,\"1499\":16.8,\"1500\":6.8,\"1501\":13.3,\"1502\":9.12,\"1503\":14.69,\"1504\":10.55,\"1505\":16.3,\"1506\":18.95,\"1507\":8.5,\"1508\":16.8,\"1509\":14.8,\"1510\":10.8,\"1511\":14.76,\"1512\":7.55,\"1513\":5.3,\"1514\":8.76,\"1515\":9.36,\"1516\":5.76,\"1517\":41.34,\"1518\":10.56,\"1519\":10.56,\"1520\":38.3,\"1521\":6.62,\"1522\":29.75,\"1523\":9.95,\"1524\":51.8,\"1525\":20.35,\"1526\":13.0,\"1527\":9.96,\"1528\":9.96,\"1529\":12.3,\"1530\":6.8,\"1531\":18.95,\"1532\":14.8,\"1533\":11.8,\"1534\":11.8,\"1535\":25.09,\"1536\":13.8,\"1537\":7.3,\"1538\":7.8,\"1539\":23.5,\"1540\":5.8,\"1541\":10.35,\"1542\":7.8,\"1543\":12.88,\"1544\":5.3,\"1545\":17.16,\"1546\":9.96,\"1547\":18.5,\"1548\":14.0,\"1549\":51.84,\"1550\":16.3,\"1551\":14.75,\"1552\":5.76,\"1553\":6.8,\"1554\":13.3,\"1555\":6.3,\"1556\":5.8,\"1557\":11.3,\"1558\":19.8,\"1559\":52.34,\"1560\":11.8,\"1561\":7.3,\"1562\":13.8,\"1563\":14.5,\"1564\":11.8,\"1565\":6.55,\"1566\":9.8,\"1567\":7.3,\"1568\":12.3,\"1569\":28.8,\"1570\":32.75,\"1571\":9.35,\"1572\":6.8,\"1573\":6.3,\"1574\":14.04,\"1575\":8.0,\"1576\":10.3,\"1577\":23.76,\"1578\":17.29,\"1579\":36.34,\"1580\":11.76,\"1581\":5.8,\"1582\":7.8,\"1583\":4.8,\"1584\":24.42,\"1585\":9.8,\"1586\":11.8,\"1587\":7.3,\"1588\":7.55,\"1589\":13.8,\"1590\":9.95,\"1591\":15.96,\"1592\":14.16,\"1593\":28.56,\"1594\":7.3,\"1595\":19.1,\"1596\":17.76,\"1597\":58.34,\"1598\":11.3,\"1599\":15.36,\"1600\":8.3,\"1601\":11.3,\"1602\":7.8,\"1603\":12.36,\"1604\":6.8,\"1605\":72.96,\"1606\":9.3,\"1607\":16.8,\"1608\":12.3,\"1609\":7.8,\"1610\":15.3,\"1611\":15.8,\"1612\":9.49,\"1613\":13.56,\"1614\":14.3,\"1615\":7.8,\"1616\":15.95,\"1617\":23.8,\"1618\":22.8,\"1619\":17.8,\"1620\":56.21,\"1621\":34.3,\"1622\":11.16,\"1623\":10.55,\"1624\":8.16,\"1625\":11.8,\"1626\":28.8,\"1627\":9.35,\"1628\":10.8,\"1629\":12.96,\"1630\":6.96,\"1631\":5.8,\"1632\":10.6,\"1633\":6.8,\"1634\":25.38,\"1635\":5.3,\"1636\":26.15,\"1637\":12.96,\"1638\":25.56,\"1639\":10.8,\"1640\":72.92,\"1641\":6.35,\"1642\":5.8,\"1643\":10.55,\"1644\":5.3,\"1645\":6.8,\"1646\":19.1,\"1647\":10.8,\"1648\":7.3,\"1649\":19.8,\"1650\":17.15,\"1651\":7.8,\"1652\":11.8,\"1653\":15.3,\"1654\":24.0,\"1655\":11.3,\"1656\":14.15,\"1657\":5.8,\"1658\":10.3,\"1659\":10.3,\"1660\":8.3,\"1661\":4.3,\"1662\":6.36,\"1663\":7.8,\"1664\":37.85,\"1665\":24.4,\"1666\":21.96,\"1667\":4.3,\"1668\":64.59,\"1669\":11.3,\"1670\":10.0,\"1671\":21.8,\"1672\":14.8,\"1673\":14.3,\"1674\":4.8,\"1675\":23.3,\"1676\":5.3,\"1677\":17.8,\"1678\":12.8,\"1679\":29.16,\"1680\":11.16,\"1681\":36.95,\"1682\":11.62,\"1683\":17.3,\"1684\":11.6,\"1685\":14.15,\"1686\":14.76,\"1687\":15.3,\"1688\":14.76,\"1689\":6.36,\"1690\":8.8,\"1691\":8.8,\"1692\":18.05,\"1693\":6.96,\"1694\":35.15,\"1695\":6.3,\"1696\":16.3,\"1697\":10.55,\"1698\":11.8,\"1699\":8.75,\"1700\":20.3,\"1701\":12.3,\"1702\":11.3,\"1703\":6.8,\"1704\":15.8,\"1705\":27.3,\"1706\":8.8,\"1707\":17.88,\"1708\":76.59,\"1709\":7.88,\"1710\":5.3,\"1711\":6.3,\"1712\":8.16,\"1713\":10.56,\"1714\":17.3,\"1715\":6.3,\"1716\":11.3,\"1717\":11.15,\"1718\":12.36,\"1719\":18.95,\"1720\":16.55,\"1721\":18.8,\"1722\":9.36,\"1723\":10.3,\"1724\":26.8,\"1725\":56.8,\"1726\":11.3,\"1727\":11.0,\"1728\":18.3,\"1729\":6.96,\"1730\":28.3,\"1731\":12.96,\"1732\":7.8,\"1733\":9.3,\"1734\":30.35,\"1735\":11.0,\"1736\":37.84,\"1737\":16.8,\"1738\":15.8,\"1739\":15.36,\"1740\":17.16,\"1741\":18.36,\"1742\":6.8,\"1743\":6.8,\"1744\":66.34,\"1745\":7.8,\"1746\":53.09,\"1747\":7.3,\"1748\":30.95,\"1749\":49.59,\"1750\":15.3,\"1751\":56.75,\"1752\":8.3,\"1753\":6.3,\"1754\":12.8,\"1755\":14.76,\"1756\":10.3,\"1757\":15.3,\"1758\":21.35,\"1759\":21.3,\"1760\":12.8,\"1761\":13.8,\"1762\":9.36,\"1763\":9.96,\"1764\":8.75,\"1765\":21.96,\"1766\":18.36,\"1767\":28.8,\"1768\":11.3,\"1769\":9.35,\"1770\":3.8,\"1771\":14.3,\"1772\":13.0,\"1773\":9.8,\"1774\":12.8,\"1775\":11.8,\"1776\":13.5,\"1777\":56.81,\"1778\":6.8,\"1779\":25.55,\"1780\":10.3,\"1781\":8.5,\"1782\":23.76,\"1783\":4.8,\"1784\":11.0,\"1785\":29.12,\"1786\":46.67,\"1787\":5.76,\"1788\":6.96,\"1789\":46.68,\"1790\":18.3,\"1791\":17.16,\"1792\":27.3,\"1793\":8.8,\"1794\":24.8,\"1795\":12.8,\"1796\":14.8,\"1797\":9.3,\"1798\":7.8,\"1799\":6.3,\"1800\":33.96,\"1801\":30.3,\"1802\":39.34,\"1803\":8.3,\"1804\":13.56,\"1805\":24.36,\"1806\":11.0,\"1807\":8.8,\"1808\":12.3,\"1809\":12.87,\"1810\":8.16,\"1811\":8.16,\"1812\":70.0,\"1813\":20.76,\"1814\":22.55,\"1815\":5.3,\"1816\":11.3,\"1817\":10.8,\"1818\":12.3,\"1819\":8.3,\"1820\":9.3,\"1821\":22.88,\"1822\":23.75,\"1823\":10.55,\"1824\":7.8,\"1825\":58.34,\"1826\":5.3,\"1827\":14.76,\"1828\":43.01,\"1829\":10.3,\"1830\":14.76,\"1831\":37.56,\"1832\":8.5,\"1833\":114.36,\"1834\":15.95,\"1835\":38.3,\"1836\":14.15,\"1837\":19.56,\"1838\":9.3,\"1839\":24.35,\"1840\":16.3,\"1841\":14.3,\"1842\":68.8,\"1843\":17.8,\"1844\":7.3,\"1845\":24.35,\"1846\":9.0,\"1847\":28.5,\"1848\":15.8,\"1849\":11.3,\"1850\":18.36,\"1851\":7.3,\"1852\":5.8,\"1853\":17.16,\"1854\":16.8,\"1855\":10.8,\"1856\":12.3,\"1857\":12.95,\"1858\":4.8,\"1859\":8.3,\"1860\":8.8,\"1861\":8.76,\"1862\":9.12,\"1863\":16.62,\"1864\":9.3,\"1865\":5.8,\"1866\":36.6,\"1867\":7.56,\"1868\":12.3,\"1869\":9.3,\"1870\":6.3,\"1871\":7.55,\"1872\":4.8,\"1873\":13.3,\"1874\":16.8,\"1875\":10.8,\"1876\":8.5,\"1877\":9.3,\"1878\":6.62,\"1879\":29.76,\"1880\":30.36,\"1881\":9.3,\"1882\":22.56,\"1883\":12.96,\"1884\":13.0,\"1885\":9.95,\"1886\":31.0,\"1887\":5.8,\"1888\":6.8,\"1889\":13.5,\"1890\":15.96,\"1891\":19.12,\"1892\":4.8,\"1893\":28.56,\"1894\":58.34,\"1895\":9.8,\"1896\":10.14,\"1897\":16.55,\"1898\":13.3,\"1899\":25.3,\"1900\":15.3,\"1901\":25.3,\"1902\":63.34,\"1903\":5.3,\"1904\":25.8,\"1905\":5.8,\"1906\":13.3,\"1907\":17.75,\"1908\":17.6,\"1909\":15.99,\"1910\":12.09,\"1911\":6.8,\"1912\":8.8,\"1913\":11.3,\"1914\":12.35,\"1915\":15.96,\"1916\":7.3,\"1917\":9.12,\"1918\":20.3,\"1919\":5.8,\"1920\":12.96,\"1921\":12.36,\"1922\":11.0,\"1923\":6.96,\"1924\":6.95,\"1925\":4.3,\"1926\":12.2,\"1927\":7.8,\"1928\":7.3,\"1929\":6.95,\"1930\":22.56,\"1931\":9.3,\"1932\":21.3,\"1933\":8.3,\"1934\":8.76,\"1935\":15.8,\"1936\":6.3,\"1937\":7.3,\"1938\":32.25,\"1939\":20.3,\"1940\":10.8,\"1941\":14.8,\"1942\":8.3,\"1943\":23.15,\"1944\":28.9,\"1945\":9.8,\"1946\":17.85,\"1947\":4.8,\"1948\":58.34,\"1949\":15.36,\"1950\":18.8,\"1951\":12.35,\"1952\":24.96,\"1953\":7.55,\"1954\":16.8,\"1955\":8.3,\"1956\":22.25,\"1957\":18.8,\"1958\":8.3,\"1959\":9.3,\"1960\":11.76,\"1961\":65.34,\"1962\":8.8,\"1963\":17.9,\"1964\":7.5,\"1965\":16.62,\"1966\":9.96,\"1967\":8.16,\"1968\":14.76,\"1969\":7.3,\"1970\":31.56,\"1971\":24.8,\"1972\":9.3,\"1973\":25.8,\"1974\":12.8,\"1975\":7.3,\"1976\":6.3,\"1977\":8.4,\"1978\":12.8,\"1979\":16.3,\"1980\":17.25,\"1981\":7.8,\"1982\":12.8,\"1983\":4.8,\"1984\":12.8,\"1985\":6.3,\"1986\":9.96,\"1987\":6.3,\"1988\":5.05,\"1989\":49.34,\"1990\":58.34,\"1991\":7.3,\"1992\":6.85,\"1993\":4.3,\"1994\":6.0,\"1995\":9.36,\"1996\":40.84,\"1997\":43.3,\"1998\":10.3,\"1999\":21.3,\"2000\":12.25,\"2001\":9.3,\"2002\":24.3,\"2003\":15.96,\"2004\":16.8,\"2005\":12.95,\"2006\":8.76,\"2007\":13.8,\"2008\":12.25,\"2009\":26.75,\"2010\":7.3,\"2011\":9.3,\"2012\":11.16,\"2013\":10.8,\"2014\":44.34,\"2015\":11.8,\"2016\":12.25,\"2017\":15.34,\"2018\":5.0,\"2019\":19.3,\"2020\":11.3,\"2021\":12.96,\"2022\":7.8,\"2023\":8.8,\"2024\":54.39,\"2025\":15.8,\"2026\":12.95,\"2027\":32.16,\"2028\":26.8,\"2029\":11.16,\"2030\":11.16,\"2031\":12.3,\"2032\":13.3,\"2033\":16.8,\"2034\":16.3,\"2035\":4.3,\"2036\":30.35,\"2037\":15.96,\"2038\":39.84,\"2039\":3.8,\"2040\":11.0,\"2041\":33.36,\"2042\":21.3,\"2043\":8.75,\"2044\":10.8,\"2045\":11.3,\"2046\":11.76,\"2047\":8.76,\"2048\":17.88,\"2049\":31.8,\"2050\":11.05,\"2051\":9.8,\"2052\":30.38,\"2053\":9.3,\"2054\":9.96,\"2055\":9.8,\"2056\":34.61,\"2057\":8.58,\"2058\":8.0,\"2059\":13.56,\"2060\":17.3,\"2061\":6.96,\"2062\":14.15,\"2063\":7.3,\"2064\":13.8,\"2065\":6.8,\"2066\":9.35,\"2067\":12.8,\"2068\":46.84,\"2069\":10.8,\"2070\":6.3,\"2071\":48.99,\"2072\":6.95,\"2073\":17.16,\"2074\":6.36,\"2075\":17.76,\"2076\":16.3,\"2077\":14.3,\"2078\":11.76,\"2079\":79.85,\"2080\":6.8,\"2081\":8.8,\"2082\":7.3,\"2083\":42.96,\"2084\":45.36,\"2085\":10.8,\"2086\":19.8,\"2087\":10.0,\"2088\":8.75,\"2089\":27.8,\"2090\":9.3,\"2091\":6.8,\"2092\":4.8,\"2093\":9.8,\"2094\":13.5,\"2095\":9.96,\"2096\":6.8,\"2097\":17.15,\"2098\":10.85,\"2099\":8.8,\"2100\":30.38,\"2101\":16.0,\"2102\":11.8,\"2103\":21.36,\"2104\":42.84,\"2105\":7.88,\"2106\":22.8,\"2107\":14.8,\"2108\":11.3,\"2109\":14.76,\"2110\":14.3,\"2111\":15.35,\"2112\":14.16,\"2113\":8.8,\"2114\":12.8,\"2115\":12.96,\"2116\":17.25,\"2117\":13.3,\"2118\":9.96,\"2119\":6.8,\"2120\":9.8,\"2121\":9.96,\"2122\":5.8,\"2123\":5.3,\"2124\":70.01,\"2125\":12.85,\"2126\":28.99,\"2127\":9.8,\"2128\":13.3,\"2129\":8.3,\"2130\":21.35,\"2131\":51.62,\"2132\":5.8,\"2133\":18.36,\"2134\":14.16,\"2135\":3.3,\"2136\":9.8,\"2137\":5.3,\"2138\":8.8,\"2139\":32.3,\"2140\":17.8,\"2141\":5.76,\"2142\":8.1,\"2143\":34.84,\"2144\":9.8,\"2145\":5.76,\"2146\":45.35,\"2147\":26.3,\"2148\":16.3,\"2149\":11.8,\"2150\":22.56,\"2151\":17.76,\"2152\":13.55,\"2153\":3.8,\"2154\":19.8,\"2155\":13.3,\"2156\":20.8,\"2157\":9.8,\"2158\":7.8,\"2159\":13.56,\"2160\":7.3,\"2161\":6.3,\"2162\":13.8,\"2163\":7.55,\"2164\":30.96,\"2165\":8.8,\"2166\":52.61,\"2167\":15.3,\"2168\":11.16,\"2169\":10.3,\"2170\":7.8,\"2171\":5.3,\"2172\":17.3,\"2173\":17.3,\"2174\":9.0,\"2175\":8.8,\"2176\":7.3,\"2177\":8.5,\"2178\":44.75,\"2179\":6.3,\"2180\":32.25,\"2181\":6.96,\"2182\":19.75,\"2183\":7.3,\"2184\":7.25,\"2185\":9.96,\"2186\":12.09,\"2187\":6.3,\"2188\":17.85,\"2189\":21.62,\"2190\":10.56,\"2191\":7.8,\"2192\":25.56,\"2193\":12.3,\"2194\":14.75,\"2195\":16.3,\"2196\":11.16,\"2197\":26.3,\"2198\":7.88,\"2199\":10.55,\"2200\":9.35,\"2201\":9.1,\"2202\":41.84,\"2203\":4.8,\"2204\":10.0,\"2205\":5.8,\"2206\":10.3,\"2207\":6.3,\"2208\":18.96,\"2209\":19.8,\"2210\":20.76,\"2211\":10.3,\"2212\":6.0,\"2213\":22.8,\"2214\":6.8,\"2215\":16.8,\"2216\":18.3,\"2217\":8.3,\"2218\":8.76,\"2219\":13.56,\"2220\":14.12,\"2221\":13.55,\"2222\":6.3,\"2223\":7.3,\"2224\":24.3,\"2225\":6.8,\"2226\":18.3,\"2227\":30.35,\"2228\":6.3,\"2229\":7.3,\"2230\":6.3,\"2231\":33.35,\"2232\":7.56,\"2233\":23.3,\"2234\":6.3,\"2235\":17.8,\"2236\":9.8,\"2237\":7.56,\"2238\":5.76,\"2239\":18.8,\"2240\":5.8,\"2241\":7.8,\"2242\":12.25,\"2243\":7.8,\"2244\":26.8,\"2245\":16.56,\"2246\":6.24,\"2247\":6.3,\"2248\":5.8,\"2249\":6.3,\"2250\":41.16,\"2251\":6.3,\"2252\":12.8,\"2253\":74.34,\"2254\":14.15,\"2255\":16.8,\"2256\":8.15,\"2257\":10.8,\"2258\":4.8,\"2259\":16.0,\"2260\":14.3,\"2261\":14.76,\"2262\":11.0,\"2263\":12.88,\"2264\":23.16,\"2265\":7.8,\"2266\":8.75,\"2267\":12.96,\"2268\":7.3,\"2269\":9.36,\"2270\":18.36,\"2271\":16.64,\"2272\":4.8,\"2273\":17.87,\"2274\":17.76,\"2275\":18.3,\"2276\":9.3,\"2277\":13.56,\"2278\":36.84,\"2279\":15.3,\"2280\":17.8,\"2281\":10.3,\"2282\":23.8,\"2283\":11.16,\"2284\":9.3,\"2285\":9.49,\"2286\":11.0,\"2287\":17.75,\"2288\":14.76,\"2289\":10.56,\"2290\":9.3,\"2291\":22.3,\"2292\":7.8,\"2293\":60.8,\"2294\":15.35,\"2295\":7.66,\"2296\":13.55,\"2297\":12.96,\"2298\":12.3,\"2299\":37.1,\"2300\":20.38,\"2301\":6.8,\"2302\":10.38,\"2303\":11.16,\"2304\":4.8,\"2305\":19.3,\"2306\":6.3,\"2307\":12.3,\"2308\":13.56,\"2309\":23.75,\"2310\":9.8,\"2311\":16.56,\"2312\":11.8,\"2313\":24.36,\"2314\":39.96,\"2315\":7.3,\"2316\":8.8,\"2317\":5.8,\"2318\":12.88,\"2319\":24.4,\"2320\":43.8,\"2321\":7.8,\"2322\":5.8,\"2323\":6.3,\"2324\":21.36,\"2325\":9.35,\"2326\":6.36,\"2327\":15.96,\"2328\":8.8,\"2329\":15.34,\"2330\":15.55,\"2331\":16.6,\"2332\":13.8,\"2333\":8.3,\"2334\":9.3,\"2335\":7.56,\"2336\":5.8,\"2337\":16.3,\"2338\":11.0,\"2339\":12.8,\"2340\":8.8,\"2341\":8.3,\"2342\":25.56,\"2343\":22.3,\"2344\":8.8,\"2345\":9.8,\"2346\":7.3,\"2347\":9.36,\"2348\":6.8,\"2349\":25.3,\"2350\":8.3,\"2351\":10.38,\"2352\":28.3,\"2353\":15.96,\"2354\":13.8,\"2355\":13.39,\"2356\":14.3,\"2357\":8.3,\"2358\":6.8,\"2359\":15.3,\"2360\":15.36,\"2361\":6.96,\"2362\":23.3,\"2363\":10.3,\"2364\":88.05,\"2365\":11.3,\"2366\":13.3,\"2367\":7.55,\"2368\":7.8,\"2369\":15.96,\"2370\":46.84,\"2371\":33.96,\"2372\":8.15,\"2373\":63.41,\"2374\":8.8,\"2375\":6.3,\"2376\":10.38,\"2377\":10.55,\"2378\":25.88,\"2379\":15.3,\"2380\":7.25,\"2381\":7.8,\"2382\":15.3,\"2383\":7.8,\"2384\":33.2,\"2385\":16.6,\"2386\":12.8,\"2387\":11.8,\"2388\":12.8,\"2389\":7.55,\"2390\":12.85,\"2391\":7.8,\"2392\":6.3,\"2393\":22.85,\"2394\":8.16,\"2395\":8.8,\"2396\":13.8,\"2397\":24.8,\"2398\":8.8,\"2399\":22.55,\"2400\":17.3,\"2401\":13.55,\"2402\":10.56,\"2403\":3.3,\"2404\":3.8,\"2405\":3.3,\"2406\":9.36,\"2407\":8.76,\"2408\":14.76,\"2409\":8.5,\"2410\":28.3,\"2411\":47.34,\"2412\":7.3,\"2413\":16.56,\"2414\":7.3,\"2415\":34.8,\"2416\":7.25,\"2417\":13.56,\"2418\":11.75,\"2419\":12.8,\"2420\":8.16,\"2421\":4.8,\"2422\":15.35,\"2423\":6.3,\"2424\":8.3,\"2425\":21.0,\"2426\":50.84,\"2427\":7.8,\"2428\":6.3,\"2429\":11.75,\"2430\":8.76,\"2431\":26.3,\"2432\":8.16,\"2433\":7.3,\"2434\":55.59,\"2435\":9.0,\"2436\":26.0,\"2437\":8.76,\"2438\":12.3,\"2439\":8.5,\"2440\":17.16,\"2441\":59.18,\"2442\":6.3,\"2443\":11.8,\"2444\":32.24,\"2445\":16.8,\"2446\":10.8,\"2447\":15.3,\"2448\":12.3,\"2449\":15.96,\"2450\":18.96,\"2451\":11.8,\"2452\":22.25,\"2453\":11.3,\"2454\":7.3,\"2455\":17.8,\"2456\":12.3,\"2457\":9.35,\"2458\":40.3,\"2459\":7.8,\"2460\":17.8,\"2461\":19.75,\"2462\":12.8,\"2463\":13.56,\"2464\":20.75,\"2465\":63.89,\"2466\":24.0,\"2467\":11.8,\"2468\":8.3,\"2469\":19.56,\"2470\":7.0,\"2471\":7.8,\"2472\":5.8,\"2473\":14.16,\"2474\":6.96,\"2475\":10.56,\"2476\":11.8,\"2477\":7.55,\"2478\":8.5,\"2479\":21.3,\"2480\":11.3,\"2481\":12.8,\"2482\":10.3,\"2483\":19.75,\"2484\":9.8,\"2485\":19.55,\"2486\":34.84,\"2487\":10.79,\"2488\":12.8,\"2489\":11.76,\"2490\":33.36,\"2491\":9.36,\"2492\":10.8,\"2493\":10.8,\"2494\":9.8,\"2495\":10.0,\"2496\":27.95,\"2497\":9.35,\"2498\":7.3,\"2499\":19.24,\"2500\":15.3,\"2501\":18.95,\"2502\":8.3,\"2503\":7.56,\"2504\":13.3,\"2505\":12.3,\"2506\":18.95,\"2507\":4.3,\"2508\":8.3,\"2509\":12.36,\"2510\":21.6,\"2511\":11.8,\"2512\":14.76,\"2513\":17.16,\"2514\":12.3,\"2515\":21.35,\"2516\":6.95,\"2517\":21.8,\"2518\":15.8,\"2519\":26.8,\"2520\":5.38,\"2521\":6.3,\"2522\":20.3,\"2523\":6.3,\"2524\":18.36,\"2525\":46.3,\"2526\":12.96,\"2527\":11.3,\"2528\":7.8,\"2529\":9.8,\"2530\":6.8,\"2531\":23.3,\"2532\":8.3,\"2533\":18.3,\"2534\":13.55,\"2535\":9.36,\"2536\":11.8,\"2537\":14.8,\"2538\":11.8,\"2539\":12.3,\"2540\":7.3,\"2541\":14.8,\"2542\":8.75,\"2543\":19.55,\"2544\":14.16,\"2545\":16.55,\"2546\":11.4,\"2547\":6.89,\"2548\":15.3,\"2549\":11.3,\"2550\":22.3,\"2551\":21.96,\"2552\":59.81,\"2553\":31.56,\"2554\":22.3,\"2555\":6.8,\"2556\":7.8,\"2557\":11.15,\"2558\":15.3,\"2559\":10.8,\"2560\":10.8,\"2561\":10.3,\"2562\":10.8,\"2563\":12.96,\"2564\":8.16,\"2565\":9.95,\"2566\":8.15,\"2567\":10.8,\"2568\":8.8,\"2569\":6.35,\"2570\":27.3,\"2571\":14.76,\"2572\":7.3,\"2573\":12.8,\"2574\":8.8,\"2575\":6.8,\"2576\":10.8,\"2577\":7.56,\"2578\":3.8,\"2579\":60.99,\"2580\":15.38,\"2581\":12.95,\"2582\":58.34,\"2583\":13.8,\"2584\":20.15,\"2585\":5.3,\"2586\":9.8,\"2587\":12.8,\"2588\":12.3,\"2589\":14.16,\"2590\":12.3,\"2591\":23.15,\"2592\":6.8,\"2593\":22.8,\"2594\":15.3,\"2595\":14.69,\"2596\":21.62,\"2597\":50.15,\"2598\":8.8,\"2599\":7.3,\"2600\":4.8,\"2601\":9.36,\"2602\":8.8,\"2603\":17.76,\"2604\":8.8,\"2605\":11.44,\"2606\":52.8,\"2607\":5.8,\"2608\":24.36,\"2609\":10.79,\"2610\":18.36,\"2611\":10.55,\"2612\":26.15,\"2613\":10.3,\"2614\":20.3,\"2615\":23.76,\"2616\":10.7,\"2617\":16.62,\"2618\":8.8,\"2619\":14.8,\"2620\":7.56,\"2621\":11.3,\"2622\":9.3,\"2623\":72.92,\"2624\":10.3,\"2625\":12.3,\"2626\":25.38,\"2627\":11.62,\"2628\":7.8,\"2629\":48.41,\"2630\":32.3,\"2631\":4.3,\"2632\":7.3,\"2633\":13.3,\"2634\":20.8,\"2635\":19.0,\"2636\":12.9,\"2637\":9.8,\"2638\":5.38,\"2639\":11.8,\"2640\":19.56,\"2641\":17.3,\"2642\":69.99,\"2643\":58.34,\"2644\":9.96,\"2645\":40.34,\"2646\":7.3,\"2647\":56.99,\"2648\":13.3,\"2649\":25.8,\"2650\":17.16,\"2651\":30.34,\"2652\":8.15,\"2653\":9.55,\"2654\":15.0,\"2655\":14.6,\"2656\":16.0,\"2657\":9.8,\"2658\":10.3,\"2659\":14.3,\"2660\":10.56,\"2661\":14.8,\"2662\":23.16,\"2663\":19.55,\"2664\":13.3,\"2665\":14.16,\"2666\":7.8,\"2667\":18.8,\"2668\":5.3,\"2669\":17.8,\"2670\":13.55,\"2671\":10.3,\"2672\":9.68,\"2673\":29.1,\"2674\":58.34,\"2675\":66.0,\"2676\":63.34,\"2677\":11.3,\"2678\":17.16,\"2679\":9.3,\"2680\":8.16,\"2681\":7.8,\"2682\":13.3,\"2683\":19.0,\"2684\":13.3,\"2685\":10.3,\"2686\":18.36,\"2687\":9.49,\"2688\":11.44,\"2689\":7.8,\"2690\":7.3,\"2691\":7.8,\"2692\":26.3,\"2693\":7.8,\"2694\":48.99,\"2695\":6.8,\"2696\":12.0,\"2697\":12.8,\"2698\":11.44,\"2699\":27.3,\"2700\":8.15,\"2701\":12.8,\"2702\":10.8,\"2703\":28.56,\"2704\":6.8,\"2705\":22.55,\"2706\":7.8,\"2707\":55.61,\"2708\":8.8,\"2709\":13.8,\"2710\":14.16,\"2711\":13.8,\"2712\":11.8,\"2713\":45.36,\"2714\":84.05,\"2715\":11.16,\"2716\":9.75,\"2717\":22.55,\"2718\":9.8,\"2719\":14.12,\"2720\":20.16,\"2721\":16.56,\"2722\":13.8,\"2723\":20.76,\"2724\":18.59,\"2725\":13.35,\"2726\":15.95,\"2727\":17.3,\"2728\":19.56,\"2729\":72.92,\"2730\":9.8,\"2731\":22.3,\"2732\":21.3,\"2733\":5.8,\"2734\":69.99,\"2735\":9.49,\"2736\":27.25,\"2737\":18.8,\"2738\":5.8,\"2739\":20.38,\"2740\":12.7,\"2741\":10.3,\"2742\":8.16,\"2743\":5.15,\"2744\":19.75,\"2745\":11.8,\"2746\":16.8,\"2747\":8.3,\"2748\":8.3,\"2749\":22.8,\"2750\":18.3,\"2751\":20.3,\"2752\":9.35,\"2753\":8.3,\"2754\":7.8,\"2755\":10.56,\"2756\":7.8,\"2757\":11.75,\"2758\":14.3,\"2759\":8.8,\"2760\":9.96,\"2761\":12.96,\"2762\":59.21,\"2763\":11.3,\"2764\":8.16,\"2765\":9.96,\"2766\":9.3,\"2767\":13.55,\"2768\":27.95,\"2769\":16.3,\"2770\":10.56,\"2771\":15.8,\"2772\":8.3,\"2773\":13.3,\"2774\":10.8,\"2775\":4.8,\"2776\":22.55,\"2777\":10.8,\"2778\":24.95,\"2779\":15.96,\"2780\":16.55,\"2781\":20.38,\"2782\":6.8,\"2783\":4.8,\"2784\":16.56,\"2785\":14.3,\"2786\":13.56,\"2787\":8.8,\"2788\":31.5,\"2789\":4.8,\"2790\":7.8,\"2791\":18.36,\"2792\":6.3,\"2793\":14.8,\"2794\":12.3,\"2795\":6.8,\"2796\":24.8,\"2797\":11.76,\"2798\":15.3,\"2799\":5.8,\"2800\":41.34,\"2801\":19.8,\"2802\":16.6,\"2803\":7.55,\"2804\":8.16,\"2805\":4.3,\"2806\":8.8,\"2807\":17.8,\"2808\":41.75,\"2809\":15.35,\"2810\":31.55,\"2811\":18.35,\"2812\":6.8,\"2813\":10.3,\"2814\":13.3,\"2815\":14.8,\"2816\":7.56,\"2817\":9.13,\"2818\":9.8,\"2819\":16.3,\"2820\":8.8,\"2821\":48.4,\"2822\":6.8,\"2823\":46.34,\"2824\":11.3,\"2825\":11.16,\"2826\":5.75,\"2827\":12.85,\"2828\":14.76,\"2829\":8.8,\"2830\":34.8,\"2831\":5.8,\"2832\":7.3,\"2833\":11.16,\"2834\":19.56,\"2835\":67.61,\"2836\":66.34,\"2837\":54.84,\"2838\":9.3,\"2839\":22.56,\"2840\":7.3,\"2841\":9.35,\"2842\":72.3,\"2843\":4.8,\"2844\":8.3,\"2845\":55.0,\"2846\":29.8,\"2847\":18.35,\"2848\":16.3,\"2849\":7.3,\"2850\":20.15,\"2851\":46.59,\"2852\":12.57,\"2853\":14.76,\"2854\":19.1,\"2855\":11.15,\"2856\":8.8,\"2857\":8.8,\"2858\":11.15,\"2859\":10.79,\"2860\":23.15,\"2861\":12.88,\"2862\":12.25,\"2863\":23.14,\"2864\":18.8,\"2865\":17.3,\"2866\":12.85,\"2867\":14.3,\"2868\":10.3,\"2869\":60.24,\"2870\":16.8,\"2871\":6.8,\"2872\":9.75,\"2873\":11.75,\"2874\":18.95,\"2875\":5.8,\"2876\":5.8,\"2877\":27.04,\"2878\":5.75,\"2879\":16.55,\"2880\":9.1,\"2881\":29.15,\"2882\":13.8,\"2883\":9.35,\"2884\":18.8,\"2885\":11.3,\"2886\":8.75,\"2887\":34.3,\"2888\":16.56,\"2889\":49.84,\"2890\":10.8,\"2891\":12.3,\"2892\":49.18,\"2893\":13.8,\"2894\":7.3,\"2895\":9.96,\"2896\":41.84,\"2897\":6.3,\"2898\":18.55,\"2899\":12.8,\"2900\":14.76,\"2901\":10.3,\"2902\":6.3,\"2903\":-3.3,\"2904\":13.56,\"2905\":24.3,\"2906\":9.36,\"2907\":12.05,\"2908\":8.8,\"2909\":8.3,\"2910\":12.36,\"2911\":13.3,\"2912\":8.3,\"2913\":13.8,\"2914\":5.8,\"2915\":6.36,\"2916\":12.35,\"2917\":7.3,\"2918\":6.3,\"2919\":6.3,\"2920\":18.35,\"2921\":6.8,\"2922\":19.3,\"2923\":8.3,\"2924\":7.3,\"2925\":11.75,\"2926\":5.16,\"2927\":12.3,\"2928\":12.25,\"2929\":13.8,\"2930\":33.36,\"2931\":12.96,\"2932\":11.8,\"2933\":7.3,\"2934\":18.3,\"2935\":7.8,\"2936\":11.76,\"2937\":13.3,\"2938\":9.96,\"2939\":8.3,\"2940\":28.3,\"2941\":10.8,\"2942\":9.36,\"2943\":11.76,\"2944\":63.34,\"2945\":18.35,\"2946\":16.8,\"2947\":8.3,\"2948\":17.75,\"2949\":30.3,\"2950\":11.6,\"2951\":14.3,\"2952\":10.3,\"2953\":8.0,\"2954\":9.3,\"2955\":8.76,\"2956\":11.16,\"2957\":16.3,\"2958\":6.8,\"2959\":18.36,\"2960\":23.16,\"2961\":23.8,\"2962\":7.8,\"2963\":25.3,\"2964\":15.38,\"2965\":3.8,\"2966\":9.36,\"2967\":9.0,\"2968\":6.36,\"2969\":44.81,\"2970\":5.76,\"2971\":8.76,\"2972\":20.15,\"2973\":52.3,\"2974\":13.55,\"2975\":13.4,\"2976\":9.49,\"2977\":11.8,\"2978\":24.75,\"2979\":8.8,\"2980\":4.8,\"2981\":13.56,\"2982\":6.3,\"2983\":11.8,\"2984\":14.1,\"2985\":21.3,\"2986\":12.25,\"2987\":18.36,\"2988\":69.34,\"2989\":14.3,\"2990\":9.3,\"2991\":17.6,\"2992\":7.3,\"2993\":42.35,\"2994\":58.39,\"2995\":15.3,\"2996\":5.8,\"2997\":12.36,\"2998\":10.32,\"2999\":10.56,\"3000\":6.8,\"3001\":8.8,\"3002\":9.96,\"3003\":7.8,\"3004\":15.36,\"3005\":13.3,\"3006\":7.3,\"3007\":5.8,\"3008\":62.34,\"3009\":8.3,\"3010\":24.75,\"3011\":9.8,\"3012\":9.36,\"3013\":13.3,\"3014\":14.3,\"3015\":11.3,\"3016\":15.36,\"3017\":16.0,\"3018\":47.21,\"3019\":24.3,\"3020\":30.55,\"3021\":12.8,\"3022\":8.8,\"3023\":20.76,\"3024\":24.75,\"3025\":15.3,\"3026\":19.3,\"3027\":5.8,\"3028\":13.56,\"3029\":20.16,\"3030\":4.8,\"3031\":22.88,\"3032\":18.3,\"3033\":17.16,\"3034\":22.3,\"3035\":38.34,\"3036\":16.8,\"3037\":12.35,\"3038\":9.3,\"3039\":21.36,\"3040\":11.8,\"3041\":13.56,\"3042\":18.8,\"3043\":12.36,\"3044\":17.15,\"3045\":17.8,\"3046\":12.55,\"3047\":8.15,\"3048\":18.8,\"3049\":11.3,\"3050\":22.56,\"3051\":27.3,\"3052\":9.35,\"3053\":20.3,\"3054\":12.8,\"3055\":14.15,\"3056\":38.8,\"3057\":14.3,\"3058\":16.3,\"3059\":15.8,\"3060\":26.8,\"3061\":7.55,\"3062\":42.96,\"3063\":10.56,\"3064\":14.3,\"3065\":7.56,\"3066\":3.3,\"3067\":9.3,\"3068\":5.8,\"3069\":11.16,\"3070\":22.0,\"3071\":27.36,\"3072\":43.61,\"3073\":17.88,\"3074\":6.36,\"3075\":11.62,\"3076\":6.8,\"3077\":8.16,\"3078\":5.3,\"3079\":14.3,\"3080\":12.8,\"3081\":8.8,\"3082\":7.8,\"3083\":14.3,\"3084\":31.56,\"3085\":19.56,\"3086\":34.56,\"3087\":21.3,\"3088\":20.16,\"3089\":9.96,\"3090\":7.3,\"3091\":11.3,\"3092\":11.8,\"3093\":9.8,\"3094\":16.55,\"3095\":8.16,\"3096\":21.3,\"3097\":12.8,\"3098\":10.35,\"3099\":14.8,\"3100\":24.35,\"3101\":47.3,\"3102\":64.61,\"3103\":21.36,\"3104\":13.3,\"3105\":10.8,\"3106\":7.56,\"3107\":15.3,\"3108\":32.3,\"3109\":22.55,\"3110\":9.3,\"3111\":58.34,\"3112\":11.76,\"3113\":20.15,\"3114\":11.3,\"3115\":9.36,\"3116\":12.88,\"3117\":83.3,\"3118\":6.3,\"3119\":6.3,\"3120\":16.0,\"3121\":5.8,\"3122\":19.8,\"3123\":33.5,\"3124\":14.75,\"3125\":47.79,\"3126\":13.3,\"3127\":11.8,\"3128\":40.34,\"3129\":20.38,\"3130\":10.8,\"3131\":20.75,\"3132\":9.3,\"3133\":6.3,\"3134\":12.3,\"3135\":9.8,\"3136\":9.8,\"3137\":62.21,\"3138\":53.19,\"3139\":12.85,\"3140\":11.16,\"3141\":19.3,\"3142\":4.8,\"3143\":14.75,\"3144\":12.96,\"3145\":28.56,\"3146\":26.76,\"3147\":9.36,\"3148\":21.96,\"3149\":17.8,\"3150\":7.3,\"3151\":8.8,\"3152\":11.76,\"3153\":14.3,\"3154\":16.6,\"3155\":9.8,\"3156\":39.3,\"3157\":15.8,\"3158\":7.56,\"3159\":31.0,\"3160\":9.3,\"3161\":11.3,\"3162\":8.76,\"3163\":25.8,\"3164\":11.3,\"3165\":8.76,\"3166\":15.3,\"3167\":8.76,\"3168\":32.76,\"3169\":26.76,\"3170\":63.35,\"3171\":47.34,\"3172\":11.4,\"3173\":7.3,\"3174\":18.3,\"3175\":6.96,\"3176\":38.79,\"3177\":43.54,\"3178\":32.16,\"3179\":8.76,\"3180\":20.3,\"3181\":17.8,\"3182\":15.3,\"3183\":9.8,\"3184\":57.41,\"3185\":21.95,\"3186\":9.3,\"3187\":15.36,\"3188\":25.8,\"3189\":13.8,\"3190\":12.88,\"3191\":8.3,\"3192\":9.3,\"3193\":15.35,\"3194\":17.3,\"3195\":30.3,\"3196\":19.12,\"3197\":6.91,\"3198\":15.3,\"3199\":5.35,\"3200\":10.8,\"3201\":10.56,\"3202\":7.0,\"3203\":11.3,\"3204\":17.75,\"3205\":12.3,\"3206\":6.3,\"3207\":12.8,\"3208\":29.64,\"3209\":16.56,\"3210\":12.35,\"3211\":14.15,\"3212\":13.8,\"3213\":13.3,\"3214\":21.8,\"3215\":10.3,\"3216\":11.3,\"3217\":6.96,\"3218\":7.3,\"3219\":10.8,\"3220\":27.8,\"3221\":6.36,\"3222\":9.35,\"3223\":5.3,\"3224\":15.3,\"3225\":10.55,\"3226\":11.3,\"3227\":11.8,\"3228\":11.0,\"3229\":18.35,\"3230\":13.56,\"3231\":13.8,\"3232\":24.96,\"3233\":14.15,\"3234\":8.8,\"3235\":9.8,\"3236\":20.35,\"3237\":10.3,\"3238\":12.95,\"3239\":21.36,\"3240\":12.0,\"3241\":38.76,\"3242\":11.8,\"3243\":6.8,\"3244\":46.3,\"3245\":23.1,\"3246\":11.8,\"3247\":6.8,\"3248\":13.8,\"3249\":27.88,\"3250\":11.3,\"3251\":4.8,\"3252\":12.8,\"3253\":23.76,\"3254\":25.8,\"3255\":20.15,\"3256\":6.8,\"3257\":17.16,\"3258\":8.8,\"3259\":9.3,\"3260\":10.3,\"3261\":7.8,\"3262\":9.95,\"3263\":15.36,\"3264\":41.81,\"3265\":9.39,\"3266\":9.96,\"3267\":12.3,\"3268\":8.71,\"3269\":11.8,\"3270\":83.12,\"3271\":12.3,\"3272\":23.16,\"3273\":14.3,\"3274\":7.3,\"3275\":11.8,\"3276\":6.3,\"3277\":17.16,\"3278\":20.8,\"3279\":8.8,\"3280\":14.76,\"3281\":9.6,\"3282\":5.3,\"3283\":5.8,\"3284\":4.8,\"3285\":58.6,\"3286\":9.3,\"3287\":15.36,\"3288\":10.3,\"3289\":15.8,\"3290\":6.96,\"3291\":25.8,\"3292\":24.96,\"3293\":8.76,\"3294\":58.34,\"3295\":9.8,\"3296\":12.8,\"3297\":13.55,\"3298\":11.62,\"3299\":15.05,\"3300\":40.56,\"3301\":9.3,\"3302\":26.39,\"3303\":10.3,\"3304\":17.76,\"3305\":7.85,\"3306\":17.76,\"3307\":53.34,\"3308\":10.8,\"3309\":12.8,\"3310\":5.3,\"3311\":14.76,\"3312\":9.3,\"3313\":11.76,\"3314\":7.3,\"3315\":10.56,\"3316\":4.8,\"3317\":9.36,\"3318\":9.3,\"3319\":11.16,\"3320\":7.3,\"3321\":13.3,\"3322\":19.8,\"3323\":162.39,\"3324\":55.42,\"3325\":14.8,\"3326\":6.8,\"3327\":8.3,\"3328\":11.75,\"3329\":18.3,\"3330\":11.8,\"3331\":23.79,\"3332\":8.8,\"3333\":51.41,\"3334\":22.3,\"3335\":13.8,\"3336\":14.69,\"3337\":11.8,\"3338\":19.3,\"3339\":13.3,\"3340\":17.16,\"3341\":15.3,\"3342\":8.76,\"3343\":12.36,\"3344\":47.8,\"3345\":9.75,\"3346\":13.8,\"3347\":15.34,\"3348\":18.36,\"3349\":12.3,\"3350\":58.34,\"3351\":7.3,\"3352\":42.3,\"3353\":8.75,\"3354\":6.36,\"3355\":11.3,\"3356\":28.0,\"3357\":7.8,\"3358\":9.8,\"3359\":12.36,\"3360\":13.5,\"3361\":10.56,\"3362\":7.3,\"3363\":7.3,\"3364\":6.36,\"3365\":5.3,\"3366\":13.8,\"3367\":5.3,\"3368\":12.3,\"3369\":6.8,\"3370\":12.74,\"3371\":19.8,\"3372\":11.3,\"3373\":18.36,\"3374\":19.8,\"3375\":12.8,\"3376\":24.3,\"3377\":6.36,\"3378\":9.3,\"3379\":10.3,\"3380\":19.55,\"3381\":15.0,\"3382\":7.3,\"3383\":24.75,\"3384\":5.76,\"3385\":20.8,\"3386\":12.95,\"3387\":14.3,\"3388\":9.8,\"3389\":8.3,\"3390\":50.19,\"3391\":13.56,\"3392\":9.3,\"3393\":14.75,\"3394\":20.16,\"3395\":8.16,\"3396\":21.3,\"3397\":6.3,\"3398\":5.76,\"3399\":18.3,\"3400\":16.8,\"3401\":25.3,\"3402\":14.3,\"3403\":12.36,\"3404\":8.3,\"3405\":7.3,\"3406\":83.8,\"3407\":24.8,\"3408\":59.21,\"3409\":58.34,\"3410\":8.3,\"3411\":10.3,\"3412\":14.75,\"3413\":19.1,\"3414\":21.3,\"3415\":13.5,\"3416\":13.3,\"3417\":10.3,\"3418\":19.3,\"3419\":10.8,\"3420\":9.3,\"3421\":10.56,\"3422\":6.8,\"3423\":17.02,\"3424\":12.3,\"3425\":8.5,\"3426\":10.8,\"3427\":10.3,\"3428\":58.34,\"3429\":16.62,\"3430\":14.75,\"3431\":24.12,\"3432\":6.8,\"3433\":5.3,\"3434\":9.96,\"3435\":17.16,\"3436\":29.76,\"3437\":8.8,\"3438\":24.3,\"3439\":4.8,\"3440\":9.3,\"3441\":32.85,\"3442\":10.3,\"3443\":7.8,\"3444\":21.8,\"3445\":11.76,\"3446\":14.8,\"3447\":17.16,\"3448\":7.3,\"3449\":31.3,\"3450\":11.8,\"3451\":22.55,\"3452\":17.25,\"3453\":22.56,\"3454\":9.8,\"3455\":14.0,\"3456\":25.8,\"3457\":16.8,\"3458\":12.35,\"3459\":9.0,\"3460\":35.16,\"3461\":20.3,\"3462\":32.85,\"3463\":13.3,\"3464\":15.3,\"3465\":12.96,\"3466\":6.3,\"3467\":10.8,\"3468\":5.15,\"3469\":7.8,\"3470\":10.0,\"3471\":43.52,\"3472\":23.5,\"3473\":6.8,\"3474\":7.25,\"3475\":15.36,\"3476\":9.3,\"3477\":15.8,\"3478\":11.8,\"3479\":16.55,\"3480\":17.16,\"3481\":11.8,\"3482\":20.37,\"3483\":41.34,\"3484\":12.8,\"3485\":12.36,\"3486\":6.93,\"3487\":17.76,\"3488\":11.0,\"3489\":5.3,\"3490\":23.75,\"3491\":5.8,\"3492\":26.75,\"3493\":16.3,\"3494\":11.8,\"3495\":10.8,\"3496\":8.8,\"3497\":54.84,\"3498\":24.75,\"3499\":11.8,\"3500\":30.3,\"3501\":10.3,\"3502\":7.56,\"3503\":17.8,\"3504\":6.8,\"3505\":9.3,\"3506\":4.8,\"3507\":4.8,\"3508\":14.16,\"3509\":12.35,\"3510\":5.3,\"3511\":6.96,\"3512\":15.35,\"3513\":14.76,\"3514\":6.3,\"3515\":12.95,\"3516\":10.3,\"3517\":14.3,\"3518\":19.0,\"3519\":22.8,\"3520\":11.16,\"3521\":10.3,\"3522\":11.15,\"3523\":12.96,\"3524\":20.75,\"3525\":11.16,\"3526\":20.3,\"3527\":9.96,\"3528\":9.36,\"3529\":23.8,\"3530\":37.55,\"3531\":52.01,\"3532\":5.76,\"3533\":24.96,\"3534\":13.8,\"3535\":52.8,\"3536\":48.54,\"3537\":14.15,\"3538\":17.8,\"3539\":50.8,\"3540\":9.3,\"3541\":11.3,\"3542\":18.35,\"3543\":10.8,\"3544\":15.8,\"3545\":18.36,\"3546\":6.62,\"3547\":8.75,\"3548\":19.56,\"3549\":11.3,\"3550\":58.34,\"3551\":17.75,\"3552\":23.5,\"3553\":25.38,\"3554\":8.8,\"3555\":6.96,\"3556\":18.95,\"3557\":17.88,\"3558\":20.75,\"3559\":13.3,\"3560\":18.96,\"3561\":8.3,\"3562\":42.8,\"3563\":10.8,\"3564\":16.3,\"3565\":10.55,\"3566\":54.79,\"3567\":11.8,\"3568\":11.3,\"3569\":9.3,\"3570\":6.8,\"3571\":15.96,\"3572\":13.3,\"3573\":13.3,\"3574\":18.36,\"3575\":54.8,\"3576\":13.3,\"3577\":9.96,\"3578\":18.0,\"3579\":6.8,\"3580\":15.8,\"3581\":11.3,\"3582\":16.0,\"3583\":11.16,\"3584\":11.8,\"3585\":58.34,\"3586\":11.3,\"3587\":24.36,\"3588\":8.8,\"3589\":17.88,\"3590\":27.88,\"3591\":13.8,\"3592\":9.8,\"3593\":16.8,\"3594\":11.3,\"3595\":6.3,\"3596\":5.8,\"3597\":5.55,\"3598\":7.25,\"3599\":11.3,\"3600\":12.3,\"3601\":7.8,\"3602\":12.96,\"3603\":10.3,\"3604\":17.88,\"3605\":26.16,\"3606\":69.99,\"3607\":14.75,\"3608\":9.36,\"3609\":9.95,\"3610\":38.75,\"3611\":7.8,\"3612\":12.09,\"3613\":15.8,\"3614\":21.3,\"3615\":13.56,\"3616\":7.8,\"3617\":12.96,\"3618\":9.3,\"3619\":24.3,\"3620\":16.8,\"3621\":20.3,\"3622\":5.8,\"3623\":21.0,\"3624\":10.3,\"3625\":11.3,\"3626\":59.79,\"3627\":20.15,\"3628\":15.8,\"3629\":25.56,\"3630\":11.0,\"3631\":5.3,\"3632\":9.96,\"3633\":27.3,\"3634\":12.09,\"3635\":10.8,\"3636\":13.3,\"3637\":41.8,\"3638\":12.8,\"3639\":28.3,\"3640\":50.21,\"3641\":20.76,\"3642\":15.96,\"3643\":18.96,\"3644\":21.96,\"3645\":14.16,\"3646\":23.0,\"3647\":15.96,\"3648\":19.3,\"3649\":72.96,\"3650\":38.84,\"3651\":7.55,\"3652\":26.0,\"3653\":4.8,\"3654\":8.76,\"3655\":15.96,\"3656\":8.19,\"3657\":13.8,\"3658\":7.3,\"3659\":7.3,\"3660\":13.56,\"3661\":9.5,\"3662\":11.8,\"3663\":9.3,\"3664\":26.62,\"3665\":9.3,\"3666\":17.15,\"3667\":5.3,\"3668\":7.8,\"3669\":5.3,\"3670\":8.16,\"3671\":7.3,\"3672\":13.3,\"3673\":11.3,\"3674\":20.76,\"3675\":10.35,\"3676\":17.8,\"3677\":20.3,\"3678\":5.3,\"3679\":11.3,\"3680\":11.8,\"3681\":12.3,\"3682\":15.8,\"3683\":23.16,\"3684\":11.3,\"3685\":7.8,\"3686\":7.3,\"3687\":50.21,\"3688\":14.8,\"3689\":8.3,\"3690\":14.3,\"3691\":15.8,\"3692\":30.8,\"3693\":24.8,\"3694\":9.36,\"3695\":10.3,\"3696\":17.3,\"3697\":14.3,\"3698\":5.8,\"3699\":39.96,\"3700\":16.8,\"3701\":12.3,\"3702\":6.8,\"3703\":33.3,\"3704\":16.3,\"3705\":12.8,\"3706\":8.8,\"3707\":5.8,\"3708\":12.8,\"3709\":18.95,\"3710\":7.8,\"3711\":11.8,\"3712\":10.56,\"3713\":23.79,\"3714\":11.3,\"3715\":15.96,\"3716\":28.8,\"3717\":8.8,\"3718\":5.3,\"3719\":7.3,\"3720\":8.8,\"3721\":10.56,\"3722\":7.8,\"3723\":12.36,\"3724\":12.3,\"3725\":8.3,\"3726\":18.8,\"3727\":13.56,\"3728\":6.35,\"3729\":38.8,\"3730\":7.3,\"3731\":19.3,\"3732\":51.05,\"3733\":9.3,\"3734\":27.3,\"3735\":7.46,\"3736\":11.76,\"3737\":6.3,\"3738\":26.3,\"3739\":15.95,\"3740\":6.96,\"3741\":6.8,\"3742\":17.3,\"3743\":6.3,\"3744\":8.16,\"3745\":18.96,\"3746\":67.3,\"3747\":17.8,\"3748\":6.8,\"3749\":12.8,\"3750\":5.16,\"3751\":18.8,\"3752\":13.3,\"3753\":4.3,\"3754\":59.79,\"3755\":23.3,\"3756\":10.8,\"3757\":9.28,\"3758\":41.91,\"3759\":11.75,\"3760\":13.8,\"3761\":59.34,\"3762\":7.8,\"3763\":7.25,\"3764\":9.3,\"3765\":11.16,\"3766\":64.61,\"3767\":8.3,\"3768\":9.0,\"3769\":11.8,\"3770\":31.55,\"3771\":3.3,\"3772\":53.34,\"3773\":9.45,\"3774\":11.3,\"3775\":8.8,\"3776\":16.3,\"3777\":5.8,\"3778\":12.8,\"3779\":12.3,\"3780\":14.3,\"3781\":8.3,\"3782\":7.3,\"3783\":21.8,\"3784\":35.8,\"3785\":7.56,\"3786\":21.15,\"3787\":15.36,\"3788\":24.18,\"3789\":6.96,\"3790\":13.3,\"3791\":22.3,\"3792\":15.96,\"3793\":31.3,\"3794\":31.3,\"3795\":26.8,\"3796\":6.8,\"3797\":12.3,\"3798\":9.3,\"3799\":7.3,\"3800\":14.1,\"3801\":24.3,\"3802\":10.8,\"3803\":9.71,\"3804\":14.76,\"3805\":5.8,\"3806\":7.55,\"3807\":23.3,\"3808\":10.8,\"3809\":6.8,\"3810\":5.8,\"3811\":25.7,\"3812\":14.8,\"3813\":7.3,\"3814\":41.3,\"3815\":7.8,\"3816\":10.56,\"3817\":13.35,\"3818\":11.8,\"3819\":9.95,\"3820\":6.96,\"3821\":8.15,\"3822\":18.3,\"3823\":11.8,\"3824\":21.95,\"3825\":49.75,\"3826\":11.16,\"3827\":58.34,\"3828\":9.3,\"3829\":10.56,\"3830\":69.99,\"3831\":13.3,\"3832\":29.3,\"3833\":6.36,\"3834\":11.16,\"3835\":12.96,\"3836\":11.3,\"3837\":58.34,\"3838\":12.3,\"3839\":15.36,\"3840\":14.15,\"3841\":6.3,\"3842\":15.3,\"3843\":30.0,\"3844\":47.84,\"3845\":8.15,\"3846\":69.99,\"3847\":9.3,\"3848\":17.15,\"3849\":23.16,\"3850\":20.3,\"3851\":69.99,\"3852\":12.95,\"3853\":29.16,\"3854\":52.8,\"3855\":11.8,\"3856\":17.8,\"3857\":17.8,\"3858\":33.96,\"3859\":7.88,\"3860\":30.0,\"3861\":8.76,\"3862\":19.8,\"3863\":16.3,\"3864\":11.84,\"3865\":9.8,\"3866\":8.76,\"3867\":15.36,\"3868\":21.3,\"3869\":14.3,\"3870\":9.3,\"3871\":19.8,\"3872\":31.0,\"3873\":10.3,\"3874\":7.56,\"3875\":5.3,\"3876\":5.76,\"3877\":9.3,\"3878\":8.3,\"3879\":20.15,\"3880\":30.0,\"3881\":15.8,\"3882\":5.3,\"3883\":6.3,\"3884\":12.8,\"3885\":12.3,\"3886\":6.3,\"3887\":9.95,\"3888\":158.84,\"3889\":32.3,\"3890\":12.42,\"3891\":5.3,\"3892\":5.8,\"3893\":11.0,\"3894\":11.16,\"3895\":10.1,\"3896\":14.8,\"3897\":8.3,\"3898\":17.15,\"3899\":15.8,\"3900\":10.8,\"3901\":33.8,\"3902\":28.5,\"3903\":17.76,\"3904\":26.16,\"3905\":9.8,\"3906\":12.8,\"3907\":50.81,\"3908\":9.12,\"3909\":5.8,\"3910\":10.56,\"3911\":75.84,\"3912\":9.96,\"3913\":12.3,\"3914\":8.3,\"3915\":5.8,\"3916\":8.8,\"3917\":10.8,\"3918\":34.56,\"3919\":3.3,\"3920\":8.76,\"3921\":53.54,\"3922\":12.96,\"3923\":10.3,\"3924\":6.35,\"3925\":12.3,\"3926\":8.8,\"3927\":11.75,\"3928\":26.8,\"3929\":12.6,\"3930\":8.76,\"3931\":21.8,\"3932\":8.8,\"3933\":15.3,\"3934\":24.36,\"3935\":12.8,\"3936\":13.55,\"3937\":9.95,\"3938\":12.3,\"3939\":12.96,\"3940\":27.25,\"3941\":6.3,\"3942\":16.3,\"3943\":23.3,\"3944\":10.56,\"3945\":15.95,\"3946\":6.8,\"3947\":11.75,\"3948\":11.16,\"3949\":11.3,\"3950\":18.3,\"3951\":11.75,\"3952\":5.8,\"3953\":15.96,\"3954\":6.3,\"3955\":12.8,\"3956\":10.56,\"3957\":8.8,\"3958\":8.8,\"3959\":8.3,\"3960\":7.3,\"3961\":16.3,\"3962\":10.3,\"3963\":12.8,\"3964\":18.8,\"3965\":17.75,\"3966\":13.3,\"3967\":20.76,\"3968\":6.35,\"3969\":27.8,\"3970\":8.8,\"3971\":8.16,\"3972\":23.3,\"3973\":56.05,\"3974\":23.8,\"3975\":17.8,\"3976\":9.75,\"3977\":8.76,\"3978\":19.55,\"3979\":7.25,\"3980\":58.34,\"3981\":7.8,\"3982\":4.8,\"3983\":9.95,\"3984\":6.3,\"3985\":13.8,\"3986\":9.96,\"3987\":7.3,\"3988\":21.8,\"3989\":14.16,\"3990\":5.8,\"3991\":21.3,\"3992\":7.3,\"3993\":9.35,\"3994\":6.3,\"3995\":51.68,\"3996\":22.55,\"3997\":7.8,\"3998\":48.34,\"3999\":12.8,\"4000\":49.01,\"4001\":6.3,\"4002\":58.34,\"4003\":17.25,\"4004\":7.8,\"4005\":32.16,\"4006\":37.8,\"4007\":33.95,\"4008\":12.25,\"4009\":11.3,\"4010\":30.3,\"4011\":58.34,\"4012\":15.3,\"4013\":17.88,\"4014\":12.96,\"4015\":72.89,\"4016\":20.35,\"4017\":8.5,\"4018\":7.82,\"4019\":34.56,\"4020\":12.36,\"4021\":11.8,\"4022\":21.3,\"4023\":9.8,\"4024\":17.15,\"4025\":30.3,\"4026\":32.65,\"4027\":7.87,\"4028\":17.15,\"4029\":44.16,\"4030\":6.96,\"4031\":18.59,\"4032\":17.3,\"4033\":6.8,\"4034\":10.3,\"4035\":10.38,\"4036\":9.3,\"4037\":70.01,\"4038\":12.8,\"4039\":63.36,\"4040\":16.8,\"4041\":15.35,\"4042\":14.15,\"4043\":3.8,\"4044\":5.3,\"4045\":11.8,\"4046\":8.76,\"4047\":12.8,\"4048\":6.8,\"4049\":27.96,\"4050\":15.8,\"4051\":54.99,\"4052\":7.8,\"4053\":9.36,\"4054\":19.3,\"4055\":8.8,\"4056\":19.55,\"4057\":18.8,\"4058\":17.16,\"4059\":10.8,\"4060\":25.3,\"4061\":12.95,\"4062\":17.3,\"4063\":12.3,\"4064\":8.8,\"4065\":20.16,\"4066\":9.95,\"4067\":9.3,\"4068\":8.3,\"4069\":6.95,\"4070\":10.3,\"4071\":14.3,\"4072\":22.55,\"4073\":26.3,\"4074\":20.16,\"4075\":7.3,\"4076\":16.8,\"4077\":56.34,\"4078\":3.8,\"4079\":8.3,\"4080\":7.3,\"4081\":10.3,\"4082\":14.16,\"4083\":13.3,\"4084\":38.16,\"4085\":27.96,\"4086\":41.15,\"4087\":14.76,\"4088\":5.8,\"4089\":5.8,\"4090\":10.3,\"4091\":9.45,\"4092\":6.96,\"4093\":6.0,\"4094\":8.8,\"4095\":8.8,\"4096\":15.95,\"4097\":14.8,\"4098\":25.56,\"4099\":9.3,\"4100\":16.0,\"4101\":17.0,\"4102\":9.8,\"4103\":15.3,\"4104\":17.3,\"4105\":10.56,\"4106\":32.3,\"4107\":8.8,\"4108\":6.36,\"4109\":11.76,\"4110\":14.3,\"4111\":9.8,\"4112\":30.36,\"4113\":7.8,\"4114\":9.75,\"4115\":29.3,\"4116\":11.3,\"4117\":36.84,\"4118\":9.35,\"4119\":4.8,\"4120\":9.8,\"4121\":6.8,\"4122\":12.8,\"4123\":5.3,\"4124\":15.8,\"4125\":20.8,\"4126\":9.8,\"4127\":39.3,\"4128\":21.95,\"4129\":12.36,\"4130\":8.8,\"4131\":7.3,\"4132\":8.8,\"4133\":12.8,\"4134\":7.3,\"4135\":10.3,\"4136\":8.8,\"4137\":50.3,\"4138\":11.8,\"4139\":16.55,\"4140\":12.36,\"4141\":26.8,\"4142\":10.8,\"4143\":7.3,\"4144\":64.17,\"4145\":14.3,\"4146\":17.3,\"4147\":19.56,\"4148\":20.8,\"4149\":63.36,\"4150\":24.95,\"4151\":15.95,\"4152\":26.8,\"4153\":26.3,\"4154\":31.3,\"4155\":138.84,\"4156\":34.75,\"4157\":10.8,\"4158\":21.8,\"4159\":33.41,\"4160\":11.6,\"4161\":8.8,\"4162\":7.3,\"4163\":7.8,\"4164\":39.36,\"4165\":6.3,\"4166\":39.3,\"4167\":41.8,\"4168\":17.75,\"4169\":6.3,\"4170\":8.8,\"4171\":53.84,\"4172\":25.3,\"4173\":20.3,\"4174\":12.09,\"4175\":10.55,\"4176\":22.88,\"4177\":13.8,\"4178\":4.8,\"4179\":13.56,\"4180\":11.8,\"4181\":44.19,\"4182\":32.16,\"4183\":29.15,\"4184\":6.3,\"4185\":8.5,\"4186\":12.3,\"4187\":10.3,\"4188\":10.37,\"4189\":8.3,\"4190\":45.41,\"4191\":12.3,\"4192\":48.36,\"4193\":16.8,\"4194\":41.19,\"4195\":29.76,\"4196\":35.3,\"4197\":7.8,\"4198\":58.34,\"4199\":11.3,\"4200\":18.36,\"4201\":10.56,\"4202\":4.3,\"4203\":6.3,\"4204\":7.8,\"4205\":8.8,\"4206\":100.8,\"4207\":25.56,\"4208\":9.8,\"4209\":7.8,\"4210\":10.8,\"4211\":9.1,\"4212\":36.8,\"4213\":14.8,\"4214\":9.36,\"4215\":19.12,\"4216\":13.8,\"4217\":4.3,\"4218\":7.56,\"4219\":17.25,\"4220\":9.36,\"4221\":75.84,\"4222\":6.36,\"4223\":12.3,\"4224\":252.35,\"4225\":32.16,\"4226\":8.16,\"4227\":4.8,\"4228\":8.3,\"4229\":28.56,\"4230\":12.8,\"4231\":33.3,\"4232\":7.88,\"4233\":21.8,\"4234\":22.8,\"4235\":9.3,\"4236\":7.3,\"4237\":10.8,\"4238\":36.14,\"4239\":9.3,\"4240\":12.0,\"4241\":34.3,\"4242\":9.35,\"4243\":10.56,\"4244\":30.3,\"4245\":6.8,\"4246\":12.3,\"4247\":48.36,\"4248\":25.8,\"4249\":8.15,\"4250\":13.55,\"4251\":13.3,\"4252\":6.3,\"4253\":9.3,\"4254\":8.3,\"4255\":6.3,\"4256\":7.55,\"4257\":23.8,\"4258\":9.3,\"4259\":6.8,\"4260\":49.34,\"4261\":6.3,\"4262\":24.3,\"4263\":25.8,\"4264\":22.55,\"4265\":15.35,\"4266\":4.55,\"4267\":11.16,\"4268\":29.3,\"4269\":6.3,\"4270\":79.96,\"4271\":16.56,\"4272\":11.8,\"4273\":10.35,\"4274\":9.8,\"4275\":9.36,\"4276\":7.3,\"4277\":7.3,\"4278\":6.8,\"4279\":8.3,\"4280\":39.34,\"4281\":42.64,\"4282\":23.1,\"4283\":7.8,\"4284\":6.8,\"4285\":50.79,\"4286\":18.3,\"4287\":9.75,\"4288\":19.55,\"4289\":32.75,\"4290\":7.88,\"4291\":63.36,\"4292\":8.16,\"4293\":18.96,\"4294\":9.96,\"4295\":8.16,\"4296\":14.3,\"4297\":21.62,\"4298\":11.75,\"4299\":11.16,\"4300\":8.76,\"4301\":9.36,\"4302\":19.55,\"4303\":8.0,\"4304\":8.8,\"4305\":7.3,\"4306\":16.05,\"4307\":7.8,\"4308\":10.56,\"4309\":7.3,\"4310\":4.8,\"4311\":7.8,\"4312\":9.8,\"4313\":18.36,\"4314\":16.56,\"4315\":31.8,\"4316\":8.3,\"4317\":8.8,\"4318\":8.8,\"4319\":29.75,\"4320\":9.3,\"4321\":20.54,\"4322\":11.75,\"4323\":42.36,\"4324\":70.01,\"4325\":13.56,\"4326\":8.3,\"4327\":13.55,\"4328\":5.8,\"4329\":19.8,\"4330\":30.3,\"4331\":15.96,\"4332\":31.8,\"4333\":22.01,\"4334\":9.3,\"4335\":20.15,\"4336\":12.8,\"4337\":34.8,\"4338\":31.8,\"4339\":29.16,\"4340\":34.34,\"4341\":7.8,\"4342\":12.3,\"4343\":12.35,\"4344\":9.3,\"4345\":8.8,\"4346\":11.3,\"4347\":58.34,\"4348\":7.8,\"4349\":47.29,\"4350\":7.8,\"4351\":9.3,\"4352\":6.36,\"4353\":48.3,\"4354\":27.96,\"4355\":9.1,\"4356\":6.8,\"4357\":19.8,\"4358\":36.36,\"4359\":7.8,\"4360\":32.8,\"4361\":15.36,\"4362\":6.3,\"4363\":15.3,\"4364\":14.3,\"4365\":32.84,\"4366\":8.8,\"4367\":11.16,\"4368\":29.3,\"4369\":17.8,\"4370\":11.75,\"4371\":5.8,\"4372\":3.8,\"4373\":10.3,\"4374\":34.12,\"4375\":30.35,\"4376\":30.3,\"4377\":8.8,\"4378\":5.3,\"4379\":23.8,\"4380\":14.3,\"4381\":5.3,\"4382\":44.21,\"4383\":7.8,\"4384\":14.8,\"4385\":8.3,\"4386\":7.8,\"4387\":8.3,\"4388\":68.13,\"4389\":20.8,\"4390\":13.56,\"4391\":10.38,\"4392\":11.8,\"4393\":29.3,\"4394\":16.8,\"4395\":11.3,\"4396\":5.3,\"4397\":8.44,\"4398\":19.8,\"4399\":10.8,\"4400\":15.95,\"4401\":36.84,\"4402\":6.3,\"4403\":15.3,\"4404\":13.8,\"4405\":8.3,\"4406\":57.59,\"4407\":21.96,\"4408\":8.8,\"4409\":19.1,\"4410\":12.36,\"4411\":15.3,\"4412\":9.95,\"4413\":13.8,\"4414\":6.3,\"4415\":29.12,\"4416\":19.8,\"4417\":35.15,\"4418\":14.16,\"4419\":20.35,\"4420\":19.3,\"4421\":17.3,\"4422\":7.5,\"4423\":14.8,\"4424\":25.8,\"4425\":16.3,\"4426\":11.3,\"4427\":11.75,\"4428\":5.8,\"4429\":27.3,\"4430\":23.8,\"4431\":69.99,\"4432\":16.56,\"4433\":8.3,\"4434\":8.8,\"4435\":17.76,\"4436\":7.8,\"4437\":20.76,\"4438\":23.3,\"4439\":5.3,\"4440\":11.76,\"4441\":7.56,\"4442\":11.8,\"4443\":28.55,\"4444\":5.3,\"4445\":21.36,\"4446\":14.3,\"4447\":12.25,\"4448\":13.8,\"4449\":11.8,\"4450\":17.8,\"4451\":5.3,\"4452\":11.16,\"4453\":14.16,\"4454\":11.76,\"4455\":11.62,\"4456\":29.8,\"4457\":20.5,\"4458\":12.8,\"4459\":12.96,\"4460\":9.3,\"4461\":6.3,\"4462\":12.3,\"4463\":11.3,\"4464\":12.36,\"4465\":61.6,\"4466\":10.56,\"4467\":7.54,\"4468\":7.5,\"4469\":7.8,\"4470\":11.3,\"4471\":8.75,\"4472\":7.8,\"4473\":52.8,\"4474\":7.55,\"4475\":33.36,\"4476\":20.76,\"4477\":13.55,\"4478\":11.0,\"4479\":13.8,\"4480\":45.96,\"4481\":5.3,\"4482\":26.16,\"4483\":11.15,\"4484\":23.8,\"4485\":6.3,\"4486\":14.3,\"4487\":10.8,\"4488\":14.76,\"4489\":10.8,\"4490\":5.76,\"4491\":48.36,\"4492\":15.96,\"4493\":15.03,\"4494\":39.8,\"4495\":6.3,\"4496\":5.3,\"4497\":31.56,\"4498\":34.3,\"4499\":7.85,\"4500\":7.8,\"4501\":19.8,\"4502\":30.3,\"4503\":6.3,\"4504\":11.3,\"4505\":18.3,\"4506\":10.8,\"4507\":20.3,\"4508\":13.55,\"4509\":11.3,\"4510\":7.3,\"4511\":13.3,\"4512\":4.8,\"4513\":14.76,\"4514\":18.3,\"4515\":20.76,\"4516\":5.8,\"4517\":26.75,\"4518\":5.8,\"4519\":11.6,\"4520\":6.95,\"4521\":9.8,\"4522\":33.8,\"4523\":8.8,\"4524\":30.3,\"4525\":21.3,\"4526\":9.8,\"4527\":18.59,\"4528\":8.8,\"4529\":31.56,\"4530\":5.8,\"4531\":8.8,\"4532\":23.8,\"4533\":63.35,\"4534\":14.3,\"4535\":9.96,\"4536\":16.3,\"4537\":24.75,\"4538\":11.8,\"4539\":31.55,\"4540\":62.8,\"4541\":7.8,\"4542\":17.3,\"4543\":12.36,\"4544\":21.95,\"4545\":10.8,\"4546\":37.34,\"4547\":8.5,\"4548\":40.59,\"4549\":44.3,\"4550\":67.8,\"4551\":43.01,\"4552\":10.3,\"4553\":7.3,\"4554\":9.8,\"4555\":44.54,\"4556\":9.8,\"4557\":6.8,\"4558\":20.76,\"4559\":10.3,\"4560\":8.16,\"4561\":11.8,\"4562\":38.16,\"4563\":11.3,\"4564\":32.34,\"4565\":9.8,\"4566\":18.8,\"4567\":14.8,\"4568\":16.64,\"4569\":15.8,\"4570\":9.8,\"4571\":21.96,\"4572\":35.79,\"4573\":57.8,\"4574\":8.16,\"4575\":5.8,\"4576\":37.01,\"4577\":6.96,\"4578\":6.8,\"4579\":70.01,\"4580\":6.3,\"4581\":8.8,\"4582\":16.56,\"4583\":210.14,\"4584\":5.3,\"4585\":6.3,\"4586\":17.8,\"4587\":19.56,\"4588\":17.76,\"4589\":10.3,\"4590\":9.8,\"4591\":11.15,\"4592\":15.8,\"4593\":5.8,\"4594\":30.29,\"4595\":19.56,\"4596\":58.34,\"4597\":7.25,\"4598\":21.36,\"4599\":15.35,\"4600\":11.75,\"4601\":18.3,\"4602\":13.8,\"4603\":50.16,\"4604\":33.96,\"4605\":10.3,\"4606\":5.8,\"4607\":14.76,\"4608\":7.56,\"4609\":9.3,\"4610\":13.0,\"4611\":10.55,\"4612\":32.75,\"4613\":10.56,\"4614\":11.15,\"4615\":7.88,\"4616\":12.3,\"4617\":7.3,\"4618\":5.8,\"4619\":5.76,\"4620\":13.8,\"4621\":5.3,\"4622\":6.8,\"4623\":68.34,\"4624\":12.8,\"4625\":22.56,\"4626\":11.76,\"4627\":7.8,\"4628\":5.8,\"4629\":5.3,\"4630\":15.3,\"4631\":12.8,\"4632\":6.8,\"4633\":66.34,\"4634\":30.3,\"4635\":30.34,\"4636\":11.8,\"4637\":72.89,\"4638\":35.3,\"4639\":37.8,\"4640\":8.3,\"4641\":13.5,\"4642\":16.3,\"4643\":5.8,\"4644\":7.56,\"4645\":6.3,\"4646\":7.3,\"4647\":9.0,\"4648\":3.8,\"4649\":20.8,\"4650\":15.8,\"4651\":5.8,\"4652\":22.3,\"4653\":6.8,\"4654\":12.35,\"4655\":5.3,\"4656\":21.3,\"4657\":8.16,\"4658\":19.8,\"4659\":36.95,\"4660\":23.8,\"4661\":9.3,\"4662\":19.8,\"4663\":6.8,\"4664\":28.8,\"4665\":13.3,\"4666\":8.76,\"4667\":28.55,\"4668\":11.8,\"4669\":10.56,\"4670\":12.8,\"4671\":17.16,\"4672\":16.56,\"4673\":5.3,\"4674\":5.3,\"4675\":12.36,\"4676\":16.3,\"4677\":18.36,\"4678\":7.8,\"4679\":7.3,\"4680\":14.16,\"4681\":18.0,\"4682\":33.95,\"4683\":9.3,\"4684\":9.8,\"4685\":42.39,\"4686\":9.8,\"4687\":9.8,\"4688\":16.8,\"4689\":20.0,\"4690\":9.8,\"4691\":21.3,\"4692\":6.96,\"4693\":8.8,\"4694\":16.3,\"4695\":11.3,\"4696\":14.15,\"4697\":10.56,\"4698\":46.0,\"4699\":15.3,\"4700\":5.3,\"4701\":24.8,\"4702\":22.8,\"4703\":7.8,\"4704\":12.36,\"4705\":30.39,\"4706\":29.3,\"4707\":9.8,\"4708\":13.56,\"4709\":37.0,\"4710\":14.3,\"4711\":6.8,\"4712\":12.8,\"4713\":11.16,\"4714\":13.8,\"4715\":7.8,\"4716\":13.56,\"4717\":7.8,\"4718\":13.3,\"4719\":6.96,\"4720\":13.39,\"4721\":5.3,\"4722\":12.8,\"4723\":17.8,\"4724\":49.84,\"4725\":68.34,\"4726\":12.96,\"4727\":71.84,\"4728\":39.84,\"4729\":13.5,\"4730\":18.8,\"4731\":18.3,\"4732\":17.85,\"4733\":15.36,\"4734\":9.3,\"4735\":12.8,\"4736\":12.35,\"4737\":24.85,\"4738\":9.8,\"4739\":12.3,\"4740\":26.8,\"4741\":10.56,\"4742\":16.55,\"4743\":8.3,\"4744\":4.3,\"4745\":9.8,\"4746\":19.3,\"4747\":14.8,\"4748\":26.8,\"4749\":8.16,\"4750\":7.3,\"4751\":21.96,\"4752\":7.3,\"4753\":11.3,\"4754\":10.7,\"4755\":4.8,\"4756\":21.0,\"4757\":24.36,\"4758\":14.3,\"4759\":6.8,\"4760\":18.95,\"4761\":5.8,\"4762\":15.8,\"4763\":27.36,\"4764\":9.36,\"4765\":11.16,\"4766\":10.1,\"4767\":18.5,\"4768\":9.3,\"4769\":5.3,\"4770\":11.3,\"4771\":58.61,\"4772\":7.8,\"4773\":6.8,\"4774\":8.8,\"4775\":54.4,\"4776\":6.3,\"4777\":14.75,\"4778\":16.8,\"4779\":20.54,\"4780\":16.3,\"4781\":11.76,\"4782\":11.76,\"4783\":10.3,\"4784\":17.8,\"4785\":20.3,\"4786\":15.3,\"4787\":12.36,\"4788\":11.3,\"4789\":29.8,\"4790\":7.8,\"4791\":8.8,\"4792\":24.3,\"4793\":10.4,\"4794\":4.8,\"4795\":13.3,\"4796\":8.3,\"4797\":11.3,\"4798\":11.62,\"4799\":8.8,\"4800\":5.8,\"4801\":10.56,\"4802\":8.3,\"4803\":7.3,\"4804\":13.8,\"4805\":15.96,\"4806\":11.76,\"4807\":8.16,\"4808\":3.3,\"4809\":18.3,\"4810\":13.3,\"4811\":8.3,\"4812\":11.3,\"4813\":17.15,\"4814\":6.96,\"4815\":22.55,\"4816\":5.3,\"4817\":14.15,\"4818\":29.75,\"4819\":5.8,\"4820\":6.8,\"4821\":40.61,\"4822\":36.88,\"4823\":21.96,\"4824\":18.8,\"4825\":20.3,\"4826\":7.3,\"4827\":12.3,\"4828\":12.95,\"4829\":13.56,\"4830\":5.8,\"4831\":24.3,\"4832\":8.75,\"4833\":18.55,\"4834\":21.36,\"4835\":16.6,\"4836\":8.16,\"4837\":8.3,\"4838\":7.25,\"4839\":12.96,\"4840\":12.3,\"4841\":20.3,\"4842\":7.3,\"4843\":26.3,\"4844\":12.95,\"4845\":18.3,\"4846\":20.15,\"4847\":19.8,\"4848\":9.3,\"4849\":5.3,\"4850\":10.3,\"4851\":10.8,\"4852\":11.3,\"4853\":13.5,\"4854\":13.8,\"4855\":17.3,\"4856\":11.0,\"4857\":8.3,\"4858\":14.8,\"4859\":7.8,\"4860\":6.8,\"4861\":10.3,\"4862\":11.3,\"4863\":9.8,\"4864\":32.8,\"4865\":10.55,\"4866\":11.3,\"4867\":13.3,\"4868\":21.8,\"4869\":18.95,\"4870\":12.95,\"4871\":9.3,\"4872\":6.8,\"4873\":29.75,\"4874\":6.8,\"4875\":6.3,\"4876\":7.3,\"4877\":39.0,\"4878\":6.35,\"4879\":39.36,\"4880\":29.76,\"4881\":27.36,\"4882\":12.3,\"4883\":13.0,\"4884\":8.15,\"4885\":9.36,\"4886\":9.8,\"4887\":33.36,\"4888\":7.3,\"4889\":4.8,\"4890\":10.3,\"4891\":9.35,\"4892\":6.2,\"4893\":7.3,\"4894\":16.64,\"4895\":11.8,\"4896\":5.16,\"4897\":11.15,\"4898\":84.66,\"4899\":8.3,\"4900\":7.3,\"4901\":18.8,\"4902\":8.75,\"4903\":6.3,\"4904\":17.8,\"4905\":6.55,\"4906\":6.8,\"4907\":6.96,\"4908\":7.54,\"4909\":11.8,\"4910\":12.35,\"4911\":8.3,\"4912\":5.3,\"4913\":22.3,\"4914\":11.8,\"4915\":18.96,\"4916\":7.8,\"4917\":9.35,\"4918\":23.76,\"4919\":13.3,\"4920\":9.3,\"4921\":7.3,\"4922\":7.8,\"4923\":42.39,\"4924\":70.01,\"4925\":8.15,\"4926\":17.76,\"4927\":17.29,\"4928\":11.6,\"4929\":58.34,\"4930\":14.3,\"4931\":5.8,\"4932\":7.8,\"4933\":9.95,\"4934\":10.3,\"4935\":7.8,\"4936\":10.8,\"4937\":6.3,\"4938\":14.8,\"4939\":19.75,\"4940\":9.3,\"4941\":15.8,\"4942\":15.96,\"4943\":9.36,\"4944\":6.36,\"4945\":10.55,\"4946\":6.3,\"4947\":47.89,\"4948\":16.3,\"4949\":8.76,\"4950\":10.8,\"4951\":18.95,\"4952\":7.56,\"4953\":14.76,\"4954\":17.8,\"4955\":4.8,\"4956\":11.15,\"4957\":13.8,\"4958\":39.8,\"4959\":14.3,\"4960\":7.8,\"4961\":12.3,\"4962\":9.75,\"4963\":17.25,\"4964\":15.3,\"4965\":6.89,\"4966\":21.8,\"4967\":11.15,\"4968\":19.8,\"4969\":9.36,\"4970\":14.16,\"4971\":7.8,\"4972\":48.34,\"4973\":11.3,\"4974\":12.8,\"4975\":17.16,\"4976\":13.4,\"4977\":23.8,\"4978\":17.25,\"4979\":10.3,\"4980\":24.8,\"4981\":7.3,\"4982\":27.96,\"4983\":6.8,\"4984\":26.8,\"4985\":9.8,\"4986\":14.75,\"4987\":13.8,\"4988\":9.36,\"4989\":14.3,\"4990\":13.3,\"4991\":10.3,\"4992\":18.96,\"4993\":11.15,\"4994\":20.3,\"4995\":24.3,\"4996\":7.56,\"4997\":12.3,\"4998\":24.34,\"4999\":9.35,\"5000\":30.9,\"5001\":14.8,\"5002\":6.8,\"5003\":18.36,\"5004\":11.8,\"5005\":21.8,\"5006\":9.8,\"5007\":14.8,\"5008\":11.8,\"5009\":8.16,\"5010\":17.25,\"5011\":9.3,\"5012\":29.8,\"5013\":39.12,\"5014\":26.3,\"5015\":64.61,\"5016\":9.8,\"5017\":6.4,\"5018\":19.3,\"5019\":10.3,\"5020\":18.59,\"5021\":5.8,\"5022\":16.55,\"5023\":18.36,\"5024\":11.0,\"5025\":34.3,\"5026\":7.55,\"5027\":9.36,\"5028\":72.92,\"5029\":69.99,\"5030\":92.45,\"5031\":16.3,\"5032\":12.85,\"5033\":18.8,\"5034\":7.8,\"5035\":25.3,\"5036\":10.56,\"5037\":7.8,\"5038\":18.36,\"5039\":8.8,\"5040\":23.75,\"5041\":12.3,\"5042\":62.21,\"5043\":28.5,\"5044\":8.8,\"5045\":3.3,\"5046\":7.56,\"5047\":16.3,\"5048\":9.36,\"5049\":17.8,\"5050\":9.8,\"5051\":14.8,\"5052\":4.3,\"5053\":12.3,\"5054\":27.85,\"5055\":7.8,\"5056\":9.3,\"5057\":13.3,\"5058\":12.8,\"5059\":15.35,\"5060\":23.8,\"5061\":16.8,\"5062\":48.41,\"5063\":32.75,\"5064\":20.54,\"5065\":10.3,\"5066\":30.3,\"5067\":26.0,\"5068\":6.95,\"5069\":4.37,\"5070\":4.3,\"5071\":12.3,\"5072\":16.3,\"5073\":46.84,\"5074\":32.16,\"5075\":10.56,\"5076\":4.3,\"5077\":24.36,\"5078\":7.3,\"5079\":5.3,\"5080\":18.36,\"5081\":15.3,\"5082\":11.3,\"5083\":18.35,\"5084\":20.8,\"5085\":70.01,\"5086\":16.8,\"5087\":3.3,\"5088\":11.44,\"5089\":20.3,\"5090\":18.3,\"5091\":12.36,\"5092\":8.5,\"5093\":18.8,\"5094\":9.36,\"5095\":59.59,\"5096\":48.55,\"5097\":14.75,\"5098\":24.8,\"5099\":70.01,\"5100\":7.8,\"5101\":20.3,\"5102\":10.12,\"5103\":11.8,\"5104\":97.57,\"5105\":14.3,\"5106\":24.96,\"5107\":71.21,\"5108\":37.56,\"5109\":17.15,\"5110\":6.8,\"5111\":10.3,\"5112\":20.15,\"5113\":58.34,\"5114\":4.8,\"5115\":26.8,\"5116\":8.3,\"5117\":8.3,\"5118\":8.6,\"5119\":14.3,\"5120\":6.3,\"5121\":7.8,\"5122\":9.96,\"5123\":8.3,\"5124\":16.55,\"5125\":13.8,\"5126\":8.3,\"5127\":29.76,\"5128\":36.84,\"5129\":14.8,\"5130\":14.8,\"5131\":7.8,\"5132\":17.3,\"5133\":16.3,\"5134\":15.96,\"5135\":9.8,\"5136\":9.49,\"5137\":16.8,\"5138\":10.3,\"5139\":12.3,\"5140\":39.34,\"5141\":13.8,\"5142\":28.8,\"5143\":40.84,\"5144\":51.41,\"5145\":8.3,\"5146\":14.3,\"5147\":9.36,\"5148\":9.8,\"5149\":38.81,\"5150\":5.8,\"5151\":12.8,\"5152\":35.34,\"5153\":12.3,\"5154\":14.16,\"5155\":13.3,\"5156\":11.16,\"5157\":27.8,\"5158\":49.98,\"5159\":50.34,\"5160\":24.4,\"5161\":8.5,\"5162\":12.36,\"5163\":23.16,\"5164\":15.8,\"5165\":17.76,\"5166\":17.16,\"5167\":8.3,\"5168\":37.8,\"5169\":17.3,\"5170\":12.96,\"5171\":16.8,\"5172\":10.8,\"5173\":10.3,\"5174\":49.3,\"5175\":59.19,\"5176\":12.8,\"5177\":11.3,\"5178\":8.8,\"5179\":20.3,\"5180\":12.25,\"5181\":26.6,\"5182\":6.3,\"5183\":9.36,\"5184\":5.8,\"5185\":58.34,\"5186\":5.76,\"5187\":16.55,\"5188\":69.99,\"5189\":7.8,\"5190\":9.3,\"5191\":4.8,\"5192\":7.8,\"5193\":13.8,\"5194\":26.16,\"5195\":10.8,\"5196\":11.15,\"5197\":10.56,\"5198\":20.8,\"5199\":15.3,\"5200\":23.15,\"5201\":9.96,\"5202\":8.76,\"5203\":7.8,\"5204\":20.8,\"5205\":16.56,\"5206\":18.8,\"5207\":9.8,\"5208\":15.95,\"5209\":5.8,\"5210\":58.34,\"5211\":14.3,\"5212\":10.55,\"5213\":71.76,\"5214\":11.16,\"5215\":8.3,\"5216\":13.56,\"5217\":14.8,\"5218\":17.16,\"5219\":23.5,\"5220\":6.8,\"5221\":5.8,\"5222\":10.3,\"5223\":30.35,\"5224\":5.3,\"5225\":48.54,\"5226\":5.8,\"5227\":6.3,\"5228\":12.3,\"5229\":47.21,\"5230\":14.8,\"5231\":12.74,\"5232\":11.6,\"5233\":7.56,\"5234\":11.75,\"5235\":9.3,\"5236\":26.8,\"5237\":9.3,\"5238\":11.85,\"5239\":9.36,\"5240\":8.16,\"5241\":20.3,\"5242\":19.8,\"5243\":10.8,\"5244\":5.3,\"5245\":15.8,\"5246\":17.3,\"5247\":15.3,\"5248\":7.8,\"5249\":14.76,\"5250\":7.3,\"5251\":18.5,\"5252\":8.15,\"5253\":11.8,\"5254\":14.1,\"5255\":5.3,\"5256\":7.8,\"5257\":54.84,\"5258\":11.8,\"5259\":15.96,\"5260\":12.8,\"5261\":8.3,\"5262\":13.55,\"5263\":8.3,\"5264\":16.3,\"5265\":14.3,\"5266\":18.5,\"5267\":40.04,\"5268\":19.1,\"5269\":5.3,\"5270\":9.36,\"5271\":18.55,\"5272\":13.3,\"5273\":8.3,\"5274\":48.41,\"5275\":12.8,\"5276\":47.3,\"5277\":14.3,\"5278\":13.8,\"5279\":5.8,\"5280\":20.8,\"5281\":8.19,\"5282\":12.8,\"5283\":23.16,\"5284\":18.8,\"5285\":46.56,\"5286\":9.35,\"5287\":26.76,\"5288\":41.3,\"5289\":13.8,\"5290\":23.8,\"5291\":5.3,\"5292\":10.79,\"5293\":33.8,\"5294\":10.3,\"5295\":8.76,\"5296\":17.75,\"5297\":6.3,\"5298\":24.95,\"5299\":8.8,\"5300\":59.34,\"5301\":5.8,\"5302\":56.34,\"5303\":6.8,\"5304\":9.8,\"5305\":24.3,\"5306\":32.8,\"5307\":14.8,\"5308\":9.96,\"5309\":5.75,\"5310\":25.3,\"5311\":16.6,\"5312\":29.16,\"5313\":17.15,\"5314\":6.36,\"5315\":13.3,\"5316\":12.96,\"5317\":6.8,\"5318\":13.8,\"5319\":24.96,\"5320\":16.3,\"5321\":20.3,\"5322\":24.3,\"5323\":9.75,\"5324\":14.8,\"5325\":9.36,\"5326\":10.3,\"5327\":19.12,\"5328\":19.8,\"5329\":9.36,\"5330\":9.3,\"5331\":7.3,\"5332\":53.34,\"5333\":14.3,\"5334\":18.95,\"5335\":65.25,\"5336\":12.36,\"5337\":16.8,\"5338\":10.56,\"5339\":73.0,\"5340\":9.35,\"5341\":7.55,\"5342\":13.56,\"5343\":11.8,\"5344\":16.8,\"5345\":18.96,\"5346\":20.3,\"5347\":10.8,\"5348\":30.95,\"5349\":44.81,\"5350\":12.3,\"5351\":7.3,\"5352\":52.8,\"5353\":65.81,\"5354\":50.84,\"5355\":8.76,\"5356\":5.76,\"5357\":15.3,\"5358\":58.55,\"5359\":20.8,\"5360\":11.8,\"5361\":6.3,\"5362\":16.3,\"5363\":9.3,\"5364\":8.15,\"5365\":18.3,\"5366\":14.82,\"5367\":14.12,\"5368\":5.3,\"5369\":9.8,\"5370\":4.3,\"5371\":13.8,\"5372\":11.8,\"5373\":11.8,\"5374\":15.8,\"5375\":7.3,\"5376\":5.8,\"5377\":8.3,\"5378\":24.12,\"5379\":21.6,\"5380\":11.3,\"5381\":10.3,\"5382\":19.8,\"5383\":7.8,\"5384\":35.8,\"5385\":8.8,\"5386\":18.36,\"5387\":20.8,\"5388\":8.76,\"5389\":93.8,\"5390\":11.8,\"5391\":9.8,\"5392\":58.29,\"5393\":12.3,\"5394\":8.55,\"5395\":22.6,\"5396\":41.3,\"5397\":21.3,\"5398\":29.75,\"5399\":8.76,\"5400\":11.8,\"5401\":24.36,\"5402\":6.3,\"5403\":4.8,\"5404\":70.01,\"5405\":19.24,\"5406\":11.8,\"5407\":11.75,\"5408\":6.3,\"5409\":8.8,\"5410\":57.34,\"5411\":20.0,\"5412\":6.8,\"5413\":8.8,\"5414\":6.3,\"5415\":20.3,\"5416\":64.56,\"5417\":16.8,\"5418\":14.16,\"5419\":52.8,\"5420\":8.15,\"5421\":15.3,\"5422\":6.35,\"5423\":5.8,\"5424\":63.36,\"5425\":10.8,\"5426\":7.56,\"5427\":66.99,\"5428\":6.3,\"5429\":6.0,\"5430\":17.15,\"5431\":9.96,\"5432\":24.36,\"5433\":58.34,\"5434\":5.3,\"5435\":12.3,\"5436\":25.8,\"5437\":12.36,\"5438\":5.8,\"5439\":11.16,\"5440\":14.16,\"5441\":19.55,\"5442\":6.3,\"5443\":24.3,\"5444\":9.3,\"5445\":6.3,\"5446\":26.8,\"5447\":35.3,\"5448\":20.8,\"5449\":9.75,\"5450\":14.8,\"5451\":7.8,\"5452\":24.3,\"5453\":14.75,\"5454\":13.8,\"5455\":10.3,\"5456\":37.5,\"5457\":9.3,\"5458\":9.3,\"5459\":19.81,\"5460\":7.8,\"5461\":22.3,\"5462\":24.36,\"5463\":9.8,\"5464\":7.85,\"5465\":11.16,\"5466\":14.3,\"5467\":10.56,\"5468\":19.3,\"5469\":20.15,\"5470\":137.59,\"5471\":29.76,\"5472\":8.3,\"5473\":8.8,\"5474\":5.8,\"5475\":9.8,\"5476\":53.34,\"5477\":9.3,\"5478\":9.3,\"5479\":5.8,\"5480\":47.81,\"5481\":19.8,\"5482\":52.01,\"5483\":24.35,\"5484\":10.8,\"5485\":43.3,\"5486\":12.7,\"5487\":45.84,\"5488\":19.8,\"5489\":7.3,\"5490\":5.8,\"5491\":14.3,\"5492\":14.16,\"5493\":15.35,\"5494\":12.8,\"5495\":7.8,\"5496\":57.84,\"5497\":24.95,\"5498\":8.8,\"5499\":11.0,\"5500\":6.8,\"5501\":15.3,\"5502\":7.54,\"5503\":19.55,\"5504\":4.3,\"5505\":8.76,\"5506\":9.35,\"5507\":9.3,\"5508\":12.3,\"5509\":6.8,\"5510\":14.0,\"5511\":8.16,\"5512\":6.3,\"5513\":10.3,\"5514\":8.3,\"5515\":6.3,\"5516\":58.34,\"5517\":4.8,\"5518\":15.55,\"5519\":9.8,\"5520\":11.8,\"5521\":14.8,\"5522\":5.8,\"5523\":6.3,\"5524\":35.3,\"5525\":9.36,\"5526\":12.3,\"5527\":15.96,\"5528\":12.85,\"5529\":14.15,\"5530\":10.3,\"5531\":9.35,\"5532\":9.36,\"5533\":15.96,\"5534\":5.8,\"5535\":64.17,\"5536\":58.34,\"5537\":9.8,\"5538\":4.8,\"5539\":9.12,\"5540\":6.8,\"5541\":9.55,\"5542\":13.3,\"5543\":11.3,\"5544\":41.34,\"5545\":8.8,\"5546\":8.16,\"5547\":18.3,\"5548\":23.8,\"5549\":8.16,\"5550\":13.3,\"5551\":18.8,\"5552\":6.8,\"5553\":6.36,\"5554\":17.16,\"5555\":11.0,\"5556\":10.3,\"5557\":14.76,\"5558\":3.3,\"5559\":10.3,\"5560\":15.8,\"5561\":16.3,\"5562\":88.34,\"5563\":10.56,\"5564\":10.55,\"5565\":9.95,\"5566\":12.8,\"5567\":7.8,\"5568\":8.75,\"5569\":15.3,\"5570\":12.96,\"5571\":10.8,\"5572\":13.8,\"5573\":10.8,\"5574\":21.96,\"5575\":58.34,\"5576\":8.75,\"5577\":16.8,\"5578\":16.55,\"5579\":3.8,\"5580\":9.3,\"5581\":10.8,\"5582\":16.8,\"5583\":5.75,\"5584\":15.95,\"5585\":9.3,\"5586\":7.25,\"5587\":6.3,\"5588\":7.3,\"5589\":8.3,\"5590\":5.8,\"5591\":14.3,\"5592\":38.84,\"5593\":18.96,\"5594\":50.34,\"5595\":9.3,\"5596\":41.8,\"5597\":13.3,\"5598\":13.3,\"5599\":9.3,\"5600\":10.8,\"5601\":10.3,\"5602\":51.34,\"5603\":7.8,\"5604\":10.75,\"5605\":14.1,\"5606\":17.76,\"5607\":7.3,\"5608\":15.8,\"5609\":5.8,\"5610\":14.76,\"5611\":6.95,\"5612\":7.3,\"5613\":6.3,\"5614\":4.8,\"5615\":9.3,\"5616\":40.84,\"5617\":22.8,\"5618\":8.8,\"5619\":14.8,\"5620\":35.84,\"5621\":51.41,\"5622\":17.3,\"5623\":6.3,\"5624\":6.3,\"5625\":8.15,\"5626\":15.3,\"5627\":65.84,\"5628\":19.55,\"5629\":70.34,\"5630\":7.8,\"5631\":63.36,\"5632\":9.36,\"5633\":8.8,\"5634\":53.76,\"5635\":4.8,\"5636\":47.75,\"5637\":9.12,\"5638\":7.55,\"5639\":10.55,\"5640\":7.8,\"5641\":14.8,\"5642\":14.8,\"5643\":9.3,\"5644\":7.55,\"5645\":11.16,\"5646\":27.25,\"5647\":31.0,\"5648\":16.55,\"5649\":7.8,\"5650\":66.0,\"5651\":15.3,\"5652\":12.95,\"5653\":47.2,\"5654\":33.5,\"5655\":10.55,\"5656\":12.85,\"5657\":19.3,\"5658\":12.42,\"5659\":6.0,\"5660\":7.8,\"5661\":46.01,\"5662\":52.8,\"5663\":13.3,\"5664\":6.96,\"5665\":5.76,\"5666\":9.3,\"5667\":9.8,\"5668\":9.8,\"5669\":7.3,\"5670\":67.01,\"5671\":22.8,\"5672\":6.8,\"5673\":11.8,\"5674\":8.8,\"5675\":9.36,\"5676\":49.34,\"5677\":15.8,\"5678\":10.8,\"5679\":9.8,\"5680\":7.8,\"5681\":12.25,\"5682\":17.75,\"5683\":13.3,\"5684\":20.3,\"5685\":8.16,\"5686\":9.8,\"5687\":14.8,\"5688\":7.3,\"5689\":12.95,\"5690\":18.8,\"5691\":12.85,\"5692\":22.88,\"5693\":52.92,\"5694\":10.3,\"5695\":8.3,\"5696\":10.55,\"5697\":4.8,\"5698\":9.8,\"5699\":17.88,\"5700\":14.8,\"5701\":12.36,\"5702\":14.16,\"5703\":13.8,\"5704\":12.7,\"5705\":21.36,\"5706\":30.96,\"5707\":21.3,\"5708\":14.76,\"5709\":5.5,\"5710\":17.16,\"5711\":17.76,\"5712\":11.8,\"5713\":15.96,\"5714\":11.16,\"5715\":12.8,\"5716\":7.8,\"5717\":11.8,\"5718\":102.66,\"5719\":-7.8,\"5720\":8.76,\"5721\":23.3,\"5722\":49.01,\"5723\":7.56,\"5724\":14.3,\"5725\":10.3,\"5726\":8.76,\"5727\":16.8,\"5728\":9.36,\"5729\":15.3,\"5730\":8.75,\"5731\":52.8,\"5732\":9.3,\"5733\":10.8,\"5734\":17.8,\"5735\":21.3,\"5736\":11.3,\"5737\":6.3,\"5738\":32.75,\"5739\":9.8,\"5740\":19.3,\"5741\":11.3,\"5742\":7.3,\"5743\":10.56,\"5744\":11.75,\"5745\":26.8,\"5746\":22.88,\"5747\":16.3,\"5748\":70.01,\"5749\":5.3,\"5750\":9.36,\"5751\":7.3,\"5752\":11.16,\"5753\":50.21,\"5754\":11.3,\"5755\":21.8,\"5756\":20.3,\"5757\":8.3,\"5758\":12.36,\"5759\":16.8,\"5760\":38.81,\"5761\":7.8,\"5762\":18.8,\"5763\":11.3,\"5764\":12.8,\"5765\":16.8,\"5766\":15.8,\"5767\":17.25,\"5768\":8.3,\"5769\":5.3,\"5770\":16.8,\"5771\":6.3,\"5772\":30.35,\"5773\":23.0,\"5774\":7.54,\"5775\":7.8,\"5776\":9.8,\"5777\":14.75,\"5778\":20.76,\"5779\":6.3,\"5780\":14.3,\"5781\":13.3,\"5782\":12.3,\"5783\":11.76,\"5784\":56.21,\"5785\":5.75,\"5786\":58.34,\"5787\":13.3,\"5788\":13.8,\"5789\":10.8,\"5790\":13.3,\"5791\":11.3,\"5792\":22.3,\"5793\":16.8,\"5794\":8.8,\"5795\":6.95,\"5796\":13.55,\"5797\":23.5,\"5798\":3.8,\"5799\":11.75,\"5800\":11.8,\"5801\":16.8,\"5802\":7.3,\"5803\":27.35,\"5804\":44.19,\"5805\":14.76,\"5806\":14.8,\"5807\":28.8,\"5808\":7.43,\"5809\":6.3,\"5810\":5.3,\"5811\":5.3,\"5812\":10.3,\"5813\":22.3,\"5814\":30.94,\"5815\":12.8,\"5816\":6.8,\"5817\":15.3,\"5818\":10.56,\"5819\":8.8,\"5820\":17.16,\"5821\":10.8,\"5822\":11.75,\"5823\":12.8,\"5824\":13.8,\"5825\":13.8,\"5826\":58.34,\"5827\":33.5,\"5828\":51.0,\"5829\":15.8,\"5830\":13.8,\"5831\":14.8,\"5832\":12.3,\"5833\":4.8,\"5834\":8.3,\"5835\":31.55,\"5836\":14.15,\"5837\":9.8,\"5838\":27.36,\"5839\":6.35,\"5840\":11.62,\"5841\":25.3,\"5842\":12.3,\"5843\":18.36,\"5844\":10.3,\"5845\":7.55,\"5846\":12.3,\"5847\":8.8,\"5848\":13.3,\"5849\":20.3,\"5850\":70.01,\"5851\":4.8,\"5852\":22.56,\"5853\":9.3,\"5854\":6.55,\"5855\":18.3,\"5856\":16.8,\"5857\":8.8,\"5858\":6.8,\"5859\":126.36,\"5860\":19.75,\"5861\":6.3,\"5862\":10.3,\"5863\":34.3,\"5864\":19.56,\"5865\":12.35,\"5866\":6.8,\"5867\":8.8,\"5868\":9.3,\"5869\":10.8,\"5870\":12.95,\"5871\":23.8,\"5872\":9.12,\"5873\":14.76,\"5874\":72.84,\"5875\":17.3,\"5876\":16.3,\"5877\":12.36,\"5878\":9.3,\"5879\":11.8,\"5880\":6.8,\"5881\":6.3,\"5882\":16.55,\"5883\":7.8,\"5884\":14.76,\"5885\":18.96,\"5886\":15.3,\"5887\":56.34,\"5888\":8.3,\"5889\":8.5,\"5890\":7.85,\"5891\":10.8,\"5892\":12.96,\"5893\":25.3,\"5894\":9.8,\"5895\":9.36,\"5896\":52.8,\"5897\":15.3,\"5898\":58.34,\"5899\":50.84,\"5900\":17.8,\"5901\":45.8,\"5902\":15.95,\"5903\":13.3,\"5904\":8.3,\"5905\":5.8,\"5906\":8.8,\"5907\":17.3,\"5908\":7.8,\"5909\":9.8,\"5910\":6.96,\"5911\":39.99,\"5912\":19.55,\"5913\":12.36,\"5914\":7.0,\"5915\":23.16,\"5916\":23.8,\"5917\":4.3,\"5918\":14.3,\"5919\":7.8,\"5920\":23.3,\"5921\":15.96,\"5922\":12.8,\"5923\":26.15,\"5924\":18.8,\"5925\":5.8,\"5926\":17.0,\"5927\":63.36,\"5928\":12.8,\"5929\":15.3,\"5930\":32.3,\"5931\":10.3,\"5932\":16.3,\"5933\":7.88,\"5934\":10.8,\"5935\":15.8,\"5936\":26.0,\"5937\":10.3,\"5938\":7.8,\"5939\":13.3,\"5940\":8.5,\"5941\":25.8,\"5942\":12.3,\"5943\":6.0,\"5944\":23.16,\"5945\":18.8,\"5946\":12.36,\"5947\":8.76,\"5948\":7.8,\"5949\":22.3,\"5950\":12.88,\"5951\":16.3,\"5952\":27.3,\"5953\":18.36,\"5954\":52.89,\"5955\":22.55,\"5956\":21.3,\"5957\":14.65,\"5958\":35.84,\"5959\":58.34,\"5960\":9.8,\"5961\":13.3,\"5962\":4.55,\"5963\":14.8,\"5964\":20.15,\"5965\":13.56,\"5966\":5.8,\"5967\":7.3,\"5968\":17.94,\"5969\":12.3,\"5970\":15.8,\"5971\":6.8,\"5972\":5.3,\"5973\":37.56,\"5974\":12.85,\"5975\":18.3,\"5976\":26.76,\"5977\":15.3,\"5978\":5.3,\"5979\":20.8,\"5980\":5.8,\"5981\":14.16,\"5982\":18.8,\"5983\":5.3,\"5984\":24.3,\"5985\":15.3,\"5986\":11.8,\"5987\":10.56,\"5988\":5.8,\"5989\":9.36,\"5990\":12.8,\"5991\":23.8,\"5992\":8.3,\"5993\":22.3,\"5994\":10.55,\"5995\":33.35,\"5996\":69.99,\"5997\":39.99,\"5998\":8.3,\"5999\":10.56,\"6000\":19.1,\"6001\":24.3,\"6002\":12.3,\"6003\":9.96,\"6004\":17.75,\"6005\":31.62,\"6006\":14.8,\"6007\":7.55,\"6008\":10.3,\"6009\":15.3,\"6010\":63.36,\"6011\":12.8,\"6012\":59.34,\"6013\":8.3,\"6014\":17.8,\"6015\":10.3,\"6016\":51.99,\"6017\":9.36,\"6018\":9.8,\"6019\":9.3,\"6020\":15.8,\"6021\":18.8,\"6022\":6.8,\"6023\":17.25,\"6024\":4.8,\"6025\":14.3,\"6026\":57.41,\"6027\":9.95,\"6028\":16.8,\"6029\":25.8,\"6030\":46.3,\"6031\":21.8,\"6032\":17.76,\"6033\":13.8,\"6034\":20.76,\"6035\":8.84,\"6036\":12.35,\"6037\":45.84,\"6038\":6.8,\"6039\":6.8,\"6040\":16.56,\"6041\":16.8,\"6042\":11.15,\"6043\":15.35,\"6044\":27.36,\"6045\":10.55,\"6046\":11.8,\"6047\":20.3,\"6048\":69.99,\"6049\":8.76,\"6050\":48.84,\"6051\":37.92,\"6052\":16.8,\"6053\":16.8,\"6054\":53.84,\"6055\":4.8,\"6056\":10.8,\"6057\":20.8,\"6058\":27.3,\"6059\":5.8,\"6060\":10.3,\"6061\":16.6,\"6062\":16.3,\"6063\":13.8,\"6064\":4.8,\"6065\":7.56,\"6066\":61.59,\"6067\":5.8,\"6068\":17.16,\"6069\":15.95,\"6070\":6.3,\"6071\":18.8,\"6072\":18.96,\"6073\":19.3,\"6074\":6.3,\"6075\":12.35,\"6076\":9.3,\"6077\":11.8,\"6078\":25.74,\"6079\":6.8,\"6080\":15.8,\"6081\":5.3,\"6082\":70.01,\"6083\":52.8,\"6084\":15.96,\"6085\":11.3,\"6086\":6.0,\"6087\":12.8,\"6088\":25.3,\"6089\":35.79,\"6090\":5.8,\"6091\":8.8,\"6092\":9.35,\"6093\":66.0,\"6094\":11.76,\"6095\":9.3,\"6096\":17.76,\"6097\":13.3,\"6098\":12.96,\"6099\":29.75,\"6100\":10.56,\"6101\":64.34,\"6102\":12.3,\"6103\":13.56,\"6104\":11.16,\"6105\":12.96,\"6106\":27.96,\"6107\":7.54,\"6108\":18.3,\"6109\":16.0,\"6110\":8.8,\"6111\":8.8,\"6112\":63.34,\"6113\":3.8,\"6114\":7.3,\"6115\":6.8,\"6116\":6.8,\"6117\":20.16,\"6118\":42.34,\"6119\":13.8,\"6120\":16.55,\"6121\":13.3,\"6122\":10.56,\"6123\":9.75,\"6124\":14.04,\"6125\":73.55,\"6126\":6.3,\"6127\":70.01,\"6128\":23.16,\"6129\":10.3,\"6130\":5.8,\"6131\":6.36,\"6132\":12.8,\"6133\":7.8,\"6134\":49.61,\"6135\":5.8,\"6136\":13.3,\"6137\":8.8,\"6138\":11.8,\"6139\":21.36,\"6140\":6.8,\"6141\":10.3,\"6142\":12.96,\"6143\":7.0,\"6144\":13.56,\"6145\":77.34,\"6146\":20.3,\"6147\":7.05,\"6148\":25.3,\"6149\":8.8,\"6150\":9.95,\"6151\":10.8,\"6152\":17.8,\"6153\":10.15,\"6154\":12.8,\"6155\":11.3,\"6156\":13.6,\"6157\":55.84,\"6158\":7.8,\"6159\":8.05,\"6160\":15.95,\"6161\":12.8,\"6162\":58.34,\"6163\":24.36,\"6164\":16.3,\"6165\":5.8,\"6166\":17.3,\"6167\":9.3,\"6168\":19.8,\"6169\":16.8,\"6170\":5.35,\"6171\":30.36,\"6172\":20.3,\"6173\":50.34,\"6174\":37.84,\"6175\":62.16,\"6176\":55.34,\"6177\":20.16,\"6178\":15.3,\"6179\":17.8,\"6180\":10.3,\"6181\":11.3,\"6182\":21.8,\"6183\":29.3,\"6184\":19.24,\"6185\":10.3,\"6186\":15.3,\"6187\":17.3,\"6188\":16.3,\"6189\":18.8,\"6190\":9.96,\"6191\":21.96,\"6192\":14.75,\"6193\":7.3,\"6194\":12.09,\"6195\":17.3,\"6196\":7.8,\"6197\":86.76,\"6198\":5.3,\"6199\":7.8,\"6200\":8.3,\"6201\":42.8,\"6202\":19.56,\"6203\":19.24,\"6204\":6.8,\"6205\":7.8,\"6206\":9.3,\"6207\":18.3,\"6208\":6.95,\"6209\":24.3,\"6210\":9.8,\"6211\":30.8,\"6212\":47.21,\"6213\":24.75,\"6214\":10.3,\"6215\":17.3,\"6216\":21.3,\"6217\":12.8,\"6218\":23.3,\"6219\":11.16,\"6220\":7.3,\"6221\":45.96,\"6222\":31.56,\"6223\":5.3,\"6224\":8.3,\"6225\":48.41,\"6226\":19.0,\"6227\":34.43,\"6228\":8.8,\"6229\":49.56,\"6230\":15.8,\"6231\":27.25,\"6232\":6.8,\"6233\":18.95,\"6234\":8.8,\"6235\":16.8,\"6236\":20.75,\"6237\":13.8,\"6238\":10.3,\"6239\":24.3,\"6240\":17.8,\"6241\":11.76,\"6242\":5.3,\"6243\":8.0,\"6244\":15.8,\"6245\":10.56,\"6246\":13.8,\"6247\":11.0,\"6248\":9.96,\"6249\":9.3,\"6250\":6.8,\"6251\":17.16,\"6252\":7.88,\"6253\":7.48,\"6254\":21.35,\"6255\":9.12,\"6256\":9.36,\"6257\":8.8,\"6258\":6.3,\"6259\":11.3,\"6260\":28.8,\"6261\":7.8,\"6262\":13.8,\"6263\":12.35,\"6264\":15.3,\"6265\":5.82,\"6266\":15.36,\"6267\":9.8,\"6268\":10.56,\"6269\":8.16,\"6270\":15.36,\"6271\":21.35,\"6272\":15.3,\"6273\":16.64,\"6274\":32.8,\"6275\":9.36,\"6276\":17.3,\"6277\":8.3,\"6278\":65.2,\"6279\":13.55,\"6280\":8.3,\"6281\":52.8,\"6282\":18.3,\"6283\":11.3,\"6284\":4.8,\"6285\":41.6,\"6286\":7.3,\"6287\":9.75,\"6288\":13.8,\"6289\":16.3,\"6290\":9.3,\"6291\":11.6,\"6292\":5.75,\"6293\":9.8,\"6294\":20.6,\"6295\":7.56,\"6296\":27.96,\"6297\":18.55,\"6298\":25.3,\"6299\":13.3,\"6300\":56.2,\"6301\":16.3,\"6302\":9.3,\"6303\":14.3,\"6304\":12.8,\"6305\":17.3,\"6306\":12.8,\"6307\":15.35,\"6308\":5.3,\"6309\":14.1,\"6310\":14.8,\"6311\":11.16,\"6312\":7.8,\"6313\":8.3,\"6314\":12.8,\"6315\":15.3,\"6316\":10.3,\"6317\":14.8,\"6318\":6.8,\"6319\":14.76,\"6320\":6.3,\"6321\":9.36,\"6322\":5.76,\"6323\":17.25,\"6324\":8.3,\"6325\":9.3,\"6326\":12.3,\"6327\":9.96,\"6328\":8.75,\"6329\":7.3,\"6330\":13.3,\"6331\":8.3,\"6332\":21.3,\"6333\":10.56,\"6334\":11.3,\"6335\":8.3,\"6336\":8.8,\"6337\":29.3,\"6338\":43.3,\"6339\":5.8,\"6340\":14.8,\"6341\":7.8,\"6342\":12.36,\"6343\":6.8,\"6344\":18.3,\"6345\":33.5,\"6346\":70.84,\"6347\":11.3,\"6348\":3.8,\"6349\":5.8,\"6350\":6.36,\"6351\":15.95,\"6352\":16.3,\"6353\":27.96,\"6354\":7.38,\"6355\":12.8,\"6356\":83.55,\"6357\":9.45,\"6358\":8.75,\"6359\":11.76,\"6360\":30.35,\"6361\":7.3,\"6362\":17.76,\"6363\":22.3,\"6364\":31.62,\"6365\":9.8,\"6366\":10.3,\"6367\":9.3,\"6368\":28.3,\"6369\":8.76,\"6370\":62.8,\"6371\":42.3,\"6372\":9.96,\"6373\":6.8,\"6374\":6.8,\"6375\":8.75,\"6376\":36.62,\"6377\":59.19,\"6378\":17.8,\"6379\":19.55,\"6380\":34.8,\"6381\":17.3,\"6382\":13.8,\"6383\":9.3,\"6384\":19.3,\"6385\":17.8,\"6386\":7.8,\"6387\":43.34,\"6388\":7.8,\"6389\":9.8,\"6390\":63.35,\"6391\":6.3,\"6392\":9.36,\"6393\":6.8,\"6394\":10.5,\"6395\":7.8,\"6396\":7.8,\"6397\":5.8,\"6398\":14.16,\"6399\":21.15,\"6400\":12.36,\"6401\":30.35,\"6402\":16.3,\"6403\":5.3,\"6404\":4.8,\"6405\":8.75,\"6406\":5.3,\"6407\":45.35,\"6408\":96.65,\"6409\":8.3,\"6410\":26.8,\"6411\":4.3,\"6412\":13.56,\"6413\":12.25,\"6414\":16.62,\"6415\":13.56,\"6416\":19.55,\"6417\":5.8,\"6418\":19.3,\"6419\":15.95,\"6420\":12.95,\"6421\":6.8,\"6422\":8.16,\"6423\":12.88,\"6424\":16.62,\"6425\":30.8,\"6426\":6.8,\"6427\":11.85,\"6428\":64.79,\"6429\":10.8,\"6430\":8.8,\"6431\":7.3,\"6432\":28.3,\"6433\":10.55,\"6434\":7.8,\"6435\":21.95,\"6436\":8.5,\"6437\":15.36,\"6438\":15.8,\"6439\":50.3,\"6440\":15.35,\"6441\":6.8,\"6442\":11.3,\"6443\":49.61,\"6444\":58.34,\"6445\":8.89,\"6446\":11.16,\"6447\":68.34,\"6448\":7.8,\"6449\":8.3,\"6450\":11.76,\"6451\":12.3,\"6452\":5.3,\"6453\":14.16,\"6454\":11.16,\"6455\":13.3,\"6456\":4.8,\"6457\":33.3,\"6458\":16.8,\"6459\":15.8,\"6460\":16.56,\"6461\":10.5,\"6462\":102.56,\"6463\":12.96,\"6464\":19.3,\"6465\":18.8,\"6466\":10.55,\"6467\":7.3,\"6468\":9.8,\"6469\":6.8,\"6470\":13.8,\"6471\":9.8,\"6472\":10.55,\"6473\":16.62,\"6474\":17.29,\"6475\":9.3,\"6476\":8.15,\"6477\":12.3,\"6478\":9.3,\"6479\":15.36,\"6480\":21.96,\"6481\":5.8,\"6482\":18.05,\"6483\":10.55,\"6484\":15.0,\"6485\":6.3,\"6486\":15.3,\"6487\":7.3,\"6488\":4.3,\"6489\":14.3,\"6490\":6.0,\"6491\":8.8,\"6492\":7.55,\"6493\":11.8,\"6494\":6.3,\"6495\":7.56,\"6496\":18.5,\"6497\":7.3,\"6498\":7.3,\"6499\":70.01,\"6500\":25.56,\"6501\":8.16,\"6502\":32.76,\"6503\":11.3,\"6504\":12.96,\"6505\":6.96,\"6506\":9.75,\"6507\":9.35,\"6508\":20.76,\"6509\":67.61,\"6510\":8.8,\"6511\":11.0,\"6512\":15.8,\"6513\":49.84,\"6514\":14.16,\"6515\":5.15,\"6516\":23.16,\"6517\":12.3,\"6518\":6.8,\"6519\":18.95,\"6520\":26.0,\"6521\":250.3,\"6522\":11.0,\"6523\":13.8,\"6524\":7.6,\"6525\":6.8,\"6526\":13.8,\"6527\":17.3,\"6528\":8.8,\"6529\":6.3,\"6530\":6.8,\"6531\":66.64,\"6532\":12.8,\"6533\":6.8,\"6534\":8.3,\"6535\":15.36,\"6536\":7.8,\"6537\":49.8,\"6538\":53.55,\"6539\":7.8,\"6540\":19.8,\"6541\":19.3,\"6542\":12.3,\"6543\":21.8,\"6544\":7.8,\"6545\":10.8,\"6546\":53.84,\"6547\":6.3,\"6548\":30.36,\"6549\":14.16,\"6550\":21.3,\"6551\":6.62,\"6552\":12.3,\"6553\":22.8,\"6554\":5.3,\"6555\":14.75,\"6556\":25.3,\"6557\":27.8,\"6558\":24.3,\"6559\":6.8,\"6560\":12.8,\"6561\":10.56,\"6562\":14.8,\"6563\":43.59,\"6564\":15.3,\"6565\":26.15,\"6566\":7.3,\"6567\":6.8,\"6568\":12.36,\"6569\":12.3,\"6570\":13.8,\"6571\":36.8,\"6572\":11.8,\"6573\":66.42,\"6574\":11.8,\"6575\":23.3,\"6576\":7.8,\"6577\":13.8,\"6578\":13.05,\"6579\":15.36,\"6580\":6.8,\"6581\":13.3,\"6582\":5.8,\"6583\":20.75,\"6584\":9.8,\"6585\":36.8,\"6586\":20.0,\"6587\":5.8,\"6588\":11.8,\"6589\":12.96,\"6590\":9.3,\"6591\":11.15,\"6592\":7.8,\"6593\":14.8,\"6594\":28.3,\"6595\":13.8,\"6596\":13.56,\"6597\":9.36,\"6598\":12.3,\"6599\":17.16,\"6600\":14.3,\"6601\":13.3,\"6602\":13.5,\"6603\":19.8,\"6604\":21.3,\"6605\":6.62,\"6606\":20.16,\"6607\":16.3,\"6608\":18.8,\"6609\":14.76,\"6610\":58.35,\"6611\":8.3,\"6612\":10.8,\"6613\":8.9,\"6614\":10.55,\"6615\":7.55,\"6616\":12.3,\"6617\":4.3,\"6618\":11.8,\"6619\":29.8,\"6620\":66.0,\"6621\":5.8,\"6622\":20.76,\"6623\":37.44,\"6624\":19.75,\"6625\":25.38,\"6626\":12.88,\"6627\":13.3,\"6628\":13.56,\"6629\":29.8,\"6630\":12.3,\"6631\":13.39,\"6632\":12.3,\"6633\":12.36,\"6634\":14.8,\"6635\":30.8,\"6636\":15.8,\"6637\":7.8,\"6638\":23.76,\"6639\":58.34,\"6640\":6.3,\"6641\":10.8,\"6642\":7.8,\"6643\":17.8,\"6644\":15.3,\"6645\":20.76,\"6646\":15.3,\"6647\":10.3,\"6648\":5.8,\"6649\":18.96,\"6650\":9.75,\"6651\":58.34,\"6652\":29.3,\"6653\":15.96,\"6654\":7.3,\"6655\":8.75,\"6656\":8.8,\"6657\":9.8,\"6658\":20.3,\"6659\":9.3,\"6660\":4.8,\"6661\":12.96,\"6662\":21.96,\"6663\":30.35,\"6664\":22.3,\"6665\":39.34,\"6666\":8.3,\"6667\":55.3,\"6668\":8.16,\"6669\":5.8,\"6670\":21.3,\"6671\":52.84,\"6672\":27.3,\"6673\":68.8,\"6674\":50.16,\"6675\":31.62,\"6676\":7.3,\"6677\":32.15,\"6678\":35.3,\"6679\":6.3,\"6680\":12.3,\"6681\":55.59,\"6682\":10.3,\"6683\":6.8,\"6684\":6.8,\"6685\":22.8,\"6686\":32.3,\"6687\":13.55,\"6688\":17.3,\"6689\":4.8,\"6690\":6.6,\"6691\":7.8,\"6692\":11.0,\"6693\":6.3,\"6694\":8.0,\"6695\":22.8,\"6696\":14.8,\"6697\":7.56,\"6698\":60.36,\"6699\":52.8,\"6700\":7.3,\"6701\":11.0,\"6702\":10.0,\"6703\":6.8,\"6704\":47.81,\"6705\":21.35,\"6706\":16.62,\"6707\":23.15,\"6708\":10.3,\"6709\":10.56,\"6710\":8.8,\"6711\":24.8,\"6712\":17.8,\"6713\":14.3,\"6714\":53.34,\"6715\":21.36,\"6716\":6.3,\"6717\":7.87,\"6718\":19.8,\"6719\":19.75,\"6720\":10.55,\"6721\":21.3,\"6722\":24.8,\"6723\":31.0,\"6724\":33.3,\"6725\":21.36,\"6726\":18.8,\"6727\":5.3,\"6728\":41.34,\"6729\":6.8,\"6730\":9.8,\"6731\":16.3,\"6732\":16.56,\"6733\":54.35,\"6734\":21.35,\"6735\":5.8,\"6736\":13.55,\"6737\":11.8,\"6738\":15.3,\"6739\":8.8,\"6740\":23.8,\"6741\":6.8,\"6742\":16.0,\"6743\":14.69,\"6744\":8.8,\"6745\":27.96,\"6746\":9.8,\"6747\":3.3,\"6748\":7.8,\"6749\":15.38,\"6750\":47.25,\"6751\":6.3,\"6752\":9.1,\"6753\":12.95,\"6754\":23.76,\"6755\":14.8,\"6756\":8.8,\"6757\":7.3,\"6758\":8.8,\"6759\":8.3,\"6760\":7.3,\"6761\":24.75,\"6762\":10.55,\"6763\":10.8,\"6764\":9.96,\"6765\":8.75,\"6766\":26.8,\"6767\":15.41,\"6768\":5.3,\"6769\":17.3,\"6770\":10.3,\"6771\":67.34,\"6772\":25.3,\"6773\":15.36,\"6774\":14.15,\"6775\":11.8,\"6776\":13.55,\"6777\":21.8,\"6778\":10.56,\"6779\":5.3,\"6780\":30.3,\"6781\":41.79,\"6782\":53.79,\"6783\":7.8,\"6784\":56.8,\"6785\":40.55,\"6786\":7.8,\"6787\":17.94,\"6788\":25.0,\"6789\":18.5,\"6790\":6.8,\"6791\":7.5,\"6792\":58.34,\"6793\":30.96,\"6794\":3.8,\"6795\":23.3,\"6796\":19.8,\"6797\":21.36,\"6798\":22.8,\"6799\":11.15,\"6800\":102.11,\"6801\":8.8,\"6802\":14.15,\"6803\":12.8,\"6804\":12.35,\"6805\":6.36,\"6806\":41.67,\"6807\":8.3,\"6808\":14.3,\"6809\":14.3,\"6810\":14.8,\"6811\":9.49,\"6812\":115.51,\"6813\":49.84,\"6814\":5.8,\"6815\":28.3,\"6816\":15.8,\"6817\":12.95,\"6818\":9.8,\"6819\":9.8,\"6820\":11.3,\"6821\":11.5,\"6822\":8.16,\"6823\":8.8,\"6824\":7.3,\"6825\":5.8,\"6826\":21.0,\"6827\":8.3,\"6828\":8.15,\"6829\":51.68,\"6830\":15.96,\"6831\":11.3,\"6832\":7.56,\"6833\":24.44,\"6834\":8.8,\"6835\":23.75,\"6836\":17.0,\"6837\":49.01,\"6838\":27.88,\"6839\":13.3,\"6840\":16.3,\"6841\":10.38,\"6842\":25.3,\"6843\":12.8,\"6844\":35.35,\"6845\":33.8,\"6846\":28.8,\"6847\":10.8,\"6848\":13.3,\"6849\":18.36,\"6850\":70.59,\"6851\":8.5,\"6852\":13.56,\"6853\":13.8,\"6854\":6.36,\"6855\":19.8,\"6856\":31.55,\"6857\":26.8,\"6858\":9.8,\"6859\":16.55,\"6860\":60.34,\"6861\":8.75,\"6862\":11.8,\"6863\":14.16,\"6864\":5.8,\"6865\":17.3,\"6866\":9.95,\"6867\":21.35,\"6868\":20.16,\"6869\":4.3,\"6870\":27.35,\"6871\":16.55,\"6872\":8.75,\"6873\":23.0,\"6874\":6.8,\"6875\":12.8,\"6876\":5.8,\"6877\":14.04,\"6878\":12.8,\"6879\":13.3,\"6880\":7.8,\"6881\":23.16,\"6882\":10.35,\"6883\":8.8,\"6884\":41.21,\"6885\":12.8,\"6886\":4.8,\"6887\":20.16,\"6888\":12.8,\"6889\":10.3,\"6890\":14.75,\"6891\":10.3,\"6892\":14.5,\"6893\":12.8,\"6894\":10.8,\"6895\":12.8,\"6896\":25.3,\"6897\":58.34,\"6898\":7.3,\"6899\":8.5,\"6900\":56.21,\"6901\":26.16,\"6902\":46.84,\"6903\":7.55,\"6904\":23.8,\"6905\":6.95,\"6906\":10.38,\"6907\":33.8,\"6908\":6.96,\"6909\":6.3,\"6910\":49.14,\"6911\":22.25,\"6912\":20.3,\"6913\":5.3,\"6914\":48.0,\"6915\":6.3,\"6916\":17.76,\"6917\":7.3,\"6918\":18.8,\"6919\":11.76,\"6920\":12.3,\"6921\":9.8,\"6922\":16.6,\"6923\":14.8,\"6924\":10.3,\"6925\":12.8,\"6926\":14.75,\"6927\":35.15,\"6928\":20.3,\"6929\":15.96,\"6930\":16.3,\"6931\":8.16,\"6932\":13.3,\"6933\":11.8,\"6934\":9.8,\"6935\":6.8,\"6936\":9.8,\"6937\":4.3,\"6938\":10.56,\"6939\":9.8,\"6940\":9.38,\"6941\":31.59,\"6942\":21.96,\"6943\":9.96,\"6944\":6.96,\"6945\":14.3,\"6946\":9.96,\"6947\":9.8,\"6948\":4.3,\"6949\":8.8,\"6950\":15.8,\"6951\":23.3,\"6952\":14.8,\"6953\":7.3,\"6954\":22.25,\"6955\":7.8,\"6956\":68.64,\"6957\":12.3,\"6958\":66.34,\"6959\":13.3,\"6960\":46.6,\"6961\":12.8,\"6962\":26.8,\"6963\":12.95,\"6964\":6.96,\"6965\":6.95,\"6966\":25.3,\"6967\":17.25,\"6968\":11.8,\"6969\":13.55,\"6970\":26.0,\"6971\":10.79,\"6972\":20.16,\"6973\":12.3,\"6974\":58.43,\"6975\":11.16,\"6976\":18.8,\"6977\":11.16,\"6978\":8.8,\"6979\":12.8,\"6980\":6.35,\"6981\":12.8,\"6982\":10.3,\"6983\":58.34,\"6984\":9.8,\"6985\":8.16,\"6986\":10.3,\"6987\":6.96,\"6988\":8.75,\"6989\":17.3,\"6990\":8.5,\"6991\":18.3,\"6992\":17.0,\"6993\":16.3,\"6994\":21.8,\"6995\":17.8,\"6996\":16.55,\"6997\":11.8,\"6998\":14.8,\"6999\":11.3,\"7000\":8.3,\"7001\":10.8,\"7002\":11.3,\"7003\":15.52,\"7004\":4.8,\"7005\":18.3,\"7006\":10.3,\"7007\":23.3,\"7008\":9.8,\"7009\":13.3,\"7010\":10.8,\"7011\":16.45,\"7012\":7.56,\"7013\":16.56,\"7014\":73.34,\"7015\":14.75,\"7016\":23.8,\"7017\":17.16,\"7018\":10.3,\"7019\":25.38,\"7020\":10.56,\"7021\":12.8,\"7022\":16.6,\"7023\":91.56,\"7024\":12.8,\"7025\":10.3,\"7026\":14.3,\"7027\":10.3,\"7028\":21.0,\"7029\":22.25,\"7030\":13.55,\"7031\":12.3,\"7032\":9.3,\"7033\":11.8,\"7034\":11.3,\"7035\":15.3,\"7036\":58.34,\"7037\":13.3,\"7038\":50.21,\"7039\":37.34,\"7040\":13.55,\"7041\":23.5,\"7042\":9.68,\"7043\":12.7,\"7044\":9.8,\"7045\":17.3,\"7046\":9.96,\"7047\":8.16,\"7048\":9.8,\"7049\":20.5,\"7050\":36.4,\"7051\":27.8,\"7052\":52.8,\"7053\":15.96,\"7054\":11.8,\"7055\":7.8,\"7056\":7.3,\"7057\":22.8,\"7058\":16.8,\"7059\":14.1,\"7060\":35.38,\"7061\":15.8,\"7062\":20.3,\"7063\":6.8,\"7064\":12.36,\"7065\":17.25,\"7066\":10.3,\"7067\":7.8,\"7068\":20.15,\"7069\":13.56,\"7070\":5.8,\"7071\":15.36,\"7072\":6.3,\"7073\":8.8,\"7074\":5.0,\"7075\":11.3,\"7076\":20.8,\"7077\":26.16,\"7078\":16.6,\"7079\":13.8,\"7080\":41.16,\"7081\":13.8,\"7082\":17.15,\"7083\":14.3,\"7084\":7.8,\"7085\":10.3,\"7086\":15.8,\"7087\":41.75,\"7088\":5.8,\"7089\":10.3,\"7090\":14.76,\"7091\":11.15,\"7092\":14.3,\"7093\":19.89,\"7094\":5.8,\"7095\":11.15,\"7096\":9.3,\"7097\":15.3,\"7098\":8.3,\"7099\":24.36,\"7100\":39.3,\"7101\":6.3,\"7102\":8.3,\"7103\":14.75,\"7104\":6.8,\"7105\":7.3,\"7106\":11.8,\"7107\":6.3,\"7108\":17.3,\"7109\":32.76,\"7110\":22.56,\"7111\":53.21,\"7112\":10.14,\"7113\":13.8,\"7114\":20.16,\"7115\":11.3,\"7116\":15.36,\"7117\":13.39,\"7118\":6.36,\"7119\":5.8,\"7120\":15.95,\"7121\":12.3,\"7122\":13.8,\"7123\":23.5,\"7124\":11.8,\"7125\":14.75,\"7126\":30.36,\"7127\":11.8,\"7128\":10.8,\"7129\":13.56,\"7130\":14.15,\"7131\":6.62,\"7132\":8.8,\"7133\":6.8,\"7134\":39.39,\"7135\":7.3,\"7136\":28.56,\"7137\":17.3,\"7138\":7.8,\"7139\":4.8,\"7140\":13.31,\"7141\":14.76,\"7142\":5.8,\"7143\":11.75,\"7144\":9.3,\"7145\":7.5,\"7146\":12.3,\"7147\":14.8,\"7148\":9.36,\"7149\":15.3,\"7150\":6.3,\"7151\":9.8,\"7152\":14.8,\"7153\":6.24,\"7154\":12.8,\"7155\":10.56,\"7156\":12.8,\"7157\":6.3,\"7158\":43.34,\"7159\":10.8,\"7160\":18.96,\"7161\":6.96,\"7162\":11.3,\"7163\":15.96,\"7164\":14.3,\"7165\":21.35,\"7166\":18.3,\"7167\":11.8,\"7168\":6.3,\"7169\":10.3,\"7170\":13.55,\"7171\":43.34,\"7172\":19.8,\"7173\":24.96,\"7174\":6.96,\"7175\":16.3,\"7176\":11.8,\"7177\":16.56,\"7178\":29.75,\"7179\":10.8,\"7180\":8.3,\"7181\":43.56,\"7182\":12.3,\"7183\":12.96,\"7184\":24.44,\"7185\":31.3,\"7186\":12.96,\"7187\":53.84,\"7188\":37.56,\"7189\":15.3,\"7190\":75.84,\"7191\":13.5,\"7192\":5.3,\"7193\":8.3,\"7194\":9.95,\"7195\":8.3,\"7196\":32.54,\"7197\":8.8,\"7198\":21.36,\"7199\":17.87,\"7200\":10.8,\"7201\":4.8,\"7202\":24.36,\"7203\":29.76,\"7204\":22.3,\"7205\":21.36,\"7206\":14.3,\"7207\":4.8,\"7208\":6.8,\"7209\":48.3,\"7210\":6.8,\"7211\":11.8,\"7212\":55.61,\"7213\":5.75,\"7214\":6.36,\"7215\":5.3,\"7216\":21.84,\"7217\":17.76,\"7218\":13.8,\"7219\":11.8,\"7220\":4.8,\"7221\":10.8,\"7222\":21.0,\"7223\":10.3,\"7224\":12.36,\"7225\":58.34,\"7226\":5.76,\"7227\":12.3,\"7228\":14.8,\"7229\":54.14,\"7230\":13.0,\"7231\":14.75,\"7232\":33.96,\"7233\":21.96,\"7234\":13.3,\"7235\":9.3,\"7236\":7.3,\"7237\":24.95,\"7238\":25.55,\"7239\":11.44,\"7240\":36.36,\"7241\":29.84,\"7242\":7.8,\"7243\":19.56,\"7244\":12.8,\"7245\":26.76,\"7246\":6.0,\"7247\":12.3,\"7248\":5.3,\"7249\":78.34,\"7250\":9.96,\"7251\":33.8,\"7252\":35.34,\"7253\":10.8,\"7254\":11.15,\"7255\":14.8,\"7256\":7.8,\"7257\":11.8,\"7258\":40.34,\"7259\":5.3,\"7260\":47.3,\"7261\":8.5,\"7262\":38.8,\"7263\":25.8,\"7264\":42.8,\"7265\":6.96,\"7266\":15.36,\"7267\":22.8,\"7268\":58.34,\"7269\":9.95,\"7270\":5.8,\"7271\":17.8,\"7272\":11.8,\"7273\":7.8,\"7274\":17.16,\"7275\":29.3,\"7276\":20.3,\"7277\":8.76,\"7278\":8.15,\"7279\":18.8,\"7280\":58.34,\"7281\":25.56,\"7282\":7.56,\"7283\":58.34,\"7284\":58.34,\"7285\":5.3,\"7286\":16.56,\"7287\":13.3,\"7288\":6.8,\"7289\":6.3,\"7290\":6.96,\"7291\":9.36,\"7292\":20.16,\"7293\":14.16,\"7294\":6.3,\"7295\":11.15,\"7296\":15.8,\"7297\":14.15,\"7298\":13.3,\"7299\":14.75,\"7300\":4.8,\"7301\":19.75,\"7302\":20.8,\"7303\":7.8,\"7304\":8.3,\"7305\":9.3,\"7306\":17.8,\"7307\":5.3,\"7308\":6.3,\"7309\":21.8,\"7310\":70.01,\"7311\":8.3,\"7312\":19.3,\"7313\":45.39,\"7314\":37.0,\"7315\":14.8,\"7316\":4.3,\"7317\":17.3,\"7318\":7.8,\"7319\":22.77,\"7320\":27.88,\"7321\":19.3,\"7322\":8.3,\"7323\":59.8,\"7324\":17.8,\"7325\":7.56,\"7326\":12.8,\"7327\":37.34,\"7328\":14.3,\"7329\":5.8,\"7330\":11.8,\"7331\":12.3,\"7332\":13.3,\"7333\":8.8,\"7334\":4.8,\"7335\":6.8,\"7336\":10.1,\"7337\":11.3,\"7338\":12.8,\"7339\":9.8,\"7340\":13.8,\"7341\":11.62,\"7342\":7.3,\"7343\":5.3,\"7344\":5.8,\"7345\":6.96,\"7346\":41.84,\"7347\":38.3,\"7348\":13.3,\"7349\":10.8,\"7350\":17.3,\"7351\":8.76,\"7352\":6.3,\"7353\":9.96,\"7354\":23.76,\"7355\":8.75,\"7356\":9.35,\"7357\":65.79,\"7358\":20.8,\"7359\":10.3,\"7360\":7.3,\"7361\":17.29,\"7362\":15.96,\"7363\":17.8,\"7364\":7.3,\"7365\":10.3,\"7366\":21.3,\"7367\":11.3,\"7368\":12.3,\"7369\":19.56,\"7370\":9.3,\"7371\":7.8,\"7372\":7.0,\"7373\":101.21,\"7374\":23.16,\"7375\":12.35,\"7376\":8.76,\"7377\":29.3,\"7378\":52.01,\"7379\":42.96,\"7380\":6.8,\"7381\":33.34,\"7382\":9.3,\"7383\":12.3,\"7384\":14.3,\"7385\":17.15,\"7386\":36.8,\"7387\":14.0,\"7388\":10.56,\"7389\":15.96,\"7390\":23.8,\"7391\":11.8,\"7392\":28.56,\"7393\":12.3,\"7394\":11.75,\"7395\":11.8,\"7396\":5.8,\"7397\":13.56,\"7398\":13.8,\"7399\":8.0,\"7400\":5.3,\"7401\":12.35,\"7402\":11.62,\"7403\":7.8,\"7404\":7.3,\"7405\":9.3,\"7406\":16.6,\"7407\":12.25,\"7408\":102.35,\"7409\":43.3,\"7410\":23.75,\"7411\":97.55,\"7412\":72.96,\"7413\":10.8,\"7414\":72.92,\"7415\":15.38,\"7416\":51.62,\"7417\":8.8,\"7418\":9.3,\"7419\":16.64,\"7420\":16.56,\"7421\":9.8,\"7422\":13.8,\"7423\":68.34,\"7424\":15.95,\"7425\":11.8,\"7426\":17.8,\"7427\":22.3,\"7428\":14.3,\"7429\":18.3,\"7430\":10.8,\"7431\":13.56,\"7432\":11.3,\"7433\":9.96,\"7434\":32.15,\"7435\":24.8,\"7436\":10.3,\"7437\":40.3,\"7438\":44.14,\"7439\":8.3,\"7440\":12.8,\"7441\":12.8,\"7442\":6.8,\"7443\":5.3,\"7444\":5.3,\"7445\":15.3,\"7446\":11.3,\"7447\":9.3,\"7448\":15.3,\"7449\":8.8,\"7450\":6.96,\"7451\":8.76,\"7452\":58.34,\"7453\":18.8,\"7454\":14.8,\"7455\":25.8,\"7456\":35.35,\"7457\":9.36,\"7458\":12.96,\"7459\":16.3,\"7460\":10.7,\"7461\":20.8,\"7462\":11.3,\"7463\":27.3,\"7464\":7.8,\"7465\":6.8,\"7466\":13.8,\"7467\":14.76,\"7468\":42.35,\"7469\":19.8,\"7470\":15.95,\"7471\":9.8,\"7472\":52.59,\"7473\":14.75,\"7474\":17.76,\"7475\":56.75,\"7476\":18.59,\"7477\":8.3,\"7478\":7.54,\"7479\":9.8,\"7480\":12.8,\"7481\":5.8,\"7482\":13.4,\"7483\":24.12,\"7484\":7.8,\"7485\":5.8,\"7486\":58.34,\"7487\":3.3,\"7488\":8.8,\"7489\":9.49,\"7490\":21.96,\"7491\":13.3,\"7492\":7.48,\"7493\":10.8,\"7494\":13.8,\"7495\":14.75,\"7496\":27.8,\"7497\":12.8,\"7498\":16.8,\"7499\":5.8,\"7500\":63.36,\"7501\":12.36,\"7502\":68.34,\"7503\":12.3,\"7504\":11.3,\"7505\":10.8,\"7506\":9.96,\"7507\":6.8,\"7508\":7.25,\"7509\":3.3,\"7510\":11.16,\"7511\":6.89,\"7512\":15.3,\"7513\":12.05,\"7514\":11.3,\"7515\":29.15,\"7516\":35.8,\"7517\":18.3,\"7518\":17.76,\"7519\":13.3,\"7520\":23.3,\"7521\":11.76,\"7522\":23.16,\"7523\":8.75,\"7524\":8.76,\"7525\":15.3,\"7526\":8.8,\"7527\":7.8,\"7528\":12.95,\"7529\":6.8,\"7530\":6.3,\"7531\":22.55,\"7532\":8.3,\"7533\":7.3,\"7534\":8.3,\"7535\":19.24,\"7536\":15.8,\"7537\":23.76,\"7538\":6.3,\"7539\":23.76,\"7540\":5.8,\"7541\":5.3,\"7542\":20.3,\"7543\":14.8,\"7544\":24.3,\"7545\":6.95,\"7546\":7.3,\"7547\":8.8,\"7548\":8.5,\"7549\":15.3,\"7550\":7.55,\"7551\":5.76,\"7552\":12.3,\"7553\":12.0,\"7554\":49.12,\"7555\":7.56,\"7556\":12.35,\"7557\":6.3,\"7558\":18.8,\"7559\":8.15,\"7560\":6.0,\"7561\":17.8,\"7562\":14.15,\"7563\":63.35,\"7564\":63.36,\"7565\":10.56,\"7566\":7.54,\"7567\":9.1,\"7568\":9.8,\"7569\":7.8,\"7570\":14.16,\"7571\":7.56,\"7572\":8.8,\"7573\":7.8,\"7574\":11.3,\"7575\":8.3,\"7576\":14.3,\"7577\":20.15,\"7578\":11.8,\"7579\":13.8,\"7580\":18.96,\"7581\":6.8,\"7582\":15.8,\"7583\":7.8,\"7584\":7.8,\"7585\":10.3,\"7586\":12.95,\"7587\":16.55,\"7588\":16.3,\"7589\":14.16,\"7590\":7.8,\"7591\":6.3,\"7592\":16.55,\"7593\":30.36,\"7594\":16.3,\"7595\":7.3,\"7596\":8.84,\"7597\":24.3,\"7598\":30.3,\"7599\":6.8,\"7600\":22.7,\"7601\":10.8,\"7602\":17.3,\"7603\":10.3,\"7604\":15.36,\"7605\":15.8,\"7606\":12.36,\"7607\":12.3,\"7608\":12.88,\"7609\":9.96,\"7610\":11.15,\"7611\":33.8,\"7612\":12.8,\"7613\":5.8,\"7614\":8.76,\"7615\":11.3,\"7616\":18.3,\"7617\":7.56,\"7618\":6.96,\"7619\":17.16,\"7620\":19.8,\"7621\":12.3,\"7622\":12.36,\"7623\":5.38,\"7624\":12.8,\"7625\":47.21,\"7626\":10.3,\"7627\":58.34,\"7628\":7.3,\"7629\":7.8,\"7630\":33.36,\"7631\":17.8,\"7632\":9.8,\"7633\":44.34,\"7634\":20.8,\"7635\":36.34,\"7636\":7.3,\"7637\":10.3,\"7638\":5.3,\"7639\":38.5,\"7640\":7.3,\"7641\":13.8,\"7642\":15.38,\"7643\":9.8,\"7644\":15.3,\"7645\":74.46,\"7646\":9.8,\"7647\":8.8,\"7648\":17.76,\"7649\":10.8,\"7650\":14.16,\"7651\":11.3,\"7652\":22.88,\"7653\":22.8,\"7654\":14.76,\"7655\":25.3,\"7656\":21.36,\"7657\":7.3,\"7658\":11.3,\"7659\":12.95,\"7660\":19.24,\"7661\":14.1,\"7662\":14.8,\"7663\":13.8,\"7664\":21.0,\"7665\":7.56,\"7666\":13.3,\"7667\":8.8,\"7668\":11.3,\"7669\":6.62,\"7670\":6.8,\"7671\":15.35,\"7672\":16.0,\"7673\":11.8,\"7674\":9.35,\"7675\":11.76,\"7676\":12.8,\"7677\":5.83,\"7678\":5.3,\"7679\":8.16,\"7680\":7.3,\"7681\":10.56,\"7682\":29.75,\"7683\":6.36,\"7684\":11.3,\"7685\":22.8,\"7686\":8.3,\"7687\":5.8,\"7688\":9.8,\"7689\":12.3,\"7690\":14.8,\"7691\":63.36,\"7692\":8.8,\"7693\":15.95,\"7694\":16.8,\"7695\":6.3,\"7696\":15.35,\"7697\":11.15,\"7698\":5.8,\"7699\":5.75,\"7700\":49.8,\"7701\":12.8,\"7702\":6.09,\"7703\":14.16,\"7704\":7.3,\"7705\":12.3,\"7706\":18.5,\"7707\":39.02,\"7708\":14.16,\"7709\":17.76,\"7710\":8.16,\"7711\":13.8,\"7712\":9.95,\"7713\":21.36,\"7714\":11.55,\"7715\":66.0,\"7716\":22.8,\"7717\":11.75,\"7718\":6.3,\"7719\":12.3,\"7720\":9.8,\"7721\":17.75,\"7722\":8.8,\"7723\":19.8,\"7724\":52.8,\"7725\":17.3,\"7726\":8.8,\"7727\":11.8,\"7728\":4.8,\"7729\":13.55,\"7730\":6.8,\"7731\":11.16,\"7732\":29.3,\"7733\":10.38,\"7734\":6.3,\"7735\":8.3,\"7736\":21.0,\"7737\":17.16,\"7738\":7.3,\"7739\":5.3,\"7740\":10.8,\"7741\":58.34,\"7742\":22.0,\"7743\":28.55,\"7744\":11.3,\"7745\":58.34,\"7746\":6.3,\"7747\":14.76,\"7748\":12.25,\"7749\":6.8,\"7750\":6.3,\"7751\":7.3,\"7752\":70.01,\"7753\":6.3,\"7754\":7.55,\"7755\":11.8,\"7756\":9.3,\"7757\":9.8,\"7758\":19.8,\"7759\":7.8,\"7760\":12.8,\"7761\":14.16,\"7762\":7.56,\"7763\":10.55,\"7764\":11.3,\"7765\":12.3,\"7766\":17.16,\"7767\":22.8,\"7768\":11.76,\"7769\":5.3,\"7770\":8.3,\"7771\":5.8,\"7772\":24.36,\"7773\":6.8,\"7774\":9.8,\"7775\":6.8,\"7776\":8.3,\"7777\":8.76,\"7778\":48.84,\"7779\":7.8,\"7780\":23.76,\"7781\":11.62,\"7782\":9.8,\"7783\":7.88,\"7784\":6.95,\"7785\":19.8,\"7786\":14.8,\"7787\":8.76,\"7788\":11.4,\"7789\":12.36,\"7790\":9.36,\"7791\":12.36,\"7792\":26.15,\"7793\":4.3,\"7794\":11.8,\"7795\":10.3,\"7796\":12.74,\"7797\":22.8,\"7798\":7.56,\"7799\":12.36,\"7800\":5.55,\"7801\":18.8,\"7802\":7.3,\"7803\":13.3,\"7804\":10.3,\"7805\":70.01,\"7806\":69.99,\"7807\":12.8,\"7808\":4.8,\"7809\":13.56,\"7810\":11.15,\"7811\":12.8,\"7812\":6.3,\"7813\":11.8,\"7814\":9.35,\"7815\":10.3,\"7816\":14.3,\"7817\":13.56,\"7818\":8.8,\"7819\":9.3,\"7820\":20.3,\"7821\":18.96,\"7822\":8.75,\"7823\":16.0,\"7824\":15.95,\"7825\":47.19,\"7826\":11.75,\"7827\":12.3,\"7828\":13.8,\"7829\":8.76,\"7830\":11.3,\"7831\":9.8,\"7832\":19.56,\"7833\":8.5,\"7834\":17.8,\"7835\":17.3,\"7836\":8.5,\"7837\":14.15,\"7838\":8.3,\"7839\":8.8,\"7840\":13.5,\"7841\":7.3,\"7842\":13.3,\"7843\":5.76,\"7844\":10.8,\"7845\":17.16,\"7846\":11.3,\"7847\":13.8,\"7848\":32.84,\"7849\":7.3,\"7850\":52.8,\"7851\":10.3,\"7852\":17.75,\"7853\":5.8,\"7854\":58.8,\"7855\":9.8,\"7856\":7.3,\"7857\":58.34,\"7858\":9.96,\"7859\":13.55,\"7860\":17.8,\"7861\":52.8,\"7862\":5.8,\"7863\":15.96,\"7864\":31.0,\"7865\":10.14,\"7866\":6.8,\"7867\":23.3,\"7868\":13.55,\"7869\":6.3,\"7870\":23.15,\"7871\":20.8,\"7872\":6.3,\"7873\":16.8,\"7874\":9.8,\"7875\":8.8,\"7876\":70.0,\"7877\":11.3,\"7878\":5.8,\"7879\":19.3,\"7880\":11.0,\"7881\":6.8,\"7882\":7.8,\"7883\":30.95,\"7884\":9.45,\"7885\":12.3,\"7886\":19.3,\"7887\":27.3,\"7888\":10.3,\"7889\":9.3,\"7890\":65.34,\"7891\":15.36,\"7892\":11.16,\"7893\":10.55,\"7894\":8.8,\"7895\":6.8,\"7896\":19.75,\"7897\":15.35,\"7898\":7.0,\"7899\":13.8,\"7900\":44.81,\"7901\":8.3,\"7902\":10.3,\"7903\":9.8,\"7904\":44.81,\"7905\":8.8,\"7906\":15.8,\"7907\":96.84,\"7908\":26.75,\"7909\":29.75,\"7910\":47.21,\"7911\":8.8,\"7912\":48.41,\"7913\":30.96,\"7914\":14.12,\"7915\":20.8,\"7916\":14.69,\"7917\":7.8,\"7918\":38.34,\"7919\":6.8,\"7920\":10.8,\"7921\":17.75,\"7922\":9.36,\"7923\":28.5,\"7924\":52.8,\"7925\":24.12,\"7926\":14.16,\"7927\":7.3,\"7928\":5.3,\"7929\":10.3,\"7930\":10.8,\"7931\":26.3,\"7932\":9.3,\"7933\":21.8,\"7934\":14.8,\"7935\":7.8,\"7936\":8.8,\"7937\":12.3,\"7938\":6.96,\"7939\":10.56,\"7940\":8.16,\"7941\":17.3,\"7942\":12.3,\"7943\":11.3,\"7944\":7.8,\"7945\":14.3,\"7946\":11.8,\"7947\":21.36,\"7948\":10.8,\"7949\":6.8,\"7950\":16.3,\"7951\":13.3,\"7952\":8.76,\"7953\":10.55,\"7954\":6.6,\"7955\":13.8,\"7956\":27.36,\"7957\":61.34,\"7958\":13.3,\"7959\":11.75,\"7960\":5.75,\"7961\":15.8,\"7962\":7.3,\"7963\":7.3,\"7964\":7.25,\"7965\":14.12,\"7966\":7.8,\"7967\":19.3,\"7968\":15.8,\"7969\":6.8,\"7970\":17.85,\"7971\":9.8,\"7972\":15.96,\"7973\":16.3,\"7974\":7.3,\"7975\":26.75,\"7976\":10.56,\"7977\":19.8,\"7978\":13.5,\"7979\":8.16,\"7980\":6.0,\"7981\":14.3,\"7982\":4.8,\"7983\":9.3,\"7984\":21.96,\"7985\":9.8,\"7986\":6.36,\"7987\":10.3,\"7988\":12.8,\"7989\":8.3,\"7990\":21.8,\"7991\":9.8,\"7992\":7.8,\"7993\":9.8,\"7994\":11.16,\"7995\":11.3,\"7996\":7.8,\"7997\":8.76,\"7998\":21.36,\"7999\":11.3,\"8000\":12.3,\"8001\":6.3,\"8002\":15.3,\"8003\":10.3,\"8004\":7.8,\"8005\":16.55,\"8006\":7.55,\"8007\":29.16,\"8008\":4.8,\"8009\":6.8,\"8010\":5.3,\"8011\":10.8,\"8012\":17.8,\"8013\":9.8,\"8014\":32.8,\"8015\":9.3,\"8016\":21.3,\"8017\":13.56,\"8018\":8.76,\"8019\":13.8,\"8020\":11.76,\"8021\":8.3,\"8022\":10.3,\"8023\":6.8,\"8024\":8.3,\"8025\":9.8,\"8026\":15.8,\"8027\":12.36,\"8028\":5.8,\"8029\":52.8,\"8030\":5.8,\"8031\":14.76,\"8032\":5.3,\"8033\":7.3,\"8034\":5.8,\"8035\":6.3,\"8036\":8.8,\"8037\":7.3,\"8038\":12.3,\"8039\":13.8,\"8040\":5.3,\"8041\":6.36,\"8042\":58.34,\"8043\":15.96,\"8044\":6.3,\"8045\":9.8,\"8046\":14.3,\"8047\":13.56,\"8048\":12.3,\"8049\":6.05,\"8050\":21.95,\"8051\":18.8,\"8052\":5.3,\"8053\":15.36,\"8054\":6.8,\"8055\":19.3,\"8056\":16.55,\"8057\":5.3,\"8058\":4.8,\"8059\":13.56,\"8060\":10.8,\"8061\":9.3,\"8062\":16.3,\"8063\":13.3,\"8064\":7.3,\"8065\":11.3,\"8066\":7.3,\"8067\":9.35,\"8068\":6.8,\"8069\":58.34,\"8070\":52.8,\"8071\":10.3,\"8072\":7.3,\"8073\":15.36,\"8074\":10.8,\"8075\":6.35,\"8076\":6.3,\"8077\":49.61,\"8078\":10.8,\"8079\":25.8,\"8080\":9.75,\"8081\":8.3,\"8082\":8.76,\"8083\":11.8,\"8084\":11.76,\"8085\":8.8,\"8086\":7.8,\"8087\":4.8,\"8088\":20.16,\"8089\":33.3,\"8090\":5.8,\"8091\":23.15,\"8092\":5.8,\"8093\":31.62,\"8094\":7.54,\"8095\":6.8,\"8096\":26.3,\"8097\":16.3,\"8098\":39.34,\"8099\":10.8,\"8100\":8.75,\"8101\":12.3,\"8102\":20.5,\"8103\":24.3,\"8104\":6.35,\"8105\":14.15,\"8106\":10.8,\"8107\":7.3,\"8108\":8.3,\"8109\":8.8,\"8110\":10.8,\"8111\":14.76,\"8112\":21.8,\"8113\":9.3,\"8114\":11.8,\"8115\":17.8,\"8116\":17.8,\"8117\":36.3,\"8118\":6.8,\"8119\":9.95,\"8120\":8.76,\"8121\":10.3,\"8122\":6.8,\"8123\":11.15,\"8124\":5.8,\"8125\":8.8,\"8126\":9.96,\"8127\":36.96,\"8128\":19.9,\"8129\":7.87,\"8130\":12.3,\"8131\":17.16,\"8132\":6.3,\"8133\":9.3,\"8134\":6.8,\"8135\":11.8,\"8136\":12.8,\"8137\":12.25,\"8138\":9.75,\"8139\":61.34,\"8140\":13.56,\"8141\":5.8,\"8142\":7.8,\"8143\":12.3,\"8144\":20.8,\"8145\":11.3,\"8146\":12.35,\"8147\":20.8,\"8148\":15.8,\"8149\":3.3,\"8150\":6.8,\"8151\":8.3,\"8152\":10.56,\"8153\":8.5,\"8154\":6.36,\"8155\":20.3,\"8156\":27.95,\"8157\":23.8,\"8158\":22.55,\"8159\":6.8,\"8160\":15.36,\"8161\":10.55,\"8162\":9.49,\"8163\":8.75,\"8164\":5.8,\"8165\":45.8,\"8166\":70.01,\"8167\":44.18,\"8168\":58.34,\"8169\":23.76,\"8170\":4.8,\"8171\":58.34,\"8172\":5.8,\"8173\":7.8,\"8174\":9.0,\"8175\":10.3,\"8176\":9.8,\"8177\":20.34,\"8178\":11.8,\"8179\":14.3,\"8180\":18.96,\"8181\":8.76,\"8182\":11.8,\"8183\":17.8,\"8184\":5.16,\"8185\":58.34,\"8186\":9.3,\"8187\":8.3,\"8188\":11.8,\"8189\":12.96,\"8190\":6.3,\"8191\":6.3,\"8192\":22.8,\"8193\":9.3,\"8194\":8.8,\"8195\":19.3,\"8196\":18.3,\"8197\":8.3,\"8198\":9.35,\"8199\":14.16,\"8200\":18.8,\"8201\":69.0,\"8202\":5.75,\"8203\":6.3,\"8204\":18.8,\"8205\":69.99,\"8206\":18.35,\"8207\":28.56,\"8208\":7.3,\"8209\":43.34,\"8210\":15.95,\"8211\":30.3,\"8212\":32.3,\"8213\":12.25,\"8214\":10.3,\"8215\":14.76,\"8216\":37.3,\"8217\":20.76,\"8218\":13.3,\"8219\":17.76,\"8220\":13.3,\"8221\":18.8,\"8222\":15.35,\"8223\":4.3,\"8224\":27.8,\"8225\":8.15,\"8226\":37.84,\"8227\":14.75,\"8228\":10.56,\"8229\":7.8,\"8230\":8.8,\"8231\":9.3,\"8232\":30.94,\"8233\":28.8,\"8234\":12.3,\"8235\":58.34,\"8236\":38.84,\"8237\":18.3,\"8238\":8.8,\"8239\":10.8,\"8240\":41.21,\"8241\":8.8,\"8242\":53.76,\"8243\":11.16,\"8244\":8.8,\"8245\":7.8,\"8246\":6.35,\"8247\":21.96,\"8248\":10.56,\"8249\":24.3,\"8250\":8.8,\"8251\":8.8,\"8252\":22.3,\"8253\":6.3,\"8254\":52.8,\"8255\":15.96,\"8256\":57.8,\"8257\":8.3,\"8258\":12.95,\"8259\":53.21,\"8260\":21.8,\"8261\":15.36,\"8262\":56.3,\"8263\":10.8,\"8264\":19.3,\"8265\":9.36,\"8266\":7.8,\"8267\":9.8,\"8268\":5.3,\"8269\":22.8,\"8270\":7.56,\"8271\":11.16,\"8272\":16.9,\"8273\":48.41,\"8274\":34.8,\"8275\":9.3,\"8276\":6.3,\"8277\":21.36,\"8278\":9.3,\"8279\":3.8,\"8280\":7.3,\"8281\":12.96,\"8282\":12.25,\"8283\":6.36,\"8284\":10.8,\"8285\":8.8,\"8286\":9.36,\"8287\":25.56,\"8288\":17.76,\"8289\":8.8,\"8290\":11.3,\"8291\":30.3,\"8292\":40.01,\"8293\":27.8,\"8294\":19.8,\"8295\":10.8,\"8296\":32.8,\"8297\":7.8,\"8298\":4.8,\"8299\":27.3,\"8300\":23.8,\"8301\":23.75,\"8302\":13.56,\"8303\":6.8,\"8304\":20.3,\"8305\":68.34,\"8306\":6.6,\"8307\":65.84,\"8308\":9.95,\"8309\":12.8,\"8310\":4.8,\"8311\":52.8,\"8312\":8.0,\"8313\":36.39,\"8314\":18.96,\"8315\":17.25,\"8316\":7.3,\"8317\":63.34,\"8318\":40.55,\"8319\":20.8,\"8320\":9.8,\"8321\":5.8,\"8322\":14.3,\"8323\":10.3,\"8324\":8.3,\"8325\":8.8,\"8326\":11.75,\"8327\":21.3,\"8328\":36.84,\"8329\":5.8,\"8330\":12.36,\"8331\":72.89,\"8332\":7.3,\"8333\":6.8,\"8334\":22.55,\"8335\":8.3,\"8336\":4.3,\"8337\":18.3,\"8338\":19.3,\"8339\":45.4,\"8340\":20.3,\"8341\":12.3,\"8342\":29.15,\"8343\":6.3,\"8344\":19.55,\"8345\":6.96,\"8346\":11.3,\"8347\":8.8,\"8348\":24.35,\"8349\":11.3,\"8350\":10.55,\"8351\":11.3,\"8352\":19.3,\"8353\":33.3,\"8354\":0.3,\"8355\":8.3,\"8356\":7.8,\"8357\":14.16,\"8358\":11.8,\"8359\":13.5,\"8360\":28.8,\"8361\":36.64,\"8362\":8.3,\"8363\":8.8,\"8364\":13.56,\"8365\":15.3,\"8366\":21.95,\"8367\":7.3,\"8368\":6.3,\"8369\":14.8,\"8370\":46.01,\"8371\":24.3,\"8372\":4.8,\"8373\":4.8,\"8374\":31.8,\"8375\":18.8,\"8376\":9.8,\"8377\":30.9,\"8378\":18.95,\"8379\":13.8,\"8380\":9.8,\"8381\":8.8,\"8382\":42.84,\"8383\":8.3,\"8384\":55.59,\"8385\":52.8,\"8386\":69.99,\"8387\":6.96,\"8388\":29.16,\"8389\":15.8,\"8390\":27.3,\"8391\":46.34,\"8392\":8.75,\"8393\":39.95,\"8394\":9.3,\"8395\":32.8,\"8396\":20.3,\"8397\":26.8,\"8398\":6.36,\"8399\":16.55,\"8400\":7.56,\"8401\":6.8,\"8402\":27.95,\"8403\":4.8,\"8404\":6.24,\"8405\":10.8,\"8406\":24.75,\"8407\":11.0,\"8408\":19.3,\"8409\":8.15,\"8410\":9.35,\"8411\":46.04,\"8412\":14.76,\"8413\":7.8,\"8414\":8.8,\"8415\":22.55,\"8416\":25.8,\"8417\":9.75,\"8418\":7.3,\"8419\":72.36,\"8420\":36.96,\"8421\":18.8,\"8422\":11.8,\"8423\":32.25,\"8424\":4.8,\"8425\":11.15,\"8426\":32.16,\"8427\":11.16,\"8428\":7.88,\"8429\":15.8,\"8430\":11.8,\"8431\":9.75,\"8432\":15.3,\"8433\":8.3,\"8434\":8.0,\"8435\":12.8,\"8436\":45.34,\"8437\":8.8,\"8438\":10.3,\"8439\":9.8,\"8440\":34.8,\"8441\":7.3,\"8442\":5.8,\"8443\":17.3,\"8444\":11.8,\"8445\":15.95,\"8446\":9.1,\"8447\":14.75,\"8448\":6.3,\"8449\":17.3,\"8450\":9.49,\"8451\":8.3,\"8452\":9.8,\"8453\":9.96,\"8454\":6.3,\"8455\":7.8,\"8456\":6.3,\"8457\":33.95,\"8458\":53.76,\"8459\":14.3,\"8460\":21.8,\"8461\":20.35,\"8462\":11.75,\"8463\":10.3,\"8464\":14.8,\"8465\":10.8,\"8466\":16.3,\"8467\":56.16,\"8468\":8.3,\"8469\":9.8,\"8470\":9.8,\"8471\":41.21,\"8472\":13.3,\"8473\":8.76,\"8474\":43.56,\"8475\":12.8,\"8476\":7.3,\"8477\":17.3,\"8478\":11.8,\"8479\":9.8,\"8480\":10.56,\"8481\":6.3,\"8482\":5.91,\"8483\":8.8,\"8484\":51.3,\"8485\":6.8,\"8486\":6.8,\"8487\":10.3,\"8488\":9.3,\"8489\":5.16,\"8490\":4.3,\"8491\":11.0,\"8492\":7.3,\"8493\":9.1,\"8494\":9.3,\"8495\":16.3,\"8496\":12.3,\"8497\":9.96,\"8498\":8.75,\"8499\":11.62,\"8500\":25.8,\"8501\":22.8,\"8502\":12.85,\"8503\":40.59,\"8504\":34.3,\"8505\":6.8,\"8506\":11.16,\"8507\":23.75,\"8508\":11.6,\"8509\":7.56,\"8510\":20.3,\"8511\":12.3,\"8512\":10.3,\"8513\":160.05,\"8514\":16.3,\"8515\":13.3,\"8516\":24.8,\"8517\":29.8,\"8518\":23.3,\"8519\":9.8,\"8520\":27.65,\"8521\":40.0,\"8522\":6.35,\"8523\":12.8,\"8524\":18.5,\"8525\":14.76,\"8526\":9.3,\"8527\":22.8,\"8528\":11.8,\"8529\":0.3,\"8530\":12.35,\"8531\":7.8,\"8532\":37.3,\"8533\":10.8,\"8534\":6.8,\"8535\":36.84,\"8536\":9.3,\"8537\":25.56,\"8538\":50.19,\"8539\":8.16,\"8540\":22.8,\"8541\":17.8,\"8542\":18.3,\"8543\":13.3,\"8544\":5.3,\"8545\":42.41,\"8546\":44.84,\"8547\":15.8,\"8548\":9.49,\"8549\":23.8,\"8550\":31.3,\"8551\":34.84,\"8552\":31.8,\"8553\":9.75,\"8554\":17.85,\"8555\":23.8,\"8556\":8.8,\"8557\":6.8,\"8558\":28.3,\"8559\":17.75,\"8560\":9.8,\"8561\":69.99,\"8562\":18.0,\"8563\":37.59,\"8564\":25.3,\"8565\":15.8,\"8566\":8.16,\"8567\":22.3,\"8568\":24.95,\"8569\":6.8,\"8570\":14.3,\"8571\":9.8,\"8572\":24.44,\"8573\":8.8,\"8574\":9.96,\"8575\":17.3,\"8576\":27.8,\"8577\":8.3,\"8578\":23.8,\"8579\":20.16,\"8580\":17.75,\"8581\":25.8,\"8582\":20.8,\"8583\":10.3,\"8584\":4.3,\"8585\":10.8,\"8586\":20.76,\"8587\":10.8,\"8588\":7.8,\"8589\":8.3,\"8590\":30.8,\"8591\":30.37,\"8592\":7.8,\"8593\":36.3,\"8594\":34.3,\"8595\":29.75,\"8596\":81.96,\"8597\":12.36,\"8598\":21.19,\"8599\":58.6,\"8600\":10.55,\"8601\":39.3,\"8602\":6.3,\"8603\":41.68,\"8604\":36.3,\"8605\":21.3,\"8606\":11.76,\"8607\":12.8,\"8608\":11.3,\"8609\":12.8,\"8610\":9.8,\"8611\":10.8,\"8612\":30.8,\"8613\":18.8,\"8614\":21.3,\"8615\":5.75,\"8616\":20.8,\"8617\":13.8,\"8618\":10.8,\"8619\":15.95,\"8620\":70.01,\"8621\":20.8,\"8622\":21.35,\"8623\":26.16,\"8624\":10.56,\"8625\":3.8,\"8626\":12.88,\"8627\":32.84,\"8628\":11.76,\"8629\":36.67,\"8630\":8.16,\"8631\":17.16,\"8632\":6.8,\"8633\":10.0,\"8634\":13.3,\"8635\":16.55,\"8636\":8.8,\"8637\":8.76,\"8638\":3.8,\"8639\":9.3,\"8640\":19.56,\"8641\":7.55,\"8642\":10.8,\"8643\":5.3,\"8644\":11.3,\"8645\":14.8,\"8646\":43.61,\"8647\":63.36,\"8648\":23.16,\"8649\":13.9,\"8650\":7.55,\"8651\":11.8,\"8652\":18.3,\"8653\":20.16,\"8654\":49.8,\"8655\":4.8,\"8656\":40.35,\"8657\":26.8,\"8658\":71.05,\"8659\":69.99,\"8660\":45.95,\"8661\":11.3,\"8662\":23.1,\"8663\":10.37,\"8664\":18.3,\"8665\":24.12,\"8666\":22.8,\"8667\":5.8,\"8668\":14.15,\"8669\":6.8,\"8670\":56.8,\"8671\":12.36,\"8672\":5.8,\"8673\":23.3,\"8674\":6.3,\"8675\":9.36,\"8676\":18.96,\"8677\":11.15,\"8678\":8.76,\"8679\":9.35,\"8680\":15.95,\"8681\":10.56,\"8682\":63.35,\"8683\":15.96,\"8684\":4.8,\"8685\":14.3,\"8686\":16.3,\"8687\":6.3,\"8688\":7.3,\"8689\":33.3,\"8690\":11.6,\"8691\":41.81,\"8692\":9.8,\"8693\":15.3,\"8694\":6.8,\"8695\":15.8,\"8696\":23.14,\"8697\":8.3,\"8698\":69.99,\"8699\":8.76,\"8700\":24.96,\"8701\":22.8,\"8702\":10.8,\"8703\":9.8,\"8704\":12.3,\"8705\":9.0,\"8706\":38.8,\"8707\":12.3,\"8708\":8.8,\"8709\":9.8,\"8710\":8.8,\"8711\":6.3,\"8712\":16.55,\"8713\":11.76,\"8714\":7.3,\"8715\":47.21,\"8716\":6.8,\"8717\":63.35,\"8718\":10.3,\"8719\":11.16,\"8720\":10.3,\"8721\":14.75,\"8722\":6.8,\"8723\":10.35,\"8724\":15.35,\"8725\":5.8,\"8726\":10.3,\"8727\":9.95,\"8728\":7.3,\"8729\":18.3,\"8730\":10.8,\"8731\":7.56,\"8732\":15.3,\"8733\":8.3,\"8734\":10.3,\"8735\":7.3,\"8736\":10.4,\"8737\":70.01,\"8738\":12.8,\"8739\":28.55,\"8740\":7.54,\"8741\":11.3,\"8742\":14.8,\"8743\":11.3,\"8744\":11.0,\"8745\":8.3,\"8746\":11.44,\"8747\":32.88,\"8748\":44.64,\"8749\":16.56,\"8750\":22.3,\"8751\":47.92,\"8752\":19.3,\"8753\":70.01,\"8754\":6.95,\"8755\":17.16,\"8756\":17.76,\"8757\":8.3,\"8758\":8.75,\"8759\":10.3,\"8760\":70.01,\"8761\":8.75,\"8762\":40.59,\"8763\":9.3,\"8764\":6.6,\"8765\":43.01,\"8766\":9.8,\"8767\":63.34,\"8768\":5.3,\"8769\":12.3,\"8770\":12.96,\"8771\":16.55,\"8772\":9.3,\"8773\":7.8,\"8774\":12.3,\"8775\":7.3,\"8776\":8.76,\"8777\":10.3,\"8778\":11.3,\"8779\":5.8,\"8780\":8.76,\"8781\":56.34,\"8782\":20.8,\"8783\":34.8,\"8784\":13.56,\"8785\":29.0,\"8786\":12.95,\"8787\":10.79,\"8788\":9.95,\"8789\":14.16,\"8790\":40.01,\"8791\":6.1,\"8792\":58.34,\"8793\":8.8,\"8794\":33.5,\"8795\":27.3,\"8796\":9.3,\"8797\":32.3,\"8798\":9.8,\"8799\":35.81,\"8800\":12.35,\"8801\":47.29,\"8802\":6.3,\"8803\":28.8,\"8804\":46.59,\"8805\":6.35,\"8806\":6.3,\"8807\":25.8,\"8808\":8.8,\"8809\":42.25,\"8810\":37.84,\"8811\":7.56,\"8812\":17.29,\"8813\":39.8,\"8814\":26.76,\"8815\":7.8,\"8816\":38.53,\"8817\":66.34,\"8818\":42.99,\"8819\":6.8,\"8820\":17.3,\"8821\":12.36,\"8822\":37.89,\"8823\":16.3,\"8824\":7.8,\"8825\":33.3,\"8826\":28.3,\"8827\":14.3,\"8828\":13.3,\"8829\":11.76,\"8830\":23.3,\"8831\":61.34,\"8832\":6.3,\"8833\":58.34,\"8834\":14.16,\"8835\":32.3,\"8836\":14.12,\"8837\":11.8,\"8838\":4.8,\"8839\":10.8,\"8840\":5.3,\"8841\":7.3,\"8842\":13.8,\"8843\":30.35,\"8844\":14.3,\"8845\":6.36,\"8846\":10.8,\"8847\":14.16,\"8848\":17.3,\"8849\":43.54,\"8850\":29.8,\"8851\":12.8,\"8852\":8.3,\"8853\":11.62,\"8854\":11.3,\"8855\":6.36,\"8856\":40.69,\"8857\":9.96,\"8858\":45.36,\"8859\":14.16,\"8860\":7.3,\"8861\":47.16,\"8862\":10.8,\"8863\":18.3,\"8864\":27.69,\"8865\":20.75,\"8866\":32.25,\"8867\":7.3,\"8868\":15.3,\"8869\":55.8,\"8870\":22.88,\"8871\":8.3,\"8872\":70.01,\"8873\":7.3,\"8874\":8.8,\"8875\":8.3,\"8876\":4.8,\"8877\":12.0,\"8878\":6.3,\"8879\":6.3,\"8880\":6.28,\"8881\":15.3,\"8882\":46.8,\"8883\":5.8,\"8884\":5.8,\"8885\":24.8,\"8886\":13.56,\"8887\":9.96,\"8888\":19.56,\"8889\":42.39,\"8890\":31.56,\"8891\":36.34,\"8892\":19.3,\"8893\":7.3,\"8894\":35.2,\"8895\":10.55,\"8896\":24.3,\"8897\":7.8,\"8898\":7.3,\"8899\":11.3,\"8900\":10.3,\"8901\":13.56,\"8902\":8.16,\"8903\":8.3,\"8904\":19.3,\"8905\":12.36,\"8906\":12.96,\"8907\":24.34,\"8908\":4.3,\"8909\":48.35,\"8910\":5.3,\"8911\":12.3,\"8912\":10.3,\"8913\":8.8,\"8914\":10.3,\"8915\":16.0,\"8916\":47.85,\"8917\":8.76,\"8918\":10.55,\"8919\":6.6,\"8920\":10.56,\"8921\":15.95,\"8922\":15.95,\"8923\":49.8,\"8924\":9.8,\"8925\":26.0,\"8926\":7.3,\"8927\":31.3,\"8928\":8.8,\"8929\":19.8,\"8930\":13.35,\"8931\":8.16,\"8932\":13.8,\"8933\":32.8,\"8934\":8.15,\"8935\":6.8,\"8936\":47.34,\"8937\":7.3,\"8938\":11.75,\"8939\":7.8,\"8940\":9.0,\"8941\":58.35,\"8942\":50.84,\"8943\":14.8,\"8944\":11.8,\"8945\":11.16,\"8946\":26.15,\"8947\":32.8,\"8948\":15.3,\"8949\":18.3,\"8950\":10.3,\"8951\":7.3,\"8952\":8.75,\"8953\":22.3,\"8954\":12.3,\"8955\":23.3,\"8956\":44.75,\"8957\":28.56,\"8958\":33.3,\"8959\":17.3,\"8960\":10.56,\"8961\":6.8,\"8962\":37.88,\"8963\":12.3,\"8964\":8.8,\"8965\":9.8,\"8966\":9.35,\"8967\":7.55,\"8968\":13.8,\"8969\":6.8,\"8970\":4.8,\"8971\":7.8,\"8972\":12.96,\"8973\":10.3,\"8974\":20.3,\"8975\":7.8,\"8976\":13.8,\"8977\":25.55,\"8978\":6.35,\"8979\":7.3,\"8980\":30.3,\"8981\":11.3,\"8982\":9.3,\"8983\":16.3,\"8984\":41.15,\"8985\":53.34,\"8986\":10.56,\"8987\":23.76,\"8988\":11.3,\"8989\":5.8,\"8990\":6.3,\"8991\":5.3,\"8992\":58.34,\"8993\":23.15,\"8994\":6.3,\"8995\":63.36,\"8996\":11.76,\"8997\":8.8,\"8998\":13.3,\"8999\":52.8,\"9000\":11.15,\"9001\":6.3,\"9002\":12.3,\"9003\":9.3,\"9004\":10.3,\"9005\":36.8,\"9006\":9.75,\"9007\":23.16,\"9008\":52.8,\"9009\":105.59,\"9010\":66.0,\"9011\":5.8,\"9012\":19.8,\"9013\":22.55,\"9014\":8.5,\"9015\":52.8,\"9016\":6.3,\"9017\":10.56,\"9018\":15.3,\"9019\":33.34,\"9020\":7.8,\"9021\":8.16,\"9022\":19.3,\"9023\":16.0,\"9024\":13.56,\"9025\":22.8,\"9026\":36.95,\"9027\":5.3,\"9028\":18.8,\"9029\":8.1,\"9030\":15.8,\"9031\":19.3,\"9032\":7.56,\"9033\":12.35,\"9034\":16.55,\"9035\":10.3,\"9036\":9.8,\"9037\":6.8,\"9038\":4.8,\"9039\":25.55,\"9040\":6.3,\"9041\":13.3,\"9042\":15.35,\"9043\":10.56,\"9044\":11.75,\"9045\":10.3,\"9046\":7.3,\"9047\":13.8,\"9048\":25.8,\"9049\":8.76,\"9050\":9.3,\"9051\":11.76,\"9052\":0.3,\"9053\":16.3,\"9054\":12.36,\"9055\":6.62,\"9056\":49.56,\"9057\":4.3,\"9058\":9.96,\"9059\":14.3,\"9060\":12.96,\"9061\":7.8,\"9062\":16.3,\"9063\":18.35,\"9064\":5.8,\"9065\":8.16,\"9066\":8.3,\"9067\":8.03,\"9068\":35.16,\"9069\":7.3,\"9070\":9.8,\"9071\":11.76,\"9072\":34.8,\"9073\":14.16,\"9074\":15.0,\"9075\":9.8,\"9076\":9.3,\"9077\":5.8,\"9078\":43.84,\"9079\":9.96,\"9080\":19.0,\"9081\":15.3,\"9082\":15.96,\"9083\":6.62,\"9084\":25.55,\"9085\":14.8,\"9086\":69.99,\"9087\":69.99,\"9088\":16.3,\"9089\":5.76,\"9090\":26.76,\"9091\":17.76,\"9092\":13.3,\"9093\":66.0,\"9094\":43.34,\"9095\":17.15,\"9096\":16.0,\"9097\":16.3,\"9098\":38.34,\"9099\":16.8,\"9100\":7.3,\"9101\":31.0,\"9102\":77.34,\"9103\":7.3,\"9104\":18.96,\"9105\":6.8,\"9106\":3.8,\"9107\":9.8,\"9108\":23.76,\"9109\":8.3,\"9110\":16.8,\"9111\":5.8,\"9112\":34.8,\"9113\":15.36,\"9114\":6.3,\"9115\":15.3,\"9116\":52.8,\"9117\":22.3,\"9118\":6.8,\"9119\":11.8,\"9120\":9.8,\"9121\":34.34,\"9122\":30.96,\"9123\":6.0,\"9124\":46.3,\"9125\":7.3,\"9126\":8.3,\"9127\":18.96,\"9128\":6.3,\"9129\":43.6,\"9130\":6.3,\"9131\":24.1,\"9132\":13.8,\"9133\":42.25,\"9134\":5.8,\"9135\":12.8,\"9136\":11.16,\"9137\":14.16,\"9138\":8.3,\"9139\":13.3,\"9140\":37.25,\"9141\":52.8,\"9142\":23.3,\"9143\":16.55,\"9144\":28.8,\"9145\":17.15,\"9146\":27.25,\"9147\":35.34,\"9148\":16.0,\"9149\":17.3,\"9150\":13.55,\"9151\":16.8,\"9152\":10.8,\"9153\":14.76,\"9154\":18.36,\"9155\":6.3,\"9156\":36.84,\"9157\":27.65,\"9158\":15.8,\"9159\":11.8,\"9160\":9.0,\"9161\":15.96,\"9162\":14.3,\"9163\":70.01,\"9164\":26.16,\"9165\":9.3,\"9166\":11.3,\"9167\":11.15,\"9168\":23.8,\"9169\":29.16,\"9170\":11.3,\"9171\":24.8,\"9172\":8.3,\"9173\":14.3,\"9174\":66.0,\"9175\":26.3,\"9176\":15.8,\"9177\":6.3,\"9178\":5.6,\"9179\":6.62,\"9180\":8.3,\"9181\":6.3,\"9182\":70.0,\"9183\":9.75,\"9184\":63.36,\"9185\":14.8,\"9186\":11.3,\"9187\":25.8,\"9188\":5.3,\"9189\":20.3,\"9190\":11.3,\"9191\":12.96,\"9192\":31.56,\"9193\":17.15,\"9194\":13.8,\"9195\":23.15,\"9196\":5.3,\"9197\":12.36,\"9198\":23.75,\"9199\":12.8,\"9200\":8.3,\"9201\":27.36,\"9202\":20.75,\"9203\":20.3,\"9204\":13.8,\"9205\":9.96,\"9206\":8.3,\"9207\":11.76,\"9208\":48.5,\"9209\":13.56,\"9210\":9.8,\"9211\":5.3,\"9212\":8.8,\"9213\":69.99,\"9214\":17.75,\"9215\":37.84,\"9216\":20.16,\"9217\":11.16,\"9218\":9.8,\"9219\":24.3,\"9220\":11.76,\"9221\":9.36,\"9222\":13.55,\"9223\":13.56,\"9224\":13.39,\"9225\":23.75,\"9226\":19.8,\"9227\":5.3,\"9228\":43.55,\"9229\":9.3,\"9230\":38.19,\"9231\":150.05,\"9232\":52.8,\"9233\":8.76,\"9234\":10.8,\"9235\":6.3,\"9236\":17.8,\"9237\":8.8,\"9238\":13.3,\"9239\":9.3,\"9240\":26.3,\"9241\":10.55,\"9242\":13.8,\"9243\":9.96,\"9244\":17.3,\"9245\":8.3,\"9246\":8.3,\"9247\":7.3,\"9248\":16.55,\"9249\":9.36,\"9250\":16.3,\"9251\":7.3,\"9252\":9.8,\"9253\":18.95,\"9254\":12.96,\"9255\":14.3,\"9256\":10.55,\"9257\":12.95,\"9258\":27.3,\"9259\":6.36,\"9260\":8.3,\"9261\":12.8,\"9262\":36.8,\"9263\":13.3,\"9264\":7.8,\"9265\":13.8,\"9266\":19.3,\"9267\":17.75,\"9268\":6.3,\"9269\":7.3,\"9270\":7.3,\"9271\":25.0,\"9272\":9.8,\"9273\":9.2,\"9274\":5.3,\"9275\":11.3,\"9276\":-7.3,\"9277\":6.95,\"9278\":15.3,\"9279\":19.3,\"9280\":7.55,\"9281\":194.3,\"9282\":16.3,\"9283\":9.36,\"9284\":8.3,\"9285\":8.8,\"9286\":6.8,\"9287\":12.96,\"9288\":21.35,\"9289\":7.3,\"9290\":8.15,\"9291\":12.25,\"9292\":20.3,\"9293\":14.76,\"9294\":18.96,\"9295\":15.36,\"9296\":14.16,\"9297\":15.96,\"9298\":12.96,\"9299\":5.8,\"9300\":12.3,\"9301\":6.96,\"9302\":15.38,\"9303\":8.76,\"9304\":18.36,\"9305\":63.34,\"9306\":35.45,\"9307\":22.8,\"9308\":8.3,\"9309\":6.3,\"9310\":26.3,\"9311\":26.3,\"9312\":8.3,\"9313\":8.75,\"9314\":8.8,\"9315\":10.56,\"9316\":10.56,\"9317\":11.3,\"9318\":10.8,\"9319\":4.3,\"9320\":20.76,\"9321\":13.3,\"9322\":11.3,\"9323\":24.95,\"9324\":35.34,\"9325\":7.3,\"9326\":11.3,\"9327\":6.3,\"9328\":5.16,\"9329\":10.8,\"9330\":12.36,\"9331\":32.8,\"9332\":5.8,\"9333\":18.96,\"9334\":23.8,\"9335\":16.8,\"9336\":4.3,\"9337\":12.8,\"9338\":10.0,\"9339\":44.79,\"9340\":64.84,\"9341\":12.8,\"9342\":13.8,\"9343\":6.8,\"9344\":6.36,\"9345\":11.3,\"9346\":24.12,\"9347\":10.3,\"9348\":8.8,\"9349\":18.96,\"9350\":38.16,\"9351\":7.3,\"9352\":20.75,\"9353\":8.8,\"9354\":18.8,\"9355\":8.3,\"9356\":41.76,\"9357\":8.19,\"9358\":12.0,\"9359\":5.8,\"9360\":8.3,\"9361\":7.3,\"9362\":21.3,\"9363\":26.16,\"9364\":13.5,\"9365\":12.3,\"9366\":18.36,\"9367\":25.8,\"9368\":60.0,\"9369\":9.35,\"9370\":17.75,\"9371\":61.3,\"9372\":5.8,\"9373\":14.16,\"9374\":19.8,\"9375\":6.3,\"9376\":63.36,\"9377\":8.8,\"9378\":20.8,\"9379\":6.8,\"9380\":11.76,\"9381\":41.34,\"9382\":10.38,\"9383\":9.75,\"9384\":11.16,\"9385\":8.8,\"9386\":5.3,\"9387\":7.8,\"9388\":6.96,\"9389\":8.15,\"9390\":9.35,\"9391\":32.25,\"9392\":23.15,\"9393\":57.88,\"9394\":110.46,\"9395\":36.3,\"9396\":13.3,\"9397\":18.8,\"9398\":18.3,\"9399\":42.95,\"9400\":7.55,\"9401\":11.3,\"9402\":24.8,\"9403\":11.8,\"9404\":7.3,\"9405\":7.85,\"9406\":6.8,\"9407\":7.3,\"9408\":19.8,\"9409\":68.34,\"9410\":6.8,\"9411\":69.99,\"9412\":12.9,\"9413\":9.3,\"9414\":24.96,\"9415\":23.16,\"9416\":14.8,\"9417\":6.6,\"9418\":7.8,\"9419\":5.8,\"9420\":19.55,\"9421\":14.76,\"9422\":5.3,\"9423\":9.8,\"9424\":10.8,\"9425\":25.55,\"9426\":12.96,\"9427\":35.8,\"9428\":8.76,\"9429\":11.76,\"9430\":53.3,\"9431\":59.34,\"9432\":12.36,\"9433\":19.8,\"9434\":10.3,\"9435\":7.25,\"9436\":10.7,\"9437\":3.8,\"9438\":13.3,\"9439\":5.3,\"9440\":9.8,\"9441\":37.3,\"9442\":7.3,\"9443\":9.3,\"9444\":24.99,\"9445\":8.8,\"9446\":10.55,\"9447\":4.8,\"9448\":8.76,\"9449\":63.36,\"9450\":6.8,\"9451\":4.8,\"9452\":3.8,\"9453\":14.75,\"9454\":52.8,\"9455\":7.8,\"9456\":13.8,\"9457\":26.8,\"9458\":22.3,\"9459\":15.8,\"9460\":6.3,\"9461\":19.55,\"9462\":21.95,\"9463\":6.8,\"9464\":11.76,\"9465\":35.3,\"9466\":9.36,\"9467\":4.3,\"9468\":22.55,\"9469\":4.8,\"9470\":11.8,\"9471\":12.85,\"9472\":11.3,\"9473\":7.3,\"9474\":8.75,\"9475\":63.34,\"9476\":6.8,\"9477\":50.76,\"9478\":12.95,\"9479\":6.8,\"9480\":35.81,\"9481\":17.16,\"9482\":7.54,\"9483\":8.16,\"9484\":22.3,\"9485\":24.44,\"9486\":11.3,\"9487\":22.3,\"9488\":5.3,\"9489\":27.8,\"9490\":7.3,\"9491\":24.95,\"9492\":8.3,\"9493\":13.3,\"9494\":37.01,\"9495\":5.3,\"9496\":8.8,\"9497\":8.15,\"9498\":10.3,\"9499\":9.8,\"9500\":23.3,\"9501\":11.76,\"9502\":17.76,\"9503\":13.3,\"9504\":7.8,\"9505\":7.55,\"9506\":17.29,\"9507\":5.3,\"9508\":10.55,\"9509\":9.8,\"9510\":8.16,\"9511\":29.3,\"9512\":17.3,\"9513\":29.8,\"9514\":15.3,\"9515\":10.37,\"9516\":7.3,\"9517\":28.56,\"9518\":12.95,\"9519\":9.12,\"9520\":17.8,\"9521\":24.36,\"9522\":7.3,\"9523\":9.8,\"9524\":55.56,\"9525\":15.3,\"9526\":19.3,\"9527\":14.76,\"9528\":20.15,\"9529\":9.3,\"9530\":16.8,\"9531\":26.15,\"9532\":23.8,\"9533\":19.3,\"9534\":8.3,\"9535\":52.55,\"9536\":14.3,\"9537\":9.95,\"9538\":9.8,\"9539\":22.8,\"9540\":35.34,\"9541\":9.13,\"9542\":9.75,\"9543\":6.36,\"9544\":4.3,\"9545\":9.8,\"9546\":19.56,\"9547\":44.76,\"9548\":23.3,\"9549\":49.8,\"9550\":59.16,\"9551\":39.3,\"9552\":14.3,\"9553\":7.8,\"9554\":52.8,\"9555\":16.3,\"9556\":7.55,\"9557\":18.36,\"9558\":35.15,\"9559\":14.16,\"9560\":34.84,\"9561\":44.3,\"9562\":13.3,\"9563\":7.3,\"9564\":30.8,\"9565\":8.3,\"9566\":12.96,\"9567\":15.96,\"9568\":7.3,\"9569\":7.3,\"9570\":12.88,\"9571\":31.3,\"9572\":5.59,\"9573\":17.15,\"9574\":13.55,\"9575\":7.54,\"9576\":6.8,\"9577\":7.3,\"9578\":10.3,\"9579\":13.56,\"9580\":7.3,\"9581\":21.36,\"9582\":36.84,\"9583\":19.55,\"9584\":22.8,\"9585\":15.3,\"9586\":20.8,\"9587\":26.8,\"9588\":5.3,\"9589\":17.88,\"9590\":27.3,\"9591\":41.84,\"9592\":5.8,\"9593\":23.3,\"9594\":11.3,\"9595\":9.35,\"9596\":29.8,\"9597\":6.8,\"9598\":16.8,\"9599\":25.8,\"9600\":9.3,\"9601\":17.3,\"9602\":30.38,\"9603\":7.8,\"9604\":21.36,\"9605\":6.3,\"9606\":17.76,\"9607\":13.55,\"9608\":27.8,\"9609\":12.95,\"9610\":5.8,\"9611\":69.99,\"9612\":41.15,\"9613\":24.3,\"9614\":19.55,\"9615\":7.55,\"9616\":17.0,\"9617\":6.0,\"9618\":16.55,\"9619\":10.8,\"9620\":7.3,\"9621\":9.35,\"9622\":7.3,\"9623\":11.16,\"9624\":8.3,\"9625\":8.3,\"9626\":7.8,\"9627\":20.75,\"9628\":7.8,\"9629\":17.16,\"9630\":9.8,\"9631\":48.96,\"9632\":40.61,\"9633\":8.3,\"9634\":35.34,\"9635\":15.36,\"9636\":10.3,\"9637\":14.15,\"9638\":11.3,\"9639\":14.15,\"9640\":21.36,\"9641\":8.8,\"9642\":29.75,\"9643\":11.8,\"9644\":38.76,\"9645\":5.3,\"9646\":13.8,\"9647\":29.3,\"9648\":5.3,\"9649\":68.34,\"9650\":37.34,\"9651\":22.8,\"9652\":12.36,\"9653\":6.3,\"9654\":9.8,\"9655\":5.76,\"9656\":35.84,\"9657\":11.8,\"9658\":12.96,\"9659\":19.3,\"9660\":11.15,\"9661\":21.36,\"9662\":8.8,\"9663\":60.8,\"9664\":9.8,\"9665\":18.8,\"9666\":52.8,\"9667\":6.3,\"9668\":17.25,\"9669\":10.8,\"9670\":14.8,\"9671\":9.35,\"9672\":9.1,\"9673\":19.8,\"9674\":10.55,\"9675\":6.3,\"9676\":16.3,\"9677\":18.3,\"9678\":36.3,\"9679\":21.0,\"9680\":56.76,\"9681\":31.3,\"9682\":9.95,\"9683\":10.3,\"9684\":9.3,\"9685\":69.99,\"9686\":6.3,\"9687\":7.8,\"9688\":16.62,\"9689\":7.8,\"9690\":5.3,\"9691\":7.8,\"9692\":44.3,\"9693\":18.8,\"9694\":20.3,\"9695\":12.3,\"9696\":7.3,\"9697\":7.8,\"9698\":6.96,\"9699\":9.3,\"9700\":6.3,\"9701\":84.35,\"9702\":11.76,\"9703\":11.75,\"9704\":28.3,\"9705\":25.8,\"9706\":12.25,\"9707\":6.3,\"9708\":7.8,\"9709\":11.8,\"9710\":12.8,\"9711\":22.56,\"9712\":8.8,\"9713\":34.34,\"9714\":27.85,\"9715\":13.3,\"9716\":8.3,\"9717\":16.8,\"9718\":14.3,\"9719\":4.8,\"9720\":29.34,\"9721\":6.8,\"9722\":5.8,\"9723\":18.5,\"9724\":9.49,\"9725\":9.3,\"9726\":8.8,\"9727\":14.3,\"9728\":30.84,\"9729\":69.99,\"9730\":25.8,\"9731\":11.3,\"9732\":12.36,\"9733\":7.3,\"9734\":9.75,\"9735\":12.3,\"9736\":8.15,\"9737\":11.8,\"9738\":6.36,\"9739\":9.8,\"9740\":4.3,\"9741\":18.8,\"9742\":10.3,\"9743\":11.8,\"9744\":8.8,\"9745\":6.8,\"9746\":9.3,\"9747\":7.3,\"9748\":39.8,\"9749\":18.8,\"9750\":12.8,\"9751\":7.3,\"9752\":34.84,\"9753\":19.56,\"9754\":7.3,\"9755\":34.3,\"9756\":40.8,\"9757\":5.75,\"9758\":31.3,\"9759\":24.8,\"9760\":13.3,\"9761\":5.8,\"9762\":8.8,\"9763\":5.8,\"9764\":50.84,\"9765\":7.25,\"9766\":40.38,\"9767\":7.8,\"9768\":5.8,\"9769\":5.3,\"9770\":12.36,\"9771\":15.3,\"9772\":32.89,\"9773\":11.15,\"9774\":17.8,\"9775\":11.3,\"9776\":24.3,\"9777\":4.8,\"9778\":7.8,\"9779\":12.3,\"9780\":13.8,\"9781\":6.96,\"9782\":29.3,\"9783\":13.8,\"9784\":10.8,\"9785\":39.3,\"9786\":43.3,\"9787\":8.3,\"9788\":22.8,\"9789\":30.96,\"9790\":9.8,\"9791\":15.02,\"9792\":15.3,\"9793\":12.96,\"9794\":70.01,\"9795\":13.55,\"9796\":39.41,\"9797\":9.8,\"9798\":22.0,\"9799\":47.3,\"9800\":70.01,\"9801\":7.3,\"9802\":18.5,\"9803\":28.8,\"9804\":20.8,\"9805\":15.35,\"9806\":16.3,\"9807\":8.8,\"9808\":10.3,\"9809\":20.8,\"9810\":6.3,\"9811\":7.8,\"9812\":44.34,\"9813\":18.0,\"9814\":32.3,\"9815\":12.8,\"9816\":24.95,\"9817\":15.3,\"9818\":42.41,\"9819\":20.38,\"9820\":9.35,\"9821\":8.3,\"9822\":5.8,\"9823\":14.3,\"9824\":13.8,\"9825\":10.55,\"9826\":15.8,\"9827\":10.56,\"9828\":8.3,\"9829\":47.25,\"9830\":14.16,\"9831\":6.62,\"9832\":22.56,\"9833\":8.3,\"9834\":13.56,\"9835\":7.3,\"9836\":24.1,\"9837\":8.8,\"9838\":40.42,\"9839\":11.0,\"9840\":11.3,\"9841\":5.3,\"9842\":19.8,\"9843\":51.0,\"9844\":8.76,\"9845\":7.3,\"9846\":10.8,\"9847\":38.16,\"9848\":8.3,\"9849\":7.8,\"9850\":7.3,\"9851\":24.95,\"9852\":6.8,\"9853\":5.3,\"9854\":8.5,\"9855\":63.34,\"9856\":17.85,\"9857\":56.3,\"9858\":10.8,\"9859\":6.8,\"9860\":14.16,\"9861\":18.8,\"9862\":11.76,\"9863\":7.3,\"9864\":20.16,\"9865\":36.34,\"9866\":5.8,\"9867\":14.76,\"9868\":58.34,\"9869\":5.8,\"9870\":6.8,\"9871\":28.56,\"9872\":6.8,\"9873\":17.8,\"9874\":17.16,\"9875\":13.82,\"9876\":6.95,\"9877\":12.0,\"9878\":10.56,\"9879\":48.95,\"9880\":10.8,\"9881\":5.16,\"9882\":5.3,\"9883\":10.8,\"9884\":70.01,\"9885\":7.3,\"9886\":18.35,\"9887\":6.8,\"9888\":25.8,\"9889\":27.3,\"9890\":24.39,\"9891\":6.8,\"9892\":9.3,\"9893\":5.8,\"9894\":8.8,\"9895\":40.61,\"9896\":14.16,\"9897\":62.14,\"9898\":14.8,\"9899\":68.84,\"9900\":35.76,\"9901\":21.35,\"9902\":7.55,\"9903\":10.3,\"9904\":13.3,\"9905\":8.8,\"9906\":58.56,\"9907\":6.3,\"9908\":12.3,\"9909\":6.38,\"9910\":21.8,\"9911\":16.6,\"9912\":9.3,\"9913\":14.3,\"9914\":12.8,\"9915\":11.8,\"9916\":8.8,\"9917\":5.3,\"9918\":7.8,\"9919\":11.3,\"9920\":19.56,\"9921\":8.15,\"9922\":5.8,\"9923\":12.95,\"9924\":21.3,\"9925\":23.3,\"9926\":14.8,\"9927\":15.3,\"9928\":31.8,\"9929\":18.3,\"9930\":7.3,\"9931\":13.3,\"9932\":4.3,\"9933\":14.8,\"9934\":15.8,\"9935\":10.56,\"9936\":7.56,\"9937\":3.8,\"9938\":10.3,\"9939\":4.3,\"9940\":11.3,\"9941\":27.8,\"9942\":13.3,\"9943\":12.35,\"9944\":42.8,\"9945\":10.3,\"9946\":21.3,\"9947\":5.8,\"9948\":6.96,\"9949\":11.3,\"9950\":5.8,\"9951\":10.3,\"9952\":7.3,\"9953\":10.79,\"9954\":5.8,\"9955\":51.96,\"9956\":10.8,\"9957\":12.8,\"9958\":23.79,\"9959\":58.34,\"9960\":35.34,\"9961\":14.16,\"9962\":5.76,\"9963\":9.3,\"9964\":58.34,\"9965\":7.3,\"9966\":14.15,\"9967\":7.3,\"9968\":10.3,\"9969\":21.36,\"9970\":21.3,\"9971\":8.76,\"9972\":12.36,\"9973\":15.96,\"9974\":10.55,\"9975\":33.36,\"9976\":36.3,\"9977\":8.05,\"9978\":4.8,\"9979\":41.75,\"9980\":31.3,\"9981\":19.38,\"9982\":28.8,\"9983\":9.96,\"9984\":7.3,\"9985\":8.8,\"9986\":21.35,\"9987\":8.3,\"9988\":8.5,\"9989\":8.76,\"9990\":26.62,\"9991\":9.3,\"9992\":23.3,\"9993\":18.3,\"9994\":12.3,\"9995\":20.3,\"9996\":22.3,\"9997\":7.8,\"9998\":26.75}}"
     ]
    }
   ],
   "source": [
    "!head small_taxi_data.json"
   ]
  },
  {
   "cell_type": "code",
   "execution_count": 315,
   "id": "5d50f1ef",
   "metadata": {},
   "outputs": [],
   "source": [
    "# feather \n",
    "\n",
    "df.to_feather('small_taxi_data.feather')"
   ]
  },
  {
   "cell_type": "code",
   "execution_count": 316,
   "id": "646bf0d2",
   "metadata": {},
   "outputs": [
    {
     "name": "stdout",
     "output_type": "stream",
     "text": [
      "-rw-r--r-- 1 reuven staff 161K Jun  7 22:19 small_taxi_data.csv\r\n",
      "-rw-r--r-- 1 reuven staff  86K Jun  7 22:21 small_taxi_data.feather\r\n",
      "-rw-r--r-- 1 reuven staff 316K Jun  7 22:20 small_taxi_data.json\r\n"
     ]
    }
   ],
   "source": [
    "!ls -lh small*"
   ]
  },
  {
   "cell_type": "code",
   "execution_count": 317,
   "id": "354c0979",
   "metadata": {},
   "outputs": [
    {
     "name": "stdout",
     "output_type": "stream",
     "text": [
      "4.33 ms ± 303 µs per loop (mean ± std. dev. of 7 runs, 100 loops each)\n"
     ]
    }
   ],
   "source": [
    "%timeit taxi_df = pd.read_csv('small_taxi_data.csv')"
   ]
  },
  {
   "cell_type": "code",
   "execution_count": 318,
   "id": "95d9932f",
   "metadata": {},
   "outputs": [
    {
     "name": "stdout",
     "output_type": "stream",
     "text": [
      "935 µs ± 10.9 µs per loop (mean ± std. dev. of 7 runs, 1000 loops each)\n"
     ]
    }
   ],
   "source": [
    "%timeit taxi_df = pd.read_feather('small_taxi_data.feather')"
   ]
  },
  {
   "cell_type": "code",
   "execution_count": 319,
   "id": "005e861d",
   "metadata": {},
   "outputs": [],
   "source": [
    "df.to_excel('small_taxi_data.xlsx')"
   ]
  },
  {
   "cell_type": "code",
   "execution_count": 320,
   "id": "b5433e90",
   "metadata": {},
   "outputs": [],
   "source": [
    "!open small_taxi_data.xlsx"
   ]
  },
  {
   "cell_type": "code",
   "execution_count": 321,
   "id": "bd005ca3",
   "metadata": {
    "scrolled": true
   },
   "outputs": [
    {
     "name": "stdout",
     "output_type": "stream",
     "text": [
      "Help on function read_csv in module pandas.io.parsers.readers:\n",
      "\n",
      "read_csv(filepath_or_buffer: 'FilePath | ReadCsvBuffer[bytes] | ReadCsvBuffer[str]', sep=<no_default>, delimiter=None, header='infer', names=<no_default>, index_col=None, usecols=None, squeeze=None, prefix=<no_default>, mangle_dupe_cols=True, dtype: 'DtypeArg | None' = None, engine: 'CSVEngine | None' = None, converters=None, true_values=None, false_values=None, skipinitialspace=False, skiprows=None, skipfooter=0, nrows=None, na_values=None, keep_default_na=True, na_filter=True, verbose=False, skip_blank_lines=True, parse_dates=None, infer_datetime_format=False, keep_date_col=False, date_parser=None, dayfirst=False, cache_dates=True, iterator=False, chunksize=None, compression: 'CompressionOptions' = 'infer', thousands=None, decimal: 'str' = '.', lineterminator=None, quotechar='\"', quoting=0, doublequote=True, escapechar=None, comment=None, encoding=None, encoding_errors: 'str | None' = 'strict', dialect=None, error_bad_lines=None, warn_bad_lines=None, on_bad_lines=None, delim_whitespace=False, low_memory=True, memory_map=False, float_precision=None, storage_options: 'StorageOptions' = None)\n",
      "    Read a comma-separated values (csv) file into DataFrame.\n",
      "    \n",
      "    Also supports optionally iterating or breaking of the file\n",
      "    into chunks.\n",
      "    \n",
      "    Additional help can be found in the online docs for\n",
      "    `IO Tools <https://pandas.pydata.org/pandas-docs/stable/user_guide/io.html>`_.\n",
      "    \n",
      "    Parameters\n",
      "    ----------\n",
      "    filepath_or_buffer : str, path object or file-like object\n",
      "        Any valid string path is acceptable. The string could be a URL. Valid\n",
      "        URL schemes include http, ftp, s3, gs, and file. For file URLs, a host is\n",
      "        expected. A local file could be: file://localhost/path/to/table.csv.\n",
      "    \n",
      "        If you want to pass in a path object, pandas accepts any ``os.PathLike``.\n",
      "    \n",
      "        By file-like object, we refer to objects with a ``read()`` method, such as\n",
      "        a file handle (e.g. via builtin ``open`` function) or ``StringIO``.\n",
      "    sep : str, default ','\n",
      "        Delimiter to use. If sep is None, the C engine cannot automatically detect\n",
      "        the separator, but the Python parsing engine can, meaning the latter will\n",
      "        be used and automatically detect the separator by Python's builtin sniffer\n",
      "        tool, ``csv.Sniffer``. In addition, separators longer than 1 character and\n",
      "        different from ``'\\s+'`` will be interpreted as regular expressions and\n",
      "        will also force the use of the Python parsing engine. Note that regex\n",
      "        delimiters are prone to ignoring quoted data. Regex example: ``'\\r\\t'``.\n",
      "    delimiter : str, default ``None``\n",
      "        Alias for sep.\n",
      "    header : int, list of int, None, default 'infer'\n",
      "        Row number(s) to use as the column names, and the start of the\n",
      "        data.  Default behavior is to infer the column names: if no names\n",
      "        are passed the behavior is identical to ``header=0`` and column\n",
      "        names are inferred from the first line of the file, if column\n",
      "        names are passed explicitly then the behavior is identical to\n",
      "        ``header=None``. Explicitly pass ``header=0`` to be able to\n",
      "        replace existing names. The header can be a list of integers that\n",
      "        specify row locations for a multi-index on the columns\n",
      "        e.g. [0,1,3]. Intervening rows that are not specified will be\n",
      "        skipped (e.g. 2 in this example is skipped). Note that this\n",
      "        parameter ignores commented lines and empty lines if\n",
      "        ``skip_blank_lines=True``, so ``header=0`` denotes the first line of\n",
      "        data rather than the first line of the file.\n",
      "    names : array-like, optional\n",
      "        List of column names to use. If the file contains a header row,\n",
      "        then you should explicitly pass ``header=0`` to override the column names.\n",
      "        Duplicates in this list are not allowed.\n",
      "    index_col : int, str, sequence of int / str, or False, optional, default ``None``\n",
      "      Column(s) to use as the row labels of the ``DataFrame``, either given as\n",
      "      string name or column index. If a sequence of int / str is given, a\n",
      "      MultiIndex is used.\n",
      "    \n",
      "      Note: ``index_col=False`` can be used to force pandas to *not* use the first\n",
      "      column as the index, e.g. when you have a malformed file with delimiters at\n",
      "      the end of each line.\n",
      "    usecols : list-like or callable, optional\n",
      "        Return a subset of the columns. If list-like, all elements must either\n",
      "        be positional (i.e. integer indices into the document columns) or strings\n",
      "        that correspond to column names provided either by the user in `names` or\n",
      "        inferred from the document header row(s). If ``names`` are given, the document\n",
      "        header row(s) are not taken into account. For example, a valid list-like\n",
      "        `usecols` parameter would be ``[0, 1, 2]`` or ``['foo', 'bar', 'baz']``.\n",
      "        Element order is ignored, so ``usecols=[0, 1]`` is the same as ``[1, 0]``.\n",
      "        To instantiate a DataFrame from ``data`` with element order preserved use\n",
      "        ``pd.read_csv(data, usecols=['foo', 'bar'])[['foo', 'bar']]`` for columns\n",
      "        in ``['foo', 'bar']`` order or\n",
      "        ``pd.read_csv(data, usecols=['foo', 'bar'])[['bar', 'foo']]``\n",
      "        for ``['bar', 'foo']`` order.\n",
      "    \n",
      "        If callable, the callable function will be evaluated against the column\n",
      "        names, returning names where the callable function evaluates to True. An\n",
      "        example of a valid callable argument would be ``lambda x: x.upper() in\n",
      "        ['AAA', 'BBB', 'DDD']``. Using this parameter results in much faster\n",
      "        parsing time and lower memory usage.\n",
      "    squeeze : bool, default False\n",
      "        If the parsed data only contains one column then return a Series.\n",
      "    \n",
      "        .. deprecated:: 1.4.0\n",
      "            Append ``.squeeze(\"columns\")`` to the call to ``read_csv`` to squeeze\n",
      "            the data.\n",
      "    prefix : str, optional\n",
      "        Prefix to add to column numbers when no header, e.g. 'X' for X0, X1, ...\n",
      "    \n",
      "        .. deprecated:: 1.4.0\n",
      "           Use a list comprehension on the DataFrame's columns after calling ``read_csv``.\n",
      "    mangle_dupe_cols : bool, default True\n",
      "        Duplicate columns will be specified as 'X', 'X.1', ...'X.N', rather than\n",
      "        'X'...'X'. Passing in False will cause data to be overwritten if there\n",
      "        are duplicate names in the columns.\n",
      "    dtype : Type name or dict of column -> type, optional\n",
      "        Data type for data or columns. E.g. {'a': np.float64, 'b': np.int32,\n",
      "        'c': 'Int64'}\n",
      "        Use `str` or `object` together with suitable `na_values` settings\n",
      "        to preserve and not interpret dtype.\n",
      "        If converters are specified, they will be applied INSTEAD\n",
      "        of dtype conversion.\n",
      "    engine : {'c', 'python', 'pyarrow'}, optional\n",
      "        Parser engine to use. The C and pyarrow engines are faster, while the python engine\n",
      "        is currently more feature-complete. Multithreading is currently only supported by\n",
      "        the pyarrow engine.\n",
      "    \n",
      "        .. versionadded:: 1.4.0\n",
      "    \n",
      "            The \"pyarrow\" engine was added as an *experimental* engine, and some features\n",
      "            are unsupported, or may not work correctly, with this engine.\n",
      "    converters : dict, optional\n",
      "        Dict of functions for converting values in certain columns. Keys can either\n",
      "        be integers or column labels.\n",
      "    true_values : list, optional\n",
      "        Values to consider as True.\n",
      "    false_values : list, optional\n",
      "        Values to consider as False.\n",
      "    skipinitialspace : bool, default False\n",
      "        Skip spaces after delimiter.\n",
      "    skiprows : list-like, int or callable, optional\n",
      "        Line numbers to skip (0-indexed) or number of lines to skip (int)\n",
      "        at the start of the file.\n",
      "    \n",
      "        If callable, the callable function will be evaluated against the row\n",
      "        indices, returning True if the row should be skipped and False otherwise.\n",
      "        An example of a valid callable argument would be ``lambda x: x in [0, 2]``.\n",
      "    skipfooter : int, default 0\n",
      "        Number of lines at bottom of file to skip (Unsupported with engine='c').\n",
      "    nrows : int, optional\n",
      "        Number of rows of file to read. Useful for reading pieces of large files.\n",
      "    na_values : scalar, str, list-like, or dict, optional\n",
      "        Additional strings to recognize as NA/NaN. If dict passed, specific\n",
      "        per-column NA values.  By default the following values are interpreted as\n",
      "        NaN: '', '#N/A', '#N/A N/A', '#NA', '-1.#IND', '-1.#QNAN', '-NaN', '-nan',\n",
      "        '1.#IND', '1.#QNAN', '<NA>', 'N/A', 'NA', 'NULL', 'NaN', 'n/a',\n",
      "        'nan', 'null'.\n",
      "    keep_default_na : bool, default True\n",
      "        Whether or not to include the default NaN values when parsing the data.\n",
      "        Depending on whether `na_values` is passed in, the behavior is as follows:\n",
      "    \n",
      "        * If `keep_default_na` is True, and `na_values` are specified, `na_values`\n",
      "          is appended to the default NaN values used for parsing.\n",
      "        * If `keep_default_na` is True, and `na_values` are not specified, only\n",
      "          the default NaN values are used for parsing.\n",
      "        * If `keep_default_na` is False, and `na_values` are specified, only\n",
      "          the NaN values specified `na_values` are used for parsing.\n",
      "        * If `keep_default_na` is False, and `na_values` are not specified, no\n",
      "          strings will be parsed as NaN.\n",
      "    \n",
      "        Note that if `na_filter` is passed in as False, the `keep_default_na` and\n",
      "        `na_values` parameters will be ignored.\n",
      "    na_filter : bool, default True\n",
      "        Detect missing value markers (empty strings and the value of na_values). In\n",
      "        data without any NAs, passing na_filter=False can improve the performance\n",
      "        of reading a large file.\n",
      "    verbose : bool, default False\n",
      "        Indicate number of NA values placed in non-numeric columns.\n",
      "    skip_blank_lines : bool, default True\n",
      "        If True, skip over blank lines rather than interpreting as NaN values.\n",
      "    parse_dates : bool or list of int or names or list of lists or dict, default False\n",
      "        The behavior is as follows:\n",
      "    \n",
      "        * boolean. If True -> try parsing the index.\n",
      "        * list of int or names. e.g. If [1, 2, 3] -> try parsing columns 1, 2, 3\n",
      "          each as a separate date column.\n",
      "        * list of lists. e.g.  If [[1, 3]] -> combine columns 1 and 3 and parse as\n",
      "          a single date column.\n",
      "        * dict, e.g. {'foo' : [1, 3]} -> parse columns 1, 3 as date and call\n",
      "          result 'foo'\n",
      "    \n",
      "        If a column or index cannot be represented as an array of datetimes,\n",
      "        say because of an unparsable value or a mixture of timezones, the column\n",
      "        or index will be returned unaltered as an object data type. For\n",
      "        non-standard datetime parsing, use ``pd.to_datetime`` after\n",
      "        ``pd.read_csv``. To parse an index or column with a mixture of timezones,\n",
      "        specify ``date_parser`` to be a partially-applied\n",
      "        :func:`pandas.to_datetime` with ``utc=True``. See\n",
      "        :ref:`io.csv.mixed_timezones` for more.\n",
      "    \n",
      "        Note: A fast-path exists for iso8601-formatted dates.\n",
      "    infer_datetime_format : bool, default False\n",
      "        If True and `parse_dates` is enabled, pandas will attempt to infer the\n",
      "        format of the datetime strings in the columns, and if it can be inferred,\n",
      "        switch to a faster method of parsing them. In some cases this can increase\n",
      "        the parsing speed by 5-10x.\n",
      "    keep_date_col : bool, default False\n",
      "        If True and `parse_dates` specifies combining multiple columns then\n",
      "        keep the original columns.\n",
      "    date_parser : function, optional\n",
      "        Function to use for converting a sequence of string columns to an array of\n",
      "        datetime instances. The default uses ``dateutil.parser.parser`` to do the\n",
      "        conversion. Pandas will try to call `date_parser` in three different ways,\n",
      "        advancing to the next if an exception occurs: 1) Pass one or more arrays\n",
      "        (as defined by `parse_dates`) as arguments; 2) concatenate (row-wise) the\n",
      "        string values from the columns defined by `parse_dates` into a single array\n",
      "        and pass that; and 3) call `date_parser` once for each row using one or\n",
      "        more strings (corresponding to the columns defined by `parse_dates`) as\n",
      "        arguments.\n",
      "    dayfirst : bool, default False\n",
      "        DD/MM format dates, international and European format.\n",
      "    cache_dates : bool, default True\n",
      "        If True, use a cache of unique, converted dates to apply the datetime\n",
      "        conversion. May produce significant speed-up when parsing duplicate\n",
      "        date strings, especially ones with timezone offsets.\n",
      "    \n",
      "        .. versionadded:: 0.25.0\n",
      "    iterator : bool, default False\n",
      "        Return TextFileReader object for iteration or getting chunks with\n",
      "        ``get_chunk()``.\n",
      "    \n",
      "        .. versionchanged:: 1.2\n",
      "    \n",
      "           ``TextFileReader`` is a context manager.\n",
      "    chunksize : int, optional\n",
      "        Return TextFileReader object for iteration.\n",
      "        See the `IO Tools docs\n",
      "        <https://pandas.pydata.org/pandas-docs/stable/io.html#io-chunking>`_\n",
      "        for more information on ``iterator`` and ``chunksize``.\n",
      "    \n",
      "        .. versionchanged:: 1.2\n",
      "    \n",
      "           ``TextFileReader`` is a context manager.\n",
      "    compression : str or dict, default 'infer'\n",
      "        For on-the-fly decompression of on-disk data. If 'infer' and '%s' is\n",
      "        path-like, then detect compression from the following extensions: '.gz',\n",
      "        '.bz2', '.zip', '.xz', or '.zst' (otherwise no compression). If using\n",
      "        'zip', the ZIP file must contain only one data file to be read in. Set to\n",
      "        ``None`` for no decompression. Can also be a dict with key ``'method'`` set\n",
      "        to one of {``'zip'``, ``'gzip'``, ``'bz2'``, ``'zstd'``} and other\n",
      "        key-value pairs are forwarded to ``zipfile.ZipFile``, ``gzip.GzipFile``,\n",
      "        ``bz2.BZ2File``, or ``zstandard.ZstdDecompressor``, respectively. As an\n",
      "        example, the following could be passed for Zstandard decompression using a\n",
      "        custom compression dictionary:\n",
      "        ``compression={'method': 'zstd', 'dict_data': my_compression_dict}``.\n",
      "    \n",
      "        .. versionchanged:: 1.4.0 Zstandard support.\n",
      "    \n",
      "    thousands : str, optional\n",
      "        Thousands separator.\n",
      "    decimal : str, default '.'\n",
      "        Character to recognize as decimal point (e.g. use ',' for European data).\n",
      "    lineterminator : str (length 1), optional\n",
      "        Character to break file into lines. Only valid with C parser.\n",
      "    quotechar : str (length 1), optional\n",
      "        The character used to denote the start and end of a quoted item. Quoted\n",
      "        items can include the delimiter and it will be ignored.\n",
      "    quoting : int or csv.QUOTE_* instance, default 0\n",
      "        Control field quoting behavior per ``csv.QUOTE_*`` constants. Use one of\n",
      "        QUOTE_MINIMAL (0), QUOTE_ALL (1), QUOTE_NONNUMERIC (2) or QUOTE_NONE (3).\n",
      "    doublequote : bool, default ``True``\n",
      "       When quotechar is specified and quoting is not ``QUOTE_NONE``, indicate\n",
      "       whether or not to interpret two consecutive quotechar elements INSIDE a\n",
      "       field as a single ``quotechar`` element.\n",
      "    escapechar : str (length 1), optional\n",
      "        One-character string used to escape other characters.\n",
      "    comment : str, optional\n",
      "        Indicates remainder of line should not be parsed. If found at the beginning\n",
      "        of a line, the line will be ignored altogether. This parameter must be a\n",
      "        single character. Like empty lines (as long as ``skip_blank_lines=True``),\n",
      "        fully commented lines are ignored by the parameter `header` but not by\n",
      "        `skiprows`. For example, if ``comment='#'``, parsing\n",
      "        ``#empty\\na,b,c\\n1,2,3`` with ``header=0`` will result in 'a,b,c' being\n",
      "        treated as the header.\n",
      "    encoding : str, optional\n",
      "        Encoding to use for UTF when reading/writing (ex. 'utf-8'). `List of Python\n",
      "        standard encodings\n",
      "        <https://docs.python.org/3/library/codecs.html#standard-encodings>`_ .\n",
      "    \n",
      "        .. versionchanged:: 1.2\n",
      "    \n",
      "           When ``encoding`` is ``None``, ``errors=\"replace\"`` is passed to\n",
      "           ``open()``. Otherwise, ``errors=\"strict\"`` is passed to ``open()``.\n",
      "           This behavior was previously only the case for ``engine=\"python\"``.\n",
      "    \n",
      "        .. versionchanged:: 1.3.0\n",
      "    \n",
      "           ``encoding_errors`` is a new argument. ``encoding`` has no longer an\n",
      "           influence on how encoding errors are handled.\n",
      "    \n",
      "    encoding_errors : str, optional, default \"strict\"\n",
      "        How encoding errors are treated. `List of possible values\n",
      "        <https://docs.python.org/3/library/codecs.html#error-handlers>`_ .\n",
      "    \n",
      "        .. versionadded:: 1.3.0\n",
      "    \n",
      "    dialect : str or csv.Dialect, optional\n",
      "        If provided, this parameter will override values (default or not) for the\n",
      "        following parameters: `delimiter`, `doublequote`, `escapechar`,\n",
      "        `skipinitialspace`, `quotechar`, and `quoting`. If it is necessary to\n",
      "        override values, a ParserWarning will be issued. See csv.Dialect\n",
      "        documentation for more details.\n",
      "    error_bad_lines : bool, optional, default ``None``\n",
      "        Lines with too many fields (e.g. a csv line with too many commas) will by\n",
      "        default cause an exception to be raised, and no DataFrame will be returned.\n",
      "        If False, then these \"bad lines\" will be dropped from the DataFrame that is\n",
      "        returned.\n",
      "    \n",
      "        .. deprecated:: 1.3.0\n",
      "           The ``on_bad_lines`` parameter should be used instead to specify behavior upon\n",
      "           encountering a bad line instead.\n",
      "    warn_bad_lines : bool, optional, default ``None``\n",
      "        If error_bad_lines is False, and warn_bad_lines is True, a warning for each\n",
      "        \"bad line\" will be output.\n",
      "    \n",
      "        .. deprecated:: 1.3.0\n",
      "           The ``on_bad_lines`` parameter should be used instead to specify behavior upon\n",
      "           encountering a bad line instead.\n",
      "    on_bad_lines : {'error', 'warn', 'skip'} or callable, default 'error'\n",
      "        Specifies what to do upon encountering a bad line (a line with too many fields).\n",
      "        Allowed values are :\n",
      "    \n",
      "            - 'error', raise an Exception when a bad line is encountered.\n",
      "            - 'warn', raise a warning when a bad line is encountered and skip that line.\n",
      "            - 'skip', skip bad lines without raising or warning when they are encountered.\n",
      "    \n",
      "        .. versionadded:: 1.3.0\n",
      "    \n",
      "            - callable, function with signature\n",
      "              ``(bad_line: list[str]) -> list[str] | None`` that will process a single\n",
      "              bad line. ``bad_line`` is a list of strings split by the ``sep``.\n",
      "              If the function returns ``None``, the bad line will be ignored.\n",
      "              If the function returns a new list of strings with more elements than\n",
      "              expected, a ``ParserWarning`` will be emitted while dropping extra elements.\n",
      "              Only supported when ``engine=\"python\"``\n",
      "    \n",
      "        .. versionadded:: 1.4.0\n",
      "    \n",
      "    delim_whitespace : bool, default False\n",
      "        Specifies whether or not whitespace (e.g. ``' '`` or ``'    '``) will be\n",
      "        used as the sep. Equivalent to setting ``sep='\\s+'``. If this option\n",
      "        is set to True, nothing should be passed in for the ``delimiter``\n",
      "        parameter.\n",
      "    low_memory : bool, default True\n",
      "        Internally process the file in chunks, resulting in lower memory use\n",
      "        while parsing, but possibly mixed type inference.  To ensure no mixed\n",
      "        types either set False, or specify the type with the `dtype` parameter.\n",
      "        Note that the entire file is read into a single DataFrame regardless,\n",
      "        use the `chunksize` or `iterator` parameter to return the data in chunks.\n",
      "        (Only valid with C parser).\n",
      "    memory_map : bool, default False\n",
      "        If a filepath is provided for `filepath_or_buffer`, map the file object\n",
      "        directly onto memory and access the data directly from there. Using this\n",
      "        option can improve performance because there is no longer any I/O overhead.\n",
      "    float_precision : str, optional\n",
      "        Specifies which converter the C engine should use for floating-point\n",
      "        values. The options are ``None`` or 'high' for the ordinary converter,\n",
      "        'legacy' for the original lower precision pandas converter, and\n",
      "        'round_trip' for the round-trip converter.\n",
      "    \n",
      "        .. versionchanged:: 1.2\n",
      "    \n",
      "    storage_options : dict, optional\n",
      "        Extra options that make sense for a particular storage connection, e.g.\n",
      "        host, port, username, password, etc. For HTTP(S) URLs the key-value pairs\n",
      "        are forwarded to ``urllib`` as header options. For other URLs (e.g.\n",
      "        starting with \"s3://\", and \"gcs://\") the key-value pairs are forwarded to\n",
      "        ``fsspec``. Please see ``fsspec`` and ``urllib`` for more details.\n",
      "    \n",
      "        .. versionadded:: 1.2\n",
      "    \n",
      "    Returns\n",
      "    -------\n",
      "    DataFrame or TextParser\n",
      "        A comma-separated values (csv) file is returned as two-dimensional\n",
      "        data structure with labeled axes.\n",
      "    \n",
      "    See Also\n",
      "    --------\n",
      "    DataFrame.to_csv : Write DataFrame to a comma-separated values (csv) file.\n",
      "    read_csv : Read a comma-separated values (csv) file into DataFrame.\n",
      "    read_fwf : Read a table of fixed-width formatted lines into DataFrame.\n",
      "    \n",
      "    Examples\n",
      "    --------\n",
      "    >>> pd.read_csv('data.csv')  # doctest: +SKIP\n",
      "\n"
     ]
    }
   ],
   "source": [
    "help(pd.read_csv)"
   ]
  },
  {
   "cell_type": "code",
   "execution_count": 322,
   "id": "8919767c",
   "metadata": {},
   "outputs": [
    {
     "data": {
      "text/html": [
       "<div>\n",
       "<style scoped>\n",
       "    .dataframe tbody tr th:only-of-type {\n",
       "        vertical-align: middle;\n",
       "    }\n",
       "\n",
       "    .dataframe tbody tr th {\n",
       "        vertical-align: top;\n",
       "    }\n",
       "\n",
       "    .dataframe thead th {\n",
       "        text-align: right;\n",
       "    }\n",
       "</style>\n",
       "<table border=\"1\" class=\"dataframe\">\n",
       "  <thead>\n",
       "    <tr style=\"text-align: right;\">\n",
       "      <th></th>\n",
       "      <th>Date</th>\n",
       "      <th>Open</th>\n",
       "      <th>High</th>\n",
       "      <th>Low</th>\n",
       "      <th>Close</th>\n",
       "      <th>Adj Close</th>\n",
       "      <th>Volume</th>\n",
       "    </tr>\n",
       "  </thead>\n",
       "  <tbody>\n",
       "    <tr>\n",
       "      <th>0</th>\n",
       "      <td>2017-12-22</td>\n",
       "      <td>38.520000</td>\n",
       "      <td>38.740002</td>\n",
       "      <td>38.470001</td>\n",
       "      <td>38.549999</td>\n",
       "      <td>38.264591</td>\n",
       "      <td>11441600</td>\n",
       "    </tr>\n",
       "    <tr>\n",
       "      <th>1</th>\n",
       "      <td>2017-12-26</td>\n",
       "      <td>38.549999</td>\n",
       "      <td>38.680000</td>\n",
       "      <td>38.360001</td>\n",
       "      <td>38.480000</td>\n",
       "      <td>38.195110</td>\n",
       "      <td>8186100</td>\n",
       "    </tr>\n",
       "    <tr>\n",
       "      <th>2</th>\n",
       "      <td>2017-12-27</td>\n",
       "      <td>38.540001</td>\n",
       "      <td>38.650002</td>\n",
       "      <td>38.450001</td>\n",
       "      <td>38.560001</td>\n",
       "      <td>38.274517</td>\n",
       "      <td>10543000</td>\n",
       "    </tr>\n",
       "    <tr>\n",
       "      <th>3</th>\n",
       "      <td>2017-12-28</td>\n",
       "      <td>38.730000</td>\n",
       "      <td>38.730000</td>\n",
       "      <td>38.450001</td>\n",
       "      <td>38.590000</td>\n",
       "      <td>38.304295</td>\n",
       "      <td>8807700</td>\n",
       "    </tr>\n",
       "    <tr>\n",
       "      <th>4</th>\n",
       "      <td>2017-12-29</td>\n",
       "      <td>38.410000</td>\n",
       "      <td>38.619999</td>\n",
       "      <td>38.299999</td>\n",
       "      <td>38.299999</td>\n",
       "      <td>38.016441</td>\n",
       "      <td>12583600</td>\n",
       "    </tr>\n",
       "    <tr>\n",
       "      <th>5</th>\n",
       "      <td>2018-01-02</td>\n",
       "      <td>38.669998</td>\n",
       "      <td>38.950001</td>\n",
       "      <td>38.430000</td>\n",
       "      <td>38.860001</td>\n",
       "      <td>38.572296</td>\n",
       "      <td>20135700</td>\n",
       "    </tr>\n",
       "    <tr>\n",
       "      <th>6</th>\n",
       "      <td>2018-01-03</td>\n",
       "      <td>38.720001</td>\n",
       "      <td>39.279999</td>\n",
       "      <td>38.529999</td>\n",
       "      <td>39.169998</td>\n",
       "      <td>38.879997</td>\n",
       "      <td>29536000</td>\n",
       "    </tr>\n",
       "    <tr>\n",
       "      <th>7</th>\n",
       "      <td>2018-01-04</td>\n",
       "      <td>39.049999</td>\n",
       "      <td>39.540001</td>\n",
       "      <td>38.930000</td>\n",
       "      <td>38.990002</td>\n",
       "      <td>38.990002</td>\n",
       "      <td>20731400</td>\n",
       "    </tr>\n",
       "    <tr>\n",
       "      <th>8</th>\n",
       "      <td>2018-01-05</td>\n",
       "      <td>39.549999</td>\n",
       "      <td>39.880001</td>\n",
       "      <td>39.369999</td>\n",
       "      <td>39.529999</td>\n",
       "      <td>39.529999</td>\n",
       "      <td>24588200</td>\n",
       "    </tr>\n",
       "    <tr>\n",
       "      <th>9</th>\n",
       "      <td>2018-01-08</td>\n",
       "      <td>39.520000</td>\n",
       "      <td>39.959999</td>\n",
       "      <td>39.349998</td>\n",
       "      <td>39.939999</td>\n",
       "      <td>39.939999</td>\n",
       "      <td>16582000</td>\n",
       "    </tr>\n",
       "    <tr>\n",
       "      <th>10</th>\n",
       "      <td>2018-01-09</td>\n",
       "      <td>39.790001</td>\n",
       "      <td>39.959999</td>\n",
       "      <td>39.540001</td>\n",
       "      <td>39.689999</td>\n",
       "      <td>39.689999</td>\n",
       "      <td>21449800</td>\n",
       "    </tr>\n",
       "    <tr>\n",
       "      <th>11</th>\n",
       "      <td>2018-01-10</td>\n",
       "      <td>39.650002</td>\n",
       "      <td>40.240002</td>\n",
       "      <td>39.630001</td>\n",
       "      <td>39.910000</td>\n",
       "      <td>39.910000</td>\n",
       "      <td>19473000</td>\n",
       "    </tr>\n",
       "    <tr>\n",
       "      <th>12</th>\n",
       "      <td>2018-01-11</td>\n",
       "      <td>40.139999</td>\n",
       "      <td>40.209999</td>\n",
       "      <td>39.750000</td>\n",
       "      <td>40.099998</td>\n",
       "      <td>40.099998</td>\n",
       "      <td>21685600</td>\n",
       "    </tr>\n",
       "    <tr>\n",
       "      <th>13</th>\n",
       "      <td>2018-01-12</td>\n",
       "      <td>40.220001</td>\n",
       "      <td>40.930000</td>\n",
       "      <td>40.049999</td>\n",
       "      <td>40.869999</td>\n",
       "      <td>40.869999</td>\n",
       "      <td>23770500</td>\n",
       "    </tr>\n",
       "    <tr>\n",
       "      <th>14</th>\n",
       "      <td>2018-01-16</td>\n",
       "      <td>40.900002</td>\n",
       "      <td>41.160000</td>\n",
       "      <td>40.320000</td>\n",
       "      <td>40.540001</td>\n",
       "      <td>40.540001</td>\n",
       "      <td>32845000</td>\n",
       "    </tr>\n",
       "    <tr>\n",
       "      <th>15</th>\n",
       "      <td>2018-01-17</td>\n",
       "      <td>40.840000</td>\n",
       "      <td>41.320000</td>\n",
       "      <td>40.709999</td>\n",
       "      <td>41.200001</td>\n",
       "      <td>41.200001</td>\n",
       "      <td>24427100</td>\n",
       "    </tr>\n",
       "    <tr>\n",
       "      <th>16</th>\n",
       "      <td>2018-01-18</td>\n",
       "      <td>41.240002</td>\n",
       "      <td>41.480000</td>\n",
       "      <td>41.029999</td>\n",
       "      <td>41.299999</td>\n",
       "      <td>41.299999</td>\n",
       "      <td>19610200</td>\n",
       "    </tr>\n",
       "    <tr>\n",
       "      <th>17</th>\n",
       "      <td>2018-01-19</td>\n",
       "      <td>41.279999</td>\n",
       "      <td>41.520000</td>\n",
       "      <td>41.099998</td>\n",
       "      <td>41.290001</td>\n",
       "      <td>41.290001</td>\n",
       "      <td>24207800</td>\n",
       "    </tr>\n",
       "    <tr>\n",
       "      <th>18</th>\n",
       "      <td>2018-01-22</td>\n",
       "      <td>41.200001</td>\n",
       "      <td>41.520000</td>\n",
       "      <td>41.020000</td>\n",
       "      <td>41.340000</td>\n",
       "      <td>41.340000</td>\n",
       "      <td>6792482</td>\n",
       "    </tr>\n",
       "  </tbody>\n",
       "</table>\n",
       "</div>"
      ],
      "text/plain": [
       "          Date       Open       High        Low      Close  Adj Close  \\\n",
       "0   2017-12-22  38.520000  38.740002  38.470001  38.549999  38.264591   \n",
       "1   2017-12-26  38.549999  38.680000  38.360001  38.480000  38.195110   \n",
       "2   2017-12-27  38.540001  38.650002  38.450001  38.560001  38.274517   \n",
       "3   2017-12-28  38.730000  38.730000  38.450001  38.590000  38.304295   \n",
       "4   2017-12-29  38.410000  38.619999  38.299999  38.299999  38.016441   \n",
       "5   2018-01-02  38.669998  38.950001  38.430000  38.860001  38.572296   \n",
       "6   2018-01-03  38.720001  39.279999  38.529999  39.169998  38.879997   \n",
       "7   2018-01-04  39.049999  39.540001  38.930000  38.990002  38.990002   \n",
       "8   2018-01-05  39.549999  39.880001  39.369999  39.529999  39.529999   \n",
       "9   2018-01-08  39.520000  39.959999  39.349998  39.939999  39.939999   \n",
       "10  2018-01-09  39.790001  39.959999  39.540001  39.689999  39.689999   \n",
       "11  2018-01-10  39.650002  40.240002  39.630001  39.910000  39.910000   \n",
       "12  2018-01-11  40.139999  40.209999  39.750000  40.099998  40.099998   \n",
       "13  2018-01-12  40.220001  40.930000  40.049999  40.869999  40.869999   \n",
       "14  2018-01-16  40.900002  41.160000  40.320000  40.540001  40.540001   \n",
       "15  2018-01-17  40.840000  41.320000  40.709999  41.200001  41.200001   \n",
       "16  2018-01-18  41.240002  41.480000  41.029999  41.299999  41.299999   \n",
       "17  2018-01-19  41.279999  41.520000  41.099998  41.290001  41.290001   \n",
       "18  2018-01-22  41.200001  41.520000  41.020000  41.340000  41.340000   \n",
       "\n",
       "      Volume  \n",
       "0   11441600  \n",
       "1    8186100  \n",
       "2   10543000  \n",
       "3    8807700  \n",
       "4   12583600  \n",
       "5   20135700  \n",
       "6   29536000  \n",
       "7   20731400  \n",
       "8   24588200  \n",
       "9   16582000  \n",
       "10  21449800  \n",
       "11  19473000  \n",
       "12  21685600  \n",
       "13  23770500  \n",
       "14  32845000  \n",
       "15  24427100  \n",
       "16  19610200  \n",
       "17  24207800  \n",
       "18   6792482  "
      ]
     },
     "execution_count": 322,
     "metadata": {},
     "output_type": "execute_result"
    }
   ],
   "source": [
    "pd.read_csv('https://gist.githubusercontent.com/reuven/bb116ba2034bb10bb7e4e2caa5d8a000/raw/3660c4af808684dbf17af48b3d2f25b6a218535f/CSCO.csv')"
   ]
  },
  {
   "cell_type": "markdown",
   "id": "3ebeffb4",
   "metadata": {},
   "source": [
    "# Exercise: Reading (old) Cisco stock prices\n",
    "\n",
    "1. Create a data frame based on the URL I pasted.  We only need Date, Close, and Volume columns.\n",
    "2. On which date was the closing price the highest? Lowest?\n",
    "3. When the volume was highest, what was the closing price?  When the volume was lowest?"
   ]
  },
  {
   "cell_type": "code",
   "execution_count": 323,
   "id": "65441d19",
   "metadata": {},
   "outputs": [
    {
     "data": {
      "text/html": [
       "<div>\n",
       "<style scoped>\n",
       "    .dataframe tbody tr th:only-of-type {\n",
       "        vertical-align: middle;\n",
       "    }\n",
       "\n",
       "    .dataframe tbody tr th {\n",
       "        vertical-align: top;\n",
       "    }\n",
       "\n",
       "    .dataframe thead th {\n",
       "        text-align: right;\n",
       "    }\n",
       "</style>\n",
       "<table border=\"1\" class=\"dataframe\">\n",
       "  <thead>\n",
       "    <tr style=\"text-align: right;\">\n",
       "      <th></th>\n",
       "      <th>Date</th>\n",
       "      <th>Close</th>\n",
       "      <th>Volume</th>\n",
       "    </tr>\n",
       "  </thead>\n",
       "  <tbody>\n",
       "    <tr>\n",
       "      <th>0</th>\n",
       "      <td>2017-12-22</td>\n",
       "      <td>38.549999</td>\n",
       "      <td>11441600</td>\n",
       "    </tr>\n",
       "    <tr>\n",
       "      <th>1</th>\n",
       "      <td>2017-12-26</td>\n",
       "      <td>38.480000</td>\n",
       "      <td>8186100</td>\n",
       "    </tr>\n",
       "    <tr>\n",
       "      <th>2</th>\n",
       "      <td>2017-12-27</td>\n",
       "      <td>38.560001</td>\n",
       "      <td>10543000</td>\n",
       "    </tr>\n",
       "    <tr>\n",
       "      <th>3</th>\n",
       "      <td>2017-12-28</td>\n",
       "      <td>38.590000</td>\n",
       "      <td>8807700</td>\n",
       "    </tr>\n",
       "    <tr>\n",
       "      <th>4</th>\n",
       "      <td>2017-12-29</td>\n",
       "      <td>38.299999</td>\n",
       "      <td>12583600</td>\n",
       "    </tr>\n",
       "  </tbody>\n",
       "</table>\n",
       "</div>"
      ],
      "text/plain": [
       "         Date      Close    Volume\n",
       "0  2017-12-22  38.549999  11441600\n",
       "1  2017-12-26  38.480000   8186100\n",
       "2  2017-12-27  38.560001  10543000\n",
       "3  2017-12-28  38.590000   8807700\n",
       "4  2017-12-29  38.299999  12583600"
      ]
     },
     "execution_count": 323,
     "metadata": {},
     "output_type": "execute_result"
    }
   ],
   "source": [
    "url = 'https://gist.githubusercontent.com/reuven/bb116ba2034bb10bb7e4e2caa5d8a000/raw/3660c4af808684dbf17af48b3d2f25b6a218535f/CSCO.csv'\n",
    "df = pd.read_csv(url, usecols=['Date', 'Close', 'Volume'])\n",
    "df.head()"
   ]
  },
  {
   "cell_type": "code",
   "execution_count": 324,
   "id": "4178f2f5",
   "metadata": {},
   "outputs": [
    {
     "data": {
      "text/plain": [
       "Date       object\n",
       "Close     float64\n",
       "Volume      int64\n",
       "dtype: object"
      ]
     },
     "execution_count": 324,
     "metadata": {},
     "output_type": "execute_result"
    }
   ],
   "source": [
    "df.dtypes"
   ]
  },
  {
   "cell_type": "code",
   "execution_count": 327,
   "id": "02441967",
   "metadata": {},
   "outputs": [
    {
     "data": {
      "text/plain": [
       "18    2018-01-22\n",
       "Name: Date, dtype: object"
      ]
     },
     "execution_count": 327,
     "metadata": {},
     "output_type": "execute_result"
    }
   ],
   "source": [
    "# On which date was the closing price the highest? Lowest?\n",
    "\n",
    "#       row selector                       date\n",
    "df.loc[df['Close'] == df['Close'].max(), 'Date']"
   ]
  },
  {
   "cell_type": "code",
   "execution_count": 328,
   "id": "e645b78c",
   "metadata": {},
   "outputs": [
    {
     "data": {
      "text/plain": [
       "4    2017-12-29\n",
       "Name: Date, dtype: object"
      ]
     },
     "execution_count": 328,
     "metadata": {},
     "output_type": "execute_result"
    }
   ],
   "source": [
    "#       row selector                       date\n",
    "df.loc[df['Close'] == df['Close'].min(), 'Date']"
   ]
  },
  {
   "cell_type": "code",
   "execution_count": 331,
   "id": "3f8b96bb",
   "metadata": {},
   "outputs": [
    {
     "data": {
      "text/plain": [
       "14    40.540001\n",
       "Name: Close, dtype: float64"
      ]
     },
     "execution_count": 331,
     "metadata": {},
     "output_type": "execute_result"
    }
   ],
   "source": [
    "#        row selector                    ,   column selector\n",
    "df.loc[df['Volume'] == df['Volume'].max(),   'Close']\n"
   ]
  },
  {
   "cell_type": "code",
   "execution_count": 332,
   "id": "71575273",
   "metadata": {},
   "outputs": [
    {
     "data": {
      "text/plain": [
       "18    41.34\n",
       "Name: Close, dtype: float64"
      ]
     },
     "execution_count": 332,
     "metadata": {},
     "output_type": "execute_result"
    }
   ],
   "source": [
    "#        row selector                    ,   column selector\n",
    "df.loc[df['Volume'] == df['Volume'].min(),   'Close']\n"
   ]
  },
  {
   "cell_type": "code",
   "execution_count": 333,
   "id": "004d6c0e",
   "metadata": {},
   "outputs": [],
   "source": [
    "url = 'https://en.wikipedia.org/wiki/List_of_countries_by_GDP_(nominal)'\n",
    "\n",
    "# pd.read_html returns a Python list of data frames, one for each HTML table in the URL\n",
    "\n",
    "all_dfs = pd.read_html(url)"
   ]
  },
  {
   "cell_type": "code",
   "execution_count": 334,
   "id": "6acf1ecf",
   "metadata": {},
   "outputs": [
    {
     "data": {
      "text/plain": [
       "7"
      ]
     },
     "execution_count": 334,
     "metadata": {},
     "output_type": "execute_result"
    }
   ],
   "source": [
    "len(all_dfs)"
   ]
  },
  {
   "cell_type": "code",
   "execution_count": 335,
   "id": "177f36f9",
   "metadata": {},
   "outputs": [
    {
     "data": {
      "text/html": [
       "<div>\n",
       "<style scoped>\n",
       "    .dataframe tbody tr th:only-of-type {\n",
       "        vertical-align: middle;\n",
       "    }\n",
       "\n",
       "    .dataframe tbody tr th {\n",
       "        vertical-align: top;\n",
       "    }\n",
       "\n",
       "    .dataframe thead th {\n",
       "        text-align: right;\n",
       "    }\n",
       "</style>\n",
       "<table border=\"1\" class=\"dataframe\">\n",
       "  <thead>\n",
       "    <tr style=\"text-align: right;\">\n",
       "      <th></th>\n",
       "      <th>0</th>\n",
       "    </tr>\n",
       "  </thead>\n",
       "  <tbody>\n",
       "    <tr>\n",
       "      <th>0</th>\n",
       "      <td>Largest economies in the world by GDP (Nominal...</td>\n",
       "    </tr>\n",
       "  </tbody>\n",
       "</table>\n",
       "</div>"
      ],
      "text/plain": [
       "                                                   0\n",
       "0  Largest economies in the world by GDP (Nominal..."
      ]
     },
     "execution_count": 335,
     "metadata": {},
     "output_type": "execute_result"
    }
   ],
   "source": [
    "all_dfs[0].head()"
   ]
  },
  {
   "cell_type": "code",
   "execution_count": 338,
   "id": "17dc3343",
   "metadata": {},
   "outputs": [],
   "source": [
    "df = all_dfs[2]"
   ]
  },
  {
   "cell_type": "code",
   "execution_count": 339,
   "id": "53eb1d55",
   "metadata": {},
   "outputs": [
    {
     "data": {
      "text/html": [
       "<div>\n",
       "<style scoped>\n",
       "    .dataframe tbody tr th:only-of-type {\n",
       "        vertical-align: middle;\n",
       "    }\n",
       "\n",
       "    .dataframe tbody tr th {\n",
       "        vertical-align: top;\n",
       "    }\n",
       "\n",
       "    .dataframe thead tr th {\n",
       "        text-align: left;\n",
       "    }\n",
       "</style>\n",
       "<table border=\"1\" class=\"dataframe\">\n",
       "  <thead>\n",
       "    <tr>\n",
       "      <th></th>\n",
       "      <th>Country/Territory</th>\n",
       "      <th>UN Region</th>\n",
       "      <th colspan=\"2\" halign=\"left\">IMF[1][12]</th>\n",
       "      <th colspan=\"2\" halign=\"left\">United Nations[13]</th>\n",
       "      <th colspan=\"2\" halign=\"left\">World Bank[14][15]</th>\n",
       "    </tr>\n",
       "    <tr>\n",
       "      <th></th>\n",
       "      <th>Country/Territory</th>\n",
       "      <th>UN Region</th>\n",
       "      <th>Estimate</th>\n",
       "      <th>Year</th>\n",
       "      <th>Estimate</th>\n",
       "      <th>Year</th>\n",
       "      <th>Estimate</th>\n",
       "      <th>Year</th>\n",
       "    </tr>\n",
       "  </thead>\n",
       "  <tbody>\n",
       "    <tr>\n",
       "      <th>0</th>\n",
       "      <td>United States</td>\n",
       "      <td>Americas</td>\n",
       "      <td>25346805.0</td>\n",
       "      <td>2022</td>\n",
       "      <td>20893746.0</td>\n",
       "      <td>2020</td>\n",
       "      <td>20936600.0</td>\n",
       "      <td>2020</td>\n",
       "    </tr>\n",
       "    <tr>\n",
       "      <th>1</th>\n",
       "      <td>China</td>\n",
       "      <td>Asia</td>\n",
       "      <td>19911593.0</td>\n",
       "      <td>[n 2]2022</td>\n",
       "      <td>14722801.0</td>\n",
       "      <td>[n 3]2020</td>\n",
       "      <td>14722731.0</td>\n",
       "      <td>2020</td>\n",
       "    </tr>\n",
       "    <tr>\n",
       "      <th>2</th>\n",
       "      <td>Japan</td>\n",
       "      <td>Asia</td>\n",
       "      <td>4912147.0</td>\n",
       "      <td>2022</td>\n",
       "      <td>5057759.0</td>\n",
       "      <td>2020</td>\n",
       "      <td>4975415.0</td>\n",
       "      <td>2020</td>\n",
       "    </tr>\n",
       "    <tr>\n",
       "      <th>3</th>\n",
       "      <td>Germany</td>\n",
       "      <td>Europe</td>\n",
       "      <td>4256540.0</td>\n",
       "      <td>2022</td>\n",
       "      <td>3846414.0</td>\n",
       "      <td>2020</td>\n",
       "      <td>3806060.0</td>\n",
       "      <td>2020</td>\n",
       "    </tr>\n",
       "    <tr>\n",
       "      <th>4</th>\n",
       "      <td>India</td>\n",
       "      <td>Asia</td>\n",
       "      <td>3534743.0</td>\n",
       "      <td>2022</td>\n",
       "      <td>2664749.0</td>\n",
       "      <td>2020</td>\n",
       "      <td>2622984.0</td>\n",
       "      <td>2020</td>\n",
       "    </tr>\n",
       "    <tr>\n",
       "      <th>...</th>\n",
       "      <td>...</td>\n",
       "      <td>...</td>\n",
       "      <td>...</td>\n",
       "      <td>...</td>\n",
       "      <td>...</td>\n",
       "      <td>...</td>\n",
       "      <td>...</td>\n",
       "      <td>...</td>\n",
       "    </tr>\n",
       "    <tr>\n",
       "      <th>211</th>\n",
       "      <td>Palau</td>\n",
       "      <td>Oceania</td>\n",
       "      <td>244.0</td>\n",
       "      <td>2022</td>\n",
       "      <td>264.0</td>\n",
       "      <td>2020</td>\n",
       "      <td>268.0</td>\n",
       "      <td>2019</td>\n",
       "    </tr>\n",
       "    <tr>\n",
       "      <th>212</th>\n",
       "      <td>Kiribati</td>\n",
       "      <td>Oceania</td>\n",
       "      <td>216.0</td>\n",
       "      <td>2022</td>\n",
       "      <td>181.0</td>\n",
       "      <td>2020</td>\n",
       "      <td>200.0</td>\n",
       "      <td>2020</td>\n",
       "    </tr>\n",
       "    <tr>\n",
       "      <th>213</th>\n",
       "      <td>Nauru</td>\n",
       "      <td>Oceania</td>\n",
       "      <td>134.0</td>\n",
       "      <td>2022</td>\n",
       "      <td>135.0</td>\n",
       "      <td>2020</td>\n",
       "      <td>118.0</td>\n",
       "      <td>2019</td>\n",
       "    </tr>\n",
       "    <tr>\n",
       "      <th>214</th>\n",
       "      <td>Montserrat</td>\n",
       "      <td>Americas</td>\n",
       "      <td>NaN</td>\n",
       "      <td>NaN</td>\n",
       "      <td>68.0</td>\n",
       "      <td>2020</td>\n",
       "      <td>NaN</td>\n",
       "      <td>NaN</td>\n",
       "    </tr>\n",
       "    <tr>\n",
       "      <th>215</th>\n",
       "      <td>Tuvalu</td>\n",
       "      <td>Oceania</td>\n",
       "      <td>66.0</td>\n",
       "      <td>2022</td>\n",
       "      <td>55.0</td>\n",
       "      <td>2020</td>\n",
       "      <td>49.0</td>\n",
       "      <td>2020</td>\n",
       "    </tr>\n",
       "  </tbody>\n",
       "</table>\n",
       "<p>216 rows × 8 columns</p>\n",
       "</div>"
      ],
      "text/plain": [
       "    Country/Territory UN Region  IMF[1][12]            United Nations[13]  \\\n",
       "    Country/Territory UN Region    Estimate       Year           Estimate   \n",
       "0       United States  Americas  25346805.0       2022         20893746.0   \n",
       "1               China      Asia  19911593.0  [n 2]2022         14722801.0   \n",
       "2               Japan      Asia   4912147.0       2022          5057759.0   \n",
       "3             Germany    Europe   4256540.0       2022          3846414.0   \n",
       "4               India      Asia   3534743.0       2022          2664749.0   \n",
       "..                ...       ...         ...        ...                ...   \n",
       "211             Palau   Oceania       244.0       2022              264.0   \n",
       "212          Kiribati   Oceania       216.0       2022              181.0   \n",
       "213             Nauru   Oceania       134.0       2022              135.0   \n",
       "214        Montserrat  Americas         NaN        NaN               68.0   \n",
       "215            Tuvalu   Oceania        66.0       2022               55.0   \n",
       "\n",
       "               World Bank[14][15]        \n",
       "          Year           Estimate  Year  \n",
       "0         2020         20936600.0  2020  \n",
       "1    [n 3]2020         14722731.0  2020  \n",
       "2         2020          4975415.0  2020  \n",
       "3         2020          3806060.0  2020  \n",
       "4         2020          2622984.0  2020  \n",
       "..         ...                ...   ...  \n",
       "211       2020              268.0  2019  \n",
       "212       2020              200.0  2020  \n",
       "213       2020              118.0  2019  \n",
       "214       2020                NaN   NaN  \n",
       "215       2020               49.0  2020  \n",
       "\n",
       "[216 rows x 8 columns]"
      ]
     },
     "execution_count": 339,
     "metadata": {},
     "output_type": "execute_result"
    }
   ],
   "source": [
    "df"
   ]
  },
  {
   "cell_type": "code",
   "execution_count": null,
   "id": "c91494ca",
   "metadata": {},
   "outputs": [],
   "source": []
  }
 ],
 "metadata": {
  "kernelspec": {
   "display_name": "Python 3 (ipykernel)",
   "language": "python",
   "name": "python3"
  },
  "language_info": {
   "codemirror_mode": {
    "name": "ipython",
    "version": 3
   },
   "file_extension": ".py",
   "mimetype": "text/x-python",
   "name": "python",
   "nbconvert_exporter": "python",
   "pygments_lexer": "ipython3",
   "version": "3.10.4"
  }
 },
 "nbformat": 4,
 "nbformat_minor": 5
}
