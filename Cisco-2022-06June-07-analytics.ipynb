{
 "cells": [
  {
   "cell_type": "markdown",
   "id": "b54d9ba0",
   "metadata": {},
   "source": [
    "# Agenda\n",
    "\n",
    "1. Pandas in general\n",
    "2. Series\n",
    "    - Creating \n",
    "    - Retrieving from them\n",
    "    - Methods\n",
    "    - Working with `nan`\n",
    "    - Broadcasting\n",
    "    - Indexes\n",
    "3. Data frames\n",
    "    - Creating\n",
    "    - Retrieving from them\n",
    "    - Applying methods across all columns\n",
    "4. Reading data from files\n",
    "    - CSV\n",
    "    - (Excel, a little)\n",
    "    - JSON\n",
    "    - Retrieving from the network"
   ]
  },
  {
   "cell_type": "markdown",
   "id": "03bd4bee",
   "metadata": {},
   "source": [
    "# Pandas data structures\n",
    "\n",
    "There are two main data structures you need to know about with Pandas:\n",
    "\n",
    "- `Series` -- basically a 1D NumPy array\n",
    "- `DataFrame` -- basically a 2D NumPy array\n",
    "\n",
    "The rows of a data frame are going to be equivalent to the rows of a NumPy array.\n",
    "\n",
    "The columns of a data frame are all going to be Series objects."
   ]
  },
  {
   "cell_type": "markdown",
   "id": "c100dfb1",
   "metadata": {},
   "source": [
    "# Installing pandas\n",
    "\n",
    "You can install it along with many other Python packages with `pip` (command-line program, not to be run inside of Python or Jupyter):\n",
    "\n",
    "    python3 -m pip install -U pandas\n",
    "    \n",
    "Once it is installed, then we'll want to load it into our program."
   ]
  },
  {
   "cell_type": "code",
   "execution_count": 2,
   "id": "3687a248",
   "metadata": {},
   "outputs": [],
   "source": [
    "import numpy as np\n",
    "import pandas as pd\n",
    "from pandas import Series, DataFrame"
   ]
  },
  {
   "cell_type": "code",
   "execution_count": 3,
   "id": "796b3694",
   "metadata": {},
   "outputs": [],
   "source": [
    "# let's create a Pandas Series\n",
    "\n",
    "s = Series([10, 20, 30, 40, 50, 60, 70])"
   ]
  },
  {
   "cell_type": "code",
   "execution_count": 4,
   "id": "2c245be7",
   "metadata": {},
   "outputs": [
    {
     "data": {
      "text/plain": [
       "pandas.core.series.Series"
      ]
     },
     "execution_count": 4,
     "metadata": {},
     "output_type": "execute_result"
    }
   ],
   "source": [
    "type(s)"
   ]
  },
  {
   "cell_type": "code",
   "execution_count": 5,
   "id": "e8166010",
   "metadata": {},
   "outputs": [
    {
     "data": {
      "text/plain": [
       "0    10\n",
       "1    20\n",
       "2    30\n",
       "3    40\n",
       "4    50\n",
       "5    60\n",
       "6    70\n",
       "dtype: int64"
      ]
     },
     "execution_count": 5,
     "metadata": {},
     "output_type": "execute_result"
    }
   ],
   "source": [
    "s"
   ]
  },
  {
   "cell_type": "code",
   "execution_count": 6,
   "id": "171c4e81",
   "metadata": {},
   "outputs": [
    {
     "data": {
      "text/plain": [
       "10"
      ]
     },
     "execution_count": 6,
     "metadata": {},
     "output_type": "execute_result"
    }
   ],
   "source": [
    "# I can do many of the same things with a series that I did with NumPy arrays\n",
    "\n",
    "s[0]"
   ]
  },
  {
   "cell_type": "code",
   "execution_count": 7,
   "id": "2dcf51e0",
   "metadata": {},
   "outputs": [
    {
     "data": {
      "text/plain": [
       "40"
      ]
     },
     "execution_count": 7,
     "metadata": {},
     "output_type": "execute_result"
    }
   ],
   "source": [
    "s[3]"
   ]
  },
  {
   "cell_type": "code",
   "execution_count": 8,
   "id": "6eb64998",
   "metadata": {},
   "outputs": [
    {
     "data": {
      "text/plain": [
       "280"
      ]
     },
     "execution_count": 8,
     "metadata": {},
     "output_type": "execute_result"
    }
   ],
   "source": [
    "s.sum()"
   ]
  },
  {
   "cell_type": "code",
   "execution_count": 9,
   "id": "d5d08407",
   "metadata": {},
   "outputs": [
    {
     "data": {
      "text/plain": [
       "40.0"
      ]
     },
     "execution_count": 9,
     "metadata": {},
     "output_type": "execute_result"
    }
   ],
   "source": [
    "s.mean()"
   ]
  },
  {
   "cell_type": "code",
   "execution_count": 10,
   "id": "6bd7d363",
   "metadata": {},
   "outputs": [],
   "source": [
    "s = Series([10, 20, 30, 40, 50, 60, 70], dtype=np.float64)"
   ]
  },
  {
   "cell_type": "code",
   "execution_count": 11,
   "id": "814c7cf2",
   "metadata": {},
   "outputs": [
    {
     "data": {
      "text/plain": [
       "0    10.0\n",
       "1    20.0\n",
       "2    30.0\n",
       "3    40.0\n",
       "4    50.0\n",
       "5    60.0\n",
       "6    70.0\n",
       "dtype: float64"
      ]
     },
     "execution_count": 11,
     "metadata": {},
     "output_type": "execute_result"
    }
   ],
   "source": [
    "s"
   ]
  },
  {
   "cell_type": "code",
   "execution_count": 12,
   "id": "09ba1206",
   "metadata": {},
   "outputs": [
    {
     "data": {
      "text/plain": [
       "array([10., 20., 30., 40., 50., 60., 70.])"
      ]
     },
     "execution_count": 12,
     "metadata": {},
     "output_type": "execute_result"
    }
   ],
   "source": [
    "# behind the scenes, we can find a NumPy array\n",
    "s.values"
   ]
  },
  {
   "cell_type": "code",
   "execution_count": 13,
   "id": "295dd958",
   "metadata": {},
   "outputs": [
    {
     "data": {
      "text/plain": [
       "0    44\n",
       "1    47\n",
       "2    64\n",
       "3    67\n",
       "4    67\n",
       "5     9\n",
       "6    83\n",
       "7    21\n",
       "8    36\n",
       "9    87\n",
       "dtype: int64"
      ]
     },
     "execution_count": 13,
     "metadata": {},
     "output_type": "execute_result"
    }
   ],
   "source": [
    "# I can create a Pandas Series  based on a 1D NumPy array\n",
    "\n",
    "np.random.seed(0)\n",
    "s = Series(np.random.randint(0, 100, 10))\n",
    "\n",
    "s"
   ]
  },
  {
   "cell_type": "code",
   "execution_count": 14,
   "id": "82f338fe",
   "metadata": {},
   "outputs": [
    {
     "data": {
      "text/plain": [
       "9"
      ]
     },
     "execution_count": 14,
     "metadata": {},
     "output_type": "execute_result"
    }
   ],
   "source": [
    "s.min()"
   ]
  },
  {
   "cell_type": "code",
   "execution_count": 15,
   "id": "b73e144f",
   "metadata": {},
   "outputs": [
    {
     "data": {
      "text/plain": [
       "87"
      ]
     },
     "execution_count": 15,
     "metadata": {},
     "output_type": "execute_result"
    }
   ],
   "source": [
    "s.max()"
   ]
  },
  {
   "cell_type": "code",
   "execution_count": 16,
   "id": "6f3d8c01",
   "metadata": {},
   "outputs": [
    {
     "data": {
      "text/plain": [
       "52.5"
      ]
     },
     "execution_count": 16,
     "metadata": {},
     "output_type": "execute_result"
    }
   ],
   "source": [
    "s.mean()"
   ]
  },
  {
   "cell_type": "code",
   "execution_count": 17,
   "id": "b65ecf69",
   "metadata": {},
   "outputs": [
    {
     "data": {
      "text/plain": [
       "25.67424130654432"
      ]
     },
     "execution_count": 17,
     "metadata": {},
     "output_type": "execute_result"
    }
   ],
   "source": [
    "s.std()"
   ]
  },
  {
   "cell_type": "code",
   "execution_count": 18,
   "id": "0ef84e01",
   "metadata": {},
   "outputs": [
    {
     "data": {
      "text/plain": [
       "525"
      ]
     },
     "execution_count": 18,
     "metadata": {},
     "output_type": "execute_result"
    }
   ],
   "source": [
    "s.sum()"
   ]
  },
  {
   "cell_type": "code",
   "execution_count": 20,
   "id": "919fb6cc",
   "metadata": {},
   "outputs": [
    {
     "data": {
      "text/plain": [
       "10"
      ]
     },
     "execution_count": 20,
     "metadata": {},
     "output_type": "execute_result"
    }
   ],
   "source": [
    "s.count()   # how many non-nan values are there in this series?"
   ]
  },
  {
   "cell_type": "code",
   "execution_count": 21,
   "id": "a6265b2b",
   "metadata": {},
   "outputs": [
    {
     "data": {
      "text/plain": [
       "0    False\n",
       "1    False\n",
       "2    False\n",
       "3    False\n",
       "4    False\n",
       "5     True\n",
       "6    False\n",
       "7     True\n",
       "8    False\n",
       "9    False\n",
       "dtype: bool"
      ]
     },
     "execution_count": 21,
     "metadata": {},
     "output_type": "execute_result"
    }
   ],
   "source": [
    "# can I create a boolean series, and use it as a mask index? YES!\n",
    "\n",
    "s < 30"
   ]
  },
  {
   "cell_type": "code",
   "execution_count": 22,
   "id": "3dfac943",
   "metadata": {},
   "outputs": [
    {
     "data": {
      "text/plain": [
       "5     9\n",
       "7    21\n",
       "dtype: int64"
      ]
     },
     "execution_count": 22,
     "metadata": {},
     "output_type": "execute_result"
    }
   ],
   "source": [
    "s[s<30]  # notice that when I filter the elements of s, the items I get back retain their original indexes"
   ]
  },
  {
   "cell_type": "code",
   "execution_count": 23,
   "id": "a5aca164",
   "metadata": {},
   "outputs": [
    {
     "data": {
      "text/plain": [
       "0    44\n",
       "1    47\n",
       "5     9\n",
       "7    21\n",
       "8    36\n",
       "dtype: int64"
      ]
     },
     "execution_count": 23,
     "metadata": {},
     "output_type": "execute_result"
    }
   ],
   "source": [
    "s[s<s.mean()]  # retrieve values less than the mean"
   ]
  },
  {
   "cell_type": "markdown",
   "id": "a250ca98",
   "metadata": {},
   "source": [
    "# Ways to retrieve from a series\n",
    "\n",
    "1. We've now seen that we can retrieve from a series using `[]`, just as we did with NumPy arrays.  But I'd like you to break this habit, ASAP.  (When we get to data frames, this will make more sense, and you won't regret it.)\n",
    "\n",
    "2. We can also retrieve from a series using the `.loc` accessor and `[]`.  This lets us retrieve via the index.\n",
    "\n",
    "3. We can also retrieve from a series using the `iloc` accessor and `[]`.  This lets us retrieve via the position in the series, regardless of the index, starting at 0."
   ]
  },
  {
   "cell_type": "code",
   "execution_count": 24,
   "id": "cbe79fa0",
   "metadata": {},
   "outputs": [],
   "source": [
    "a = s[s<s.mean()]"
   ]
  },
  {
   "cell_type": "code",
   "execution_count": 25,
   "id": "7c1fff71",
   "metadata": {},
   "outputs": [
    {
     "data": {
      "text/plain": [
       "0    44\n",
       "1    47\n",
       "5     9\n",
       "7    21\n",
       "8    36\n",
       "dtype: int64"
      ]
     },
     "execution_count": 25,
     "metadata": {},
     "output_type": "execute_result"
    }
   ],
   "source": [
    "a   # this is a series containing 5 elements."
   ]
  },
  {
   "cell_type": "code",
   "execution_count": 26,
   "id": "fbc8c189",
   "metadata": {},
   "outputs": [
    {
     "data": {
      "text/plain": [
       "9"
      ]
     },
     "execution_count": 26,
     "metadata": {},
     "output_type": "execute_result"
    }
   ],
   "source": [
    "# I can retrieve via the index using just [].  Again: Probably not a good idea, but it will work!\n",
    "a[5]"
   ]
  },
  {
   "cell_type": "code",
   "execution_count": 27,
   "id": "4ab1fa7d",
   "metadata": {},
   "outputs": [
    {
     "data": {
      "text/plain": [
       "36"
      ]
     },
     "execution_count": 27,
     "metadata": {},
     "output_type": "execute_result"
    }
   ],
   "source": [
    "a[8]"
   ]
  },
  {
   "cell_type": "code",
   "execution_count": 28,
   "id": "4602fdce",
   "metadata": {},
   "outputs": [
    {
     "data": {
      "text/plain": [
       "44"
      ]
     },
     "execution_count": 28,
     "metadata": {},
     "output_type": "execute_result"
    }
   ],
   "source": [
    "a[0]"
   ]
  },
  {
   "cell_type": "code",
   "execution_count": 29,
   "id": "f78fb1cb",
   "metadata": {},
   "outputs": [
    {
     "data": {
      "text/plain": [
       "1    47\n",
       "7    21\n",
       "dtype: int64"
      ]
     },
     "execution_count": 29,
     "metadata": {},
     "output_type": "execute_result"
    }
   ],
   "source": [
    "a[[1, 7]]   # fancy indexing works here, too!"
   ]
  },
  {
   "cell_type": "code",
   "execution_count": 30,
   "id": "45594b1b",
   "metadata": {},
   "outputs": [
    {
     "data": {
      "text/plain": [
       "9"
      ]
     },
     "execution_count": 30,
     "metadata": {},
     "output_type": "execute_result"
    }
   ],
   "source": [
    "# Better than [] alone is retrieving with .loc, which lets us specify the index\n",
    "\n",
    "a.loc[5]"
   ]
  },
  {
   "cell_type": "code",
   "execution_count": 31,
   "id": "99816f4d",
   "metadata": {},
   "outputs": [
    {
     "data": {
      "text/plain": [
       "36"
      ]
     },
     "execution_count": 31,
     "metadata": {},
     "output_type": "execute_result"
    }
   ],
   "source": [
    "a.loc[8]"
   ]
  },
  {
   "cell_type": "code",
   "execution_count": 32,
   "id": "a3905c9d",
   "metadata": {},
   "outputs": [
    {
     "data": {
      "text/plain": [
       "44"
      ]
     },
     "execution_count": 32,
     "metadata": {},
     "output_type": "execute_result"
    }
   ],
   "source": [
    "a.loc[0]"
   ]
  },
  {
   "cell_type": "code",
   "execution_count": 33,
   "id": "fc24eac8",
   "metadata": {},
   "outputs": [
    {
     "data": {
      "text/plain": [
       "1    47\n",
       "7    21\n",
       "dtype: int64"
      ]
     },
     "execution_count": 33,
     "metadata": {},
     "output_type": "execute_result"
    }
   ],
   "source": [
    "a.loc[[1,7]]"
   ]
  },
  {
   "cell_type": "code",
   "execution_count": 36,
   "id": "8fb6697a",
   "metadata": {},
   "outputs": [
    {
     "data": {
      "text/plain": [
       "21"
      ]
     },
     "execution_count": 36,
     "metadata": {},
     "output_type": "execute_result"
    }
   ],
   "source": [
    "# Another way to retrieve is with .iloc, where we specify the numeric position in the series,\n",
    "# starting with 0.\n",
    "\n",
    "a.iloc[3]"
   ]
  },
  {
   "cell_type": "code",
   "execution_count": 37,
   "id": "2a864ee7",
   "metadata": {},
   "outputs": [
    {
     "data": {
      "text/plain": [
       "0    44\n",
       "1    47\n",
       "5     9\n",
       "7    21\n",
       "8    36\n",
       "dtype: int64"
      ]
     },
     "execution_count": 37,
     "metadata": {},
     "output_type": "execute_result"
    }
   ],
   "source": [
    "a"
   ]
  },
  {
   "cell_type": "code",
   "execution_count": 38,
   "id": "f7bdbf42",
   "metadata": {},
   "outputs": [
    {
     "data": {
      "text/plain": [
       "21"
      ]
     },
     "execution_count": 38,
     "metadata": {},
     "output_type": "execute_result"
    }
   ],
   "source": [
    "a.loc[7]    # same as a.iloc[3]"
   ]
  },
  {
   "cell_type": "code",
   "execution_count": 39,
   "id": "d9c2e39e",
   "metadata": {},
   "outputs": [
    {
     "data": {
      "text/plain": [
       "9"
      ]
     },
     "execution_count": 39,
     "metadata": {},
     "output_type": "execute_result"
    }
   ],
   "source": [
    "a.iloc[2]"
   ]
  },
  {
   "cell_type": "code",
   "execution_count": 40,
   "id": "f750ab6f",
   "metadata": {},
   "outputs": [
    {
     "ename": "KeyError",
     "evalue": "2",
     "output_type": "error",
     "traceback": [
      "\u001b[0;31m---------------------------------------------------------------------------\u001b[0m",
      "\u001b[0;31mKeyError\u001b[0m                                  Traceback (most recent call last)",
      "\u001b[0;32m/usr/local/lib/python3.10/site-packages/pandas/core/indexes/base.py\u001b[0m in \u001b[0;36mget_loc\u001b[0;34m(self, key, method, tolerance)\u001b[0m\n\u001b[1;32m   3620\u001b[0m             \u001b[0;32mtry\u001b[0m\u001b[0;34m:\u001b[0m\u001b[0;34m\u001b[0m\u001b[0;34m\u001b[0m\u001b[0m\n\u001b[0;32m-> 3621\u001b[0;31m                 \u001b[0;32mreturn\u001b[0m \u001b[0mself\u001b[0m\u001b[0;34m.\u001b[0m\u001b[0m_engine\u001b[0m\u001b[0;34m.\u001b[0m\u001b[0mget_loc\u001b[0m\u001b[0;34m(\u001b[0m\u001b[0mcasted_key\u001b[0m\u001b[0;34m)\u001b[0m\u001b[0;34m\u001b[0m\u001b[0;34m\u001b[0m\u001b[0m\n\u001b[0m\u001b[1;32m   3622\u001b[0m             \u001b[0;32mexcept\u001b[0m \u001b[0mKeyError\u001b[0m \u001b[0;32mas\u001b[0m \u001b[0merr\u001b[0m\u001b[0;34m:\u001b[0m\u001b[0;34m\u001b[0m\u001b[0;34m\u001b[0m\u001b[0m\n",
      "\u001b[0;32mpandas/_libs/index.pyx\u001b[0m in \u001b[0;36mpandas._libs.index.IndexEngine.get_loc\u001b[0;34m()\u001b[0m\n",
      "\u001b[0;32mpandas/_libs/index.pyx\u001b[0m in \u001b[0;36mpandas._libs.index.IndexEngine.get_loc\u001b[0;34m()\u001b[0m\n",
      "\u001b[0;32mpandas/_libs/hashtable_class_helper.pxi\u001b[0m in \u001b[0;36mpandas._libs.hashtable.Int64HashTable.get_item\u001b[0;34m()\u001b[0m\n",
      "\u001b[0;32mpandas/_libs/hashtable_class_helper.pxi\u001b[0m in \u001b[0;36mpandas._libs.hashtable.Int64HashTable.get_item\u001b[0;34m()\u001b[0m\n",
      "\u001b[0;31mKeyError\u001b[0m: 2",
      "\nThe above exception was the direct cause of the following exception:\n",
      "\u001b[0;31mKeyError\u001b[0m                                  Traceback (most recent call last)",
      "\u001b[0;32m/var/folders/rr/0mnyyv811fs5vyp22gf4fxk00000gn/T/ipykernel_77757/1776306547.py\u001b[0m in \u001b[0;36m<module>\u001b[0;34m\u001b[0m\n\u001b[0;32m----> 1\u001b[0;31m \u001b[0ma\u001b[0m\u001b[0;34m.\u001b[0m\u001b[0mloc\u001b[0m\u001b[0;34m[\u001b[0m\u001b[0;36m2\u001b[0m\u001b[0;34m]\u001b[0m\u001b[0;34m\u001b[0m\u001b[0;34m\u001b[0m\u001b[0m\n\u001b[0m",
      "\u001b[0;32m/usr/local/lib/python3.10/site-packages/pandas/core/indexing.py\u001b[0m in \u001b[0;36m__getitem__\u001b[0;34m(self, key)\u001b[0m\n\u001b[1;32m    965\u001b[0m \u001b[0;34m\u001b[0m\u001b[0m\n\u001b[1;32m    966\u001b[0m             \u001b[0mmaybe_callable\u001b[0m \u001b[0;34m=\u001b[0m \u001b[0mcom\u001b[0m\u001b[0;34m.\u001b[0m\u001b[0mapply_if_callable\u001b[0m\u001b[0;34m(\u001b[0m\u001b[0mkey\u001b[0m\u001b[0;34m,\u001b[0m \u001b[0mself\u001b[0m\u001b[0;34m.\u001b[0m\u001b[0mobj\u001b[0m\u001b[0;34m)\u001b[0m\u001b[0;34m\u001b[0m\u001b[0;34m\u001b[0m\u001b[0m\n\u001b[0;32m--> 967\u001b[0;31m             \u001b[0;32mreturn\u001b[0m \u001b[0mself\u001b[0m\u001b[0;34m.\u001b[0m\u001b[0m_getitem_axis\u001b[0m\u001b[0;34m(\u001b[0m\u001b[0mmaybe_callable\u001b[0m\u001b[0;34m,\u001b[0m \u001b[0maxis\u001b[0m\u001b[0;34m=\u001b[0m\u001b[0maxis\u001b[0m\u001b[0;34m)\u001b[0m\u001b[0;34m\u001b[0m\u001b[0;34m\u001b[0m\u001b[0m\n\u001b[0m\u001b[1;32m    968\u001b[0m \u001b[0;34m\u001b[0m\u001b[0m\n\u001b[1;32m    969\u001b[0m     \u001b[0;32mdef\u001b[0m \u001b[0m_is_scalar_access\u001b[0m\u001b[0;34m(\u001b[0m\u001b[0mself\u001b[0m\u001b[0;34m,\u001b[0m \u001b[0mkey\u001b[0m\u001b[0;34m:\u001b[0m \u001b[0mtuple\u001b[0m\u001b[0;34m)\u001b[0m\u001b[0;34m:\u001b[0m\u001b[0;34m\u001b[0m\u001b[0;34m\u001b[0m\u001b[0m\n",
      "\u001b[0;32m/usr/local/lib/python3.10/site-packages/pandas/core/indexing.py\u001b[0m in \u001b[0;36m_getitem_axis\u001b[0;34m(self, key, axis)\u001b[0m\n\u001b[1;32m   1200\u001b[0m         \u001b[0;31m# fall thru to straight lookup\u001b[0m\u001b[0;34m\u001b[0m\u001b[0;34m\u001b[0m\u001b[0m\n\u001b[1;32m   1201\u001b[0m         \u001b[0mself\u001b[0m\u001b[0;34m.\u001b[0m\u001b[0m_validate_key\u001b[0m\u001b[0;34m(\u001b[0m\u001b[0mkey\u001b[0m\u001b[0;34m,\u001b[0m \u001b[0maxis\u001b[0m\u001b[0;34m)\u001b[0m\u001b[0;34m\u001b[0m\u001b[0;34m\u001b[0m\u001b[0m\n\u001b[0;32m-> 1202\u001b[0;31m         \u001b[0;32mreturn\u001b[0m \u001b[0mself\u001b[0m\u001b[0;34m.\u001b[0m\u001b[0m_get_label\u001b[0m\u001b[0;34m(\u001b[0m\u001b[0mkey\u001b[0m\u001b[0;34m,\u001b[0m \u001b[0maxis\u001b[0m\u001b[0;34m=\u001b[0m\u001b[0maxis\u001b[0m\u001b[0;34m)\u001b[0m\u001b[0;34m\u001b[0m\u001b[0;34m\u001b[0m\u001b[0m\n\u001b[0m\u001b[1;32m   1203\u001b[0m \u001b[0;34m\u001b[0m\u001b[0m\n\u001b[1;32m   1204\u001b[0m     \u001b[0;32mdef\u001b[0m \u001b[0m_get_slice_axis\u001b[0m\u001b[0;34m(\u001b[0m\u001b[0mself\u001b[0m\u001b[0;34m,\u001b[0m \u001b[0mslice_obj\u001b[0m\u001b[0;34m:\u001b[0m \u001b[0mslice\u001b[0m\u001b[0;34m,\u001b[0m \u001b[0maxis\u001b[0m\u001b[0;34m:\u001b[0m \u001b[0mint\u001b[0m\u001b[0;34m)\u001b[0m\u001b[0;34m:\u001b[0m\u001b[0;34m\u001b[0m\u001b[0;34m\u001b[0m\u001b[0m\n",
      "\u001b[0;32m/usr/local/lib/python3.10/site-packages/pandas/core/indexing.py\u001b[0m in \u001b[0;36m_get_label\u001b[0;34m(self, label, axis)\u001b[0m\n\u001b[1;32m   1151\u001b[0m     \u001b[0;32mdef\u001b[0m \u001b[0m_get_label\u001b[0m\u001b[0;34m(\u001b[0m\u001b[0mself\u001b[0m\u001b[0;34m,\u001b[0m \u001b[0mlabel\u001b[0m\u001b[0;34m,\u001b[0m \u001b[0maxis\u001b[0m\u001b[0;34m:\u001b[0m \u001b[0mint\u001b[0m\u001b[0;34m)\u001b[0m\u001b[0;34m:\u001b[0m\u001b[0;34m\u001b[0m\u001b[0;34m\u001b[0m\u001b[0m\n\u001b[1;32m   1152\u001b[0m         \u001b[0;31m# GH#5667 this will fail if the label is not present in the axis.\u001b[0m\u001b[0;34m\u001b[0m\u001b[0;34m\u001b[0m\u001b[0m\n\u001b[0;32m-> 1153\u001b[0;31m         \u001b[0;32mreturn\u001b[0m \u001b[0mself\u001b[0m\u001b[0;34m.\u001b[0m\u001b[0mobj\u001b[0m\u001b[0;34m.\u001b[0m\u001b[0mxs\u001b[0m\u001b[0;34m(\u001b[0m\u001b[0mlabel\u001b[0m\u001b[0;34m,\u001b[0m \u001b[0maxis\u001b[0m\u001b[0;34m=\u001b[0m\u001b[0maxis\u001b[0m\u001b[0;34m)\u001b[0m\u001b[0;34m\u001b[0m\u001b[0;34m\u001b[0m\u001b[0m\n\u001b[0m\u001b[1;32m   1154\u001b[0m \u001b[0;34m\u001b[0m\u001b[0m\n\u001b[1;32m   1155\u001b[0m     \u001b[0;32mdef\u001b[0m \u001b[0m_handle_lowerdim_multi_index_axis0\u001b[0m\u001b[0;34m(\u001b[0m\u001b[0mself\u001b[0m\u001b[0;34m,\u001b[0m \u001b[0mtup\u001b[0m\u001b[0;34m:\u001b[0m \u001b[0mtuple\u001b[0m\u001b[0;34m)\u001b[0m\u001b[0;34m:\u001b[0m\u001b[0;34m\u001b[0m\u001b[0;34m\u001b[0m\u001b[0m\n",
      "\u001b[0;32m/usr/local/lib/python3.10/site-packages/pandas/core/generic.py\u001b[0m in \u001b[0;36mxs\u001b[0;34m(self, key, axis, level, drop_level)\u001b[0m\n\u001b[1;32m   3862\u001b[0m                     \u001b[0mnew_index\u001b[0m \u001b[0;34m=\u001b[0m \u001b[0mindex\u001b[0m\u001b[0;34m[\u001b[0m\u001b[0mloc\u001b[0m\u001b[0;34m]\u001b[0m\u001b[0;34m\u001b[0m\u001b[0;34m\u001b[0m\u001b[0m\n\u001b[1;32m   3863\u001b[0m         \u001b[0;32melse\u001b[0m\u001b[0;34m:\u001b[0m\u001b[0;34m\u001b[0m\u001b[0;34m\u001b[0m\u001b[0m\n\u001b[0;32m-> 3864\u001b[0;31m             \u001b[0mloc\u001b[0m \u001b[0;34m=\u001b[0m \u001b[0mindex\u001b[0m\u001b[0;34m.\u001b[0m\u001b[0mget_loc\u001b[0m\u001b[0;34m(\u001b[0m\u001b[0mkey\u001b[0m\u001b[0;34m)\u001b[0m\u001b[0;34m\u001b[0m\u001b[0;34m\u001b[0m\u001b[0m\n\u001b[0m\u001b[1;32m   3865\u001b[0m \u001b[0;34m\u001b[0m\u001b[0m\n\u001b[1;32m   3866\u001b[0m             \u001b[0;32mif\u001b[0m \u001b[0misinstance\u001b[0m\u001b[0;34m(\u001b[0m\u001b[0mloc\u001b[0m\u001b[0;34m,\u001b[0m \u001b[0mnp\u001b[0m\u001b[0;34m.\u001b[0m\u001b[0mndarray\u001b[0m\u001b[0;34m)\u001b[0m\u001b[0;34m:\u001b[0m\u001b[0;34m\u001b[0m\u001b[0;34m\u001b[0m\u001b[0m\n",
      "\u001b[0;32m/usr/local/lib/python3.10/site-packages/pandas/core/indexes/base.py\u001b[0m in \u001b[0;36mget_loc\u001b[0;34m(self, key, method, tolerance)\u001b[0m\n\u001b[1;32m   3621\u001b[0m                 \u001b[0;32mreturn\u001b[0m \u001b[0mself\u001b[0m\u001b[0;34m.\u001b[0m\u001b[0m_engine\u001b[0m\u001b[0;34m.\u001b[0m\u001b[0mget_loc\u001b[0m\u001b[0;34m(\u001b[0m\u001b[0mcasted_key\u001b[0m\u001b[0;34m)\u001b[0m\u001b[0;34m\u001b[0m\u001b[0;34m\u001b[0m\u001b[0m\n\u001b[1;32m   3622\u001b[0m             \u001b[0;32mexcept\u001b[0m \u001b[0mKeyError\u001b[0m \u001b[0;32mas\u001b[0m \u001b[0merr\u001b[0m\u001b[0;34m:\u001b[0m\u001b[0;34m\u001b[0m\u001b[0;34m\u001b[0m\u001b[0m\n\u001b[0;32m-> 3623\u001b[0;31m                 \u001b[0;32mraise\u001b[0m \u001b[0mKeyError\u001b[0m\u001b[0;34m(\u001b[0m\u001b[0mkey\u001b[0m\u001b[0;34m)\u001b[0m \u001b[0;32mfrom\u001b[0m \u001b[0merr\u001b[0m\u001b[0;34m\u001b[0m\u001b[0;34m\u001b[0m\u001b[0m\n\u001b[0m\u001b[1;32m   3624\u001b[0m             \u001b[0;32mexcept\u001b[0m \u001b[0mTypeError\u001b[0m\u001b[0;34m:\u001b[0m\u001b[0;34m\u001b[0m\u001b[0;34m\u001b[0m\u001b[0m\n\u001b[1;32m   3625\u001b[0m                 \u001b[0;31m# If we have a listlike key, _check_indexing_error will raise\u001b[0m\u001b[0;34m\u001b[0m\u001b[0;34m\u001b[0m\u001b[0m\n",
      "\u001b[0;31mKeyError\u001b[0m: 2"
     ]
    }
   ],
   "source": [
    "a.loc[2]"
   ]
  },
  {
   "cell_type": "code",
   "execution_count": 41,
   "id": "1890ec99",
   "metadata": {},
   "outputs": [
    {
     "data": {
      "text/plain": [
       "0    44\n",
       "1    47\n",
       "5     9\n",
       "7    21\n",
       "8    36\n",
       "dtype: int64"
      ]
     },
     "execution_count": 41,
     "metadata": {},
     "output_type": "execute_result"
    }
   ],
   "source": [
    "a"
   ]
  },
  {
   "cell_type": "code",
   "execution_count": 43,
   "id": "f364f1ce",
   "metadata": {},
   "outputs": [],
   "source": [
    "# is there a way for me to set the index when I create a series?\n",
    "# yes!\n",
    "\n",
    "s = Series([10, 20, 30, 40, 50],\n",
    "          index=[2,4,6,8,10])      # index and values must be of the same length!"
   ]
  },
  {
   "cell_type": "code",
   "execution_count": 44,
   "id": "a88511ea",
   "metadata": {},
   "outputs": [
    {
     "data": {
      "text/plain": [
       "2     10\n",
       "4     20\n",
       "6     30\n",
       "8     40\n",
       "10    50\n",
       "dtype: int64"
      ]
     },
     "execution_count": 44,
     "metadata": {},
     "output_type": "execute_result"
    }
   ],
   "source": [
    "s"
   ]
  },
  {
   "cell_type": "code",
   "execution_count": 45,
   "id": "84401963",
   "metadata": {},
   "outputs": [
    {
     "data": {
      "text/plain": [
       "20"
      ]
     },
     "execution_count": 45,
     "metadata": {},
     "output_type": "execute_result"
    }
   ],
   "source": [
    "s.loc[4]  # this retrieves the item whose index is 4"
   ]
  },
  {
   "cell_type": "code",
   "execution_count": 46,
   "id": "021baf6a",
   "metadata": {},
   "outputs": [
    {
     "data": {
      "text/plain": [
       "50"
      ]
     },
     "execution_count": 46,
     "metadata": {},
     "output_type": "execute_result"
    }
   ],
   "source": [
    "s.iloc[4]  # this retrieves the item whose position is 4"
   ]
  },
  {
   "cell_type": "code",
   "execution_count": 47,
   "id": "4573cea1",
   "metadata": {},
   "outputs": [
    {
     "data": {
      "text/plain": [
       "a    10\n",
       "b    20\n",
       "c    30\n",
       "d    40\n",
       "e    50\n",
       "dtype: int64"
      ]
     },
     "execution_count": 47,
     "metadata": {},
     "output_type": "execute_result"
    }
   ],
   "source": [
    "s = Series([10, 20, 30, 40, 50],\n",
    "          index=list('abcde'))    # indexes can be strings, including 1-character strings!\n",
    "\n",
    "s"
   ]
  },
  {
   "cell_type": "code",
   "execution_count": 48,
   "id": "c2bc1220",
   "metadata": {},
   "outputs": [
    {
     "data": {
      "text/plain": [
       "40"
      ]
     },
     "execution_count": 48,
     "metadata": {},
     "output_type": "execute_result"
    }
   ],
   "source": [
    "s.loc['d']"
   ]
  },
  {
   "cell_type": "code",
   "execution_count": 49,
   "id": "24c1de49",
   "metadata": {},
   "outputs": [
    {
     "data": {
      "text/plain": [
       "40"
      ]
     },
     "execution_count": 49,
     "metadata": {},
     "output_type": "execute_result"
    }
   ],
   "source": [
    "s.iloc[3]"
   ]
  },
  {
   "cell_type": "code",
   "execution_count": 51,
   "id": "4e12ec8e",
   "metadata": {},
   "outputs": [
    {
     "data": {
      "text/plain": [
       "b    20\n",
       "d    40\n",
       "dtype: int64"
      ]
     },
     "execution_count": 51,
     "metadata": {},
     "output_type": "execute_result"
    }
   ],
   "source": [
    "# we can retrieve multiple values with fancy indexing\n",
    "# we'll get a series back as a result (assuming that there's more than one value there)\n",
    "\n",
    "s.loc[['b', 'd']] # fancy indexing with strings"
   ]
  },
  {
   "cell_type": "code",
   "execution_count": 52,
   "id": "4ee428e1",
   "metadata": {},
   "outputs": [
    {
     "data": {
      "text/plain": [
       "b    20\n",
       "c    30\n",
       "d    40\n",
       "dtype: int64"
      ]
     },
     "execution_count": 52,
     "metadata": {},
     "output_type": "execute_result"
    }
   ],
   "source": [
    "# I can even use a slice!\n",
    "\n",
    "s.loc['b':'d']   # in general, Python slices are [start:end+1] -- but not in Pandas, where slices are INCLUSIVE"
   ]
  },
  {
   "cell_type": "markdown",
   "id": "ce440953",
   "metadata": {},
   "source": [
    "# Exercises: Series\n",
    "\n",
    "1. Create a series containing 10 random integers from 0-100, with index `a` - `j`.\n",
    "2. Retrieve the item at index `b`.\n",
    "3. Retrieve the items at indexes `c`, `d`, and `f`.\n",
    "4. What is the mean of the items at indexes `a`, `e`, `g`, and `h`?\n",
    "5. What is the sum of the even values?\n",
    "6. What is the sum of the items whose positions (`.iloc`) are even?"
   ]
  },
  {
   "cell_type": "code",
   "execution_count": 56,
   "id": "671a4529",
   "metadata": {},
   "outputs": [
    {
     "data": {
      "text/plain": [
       "a    44\n",
       "b    47\n",
       "c    64\n",
       "d    67\n",
       "e    67\n",
       "f     9\n",
       "g    83\n",
       "h    21\n",
       "i    36\n",
       "j    87\n",
       "dtype: int64"
      ]
     },
     "execution_count": 56,
     "metadata": {},
     "output_type": "execute_result"
    }
   ],
   "source": [
    "np.random.seed(0)\n",
    "s = Series(np.random.randint(0, 100, 10),\n",
    "          index=list('abcdefghij'))\n",
    "s"
   ]
  },
  {
   "cell_type": "code",
   "execution_count": 58,
   "id": "a6e6790f",
   "metadata": {},
   "outputs": [
    {
     "data": {
      "text/plain": [
       "47"
      ]
     },
     "execution_count": 58,
     "metadata": {},
     "output_type": "execute_result"
    }
   ],
   "source": [
    "# retrieve the item at index b\n",
    "\n",
    "s.loc['b']"
   ]
  },
  {
   "cell_type": "code",
   "execution_count": 59,
   "id": "df27e78e",
   "metadata": {},
   "outputs": [
    {
     "data": {
      "text/plain": [
       "c    64\n",
       "d    67\n",
       "f     9\n",
       "dtype: int64"
      ]
     },
     "execution_count": 59,
     "metadata": {},
     "output_type": "execute_result"
    }
   ],
   "source": [
    "# Retrieve the items at indexes c, d, and f.\n",
    "\n",
    "s.loc[['c', 'd', 'f']]   # fancy indexing -- pass a list of indexes to .loc[]"
   ]
  },
  {
   "cell_type": "code",
   "execution_count": 60,
   "id": "b180204d",
   "metadata": {},
   "outputs": [
    {
     "data": {
      "text/plain": [
       "c    64\n",
       "d    67\n",
       "e    67\n",
       "dtype: int64"
      ]
     },
     "execution_count": 60,
     "metadata": {},
     "output_type": "execute_result"
    }
   ],
   "source": [
    "# Retrieve the items at indexes c, d, and e\n",
    "\n",
    "s.loc['c':'e']  # one set of square brackets here"
   ]
  },
  {
   "cell_type": "code",
   "execution_count": 63,
   "id": "660f3530",
   "metadata": {},
   "outputs": [
    {
     "data": {
      "text/plain": [
       "53.75"
      ]
     },
     "execution_count": 63,
     "metadata": {},
     "output_type": "execute_result"
    }
   ],
   "source": [
    "# What is the mean of the items at indexes a, e, g, and h?\n",
    "\n",
    "s.loc[['a', 'e', 'g', 'h']].mean()"
   ]
  },
  {
   "cell_type": "code",
   "execution_count": 66,
   "id": "24b5f673",
   "metadata": {},
   "outputs": [
    {
     "data": {
      "text/plain": [
       "144"
      ]
     },
     "execution_count": 66,
     "metadata": {},
     "output_type": "execute_result"
    }
   ],
   "source": [
    "# What is the sum of the even values?\n",
    "\n",
    "s.loc[s%2==0].sum()"
   ]
  },
  {
   "cell_type": "code",
   "execution_count": 67,
   "id": "a79184ee",
   "metadata": {},
   "outputs": [
    {
     "data": {
      "text/plain": [
       "a    44\n",
       "c    64\n",
       "e    67\n",
       "g    83\n",
       "i    36\n",
       "dtype: int64"
      ]
     },
     "execution_count": 67,
     "metadata": {},
     "output_type": "execute_result"
    }
   ],
   "source": [
    "# What is the sum of the items whose positions (.iloc) are even?\n",
    "\n",
    "s.iloc[[0,2,4,6,8]]"
   ]
  },
  {
   "cell_type": "code",
   "execution_count": 69,
   "id": "833513af",
   "metadata": {},
   "outputs": [
    {
     "data": {
      "text/plain": [
       "a    44\n",
       "c    64\n",
       "e    67\n",
       "g    83\n",
       "i    36\n",
       "dtype: int64"
      ]
     },
     "execution_count": 69,
     "metadata": {},
     "output_type": "execute_result"
    }
   ],
   "source": [
    "s.iloc[range(0, 10, 2)]   # from 0, up to (not including) 10, skipping by 2"
   ]
  },
  {
   "cell_type": "code",
   "execution_count": 70,
   "id": "6605933c",
   "metadata": {},
   "outputs": [
    {
     "data": {
      "text/plain": [
       "294"
      ]
     },
     "execution_count": 70,
     "metadata": {},
     "output_type": "execute_result"
    }
   ],
   "source": [
    "s.iloc[range(0, 10, 2)].sum()"
   ]
  },
  {
   "cell_type": "markdown",
   "id": "d7c42774",
   "metadata": {},
   "source": [
    "# How is Pandas different from NumPy?\n"
   ]
  },
  {
   "cell_type": "code",
   "execution_count": 71,
   "id": "1fff55a5",
   "metadata": {},
   "outputs": [],
   "source": [
    "np.random.seed(0)\n",
    "s1 = Series(np.random.randint(0, 100, 10), \n",
    "           index=list('abcdefghij'))\n",
    "s2 = Series(np.random.randint(0, 100, 10), \n",
    "           index=list('defghijklm'))\n"
   ]
  },
  {
   "cell_type": "code",
   "execution_count": 72,
   "id": "7a03d66b",
   "metadata": {},
   "outputs": [
    {
     "data": {
      "text/plain": [
       "a    44\n",
       "b    47\n",
       "c    64\n",
       "d    67\n",
       "e    67\n",
       "f     9\n",
       "g    83\n",
       "h    21\n",
       "i    36\n",
       "j    87\n",
       "dtype: int64"
      ]
     },
     "execution_count": 72,
     "metadata": {},
     "output_type": "execute_result"
    }
   ],
   "source": [
    "s1"
   ]
  },
  {
   "cell_type": "code",
   "execution_count": 73,
   "id": "ab556b94",
   "metadata": {},
   "outputs": [
    {
     "data": {
      "text/plain": [
       "d    70\n",
       "e    88\n",
       "f    88\n",
       "g    12\n",
       "h    58\n",
       "i    65\n",
       "j    39\n",
       "k    87\n",
       "l    46\n",
       "m    88\n",
       "dtype: int64"
      ]
     },
     "execution_count": 73,
     "metadata": {},
     "output_type": "execute_result"
    }
   ],
   "source": [
    "s2"
   ]
  },
  {
   "cell_type": "code",
   "execution_count": 74,
   "id": "03e7c9bf",
   "metadata": {},
   "outputs": [
    {
     "data": {
      "text/plain": [
       "a     88\n",
       "b     94\n",
       "c    128\n",
       "d    134\n",
       "e    134\n",
       "f     18\n",
       "g    166\n",
       "h     42\n",
       "i     72\n",
       "j    174\n",
       "dtype: int64"
      ]
     },
     "execution_count": 74,
     "metadata": {},
     "output_type": "execute_result"
    }
   ],
   "source": [
    "s1 + s1  # add it to itself"
   ]
  },
  {
   "cell_type": "code",
   "execution_count": 75,
   "id": "e312d0b9",
   "metadata": {},
   "outputs": [
    {
     "data": {
      "text/plain": [
       "a      NaN\n",
       "b      NaN\n",
       "c      NaN\n",
       "d    137.0\n",
       "e    155.0\n",
       "f     97.0\n",
       "g     95.0\n",
       "h     79.0\n",
       "i    101.0\n",
       "j    126.0\n",
       "k      NaN\n",
       "l      NaN\n",
       "m      NaN\n",
       "dtype: float64"
      ]
     },
     "execution_count": 75,
     "metadata": {},
     "output_type": "execute_result"
    }
   ],
   "source": [
    "s1 + s2  # what happens here?"
   ]
  },
  {
   "cell_type": "code",
   "execution_count": 76,
   "id": "00f82a6c",
   "metadata": {},
   "outputs": [
    {
     "data": {
      "text/plain": [
       "a     54.0\n",
       "b     67.0\n",
       "c     94.0\n",
       "d    107.0\n",
       "e      NaN\n",
       "f      NaN\n",
       "g      NaN\n",
       "h      NaN\n",
       "i      NaN\n",
       "j      NaN\n",
       "dtype: float64"
      ]
     },
     "execution_count": 76,
     "metadata": {},
     "output_type": "execute_result"
    }
   ],
   "source": [
    "s3 = Series([10, 20, 30, 40], index=list('abcd'))\n",
    "\n",
    "s1 + s3"
   ]
  },
  {
   "cell_type": "code",
   "execution_count": 77,
   "id": "59627381",
   "metadata": {},
   "outputs": [
    {
     "data": {
      "text/plain": [
       "a      NaN\n",
       "b      NaN\n",
       "c      NaN\n",
       "d    137.0\n",
       "e    155.0\n",
       "f     97.0\n",
       "g     95.0\n",
       "h     79.0\n",
       "i    101.0\n",
       "j    126.0\n",
       "k      NaN\n",
       "l      NaN\n",
       "m      NaN\n",
       "dtype: float64"
      ]
     },
     "execution_count": 77,
     "metadata": {},
     "output_type": "execute_result"
    }
   ],
   "source": [
    "# how can I get around this, if I want to?\n",
    "\n",
    "s1 + s2   # this is translated in Python to s1.__add__(s2).  In Pandas, that becomes s1.add(s2)"
   ]
  },
  {
   "cell_type": "code",
   "execution_count": 78,
   "id": "a73d782f",
   "metadata": {},
   "outputs": [
    {
     "data": {
      "text/plain": [
       "a      NaN\n",
       "b      NaN\n",
       "c      NaN\n",
       "d    137.0\n",
       "e    155.0\n",
       "f     97.0\n",
       "g     95.0\n",
       "h     79.0\n",
       "i    101.0\n",
       "j    126.0\n",
       "k      NaN\n",
       "l      NaN\n",
       "m      NaN\n",
       "dtype: float64"
      ]
     },
     "execution_count": 78,
     "metadata": {},
     "output_type": "execute_result"
    }
   ],
   "source": [
    "s1.add(s2)"
   ]
  },
  {
   "cell_type": "code",
   "execution_count": 79,
   "id": "af4ba29b",
   "metadata": {},
   "outputs": [
    {
     "data": {
      "text/plain": [
       "a     44.0\n",
       "b     47.0\n",
       "c     64.0\n",
       "d    137.0\n",
       "e    155.0\n",
       "f     97.0\n",
       "g     95.0\n",
       "h     79.0\n",
       "i    101.0\n",
       "j    126.0\n",
       "k     87.0\n",
       "l     46.0\n",
       "m     88.0\n",
       "dtype: float64"
      ]
     },
     "execution_count": 79,
     "metadata": {},
     "output_type": "execute_result"
    }
   ],
   "source": [
    "# we can pass a value to the \"fill_value\" keyword argument in s1.add, telling it what\n",
    "# value to use if the index isn't matched on the other side.\n",
    "\n",
    "s1.add(s2, fill_value=0)"
   ]
  },
  {
   "cell_type": "markdown",
   "id": "3bb51be1",
   "metadata": {},
   "source": [
    "# Exercises: Indexing and series\n",
    "\n",
    "1. Create two series, each with 10 random integers from 0-100.  The first should have an index of a-j. The second should have an index of b-k.\n",
    "2. Add them together, but first predicting which indexes will give you `nan` results.\n",
    "3. Add them together, with 0 being a fill value.  Can you use a different fill value?\n",
    "4. Multiply them together, with 1 being a fill value. \n",
    "5. Sum all of the even numbers together from both of the series."
   ]
  },
  {
   "cell_type": "code",
   "execution_count": 80,
   "id": "98fd3b6f",
   "metadata": {},
   "outputs": [],
   "source": [
    "np.random.seed(0)\n",
    "\n",
    "s1 = Series(np.random.randint(0, 100, 10), \n",
    "           index=list('abcdefghij'))\n",
    "\n",
    "s2 = Series(np.random.randint(0, 100, 10), \n",
    "           index=list('bcdefghijk'))\n",
    "\n"
   ]
  },
  {
   "cell_type": "code",
   "execution_count": 81,
   "id": "c6a112e4",
   "metadata": {},
   "outputs": [
    {
     "data": {
      "text/plain": [
       "a    44\n",
       "b    47\n",
       "c    64\n",
       "d    67\n",
       "e    67\n",
       "f     9\n",
       "g    83\n",
       "h    21\n",
       "i    36\n",
       "j    87\n",
       "dtype: int64"
      ]
     },
     "execution_count": 81,
     "metadata": {},
     "output_type": "execute_result"
    }
   ],
   "source": [
    "s1"
   ]
  },
  {
   "cell_type": "code",
   "execution_count": 82,
   "id": "64fadca1",
   "metadata": {},
   "outputs": [
    {
     "data": {
      "text/plain": [
       "b    70\n",
       "c    88\n",
       "d    88\n",
       "e    12\n",
       "f    58\n",
       "g    65\n",
       "h    39\n",
       "i    87\n",
       "j    46\n",
       "k    88\n",
       "dtype: int64"
      ]
     },
     "execution_count": 82,
     "metadata": {},
     "output_type": "execute_result"
    }
   ],
   "source": [
    "s2"
   ]
  },
  {
   "cell_type": "code",
   "execution_count": 83,
   "id": "e7f56640",
   "metadata": {},
   "outputs": [
    {
     "data": {
      "text/plain": [
       "a      NaN\n",
       "b    117.0\n",
       "c    152.0\n",
       "d    155.0\n",
       "e     79.0\n",
       "f     67.0\n",
       "g    148.0\n",
       "h     60.0\n",
       "i    123.0\n",
       "j    133.0\n",
       "k      NaN\n",
       "dtype: float64"
      ]
     },
     "execution_count": 83,
     "metadata": {},
     "output_type": "execute_result"
    }
   ],
   "source": [
    "# Add them together, but first predicting which indexes will give you nan results.\n",
    "\n",
    "# we should get nan for a (only in s1) and k (only in s2)\n",
    "\n",
    "s1 + s2"
   ]
  },
  {
   "cell_type": "code",
   "execution_count": 84,
   "id": "5b1e5b2f",
   "metadata": {},
   "outputs": [
    {
     "data": {
      "text/plain": [
       "a     44.0\n",
       "b    117.0\n",
       "c    152.0\n",
       "d    155.0\n",
       "e     79.0\n",
       "f     67.0\n",
       "g    148.0\n",
       "h     60.0\n",
       "i    123.0\n",
       "j    133.0\n",
       "k     88.0\n",
       "dtype: float64"
      ]
     },
     "execution_count": 84,
     "metadata": {},
     "output_type": "execute_result"
    }
   ],
   "source": [
    "# Add them together, with 0 being a fill value.  Can you use a different fill value?\n",
    "\n",
    "s1.add(s2, fill_value=0)  # now, if any index doesn't have a match in the other series, we'll use 0"
   ]
  },
  {
   "cell_type": "code",
   "execution_count": 85,
   "id": "ff280191",
   "metadata": {},
   "outputs": [
    {
     "data": {
      "text/plain": [
       "a    167.456\n",
       "b    117.000\n",
       "c    152.000\n",
       "d    155.000\n",
       "e     79.000\n",
       "f     67.000\n",
       "g    148.000\n",
       "h     60.000\n",
       "i    123.000\n",
       "j    133.000\n",
       "k    211.456\n",
       "dtype: float64"
      ]
     },
     "execution_count": 85,
     "metadata": {},
     "output_type": "execute_result"
    }
   ],
   "source": [
    "s1.add(s2, fill_value=123.456)"
   ]
  },
  {
   "cell_type": "code",
   "execution_count": 88,
   "id": "29a95788",
   "metadata": {},
   "outputs": [
    {
     "data": {
      "text/plain": [
       "a      44.0\n",
       "b    3290.0\n",
       "c    5632.0\n",
       "d    5896.0\n",
       "e     804.0\n",
       "f     522.0\n",
       "g    5395.0\n",
       "h     819.0\n",
       "i    3132.0\n",
       "j    4002.0\n",
       "k      88.0\n",
       "dtype: float64"
      ]
     },
     "execution_count": 88,
     "metadata": {},
     "output_type": "execute_result"
    }
   ],
   "source": [
    "# Multiply them together, with 1 being a fill value. \n",
    "\n",
    "s1.mul(s2, fill_value=1)"
   ]
  },
  {
   "cell_type": "code",
   "execution_count": 93,
   "id": "8482b922",
   "metadata": {},
   "outputs": [
    {
     "data": {
      "text/plain": [
       "a    44\n",
       "c    64\n",
       "i    36\n",
       "dtype: int64"
      ]
     },
     "execution_count": 93,
     "metadata": {},
     "output_type": "execute_result"
    }
   ],
   "source": [
    "# Sum all of the even numbers together from both of the series.\n",
    "\n",
    "s1[s1%2==0]   # all even items in s1\n"
   ]
  },
  {
   "cell_type": "code",
   "execution_count": 94,
   "id": "b0c8405a",
   "metadata": {},
   "outputs": [
    {
     "data": {
      "text/plain": [
       "b    70\n",
       "c    88\n",
       "d    88\n",
       "e    12\n",
       "f    58\n",
       "j    46\n",
       "k    88\n",
       "dtype: int64"
      ]
     },
     "execution_count": 94,
     "metadata": {},
     "output_type": "execute_result"
    }
   ],
   "source": [
    "s2[s2%2==0]  # all even items in s2"
   ]
  },
  {
   "cell_type": "code",
   "execution_count": 96,
   "id": "ffc7fad0",
   "metadata": {},
   "outputs": [
    {
     "data": {
      "text/plain": [
       "594.0"
      ]
     },
     "execution_count": 96,
     "metadata": {},
     "output_type": "execute_result"
    }
   ],
   "source": [
    "s1[s1%2==0].add(s2[s2%2==0], fill_value=0).sum()"
   ]
  },
  {
   "cell_type": "markdown",
   "id": "bd7c4731",
   "metadata": {},
   "source": [
    "# Next up\n",
    "\n",
    "1. `nan` in Pandas (removing, filling)\n",
    "2. dtypes and assignment\n",
    "3. Aggregate methods and convenience methods\n",
    "4. Sorting by value\n",
    "\n",
    "Resume at :25"
   ]
  },
  {
   "cell_type": "code",
   "execution_count": 97,
   "id": "ff0efc88",
   "metadata": {},
   "outputs": [
    {
     "data": {
      "text/plain": [
       "0    10\n",
       "1    20\n",
       "2    30\n",
       "3    40\n",
       "4    50\n",
       "dtype: int64"
      ]
     },
     "execution_count": 97,
     "metadata": {},
     "output_type": "execute_result"
    }
   ],
   "source": [
    "s = Series([10, 20, 30, 40, 50])\n",
    "s"
   ]
  },
  {
   "cell_type": "code",
   "execution_count": 98,
   "id": "c1c06b4f",
   "metadata": {},
   "outputs": [
    {
     "data": {
      "text/plain": [
       "array([10, 20, 30, 40, 50])"
      ]
     },
     "execution_count": 98,
     "metadata": {},
     "output_type": "execute_result"
    }
   ],
   "source": [
    "a = np.array([10, 20, 30, 40, 50])\n",
    "a"
   ]
  },
  {
   "cell_type": "code",
   "execution_count": 99,
   "id": "64b101e0",
   "metadata": {},
   "outputs": [
    {
     "ename": "ValueError",
     "evalue": "cannot convert float NaN to integer",
     "output_type": "error",
     "traceback": [
      "\u001b[0;31m---------------------------------------------------------------------------\u001b[0m",
      "\u001b[0;31mValueError\u001b[0m                                Traceback (most recent call last)",
      "\u001b[0;32m/var/folders/rr/0mnyyv811fs5vyp22gf4fxk00000gn/T/ipykernel_77757/1546375891.py\u001b[0m in \u001b[0;36m<module>\u001b[0;34m\u001b[0m\n\u001b[0;32m----> 1\u001b[0;31m \u001b[0ma\u001b[0m\u001b[0;34m[\u001b[0m\u001b[0;36m2\u001b[0m\u001b[0;34m]\u001b[0m \u001b[0;34m=\u001b[0m \u001b[0mnp\u001b[0m\u001b[0;34m.\u001b[0m\u001b[0mnan\u001b[0m\u001b[0;34m\u001b[0m\u001b[0;34m\u001b[0m\u001b[0m\n\u001b[0m",
      "\u001b[0;31mValueError\u001b[0m: cannot convert float NaN to integer"
     ]
    }
   ],
   "source": [
    "a[2] = np.nan"
   ]
  },
  {
   "cell_type": "code",
   "execution_count": 100,
   "id": "7ea6b36c",
   "metadata": {},
   "outputs": [],
   "source": [
    "s.loc[2] = np.nan"
   ]
  },
  {
   "cell_type": "code",
   "execution_count": 101,
   "id": "91954f14",
   "metadata": {},
   "outputs": [
    {
     "data": {
      "text/plain": [
       "0    10.0\n",
       "1    20.0\n",
       "2     NaN\n",
       "3    40.0\n",
       "4    50.0\n",
       "dtype: float64"
      ]
     },
     "execution_count": 101,
     "metadata": {},
     "output_type": "execute_result"
    }
   ],
   "source": [
    "s"
   ]
  },
  {
   "cell_type": "code",
   "execution_count": 102,
   "id": "be5f9727",
   "metadata": {},
   "outputs": [
    {
     "data": {
      "text/plain": [
       "array([10., 20., nan, 40., 50.])"
      ]
     },
     "execution_count": 102,
     "metadata": {},
     "output_type": "execute_result"
    }
   ],
   "source": [
    "a = np.array([10, 20, np.nan, 40, 50])\n",
    "a"
   ]
  },
  {
   "cell_type": "code",
   "execution_count": 103,
   "id": "441ece17",
   "metadata": {},
   "outputs": [
    {
     "data": {
      "text/plain": [
       "nan"
      ]
     },
     "execution_count": 103,
     "metadata": {},
     "output_type": "execute_result"
    }
   ],
   "source": [
    "a.mean()"
   ]
  },
  {
   "cell_type": "code",
   "execution_count": 104,
   "id": "08e8a6a8",
   "metadata": {},
   "outputs": [
    {
     "data": {
      "text/plain": [
       "30.0"
      ]
     },
     "execution_count": 104,
     "metadata": {},
     "output_type": "execute_result"
    }
   ],
   "source": [
    "s.mean()    # what happens when we ask for the mean of our nan-containing series?"
   ]
  },
  {
   "cell_type": "markdown",
   "id": "8455c8ff",
   "metadata": {},
   "source": [
    "# Pandas and `nan`\n",
    "\n",
    "In Pandas, much of the behavior around `nan` is the opposite of what we've seen in NumPy:\n",
    "\n",
    "- Assigning `nan` (or any float value) to a series with an integer dtype will result in the dtype changing to accommodate our data, including `nan`.\n",
    "- Invoking an aggregate method, such as `mean` or `std` on a series containing `np.nan` will *ignore* the `np.nan` value(s) when making its calculation."
   ]
  },
  {
   "cell_type": "code",
   "execution_count": 107,
   "id": "fd517d2f",
   "metadata": {},
   "outputs": [
    {
     "data": {
      "text/plain": [
       "nan"
      ]
     },
     "execution_count": 107,
     "metadata": {},
     "output_type": "execute_result"
    }
   ],
   "source": [
    "# what if you really want the nan values, and want them to mess up your calculation?\n",
    "s.mean(skipna=False)"
   ]
  },
  {
   "cell_type": "code",
   "execution_count": 111,
   "id": "443e0d6e",
   "metadata": {},
   "outputs": [
    {
     "data": {
      "text/plain": [
       "30.0"
      ]
     },
     "execution_count": 111,
     "metadata": {},
     "output_type": "execute_result"
    }
   ],
   "source": [
    "s.mean()   # implicitly, skipna=True"
   ]
  },
  {
   "cell_type": "code",
   "execution_count": 112,
   "id": "bc076c0d",
   "metadata": {},
   "outputs": [
    {
     "data": {
      "text/plain": [
       "30.0"
      ]
     },
     "execution_count": 112,
     "metadata": {},
     "output_type": "execute_result"
    }
   ],
   "source": [
    "s.dropna().mean()"
   ]
  },
  {
   "cell_type": "code",
   "execution_count": 108,
   "id": "5bc39b3c",
   "metadata": {},
   "outputs": [
    {
     "data": {
      "text/plain": [
       "0    10.0\n",
       "1    20.0\n",
       "2     NaN\n",
       "3    40.0\n",
       "4    50.0\n",
       "dtype: float64"
      ]
     },
     "execution_count": 108,
     "metadata": {},
     "output_type": "execute_result"
    }
   ],
   "source": [
    "s"
   ]
  },
  {
   "cell_type": "code",
   "execution_count": 109,
   "id": "a57f180c",
   "metadata": {},
   "outputs": [
    {
     "data": {
      "text/plain": [
       "0    10.0\n",
       "1    20.0\n",
       "3    40.0\n",
       "4    50.0\n",
       "dtype: float64"
      ]
     },
     "execution_count": 109,
     "metadata": {},
     "output_type": "execute_result"
    }
   ],
   "source": [
    "# if I want to get rid of the nan values, I can use \"dropna\"\n",
    "\n",
    "s.dropna()  # we get a new series back, without any nan values"
   ]
  },
  {
   "cell_type": "code",
   "execution_count": 110,
   "id": "8fc8dd34",
   "metadata": {},
   "outputs": [
    {
     "data": {
      "text/plain": [
       "0    10.0\n",
       "1    20.0\n",
       "2     NaN\n",
       "3    40.0\n",
       "4    50.0\n",
       "dtype: float64"
      ]
     },
     "execution_count": 110,
     "metadata": {},
     "output_type": "execute_result"
    }
   ],
   "source": [
    "s  # s is totally unchanged -- dropna returns a new series, not touching/changing the original one"
   ]
  },
  {
   "cell_type": "code",
   "execution_count": 113,
   "id": "5467ae77",
   "metadata": {},
   "outputs": [
    {
     "data": {
      "text/plain": [
       "0    10.0\n",
       "1    20.0\n",
       "2     NaN\n",
       "3    40.0\n",
       "4    50.0\n",
       "dtype: float64"
      ]
     },
     "execution_count": 113,
     "metadata": {},
     "output_type": "execute_result"
    }
   ],
   "source": [
    "# fillna replaces all nan values with another value -- it returns a new series\n",
    "s"
   ]
  },
  {
   "cell_type": "code",
   "execution_count": 114,
   "id": "99d0eef6",
   "metadata": {},
   "outputs": [
    {
     "data": {
      "text/plain": [
       "0     10.0\n",
       "1     20.0\n",
       "2    999.0\n",
       "3     40.0\n",
       "4     50.0\n",
       "dtype: float64"
      ]
     },
     "execution_count": 114,
     "metadata": {},
     "output_type": "execute_result"
    }
   ],
   "source": [
    "s.fillna(999)"
   ]
  },
  {
   "cell_type": "code",
   "execution_count": 115,
   "id": "978b1ea3",
   "metadata": {},
   "outputs": [
    {
     "data": {
      "text/plain": [
       "0    10.0\n",
       "1    20.0\n",
       "2    30.0\n",
       "3    40.0\n",
       "4    50.0\n",
       "dtype: float64"
      ]
     },
     "execution_count": 115,
     "metadata": {},
     "output_type": "execute_result"
    }
   ],
   "source": [
    "s.fillna(s.mean())"
   ]
  },
  {
   "cell_type": "markdown",
   "id": "8aaf8080",
   "metadata": {},
   "source": [
    "# dtypes are similar to NumPy"
   ]
  },
  {
   "cell_type": "code",
   "execution_count": 125,
   "id": "a2a2eb57",
   "metadata": {},
   "outputs": [],
   "source": [
    "s = Series([10, 20, 30, 40, 50], dtype=np.float16)"
   ]
  },
  {
   "cell_type": "code",
   "execution_count": 126,
   "id": "0a24718a",
   "metadata": {},
   "outputs": [
    {
     "data": {
      "text/plain": [
       "0    10.0\n",
       "1    20.0\n",
       "2    30.0\n",
       "3    40.0\n",
       "4    50.0\n",
       "dtype: float16"
      ]
     },
     "execution_count": 126,
     "metadata": {},
     "output_type": "execute_result"
    }
   ],
   "source": [
    "s"
   ]
  },
  {
   "cell_type": "code",
   "execution_count": 127,
   "id": "0e11454b",
   "metadata": {},
   "outputs": [],
   "source": [
    "# how can I now turn my series into a dtype of np.int64?\n",
    "# you cannot set it - -but you can use \"astype\", just like with NumPy"
   ]
  },
  {
   "cell_type": "code",
   "execution_count": 128,
   "id": "1cc7f1b3",
   "metadata": {},
   "outputs": [
    {
     "data": {
      "text/plain": [
       "0    10\n",
       "1    20\n",
       "2    30\n",
       "3    40\n",
       "4    50\n",
       "dtype: int64"
      ]
     },
     "execution_count": 128,
     "metadata": {},
     "output_type": "execute_result"
    }
   ],
   "source": [
    "s.astype(np.int64)"
   ]
  },
  {
   "cell_type": "code",
   "execution_count": 129,
   "id": "8117ba66",
   "metadata": {},
   "outputs": [],
   "source": [
    "s = s.astype(np.int64)"
   ]
  },
  {
   "cell_type": "code",
   "execution_count": 130,
   "id": "bfdf09b6",
   "metadata": {},
   "outputs": [
    {
     "data": {
      "text/plain": [
       "0    10\n",
       "1    20\n",
       "2    30\n",
       "3    40\n",
       "4    50\n",
       "dtype: int64"
      ]
     },
     "execution_count": 130,
     "metadata": {},
     "output_type": "execute_result"
    }
   ],
   "source": [
    "s"
   ]
  },
  {
   "cell_type": "code",
   "execution_count": 131,
   "id": "2d71a3f9",
   "metadata": {},
   "outputs": [],
   "source": [
    "s.loc[3] = 12.34"
   ]
  },
  {
   "cell_type": "code",
   "execution_count": 132,
   "id": "77f49608",
   "metadata": {
    "scrolled": true
   },
   "outputs": [
    {
     "data": {
      "text/plain": [
       "0    10.00\n",
       "1    20.00\n",
       "2    30.00\n",
       "3    12.34\n",
       "4    50.00\n",
       "dtype: float64"
      ]
     },
     "execution_count": 132,
     "metadata": {},
     "output_type": "execute_result"
    }
   ],
   "source": [
    "s"
   ]
  },
  {
   "cell_type": "markdown",
   "id": "3c55287e",
   "metadata": {},
   "source": [
    "# Exercises with dtypes and `nan`\n",
    "\n",
    "1. Create a series containing 10 random *floats* from 0-1,000.\n",
    "2. Replace those numbers whose integer part is even with `nan`.\n",
    "3. Replace those `nan` values with the mean of the remaining numbers."
   ]
  },
  {
   "cell_type": "code",
   "execution_count": null,
   "id": "56ef9eb1",
   "metadata": {},
   "outputs": [],
   "source": []
  }
 ],
 "metadata": {
  "kernelspec": {
   "display_name": "Python 3 (ipykernel)",
   "language": "python",
   "name": "python3"
  },
  "language_info": {
   "codemirror_mode": {
    "name": "ipython",
    "version": 3
   },
   "file_extension": ".py",
   "mimetype": "text/x-python",
   "name": "python",
   "nbconvert_exporter": "python",
   "pygments_lexer": "ipython3",
   "version": "3.10.4"
  }
 },
 "nbformat": 4,
 "nbformat_minor": 5
}
