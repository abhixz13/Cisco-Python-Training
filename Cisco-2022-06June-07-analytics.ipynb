{
 "cells": [
  {
   "cell_type": "markdown",
   "id": "99afa6d5",
   "metadata": {},
   "source": [
    "# Agenda\n",
    "\n",
    "1. Pandas in general\n",
    "2. Series\n",
    "    - Creating \n",
    "    - Retrieving from them\n",
    "    - Methods\n",
    "    - Working with `nan`\n",
    "    - Broadcasting\n",
    "    - Indexes\n",
    "3. Data frames\n",
    "    - Creating\n",
    "    - Retrieving from them\n",
    "    - Applying methods across all columns\n",
    "4. Reading data from files\n",
    "    - CSV\n",
    "    - (Excel, a little)\n",
    "    - JSON\n",
    "    - Retrieving from the network"
   ]
  },
  {
   "cell_type": "markdown",
   "id": "64fa86bf",
   "metadata": {},
   "source": [
    "# Pandas data structures\n",
    "\n",
    "There are two main data structures you need to know about with Pandas:\n",
    "\n",
    "- `Series` -- basically a 1D NumPy array\n",
    "- `DataFrame` -- basically a 2D NumPy array\n",
    "\n",
    "The rows of a data frame are going to be equivalent to the rows of a NumPy array.\n",
    "\n",
    "The columns of a data frame are all going to be Series objects."
   ]
  },
  {
   "cell_type": "markdown",
   "id": "ad2e0cdf",
   "metadata": {},
   "source": [
    "# Installing pandas\n",
    "\n",
    "You can install it along with many other Python packages with `pip` (command-line program, not to be run inside of Python or Jupyter):\n",
    "\n",
    "    python3 -m pip install -U pandas\n",
    "    \n",
    "    "
   ]
  }
 ],
 "metadata": {
  "kernelspec": {
   "display_name": "Python 3 (ipykernel)",
   "language": "python",
   "name": "python3"
  },
  "language_info": {
   "codemirror_mode": {
    "name": "ipython",
    "version": 3
   },
   "file_extension": ".py",
   "mimetype": "text/x-python",
   "name": "python",
   "nbconvert_exporter": "python",
   "pygments_lexer": "ipython3",
   "version": "3.10.4"
  }
 },
 "nbformat": 4,
 "nbformat_minor": 5
}
