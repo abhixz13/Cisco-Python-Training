{
 "cells": [
  {
   "cell_type": "markdown",
   "id": "866b9ad0",
   "metadata": {},
   "source": [
    "# Agenda\n",
    "\n",
    "1. Pandas in general\n",
    "2. Series\n",
    "    - Creating \n",
    "    - Retrieving from them\n",
    "    - Methods\n",
    "    - Working with `nan`\n",
    "    - Broadcasting\n",
    "    - Indexes\n",
    "3. Data frames\n",
    "    - Creating\n",
    "    - Retrieving from them\n",
    "    - Applying methods across all columns\n",
    "4. Reading data from files\n",
    "    - CSV\n",
    "    - (Excel, a little)\n",
    "    - JSON\n",
    "    - Retrieving from the network"
   ]
  },
  {
   "cell_type": "markdown",
   "id": "4fb69338",
   "metadata": {},
   "source": [
    "# Pandas data structures\n",
    "\n",
    "There are two main data structures you need to know about with Pandas:\n",
    "\n",
    "- `Series` -- basically a 1D NumPy array\n",
    "- `DataFrame` -- basically a 2D NumPy array\n",
    "\n",
    "The rows of a data frame are going to be equivalent to the rows of a NumPy array.\n",
    "\n",
    "The columns of a data frame are all going to be Series objects."
   ]
  },
  {
   "cell_type": "markdown",
   "id": "3302f8af",
   "metadata": {},
   "source": [
    "# Installing pandas\n",
    "\n",
    "You can install it along with many other Python packages with `pip` (command-line program, not to be run inside of Python or Jupyter):\n",
    "\n",
    "    python3 -m pip install -U pandas\n",
    "    \n",
    "Once it is installed, then we'll want to load it into our program."
   ]
  },
  {
   "cell_type": "code",
   "execution_count": 2,
   "id": "42b486b1",
   "metadata": {},
   "outputs": [],
   "source": [
    "import numpy as np\n",
    "import pandas as pd\n",
    "from pandas import Series, DataFrame"
   ]
  },
  {
   "cell_type": "code",
   "execution_count": 3,
   "id": "c4e823f2",
   "metadata": {},
   "outputs": [],
   "source": [
    "# let's create a Pandas Series\n",
    "\n",
    "s = Series([10, 20, 30, 40, 50, 60, 70])"
   ]
  },
  {
   "cell_type": "code",
   "execution_count": 4,
   "id": "fcc78cd1",
   "metadata": {},
   "outputs": [
    {
     "data": {
      "text/plain": [
       "pandas.core.series.Series"
      ]
     },
     "execution_count": 4,
     "metadata": {},
     "output_type": "execute_result"
    }
   ],
   "source": [
    "type(s)"
   ]
  },
  {
   "cell_type": "code",
   "execution_count": 5,
   "id": "d8fab7d0",
   "metadata": {},
   "outputs": [
    {
     "data": {
      "text/plain": [
       "0    10\n",
       "1    20\n",
       "2    30\n",
       "3    40\n",
       "4    50\n",
       "5    60\n",
       "6    70\n",
       "dtype: int64"
      ]
     },
     "execution_count": 5,
     "metadata": {},
     "output_type": "execute_result"
    }
   ],
   "source": [
    "s"
   ]
  },
  {
   "cell_type": "code",
   "execution_count": 6,
   "id": "a0fc73d1",
   "metadata": {},
   "outputs": [
    {
     "data": {
      "text/plain": [
       "10"
      ]
     },
     "execution_count": 6,
     "metadata": {},
     "output_type": "execute_result"
    }
   ],
   "source": [
    "# I can do many of the same things with a series that I did with NumPy arrays\n",
    "\n",
    "s[0]"
   ]
  },
  {
   "cell_type": "code",
   "execution_count": 7,
   "id": "2c503f54",
   "metadata": {},
   "outputs": [
    {
     "data": {
      "text/plain": [
       "40"
      ]
     },
     "execution_count": 7,
     "metadata": {},
     "output_type": "execute_result"
    }
   ],
   "source": [
    "s[3]"
   ]
  },
  {
   "cell_type": "code",
   "execution_count": 8,
   "id": "25e8e0f8",
   "metadata": {},
   "outputs": [
    {
     "data": {
      "text/plain": [
       "280"
      ]
     },
     "execution_count": 8,
     "metadata": {},
     "output_type": "execute_result"
    }
   ],
   "source": [
    "s.sum()"
   ]
  },
  {
   "cell_type": "code",
   "execution_count": 9,
   "id": "da38fbe8",
   "metadata": {},
   "outputs": [
    {
     "data": {
      "text/plain": [
       "40.0"
      ]
     },
     "execution_count": 9,
     "metadata": {},
     "output_type": "execute_result"
    }
   ],
   "source": [
    "s.mean()"
   ]
  },
  {
   "cell_type": "code",
   "execution_count": 10,
   "id": "abe12118",
   "metadata": {},
   "outputs": [],
   "source": [
    "s = Series([10, 20, 30, 40, 50, 60, 70], dtype=np.float64)"
   ]
  },
  {
   "cell_type": "code",
   "execution_count": 11,
   "id": "2255fd99",
   "metadata": {},
   "outputs": [
    {
     "data": {
      "text/plain": [
       "0    10.0\n",
       "1    20.0\n",
       "2    30.0\n",
       "3    40.0\n",
       "4    50.0\n",
       "5    60.0\n",
       "6    70.0\n",
       "dtype: float64"
      ]
     },
     "execution_count": 11,
     "metadata": {},
     "output_type": "execute_result"
    }
   ],
   "source": [
    "s"
   ]
  },
  {
   "cell_type": "code",
   "execution_count": 12,
   "id": "a45b282e",
   "metadata": {},
   "outputs": [
    {
     "data": {
      "text/plain": [
       "array([10., 20., 30., 40., 50., 60., 70.])"
      ]
     },
     "execution_count": 12,
     "metadata": {},
     "output_type": "execute_result"
    }
   ],
   "source": [
    "# behind the scenes, we can find a NumPy array\n",
    "s.values"
   ]
  },
  {
   "cell_type": "code",
   "execution_count": 13,
   "id": "e6f0b900",
   "metadata": {},
   "outputs": [
    {
     "data": {
      "text/plain": [
       "0    44\n",
       "1    47\n",
       "2    64\n",
       "3    67\n",
       "4    67\n",
       "5     9\n",
       "6    83\n",
       "7    21\n",
       "8    36\n",
       "9    87\n",
       "dtype: int64"
      ]
     },
     "execution_count": 13,
     "metadata": {},
     "output_type": "execute_result"
    }
   ],
   "source": [
    "# I can create a Pandas Series  based on a 1D NumPy array\n",
    "\n",
    "np.random.seed(0)\n",
    "s = Series(np.random.randint(0, 100, 10))\n",
    "\n",
    "s"
   ]
  },
  {
   "cell_type": "code",
   "execution_count": 14,
   "id": "6296dbee",
   "metadata": {},
   "outputs": [
    {
     "data": {
      "text/plain": [
       "9"
      ]
     },
     "execution_count": 14,
     "metadata": {},
     "output_type": "execute_result"
    }
   ],
   "source": [
    "s.min()"
   ]
  },
  {
   "cell_type": "code",
   "execution_count": 15,
   "id": "37f89dee",
   "metadata": {},
   "outputs": [
    {
     "data": {
      "text/plain": [
       "87"
      ]
     },
     "execution_count": 15,
     "metadata": {},
     "output_type": "execute_result"
    }
   ],
   "source": [
    "s.max()"
   ]
  },
  {
   "cell_type": "code",
   "execution_count": 16,
   "id": "aee10c10",
   "metadata": {},
   "outputs": [
    {
     "data": {
      "text/plain": [
       "52.5"
      ]
     },
     "execution_count": 16,
     "metadata": {},
     "output_type": "execute_result"
    }
   ],
   "source": [
    "s.mean()"
   ]
  },
  {
   "cell_type": "code",
   "execution_count": 17,
   "id": "2bfba21e",
   "metadata": {},
   "outputs": [
    {
     "data": {
      "text/plain": [
       "25.67424130654432"
      ]
     },
     "execution_count": 17,
     "metadata": {},
     "output_type": "execute_result"
    }
   ],
   "source": [
    "s.std()"
   ]
  },
  {
   "cell_type": "code",
   "execution_count": 18,
   "id": "1456f1c0",
   "metadata": {},
   "outputs": [
    {
     "data": {
      "text/plain": [
       "525"
      ]
     },
     "execution_count": 18,
     "metadata": {},
     "output_type": "execute_result"
    }
   ],
   "source": [
    "s.sum()"
   ]
  },
  {
   "cell_type": "code",
   "execution_count": 20,
   "id": "336a5d3e",
   "metadata": {},
   "outputs": [
    {
     "data": {
      "text/plain": [
       "10"
      ]
     },
     "execution_count": 20,
     "metadata": {},
     "output_type": "execute_result"
    }
   ],
   "source": [
    "s.count()   # how many non-nan values are there in this series?"
   ]
  },
  {
   "cell_type": "code",
   "execution_count": 21,
   "id": "d006d535",
   "metadata": {},
   "outputs": [
    {
     "data": {
      "text/plain": [
       "0    False\n",
       "1    False\n",
       "2    False\n",
       "3    False\n",
       "4    False\n",
       "5     True\n",
       "6    False\n",
       "7     True\n",
       "8    False\n",
       "9    False\n",
       "dtype: bool"
      ]
     },
     "execution_count": 21,
     "metadata": {},
     "output_type": "execute_result"
    }
   ],
   "source": [
    "# can I create a boolean series, and use it as a mask index? YES!\n",
    "\n",
    "s < 30"
   ]
  },
  {
   "cell_type": "code",
   "execution_count": 22,
   "id": "42ddd258",
   "metadata": {},
   "outputs": [
    {
     "data": {
      "text/plain": [
       "5     9\n",
       "7    21\n",
       "dtype: int64"
      ]
     },
     "execution_count": 22,
     "metadata": {},
     "output_type": "execute_result"
    }
   ],
   "source": [
    "s[s<30]  # notice that when I filter the elements of s, the items I get back retain their original indexes"
   ]
  },
  {
   "cell_type": "code",
   "execution_count": 23,
   "id": "b8b3ee85",
   "metadata": {},
   "outputs": [
    {
     "data": {
      "text/plain": [
       "0    44\n",
       "1    47\n",
       "5     9\n",
       "7    21\n",
       "8    36\n",
       "dtype: int64"
      ]
     },
     "execution_count": 23,
     "metadata": {},
     "output_type": "execute_result"
    }
   ],
   "source": [
    "s[s<s.mean()]  # retrieve values less than the mean"
   ]
  },
  {
   "cell_type": "markdown",
   "id": "77536633",
   "metadata": {},
   "source": [
    "# Ways to retrieve from a series\n",
    "\n",
    "1. We've now seen that we can retrieve from a series using `[]`, just as we did with NumPy arrays.  But I'd like you to break this habit, ASAP.  (When we get to data frames, this will make more sense, and you won't regret it.)\n",
    "\n",
    "2. We can also retrieve from a series using the `.loc` accessor and `[]`.  This lets us retrieve via the index.\n",
    "\n",
    "3. We can also retrieve from a series using the `iloc` accessor and `[]`.  This lets us retrieve via the position in the series, regardless of the index, starting at 0."
   ]
  },
  {
   "cell_type": "code",
   "execution_count": 24,
   "id": "27c2777a",
   "metadata": {},
   "outputs": [],
   "source": [
    "a = s[s<s.mean()]"
   ]
  },
  {
   "cell_type": "code",
   "execution_count": 25,
   "id": "a897db2d",
   "metadata": {},
   "outputs": [
    {
     "data": {
      "text/plain": [
       "0    44\n",
       "1    47\n",
       "5     9\n",
       "7    21\n",
       "8    36\n",
       "dtype: int64"
      ]
     },
     "execution_count": 25,
     "metadata": {},
     "output_type": "execute_result"
    }
   ],
   "source": [
    "a   # this is a series containing 5 elements."
   ]
  },
  {
   "cell_type": "code",
   "execution_count": 26,
   "id": "909741de",
   "metadata": {},
   "outputs": [
    {
     "data": {
      "text/plain": [
       "9"
      ]
     },
     "execution_count": 26,
     "metadata": {},
     "output_type": "execute_result"
    }
   ],
   "source": [
    "# I can retrieve via the index using just [].  Again: Probably not a good idea, but it will work!\n",
    "a[5]"
   ]
  },
  {
   "cell_type": "code",
   "execution_count": 27,
   "id": "eaa1f64f",
   "metadata": {},
   "outputs": [
    {
     "data": {
      "text/plain": [
       "36"
      ]
     },
     "execution_count": 27,
     "metadata": {},
     "output_type": "execute_result"
    }
   ],
   "source": [
    "a[8]"
   ]
  },
  {
   "cell_type": "code",
   "execution_count": 28,
   "id": "d50d4a05",
   "metadata": {},
   "outputs": [
    {
     "data": {
      "text/plain": [
       "44"
      ]
     },
     "execution_count": 28,
     "metadata": {},
     "output_type": "execute_result"
    }
   ],
   "source": [
    "a[0]"
   ]
  },
  {
   "cell_type": "code",
   "execution_count": 29,
   "id": "6afff676",
   "metadata": {},
   "outputs": [
    {
     "data": {
      "text/plain": [
       "1    47\n",
       "7    21\n",
       "dtype: int64"
      ]
     },
     "execution_count": 29,
     "metadata": {},
     "output_type": "execute_result"
    }
   ],
   "source": [
    "a[[1, 7]]   # fancy indexing works here, too!"
   ]
  },
  {
   "cell_type": "code",
   "execution_count": 30,
   "id": "87da87dc",
   "metadata": {},
   "outputs": [
    {
     "data": {
      "text/plain": [
       "9"
      ]
     },
     "execution_count": 30,
     "metadata": {},
     "output_type": "execute_result"
    }
   ],
   "source": [
    "# Better than [] alone is retrieving with .loc, which lets us specify the index\n",
    "\n",
    "a.loc[5]"
   ]
  },
  {
   "cell_type": "code",
   "execution_count": 31,
   "id": "49374ea8",
   "metadata": {},
   "outputs": [
    {
     "data": {
      "text/plain": [
       "36"
      ]
     },
     "execution_count": 31,
     "metadata": {},
     "output_type": "execute_result"
    }
   ],
   "source": [
    "a.loc[8]"
   ]
  },
  {
   "cell_type": "code",
   "execution_count": 32,
   "id": "e2cb50c0",
   "metadata": {},
   "outputs": [
    {
     "data": {
      "text/plain": [
       "44"
      ]
     },
     "execution_count": 32,
     "metadata": {},
     "output_type": "execute_result"
    }
   ],
   "source": [
    "a.loc[0]"
   ]
  },
  {
   "cell_type": "code",
   "execution_count": 33,
   "id": "4efa476e",
   "metadata": {},
   "outputs": [
    {
     "data": {
      "text/plain": [
       "1    47\n",
       "7    21\n",
       "dtype: int64"
      ]
     },
     "execution_count": 33,
     "metadata": {},
     "output_type": "execute_result"
    }
   ],
   "source": [
    "a.loc[[1,7]]"
   ]
  },
  {
   "cell_type": "code",
   "execution_count": 36,
   "id": "3bc09420",
   "metadata": {},
   "outputs": [
    {
     "data": {
      "text/plain": [
       "21"
      ]
     },
     "execution_count": 36,
     "metadata": {},
     "output_type": "execute_result"
    }
   ],
   "source": [
    "# Another way to retrieve is with .iloc, where we specify the numeric position in the series,\n",
    "# starting with 0.\n",
    "\n",
    "a.iloc[3]"
   ]
  },
  {
   "cell_type": "code",
   "execution_count": 37,
   "id": "5c304122",
   "metadata": {},
   "outputs": [
    {
     "data": {
      "text/plain": [
       "0    44\n",
       "1    47\n",
       "5     9\n",
       "7    21\n",
       "8    36\n",
       "dtype: int64"
      ]
     },
     "execution_count": 37,
     "metadata": {},
     "output_type": "execute_result"
    }
   ],
   "source": [
    "a"
   ]
  },
  {
   "cell_type": "code",
   "execution_count": 38,
   "id": "785f3295",
   "metadata": {},
   "outputs": [
    {
     "data": {
      "text/plain": [
       "21"
      ]
     },
     "execution_count": 38,
     "metadata": {},
     "output_type": "execute_result"
    }
   ],
   "source": [
    "a.loc[7]    # same as a.iloc[3]"
   ]
  },
  {
   "cell_type": "code",
   "execution_count": 39,
   "id": "3159bf76",
   "metadata": {},
   "outputs": [
    {
     "data": {
      "text/plain": [
       "9"
      ]
     },
     "execution_count": 39,
     "metadata": {},
     "output_type": "execute_result"
    }
   ],
   "source": [
    "a.iloc[2]"
   ]
  },
  {
   "cell_type": "code",
   "execution_count": 40,
   "id": "c3dd0f6e",
   "metadata": {},
   "outputs": [
    {
     "ename": "KeyError",
     "evalue": "2",
     "output_type": "error",
     "traceback": [
      "\u001b[0;31m---------------------------------------------------------------------------\u001b[0m",
      "\u001b[0;31mKeyError\u001b[0m                                  Traceback (most recent call last)",
      "\u001b[0;32m/usr/local/lib/python3.10/site-packages/pandas/core/indexes/base.py\u001b[0m in \u001b[0;36mget_loc\u001b[0;34m(self, key, method, tolerance)\u001b[0m\n\u001b[1;32m   3620\u001b[0m             \u001b[0;32mtry\u001b[0m\u001b[0;34m:\u001b[0m\u001b[0;34m\u001b[0m\u001b[0;34m\u001b[0m\u001b[0m\n\u001b[0;32m-> 3621\u001b[0;31m                 \u001b[0;32mreturn\u001b[0m \u001b[0mself\u001b[0m\u001b[0;34m.\u001b[0m\u001b[0m_engine\u001b[0m\u001b[0;34m.\u001b[0m\u001b[0mget_loc\u001b[0m\u001b[0;34m(\u001b[0m\u001b[0mcasted_key\u001b[0m\u001b[0;34m)\u001b[0m\u001b[0;34m\u001b[0m\u001b[0;34m\u001b[0m\u001b[0m\n\u001b[0m\u001b[1;32m   3622\u001b[0m             \u001b[0;32mexcept\u001b[0m \u001b[0mKeyError\u001b[0m \u001b[0;32mas\u001b[0m \u001b[0merr\u001b[0m\u001b[0;34m:\u001b[0m\u001b[0;34m\u001b[0m\u001b[0;34m\u001b[0m\u001b[0m\n",
      "\u001b[0;32mpandas/_libs/index.pyx\u001b[0m in \u001b[0;36mpandas._libs.index.IndexEngine.get_loc\u001b[0;34m()\u001b[0m\n",
      "\u001b[0;32mpandas/_libs/index.pyx\u001b[0m in \u001b[0;36mpandas._libs.index.IndexEngine.get_loc\u001b[0;34m()\u001b[0m\n",
      "\u001b[0;32mpandas/_libs/hashtable_class_helper.pxi\u001b[0m in \u001b[0;36mpandas._libs.hashtable.Int64HashTable.get_item\u001b[0;34m()\u001b[0m\n",
      "\u001b[0;32mpandas/_libs/hashtable_class_helper.pxi\u001b[0m in \u001b[0;36mpandas._libs.hashtable.Int64HashTable.get_item\u001b[0;34m()\u001b[0m\n",
      "\u001b[0;31mKeyError\u001b[0m: 2",
      "\nThe above exception was the direct cause of the following exception:\n",
      "\u001b[0;31mKeyError\u001b[0m                                  Traceback (most recent call last)",
      "\u001b[0;32m/var/folders/rr/0mnyyv811fs5vyp22gf4fxk00000gn/T/ipykernel_77757/1776306547.py\u001b[0m in \u001b[0;36m<module>\u001b[0;34m\u001b[0m\n\u001b[0;32m----> 1\u001b[0;31m \u001b[0ma\u001b[0m\u001b[0;34m.\u001b[0m\u001b[0mloc\u001b[0m\u001b[0;34m[\u001b[0m\u001b[0;36m2\u001b[0m\u001b[0;34m]\u001b[0m\u001b[0;34m\u001b[0m\u001b[0;34m\u001b[0m\u001b[0m\n\u001b[0m",
      "\u001b[0;32m/usr/local/lib/python3.10/site-packages/pandas/core/indexing.py\u001b[0m in \u001b[0;36m__getitem__\u001b[0;34m(self, key)\u001b[0m\n\u001b[1;32m    965\u001b[0m \u001b[0;34m\u001b[0m\u001b[0m\n\u001b[1;32m    966\u001b[0m             \u001b[0mmaybe_callable\u001b[0m \u001b[0;34m=\u001b[0m \u001b[0mcom\u001b[0m\u001b[0;34m.\u001b[0m\u001b[0mapply_if_callable\u001b[0m\u001b[0;34m(\u001b[0m\u001b[0mkey\u001b[0m\u001b[0;34m,\u001b[0m \u001b[0mself\u001b[0m\u001b[0;34m.\u001b[0m\u001b[0mobj\u001b[0m\u001b[0;34m)\u001b[0m\u001b[0;34m\u001b[0m\u001b[0;34m\u001b[0m\u001b[0m\n\u001b[0;32m--> 967\u001b[0;31m             \u001b[0;32mreturn\u001b[0m \u001b[0mself\u001b[0m\u001b[0;34m.\u001b[0m\u001b[0m_getitem_axis\u001b[0m\u001b[0;34m(\u001b[0m\u001b[0mmaybe_callable\u001b[0m\u001b[0;34m,\u001b[0m \u001b[0maxis\u001b[0m\u001b[0;34m=\u001b[0m\u001b[0maxis\u001b[0m\u001b[0;34m)\u001b[0m\u001b[0;34m\u001b[0m\u001b[0;34m\u001b[0m\u001b[0m\n\u001b[0m\u001b[1;32m    968\u001b[0m \u001b[0;34m\u001b[0m\u001b[0m\n\u001b[1;32m    969\u001b[0m     \u001b[0;32mdef\u001b[0m \u001b[0m_is_scalar_access\u001b[0m\u001b[0;34m(\u001b[0m\u001b[0mself\u001b[0m\u001b[0;34m,\u001b[0m \u001b[0mkey\u001b[0m\u001b[0;34m:\u001b[0m \u001b[0mtuple\u001b[0m\u001b[0;34m)\u001b[0m\u001b[0;34m:\u001b[0m\u001b[0;34m\u001b[0m\u001b[0;34m\u001b[0m\u001b[0m\n",
      "\u001b[0;32m/usr/local/lib/python3.10/site-packages/pandas/core/indexing.py\u001b[0m in \u001b[0;36m_getitem_axis\u001b[0;34m(self, key, axis)\u001b[0m\n\u001b[1;32m   1200\u001b[0m         \u001b[0;31m# fall thru to straight lookup\u001b[0m\u001b[0;34m\u001b[0m\u001b[0;34m\u001b[0m\u001b[0m\n\u001b[1;32m   1201\u001b[0m         \u001b[0mself\u001b[0m\u001b[0;34m.\u001b[0m\u001b[0m_validate_key\u001b[0m\u001b[0;34m(\u001b[0m\u001b[0mkey\u001b[0m\u001b[0;34m,\u001b[0m \u001b[0maxis\u001b[0m\u001b[0;34m)\u001b[0m\u001b[0;34m\u001b[0m\u001b[0;34m\u001b[0m\u001b[0m\n\u001b[0;32m-> 1202\u001b[0;31m         \u001b[0;32mreturn\u001b[0m \u001b[0mself\u001b[0m\u001b[0;34m.\u001b[0m\u001b[0m_get_label\u001b[0m\u001b[0;34m(\u001b[0m\u001b[0mkey\u001b[0m\u001b[0;34m,\u001b[0m \u001b[0maxis\u001b[0m\u001b[0;34m=\u001b[0m\u001b[0maxis\u001b[0m\u001b[0;34m)\u001b[0m\u001b[0;34m\u001b[0m\u001b[0;34m\u001b[0m\u001b[0m\n\u001b[0m\u001b[1;32m   1203\u001b[0m \u001b[0;34m\u001b[0m\u001b[0m\n\u001b[1;32m   1204\u001b[0m     \u001b[0;32mdef\u001b[0m \u001b[0m_get_slice_axis\u001b[0m\u001b[0;34m(\u001b[0m\u001b[0mself\u001b[0m\u001b[0;34m,\u001b[0m \u001b[0mslice_obj\u001b[0m\u001b[0;34m:\u001b[0m \u001b[0mslice\u001b[0m\u001b[0;34m,\u001b[0m \u001b[0maxis\u001b[0m\u001b[0;34m:\u001b[0m \u001b[0mint\u001b[0m\u001b[0;34m)\u001b[0m\u001b[0;34m:\u001b[0m\u001b[0;34m\u001b[0m\u001b[0;34m\u001b[0m\u001b[0m\n",
      "\u001b[0;32m/usr/local/lib/python3.10/site-packages/pandas/core/indexing.py\u001b[0m in \u001b[0;36m_get_label\u001b[0;34m(self, label, axis)\u001b[0m\n\u001b[1;32m   1151\u001b[0m     \u001b[0;32mdef\u001b[0m \u001b[0m_get_label\u001b[0m\u001b[0;34m(\u001b[0m\u001b[0mself\u001b[0m\u001b[0;34m,\u001b[0m \u001b[0mlabel\u001b[0m\u001b[0;34m,\u001b[0m \u001b[0maxis\u001b[0m\u001b[0;34m:\u001b[0m \u001b[0mint\u001b[0m\u001b[0;34m)\u001b[0m\u001b[0;34m:\u001b[0m\u001b[0;34m\u001b[0m\u001b[0;34m\u001b[0m\u001b[0m\n\u001b[1;32m   1152\u001b[0m         \u001b[0;31m# GH#5667 this will fail if the label is not present in the axis.\u001b[0m\u001b[0;34m\u001b[0m\u001b[0;34m\u001b[0m\u001b[0m\n\u001b[0;32m-> 1153\u001b[0;31m         \u001b[0;32mreturn\u001b[0m \u001b[0mself\u001b[0m\u001b[0;34m.\u001b[0m\u001b[0mobj\u001b[0m\u001b[0;34m.\u001b[0m\u001b[0mxs\u001b[0m\u001b[0;34m(\u001b[0m\u001b[0mlabel\u001b[0m\u001b[0;34m,\u001b[0m \u001b[0maxis\u001b[0m\u001b[0;34m=\u001b[0m\u001b[0maxis\u001b[0m\u001b[0;34m)\u001b[0m\u001b[0;34m\u001b[0m\u001b[0;34m\u001b[0m\u001b[0m\n\u001b[0m\u001b[1;32m   1154\u001b[0m \u001b[0;34m\u001b[0m\u001b[0m\n\u001b[1;32m   1155\u001b[0m     \u001b[0;32mdef\u001b[0m \u001b[0m_handle_lowerdim_multi_index_axis0\u001b[0m\u001b[0;34m(\u001b[0m\u001b[0mself\u001b[0m\u001b[0;34m,\u001b[0m \u001b[0mtup\u001b[0m\u001b[0;34m:\u001b[0m \u001b[0mtuple\u001b[0m\u001b[0;34m)\u001b[0m\u001b[0;34m:\u001b[0m\u001b[0;34m\u001b[0m\u001b[0;34m\u001b[0m\u001b[0m\n",
      "\u001b[0;32m/usr/local/lib/python3.10/site-packages/pandas/core/generic.py\u001b[0m in \u001b[0;36mxs\u001b[0;34m(self, key, axis, level, drop_level)\u001b[0m\n\u001b[1;32m   3862\u001b[0m                     \u001b[0mnew_index\u001b[0m \u001b[0;34m=\u001b[0m \u001b[0mindex\u001b[0m\u001b[0;34m[\u001b[0m\u001b[0mloc\u001b[0m\u001b[0;34m]\u001b[0m\u001b[0;34m\u001b[0m\u001b[0;34m\u001b[0m\u001b[0m\n\u001b[1;32m   3863\u001b[0m         \u001b[0;32melse\u001b[0m\u001b[0;34m:\u001b[0m\u001b[0;34m\u001b[0m\u001b[0;34m\u001b[0m\u001b[0m\n\u001b[0;32m-> 3864\u001b[0;31m             \u001b[0mloc\u001b[0m \u001b[0;34m=\u001b[0m \u001b[0mindex\u001b[0m\u001b[0;34m.\u001b[0m\u001b[0mget_loc\u001b[0m\u001b[0;34m(\u001b[0m\u001b[0mkey\u001b[0m\u001b[0;34m)\u001b[0m\u001b[0;34m\u001b[0m\u001b[0;34m\u001b[0m\u001b[0m\n\u001b[0m\u001b[1;32m   3865\u001b[0m \u001b[0;34m\u001b[0m\u001b[0m\n\u001b[1;32m   3866\u001b[0m             \u001b[0;32mif\u001b[0m \u001b[0misinstance\u001b[0m\u001b[0;34m(\u001b[0m\u001b[0mloc\u001b[0m\u001b[0;34m,\u001b[0m \u001b[0mnp\u001b[0m\u001b[0;34m.\u001b[0m\u001b[0mndarray\u001b[0m\u001b[0;34m)\u001b[0m\u001b[0;34m:\u001b[0m\u001b[0;34m\u001b[0m\u001b[0;34m\u001b[0m\u001b[0m\n",
      "\u001b[0;32m/usr/local/lib/python3.10/site-packages/pandas/core/indexes/base.py\u001b[0m in \u001b[0;36mget_loc\u001b[0;34m(self, key, method, tolerance)\u001b[0m\n\u001b[1;32m   3621\u001b[0m                 \u001b[0;32mreturn\u001b[0m \u001b[0mself\u001b[0m\u001b[0;34m.\u001b[0m\u001b[0m_engine\u001b[0m\u001b[0;34m.\u001b[0m\u001b[0mget_loc\u001b[0m\u001b[0;34m(\u001b[0m\u001b[0mcasted_key\u001b[0m\u001b[0;34m)\u001b[0m\u001b[0;34m\u001b[0m\u001b[0;34m\u001b[0m\u001b[0m\n\u001b[1;32m   3622\u001b[0m             \u001b[0;32mexcept\u001b[0m \u001b[0mKeyError\u001b[0m \u001b[0;32mas\u001b[0m \u001b[0merr\u001b[0m\u001b[0;34m:\u001b[0m\u001b[0;34m\u001b[0m\u001b[0;34m\u001b[0m\u001b[0m\n\u001b[0;32m-> 3623\u001b[0;31m                 \u001b[0;32mraise\u001b[0m \u001b[0mKeyError\u001b[0m\u001b[0;34m(\u001b[0m\u001b[0mkey\u001b[0m\u001b[0;34m)\u001b[0m \u001b[0;32mfrom\u001b[0m \u001b[0merr\u001b[0m\u001b[0;34m\u001b[0m\u001b[0;34m\u001b[0m\u001b[0m\n\u001b[0m\u001b[1;32m   3624\u001b[0m             \u001b[0;32mexcept\u001b[0m \u001b[0mTypeError\u001b[0m\u001b[0;34m:\u001b[0m\u001b[0;34m\u001b[0m\u001b[0;34m\u001b[0m\u001b[0m\n\u001b[1;32m   3625\u001b[0m                 \u001b[0;31m# If we have a listlike key, _check_indexing_error will raise\u001b[0m\u001b[0;34m\u001b[0m\u001b[0;34m\u001b[0m\u001b[0m\n",
      "\u001b[0;31mKeyError\u001b[0m: 2"
     ]
    }
   ],
   "source": [
    "a.loc[2]"
   ]
  },
  {
   "cell_type": "code",
   "execution_count": 41,
   "id": "7ae6cb29",
   "metadata": {},
   "outputs": [
    {
     "data": {
      "text/plain": [
       "0    44\n",
       "1    47\n",
       "5     9\n",
       "7    21\n",
       "8    36\n",
       "dtype: int64"
      ]
     },
     "execution_count": 41,
     "metadata": {},
     "output_type": "execute_result"
    }
   ],
   "source": [
    "a"
   ]
  },
  {
   "cell_type": "code",
   "execution_count": 43,
   "id": "a6562ccb",
   "metadata": {},
   "outputs": [],
   "source": [
    "# is there a way for me to set the index when I create a series?\n",
    "# yes!\n",
    "\n",
    "s = Series([10, 20, 30, 40, 50],\n",
    "          index=[2,4,6,8,10])      # index and values must be of the same length!"
   ]
  },
  {
   "cell_type": "code",
   "execution_count": 44,
   "id": "74de4d2a",
   "metadata": {},
   "outputs": [
    {
     "data": {
      "text/plain": [
       "2     10\n",
       "4     20\n",
       "6     30\n",
       "8     40\n",
       "10    50\n",
       "dtype: int64"
      ]
     },
     "execution_count": 44,
     "metadata": {},
     "output_type": "execute_result"
    }
   ],
   "source": [
    "s"
   ]
  },
  {
   "cell_type": "code",
   "execution_count": 45,
   "id": "5956be4c",
   "metadata": {},
   "outputs": [
    {
     "data": {
      "text/plain": [
       "20"
      ]
     },
     "execution_count": 45,
     "metadata": {},
     "output_type": "execute_result"
    }
   ],
   "source": [
    "s.loc[4]  # this retrieves the item whose index is 4"
   ]
  },
  {
   "cell_type": "code",
   "execution_count": 46,
   "id": "8dc4f7fb",
   "metadata": {},
   "outputs": [
    {
     "data": {
      "text/plain": [
       "50"
      ]
     },
     "execution_count": 46,
     "metadata": {},
     "output_type": "execute_result"
    }
   ],
   "source": [
    "s.iloc[4]  # this retrieves the item whose position is 4"
   ]
  },
  {
   "cell_type": "code",
   "execution_count": 47,
   "id": "3ed6574b",
   "metadata": {},
   "outputs": [
    {
     "data": {
      "text/plain": [
       "a    10\n",
       "b    20\n",
       "c    30\n",
       "d    40\n",
       "e    50\n",
       "dtype: int64"
      ]
     },
     "execution_count": 47,
     "metadata": {},
     "output_type": "execute_result"
    }
   ],
   "source": [
    "s = Series([10, 20, 30, 40, 50],\n",
    "          index=list('abcde'))    # indexes can be strings, including 1-character strings!\n",
    "\n",
    "s"
   ]
  },
  {
   "cell_type": "code",
   "execution_count": 48,
   "id": "1125549e",
   "metadata": {},
   "outputs": [
    {
     "data": {
      "text/plain": [
       "40"
      ]
     },
     "execution_count": 48,
     "metadata": {},
     "output_type": "execute_result"
    }
   ],
   "source": [
    "s.loc['d']"
   ]
  },
  {
   "cell_type": "code",
   "execution_count": 49,
   "id": "add51554",
   "metadata": {},
   "outputs": [
    {
     "data": {
      "text/plain": [
       "40"
      ]
     },
     "execution_count": 49,
     "metadata": {},
     "output_type": "execute_result"
    }
   ],
   "source": [
    "s.iloc[3]"
   ]
  },
  {
   "cell_type": "code",
   "execution_count": 51,
   "id": "af71848a",
   "metadata": {},
   "outputs": [
    {
     "data": {
      "text/plain": [
       "b    20\n",
       "d    40\n",
       "dtype: int64"
      ]
     },
     "execution_count": 51,
     "metadata": {},
     "output_type": "execute_result"
    }
   ],
   "source": [
    "# we can retrieve multiple values with fancy indexing\n",
    "# we'll get a series back as a result (assuming that there's more than one value there)\n",
    "\n",
    "s.loc[['b', 'd']] # fancy indexing with strings"
   ]
  },
  {
   "cell_type": "code",
   "execution_count": 52,
   "id": "7690d421",
   "metadata": {},
   "outputs": [
    {
     "data": {
      "text/plain": [
       "b    20\n",
       "c    30\n",
       "d    40\n",
       "dtype: int64"
      ]
     },
     "execution_count": 52,
     "metadata": {},
     "output_type": "execute_result"
    }
   ],
   "source": [
    "# I can even use a slice!\n",
    "\n",
    "s.loc['b':'d']   # in general, Python slices are [start:end+1] -- but not in Pandas, where slices are INCLUSIVE"
   ]
  },
  {
   "cell_type": "markdown",
   "id": "f34ed007",
   "metadata": {},
   "source": [
    "# Exercises: Series\n",
    "\n",
    "1. Create a series containing 10 random integers from 0-100, with index `a` - `j`.\n",
    "2. Retrieve the item at index `b`.\n",
    "3. Retrieve the items at indexes `c`, `d`, and `f`.\n",
    "4. What is the mean of the items at indexes `a`, `e`, `g`, and `h`?\n",
    "5. What is the sum of the even values?\n",
    "6. What is the sum of the items whose positions (`.iloc`) are even?"
   ]
  },
  {
   "cell_type": "code",
   "execution_count": 56,
   "id": "de779e54",
   "metadata": {},
   "outputs": [
    {
     "data": {
      "text/plain": [
       "a    44\n",
       "b    47\n",
       "c    64\n",
       "d    67\n",
       "e    67\n",
       "f     9\n",
       "g    83\n",
       "h    21\n",
       "i    36\n",
       "j    87\n",
       "dtype: int64"
      ]
     },
     "execution_count": 56,
     "metadata": {},
     "output_type": "execute_result"
    }
   ],
   "source": [
    "np.random.seed(0)\n",
    "s = Series(np.random.randint(0, 100, 10),\n",
    "          index=list('abcdefghij'))\n",
    "s"
   ]
  },
  {
   "cell_type": "code",
   "execution_count": 58,
   "id": "2e526725",
   "metadata": {},
   "outputs": [
    {
     "data": {
      "text/plain": [
       "47"
      ]
     },
     "execution_count": 58,
     "metadata": {},
     "output_type": "execute_result"
    }
   ],
   "source": [
    "# retrieve the item at index b\n",
    "\n",
    "s.loc['b']"
   ]
  },
  {
   "cell_type": "code",
   "execution_count": 59,
   "id": "53a7a6cf",
   "metadata": {},
   "outputs": [
    {
     "data": {
      "text/plain": [
       "c    64\n",
       "d    67\n",
       "f     9\n",
       "dtype: int64"
      ]
     },
     "execution_count": 59,
     "metadata": {},
     "output_type": "execute_result"
    }
   ],
   "source": [
    "# Retrieve the items at indexes c, d, and f.\n",
    "\n",
    "s.loc[['c', 'd', 'f']]   # fancy indexing -- pass a list of indexes to .loc[]"
   ]
  },
  {
   "cell_type": "code",
   "execution_count": 60,
   "id": "f7f94cd8",
   "metadata": {},
   "outputs": [
    {
     "data": {
      "text/plain": [
       "c    64\n",
       "d    67\n",
       "e    67\n",
       "dtype: int64"
      ]
     },
     "execution_count": 60,
     "metadata": {},
     "output_type": "execute_result"
    }
   ],
   "source": [
    "# Retrieve the items at indexes c, d, and e\n",
    "\n",
    "s.loc['c':'e']  # one set of square brackets here"
   ]
  },
  {
   "cell_type": "code",
   "execution_count": 63,
   "id": "d515d4b8",
   "metadata": {},
   "outputs": [
    {
     "data": {
      "text/plain": [
       "53.75"
      ]
     },
     "execution_count": 63,
     "metadata": {},
     "output_type": "execute_result"
    }
   ],
   "source": [
    "# What is the mean of the items at indexes a, e, g, and h?\n",
    "\n",
    "s.loc[['a', 'e', 'g', 'h']].mean()"
   ]
  },
  {
   "cell_type": "code",
   "execution_count": 66,
   "id": "9e91b5d0",
   "metadata": {},
   "outputs": [
    {
     "data": {
      "text/plain": [
       "144"
      ]
     },
     "execution_count": 66,
     "metadata": {},
     "output_type": "execute_result"
    }
   ],
   "source": [
    "# What is the sum of the even values?\n",
    "\n",
    "s.loc[s%2==0].sum()"
   ]
  },
  {
   "cell_type": "code",
   "execution_count": 67,
   "id": "3622683b",
   "metadata": {},
   "outputs": [
    {
     "data": {
      "text/plain": [
       "a    44\n",
       "c    64\n",
       "e    67\n",
       "g    83\n",
       "i    36\n",
       "dtype: int64"
      ]
     },
     "execution_count": 67,
     "metadata": {},
     "output_type": "execute_result"
    }
   ],
   "source": [
    "# What is the sum of the items whose positions (.iloc) are even?\n",
    "\n",
    "s.iloc[[0,2,4,6,8]]"
   ]
  },
  {
   "cell_type": "code",
   "execution_count": 69,
   "id": "21b16a12",
   "metadata": {},
   "outputs": [
    {
     "data": {
      "text/plain": [
       "a    44\n",
       "c    64\n",
       "e    67\n",
       "g    83\n",
       "i    36\n",
       "dtype: int64"
      ]
     },
     "execution_count": 69,
     "metadata": {},
     "output_type": "execute_result"
    }
   ],
   "source": [
    "s.iloc[range(0, 10, 2)]   # from 0, up to (not including) 10, skipping by 2"
   ]
  },
  {
   "cell_type": "code",
   "execution_count": 70,
   "id": "b082b75b",
   "metadata": {},
   "outputs": [
    {
     "data": {
      "text/plain": [
       "294"
      ]
     },
     "execution_count": 70,
     "metadata": {},
     "output_type": "execute_result"
    }
   ],
   "source": [
    "s.iloc[range(0, 10, 2)].sum()"
   ]
  },
  {
   "cell_type": "markdown",
   "id": "fc06bedb",
   "metadata": {},
   "source": [
    "# How is Pandas different from NumPy?\n"
   ]
  },
  {
   "cell_type": "code",
   "execution_count": 71,
   "id": "92bc9fe1",
   "metadata": {},
   "outputs": [],
   "source": [
    "np.random.seed(0)\n",
    "s1 = Series(np.random.randint(0, 100, 10), \n",
    "           index=list('abcdefghij'))\n",
    "s2 = Series(np.random.randint(0, 100, 10), \n",
    "           index=list('defghijklm'))\n"
   ]
  },
  {
   "cell_type": "code",
   "execution_count": 72,
   "id": "ffc601fa",
   "metadata": {},
   "outputs": [
    {
     "data": {
      "text/plain": [
       "a    44\n",
       "b    47\n",
       "c    64\n",
       "d    67\n",
       "e    67\n",
       "f     9\n",
       "g    83\n",
       "h    21\n",
       "i    36\n",
       "j    87\n",
       "dtype: int64"
      ]
     },
     "execution_count": 72,
     "metadata": {},
     "output_type": "execute_result"
    }
   ],
   "source": [
    "s1"
   ]
  },
  {
   "cell_type": "code",
   "execution_count": 73,
   "id": "29a5beaa",
   "metadata": {},
   "outputs": [
    {
     "data": {
      "text/plain": [
       "d    70\n",
       "e    88\n",
       "f    88\n",
       "g    12\n",
       "h    58\n",
       "i    65\n",
       "j    39\n",
       "k    87\n",
       "l    46\n",
       "m    88\n",
       "dtype: int64"
      ]
     },
     "execution_count": 73,
     "metadata": {},
     "output_type": "execute_result"
    }
   ],
   "source": [
    "s2"
   ]
  },
  {
   "cell_type": "code",
   "execution_count": 74,
   "id": "6f835aff",
   "metadata": {},
   "outputs": [
    {
     "data": {
      "text/plain": [
       "a     88\n",
       "b     94\n",
       "c    128\n",
       "d    134\n",
       "e    134\n",
       "f     18\n",
       "g    166\n",
       "h     42\n",
       "i     72\n",
       "j    174\n",
       "dtype: int64"
      ]
     },
     "execution_count": 74,
     "metadata": {},
     "output_type": "execute_result"
    }
   ],
   "source": [
    "s1 + s1  # add it to itself"
   ]
  },
  {
   "cell_type": "code",
   "execution_count": 75,
   "id": "d692b72a",
   "metadata": {},
   "outputs": [
    {
     "data": {
      "text/plain": [
       "a      NaN\n",
       "b      NaN\n",
       "c      NaN\n",
       "d    137.0\n",
       "e    155.0\n",
       "f     97.0\n",
       "g     95.0\n",
       "h     79.0\n",
       "i    101.0\n",
       "j    126.0\n",
       "k      NaN\n",
       "l      NaN\n",
       "m      NaN\n",
       "dtype: float64"
      ]
     },
     "execution_count": 75,
     "metadata": {},
     "output_type": "execute_result"
    }
   ],
   "source": [
    "s1 + s2  # what happens here?"
   ]
  },
  {
   "cell_type": "code",
   "execution_count": 76,
   "id": "aba1fb02",
   "metadata": {},
   "outputs": [
    {
     "data": {
      "text/plain": [
       "a     54.0\n",
       "b     67.0\n",
       "c     94.0\n",
       "d    107.0\n",
       "e      NaN\n",
       "f      NaN\n",
       "g      NaN\n",
       "h      NaN\n",
       "i      NaN\n",
       "j      NaN\n",
       "dtype: float64"
      ]
     },
     "execution_count": 76,
     "metadata": {},
     "output_type": "execute_result"
    }
   ],
   "source": [
    "s3 = Series([10, 20, 30, 40], index=list('abcd'))\n",
    "\n",
    "s1 + s3"
   ]
  },
  {
   "cell_type": "code",
   "execution_count": 77,
   "id": "ddd889df",
   "metadata": {},
   "outputs": [
    {
     "data": {
      "text/plain": [
       "a      NaN\n",
       "b      NaN\n",
       "c      NaN\n",
       "d    137.0\n",
       "e    155.0\n",
       "f     97.0\n",
       "g     95.0\n",
       "h     79.0\n",
       "i    101.0\n",
       "j    126.0\n",
       "k      NaN\n",
       "l      NaN\n",
       "m      NaN\n",
       "dtype: float64"
      ]
     },
     "execution_count": 77,
     "metadata": {},
     "output_type": "execute_result"
    }
   ],
   "source": [
    "# how can I get around this, if I want to?\n",
    "\n",
    "s1 + s2   # this is translated in Python to s1.__add__(s2).  In Pandas, that becomes s1.add(s2)"
   ]
  },
  {
   "cell_type": "code",
   "execution_count": 78,
   "id": "e8c989b9",
   "metadata": {},
   "outputs": [
    {
     "data": {
      "text/plain": [
       "a      NaN\n",
       "b      NaN\n",
       "c      NaN\n",
       "d    137.0\n",
       "e    155.0\n",
       "f     97.0\n",
       "g     95.0\n",
       "h     79.0\n",
       "i    101.0\n",
       "j    126.0\n",
       "k      NaN\n",
       "l      NaN\n",
       "m      NaN\n",
       "dtype: float64"
      ]
     },
     "execution_count": 78,
     "metadata": {},
     "output_type": "execute_result"
    }
   ],
   "source": [
    "s1.add(s2)"
   ]
  },
  {
   "cell_type": "code",
   "execution_count": 79,
   "id": "68671e6c",
   "metadata": {},
   "outputs": [
    {
     "data": {
      "text/plain": [
       "a     44.0\n",
       "b     47.0\n",
       "c     64.0\n",
       "d    137.0\n",
       "e    155.0\n",
       "f     97.0\n",
       "g     95.0\n",
       "h     79.0\n",
       "i    101.0\n",
       "j    126.0\n",
       "k     87.0\n",
       "l     46.0\n",
       "m     88.0\n",
       "dtype: float64"
      ]
     },
     "execution_count": 79,
     "metadata": {},
     "output_type": "execute_result"
    }
   ],
   "source": [
    "# we can pass a value to the \"fill_value\" keyword argument in s1.add, telling it what\n",
    "# value to use if the index isn't matched on the other side.\n",
    "\n",
    "s1.add(s2, fill_value=0)"
   ]
  },
  {
   "cell_type": "markdown",
   "id": "d147b2a9",
   "metadata": {},
   "source": [
    "# Exercises: Indexing and series\n",
    "\n",
    "1. Create two series, each with 10 random integers from 0-100.  The first should have an index of a-j. The second should have an index of b-k.\n",
    "2. Add them together, but first predicting which indexes will give you `nan` results.\n",
    "3. Add them together, with 0 being a fill value.  Can you use a different fill value?\n",
    "4. Multiply them together, with 1 being a fill value. \n",
    "5. Sum all of the even numbers together from both of the series."
   ]
  },
  {
   "cell_type": "code",
   "execution_count": 80,
   "id": "b11ac890",
   "metadata": {},
   "outputs": [],
   "source": [
    "np.random.seed(0)\n",
    "\n",
    "s1 = Series(np.random.randint(0, 100, 10), \n",
    "           index=list('abcdefghij'))\n",
    "\n",
    "s2 = Series(np.random.randint(0, 100, 10), \n",
    "           index=list('bcdefghijk'))\n",
    "\n"
   ]
  },
  {
   "cell_type": "code",
   "execution_count": 81,
   "id": "562dc49d",
   "metadata": {},
   "outputs": [
    {
     "data": {
      "text/plain": [
       "a    44\n",
       "b    47\n",
       "c    64\n",
       "d    67\n",
       "e    67\n",
       "f     9\n",
       "g    83\n",
       "h    21\n",
       "i    36\n",
       "j    87\n",
       "dtype: int64"
      ]
     },
     "execution_count": 81,
     "metadata": {},
     "output_type": "execute_result"
    }
   ],
   "source": [
    "s1"
   ]
  },
  {
   "cell_type": "code",
   "execution_count": 82,
   "id": "8944513e",
   "metadata": {},
   "outputs": [
    {
     "data": {
      "text/plain": [
       "b    70\n",
       "c    88\n",
       "d    88\n",
       "e    12\n",
       "f    58\n",
       "g    65\n",
       "h    39\n",
       "i    87\n",
       "j    46\n",
       "k    88\n",
       "dtype: int64"
      ]
     },
     "execution_count": 82,
     "metadata": {},
     "output_type": "execute_result"
    }
   ],
   "source": [
    "s2"
   ]
  },
  {
   "cell_type": "code",
   "execution_count": 83,
   "id": "f845d2d1",
   "metadata": {},
   "outputs": [
    {
     "data": {
      "text/plain": [
       "a      NaN\n",
       "b    117.0\n",
       "c    152.0\n",
       "d    155.0\n",
       "e     79.0\n",
       "f     67.0\n",
       "g    148.0\n",
       "h     60.0\n",
       "i    123.0\n",
       "j    133.0\n",
       "k      NaN\n",
       "dtype: float64"
      ]
     },
     "execution_count": 83,
     "metadata": {},
     "output_type": "execute_result"
    }
   ],
   "source": [
    "# Add them together, but first predicting which indexes will give you nan results.\n",
    "\n",
    "# we should get nan for a (only in s1) and k (only in s2)\n",
    "\n",
    "s1 + s2"
   ]
  },
  {
   "cell_type": "code",
   "execution_count": 84,
   "id": "69363d24",
   "metadata": {},
   "outputs": [
    {
     "data": {
      "text/plain": [
       "a     44.0\n",
       "b    117.0\n",
       "c    152.0\n",
       "d    155.0\n",
       "e     79.0\n",
       "f     67.0\n",
       "g    148.0\n",
       "h     60.0\n",
       "i    123.0\n",
       "j    133.0\n",
       "k     88.0\n",
       "dtype: float64"
      ]
     },
     "execution_count": 84,
     "metadata": {},
     "output_type": "execute_result"
    }
   ],
   "source": [
    "# Add them together, with 0 being a fill value.  Can you use a different fill value?\n",
    "\n",
    "s1.add(s2, fill_value=0)  # now, if any index doesn't have a match in the other series, we'll use 0"
   ]
  },
  {
   "cell_type": "code",
   "execution_count": 85,
   "id": "132eccd8",
   "metadata": {},
   "outputs": [
    {
     "data": {
      "text/plain": [
       "a    167.456\n",
       "b    117.000\n",
       "c    152.000\n",
       "d    155.000\n",
       "e     79.000\n",
       "f     67.000\n",
       "g    148.000\n",
       "h     60.000\n",
       "i    123.000\n",
       "j    133.000\n",
       "k    211.456\n",
       "dtype: float64"
      ]
     },
     "execution_count": 85,
     "metadata": {},
     "output_type": "execute_result"
    }
   ],
   "source": [
    "s1.add(s2, fill_value=123.456)"
   ]
  },
  {
   "cell_type": "code",
   "execution_count": 88,
   "id": "4642fa35",
   "metadata": {},
   "outputs": [
    {
     "data": {
      "text/plain": [
       "a      44.0\n",
       "b    3290.0\n",
       "c    5632.0\n",
       "d    5896.0\n",
       "e     804.0\n",
       "f     522.0\n",
       "g    5395.0\n",
       "h     819.0\n",
       "i    3132.0\n",
       "j    4002.0\n",
       "k      88.0\n",
       "dtype: float64"
      ]
     },
     "execution_count": 88,
     "metadata": {},
     "output_type": "execute_result"
    }
   ],
   "source": [
    "# Multiply them together, with 1 being a fill value. \n",
    "\n",
    "s1.mul(s2, fill_value=1)"
   ]
  },
  {
   "cell_type": "code",
   "execution_count": 93,
   "id": "9e629908",
   "metadata": {},
   "outputs": [
    {
     "data": {
      "text/plain": [
       "a    44\n",
       "c    64\n",
       "i    36\n",
       "dtype: int64"
      ]
     },
     "execution_count": 93,
     "metadata": {},
     "output_type": "execute_result"
    }
   ],
   "source": [
    "# Sum all of the even numbers together from both of the series.\n",
    "\n",
    "s1[s1%2==0]   # all even items in s1\n"
   ]
  },
  {
   "cell_type": "code",
   "execution_count": 94,
   "id": "7f7d94e1",
   "metadata": {},
   "outputs": [
    {
     "data": {
      "text/plain": [
       "b    70\n",
       "c    88\n",
       "d    88\n",
       "e    12\n",
       "f    58\n",
       "j    46\n",
       "k    88\n",
       "dtype: int64"
      ]
     },
     "execution_count": 94,
     "metadata": {},
     "output_type": "execute_result"
    }
   ],
   "source": [
    "s2[s2%2==0]  # all even items in s2"
   ]
  },
  {
   "cell_type": "code",
   "execution_count": 96,
   "id": "9a57031a",
   "metadata": {},
   "outputs": [
    {
     "data": {
      "text/plain": [
       "594.0"
      ]
     },
     "execution_count": 96,
     "metadata": {},
     "output_type": "execute_result"
    }
   ],
   "source": [
    "s1[s1%2==0].add(s2[s2%2==0], fill_value=0).sum()"
   ]
  },
  {
   "cell_type": "markdown",
   "id": "7b6a85a6",
   "metadata": {},
   "source": [
    "# Next up\n",
    "\n",
    "1. `nan` in Pandas (removing, filling)\n",
    "2. dtypes and assignment\n",
    "3. Aggregate methods and convenience methods\n",
    "4. Sorting by value\n",
    "\n",
    "Resume at :25"
   ]
  },
  {
   "cell_type": "code",
   "execution_count": 97,
   "id": "1949bd54",
   "metadata": {},
   "outputs": [
    {
     "data": {
      "text/plain": [
       "0    10\n",
       "1    20\n",
       "2    30\n",
       "3    40\n",
       "4    50\n",
       "dtype: int64"
      ]
     },
     "execution_count": 97,
     "metadata": {},
     "output_type": "execute_result"
    }
   ],
   "source": [
    "s = Series([10, 20, 30, 40, 50])\n",
    "s"
   ]
  },
  {
   "cell_type": "code",
   "execution_count": 98,
   "id": "ae8b6c42",
   "metadata": {},
   "outputs": [
    {
     "data": {
      "text/plain": [
       "array([10, 20, 30, 40, 50])"
      ]
     },
     "execution_count": 98,
     "metadata": {},
     "output_type": "execute_result"
    }
   ],
   "source": [
    "a = np.array([10, 20, 30, 40, 50])\n",
    "a"
   ]
  },
  {
   "cell_type": "code",
   "execution_count": 99,
   "id": "26744dff",
   "metadata": {},
   "outputs": [
    {
     "ename": "ValueError",
     "evalue": "cannot convert float NaN to integer",
     "output_type": "error",
     "traceback": [
      "\u001b[0;31m---------------------------------------------------------------------------\u001b[0m",
      "\u001b[0;31mValueError\u001b[0m                                Traceback (most recent call last)",
      "\u001b[0;32m/var/folders/rr/0mnyyv811fs5vyp22gf4fxk00000gn/T/ipykernel_77757/1546375891.py\u001b[0m in \u001b[0;36m<module>\u001b[0;34m\u001b[0m\n\u001b[0;32m----> 1\u001b[0;31m \u001b[0ma\u001b[0m\u001b[0;34m[\u001b[0m\u001b[0;36m2\u001b[0m\u001b[0;34m]\u001b[0m \u001b[0;34m=\u001b[0m \u001b[0mnp\u001b[0m\u001b[0;34m.\u001b[0m\u001b[0mnan\u001b[0m\u001b[0;34m\u001b[0m\u001b[0;34m\u001b[0m\u001b[0m\n\u001b[0m",
      "\u001b[0;31mValueError\u001b[0m: cannot convert float NaN to integer"
     ]
    }
   ],
   "source": [
    "a[2] = np.nan"
   ]
  },
  {
   "cell_type": "code",
   "execution_count": 100,
   "id": "ce32cb0e",
   "metadata": {},
   "outputs": [],
   "source": [
    "s.loc[2] = np.nan"
   ]
  },
  {
   "cell_type": "code",
   "execution_count": 101,
   "id": "4850beb3",
   "metadata": {},
   "outputs": [
    {
     "data": {
      "text/plain": [
       "0    10.0\n",
       "1    20.0\n",
       "2     NaN\n",
       "3    40.0\n",
       "4    50.0\n",
       "dtype: float64"
      ]
     },
     "execution_count": 101,
     "metadata": {},
     "output_type": "execute_result"
    }
   ],
   "source": [
    "s"
   ]
  },
  {
   "cell_type": "code",
   "execution_count": 102,
   "id": "a187bed0",
   "metadata": {},
   "outputs": [
    {
     "data": {
      "text/plain": [
       "array([10., 20., nan, 40., 50.])"
      ]
     },
     "execution_count": 102,
     "metadata": {},
     "output_type": "execute_result"
    }
   ],
   "source": [
    "a = np.array([10, 20, np.nan, 40, 50])\n",
    "a"
   ]
  },
  {
   "cell_type": "code",
   "execution_count": 103,
   "id": "b37d6570",
   "metadata": {},
   "outputs": [
    {
     "data": {
      "text/plain": [
       "nan"
      ]
     },
     "execution_count": 103,
     "metadata": {},
     "output_type": "execute_result"
    }
   ],
   "source": [
    "a.mean()"
   ]
  },
  {
   "cell_type": "code",
   "execution_count": 104,
   "id": "61146b5f",
   "metadata": {},
   "outputs": [
    {
     "data": {
      "text/plain": [
       "30.0"
      ]
     },
     "execution_count": 104,
     "metadata": {},
     "output_type": "execute_result"
    }
   ],
   "source": [
    "s.mean()    # what happens when we ask for the mean of our nan-containing series?"
   ]
  },
  {
   "cell_type": "markdown",
   "id": "d1d81c8b",
   "metadata": {},
   "source": [
    "# Pandas and `nan`\n",
    "\n",
    "In Pandas, much of the behavior around `nan` is the opposite of what we've seen in NumPy:\n",
    "\n",
    "- Assigning `nan` (or any float value) to a series with an integer dtype will result in the dtype changing to accommodate our data, including `nan`.\n",
    "- Invoking an aggregate method, such as `mean` or `std` on a series containing `np.nan` will *ignore* the `np.nan` value(s) when making its calculation."
   ]
  },
  {
   "cell_type": "code",
   "execution_count": 107,
   "id": "fbfeb36d",
   "metadata": {},
   "outputs": [
    {
     "data": {
      "text/plain": [
       "nan"
      ]
     },
     "execution_count": 107,
     "metadata": {},
     "output_type": "execute_result"
    }
   ],
   "source": [
    "# what if you really want the nan values, and want them to mess up your calculation?\n",
    "s.mean(skipna=False)"
   ]
  },
  {
   "cell_type": "code",
   "execution_count": 111,
   "id": "9a08799f",
   "metadata": {},
   "outputs": [
    {
     "data": {
      "text/plain": [
       "30.0"
      ]
     },
     "execution_count": 111,
     "metadata": {},
     "output_type": "execute_result"
    }
   ],
   "source": [
    "s.mean()   # implicitly, skipna=True"
   ]
  },
  {
   "cell_type": "code",
   "execution_count": 112,
   "id": "472afacf",
   "metadata": {},
   "outputs": [
    {
     "data": {
      "text/plain": [
       "30.0"
      ]
     },
     "execution_count": 112,
     "metadata": {},
     "output_type": "execute_result"
    }
   ],
   "source": [
    "s.dropna().mean()"
   ]
  },
  {
   "cell_type": "code",
   "execution_count": 108,
   "id": "497038e2",
   "metadata": {},
   "outputs": [
    {
     "data": {
      "text/plain": [
       "0    10.0\n",
       "1    20.0\n",
       "2     NaN\n",
       "3    40.0\n",
       "4    50.0\n",
       "dtype: float64"
      ]
     },
     "execution_count": 108,
     "metadata": {},
     "output_type": "execute_result"
    }
   ],
   "source": [
    "s"
   ]
  },
  {
   "cell_type": "code",
   "execution_count": 109,
   "id": "660e2341",
   "metadata": {},
   "outputs": [
    {
     "data": {
      "text/plain": [
       "0    10.0\n",
       "1    20.0\n",
       "3    40.0\n",
       "4    50.0\n",
       "dtype: float64"
      ]
     },
     "execution_count": 109,
     "metadata": {},
     "output_type": "execute_result"
    }
   ],
   "source": [
    "# if I want to get rid of the nan values, I can use \"dropna\"\n",
    "\n",
    "s.dropna()  # we get a new series back, without any nan values"
   ]
  },
  {
   "cell_type": "code",
   "execution_count": 110,
   "id": "2dbe70fa",
   "metadata": {},
   "outputs": [
    {
     "data": {
      "text/plain": [
       "0    10.0\n",
       "1    20.0\n",
       "2     NaN\n",
       "3    40.0\n",
       "4    50.0\n",
       "dtype: float64"
      ]
     },
     "execution_count": 110,
     "metadata": {},
     "output_type": "execute_result"
    }
   ],
   "source": [
    "s  # s is totally unchanged -- dropna returns a new series, not touching/changing the original one"
   ]
  },
  {
   "cell_type": "code",
   "execution_count": 113,
   "id": "371f2e20",
   "metadata": {},
   "outputs": [
    {
     "data": {
      "text/plain": [
       "0    10.0\n",
       "1    20.0\n",
       "2     NaN\n",
       "3    40.0\n",
       "4    50.0\n",
       "dtype: float64"
      ]
     },
     "execution_count": 113,
     "metadata": {},
     "output_type": "execute_result"
    }
   ],
   "source": [
    "# fillna replaces all nan values with another value -- it returns a new series\n",
    "s"
   ]
  },
  {
   "cell_type": "code",
   "execution_count": 114,
   "id": "5559d7ca",
   "metadata": {},
   "outputs": [
    {
     "data": {
      "text/plain": [
       "0     10.0\n",
       "1     20.0\n",
       "2    999.0\n",
       "3     40.0\n",
       "4     50.0\n",
       "dtype: float64"
      ]
     },
     "execution_count": 114,
     "metadata": {},
     "output_type": "execute_result"
    }
   ],
   "source": [
    "s.fillna(999)"
   ]
  },
  {
   "cell_type": "code",
   "execution_count": 115,
   "id": "350ad66e",
   "metadata": {},
   "outputs": [
    {
     "data": {
      "text/plain": [
       "0    10.0\n",
       "1    20.0\n",
       "2    30.0\n",
       "3    40.0\n",
       "4    50.0\n",
       "dtype: float64"
      ]
     },
     "execution_count": 115,
     "metadata": {},
     "output_type": "execute_result"
    }
   ],
   "source": [
    "s.fillna(s.mean())"
   ]
  },
  {
   "cell_type": "markdown",
   "id": "3956ff38",
   "metadata": {},
   "source": [
    "# dtypes are similar to NumPy"
   ]
  },
  {
   "cell_type": "code",
   "execution_count": 125,
   "id": "50116848",
   "metadata": {},
   "outputs": [],
   "source": [
    "s = Series([10, 20, 30, 40, 50], dtype=np.float16)"
   ]
  },
  {
   "cell_type": "code",
   "execution_count": 126,
   "id": "b335805c",
   "metadata": {},
   "outputs": [
    {
     "data": {
      "text/plain": [
       "0    10.0\n",
       "1    20.0\n",
       "2    30.0\n",
       "3    40.0\n",
       "4    50.0\n",
       "dtype: float16"
      ]
     },
     "execution_count": 126,
     "metadata": {},
     "output_type": "execute_result"
    }
   ],
   "source": [
    "s"
   ]
  },
  {
   "cell_type": "code",
   "execution_count": 127,
   "id": "532c3e2e",
   "metadata": {},
   "outputs": [],
   "source": [
    "# how can I now turn my series into a dtype of np.int64?\n",
    "# you cannot set it - -but you can use \"astype\", just like with NumPy"
   ]
  },
  {
   "cell_type": "code",
   "execution_count": 128,
   "id": "6928e4ad",
   "metadata": {},
   "outputs": [
    {
     "data": {
      "text/plain": [
       "0    10\n",
       "1    20\n",
       "2    30\n",
       "3    40\n",
       "4    50\n",
       "dtype: int64"
      ]
     },
     "execution_count": 128,
     "metadata": {},
     "output_type": "execute_result"
    }
   ],
   "source": [
    "s.astype(np.int64)"
   ]
  },
  {
   "cell_type": "code",
   "execution_count": 129,
   "id": "2f5a9549",
   "metadata": {},
   "outputs": [],
   "source": [
    "s = s.astype(np.int64)"
   ]
  },
  {
   "cell_type": "code",
   "execution_count": 130,
   "id": "4e5fec2e",
   "metadata": {},
   "outputs": [
    {
     "data": {
      "text/plain": [
       "0    10\n",
       "1    20\n",
       "2    30\n",
       "3    40\n",
       "4    50\n",
       "dtype: int64"
      ]
     },
     "execution_count": 130,
     "metadata": {},
     "output_type": "execute_result"
    }
   ],
   "source": [
    "s"
   ]
  },
  {
   "cell_type": "code",
   "execution_count": 131,
   "id": "38804ba0",
   "metadata": {},
   "outputs": [],
   "source": [
    "s.loc[3] = 12.34"
   ]
  },
  {
   "cell_type": "code",
   "execution_count": 132,
   "id": "9c7f5f1a",
   "metadata": {
    "scrolled": true
   },
   "outputs": [
    {
     "data": {
      "text/plain": [
       "0    10.00\n",
       "1    20.00\n",
       "2    30.00\n",
       "3    12.34\n",
       "4    50.00\n",
       "dtype: float64"
      ]
     },
     "execution_count": 132,
     "metadata": {},
     "output_type": "execute_result"
    }
   ],
   "source": [
    "s"
   ]
  },
  {
   "cell_type": "markdown",
   "id": "11664805",
   "metadata": {},
   "source": [
    "# Exercises with dtypes and `nan`\n",
    "\n",
    "1. Create a series containing 10 random *floats* from 0-1,000.\n",
    "2. Replace those numbers whose integer part is even with `nan`.\n",
    "3. Replace those `nan` values with the mean of the remaining numbers."
   ]
  },
  {
   "cell_type": "code",
   "execution_count": 134,
   "id": "b85d00c4",
   "metadata": {},
   "outputs": [
    {
     "data": {
      "text/plain": [
       "0    548.813504\n",
       "1    715.189366\n",
       "2    602.763376\n",
       "3    544.883183\n",
       "4    423.654799\n",
       "5    645.894113\n",
       "6    437.587211\n",
       "7    891.773001\n",
       "8    963.662761\n",
       "9    383.441519\n",
       "dtype: float64"
      ]
     },
     "execution_count": 134,
     "metadata": {},
     "output_type": "execute_result"
    }
   ],
   "source": [
    "np.random.seed(0)\n",
    "s = Series(np.random.rand(10) * 1000)\n",
    "s"
   ]
  },
  {
   "cell_type": "code",
   "execution_count": 139,
   "id": "18c471bb",
   "metadata": {},
   "outputs": [],
   "source": [
    "# let's try to find the even numbers here\n",
    "\n",
    "s.loc[s.astype(np.int64)%2==0] = np.nan"
   ]
  },
  {
   "cell_type": "code",
   "execution_count": 140,
   "id": "d89c781b",
   "metadata": {},
   "outputs": [
    {
     "data": {
      "text/plain": [
       "0           NaN\n",
       "1    715.189366\n",
       "2           NaN\n",
       "3           NaN\n",
       "4    423.654799\n",
       "5    645.894113\n",
       "6    437.587211\n",
       "7    891.773001\n",
       "8    963.662761\n",
       "9    383.441519\n",
       "dtype: float64"
      ]
     },
     "execution_count": 140,
     "metadata": {},
     "output_type": "execute_result"
    }
   ],
   "source": [
    "s"
   ]
  },
  {
   "cell_type": "code",
   "execution_count": 142,
   "id": "10eee53b",
   "metadata": {},
   "outputs": [
    {
     "data": {
      "text/plain": [
       "0    637.314681\n",
       "1    715.189366\n",
       "2    637.314681\n",
       "3    637.314681\n",
       "4    423.654799\n",
       "5    645.894113\n",
       "6    437.587211\n",
       "7    891.773001\n",
       "8    963.662761\n",
       "9    383.441519\n",
       "dtype: float64"
      ]
     },
     "execution_count": 142,
     "metadata": {},
     "output_type": "execute_result"
    }
   ],
   "source": [
    "s.fillna(s.mean())"
   ]
  },
  {
   "cell_type": "code",
   "execution_count": 143,
   "id": "8771f06b",
   "metadata": {},
   "outputs": [],
   "source": [
    "# actually assign the new series back to s\n",
    "s = s.fillna(s.mean())"
   ]
  },
  {
   "cell_type": "code",
   "execution_count": 144,
   "id": "67729086",
   "metadata": {},
   "outputs": [
    {
     "data": {
      "text/plain": [
       "0    637.314681\n",
       "1    715.189366\n",
       "2    637.314681\n",
       "3    637.314681\n",
       "4    423.654799\n",
       "5    645.894113\n",
       "6    437.587211\n",
       "7    891.773001\n",
       "8    963.662761\n",
       "9    383.441519\n",
       "dtype: float64"
      ]
     },
     "execution_count": 144,
     "metadata": {},
     "output_type": "execute_result"
    }
   ],
   "source": [
    "s"
   ]
  },
  {
   "cell_type": "code",
   "execution_count": 145,
   "id": "567bba99",
   "metadata": {},
   "outputs": [
    {
     "data": {
      "text/plain": [
       "0    637.314681\n",
       "1    715.189366\n",
       "2    637.314681\n",
       "3    637.314681\n",
       "4    423.654799\n",
       "5    645.894113\n",
       "6    437.587211\n",
       "7    891.773001\n",
       "8    963.662761\n",
       "9    383.441519\n",
       "dtype: float64"
      ]
     },
     "execution_count": 145,
     "metadata": {},
     "output_type": "execute_result"
    }
   ],
   "source": [
    "s"
   ]
  },
  {
   "cell_type": "code",
   "execution_count": 146,
   "id": "325a3468",
   "metadata": {},
   "outputs": [
    {
     "data": {
      "text/plain": [
       "0     39\n",
       "1     87\n",
       "2     46\n",
       "3     88\n",
       "4     81\n",
       "5     37\n",
       "6     25\n",
       "7     77\n",
       "8     72\n",
       "9      9\n",
       "10    20\n",
       "11    80\n",
       "12    69\n",
       "13    79\n",
       "14    47\n",
       "15    64\n",
       "16    82\n",
       "17    99\n",
       "18    88\n",
       "19    49\n",
       "20    29\n",
       "21    19\n",
       "22    19\n",
       "23    14\n",
       "24    39\n",
       "25    32\n",
       "26    65\n",
       "27     9\n",
       "28    57\n",
       "29    32\n",
       "30    31\n",
       "31    74\n",
       "32    23\n",
       "33    35\n",
       "34    75\n",
       "35    55\n",
       "36    28\n",
       "37    34\n",
       "38     0\n",
       "39     0\n",
       "40    36\n",
       "41    53\n",
       "42     5\n",
       "43    38\n",
       "44    17\n",
       "45    79\n",
       "46     4\n",
       "47    42\n",
       "48    58\n",
       "49    31\n",
       "dtype: int64"
      ]
     },
     "execution_count": 146,
     "metadata": {},
     "output_type": "execute_result"
    }
   ],
   "source": [
    "s = Series(np.random.randint(0, 100, 50))\n",
    "s"
   ]
  },
  {
   "cell_type": "code",
   "execution_count": 147,
   "id": "46f0472e",
   "metadata": {},
   "outputs": [
    {
     "data": {
      "text/plain": [
       "0"
      ]
     },
     "execution_count": 147,
     "metadata": {},
     "output_type": "execute_result"
    }
   ],
   "source": [
    "# descriptive statistics\n",
    "s.min()"
   ]
  },
  {
   "cell_type": "code",
   "execution_count": 148,
   "id": "640d64b1",
   "metadata": {},
   "outputs": [
    {
     "data": {
      "text/plain": [
       "99"
      ]
     },
     "execution_count": 148,
     "metadata": {},
     "output_type": "execute_result"
    }
   ],
   "source": [
    "s.max()"
   ]
  },
  {
   "cell_type": "code",
   "execution_count": 149,
   "id": "0f01ba16",
   "metadata": {},
   "outputs": [
    {
     "data": {
      "text/plain": [
       "45.42"
      ]
     },
     "execution_count": 149,
     "metadata": {},
     "output_type": "execute_result"
    }
   ],
   "source": [
    "s.mean()"
   ]
  },
  {
   "cell_type": "code",
   "execution_count": 150,
   "id": "816a8201",
   "metadata": {},
   "outputs": [
    {
     "data": {
      "text/plain": [
       "27.180492704759224"
      ]
     },
     "execution_count": 150,
     "metadata": {},
     "output_type": "execute_result"
    }
   ],
   "source": [
    "s.std()"
   ]
  },
  {
   "cell_type": "code",
   "execution_count": 151,
   "id": "9a3330a1",
   "metadata": {},
   "outputs": [
    {
     "data": {
      "text/plain": [
       "25.75"
      ]
     },
     "execution_count": 151,
     "metadata": {},
     "output_type": "execute_result"
    }
   ],
   "source": [
    "s.quantile(0.25)   # 25% mark"
   ]
  },
  {
   "cell_type": "code",
   "execution_count": 152,
   "id": "091a83f3",
   "metadata": {},
   "outputs": [
    {
     "data": {
      "text/plain": [
       "39.0"
      ]
     },
     "execution_count": 152,
     "metadata": {},
     "output_type": "execute_result"
    }
   ],
   "source": [
    "s.quantile(0.5)    # 50% mark, aka median"
   ]
  },
  {
   "cell_type": "code",
   "execution_count": 153,
   "id": "6357d200",
   "metadata": {},
   "outputs": [
    {
     "data": {
      "text/plain": [
       "71.25"
      ]
     },
     "execution_count": 153,
     "metadata": {},
     "output_type": "execute_result"
    }
   ],
   "source": [
    "s.quantile(0.75)"
   ]
  },
  {
   "cell_type": "code",
   "execution_count": 154,
   "id": "eb717e14",
   "metadata": {},
   "outputs": [
    {
     "data": {
      "text/plain": [
       "count    50.000000\n",
       "mean     45.420000\n",
       "std      27.180493\n",
       "min       0.000000\n",
       "25%      25.750000\n",
       "50%      39.000000\n",
       "75%      71.250000\n",
       "max      99.000000\n",
       "dtype: float64"
      ]
     },
     "execution_count": 154,
     "metadata": {},
     "output_type": "execute_result"
    }
   ],
   "source": [
    "# having all of these descriptive statistics for our series would be really great\n",
    "# fortunately, Pandas provides us with such a method, namely .describe\n",
    "\n",
    "s.describe()"
   ]
  },
  {
   "cell_type": "code",
   "execution_count": 155,
   "id": "b89cb84e",
   "metadata": {},
   "outputs": [
    {
     "data": {
      "text/plain": [
       "0    39\n",
       "1    87\n",
       "2    46\n",
       "3    88\n",
       "4    81\n",
       "dtype: int64"
      ]
     },
     "execution_count": 155,
     "metadata": {},
     "output_type": "execute_result"
    }
   ],
   "source": [
    "# another useful method is .head, which shows the first part of a series\n",
    "s.head()"
   ]
  },
  {
   "cell_type": "code",
   "execution_count": 156,
   "id": "8d39a8e0",
   "metadata": {},
   "outputs": [
    {
     "data": {
      "text/plain": [
       "0    39\n",
       "1    87\n",
       "2    46\n",
       "dtype: int64"
      ]
     },
     "execution_count": 156,
     "metadata": {},
     "output_type": "execute_result"
    }
   ],
   "source": [
    "s.head(3)"
   ]
  },
  {
   "cell_type": "code",
   "execution_count": 157,
   "id": "2a39bec4",
   "metadata": {},
   "outputs": [
    {
     "data": {
      "text/plain": [
       "45    79\n",
       "46     4\n",
       "47    42\n",
       "48    58\n",
       "49    31\n",
       "dtype: int64"
      ]
     },
     "execution_count": 157,
     "metadata": {},
     "output_type": "execute_result"
    }
   ],
   "source": [
    "# similarly, we have tail\n",
    "s.tail()"
   ]
  },
  {
   "cell_type": "code",
   "execution_count": 158,
   "id": "a0bcaaaa",
   "metadata": {},
   "outputs": [
    {
     "data": {
      "text/plain": [
       "47    42\n",
       "48    58\n",
       "49    31\n",
       "dtype: int64"
      ]
     },
     "execution_count": 158,
     "metadata": {},
     "output_type": "execute_result"
    }
   ],
   "source": [
    "s.tail(3)"
   ]
  },
  {
   "cell_type": "code",
   "execution_count": null,
   "id": "68cbd945",
   "metadata": {},
   "outputs": [],
   "source": [
    "# o"
   ]
  }
 ],
 "metadata": {
  "kernelspec": {
   "display_name": "Python 3 (ipykernel)",
   "language": "python",
   "name": "python3"
  },
  "language_info": {
   "codemirror_mode": {
    "name": "ipython",
    "version": 3
   },
   "file_extension": ".py",
   "mimetype": "text/x-python",
   "name": "python",
   "nbconvert_exporter": "python",
   "pygments_lexer": "ipython3",
   "version": "3.10.4"
  }
 },
 "nbformat": 4,
 "nbformat_minor": 5
}
