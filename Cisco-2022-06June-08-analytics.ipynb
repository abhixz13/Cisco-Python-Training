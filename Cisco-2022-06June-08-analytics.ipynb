{
 "cells": [
  {
   "cell_type": "markdown",
   "id": "7663e45b",
   "metadata": {},
   "source": [
    "# Agenda\n",
    "\n",
    "1. Recap\n",
    "2. Address book\n",
    "3. More with reading from and writing to files\n",
    "4. Cleaning data with `nan` and interpolating\n",
    "5. Analysis with data frames\n",
    "    - Cutting and categorizing\n",
    "    - Sorting\n",
    "    - Grouping\n",
    "    - Concatenating data frames together\n",
    "    - Join data frames\n",
    "    "
   ]
  },
  {
   "cell_type": "markdown",
   "id": "4fe73a9b",
   "metadata": {},
   "source": [
    "# Recap\n",
    "\n",
    "When we use Pandas, we're mainly using two different data structures:\n",
    "\n",
    "- Series, which is basically a 1D NumPy array with a nice set of wrappers around it.  Each series has a single dtype.  Pandas often guesses correctly, but you can set it just as you did with NumPy arrays.\n",
    "- Data frame, which is basically a glorified 2D NumPy array.  Each column in a data frame is a separate series, which means that each column has a separate dtype.  \n",
    "\n",
    "Both a series and a data frame have an *index*, which describes the rows. An index can contain any type of values at all -- integers, strings, dates, or anything else.  Integers and strings are most common.  The values can even repeat.\n",
    "\n",
    "A data frame, in addition to an index, has a value for \"columns,\" which describes the names of the columns.\n",
    "\n",
    "We can retrieve from either a series or from a data frame via the index using `.loc`.  Or we can use the numeric position using `.iloc`."
   ]
  },
  {
   "cell_type": "code",
   "execution_count": 1,
   "id": "80818183",
   "metadata": {},
   "outputs": [],
   "source": [
    "import numpy as np\n",
    "import pandas as pd\n",
    "from pandas import Series, DataFrame"
   ]
  },
  {
   "cell_type": "code",
   "execution_count": 3,
   "id": "58690f66",
   "metadata": {},
   "outputs": [
    {
     "data": {
      "text/html": [
       "<div>\n",
       "<style scoped>\n",
       "    .dataframe tbody tr th:only-of-type {\n",
       "        vertical-align: middle;\n",
       "    }\n",
       "\n",
       "    .dataframe tbody tr th {\n",
       "        vertical-align: top;\n",
       "    }\n",
       "\n",
       "    .dataframe thead th {\n",
       "        text-align: right;\n",
       "    }\n",
       "</style>\n",
       "<table border=\"1\" class=\"dataframe\">\n",
       "  <thead>\n",
       "    <tr style=\"text-align: right;\">\n",
       "      <th></th>\n",
       "      <th>a</th>\n",
       "      <th>b</th>\n",
       "      <th>c</th>\n",
       "      <th>d</th>\n",
       "      <th>e</th>\n",
       "      <th>f</th>\n",
       "    </tr>\n",
       "  </thead>\n",
       "  <tbody>\n",
       "    <tr>\n",
       "      <th>v</th>\n",
       "      <td>772</td>\n",
       "      <td>582</td>\n",
       "      <td>393</td>\n",
       "      <td>320</td>\n",
       "      <td>11</td>\n",
       "      <td>773</td>\n",
       "    </tr>\n",
       "    <tr>\n",
       "      <th>w</th>\n",
       "      <td>400</td>\n",
       "      <td>535</td>\n",
       "      <td>723</td>\n",
       "      <td>139</td>\n",
       "      <td>423</td>\n",
       "      <td>244</td>\n",
       "    </tr>\n",
       "    <tr>\n",
       "      <th>x</th>\n",
       "      <td>475</td>\n",
       "      <td>892</td>\n",
       "      <td>999</td>\n",
       "      <td>438</td>\n",
       "      <td>333</td>\n",
       "      <td>382</td>\n",
       "    </tr>\n",
       "    <tr>\n",
       "      <th>y</th>\n",
       "      <td>610</td>\n",
       "      <td>323</td>\n",
       "      <td>559</td>\n",
       "      <td>372</td>\n",
       "      <td>365</td>\n",
       "      <td>336</td>\n",
       "    </tr>\n",
       "    <tr>\n",
       "      <th>z</th>\n",
       "      <td>770</td>\n",
       "      <td>201</td>\n",
       "      <td>77</td>\n",
       "      <td>18</td>\n",
       "      <td>935</td>\n",
       "      <td>138</td>\n",
       "    </tr>\n",
       "  </tbody>\n",
       "</table>\n",
       "</div>"
      ],
      "text/plain": [
       "     a    b    c    d    e    f\n",
       "v  772  582  393  320   11  773\n",
       "w  400  535  723  139  423  244\n",
       "x  475  892  999  438  333  382\n",
       "y  610  323  559  372  365  336\n",
       "z  770  201   77   18  935  138"
      ]
     },
     "execution_count": 3,
     "metadata": {},
     "output_type": "execute_result"
    }
   ],
   "source": [
    "df = DataFrame(np.random.randint(0, 1000, [5,6]),\n",
    "              index=list('vwxyz'),\n",
    "              columns=list('abcdef'))\n",
    "df"
   ]
  },
  {
   "cell_type": "code",
   "execution_count": 4,
   "id": "e73df415",
   "metadata": {},
   "outputs": [
    {
     "data": {
      "text/plain": [
       "a    475\n",
       "b    892\n",
       "c    999\n",
       "d    438\n",
       "e    333\n",
       "f    382\n",
       "Name: x, dtype: int64"
      ]
     },
     "execution_count": 4,
     "metadata": {},
     "output_type": "execute_result"
    }
   ],
   "source": [
    "# I can retrieve an entire row via .loc and an index\n",
    "\n",
    "df.loc['x']"
   ]
  },
  {
   "cell_type": "code",
   "execution_count": 5,
   "id": "8813decd",
   "metadata": {},
   "outputs": [
    {
     "data": {
      "text/plain": [
       "438"
      ]
     },
     "execution_count": 5,
     "metadata": {},
     "output_type": "execute_result"
    }
   ],
   "source": [
    "df.loc['x', 'd']   # retrieve row x, column d"
   ]
  },
  {
   "cell_type": "code",
   "execution_count": 6,
   "id": "b1ea7ca3",
   "metadata": {},
   "outputs": [
    {
     "data": {
      "text/html": [
       "<div>\n",
       "<style scoped>\n",
       "    .dataframe tbody tr th:only-of-type {\n",
       "        vertical-align: middle;\n",
       "    }\n",
       "\n",
       "    .dataframe tbody tr th {\n",
       "        vertical-align: top;\n",
       "    }\n",
       "\n",
       "    .dataframe thead th {\n",
       "        text-align: right;\n",
       "    }\n",
       "</style>\n",
       "<table border=\"1\" class=\"dataframe\">\n",
       "  <thead>\n",
       "    <tr style=\"text-align: right;\">\n",
       "      <th></th>\n",
       "      <th>a</th>\n",
       "      <th>b</th>\n",
       "      <th>c</th>\n",
       "      <th>d</th>\n",
       "      <th>e</th>\n",
       "      <th>f</th>\n",
       "    </tr>\n",
       "  </thead>\n",
       "  <tbody>\n",
       "    <tr>\n",
       "      <th>v</th>\n",
       "      <td>772</td>\n",
       "      <td>582</td>\n",
       "      <td>393</td>\n",
       "      <td>320.00</td>\n",
       "      <td>11</td>\n",
       "      <td>773</td>\n",
       "    </tr>\n",
       "    <tr>\n",
       "      <th>w</th>\n",
       "      <td>400</td>\n",
       "      <td>535</td>\n",
       "      <td>723</td>\n",
       "      <td>139.00</td>\n",
       "      <td>423</td>\n",
       "      <td>244</td>\n",
       "    </tr>\n",
       "    <tr>\n",
       "      <th>x</th>\n",
       "      <td>475</td>\n",
       "      <td>892</td>\n",
       "      <td>999</td>\n",
       "      <td>12.34</td>\n",
       "      <td>333</td>\n",
       "      <td>382</td>\n",
       "    </tr>\n",
       "    <tr>\n",
       "      <th>y</th>\n",
       "      <td>610</td>\n",
       "      <td>323</td>\n",
       "      <td>559</td>\n",
       "      <td>372.00</td>\n",
       "      <td>365</td>\n",
       "      <td>336</td>\n",
       "    </tr>\n",
       "    <tr>\n",
       "      <th>z</th>\n",
       "      <td>770</td>\n",
       "      <td>201</td>\n",
       "      <td>77</td>\n",
       "      <td>18.00</td>\n",
       "      <td>935</td>\n",
       "      <td>138</td>\n",
       "    </tr>\n",
       "  </tbody>\n",
       "</table>\n",
       "</div>"
      ],
      "text/plain": [
       "     a    b    c       d    e    f\n",
       "v  772  582  393  320.00   11  773\n",
       "w  400  535  723  139.00  423  244\n",
       "x  475  892  999   12.34  333  382\n",
       "y  610  323  559  372.00  365  336\n",
       "z  770  201   77   18.00  935  138"
      ]
     },
     "execution_count": 6,
     "metadata": {},
     "output_type": "execute_result"
    }
   ],
   "source": [
    "df.loc['x', 'd'] = 12.34\n",
    "df   # the dtype for d has changed - now it's np.float64"
   ]
  },
  {
   "cell_type": "code",
   "execution_count": 7,
   "id": "c1d201b2",
   "metadata": {},
   "outputs": [
    {
     "data": {
      "text/plain": [
       "a      int64\n",
       "b      int64\n",
       "c      int64\n",
       "d    float64\n",
       "e      int64\n",
       "f      int64\n",
       "dtype: object"
      ]
     },
     "execution_count": 7,
     "metadata": {},
     "output_type": "execute_result"
    }
   ],
   "source": [
    "df.dtypes  # show me all dtypes for all columns"
   ]
  },
  {
   "cell_type": "code",
   "execution_count": 8,
   "id": "134a5e40",
   "metadata": {},
   "outputs": [
    {
     "data": {
      "text/plain": [
       "a    475.00\n",
       "b    892.00\n",
       "c    999.00\n",
       "d     12.34\n",
       "e    333.00\n",
       "f    382.00\n",
       "Name: x, dtype: float64"
      ]
     },
     "execution_count": 8,
     "metadata": {},
     "output_type": "execute_result"
    }
   ],
   "source": [
    "# d is now a float64 column\n",
    "# but what if I retrieve row x?\n",
    "\n",
    "df.loc['x']"
   ]
  },
  {
   "cell_type": "code",
   "execution_count": null,
   "id": "bcd288a0",
   "metadata": {},
   "outputs": [],
   "source": []
  }
 ],
 "metadata": {
  "kernelspec": {
   "display_name": "Python 3 (ipykernel)",
   "language": "python",
   "name": "python3"
  },
  "language_info": {
   "codemirror_mode": {
    "name": "ipython",
    "version": 3
   },
   "file_extension": ".py",
   "mimetype": "text/x-python",
   "name": "python",
   "nbconvert_exporter": "python",
   "pygments_lexer": "ipython3",
   "version": "3.10.4"
  }
 },
 "nbformat": 4,
 "nbformat_minor": 5
}
