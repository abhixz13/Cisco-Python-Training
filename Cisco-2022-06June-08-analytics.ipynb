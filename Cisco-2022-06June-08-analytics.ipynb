{
 "cells": [
  {
   "cell_type": "markdown",
   "id": "7663e45b",
   "metadata": {},
   "source": [
    "# Agenda\n",
    "\n",
    "1. Recap\n",
    "2. Address book\n",
    "3. More with reading from and writing to files\n",
    "4. Cleaning data with `nan` and interpolating\n",
    "5. Analysis with data frames\n",
    "    - Cutting and categorizing\n",
    "    - Sorting\n",
    "    - Grouping\n",
    "    - Concatenating data frames together\n",
    "    - Join data frames\n",
    "    "
   ]
  },
  {
   "cell_type": "markdown",
   "id": "83dd73ff",
   "metadata": {},
   "source": [
    "# Recap\n",
    "\n",
    "When we use Pandas, we're mainly using two different data structures:\n",
    "\n",
    "- Series, which is basically a 1D NumPy array with a nice set of wrappers around it.  Each series has a single dtype.  Pandas often guesses correctly, but you can set it just as you did with NumPy arrays.\n",
    "- Data frame, which is basically a glorified 2D NumPy array.  Each column in a data frame is a separate series, which means that each column has a separate dtype.  \n",
    "\n",
    "Both a series and a data frame have an *index*, which describes the rows. An index can contain any type of values at all -- integers, strings, dates, or anything else.  Integers and strings are most common.  The values can even repeat.\n",
    "\n",
    "A data frame, in addition to an index, has a value for \"columns,\" which describes the names of the columns.\n",
    "\n",
    "We can retrieve from either a series or from a data frame via the index using `.loc`.  Or we can use the numeric position using `.iloc`."
   ]
  },
  {
   "cell_type": "code",
   "execution_count": 1,
   "id": "119492da",
   "metadata": {},
   "outputs": [],
   "source": [
    "import numpy as np\n",
    "import pandas as pd\n",
    "from pandas import Series, DataFrame"
   ]
  },
  {
   "cell_type": "code",
   "execution_count": 3,
   "id": "01f8870d",
   "metadata": {},
   "outputs": [
    {
     "data": {
      "text/html": [
       "<div>\n",
       "<style scoped>\n",
       "    .dataframe tbody tr th:only-of-type {\n",
       "        vertical-align: middle;\n",
       "    }\n",
       "\n",
       "    .dataframe tbody tr th {\n",
       "        vertical-align: top;\n",
       "    }\n",
       "\n",
       "    .dataframe thead th {\n",
       "        text-align: right;\n",
       "    }\n",
       "</style>\n",
       "<table border=\"1\" class=\"dataframe\">\n",
       "  <thead>\n",
       "    <tr style=\"text-align: right;\">\n",
       "      <th></th>\n",
       "      <th>a</th>\n",
       "      <th>b</th>\n",
       "      <th>c</th>\n",
       "      <th>d</th>\n",
       "      <th>e</th>\n",
       "      <th>f</th>\n",
       "    </tr>\n",
       "  </thead>\n",
       "  <tbody>\n",
       "    <tr>\n",
       "      <th>v</th>\n",
       "      <td>772</td>\n",
       "      <td>582</td>\n",
       "      <td>393</td>\n",
       "      <td>320</td>\n",
       "      <td>11</td>\n",
       "      <td>773</td>\n",
       "    </tr>\n",
       "    <tr>\n",
       "      <th>w</th>\n",
       "      <td>400</td>\n",
       "      <td>535</td>\n",
       "      <td>723</td>\n",
       "      <td>139</td>\n",
       "      <td>423</td>\n",
       "      <td>244</td>\n",
       "    </tr>\n",
       "    <tr>\n",
       "      <th>x</th>\n",
       "      <td>475</td>\n",
       "      <td>892</td>\n",
       "      <td>999</td>\n",
       "      <td>438</td>\n",
       "      <td>333</td>\n",
       "      <td>382</td>\n",
       "    </tr>\n",
       "    <tr>\n",
       "      <th>y</th>\n",
       "      <td>610</td>\n",
       "      <td>323</td>\n",
       "      <td>559</td>\n",
       "      <td>372</td>\n",
       "      <td>365</td>\n",
       "      <td>336</td>\n",
       "    </tr>\n",
       "    <tr>\n",
       "      <th>z</th>\n",
       "      <td>770</td>\n",
       "      <td>201</td>\n",
       "      <td>77</td>\n",
       "      <td>18</td>\n",
       "      <td>935</td>\n",
       "      <td>138</td>\n",
       "    </tr>\n",
       "  </tbody>\n",
       "</table>\n",
       "</div>"
      ],
      "text/plain": [
       "     a    b    c    d    e    f\n",
       "v  772  582  393  320   11  773\n",
       "w  400  535  723  139  423  244\n",
       "x  475  892  999  438  333  382\n",
       "y  610  323  559  372  365  336\n",
       "z  770  201   77   18  935  138"
      ]
     },
     "execution_count": 3,
     "metadata": {},
     "output_type": "execute_result"
    }
   ],
   "source": [
    "df = DataFrame(np.random.randint(0, 1000, [5,6]),\n",
    "              index=list('vwxyz'),      # rows\n",
    "              columns=list('abcdef'))   # columns\n",
    "df"
   ]
  },
  {
   "cell_type": "code",
   "execution_count": 4,
   "id": "9e5af49d",
   "metadata": {},
   "outputs": [
    {
     "data": {
      "text/plain": [
       "a    475\n",
       "b    892\n",
       "c    999\n",
       "d    438\n",
       "e    333\n",
       "f    382\n",
       "Name: x, dtype: int64"
      ]
     },
     "execution_count": 4,
     "metadata": {},
     "output_type": "execute_result"
    }
   ],
   "source": [
    "# I can retrieve an entire row via .loc and an index\n",
    "\n",
    "df.loc['x']"
   ]
  },
  {
   "cell_type": "code",
   "execution_count": 5,
   "id": "7adcfe60",
   "metadata": {},
   "outputs": [
    {
     "data": {
      "text/plain": [
       "438"
      ]
     },
     "execution_count": 5,
     "metadata": {},
     "output_type": "execute_result"
    }
   ],
   "source": [
    "df.loc['x', 'd']   # retrieve row x, column d"
   ]
  },
  {
   "cell_type": "code",
   "execution_count": 6,
   "id": "c8d02645",
   "metadata": {},
   "outputs": [
    {
     "data": {
      "text/html": [
       "<div>\n",
       "<style scoped>\n",
       "    .dataframe tbody tr th:only-of-type {\n",
       "        vertical-align: middle;\n",
       "    }\n",
       "\n",
       "    .dataframe tbody tr th {\n",
       "        vertical-align: top;\n",
       "    }\n",
       "\n",
       "    .dataframe thead th {\n",
       "        text-align: right;\n",
       "    }\n",
       "</style>\n",
       "<table border=\"1\" class=\"dataframe\">\n",
       "  <thead>\n",
       "    <tr style=\"text-align: right;\">\n",
       "      <th></th>\n",
       "      <th>a</th>\n",
       "      <th>b</th>\n",
       "      <th>c</th>\n",
       "      <th>d</th>\n",
       "      <th>e</th>\n",
       "      <th>f</th>\n",
       "    </tr>\n",
       "  </thead>\n",
       "  <tbody>\n",
       "    <tr>\n",
       "      <th>v</th>\n",
       "      <td>772</td>\n",
       "      <td>582</td>\n",
       "      <td>393</td>\n",
       "      <td>320.00</td>\n",
       "      <td>11</td>\n",
       "      <td>773</td>\n",
       "    </tr>\n",
       "    <tr>\n",
       "      <th>w</th>\n",
       "      <td>400</td>\n",
       "      <td>535</td>\n",
       "      <td>723</td>\n",
       "      <td>139.00</td>\n",
       "      <td>423</td>\n",
       "      <td>244</td>\n",
       "    </tr>\n",
       "    <tr>\n",
       "      <th>x</th>\n",
       "      <td>475</td>\n",
       "      <td>892</td>\n",
       "      <td>999</td>\n",
       "      <td>12.34</td>\n",
       "      <td>333</td>\n",
       "      <td>382</td>\n",
       "    </tr>\n",
       "    <tr>\n",
       "      <th>y</th>\n",
       "      <td>610</td>\n",
       "      <td>323</td>\n",
       "      <td>559</td>\n",
       "      <td>372.00</td>\n",
       "      <td>365</td>\n",
       "      <td>336</td>\n",
       "    </tr>\n",
       "    <tr>\n",
       "      <th>z</th>\n",
       "      <td>770</td>\n",
       "      <td>201</td>\n",
       "      <td>77</td>\n",
       "      <td>18.00</td>\n",
       "      <td>935</td>\n",
       "      <td>138</td>\n",
       "    </tr>\n",
       "  </tbody>\n",
       "</table>\n",
       "</div>"
      ],
      "text/plain": [
       "     a    b    c       d    e    f\n",
       "v  772  582  393  320.00   11  773\n",
       "w  400  535  723  139.00  423  244\n",
       "x  475  892  999   12.34  333  382\n",
       "y  610  323  559  372.00  365  336\n",
       "z  770  201   77   18.00  935  138"
      ]
     },
     "execution_count": 6,
     "metadata": {},
     "output_type": "execute_result"
    }
   ],
   "source": [
    "df.loc['x', 'd'] = 12.34\n",
    "df   # the dtype for d has changed - now it's np.float64"
   ]
  },
  {
   "cell_type": "code",
   "execution_count": 7,
   "id": "9cdcb4b7",
   "metadata": {},
   "outputs": [
    {
     "data": {
      "text/plain": [
       "a      int64\n",
       "b      int64\n",
       "c      int64\n",
       "d    float64\n",
       "e      int64\n",
       "f      int64\n",
       "dtype: object"
      ]
     },
     "execution_count": 7,
     "metadata": {},
     "output_type": "execute_result"
    }
   ],
   "source": [
    "df.dtypes  # show me all dtypes for all columns"
   ]
  },
  {
   "cell_type": "code",
   "execution_count": 8,
   "id": "69012f11",
   "metadata": {},
   "outputs": [
    {
     "data": {
      "text/plain": [
       "a    475.00\n",
       "b    892.00\n",
       "c    999.00\n",
       "d     12.34\n",
       "e    333.00\n",
       "f    382.00\n",
       "Name: x, dtype: float64"
      ]
     },
     "execution_count": 8,
     "metadata": {},
     "output_type": "execute_result"
    }
   ],
   "source": [
    "# d is now a float64 column\n",
    "# but what if I retrieve row x?\n",
    "\n",
    "df.loc['x']   # the dtype of this row is float64, because Pandas needs to find a type that's good for all values"
   ]
  },
  {
   "cell_type": "code",
   "execution_count": 10,
   "id": "80b34810",
   "metadata": {},
   "outputs": [
    {
     "data": {
      "text/plain": [
       "v    0\n",
       "w    1\n",
       "x    0\n",
       "y    1\n",
       "z    1\n",
       "Name: b, dtype: int64"
      ]
     },
     "execution_count": 10,
     "metadata": {},
     "output_type": "execute_result"
    }
   ],
   "source": [
    "# what if I want to find all of the elements of column b that are even?\n",
    "\n",
    "df['b']%2"
   ]
  },
  {
   "cell_type": "code",
   "execution_count": 11,
   "id": "dee523c0",
   "metadata": {},
   "outputs": [
    {
     "data": {
      "text/plain": [
       "v     True\n",
       "w    False\n",
       "x     True\n",
       "y    False\n",
       "z    False\n",
       "Name: b, dtype: bool"
      ]
     },
     "execution_count": 11,
     "metadata": {},
     "output_type": "execute_result"
    }
   ],
   "source": [
    "df['b']%2 == 0   # the remainder is 0 if the numbers are even"
   ]
  },
  {
   "cell_type": "code",
   "execution_count": 12,
   "id": "738b0720",
   "metadata": {},
   "outputs": [
    {
     "data": {
      "text/plain": [
       "v    582\n",
       "x    892\n",
       "Name: b, dtype: int64"
      ]
     },
     "execution_count": 12,
     "metadata": {},
     "output_type": "execute_result"
    }
   ],
   "source": [
    "# I can apply this boolean series as a mask index on df['b']\n",
    "# in this way, I can get a new series, containing all of the values of df['b']\n",
    "# that are even\n",
    "\n",
    "#        apply this boolean series as a mask\n",
    "df['b'][df['b']%2 == 0]"
   ]
  },
  {
   "cell_type": "code",
   "execution_count": 13,
   "id": "43af4bef",
   "metadata": {},
   "outputs": [
    {
     "data": {
      "text/html": [
       "<div>\n",
       "<style scoped>\n",
       "    .dataframe tbody tr th:only-of-type {\n",
       "        vertical-align: middle;\n",
       "    }\n",
       "\n",
       "    .dataframe tbody tr th {\n",
       "        vertical-align: top;\n",
       "    }\n",
       "\n",
       "    .dataframe thead th {\n",
       "        text-align: right;\n",
       "    }\n",
       "</style>\n",
       "<table border=\"1\" class=\"dataframe\">\n",
       "  <thead>\n",
       "    <tr style=\"text-align: right;\">\n",
       "      <th></th>\n",
       "      <th>a</th>\n",
       "      <th>b</th>\n",
       "      <th>c</th>\n",
       "      <th>d</th>\n",
       "      <th>e</th>\n",
       "      <th>f</th>\n",
       "    </tr>\n",
       "  </thead>\n",
       "  <tbody>\n",
       "    <tr>\n",
       "      <th>v</th>\n",
       "      <td>772</td>\n",
       "      <td>582</td>\n",
       "      <td>393</td>\n",
       "      <td>320.00</td>\n",
       "      <td>11</td>\n",
       "      <td>773</td>\n",
       "    </tr>\n",
       "    <tr>\n",
       "      <th>x</th>\n",
       "      <td>475</td>\n",
       "      <td>892</td>\n",
       "      <td>999</td>\n",
       "      <td>12.34</td>\n",
       "      <td>333</td>\n",
       "      <td>382</td>\n",
       "    </tr>\n",
       "  </tbody>\n",
       "</table>\n",
       "</div>"
      ],
      "text/plain": [
       "     a    b    c       d    e    f\n",
       "v  772  582  393  320.00   11  773\n",
       "x  475  892  999   12.34  333  382"
      ]
     },
     "execution_count": 13,
     "metadata": {},
     "output_type": "execute_result"
    }
   ],
   "source": [
    "# what if we apply our mask index not only to df['b'], but to all of df?\n",
    "\n",
    "# this will show me all of the rows of the data frame\n",
    "# (all columns) where b is even \n",
    "# aka: it'll only show us rows v and x of df\n",
    "df[df['b']%2 == 0]"
   ]
  },
  {
   "cell_type": "code",
   "execution_count": 14,
   "id": "4840fd80",
   "metadata": {},
   "outputs": [
    {
     "data": {
      "text/html": [
       "<div>\n",
       "<style scoped>\n",
       "    .dataframe tbody tr th:only-of-type {\n",
       "        vertical-align: middle;\n",
       "    }\n",
       "\n",
       "    .dataframe tbody tr th {\n",
       "        vertical-align: top;\n",
       "    }\n",
       "\n",
       "    .dataframe thead th {\n",
       "        text-align: right;\n",
       "    }\n",
       "</style>\n",
       "<table border=\"1\" class=\"dataframe\">\n",
       "  <thead>\n",
       "    <tr style=\"text-align: right;\">\n",
       "      <th></th>\n",
       "      <th>a</th>\n",
       "      <th>b</th>\n",
       "      <th>c</th>\n",
       "      <th>d</th>\n",
       "      <th>e</th>\n",
       "      <th>f</th>\n",
       "    </tr>\n",
       "  </thead>\n",
       "  <tbody>\n",
       "    <tr>\n",
       "      <th>v</th>\n",
       "      <td>772</td>\n",
       "      <td>582</td>\n",
       "      <td>393</td>\n",
       "      <td>320.00</td>\n",
       "      <td>11</td>\n",
       "      <td>773</td>\n",
       "    </tr>\n",
       "    <tr>\n",
       "      <th>x</th>\n",
       "      <td>475</td>\n",
       "      <td>892</td>\n",
       "      <td>999</td>\n",
       "      <td>12.34</td>\n",
       "      <td>333</td>\n",
       "      <td>382</td>\n",
       "    </tr>\n",
       "  </tbody>\n",
       "</table>\n",
       "</div>"
      ],
      "text/plain": [
       "     a    b    c       d    e    f\n",
       "v  772  582  393  320.00   11  773\n",
       "x  475  892  999   12.34  333  382"
      ]
     },
     "execution_count": 14,
     "metadata": {},
     "output_type": "execute_result"
    }
   ],
   "source": [
    "# if we use .loc, and don't directly apply [] to df, we \n",
    "# can then also specify which columns we want\n",
    "\n",
    "# that's because df.loc has the syntax of\n",
    "# df.loc[ROW_SELECTOR, COLUMN_SELECTOR]\n",
    "# if you don't select columns explicitly, then you get all of them.\n",
    "\n",
    "df.loc[df['b']%2 == 0]"
   ]
  },
  {
   "cell_type": "code",
   "execution_count": 15,
   "id": "482e17da",
   "metadata": {},
   "outputs": [
    {
     "data": {
      "text/plain": [
       "v    393\n",
       "x    999\n",
       "Name: c, dtype: int64"
      ]
     },
     "execution_count": 15,
     "metadata": {},
     "output_type": "execute_result"
    }
   ],
   "source": [
    "# this shows all rows of df\n",
    "# where df['b'] is even\n",
    "# and only column 'c'\n",
    "\n",
    "df.loc[df['b']%2 == 0, 'c']"
   ]
  },
  {
   "cell_type": "code",
   "execution_count": 16,
   "id": "db3da274",
   "metadata": {},
   "outputs": [
    {
     "data": {
      "text/html": [
       "<div>\n",
       "<style scoped>\n",
       "    .dataframe tbody tr th:only-of-type {\n",
       "        vertical-align: middle;\n",
       "    }\n",
       "\n",
       "    .dataframe tbody tr th {\n",
       "        vertical-align: top;\n",
       "    }\n",
       "\n",
       "    .dataframe thead th {\n",
       "        text-align: right;\n",
       "    }\n",
       "</style>\n",
       "<table border=\"1\" class=\"dataframe\">\n",
       "  <thead>\n",
       "    <tr style=\"text-align: right;\">\n",
       "      <th></th>\n",
       "      <th>c</th>\n",
       "      <th>e</th>\n",
       "    </tr>\n",
       "  </thead>\n",
       "  <tbody>\n",
       "    <tr>\n",
       "      <th>v</th>\n",
       "      <td>393</td>\n",
       "      <td>11</td>\n",
       "    </tr>\n",
       "    <tr>\n",
       "      <th>x</th>\n",
       "      <td>999</td>\n",
       "      <td>333</td>\n",
       "    </tr>\n",
       "  </tbody>\n",
       "</table>\n",
       "</div>"
      ],
      "text/plain": [
       "     c    e\n",
       "v  393   11\n",
       "x  999  333"
      ]
     },
     "execution_count": 16,
     "metadata": {},
     "output_type": "execute_result"
    }
   ],
   "source": [
    "# all rows of df\n",
    "# where df['b'] is even\n",
    "# and only columns c and e\n",
    "\n",
    "df.loc[df['b']%2 == 0, ['c', 'e']]"
   ]
  },
  {
   "cell_type": "code",
   "execution_count": 19,
   "id": "45062bd1",
   "metadata": {},
   "outputs": [
    {
     "data": {
      "text/html": [
       "<div>\n",
       "<style scoped>\n",
       "    .dataframe tbody tr th:only-of-type {\n",
       "        vertical-align: middle;\n",
       "    }\n",
       "\n",
       "    .dataframe tbody tr th {\n",
       "        vertical-align: top;\n",
       "    }\n",
       "\n",
       "    .dataframe thead th {\n",
       "        text-align: right;\n",
       "    }\n",
       "</style>\n",
       "<table border=\"1\" class=\"dataframe\">\n",
       "  <thead>\n",
       "    <tr style=\"text-align: right;\">\n",
       "      <th></th>\n",
       "      <th>a</th>\n",
       "      <th>d</th>\n",
       "    </tr>\n",
       "  </thead>\n",
       "  <tbody>\n",
       "    <tr>\n",
       "      <th>v</th>\n",
       "      <td>772</td>\n",
       "      <td>320.0</td>\n",
       "    </tr>\n",
       "    <tr>\n",
       "      <th>z</th>\n",
       "      <td>770</td>\n",
       "      <td>18.0</td>\n",
       "    </tr>\n",
       "  </tbody>\n",
       "</table>\n",
       "</div>"
      ],
      "text/plain": [
       "     a      d\n",
       "v  772  320.0\n",
       "z  770   18.0"
      ]
     },
     "execution_count": 19,
     "metadata": {},
     "output_type": "execute_result"
    }
   ],
   "source": [
    "# show me all rows of df\n",
    "# where df['c'] < df['c'].mean()\n",
    "# and only columns a and d\n",
    "\n",
    "df.loc[df['c'] < df['c'].mean(), ['a', 'd']]"
   ]
  },
  {
   "cell_type": "code",
   "execution_count": 20,
   "id": "5fd290c2",
   "metadata": {},
   "outputs": [
    {
     "data": {
      "text/html": [
       "<div>\n",
       "<style scoped>\n",
       "    .dataframe tbody tr th:only-of-type {\n",
       "        vertical-align: middle;\n",
       "    }\n",
       "\n",
       "    .dataframe tbody tr th {\n",
       "        vertical-align: top;\n",
       "    }\n",
       "\n",
       "    .dataframe thead th {\n",
       "        text-align: right;\n",
       "    }\n",
       "</style>\n",
       "<table border=\"1\" class=\"dataframe\">\n",
       "  <thead>\n",
       "    <tr style=\"text-align: right;\">\n",
       "      <th></th>\n",
       "      <th>a</th>\n",
       "      <th>b</th>\n",
       "      <th>c</th>\n",
       "      <th>d</th>\n",
       "      <th>e</th>\n",
       "      <th>f</th>\n",
       "    </tr>\n",
       "  </thead>\n",
       "  <tbody>\n",
       "    <tr>\n",
       "      <th>count</th>\n",
       "      <td>5.000000</td>\n",
       "      <td>5.000000</td>\n",
       "      <td>5.00000</td>\n",
       "      <td>5.00000</td>\n",
       "      <td>5.000000</td>\n",
       "      <td>5.00000</td>\n",
       "    </tr>\n",
       "    <tr>\n",
       "      <th>mean</th>\n",
       "      <td>605.400000</td>\n",
       "      <td>506.600000</td>\n",
       "      <td>550.20000</td>\n",
       "      <td>172.26800</td>\n",
       "      <td>413.400000</td>\n",
       "      <td>374.60000</td>\n",
       "    </tr>\n",
       "    <tr>\n",
       "      <th>std</th>\n",
       "      <td>168.866219</td>\n",
       "      <td>265.577296</td>\n",
       "      <td>346.40612</td>\n",
       "      <td>167.48131</td>\n",
       "      <td>332.750357</td>\n",
       "      <td>241.50735</td>\n",
       "    </tr>\n",
       "    <tr>\n",
       "      <th>min</th>\n",
       "      <td>400.000000</td>\n",
       "      <td>201.000000</td>\n",
       "      <td>77.00000</td>\n",
       "      <td>12.34000</td>\n",
       "      <td>11.000000</td>\n",
       "      <td>138.00000</td>\n",
       "    </tr>\n",
       "    <tr>\n",
       "      <th>25%</th>\n",
       "      <td>475.000000</td>\n",
       "      <td>323.000000</td>\n",
       "      <td>393.00000</td>\n",
       "      <td>18.00000</td>\n",
       "      <td>333.000000</td>\n",
       "      <td>244.00000</td>\n",
       "    </tr>\n",
       "    <tr>\n",
       "      <th>50%</th>\n",
       "      <td>610.000000</td>\n",
       "      <td>535.000000</td>\n",
       "      <td>559.00000</td>\n",
       "      <td>139.00000</td>\n",
       "      <td>365.000000</td>\n",
       "      <td>336.00000</td>\n",
       "    </tr>\n",
       "    <tr>\n",
       "      <th>75%</th>\n",
       "      <td>770.000000</td>\n",
       "      <td>582.000000</td>\n",
       "      <td>723.00000</td>\n",
       "      <td>320.00000</td>\n",
       "      <td>423.000000</td>\n",
       "      <td>382.00000</td>\n",
       "    </tr>\n",
       "    <tr>\n",
       "      <th>max</th>\n",
       "      <td>772.000000</td>\n",
       "      <td>892.000000</td>\n",
       "      <td>999.00000</td>\n",
       "      <td>372.00000</td>\n",
       "      <td>935.000000</td>\n",
       "      <td>773.00000</td>\n",
       "    </tr>\n",
       "  </tbody>\n",
       "</table>\n",
       "</div>"
      ],
      "text/plain": [
       "                a           b          c          d           e          f\n",
       "count    5.000000    5.000000    5.00000    5.00000    5.000000    5.00000\n",
       "mean   605.400000  506.600000  550.20000  172.26800  413.400000  374.60000\n",
       "std    168.866219  265.577296  346.40612  167.48131  332.750357  241.50735\n",
       "min    400.000000  201.000000   77.00000   12.34000   11.000000  138.00000\n",
       "25%    475.000000  323.000000  393.00000   18.00000  333.000000  244.00000\n",
       "50%    610.000000  535.000000  559.00000  139.00000  365.000000  336.00000\n",
       "75%    770.000000  582.000000  723.00000  320.00000  423.000000  382.00000\n",
       "max    772.000000  892.000000  999.00000  372.00000  935.000000  773.00000"
      ]
     },
     "execution_count": 20,
     "metadata": {},
     "output_type": "execute_result"
    }
   ],
   "source": [
    "df.describe()"
   ]
  },
  {
   "cell_type": "code",
   "execution_count": 21,
   "id": "aa04cde2",
   "metadata": {},
   "outputs": [
    {
     "data": {
      "text/plain": [
       "a    605.400\n",
       "b    506.600\n",
       "c    550.200\n",
       "d    172.268\n",
       "e    413.400\n",
       "f    374.600\n",
       "dtype: float64"
      ]
     },
     "execution_count": 21,
     "metadata": {},
     "output_type": "execute_result"
    }
   ],
   "source": [
    "df.mean()"
   ]
  },
  {
   "cell_type": "code",
   "execution_count": 22,
   "id": "20d3e7b5",
   "metadata": {},
   "outputs": [
    {
     "data": {
      "text/plain": [
       "a    3027.00\n",
       "b    2533.00\n",
       "c    2751.00\n",
       "d     861.34\n",
       "e    2067.00\n",
       "f    1873.00\n",
       "dtype: float64"
      ]
     },
     "execution_count": 22,
     "metadata": {},
     "output_type": "execute_result"
    }
   ],
   "source": [
    "df.sum()"
   ]
  },
  {
   "cell_type": "code",
   "execution_count": 23,
   "id": "c2182c31",
   "metadata": {},
   "outputs": [
    {
     "data": {
      "text/plain": [
       "a    772.0\n",
       "b    892.0\n",
       "c    999.0\n",
       "d    372.0\n",
       "e    935.0\n",
       "f    773.0\n",
       "dtype: float64"
      ]
     },
     "execution_count": 23,
     "metadata": {},
     "output_type": "execute_result"
    }
   ],
   "source": [
    "df.max()"
   ]
  },
  {
   "cell_type": "code",
   "execution_count": 24,
   "id": "645bdf9e",
   "metadata": {},
   "outputs": [
    {
     "data": {
      "text/html": [
       "<div>\n",
       "<style scoped>\n",
       "    .dataframe tbody tr th:only-of-type {\n",
       "        vertical-align: middle;\n",
       "    }\n",
       "\n",
       "    .dataframe tbody tr th {\n",
       "        vertical-align: top;\n",
       "    }\n",
       "\n",
       "    .dataframe thead th {\n",
       "        text-align: right;\n",
       "    }\n",
       "</style>\n",
       "<table border=\"1\" class=\"dataframe\">\n",
       "  <thead>\n",
       "    <tr style=\"text-align: right;\">\n",
       "      <th></th>\n",
       "      <th>a</th>\n",
       "      <th>b</th>\n",
       "      <th>c</th>\n",
       "      <th>d</th>\n",
       "      <th>e</th>\n",
       "      <th>f</th>\n",
       "    </tr>\n",
       "  </thead>\n",
       "  <tbody>\n",
       "    <tr>\n",
       "      <th>v</th>\n",
       "      <td>772</td>\n",
       "      <td>582</td>\n",
       "      <td>393</td>\n",
       "      <td>320.00</td>\n",
       "      <td>11</td>\n",
       "      <td>773</td>\n",
       "    </tr>\n",
       "    <tr>\n",
       "      <th>w</th>\n",
       "      <td>400</td>\n",
       "      <td>535</td>\n",
       "      <td>723</td>\n",
       "      <td>139.00</td>\n",
       "      <td>423</td>\n",
       "      <td>244</td>\n",
       "    </tr>\n",
       "    <tr>\n",
       "      <th>x</th>\n",
       "      <td>475</td>\n",
       "      <td>892</td>\n",
       "      <td>999</td>\n",
       "      <td>12.34</td>\n",
       "      <td>333</td>\n",
       "      <td>382</td>\n",
       "    </tr>\n",
       "    <tr>\n",
       "      <th>y</th>\n",
       "      <td>610</td>\n",
       "      <td>323</td>\n",
       "      <td>559</td>\n",
       "      <td>372.00</td>\n",
       "      <td>365</td>\n",
       "      <td>336</td>\n",
       "    </tr>\n",
       "    <tr>\n",
       "      <th>z</th>\n",
       "      <td>770</td>\n",
       "      <td>201</td>\n",
       "      <td>77</td>\n",
       "      <td>18.00</td>\n",
       "      <td>935</td>\n",
       "      <td>138</td>\n",
       "    </tr>\n",
       "  </tbody>\n",
       "</table>\n",
       "</div>"
      ],
      "text/plain": [
       "     a    b    c       d    e    f\n",
       "v  772  582  393  320.00   11  773\n",
       "w  400  535  723  139.00  423  244\n",
       "x  475  892  999   12.34  333  382\n",
       "y  610  323  559  372.00  365  336\n",
       "z  770  201   77   18.00  935  138"
      ]
     },
     "execution_count": 24,
     "metadata": {},
     "output_type": "execute_result"
    }
   ],
   "source": [
    "df"
   ]
  },
  {
   "cell_type": "code",
   "execution_count": 25,
   "id": "5b313499",
   "metadata": {},
   "outputs": [],
   "source": [
    "df['g'] = ['duck', 'duck', 'duck', 'duck', 'goose']"
   ]
  },
  {
   "cell_type": "code",
   "execution_count": 26,
   "id": "59066c56",
   "metadata": {},
   "outputs": [
    {
     "data": {
      "text/html": [
       "<div>\n",
       "<style scoped>\n",
       "    .dataframe tbody tr th:only-of-type {\n",
       "        vertical-align: middle;\n",
       "    }\n",
       "\n",
       "    .dataframe tbody tr th {\n",
       "        vertical-align: top;\n",
       "    }\n",
       "\n",
       "    .dataframe thead th {\n",
       "        text-align: right;\n",
       "    }\n",
       "</style>\n",
       "<table border=\"1\" class=\"dataframe\">\n",
       "  <thead>\n",
       "    <tr style=\"text-align: right;\">\n",
       "      <th></th>\n",
       "      <th>a</th>\n",
       "      <th>b</th>\n",
       "      <th>c</th>\n",
       "      <th>d</th>\n",
       "      <th>e</th>\n",
       "      <th>f</th>\n",
       "      <th>g</th>\n",
       "    </tr>\n",
       "  </thead>\n",
       "  <tbody>\n",
       "    <tr>\n",
       "      <th>v</th>\n",
       "      <td>772</td>\n",
       "      <td>582</td>\n",
       "      <td>393</td>\n",
       "      <td>320.00</td>\n",
       "      <td>11</td>\n",
       "      <td>773</td>\n",
       "      <td>duck</td>\n",
       "    </tr>\n",
       "    <tr>\n",
       "      <th>w</th>\n",
       "      <td>400</td>\n",
       "      <td>535</td>\n",
       "      <td>723</td>\n",
       "      <td>139.00</td>\n",
       "      <td>423</td>\n",
       "      <td>244</td>\n",
       "      <td>duck</td>\n",
       "    </tr>\n",
       "    <tr>\n",
       "      <th>x</th>\n",
       "      <td>475</td>\n",
       "      <td>892</td>\n",
       "      <td>999</td>\n",
       "      <td>12.34</td>\n",
       "      <td>333</td>\n",
       "      <td>382</td>\n",
       "      <td>duck</td>\n",
       "    </tr>\n",
       "    <tr>\n",
       "      <th>y</th>\n",
       "      <td>610</td>\n",
       "      <td>323</td>\n",
       "      <td>559</td>\n",
       "      <td>372.00</td>\n",
       "      <td>365</td>\n",
       "      <td>336</td>\n",
       "      <td>duck</td>\n",
       "    </tr>\n",
       "    <tr>\n",
       "      <th>z</th>\n",
       "      <td>770</td>\n",
       "      <td>201</td>\n",
       "      <td>77</td>\n",
       "      <td>18.00</td>\n",
       "      <td>935</td>\n",
       "      <td>138</td>\n",
       "      <td>goose</td>\n",
       "    </tr>\n",
       "  </tbody>\n",
       "</table>\n",
       "</div>"
      ],
      "text/plain": [
       "     a    b    c       d    e    f      g\n",
       "v  772  582  393  320.00   11  773   duck\n",
       "w  400  535  723  139.00  423  244   duck\n",
       "x  475  892  999   12.34  333  382   duck\n",
       "y  610  323  559  372.00  365  336   duck\n",
       "z  770  201   77   18.00  935  138  goose"
      ]
     },
     "execution_count": 26,
     "metadata": {},
     "output_type": "execute_result"
    }
   ],
   "source": [
    "df"
   ]
  },
  {
   "cell_type": "code",
   "execution_count": 27,
   "id": "499f270a",
   "metadata": {},
   "outputs": [
    {
     "data": {
      "text/html": [
       "<div>\n",
       "<style scoped>\n",
       "    .dataframe tbody tr th:only-of-type {\n",
       "        vertical-align: middle;\n",
       "    }\n",
       "\n",
       "    .dataframe tbody tr th {\n",
       "        vertical-align: top;\n",
       "    }\n",
       "\n",
       "    .dataframe thead th {\n",
       "        text-align: right;\n",
       "    }\n",
       "</style>\n",
       "<table border=\"1\" class=\"dataframe\">\n",
       "  <thead>\n",
       "    <tr style=\"text-align: right;\">\n",
       "      <th></th>\n",
       "      <th>a</th>\n",
       "      <th>b</th>\n",
       "      <th>c</th>\n",
       "      <th>d</th>\n",
       "      <th>e</th>\n",
       "      <th>f</th>\n",
       "    </tr>\n",
       "  </thead>\n",
       "  <tbody>\n",
       "    <tr>\n",
       "      <th>count</th>\n",
       "      <td>5.000000</td>\n",
       "      <td>5.000000</td>\n",
       "      <td>5.00000</td>\n",
       "      <td>5.00000</td>\n",
       "      <td>5.000000</td>\n",
       "      <td>5.00000</td>\n",
       "    </tr>\n",
       "    <tr>\n",
       "      <th>mean</th>\n",
       "      <td>605.400000</td>\n",
       "      <td>506.600000</td>\n",
       "      <td>550.20000</td>\n",
       "      <td>172.26800</td>\n",
       "      <td>413.400000</td>\n",
       "      <td>374.60000</td>\n",
       "    </tr>\n",
       "    <tr>\n",
       "      <th>std</th>\n",
       "      <td>168.866219</td>\n",
       "      <td>265.577296</td>\n",
       "      <td>346.40612</td>\n",
       "      <td>167.48131</td>\n",
       "      <td>332.750357</td>\n",
       "      <td>241.50735</td>\n",
       "    </tr>\n",
       "    <tr>\n",
       "      <th>min</th>\n",
       "      <td>400.000000</td>\n",
       "      <td>201.000000</td>\n",
       "      <td>77.00000</td>\n",
       "      <td>12.34000</td>\n",
       "      <td>11.000000</td>\n",
       "      <td>138.00000</td>\n",
       "    </tr>\n",
       "    <tr>\n",
       "      <th>25%</th>\n",
       "      <td>475.000000</td>\n",
       "      <td>323.000000</td>\n",
       "      <td>393.00000</td>\n",
       "      <td>18.00000</td>\n",
       "      <td>333.000000</td>\n",
       "      <td>244.00000</td>\n",
       "    </tr>\n",
       "    <tr>\n",
       "      <th>50%</th>\n",
       "      <td>610.000000</td>\n",
       "      <td>535.000000</td>\n",
       "      <td>559.00000</td>\n",
       "      <td>139.00000</td>\n",
       "      <td>365.000000</td>\n",
       "      <td>336.00000</td>\n",
       "    </tr>\n",
       "    <tr>\n",
       "      <th>75%</th>\n",
       "      <td>770.000000</td>\n",
       "      <td>582.000000</td>\n",
       "      <td>723.00000</td>\n",
       "      <td>320.00000</td>\n",
       "      <td>423.000000</td>\n",
       "      <td>382.00000</td>\n",
       "    </tr>\n",
       "    <tr>\n",
       "      <th>max</th>\n",
       "      <td>772.000000</td>\n",
       "      <td>892.000000</td>\n",
       "      <td>999.00000</td>\n",
       "      <td>372.00000</td>\n",
       "      <td>935.000000</td>\n",
       "      <td>773.00000</td>\n",
       "    </tr>\n",
       "  </tbody>\n",
       "</table>\n",
       "</div>"
      ],
      "text/plain": [
       "                a           b          c          d           e          f\n",
       "count    5.000000    5.000000    5.00000    5.00000    5.000000    5.00000\n",
       "mean   605.400000  506.600000  550.20000  172.26800  413.400000  374.60000\n",
       "std    168.866219  265.577296  346.40612  167.48131  332.750357  241.50735\n",
       "min    400.000000  201.000000   77.00000   12.34000   11.000000  138.00000\n",
       "25%    475.000000  323.000000  393.00000   18.00000  333.000000  244.00000\n",
       "50%    610.000000  535.000000  559.00000  139.00000  365.000000  336.00000\n",
       "75%    770.000000  582.000000  723.00000  320.00000  423.000000  382.00000\n",
       "max    772.000000  892.000000  999.00000  372.00000  935.000000  773.00000"
      ]
     },
     "execution_count": 27,
     "metadata": {},
     "output_type": "execute_result"
    }
   ],
   "source": [
    "df.describe()"
   ]
  },
  {
   "cell_type": "code",
   "execution_count": 28,
   "id": "cf35b00e",
   "metadata": {},
   "outputs": [
    {
     "data": {
      "text/plain": [
       "count        5\n",
       "unique       2\n",
       "top       duck\n",
       "freq         4\n",
       "Name: g, dtype: object"
      ]
     },
     "execution_count": 28,
     "metadata": {},
     "output_type": "execute_result"
    }
   ],
   "source": [
    "df['g'].describe()"
   ]
  },
  {
   "cell_type": "markdown",
   "id": "7ccb71dd",
   "metadata": {},
   "source": [
    "# Exercise: Address book\n",
    "\n",
    "1. Create a data frame in which you have a few friends and family members. Every person in the data frame will have the following columns:\n",
    "    - `firstname`\n",
    "    - `lastname`\n",
    "    - `age`\n",
    "    "
   ]
  }
 ],
 "metadata": {
  "kernelspec": {
   "display_name": "Python 3 (ipykernel)",
   "language": "python",
   "name": "python3"
  },
  "language_info": {
   "codemirror_mode": {
    "name": "ipython",
    "version": 3
   },
   "file_extension": ".py",
   "mimetype": "text/x-python",
   "name": "python",
   "nbconvert_exporter": "python",
   "pygments_lexer": "ipython3",
   "version": "3.10.4"
  }
 },
 "nbformat": 4,
 "nbformat_minor": 5
}
