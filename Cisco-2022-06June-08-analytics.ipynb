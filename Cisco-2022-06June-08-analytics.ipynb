{
 "cells": [
  {
   "cell_type": "markdown",
   "id": "7663e45b",
   "metadata": {},
   "source": [
    "# Agenda\n",
    "\n",
    "1. Recap\n",
    "2. Address book\n",
    "3. More with reading from and writing to files\n",
    "4. Cleaning data with `nan` and interpolating\n",
    "5. Analysis with data frames\n",
    "    - Cutting and categorizing\n",
    "    - Sorting\n",
    "    - Grouping\n",
    "    - Concatenating data frames together\n",
    "    - Join data frames\n",
    "    "
   ]
  },
  {
   "cell_type": "markdown",
   "id": "b18d4aec",
   "metadata": {},
   "source": [
    "# Recap\n",
    "\n",
    "When we use Pandas, we're mainly using two different data structures:\n",
    "\n",
    "- Series, which is basically a 1D NumPy array with a nice set of wrappers around it.  Each series has a single dtype.  Pandas often guesses correctly, but you can set it just as you did with NumPy arrays.\n",
    "- Data frame, which is basically a glorified 2D NumPy array.  Each column in a data frame is a separate series, which means that each column has a separate dtype.  \n",
    "\n",
    "Both a series and a data frame have an *index*, which describes the rows. An index can contain any type of values at all -- integers, strings, dates, or anything else.  Integers and strings are most common.  The values can even repeat.\n",
    "\n",
    "A data frame, in addition to an index, has a value for \"columns,\" which describes the names of the columns.\n",
    "\n",
    "We can retrieve from either a series or from a data frame via the index using `.loc`.  Or we can use the numeric position using `.iloc`."
   ]
  },
  {
   "cell_type": "code",
   "execution_count": 1,
   "id": "20991345",
   "metadata": {},
   "outputs": [],
   "source": [
    "import numpy as np\n",
    "import pandas as pd\n",
    "from pandas import Series, DataFrame"
   ]
  },
  {
   "cell_type": "code",
   "execution_count": 3,
   "id": "f0a41967",
   "metadata": {},
   "outputs": [
    {
     "data": {
      "text/html": [
       "<div>\n",
       "<style scoped>\n",
       "    .dataframe tbody tr th:only-of-type {\n",
       "        vertical-align: middle;\n",
       "    }\n",
       "\n",
       "    .dataframe tbody tr th {\n",
       "        vertical-align: top;\n",
       "    }\n",
       "\n",
       "    .dataframe thead th {\n",
       "        text-align: right;\n",
       "    }\n",
       "</style>\n",
       "<table border=\"1\" class=\"dataframe\">\n",
       "  <thead>\n",
       "    <tr style=\"text-align: right;\">\n",
       "      <th></th>\n",
       "      <th>a</th>\n",
       "      <th>b</th>\n",
       "      <th>c</th>\n",
       "      <th>d</th>\n",
       "      <th>e</th>\n",
       "      <th>f</th>\n",
       "    </tr>\n",
       "  </thead>\n",
       "  <tbody>\n",
       "    <tr>\n",
       "      <th>v</th>\n",
       "      <td>772</td>\n",
       "      <td>582</td>\n",
       "      <td>393</td>\n",
       "      <td>320</td>\n",
       "      <td>11</td>\n",
       "      <td>773</td>\n",
       "    </tr>\n",
       "    <tr>\n",
       "      <th>w</th>\n",
       "      <td>400</td>\n",
       "      <td>535</td>\n",
       "      <td>723</td>\n",
       "      <td>139</td>\n",
       "      <td>423</td>\n",
       "      <td>244</td>\n",
       "    </tr>\n",
       "    <tr>\n",
       "      <th>x</th>\n",
       "      <td>475</td>\n",
       "      <td>892</td>\n",
       "      <td>999</td>\n",
       "      <td>438</td>\n",
       "      <td>333</td>\n",
       "      <td>382</td>\n",
       "    </tr>\n",
       "    <tr>\n",
       "      <th>y</th>\n",
       "      <td>610</td>\n",
       "      <td>323</td>\n",
       "      <td>559</td>\n",
       "      <td>372</td>\n",
       "      <td>365</td>\n",
       "      <td>336</td>\n",
       "    </tr>\n",
       "    <tr>\n",
       "      <th>z</th>\n",
       "      <td>770</td>\n",
       "      <td>201</td>\n",
       "      <td>77</td>\n",
       "      <td>18</td>\n",
       "      <td>935</td>\n",
       "      <td>138</td>\n",
       "    </tr>\n",
       "  </tbody>\n",
       "</table>\n",
       "</div>"
      ],
      "text/plain": [
       "     a    b    c    d    e    f\n",
       "v  772  582  393  320   11  773\n",
       "w  400  535  723  139  423  244\n",
       "x  475  892  999  438  333  382\n",
       "y  610  323  559  372  365  336\n",
       "z  770  201   77   18  935  138"
      ]
     },
     "execution_count": 3,
     "metadata": {},
     "output_type": "execute_result"
    }
   ],
   "source": [
    "df = DataFrame(np.random.randint(0, 1000, [5,6]),\n",
    "              index=list('vwxyz'),      # rows\n",
    "              columns=list('abcdef'))   # columns\n",
    "df"
   ]
  },
  {
   "cell_type": "code",
   "execution_count": 4,
   "id": "ea0c64a1",
   "metadata": {},
   "outputs": [
    {
     "data": {
      "text/plain": [
       "a    475\n",
       "b    892\n",
       "c    999\n",
       "d    438\n",
       "e    333\n",
       "f    382\n",
       "Name: x, dtype: int64"
      ]
     },
     "execution_count": 4,
     "metadata": {},
     "output_type": "execute_result"
    }
   ],
   "source": [
    "# I can retrieve an entire row via .loc and an index\n",
    "\n",
    "df.loc['x']"
   ]
  },
  {
   "cell_type": "code",
   "execution_count": 5,
   "id": "62a4e27a",
   "metadata": {},
   "outputs": [
    {
     "data": {
      "text/plain": [
       "438"
      ]
     },
     "execution_count": 5,
     "metadata": {},
     "output_type": "execute_result"
    }
   ],
   "source": [
    "df.loc['x', 'd']   # retrieve row x, column d"
   ]
  },
  {
   "cell_type": "code",
   "execution_count": 6,
   "id": "d2db80ed",
   "metadata": {},
   "outputs": [
    {
     "data": {
      "text/html": [
       "<div>\n",
       "<style scoped>\n",
       "    .dataframe tbody tr th:only-of-type {\n",
       "        vertical-align: middle;\n",
       "    }\n",
       "\n",
       "    .dataframe tbody tr th {\n",
       "        vertical-align: top;\n",
       "    }\n",
       "\n",
       "    .dataframe thead th {\n",
       "        text-align: right;\n",
       "    }\n",
       "</style>\n",
       "<table border=\"1\" class=\"dataframe\">\n",
       "  <thead>\n",
       "    <tr style=\"text-align: right;\">\n",
       "      <th></th>\n",
       "      <th>a</th>\n",
       "      <th>b</th>\n",
       "      <th>c</th>\n",
       "      <th>d</th>\n",
       "      <th>e</th>\n",
       "      <th>f</th>\n",
       "    </tr>\n",
       "  </thead>\n",
       "  <tbody>\n",
       "    <tr>\n",
       "      <th>v</th>\n",
       "      <td>772</td>\n",
       "      <td>582</td>\n",
       "      <td>393</td>\n",
       "      <td>320.00</td>\n",
       "      <td>11</td>\n",
       "      <td>773</td>\n",
       "    </tr>\n",
       "    <tr>\n",
       "      <th>w</th>\n",
       "      <td>400</td>\n",
       "      <td>535</td>\n",
       "      <td>723</td>\n",
       "      <td>139.00</td>\n",
       "      <td>423</td>\n",
       "      <td>244</td>\n",
       "    </tr>\n",
       "    <tr>\n",
       "      <th>x</th>\n",
       "      <td>475</td>\n",
       "      <td>892</td>\n",
       "      <td>999</td>\n",
       "      <td>12.34</td>\n",
       "      <td>333</td>\n",
       "      <td>382</td>\n",
       "    </tr>\n",
       "    <tr>\n",
       "      <th>y</th>\n",
       "      <td>610</td>\n",
       "      <td>323</td>\n",
       "      <td>559</td>\n",
       "      <td>372.00</td>\n",
       "      <td>365</td>\n",
       "      <td>336</td>\n",
       "    </tr>\n",
       "    <tr>\n",
       "      <th>z</th>\n",
       "      <td>770</td>\n",
       "      <td>201</td>\n",
       "      <td>77</td>\n",
       "      <td>18.00</td>\n",
       "      <td>935</td>\n",
       "      <td>138</td>\n",
       "    </tr>\n",
       "  </tbody>\n",
       "</table>\n",
       "</div>"
      ],
      "text/plain": [
       "     a    b    c       d    e    f\n",
       "v  772  582  393  320.00   11  773\n",
       "w  400  535  723  139.00  423  244\n",
       "x  475  892  999   12.34  333  382\n",
       "y  610  323  559  372.00  365  336\n",
       "z  770  201   77   18.00  935  138"
      ]
     },
     "execution_count": 6,
     "metadata": {},
     "output_type": "execute_result"
    }
   ],
   "source": [
    "df.loc['x', 'd'] = 12.34\n",
    "df   # the dtype for d has changed - now it's np.float64"
   ]
  },
  {
   "cell_type": "code",
   "execution_count": 7,
   "id": "8805c04a",
   "metadata": {},
   "outputs": [
    {
     "data": {
      "text/plain": [
       "a      int64\n",
       "b      int64\n",
       "c      int64\n",
       "d    float64\n",
       "e      int64\n",
       "f      int64\n",
       "dtype: object"
      ]
     },
     "execution_count": 7,
     "metadata": {},
     "output_type": "execute_result"
    }
   ],
   "source": [
    "df.dtypes  # show me all dtypes for all columns"
   ]
  },
  {
   "cell_type": "code",
   "execution_count": 8,
   "id": "58d12f2f",
   "metadata": {},
   "outputs": [
    {
     "data": {
      "text/plain": [
       "a    475.00\n",
       "b    892.00\n",
       "c    999.00\n",
       "d     12.34\n",
       "e    333.00\n",
       "f    382.00\n",
       "Name: x, dtype: float64"
      ]
     },
     "execution_count": 8,
     "metadata": {},
     "output_type": "execute_result"
    }
   ],
   "source": [
    "# d is now a float64 column\n",
    "# but what if I retrieve row x?\n",
    "\n",
    "df.loc['x']   # the dtype of this row is float64, because Pandas needs to find a type that's good for all values"
   ]
  },
  {
   "cell_type": "code",
   "execution_count": 10,
   "id": "ce95fd81",
   "metadata": {},
   "outputs": [
    {
     "data": {
      "text/plain": [
       "v    0\n",
       "w    1\n",
       "x    0\n",
       "y    1\n",
       "z    1\n",
       "Name: b, dtype: int64"
      ]
     },
     "execution_count": 10,
     "metadata": {},
     "output_type": "execute_result"
    }
   ],
   "source": [
    "# what if I want to find all of the elements of column b that are even?\n",
    "\n",
    "df['b']%2"
   ]
  },
  {
   "cell_type": "code",
   "execution_count": 11,
   "id": "c71fa11e",
   "metadata": {},
   "outputs": [
    {
     "data": {
      "text/plain": [
       "v     True\n",
       "w    False\n",
       "x     True\n",
       "y    False\n",
       "z    False\n",
       "Name: b, dtype: bool"
      ]
     },
     "execution_count": 11,
     "metadata": {},
     "output_type": "execute_result"
    }
   ],
   "source": [
    "df['b']%2 == 0   # the remainder is 0 if the numbers are even"
   ]
  },
  {
   "cell_type": "code",
   "execution_count": 12,
   "id": "c57d8704",
   "metadata": {},
   "outputs": [
    {
     "data": {
      "text/plain": [
       "v    582\n",
       "x    892\n",
       "Name: b, dtype: int64"
      ]
     },
     "execution_count": 12,
     "metadata": {},
     "output_type": "execute_result"
    }
   ],
   "source": [
    "# I can apply this boolean series as a mask index on df['b']\n",
    "# in this way, I can get a new series, containing all of the values of df['b']\n",
    "# that are even\n",
    "\n",
    "#        apply this boolean series as a mask\n",
    "df['b'][df['b']%2 == 0]"
   ]
  },
  {
   "cell_type": "code",
   "execution_count": 13,
   "id": "d9cd993d",
   "metadata": {},
   "outputs": [
    {
     "data": {
      "text/html": [
       "<div>\n",
       "<style scoped>\n",
       "    .dataframe tbody tr th:only-of-type {\n",
       "        vertical-align: middle;\n",
       "    }\n",
       "\n",
       "    .dataframe tbody tr th {\n",
       "        vertical-align: top;\n",
       "    }\n",
       "\n",
       "    .dataframe thead th {\n",
       "        text-align: right;\n",
       "    }\n",
       "</style>\n",
       "<table border=\"1\" class=\"dataframe\">\n",
       "  <thead>\n",
       "    <tr style=\"text-align: right;\">\n",
       "      <th></th>\n",
       "      <th>a</th>\n",
       "      <th>b</th>\n",
       "      <th>c</th>\n",
       "      <th>d</th>\n",
       "      <th>e</th>\n",
       "      <th>f</th>\n",
       "    </tr>\n",
       "  </thead>\n",
       "  <tbody>\n",
       "    <tr>\n",
       "      <th>v</th>\n",
       "      <td>772</td>\n",
       "      <td>582</td>\n",
       "      <td>393</td>\n",
       "      <td>320.00</td>\n",
       "      <td>11</td>\n",
       "      <td>773</td>\n",
       "    </tr>\n",
       "    <tr>\n",
       "      <th>x</th>\n",
       "      <td>475</td>\n",
       "      <td>892</td>\n",
       "      <td>999</td>\n",
       "      <td>12.34</td>\n",
       "      <td>333</td>\n",
       "      <td>382</td>\n",
       "    </tr>\n",
       "  </tbody>\n",
       "</table>\n",
       "</div>"
      ],
      "text/plain": [
       "     a    b    c       d    e    f\n",
       "v  772  582  393  320.00   11  773\n",
       "x  475  892  999   12.34  333  382"
      ]
     },
     "execution_count": 13,
     "metadata": {},
     "output_type": "execute_result"
    }
   ],
   "source": [
    "# what if we apply our mask index not only to df['b'], but to all of df?\n",
    "\n",
    "# this will show me all of the rows of the data frame\n",
    "# (all columns) where b is even \n",
    "# aka: it'll only show us rows v and x of df\n",
    "df[df['b']%2 == 0]"
   ]
  },
  {
   "cell_type": "code",
   "execution_count": 14,
   "id": "2548e65a",
   "metadata": {},
   "outputs": [
    {
     "data": {
      "text/html": [
       "<div>\n",
       "<style scoped>\n",
       "    .dataframe tbody tr th:only-of-type {\n",
       "        vertical-align: middle;\n",
       "    }\n",
       "\n",
       "    .dataframe tbody tr th {\n",
       "        vertical-align: top;\n",
       "    }\n",
       "\n",
       "    .dataframe thead th {\n",
       "        text-align: right;\n",
       "    }\n",
       "</style>\n",
       "<table border=\"1\" class=\"dataframe\">\n",
       "  <thead>\n",
       "    <tr style=\"text-align: right;\">\n",
       "      <th></th>\n",
       "      <th>a</th>\n",
       "      <th>b</th>\n",
       "      <th>c</th>\n",
       "      <th>d</th>\n",
       "      <th>e</th>\n",
       "      <th>f</th>\n",
       "    </tr>\n",
       "  </thead>\n",
       "  <tbody>\n",
       "    <tr>\n",
       "      <th>v</th>\n",
       "      <td>772</td>\n",
       "      <td>582</td>\n",
       "      <td>393</td>\n",
       "      <td>320.00</td>\n",
       "      <td>11</td>\n",
       "      <td>773</td>\n",
       "    </tr>\n",
       "    <tr>\n",
       "      <th>x</th>\n",
       "      <td>475</td>\n",
       "      <td>892</td>\n",
       "      <td>999</td>\n",
       "      <td>12.34</td>\n",
       "      <td>333</td>\n",
       "      <td>382</td>\n",
       "    </tr>\n",
       "  </tbody>\n",
       "</table>\n",
       "</div>"
      ],
      "text/plain": [
       "     a    b    c       d    e    f\n",
       "v  772  582  393  320.00   11  773\n",
       "x  475  892  999   12.34  333  382"
      ]
     },
     "execution_count": 14,
     "metadata": {},
     "output_type": "execute_result"
    }
   ],
   "source": [
    "# if we use .loc, and don't directly apply [] to df, we \n",
    "# can then also specify which columns we want\n",
    "\n",
    "# that's because df.loc has the syntax of\n",
    "# df.loc[ROW_SELECTOR, COLUMN_SELECTOR]\n",
    "# if you don't select columns explicitly, then you get all of them.\n",
    "\n",
    "df.loc[df['b']%2 == 0]"
   ]
  },
  {
   "cell_type": "code",
   "execution_count": 15,
   "id": "dd1e37c6",
   "metadata": {},
   "outputs": [
    {
     "data": {
      "text/plain": [
       "v    393\n",
       "x    999\n",
       "Name: c, dtype: int64"
      ]
     },
     "execution_count": 15,
     "metadata": {},
     "output_type": "execute_result"
    }
   ],
   "source": [
    "# this shows all rows of df\n",
    "# where df['b'] is even\n",
    "# and only column 'c'\n",
    "\n",
    "df.loc[df['b']%2 == 0, 'c']"
   ]
  },
  {
   "cell_type": "code",
   "execution_count": 16,
   "id": "f4a239c2",
   "metadata": {},
   "outputs": [
    {
     "data": {
      "text/html": [
       "<div>\n",
       "<style scoped>\n",
       "    .dataframe tbody tr th:only-of-type {\n",
       "        vertical-align: middle;\n",
       "    }\n",
       "\n",
       "    .dataframe tbody tr th {\n",
       "        vertical-align: top;\n",
       "    }\n",
       "\n",
       "    .dataframe thead th {\n",
       "        text-align: right;\n",
       "    }\n",
       "</style>\n",
       "<table border=\"1\" class=\"dataframe\">\n",
       "  <thead>\n",
       "    <tr style=\"text-align: right;\">\n",
       "      <th></th>\n",
       "      <th>c</th>\n",
       "      <th>e</th>\n",
       "    </tr>\n",
       "  </thead>\n",
       "  <tbody>\n",
       "    <tr>\n",
       "      <th>v</th>\n",
       "      <td>393</td>\n",
       "      <td>11</td>\n",
       "    </tr>\n",
       "    <tr>\n",
       "      <th>x</th>\n",
       "      <td>999</td>\n",
       "      <td>333</td>\n",
       "    </tr>\n",
       "  </tbody>\n",
       "</table>\n",
       "</div>"
      ],
      "text/plain": [
       "     c    e\n",
       "v  393   11\n",
       "x  999  333"
      ]
     },
     "execution_count": 16,
     "metadata": {},
     "output_type": "execute_result"
    }
   ],
   "source": [
    "# all rows of df\n",
    "# where df['b'] is even\n",
    "# and only columns c and e\n",
    "\n",
    "df.loc[df['b']%2 == 0, ['c', 'e']]"
   ]
  },
  {
   "cell_type": "code",
   "execution_count": 19,
   "id": "7c95c892",
   "metadata": {},
   "outputs": [
    {
     "data": {
      "text/html": [
       "<div>\n",
       "<style scoped>\n",
       "    .dataframe tbody tr th:only-of-type {\n",
       "        vertical-align: middle;\n",
       "    }\n",
       "\n",
       "    .dataframe tbody tr th {\n",
       "        vertical-align: top;\n",
       "    }\n",
       "\n",
       "    .dataframe thead th {\n",
       "        text-align: right;\n",
       "    }\n",
       "</style>\n",
       "<table border=\"1\" class=\"dataframe\">\n",
       "  <thead>\n",
       "    <tr style=\"text-align: right;\">\n",
       "      <th></th>\n",
       "      <th>a</th>\n",
       "      <th>d</th>\n",
       "    </tr>\n",
       "  </thead>\n",
       "  <tbody>\n",
       "    <tr>\n",
       "      <th>v</th>\n",
       "      <td>772</td>\n",
       "      <td>320.0</td>\n",
       "    </tr>\n",
       "    <tr>\n",
       "      <th>z</th>\n",
       "      <td>770</td>\n",
       "      <td>18.0</td>\n",
       "    </tr>\n",
       "  </tbody>\n",
       "</table>\n",
       "</div>"
      ],
      "text/plain": [
       "     a      d\n",
       "v  772  320.0\n",
       "z  770   18.0"
      ]
     },
     "execution_count": 19,
     "metadata": {},
     "output_type": "execute_result"
    }
   ],
   "source": [
    "# show me all rows of df\n",
    "# where df['c'] < df['c'].mean()\n",
    "# and only columns a and d\n",
    "\n",
    "df.loc[df['c'] < df['c'].mean(), ['a', 'd']]"
   ]
  },
  {
   "cell_type": "code",
   "execution_count": 20,
   "id": "33ca893c",
   "metadata": {},
   "outputs": [
    {
     "data": {
      "text/html": [
       "<div>\n",
       "<style scoped>\n",
       "    .dataframe tbody tr th:only-of-type {\n",
       "        vertical-align: middle;\n",
       "    }\n",
       "\n",
       "    .dataframe tbody tr th {\n",
       "        vertical-align: top;\n",
       "    }\n",
       "\n",
       "    .dataframe thead th {\n",
       "        text-align: right;\n",
       "    }\n",
       "</style>\n",
       "<table border=\"1\" class=\"dataframe\">\n",
       "  <thead>\n",
       "    <tr style=\"text-align: right;\">\n",
       "      <th></th>\n",
       "      <th>a</th>\n",
       "      <th>b</th>\n",
       "      <th>c</th>\n",
       "      <th>d</th>\n",
       "      <th>e</th>\n",
       "      <th>f</th>\n",
       "    </tr>\n",
       "  </thead>\n",
       "  <tbody>\n",
       "    <tr>\n",
       "      <th>count</th>\n",
       "      <td>5.000000</td>\n",
       "      <td>5.000000</td>\n",
       "      <td>5.00000</td>\n",
       "      <td>5.00000</td>\n",
       "      <td>5.000000</td>\n",
       "      <td>5.00000</td>\n",
       "    </tr>\n",
       "    <tr>\n",
       "      <th>mean</th>\n",
       "      <td>605.400000</td>\n",
       "      <td>506.600000</td>\n",
       "      <td>550.20000</td>\n",
       "      <td>172.26800</td>\n",
       "      <td>413.400000</td>\n",
       "      <td>374.60000</td>\n",
       "    </tr>\n",
       "    <tr>\n",
       "      <th>std</th>\n",
       "      <td>168.866219</td>\n",
       "      <td>265.577296</td>\n",
       "      <td>346.40612</td>\n",
       "      <td>167.48131</td>\n",
       "      <td>332.750357</td>\n",
       "      <td>241.50735</td>\n",
       "    </tr>\n",
       "    <tr>\n",
       "      <th>min</th>\n",
       "      <td>400.000000</td>\n",
       "      <td>201.000000</td>\n",
       "      <td>77.00000</td>\n",
       "      <td>12.34000</td>\n",
       "      <td>11.000000</td>\n",
       "      <td>138.00000</td>\n",
       "    </tr>\n",
       "    <tr>\n",
       "      <th>25%</th>\n",
       "      <td>475.000000</td>\n",
       "      <td>323.000000</td>\n",
       "      <td>393.00000</td>\n",
       "      <td>18.00000</td>\n",
       "      <td>333.000000</td>\n",
       "      <td>244.00000</td>\n",
       "    </tr>\n",
       "    <tr>\n",
       "      <th>50%</th>\n",
       "      <td>610.000000</td>\n",
       "      <td>535.000000</td>\n",
       "      <td>559.00000</td>\n",
       "      <td>139.00000</td>\n",
       "      <td>365.000000</td>\n",
       "      <td>336.00000</td>\n",
       "    </tr>\n",
       "    <tr>\n",
       "      <th>75%</th>\n",
       "      <td>770.000000</td>\n",
       "      <td>582.000000</td>\n",
       "      <td>723.00000</td>\n",
       "      <td>320.00000</td>\n",
       "      <td>423.000000</td>\n",
       "      <td>382.00000</td>\n",
       "    </tr>\n",
       "    <tr>\n",
       "      <th>max</th>\n",
       "      <td>772.000000</td>\n",
       "      <td>892.000000</td>\n",
       "      <td>999.00000</td>\n",
       "      <td>372.00000</td>\n",
       "      <td>935.000000</td>\n",
       "      <td>773.00000</td>\n",
       "    </tr>\n",
       "  </tbody>\n",
       "</table>\n",
       "</div>"
      ],
      "text/plain": [
       "                a           b          c          d           e          f\n",
       "count    5.000000    5.000000    5.00000    5.00000    5.000000    5.00000\n",
       "mean   605.400000  506.600000  550.20000  172.26800  413.400000  374.60000\n",
       "std    168.866219  265.577296  346.40612  167.48131  332.750357  241.50735\n",
       "min    400.000000  201.000000   77.00000   12.34000   11.000000  138.00000\n",
       "25%    475.000000  323.000000  393.00000   18.00000  333.000000  244.00000\n",
       "50%    610.000000  535.000000  559.00000  139.00000  365.000000  336.00000\n",
       "75%    770.000000  582.000000  723.00000  320.00000  423.000000  382.00000\n",
       "max    772.000000  892.000000  999.00000  372.00000  935.000000  773.00000"
      ]
     },
     "execution_count": 20,
     "metadata": {},
     "output_type": "execute_result"
    }
   ],
   "source": [
    "df.describe()"
   ]
  },
  {
   "cell_type": "code",
   "execution_count": 21,
   "id": "d471a586",
   "metadata": {},
   "outputs": [
    {
     "data": {
      "text/plain": [
       "a    605.400\n",
       "b    506.600\n",
       "c    550.200\n",
       "d    172.268\n",
       "e    413.400\n",
       "f    374.600\n",
       "dtype: float64"
      ]
     },
     "execution_count": 21,
     "metadata": {},
     "output_type": "execute_result"
    }
   ],
   "source": [
    "df.mean()"
   ]
  },
  {
   "cell_type": "code",
   "execution_count": 22,
   "id": "eeea2b56",
   "metadata": {},
   "outputs": [
    {
     "data": {
      "text/plain": [
       "a    3027.00\n",
       "b    2533.00\n",
       "c    2751.00\n",
       "d     861.34\n",
       "e    2067.00\n",
       "f    1873.00\n",
       "dtype: float64"
      ]
     },
     "execution_count": 22,
     "metadata": {},
     "output_type": "execute_result"
    }
   ],
   "source": [
    "df.sum()"
   ]
  },
  {
   "cell_type": "code",
   "execution_count": 23,
   "id": "57a28a33",
   "metadata": {},
   "outputs": [
    {
     "data": {
      "text/plain": [
       "a    772.0\n",
       "b    892.0\n",
       "c    999.0\n",
       "d    372.0\n",
       "e    935.0\n",
       "f    773.0\n",
       "dtype: float64"
      ]
     },
     "execution_count": 23,
     "metadata": {},
     "output_type": "execute_result"
    }
   ],
   "source": [
    "df.max()"
   ]
  },
  {
   "cell_type": "code",
   "execution_count": 24,
   "id": "27fb0e9a",
   "metadata": {},
   "outputs": [
    {
     "data": {
      "text/html": [
       "<div>\n",
       "<style scoped>\n",
       "    .dataframe tbody tr th:only-of-type {\n",
       "        vertical-align: middle;\n",
       "    }\n",
       "\n",
       "    .dataframe tbody tr th {\n",
       "        vertical-align: top;\n",
       "    }\n",
       "\n",
       "    .dataframe thead th {\n",
       "        text-align: right;\n",
       "    }\n",
       "</style>\n",
       "<table border=\"1\" class=\"dataframe\">\n",
       "  <thead>\n",
       "    <tr style=\"text-align: right;\">\n",
       "      <th></th>\n",
       "      <th>a</th>\n",
       "      <th>b</th>\n",
       "      <th>c</th>\n",
       "      <th>d</th>\n",
       "      <th>e</th>\n",
       "      <th>f</th>\n",
       "    </tr>\n",
       "  </thead>\n",
       "  <tbody>\n",
       "    <tr>\n",
       "      <th>v</th>\n",
       "      <td>772</td>\n",
       "      <td>582</td>\n",
       "      <td>393</td>\n",
       "      <td>320.00</td>\n",
       "      <td>11</td>\n",
       "      <td>773</td>\n",
       "    </tr>\n",
       "    <tr>\n",
       "      <th>w</th>\n",
       "      <td>400</td>\n",
       "      <td>535</td>\n",
       "      <td>723</td>\n",
       "      <td>139.00</td>\n",
       "      <td>423</td>\n",
       "      <td>244</td>\n",
       "    </tr>\n",
       "    <tr>\n",
       "      <th>x</th>\n",
       "      <td>475</td>\n",
       "      <td>892</td>\n",
       "      <td>999</td>\n",
       "      <td>12.34</td>\n",
       "      <td>333</td>\n",
       "      <td>382</td>\n",
       "    </tr>\n",
       "    <tr>\n",
       "      <th>y</th>\n",
       "      <td>610</td>\n",
       "      <td>323</td>\n",
       "      <td>559</td>\n",
       "      <td>372.00</td>\n",
       "      <td>365</td>\n",
       "      <td>336</td>\n",
       "    </tr>\n",
       "    <tr>\n",
       "      <th>z</th>\n",
       "      <td>770</td>\n",
       "      <td>201</td>\n",
       "      <td>77</td>\n",
       "      <td>18.00</td>\n",
       "      <td>935</td>\n",
       "      <td>138</td>\n",
       "    </tr>\n",
       "  </tbody>\n",
       "</table>\n",
       "</div>"
      ],
      "text/plain": [
       "     a    b    c       d    e    f\n",
       "v  772  582  393  320.00   11  773\n",
       "w  400  535  723  139.00  423  244\n",
       "x  475  892  999   12.34  333  382\n",
       "y  610  323  559  372.00  365  336\n",
       "z  770  201   77   18.00  935  138"
      ]
     },
     "execution_count": 24,
     "metadata": {},
     "output_type": "execute_result"
    }
   ],
   "source": [
    "df"
   ]
  },
  {
   "cell_type": "code",
   "execution_count": 25,
   "id": "d07903bf",
   "metadata": {},
   "outputs": [],
   "source": [
    "df['g'] = ['duck', 'duck', 'duck', 'duck', 'goose']"
   ]
  },
  {
   "cell_type": "code",
   "execution_count": 26,
   "id": "85796b4c",
   "metadata": {},
   "outputs": [
    {
     "data": {
      "text/html": [
       "<div>\n",
       "<style scoped>\n",
       "    .dataframe tbody tr th:only-of-type {\n",
       "        vertical-align: middle;\n",
       "    }\n",
       "\n",
       "    .dataframe tbody tr th {\n",
       "        vertical-align: top;\n",
       "    }\n",
       "\n",
       "    .dataframe thead th {\n",
       "        text-align: right;\n",
       "    }\n",
       "</style>\n",
       "<table border=\"1\" class=\"dataframe\">\n",
       "  <thead>\n",
       "    <tr style=\"text-align: right;\">\n",
       "      <th></th>\n",
       "      <th>a</th>\n",
       "      <th>b</th>\n",
       "      <th>c</th>\n",
       "      <th>d</th>\n",
       "      <th>e</th>\n",
       "      <th>f</th>\n",
       "      <th>g</th>\n",
       "    </tr>\n",
       "  </thead>\n",
       "  <tbody>\n",
       "    <tr>\n",
       "      <th>v</th>\n",
       "      <td>772</td>\n",
       "      <td>582</td>\n",
       "      <td>393</td>\n",
       "      <td>320.00</td>\n",
       "      <td>11</td>\n",
       "      <td>773</td>\n",
       "      <td>duck</td>\n",
       "    </tr>\n",
       "    <tr>\n",
       "      <th>w</th>\n",
       "      <td>400</td>\n",
       "      <td>535</td>\n",
       "      <td>723</td>\n",
       "      <td>139.00</td>\n",
       "      <td>423</td>\n",
       "      <td>244</td>\n",
       "      <td>duck</td>\n",
       "    </tr>\n",
       "    <tr>\n",
       "      <th>x</th>\n",
       "      <td>475</td>\n",
       "      <td>892</td>\n",
       "      <td>999</td>\n",
       "      <td>12.34</td>\n",
       "      <td>333</td>\n",
       "      <td>382</td>\n",
       "      <td>duck</td>\n",
       "    </tr>\n",
       "    <tr>\n",
       "      <th>y</th>\n",
       "      <td>610</td>\n",
       "      <td>323</td>\n",
       "      <td>559</td>\n",
       "      <td>372.00</td>\n",
       "      <td>365</td>\n",
       "      <td>336</td>\n",
       "      <td>duck</td>\n",
       "    </tr>\n",
       "    <tr>\n",
       "      <th>z</th>\n",
       "      <td>770</td>\n",
       "      <td>201</td>\n",
       "      <td>77</td>\n",
       "      <td>18.00</td>\n",
       "      <td>935</td>\n",
       "      <td>138</td>\n",
       "      <td>goose</td>\n",
       "    </tr>\n",
       "  </tbody>\n",
       "</table>\n",
       "</div>"
      ],
      "text/plain": [
       "     a    b    c       d    e    f      g\n",
       "v  772  582  393  320.00   11  773   duck\n",
       "w  400  535  723  139.00  423  244   duck\n",
       "x  475  892  999   12.34  333  382   duck\n",
       "y  610  323  559  372.00  365  336   duck\n",
       "z  770  201   77   18.00  935  138  goose"
      ]
     },
     "execution_count": 26,
     "metadata": {},
     "output_type": "execute_result"
    }
   ],
   "source": [
    "df"
   ]
  },
  {
   "cell_type": "code",
   "execution_count": 27,
   "id": "3716f603",
   "metadata": {},
   "outputs": [
    {
     "data": {
      "text/html": [
       "<div>\n",
       "<style scoped>\n",
       "    .dataframe tbody tr th:only-of-type {\n",
       "        vertical-align: middle;\n",
       "    }\n",
       "\n",
       "    .dataframe tbody tr th {\n",
       "        vertical-align: top;\n",
       "    }\n",
       "\n",
       "    .dataframe thead th {\n",
       "        text-align: right;\n",
       "    }\n",
       "</style>\n",
       "<table border=\"1\" class=\"dataframe\">\n",
       "  <thead>\n",
       "    <tr style=\"text-align: right;\">\n",
       "      <th></th>\n",
       "      <th>a</th>\n",
       "      <th>b</th>\n",
       "      <th>c</th>\n",
       "      <th>d</th>\n",
       "      <th>e</th>\n",
       "      <th>f</th>\n",
       "    </tr>\n",
       "  </thead>\n",
       "  <tbody>\n",
       "    <tr>\n",
       "      <th>count</th>\n",
       "      <td>5.000000</td>\n",
       "      <td>5.000000</td>\n",
       "      <td>5.00000</td>\n",
       "      <td>5.00000</td>\n",
       "      <td>5.000000</td>\n",
       "      <td>5.00000</td>\n",
       "    </tr>\n",
       "    <tr>\n",
       "      <th>mean</th>\n",
       "      <td>605.400000</td>\n",
       "      <td>506.600000</td>\n",
       "      <td>550.20000</td>\n",
       "      <td>172.26800</td>\n",
       "      <td>413.400000</td>\n",
       "      <td>374.60000</td>\n",
       "    </tr>\n",
       "    <tr>\n",
       "      <th>std</th>\n",
       "      <td>168.866219</td>\n",
       "      <td>265.577296</td>\n",
       "      <td>346.40612</td>\n",
       "      <td>167.48131</td>\n",
       "      <td>332.750357</td>\n",
       "      <td>241.50735</td>\n",
       "    </tr>\n",
       "    <tr>\n",
       "      <th>min</th>\n",
       "      <td>400.000000</td>\n",
       "      <td>201.000000</td>\n",
       "      <td>77.00000</td>\n",
       "      <td>12.34000</td>\n",
       "      <td>11.000000</td>\n",
       "      <td>138.00000</td>\n",
       "    </tr>\n",
       "    <tr>\n",
       "      <th>25%</th>\n",
       "      <td>475.000000</td>\n",
       "      <td>323.000000</td>\n",
       "      <td>393.00000</td>\n",
       "      <td>18.00000</td>\n",
       "      <td>333.000000</td>\n",
       "      <td>244.00000</td>\n",
       "    </tr>\n",
       "    <tr>\n",
       "      <th>50%</th>\n",
       "      <td>610.000000</td>\n",
       "      <td>535.000000</td>\n",
       "      <td>559.00000</td>\n",
       "      <td>139.00000</td>\n",
       "      <td>365.000000</td>\n",
       "      <td>336.00000</td>\n",
       "    </tr>\n",
       "    <tr>\n",
       "      <th>75%</th>\n",
       "      <td>770.000000</td>\n",
       "      <td>582.000000</td>\n",
       "      <td>723.00000</td>\n",
       "      <td>320.00000</td>\n",
       "      <td>423.000000</td>\n",
       "      <td>382.00000</td>\n",
       "    </tr>\n",
       "    <tr>\n",
       "      <th>max</th>\n",
       "      <td>772.000000</td>\n",
       "      <td>892.000000</td>\n",
       "      <td>999.00000</td>\n",
       "      <td>372.00000</td>\n",
       "      <td>935.000000</td>\n",
       "      <td>773.00000</td>\n",
       "    </tr>\n",
       "  </tbody>\n",
       "</table>\n",
       "</div>"
      ],
      "text/plain": [
       "                a           b          c          d           e          f\n",
       "count    5.000000    5.000000    5.00000    5.00000    5.000000    5.00000\n",
       "mean   605.400000  506.600000  550.20000  172.26800  413.400000  374.60000\n",
       "std    168.866219  265.577296  346.40612  167.48131  332.750357  241.50735\n",
       "min    400.000000  201.000000   77.00000   12.34000   11.000000  138.00000\n",
       "25%    475.000000  323.000000  393.00000   18.00000  333.000000  244.00000\n",
       "50%    610.000000  535.000000  559.00000  139.00000  365.000000  336.00000\n",
       "75%    770.000000  582.000000  723.00000  320.00000  423.000000  382.00000\n",
       "max    772.000000  892.000000  999.00000  372.00000  935.000000  773.00000"
      ]
     },
     "execution_count": 27,
     "metadata": {},
     "output_type": "execute_result"
    }
   ],
   "source": [
    "df.describe()"
   ]
  },
  {
   "cell_type": "code",
   "execution_count": 28,
   "id": "fef4e88f",
   "metadata": {},
   "outputs": [
    {
     "data": {
      "text/plain": [
       "count        5\n",
       "unique       2\n",
       "top       duck\n",
       "freq         4\n",
       "Name: g, dtype: object"
      ]
     },
     "execution_count": 28,
     "metadata": {},
     "output_type": "execute_result"
    }
   ],
   "source": [
    "df['g'].describe()"
   ]
  },
  {
   "cell_type": "markdown",
   "id": "22135af6",
   "metadata": {},
   "source": [
    "# Exercise: Address book\n",
    "\n",
    "1. Create a data frame in which you have a few friends and family members. Every person in the data frame will have the following columns:\n",
    "    - `firstname`\n",
    "    - `lastname`\n",
    "    - `age`\n",
    "2. Create the data frame with about 7-10 people.\n",
    "3. What is the average age of people in your address book?\n",
    "4. Show the first and last names of people whose ages are above average.\n",
    "5. Show people (name and age) whose first name is shorter than the average for first names."
   ]
  },
  {
   "cell_type": "code",
   "execution_count": 29,
   "id": "05bed221",
   "metadata": {},
   "outputs": [
    {
     "data": {
      "text/html": [
       "<div>\n",
       "<style scoped>\n",
       "    .dataframe tbody tr th:only-of-type {\n",
       "        vertical-align: middle;\n",
       "    }\n",
       "\n",
       "    .dataframe tbody tr th {\n",
       "        vertical-align: top;\n",
       "    }\n",
       "\n",
       "    .dataframe thead th {\n",
       "        text-align: right;\n",
       "    }\n",
       "</style>\n",
       "<table border=\"1\" class=\"dataframe\">\n",
       "  <thead>\n",
       "    <tr style=\"text-align: right;\">\n",
       "      <th></th>\n",
       "      <th>0</th>\n",
       "      <th>1</th>\n",
       "      <th>2</th>\n",
       "    </tr>\n",
       "  </thead>\n",
       "  <tbody>\n",
       "    <tr>\n",
       "      <th>0</th>\n",
       "      <td>a</td>\n",
       "      <td>b</td>\n",
       "      <td>10</td>\n",
       "    </tr>\n",
       "    <tr>\n",
       "      <th>1</th>\n",
       "      <td>c</td>\n",
       "      <td>d</td>\n",
       "      <td>20</td>\n",
       "    </tr>\n",
       "    <tr>\n",
       "      <th>2</th>\n",
       "      <td>e</td>\n",
       "      <td>f</td>\n",
       "      <td>30</td>\n",
       "    </tr>\n",
       "  </tbody>\n",
       "</table>\n",
       "</div>"
      ],
      "text/plain": [
       "   0  1   2\n",
       "0  a  b  10\n",
       "1  c  d  20\n",
       "2  e  f  30"
      ]
     },
     "execution_count": 29,
     "metadata": {},
     "output_type": "execute_result"
    }
   ],
   "source": [
    "df = DataFrame([['a', 'b', 10],\n",
    "                ['c', 'd', 20],\n",
    "                ['e', 'f', 30]])\n",
    "df"
   ]
  },
  {
   "cell_type": "code",
   "execution_count": 32,
   "id": "3f12ca59",
   "metadata": {},
   "outputs": [],
   "source": [
    "df = DataFrame([['Reuven', 'Lerner', 51],\n",
    "                ['Atara', 'Lerner-Friedman', 21],\n",
    "                ['Shikma', 'Lerner-Friedman', 19],\n",
    "                ['Amotz', 'Lerner-Friedman', 16],\n",
    "                ['John', 'Smith', 35],\n",
    "                ['David', 'Cohen', 60],\n",
    "                ['Sarah', 'Friedman', 59]                \n",
    "               ],\n",
    "              columns='firstname lastname age'.split())     # ['firstname', 'lastname', 'age']"
   ]
  },
  {
   "cell_type": "code",
   "execution_count": 33,
   "id": "078557b9",
   "metadata": {},
   "outputs": [
    {
     "data": {
      "text/html": [
       "<div>\n",
       "<style scoped>\n",
       "    .dataframe tbody tr th:only-of-type {\n",
       "        vertical-align: middle;\n",
       "    }\n",
       "\n",
       "    .dataframe tbody tr th {\n",
       "        vertical-align: top;\n",
       "    }\n",
       "\n",
       "    .dataframe thead th {\n",
       "        text-align: right;\n",
       "    }\n",
       "</style>\n",
       "<table border=\"1\" class=\"dataframe\">\n",
       "  <thead>\n",
       "    <tr style=\"text-align: right;\">\n",
       "      <th></th>\n",
       "      <th>firstname</th>\n",
       "      <th>lastname</th>\n",
       "      <th>age</th>\n",
       "    </tr>\n",
       "  </thead>\n",
       "  <tbody>\n",
       "    <tr>\n",
       "      <th>0</th>\n",
       "      <td>Reuven</td>\n",
       "      <td>Lerner</td>\n",
       "      <td>51</td>\n",
       "    </tr>\n",
       "    <tr>\n",
       "      <th>1</th>\n",
       "      <td>Atara</td>\n",
       "      <td>Lerner-Friedman</td>\n",
       "      <td>21</td>\n",
       "    </tr>\n",
       "    <tr>\n",
       "      <th>2</th>\n",
       "      <td>Shikma</td>\n",
       "      <td>Lerner-Friedman</td>\n",
       "      <td>19</td>\n",
       "    </tr>\n",
       "    <tr>\n",
       "      <th>3</th>\n",
       "      <td>Amotz</td>\n",
       "      <td>Lerner-Friedman</td>\n",
       "      <td>16</td>\n",
       "    </tr>\n",
       "    <tr>\n",
       "      <th>4</th>\n",
       "      <td>John</td>\n",
       "      <td>Smith</td>\n",
       "      <td>35</td>\n",
       "    </tr>\n",
       "    <tr>\n",
       "      <th>5</th>\n",
       "      <td>David</td>\n",
       "      <td>Cohen</td>\n",
       "      <td>60</td>\n",
       "    </tr>\n",
       "    <tr>\n",
       "      <th>6</th>\n",
       "      <td>Sarah</td>\n",
       "      <td>Friedman</td>\n",
       "      <td>59</td>\n",
       "    </tr>\n",
       "  </tbody>\n",
       "</table>\n",
       "</div>"
      ],
      "text/plain": [
       "  firstname         lastname  age\n",
       "0    Reuven           Lerner   51\n",
       "1     Atara  Lerner-Friedman   21\n",
       "2    Shikma  Lerner-Friedman   19\n",
       "3     Amotz  Lerner-Friedman   16\n",
       "4      John            Smith   35\n",
       "5     David            Cohen   60\n",
       "6     Sarah         Friedman   59"
      ]
     },
     "execution_count": 33,
     "metadata": {},
     "output_type": "execute_result"
    }
   ],
   "source": [
    "df"
   ]
  },
  {
   "cell_type": "code",
   "execution_count": 35,
   "id": "30519a16",
   "metadata": {},
   "outputs": [
    {
     "data": {
      "text/plain": [
       "37.285714285714285"
      ]
     },
     "execution_count": 35,
     "metadata": {},
     "output_type": "execute_result"
    }
   ],
   "source": [
    "# what's the average age of people in my address book?\n",
    "\n",
    "df['age'].mean()"
   ]
  },
  {
   "cell_type": "code",
   "execution_count": 36,
   "id": "a24cf2b8",
   "metadata": {},
   "outputs": [
    {
     "data": {
      "text/plain": [
       "0     True\n",
       "1    False\n",
       "2    False\n",
       "3    False\n",
       "4    False\n",
       "5     True\n",
       "6     True\n",
       "Name: age, dtype: bool"
      ]
     },
     "execution_count": 36,
     "metadata": {},
     "output_type": "execute_result"
    }
   ],
   "source": [
    "# what are the names of people whose ages are above average\n",
    "\n",
    "df['age'] > df['age'].mean()   # this returns a boolean series"
   ]
  },
  {
   "cell_type": "code",
   "execution_count": 37,
   "id": "05d9f0eb",
   "metadata": {},
   "outputs": [
    {
     "data": {
      "text/html": [
       "<div>\n",
       "<style scoped>\n",
       "    .dataframe tbody tr th:only-of-type {\n",
       "        vertical-align: middle;\n",
       "    }\n",
       "\n",
       "    .dataframe tbody tr th {\n",
       "        vertical-align: top;\n",
       "    }\n",
       "\n",
       "    .dataframe thead th {\n",
       "        text-align: right;\n",
       "    }\n",
       "</style>\n",
       "<table border=\"1\" class=\"dataframe\">\n",
       "  <thead>\n",
       "    <tr style=\"text-align: right;\">\n",
       "      <th></th>\n",
       "      <th>firstname</th>\n",
       "      <th>lastname</th>\n",
       "      <th>age</th>\n",
       "    </tr>\n",
       "  </thead>\n",
       "  <tbody>\n",
       "    <tr>\n",
       "      <th>0</th>\n",
       "      <td>Reuven</td>\n",
       "      <td>Lerner</td>\n",
       "      <td>51</td>\n",
       "    </tr>\n",
       "    <tr>\n",
       "      <th>5</th>\n",
       "      <td>David</td>\n",
       "      <td>Cohen</td>\n",
       "      <td>60</td>\n",
       "    </tr>\n",
       "    <tr>\n",
       "      <th>6</th>\n",
       "      <td>Sarah</td>\n",
       "      <td>Friedman</td>\n",
       "      <td>59</td>\n",
       "    </tr>\n",
       "  </tbody>\n",
       "</table>\n",
       "</div>"
      ],
      "text/plain": [
       "  firstname  lastname  age\n",
       "0    Reuven    Lerner   51\n",
       "5     David     Cohen   60\n",
       "6     Sarah  Friedman   59"
      ]
     },
     "execution_count": 37,
     "metadata": {},
     "output_type": "execute_result"
    }
   ],
   "source": [
    "#        row selectors via a mask/boolean index\n",
    "df.loc[df['age'] > df['age'].mean()]"
   ]
  },
  {
   "cell_type": "code",
   "execution_count": 38,
   "id": "a30f4a94",
   "metadata": {},
   "outputs": [
    {
     "data": {
      "text/html": [
       "<div>\n",
       "<style scoped>\n",
       "    .dataframe tbody tr th:only-of-type {\n",
       "        vertical-align: middle;\n",
       "    }\n",
       "\n",
       "    .dataframe tbody tr th {\n",
       "        vertical-align: top;\n",
       "    }\n",
       "\n",
       "    .dataframe thead th {\n",
       "        text-align: right;\n",
       "    }\n",
       "</style>\n",
       "<table border=\"1\" class=\"dataframe\">\n",
       "  <thead>\n",
       "    <tr style=\"text-align: right;\">\n",
       "      <th></th>\n",
       "      <th>firstname</th>\n",
       "      <th>lastname</th>\n",
       "    </tr>\n",
       "  </thead>\n",
       "  <tbody>\n",
       "    <tr>\n",
       "      <th>0</th>\n",
       "      <td>Reuven</td>\n",
       "      <td>Lerner</td>\n",
       "    </tr>\n",
       "    <tr>\n",
       "      <th>5</th>\n",
       "      <td>David</td>\n",
       "      <td>Cohen</td>\n",
       "    </tr>\n",
       "    <tr>\n",
       "      <th>6</th>\n",
       "      <td>Sarah</td>\n",
       "      <td>Friedman</td>\n",
       "    </tr>\n",
       "  </tbody>\n",
       "</table>\n",
       "</div>"
      ],
      "text/plain": [
       "  firstname  lastname\n",
       "0    Reuven    Lerner\n",
       "5     David     Cohen\n",
       "6     Sarah  Friedman"
      ]
     },
     "execution_count": 38,
     "metadata": {},
     "output_type": "execute_result"
    }
   ],
   "source": [
    "#       row selector                    ,  column selector\n",
    "df.loc[df['age'] > df['age'].mean(),      ['firstname', 'lastname']  ]"
   ]
  },
  {
   "cell_type": "code",
   "execution_count": 41,
   "id": "06913d49",
   "metadata": {},
   "outputs": [
    {
     "data": {
      "text/plain": [
       "5.142857142857143"
      ]
     },
     "execution_count": 41,
     "metadata": {},
     "output_type": "execute_result"
    }
   ],
   "source": [
    "# find all people\n",
    "# whose first name is shorter than the average first name\n",
    "\n",
    "df['firstname'].str.len().mean()"
   ]
  },
  {
   "cell_type": "code",
   "execution_count": 42,
   "id": "c0ba8bb3",
   "metadata": {},
   "outputs": [
    {
     "data": {
      "text/plain": [
       "0    False\n",
       "1     True\n",
       "2    False\n",
       "3     True\n",
       "4     True\n",
       "5     True\n",
       "6     True\n",
       "Name: firstname, dtype: bool"
      ]
     },
     "execution_count": 42,
     "metadata": {},
     "output_type": "execute_result"
    }
   ],
   "source": [
    "df['firstname'].str.len() < df['firstname'].str.len().mean()"
   ]
  },
  {
   "cell_type": "code",
   "execution_count": 44,
   "id": "bf44c631",
   "metadata": {},
   "outputs": [
    {
     "data": {
      "text/html": [
       "<div>\n",
       "<style scoped>\n",
       "    .dataframe tbody tr th:only-of-type {\n",
       "        vertical-align: middle;\n",
       "    }\n",
       "\n",
       "    .dataframe tbody tr th {\n",
       "        vertical-align: top;\n",
       "    }\n",
       "\n",
       "    .dataframe thead th {\n",
       "        text-align: right;\n",
       "    }\n",
       "</style>\n",
       "<table border=\"1\" class=\"dataframe\">\n",
       "  <thead>\n",
       "    <tr style=\"text-align: right;\">\n",
       "      <th></th>\n",
       "      <th>firstname</th>\n",
       "      <th>lastname</th>\n",
       "      <th>age</th>\n",
       "    </tr>\n",
       "  </thead>\n",
       "  <tbody>\n",
       "    <tr>\n",
       "      <th>1</th>\n",
       "      <td>Atara</td>\n",
       "      <td>Lerner-Friedman</td>\n",
       "      <td>21</td>\n",
       "    </tr>\n",
       "    <tr>\n",
       "      <th>3</th>\n",
       "      <td>Amotz</td>\n",
       "      <td>Lerner-Friedman</td>\n",
       "      <td>16</td>\n",
       "    </tr>\n",
       "    <tr>\n",
       "      <th>4</th>\n",
       "      <td>John</td>\n",
       "      <td>Smith</td>\n",
       "      <td>35</td>\n",
       "    </tr>\n",
       "    <tr>\n",
       "      <th>5</th>\n",
       "      <td>David</td>\n",
       "      <td>Cohen</td>\n",
       "      <td>60</td>\n",
       "    </tr>\n",
       "    <tr>\n",
       "      <th>6</th>\n",
       "      <td>Sarah</td>\n",
       "      <td>Friedman</td>\n",
       "      <td>59</td>\n",
       "    </tr>\n",
       "  </tbody>\n",
       "</table>\n",
       "</div>"
      ],
      "text/plain": [
       "  firstname         lastname  age\n",
       "1     Atara  Lerner-Friedman   21\n",
       "3     Amotz  Lerner-Friedman   16\n",
       "4      John            Smith   35\n",
       "5     David            Cohen   60\n",
       "6     Sarah         Friedman   59"
      ]
     },
     "execution_count": 44,
     "metadata": {},
     "output_type": "execute_result"
    }
   ],
   "source": [
    "# find all rows\n",
    "# where the first name is shorter than the average first name\n",
    "# all columns (so we don't need a column selector)\n",
    "\n",
    "df.loc[df['firstname'].str.len() < df['firstname'].str.len().mean()]"
   ]
  },
  {
   "cell_type": "code",
   "execution_count": 45,
   "id": "10076c50",
   "metadata": {},
   "outputs": [],
   "source": [
    "# earlier, I created the data frame as a list of lists\n",
    "\n",
    "df = DataFrame([['Reuven', 'Lerner', 51],\n",
    "                ['Atara', 'Lerner-Friedman', 21],\n",
    "                ['Shikma', 'Lerner-Friedman', 19],\n",
    "                ['Amotz', 'Lerner-Friedman', 16],\n",
    "                ['John', 'Smith', 35],\n",
    "                ['David', 'Cohen', 60],\n",
    "                ['Sarah', 'Friedman', 59]                \n",
    "               ],\n",
    "              columns='firstname lastname age'.split())     # ['firstname', 'lastname', 'age']"
   ]
  },
  {
   "cell_type": "code",
   "execution_count": 46,
   "id": "c3a171d6",
   "metadata": {},
   "outputs": [],
   "source": [
    "# I can also create this data frame as a list of dicts\n",
    "# each dictionary represents one row\n",
    "# the keys are the column names, and the values are .. the values\n",
    "\n",
    "# we don't need to specify column names\n",
    "\n",
    "\n",
    "df = DataFrame([{'firstname':'Reuven', 'lastname':'Lerner', 'age':51},\n",
    "               {'firstname':'Atara', 'lastname':'Lerner-Friedman', 'age':21},\n",
    "               {'firstname':'Shikma', 'lastname':'Lerner-Friedman', 'age':19},\n",
    "               {'firstname':'Amotz', 'lastname':'Lerner-Friedman', 'age':16}\n",
    "               ])"
   ]
  },
  {
   "cell_type": "code",
   "execution_count": 47,
   "id": "a47d6ff0",
   "metadata": {},
   "outputs": [
    {
     "data": {
      "text/html": [
       "<div>\n",
       "<style scoped>\n",
       "    .dataframe tbody tr th:only-of-type {\n",
       "        vertical-align: middle;\n",
       "    }\n",
       "\n",
       "    .dataframe tbody tr th {\n",
       "        vertical-align: top;\n",
       "    }\n",
       "\n",
       "    .dataframe thead th {\n",
       "        text-align: right;\n",
       "    }\n",
       "</style>\n",
       "<table border=\"1\" class=\"dataframe\">\n",
       "  <thead>\n",
       "    <tr style=\"text-align: right;\">\n",
       "      <th></th>\n",
       "      <th>firstname</th>\n",
       "      <th>lastname</th>\n",
       "      <th>age</th>\n",
       "    </tr>\n",
       "  </thead>\n",
       "  <tbody>\n",
       "    <tr>\n",
       "      <th>0</th>\n",
       "      <td>Reuven</td>\n",
       "      <td>Lerner</td>\n",
       "      <td>51</td>\n",
       "    </tr>\n",
       "    <tr>\n",
       "      <th>1</th>\n",
       "      <td>Atara</td>\n",
       "      <td>Lerner-Friedman</td>\n",
       "      <td>21</td>\n",
       "    </tr>\n",
       "    <tr>\n",
       "      <th>2</th>\n",
       "      <td>Shikma</td>\n",
       "      <td>Lerner-Friedman</td>\n",
       "      <td>19</td>\n",
       "    </tr>\n",
       "    <tr>\n",
       "      <th>3</th>\n",
       "      <td>Amotz</td>\n",
       "      <td>Lerner-Friedman</td>\n",
       "      <td>16</td>\n",
       "    </tr>\n",
       "  </tbody>\n",
       "</table>\n",
       "</div>"
      ],
      "text/plain": [
       "  firstname         lastname  age\n",
       "0    Reuven           Lerner   51\n",
       "1     Atara  Lerner-Friedman   21\n",
       "2    Shikma  Lerner-Friedman   19\n",
       "3     Amotz  Lerner-Friedman   16"
      ]
     },
     "execution_count": 47,
     "metadata": {},
     "output_type": "execute_result"
    }
   ],
   "source": [
    "df"
   ]
  },
  {
   "cell_type": "markdown",
   "id": "f9a8e3ef",
   "metadata": {},
   "source": [
    "# Reading from and writing to files\n",
    "\n",
    "Yesterday, we saw that we can read from CSV, Excel, and feather files.  We can write to them, as well.\n",
    "\n",
    "We saw a few of the parameters we can specify when reading from a CSV file:\n",
    "- `sep`, the separator, defaulting to `,`\n",
    "- `usecols`, a list of column names that we want to include in our data frame"
   ]
  },
  {
   "cell_type": "code",
   "execution_count": 49,
   "id": "7a18ba68",
   "metadata": {},
   "outputs": [
    {
     "name": "stdout",
     "output_type": "stream",
     "text": [
      "1,\"Private flight\",\\N,\"-\",\"N/A\",\"\",\"\",\"Y\" \r\n",
      "2,\"135 Airways\",\\N,\"\",\"GNL\",\"GENERAL\",\"United States\",\"N\"\r\n",
      "3,\"1Time Airline\",\\N,\"1T\",\"RNX\",\"NEXTIME\",\"South Africa\",\"Y\"\r\n",
      "4,\"2 Sqn No 1 Elementary Flying Training School\",\\N,\"\",\"WYT\",\"\",\"United Kingdom\",\"N\"\r\n",
      "5,\"213 Flight Unit\",\\N,\"\",\"TFU\",\"\",\"Russia\",\"N\"\r\n",
      "6,\"223 Flight Unit State Airline\",\\N,\"\",\"CHD\",\"CHKALOVSK-AVIA\",\"Russia\",\"N\"\r\n",
      "7,\"224th Flight Unit\",\\N,\"\",\"TTF\",\"CARGO UNIT\",\"Russia\",\"N\"\r\n",
      "8,\"247 Jet Ltd\",\\N,\"\",\"TWF\",\"CLOUD RUNNER\",\"United Kingdom\",\"N\"\r\n",
      "9,\"3D Aviation\",\\N,\"\",\"SEC\",\"SECUREX\",\"United States\",\"N\"\r\n",
      "10,\"40-Mile Air\",\\N,\"Q5\",\"MLA\",\"MILE-AIR\",\"United States\",\"Y\"\r\n"
     ]
    }
   ],
   "source": [
    "!head airlines.dat"
   ]
  },
  {
   "cell_type": "code",
   "execution_count": 50,
   "id": "8e706bcb",
   "metadata": {},
   "outputs": [],
   "source": [
    "# read in data about every airline in the world\n",
    "df = pd.read_csv('airlines.dat')"
   ]
  },
  {
   "cell_type": "code",
   "execution_count": 51,
   "id": "1ddd47be",
   "metadata": {},
   "outputs": [
    {
     "data": {
      "text/html": [
       "<div>\n",
       "<style scoped>\n",
       "    .dataframe tbody tr th:only-of-type {\n",
       "        vertical-align: middle;\n",
       "    }\n",
       "\n",
       "    .dataframe tbody tr th {\n",
       "        vertical-align: top;\n",
       "    }\n",
       "\n",
       "    .dataframe thead th {\n",
       "        text-align: right;\n",
       "    }\n",
       "</style>\n",
       "<table border=\"1\" class=\"dataframe\">\n",
       "  <thead>\n",
       "    <tr style=\"text-align: right;\">\n",
       "      <th></th>\n",
       "      <th>1</th>\n",
       "      <th>Private flight</th>\n",
       "      <th>\\N</th>\n",
       "      <th>-</th>\n",
       "      <th>N/A</th>\n",
       "      <th>Unnamed: 5</th>\n",
       "      <th>Unnamed: 6</th>\n",
       "      <th>Y</th>\n",
       "    </tr>\n",
       "  </thead>\n",
       "  <tbody>\n",
       "    <tr>\n",
       "      <th>0</th>\n",
       "      <td>2</td>\n",
       "      <td>135 Airways</td>\n",
       "      <td>\\N</td>\n",
       "      <td>NaN</td>\n",
       "      <td>GNL</td>\n",
       "      <td>GENERAL</td>\n",
       "      <td>United States</td>\n",
       "      <td>N</td>\n",
       "    </tr>\n",
       "    <tr>\n",
       "      <th>1</th>\n",
       "      <td>3</td>\n",
       "      <td>1Time Airline</td>\n",
       "      <td>\\N</td>\n",
       "      <td>1T</td>\n",
       "      <td>RNX</td>\n",
       "      <td>NEXTIME</td>\n",
       "      <td>South Africa</td>\n",
       "      <td>Y</td>\n",
       "    </tr>\n",
       "    <tr>\n",
       "      <th>2</th>\n",
       "      <td>4</td>\n",
       "      <td>2 Sqn No 1 Elementary Flying Training School</td>\n",
       "      <td>\\N</td>\n",
       "      <td>NaN</td>\n",
       "      <td>WYT</td>\n",
       "      <td>NaN</td>\n",
       "      <td>United Kingdom</td>\n",
       "      <td>N</td>\n",
       "    </tr>\n",
       "    <tr>\n",
       "      <th>3</th>\n",
       "      <td>5</td>\n",
       "      <td>213 Flight Unit</td>\n",
       "      <td>\\N</td>\n",
       "      <td>NaN</td>\n",
       "      <td>TFU</td>\n",
       "      <td>NaN</td>\n",
       "      <td>Russia</td>\n",
       "      <td>N</td>\n",
       "    </tr>\n",
       "    <tr>\n",
       "      <th>4</th>\n",
       "      <td>6</td>\n",
       "      <td>223 Flight Unit State Airline</td>\n",
       "      <td>\\N</td>\n",
       "      <td>NaN</td>\n",
       "      <td>CHD</td>\n",
       "      <td>CHKALOVSK-AVIA</td>\n",
       "      <td>Russia</td>\n",
       "      <td>N</td>\n",
       "    </tr>\n",
       "  </tbody>\n",
       "</table>\n",
       "</div>"
      ],
      "text/plain": [
       "   1                                Private flight  \\N    -  N/A  \\\n",
       "0  2                                   135 Airways  \\N  NaN  GNL   \n",
       "1  3                                 1Time Airline  \\N   1T  RNX   \n",
       "2  4  2 Sqn No 1 Elementary Flying Training School  \\N  NaN  WYT   \n",
       "3  5                               213 Flight Unit  \\N  NaN  TFU   \n",
       "4  6                 223 Flight Unit State Airline  \\N  NaN  CHD   \n",
       "\n",
       "       Unnamed: 5      Unnamed: 6 Y   \n",
       "0         GENERAL   United States  N  \n",
       "1         NEXTIME    South Africa  Y  \n",
       "2             NaN  United Kingdom  N  \n",
       "3             NaN          Russia  N  \n",
       "4  CHKALOVSK-AVIA          Russia  N  "
      ]
     },
     "execution_count": 51,
     "metadata": {},
     "output_type": "execute_result"
    }
   ],
   "source": [
    "df.head()"
   ]
  },
  {
   "cell_type": "code",
   "execution_count": 69,
   "id": "18cec1b3",
   "metadata": {},
   "outputs": [],
   "source": [
    "# if the CSV file doesn't start with column names, we need to:\n",
    "# (1) tell it not to use the first row as columns, so we don't lose data\n",
    "# (2) name the columns ourselves\n",
    "\n",
    "df = pd.read_csv('airlines.dat', \n",
    "                header=None,   # the first row of the file is *not* a header row\n",
    "                names=['id', 'fullname', 'junk', '2code', '3code', 'formal name', 'country', 'morejunk'],\n",
    "                usecols=['id', 'fullname', '2code', '3code', 'formal name', 'country'])"
   ]
  },
  {
   "cell_type": "code",
   "execution_count": 70,
   "id": "10294e6e",
   "metadata": {},
   "outputs": [
    {
     "data": {
      "text/html": [
       "<div>\n",
       "<style scoped>\n",
       "    .dataframe tbody tr th:only-of-type {\n",
       "        vertical-align: middle;\n",
       "    }\n",
       "\n",
       "    .dataframe tbody tr th {\n",
       "        vertical-align: top;\n",
       "    }\n",
       "\n",
       "    .dataframe thead th {\n",
       "        text-align: right;\n",
       "    }\n",
       "</style>\n",
       "<table border=\"1\" class=\"dataframe\">\n",
       "  <thead>\n",
       "    <tr style=\"text-align: right;\">\n",
       "      <th></th>\n",
       "      <th>id</th>\n",
       "      <th>fullname</th>\n",
       "      <th>2code</th>\n",
       "      <th>3code</th>\n",
       "      <th>formal name</th>\n",
       "      <th>country</th>\n",
       "    </tr>\n",
       "  </thead>\n",
       "  <tbody>\n",
       "    <tr>\n",
       "      <th>0</th>\n",
       "      <td>1</td>\n",
       "      <td>Private flight</td>\n",
       "      <td>-</td>\n",
       "      <td>NaN</td>\n",
       "      <td>NaN</td>\n",
       "      <td>NaN</td>\n",
       "    </tr>\n",
       "    <tr>\n",
       "      <th>1</th>\n",
       "      <td>2</td>\n",
       "      <td>135 Airways</td>\n",
       "      <td>NaN</td>\n",
       "      <td>GNL</td>\n",
       "      <td>GENERAL</td>\n",
       "      <td>United States</td>\n",
       "    </tr>\n",
       "    <tr>\n",
       "      <th>2</th>\n",
       "      <td>3</td>\n",
       "      <td>1Time Airline</td>\n",
       "      <td>1T</td>\n",
       "      <td>RNX</td>\n",
       "      <td>NEXTIME</td>\n",
       "      <td>South Africa</td>\n",
       "    </tr>\n",
       "    <tr>\n",
       "      <th>3</th>\n",
       "      <td>4</td>\n",
       "      <td>2 Sqn No 1 Elementary Flying Training School</td>\n",
       "      <td>NaN</td>\n",
       "      <td>WYT</td>\n",
       "      <td>NaN</td>\n",
       "      <td>United Kingdom</td>\n",
       "    </tr>\n",
       "    <tr>\n",
       "      <th>4</th>\n",
       "      <td>5</td>\n",
       "      <td>213 Flight Unit</td>\n",
       "      <td>NaN</td>\n",
       "      <td>TFU</td>\n",
       "      <td>NaN</td>\n",
       "      <td>Russia</td>\n",
       "    </tr>\n",
       "  </tbody>\n",
       "</table>\n",
       "</div>"
      ],
      "text/plain": [
       "   id                                      fullname 2code 3code formal name  \\\n",
       "0   1                                Private flight     -   NaN         NaN   \n",
       "1   2                                   135 Airways   NaN   GNL     GENERAL   \n",
       "2   3                                 1Time Airline    1T   RNX     NEXTIME   \n",
       "3   4  2 Sqn No 1 Elementary Flying Training School   NaN   WYT         NaN   \n",
       "4   5                               213 Flight Unit   NaN   TFU         NaN   \n",
       "\n",
       "          country  \n",
       "0             NaN  \n",
       "1   United States  \n",
       "2    South Africa  \n",
       "3  United Kingdom  \n",
       "4          Russia  "
      ]
     },
     "execution_count": 70,
     "metadata": {},
     "output_type": "execute_result"
    }
   ],
   "source": [
    "df.head()"
   ]
  },
  {
   "cell_type": "code",
   "execution_count": 66,
   "id": "e583d01d",
   "metadata": {},
   "outputs": [
    {
     "data": {
      "text/plain": [
       "('abc', 'def')"
      ]
     },
     "execution_count": 66,
     "metadata": {},
     "output_type": "execute_result"
    }
   ],
   "source": [
    "'abc', 'def'"
   ]
  },
  {
   "cell_type": "code",
   "execution_count": 67,
   "id": "7b2c76d1",
   "metadata": {},
   "outputs": [
    {
     "data": {
      "text/plain": [
       "'abcdef'"
      ]
     },
     "execution_count": 67,
     "metadata": {},
     "output_type": "execute_result"
    }
   ],
   "source": [
    "'abc' 'def'"
   ]
  },
  {
   "cell_type": "code",
   "execution_count": 71,
   "id": "0e241290",
   "metadata": {},
   "outputs": [],
   "source": [
    "# I'd like the \"id\" column to be the index of my data frame\n",
    "\n",
    "df = df.set_index('id')   # set_index returns a new data frame, in which the \"id\" column is the index"
   ]
  },
  {
   "cell_type": "code",
   "execution_count": 72,
   "id": "206973e9",
   "metadata": {},
   "outputs": [
    {
     "data": {
      "text/html": [
       "<div>\n",
       "<style scoped>\n",
       "    .dataframe tbody tr th:only-of-type {\n",
       "        vertical-align: middle;\n",
       "    }\n",
       "\n",
       "    .dataframe tbody tr th {\n",
       "        vertical-align: top;\n",
       "    }\n",
       "\n",
       "    .dataframe thead th {\n",
       "        text-align: right;\n",
       "    }\n",
       "</style>\n",
       "<table border=\"1\" class=\"dataframe\">\n",
       "  <thead>\n",
       "    <tr style=\"text-align: right;\">\n",
       "      <th></th>\n",
       "      <th>fullname</th>\n",
       "      <th>2code</th>\n",
       "      <th>3code</th>\n",
       "      <th>formal name</th>\n",
       "      <th>country</th>\n",
       "    </tr>\n",
       "    <tr>\n",
       "      <th>id</th>\n",
       "      <th></th>\n",
       "      <th></th>\n",
       "      <th></th>\n",
       "      <th></th>\n",
       "      <th></th>\n",
       "    </tr>\n",
       "  </thead>\n",
       "  <tbody>\n",
       "    <tr>\n",
       "      <th>1</th>\n",
       "      <td>Private flight</td>\n",
       "      <td>-</td>\n",
       "      <td>NaN</td>\n",
       "      <td>NaN</td>\n",
       "      <td>NaN</td>\n",
       "    </tr>\n",
       "    <tr>\n",
       "      <th>2</th>\n",
       "      <td>135 Airways</td>\n",
       "      <td>NaN</td>\n",
       "      <td>GNL</td>\n",
       "      <td>GENERAL</td>\n",
       "      <td>United States</td>\n",
       "    </tr>\n",
       "    <tr>\n",
       "      <th>3</th>\n",
       "      <td>1Time Airline</td>\n",
       "      <td>1T</td>\n",
       "      <td>RNX</td>\n",
       "      <td>NEXTIME</td>\n",
       "      <td>South Africa</td>\n",
       "    </tr>\n",
       "    <tr>\n",
       "      <th>4</th>\n",
       "      <td>2 Sqn No 1 Elementary Flying Training School</td>\n",
       "      <td>NaN</td>\n",
       "      <td>WYT</td>\n",
       "      <td>NaN</td>\n",
       "      <td>United Kingdom</td>\n",
       "    </tr>\n",
       "    <tr>\n",
       "      <th>5</th>\n",
       "      <td>213 Flight Unit</td>\n",
       "      <td>NaN</td>\n",
       "      <td>TFU</td>\n",
       "      <td>NaN</td>\n",
       "      <td>Russia</td>\n",
       "    </tr>\n",
       "    <tr>\n",
       "      <th>...</th>\n",
       "      <td>...</td>\n",
       "      <td>...</td>\n",
       "      <td>...</td>\n",
       "      <td>...</td>\n",
       "      <td>...</td>\n",
       "    </tr>\n",
       "    <tr>\n",
       "      <th>19828</th>\n",
       "      <td>Vuela Cuba</td>\n",
       "      <td>6C</td>\n",
       "      <td>6CC</td>\n",
       "      <td>NaN</td>\n",
       "      <td>Cuba</td>\n",
       "    </tr>\n",
       "    <tr>\n",
       "      <th>19830</th>\n",
       "      <td>All Australia</td>\n",
       "      <td>88</td>\n",
       "      <td>8K8</td>\n",
       "      <td>NaN</td>\n",
       "      <td>Australia</td>\n",
       "    </tr>\n",
       "    <tr>\n",
       "      <th>19831</th>\n",
       "      <td>Fly Europa</td>\n",
       "      <td>ER</td>\n",
       "      <td>RWW</td>\n",
       "      <td>NaN</td>\n",
       "      <td>Spain</td>\n",
       "    </tr>\n",
       "    <tr>\n",
       "      <th>19834</th>\n",
       "      <td>FlyPortugal</td>\n",
       "      <td>PO</td>\n",
       "      <td>FPT</td>\n",
       "      <td>FlyPortugal</td>\n",
       "      <td>Portugal</td>\n",
       "    </tr>\n",
       "    <tr>\n",
       "      <th>19845</th>\n",
       "      <td>FTI Fluggesellschaft</td>\n",
       "      <td>NaN</td>\n",
       "      <td>FTI</td>\n",
       "      <td>NaN</td>\n",
       "      <td>Germany</td>\n",
       "    </tr>\n",
       "  </tbody>\n",
       "</table>\n",
       "<p>6048 rows × 5 columns</p>\n",
       "</div>"
      ],
      "text/plain": [
       "                                           fullname 2code 3code  formal name  \\\n",
       "id                                                                             \n",
       "1                                    Private flight     -   NaN          NaN   \n",
       "2                                       135 Airways   NaN   GNL      GENERAL   \n",
       "3                                     1Time Airline    1T   RNX      NEXTIME   \n",
       "4      2 Sqn No 1 Elementary Flying Training School   NaN   WYT          NaN   \n",
       "5                                   213 Flight Unit   NaN   TFU          NaN   \n",
       "...                                             ...   ...   ...          ...   \n",
       "19828                                    Vuela Cuba    6C   6CC          NaN   \n",
       "19830                                 All Australia    88   8K8          NaN   \n",
       "19831                                    Fly Europa    ER   RWW          NaN   \n",
       "19834                                   FlyPortugal    PO   FPT  FlyPortugal   \n",
       "19845                          FTI Fluggesellschaft   NaN   FTI          NaN   \n",
       "\n",
       "              country  \n",
       "id                     \n",
       "1                 NaN  \n",
       "2       United States  \n",
       "3        South Africa  \n",
       "4      United Kingdom  \n",
       "5              Russia  \n",
       "...               ...  \n",
       "19828            Cuba  \n",
       "19830       Australia  \n",
       "19831           Spain  \n",
       "19834        Portugal  \n",
       "19845         Germany  \n",
       "\n",
       "[6048 rows x 5 columns]"
      ]
     },
     "execution_count": 72,
     "metadata": {},
     "output_type": "execute_result"
    }
   ],
   "source": [
    "df"
   ]
  },
  {
   "cell_type": "code",
   "execution_count": 73,
   "id": "27f048b8",
   "metadata": {},
   "outputs": [],
   "source": [
    "df = df.reset_index()   # return a new data frame without an index, and then assign it to df"
   ]
  },
  {
   "cell_type": "code",
   "execution_count": 74,
   "id": "f3bb4029",
   "metadata": {},
   "outputs": [
    {
     "data": {
      "text/html": [
       "<div>\n",
       "<style scoped>\n",
       "    .dataframe tbody tr th:only-of-type {\n",
       "        vertical-align: middle;\n",
       "    }\n",
       "\n",
       "    .dataframe tbody tr th {\n",
       "        vertical-align: top;\n",
       "    }\n",
       "\n",
       "    .dataframe thead th {\n",
       "        text-align: right;\n",
       "    }\n",
       "</style>\n",
       "<table border=\"1\" class=\"dataframe\">\n",
       "  <thead>\n",
       "    <tr style=\"text-align: right;\">\n",
       "      <th></th>\n",
       "      <th>id</th>\n",
       "      <th>fullname</th>\n",
       "      <th>2code</th>\n",
       "      <th>3code</th>\n",
       "      <th>formal name</th>\n",
       "      <th>country</th>\n",
       "    </tr>\n",
       "  </thead>\n",
       "  <tbody>\n",
       "    <tr>\n",
       "      <th>0</th>\n",
       "      <td>1</td>\n",
       "      <td>Private flight</td>\n",
       "      <td>-</td>\n",
       "      <td>NaN</td>\n",
       "      <td>NaN</td>\n",
       "      <td>NaN</td>\n",
       "    </tr>\n",
       "    <tr>\n",
       "      <th>1</th>\n",
       "      <td>2</td>\n",
       "      <td>135 Airways</td>\n",
       "      <td>NaN</td>\n",
       "      <td>GNL</td>\n",
       "      <td>GENERAL</td>\n",
       "      <td>United States</td>\n",
       "    </tr>\n",
       "    <tr>\n",
       "      <th>2</th>\n",
       "      <td>3</td>\n",
       "      <td>1Time Airline</td>\n",
       "      <td>1T</td>\n",
       "      <td>RNX</td>\n",
       "      <td>NEXTIME</td>\n",
       "      <td>South Africa</td>\n",
       "    </tr>\n",
       "    <tr>\n",
       "      <th>3</th>\n",
       "      <td>4</td>\n",
       "      <td>2 Sqn No 1 Elementary Flying Training School</td>\n",
       "      <td>NaN</td>\n",
       "      <td>WYT</td>\n",
       "      <td>NaN</td>\n",
       "      <td>United Kingdom</td>\n",
       "    </tr>\n",
       "    <tr>\n",
       "      <th>4</th>\n",
       "      <td>5</td>\n",
       "      <td>213 Flight Unit</td>\n",
       "      <td>NaN</td>\n",
       "      <td>TFU</td>\n",
       "      <td>NaN</td>\n",
       "      <td>Russia</td>\n",
       "    </tr>\n",
       "    <tr>\n",
       "      <th>...</th>\n",
       "      <td>...</td>\n",
       "      <td>...</td>\n",
       "      <td>...</td>\n",
       "      <td>...</td>\n",
       "      <td>...</td>\n",
       "      <td>...</td>\n",
       "    </tr>\n",
       "    <tr>\n",
       "      <th>6043</th>\n",
       "      <td>19828</td>\n",
       "      <td>Vuela Cuba</td>\n",
       "      <td>6C</td>\n",
       "      <td>6CC</td>\n",
       "      <td>NaN</td>\n",
       "      <td>Cuba</td>\n",
       "    </tr>\n",
       "    <tr>\n",
       "      <th>6044</th>\n",
       "      <td>19830</td>\n",
       "      <td>All Australia</td>\n",
       "      <td>88</td>\n",
       "      <td>8K8</td>\n",
       "      <td>NaN</td>\n",
       "      <td>Australia</td>\n",
       "    </tr>\n",
       "    <tr>\n",
       "      <th>6045</th>\n",
       "      <td>19831</td>\n",
       "      <td>Fly Europa</td>\n",
       "      <td>ER</td>\n",
       "      <td>RWW</td>\n",
       "      <td>NaN</td>\n",
       "      <td>Spain</td>\n",
       "    </tr>\n",
       "    <tr>\n",
       "      <th>6046</th>\n",
       "      <td>19834</td>\n",
       "      <td>FlyPortugal</td>\n",
       "      <td>PO</td>\n",
       "      <td>FPT</td>\n",
       "      <td>FlyPortugal</td>\n",
       "      <td>Portugal</td>\n",
       "    </tr>\n",
       "    <tr>\n",
       "      <th>6047</th>\n",
       "      <td>19845</td>\n",
       "      <td>FTI Fluggesellschaft</td>\n",
       "      <td>NaN</td>\n",
       "      <td>FTI</td>\n",
       "      <td>NaN</td>\n",
       "      <td>Germany</td>\n",
       "    </tr>\n",
       "  </tbody>\n",
       "</table>\n",
       "<p>6048 rows × 6 columns</p>\n",
       "</div>"
      ],
      "text/plain": [
       "         id                                      fullname 2code 3code  \\\n",
       "0         1                                Private flight     -   NaN   \n",
       "1         2                                   135 Airways   NaN   GNL   \n",
       "2         3                                 1Time Airline    1T   RNX   \n",
       "3         4  2 Sqn No 1 Elementary Flying Training School   NaN   WYT   \n",
       "4         5                               213 Flight Unit   NaN   TFU   \n",
       "...     ...                                           ...   ...   ...   \n",
       "6043  19828                                    Vuela Cuba    6C   6CC   \n",
       "6044  19830                                 All Australia    88   8K8   \n",
       "6045  19831                                    Fly Europa    ER   RWW   \n",
       "6046  19834                                   FlyPortugal    PO   FPT   \n",
       "6047  19845                          FTI Fluggesellschaft   NaN   FTI   \n",
       "\n",
       "      formal name         country  \n",
       "0             NaN             NaN  \n",
       "1         GENERAL   United States  \n",
       "2         NEXTIME    South Africa  \n",
       "3             NaN  United Kingdom  \n",
       "4             NaN          Russia  \n",
       "...           ...             ...  \n",
       "6043          NaN            Cuba  \n",
       "6044          NaN       Australia  \n",
       "6045          NaN           Spain  \n",
       "6046  FlyPortugal        Portugal  \n",
       "6047          NaN         Germany  \n",
       "\n",
       "[6048 rows x 6 columns]"
      ]
     },
     "execution_count": 74,
     "metadata": {},
     "output_type": "execute_result"
    }
   ],
   "source": [
    "df"
   ]
  },
  {
   "cell_type": "code",
   "execution_count": 75,
   "id": "b0bb5ad1",
   "metadata": {},
   "outputs": [
    {
     "data": {
      "text/html": [
       "<div>\n",
       "<style scoped>\n",
       "    .dataframe tbody tr th:only-of-type {\n",
       "        vertical-align: middle;\n",
       "    }\n",
       "\n",
       "    .dataframe tbody tr th {\n",
       "        vertical-align: top;\n",
       "    }\n",
       "\n",
       "    .dataframe thead th {\n",
       "        text-align: right;\n",
       "    }\n",
       "</style>\n",
       "<table border=\"1\" class=\"dataframe\">\n",
       "  <thead>\n",
       "    <tr style=\"text-align: right;\">\n",
       "      <th></th>\n",
       "      <th>fullname</th>\n",
       "      <th>2code</th>\n",
       "      <th>3code</th>\n",
       "      <th>formal name</th>\n",
       "      <th>country</th>\n",
       "    </tr>\n",
       "    <tr>\n",
       "      <th>id</th>\n",
       "      <th></th>\n",
       "      <th></th>\n",
       "      <th></th>\n",
       "      <th></th>\n",
       "      <th></th>\n",
       "    </tr>\n",
       "  </thead>\n",
       "  <tbody>\n",
       "    <tr>\n",
       "      <th>1</th>\n",
       "      <td>Private flight</td>\n",
       "      <td>-</td>\n",
       "      <td>NaN</td>\n",
       "      <td>NaN</td>\n",
       "      <td>NaN</td>\n",
       "    </tr>\n",
       "    <tr>\n",
       "      <th>2</th>\n",
       "      <td>135 Airways</td>\n",
       "      <td>NaN</td>\n",
       "      <td>GNL</td>\n",
       "      <td>GENERAL</td>\n",
       "      <td>United States</td>\n",
       "    </tr>\n",
       "    <tr>\n",
       "      <th>3</th>\n",
       "      <td>1Time Airline</td>\n",
       "      <td>1T</td>\n",
       "      <td>RNX</td>\n",
       "      <td>NEXTIME</td>\n",
       "      <td>South Africa</td>\n",
       "    </tr>\n",
       "    <tr>\n",
       "      <th>4</th>\n",
       "      <td>2 Sqn No 1 Elementary Flying Training School</td>\n",
       "      <td>NaN</td>\n",
       "      <td>WYT</td>\n",
       "      <td>NaN</td>\n",
       "      <td>United Kingdom</td>\n",
       "    </tr>\n",
       "    <tr>\n",
       "      <th>5</th>\n",
       "      <td>213 Flight Unit</td>\n",
       "      <td>NaN</td>\n",
       "      <td>TFU</td>\n",
       "      <td>NaN</td>\n",
       "      <td>Russia</td>\n",
       "    </tr>\n",
       "    <tr>\n",
       "      <th>...</th>\n",
       "      <td>...</td>\n",
       "      <td>...</td>\n",
       "      <td>...</td>\n",
       "      <td>...</td>\n",
       "      <td>...</td>\n",
       "    </tr>\n",
       "    <tr>\n",
       "      <th>19828</th>\n",
       "      <td>Vuela Cuba</td>\n",
       "      <td>6C</td>\n",
       "      <td>6CC</td>\n",
       "      <td>NaN</td>\n",
       "      <td>Cuba</td>\n",
       "    </tr>\n",
       "    <tr>\n",
       "      <th>19830</th>\n",
       "      <td>All Australia</td>\n",
       "      <td>88</td>\n",
       "      <td>8K8</td>\n",
       "      <td>NaN</td>\n",
       "      <td>Australia</td>\n",
       "    </tr>\n",
       "    <tr>\n",
       "      <th>19831</th>\n",
       "      <td>Fly Europa</td>\n",
       "      <td>ER</td>\n",
       "      <td>RWW</td>\n",
       "      <td>NaN</td>\n",
       "      <td>Spain</td>\n",
       "    </tr>\n",
       "    <tr>\n",
       "      <th>19834</th>\n",
       "      <td>FlyPortugal</td>\n",
       "      <td>PO</td>\n",
       "      <td>FPT</td>\n",
       "      <td>FlyPortugal</td>\n",
       "      <td>Portugal</td>\n",
       "    </tr>\n",
       "    <tr>\n",
       "      <th>19845</th>\n",
       "      <td>FTI Fluggesellschaft</td>\n",
       "      <td>NaN</td>\n",
       "      <td>FTI</td>\n",
       "      <td>NaN</td>\n",
       "      <td>Germany</td>\n",
       "    </tr>\n",
       "  </tbody>\n",
       "</table>\n",
       "<p>6048 rows × 5 columns</p>\n",
       "</div>"
      ],
      "text/plain": [
       "                                           fullname 2code 3code  formal name  \\\n",
       "id                                                                             \n",
       "1                                    Private flight     -   NaN          NaN   \n",
       "2                                       135 Airways   NaN   GNL      GENERAL   \n",
       "3                                     1Time Airline    1T   RNX      NEXTIME   \n",
       "4      2 Sqn No 1 Elementary Flying Training School   NaN   WYT          NaN   \n",
       "5                                   213 Flight Unit   NaN   TFU          NaN   \n",
       "...                                             ...   ...   ...          ...   \n",
       "19828                                    Vuela Cuba    6C   6CC          NaN   \n",
       "19830                                 All Australia    88   8K8          NaN   \n",
       "19831                                    Fly Europa    ER   RWW          NaN   \n",
       "19834                                   FlyPortugal    PO   FPT  FlyPortugal   \n",
       "19845                          FTI Fluggesellschaft   NaN   FTI          NaN   \n",
       "\n",
       "              country  \n",
       "id                     \n",
       "1                 NaN  \n",
       "2       United States  \n",
       "3        South Africa  \n",
       "4      United Kingdom  \n",
       "5              Russia  \n",
       "...               ...  \n",
       "19828            Cuba  \n",
       "19830       Australia  \n",
       "19831           Spain  \n",
       "19834        Portugal  \n",
       "19845         Germany  \n",
       "\n",
       "[6048 rows x 5 columns]"
      ]
     },
     "execution_count": 75,
     "metadata": {},
     "output_type": "execute_result"
    }
   ],
   "source": [
    "df = pd.read_csv('airlines.dat', \n",
    "                header=None,   # the first row of the file is *not* a header row\n",
    "                names=['id', 'fullname', 'junk', '2code', '3code', 'formal name', 'country', 'morejunk'],\n",
    "                usecols=['id', 'fullname', '2code', '3code', 'formal name', 'country'],\n",
    "                index_col='id')\n",
    "df"
   ]
  },
  {
   "cell_type": "code",
   "execution_count": 76,
   "id": "ce13d4f4",
   "metadata": {},
   "outputs": [],
   "source": [
    "df = DataFrame([['Reuven', 'Lerner', 51],\n",
    "                ['Atara', 'Lerner-Friedman', 21],\n",
    "                ['Shikma', 'Lerner-Friedman', 19],\n",
    "                ['Amotz', 'Lerner-Friedman', 16],\n",
    "                ['John', 'Smith', 35],\n",
    "                ['David', 'Cohen', 60],\n",
    "                ['Sarah', 'Friedman', 59]                \n",
    "               ],\n",
    "              columns='פרטי משפחה גיל'.split())     # ['firstname', 'lastname', 'age']"
   ]
  },
  {
   "cell_type": "code",
   "execution_count": 77,
   "id": "e931631e",
   "metadata": {},
   "outputs": [
    {
     "data": {
      "text/html": [
       "<div>\n",
       "<style scoped>\n",
       "    .dataframe tbody tr th:only-of-type {\n",
       "        vertical-align: middle;\n",
       "    }\n",
       "\n",
       "    .dataframe tbody tr th {\n",
       "        vertical-align: top;\n",
       "    }\n",
       "\n",
       "    .dataframe thead th {\n",
       "        text-align: right;\n",
       "    }\n",
       "</style>\n",
       "<table border=\"1\" class=\"dataframe\">\n",
       "  <thead>\n",
       "    <tr style=\"text-align: right;\">\n",
       "      <th></th>\n",
       "      <th>פרטי</th>\n",
       "      <th>משפחה</th>\n",
       "      <th>גיל</th>\n",
       "    </tr>\n",
       "  </thead>\n",
       "  <tbody>\n",
       "    <tr>\n",
       "      <th>0</th>\n",
       "      <td>Reuven</td>\n",
       "      <td>Lerner</td>\n",
       "      <td>51</td>\n",
       "    </tr>\n",
       "    <tr>\n",
       "      <th>1</th>\n",
       "      <td>Atara</td>\n",
       "      <td>Lerner-Friedman</td>\n",
       "      <td>21</td>\n",
       "    </tr>\n",
       "    <tr>\n",
       "      <th>2</th>\n",
       "      <td>Shikma</td>\n",
       "      <td>Lerner-Friedman</td>\n",
       "      <td>19</td>\n",
       "    </tr>\n",
       "    <tr>\n",
       "      <th>3</th>\n",
       "      <td>Amotz</td>\n",
       "      <td>Lerner-Friedman</td>\n",
       "      <td>16</td>\n",
       "    </tr>\n",
       "    <tr>\n",
       "      <th>4</th>\n",
       "      <td>John</td>\n",
       "      <td>Smith</td>\n",
       "      <td>35</td>\n",
       "    </tr>\n",
       "  </tbody>\n",
       "</table>\n",
       "</div>"
      ],
      "text/plain": [
       "     פרטי            משפחה  גיל\n",
       "0  Reuven           Lerner   51\n",
       "1   Atara  Lerner-Friedman   21\n",
       "2  Shikma  Lerner-Friedman   19\n",
       "3   Amotz  Lerner-Friedman   16\n",
       "4    John            Smith   35"
      ]
     },
     "execution_count": 77,
     "metadata": {},
     "output_type": "execute_result"
    }
   ],
   "source": [
    "df.head()"
   ]
  },
  {
   "cell_type": "code",
   "execution_count": 78,
   "id": "9560cd9f",
   "metadata": {},
   "outputs": [],
   "source": [
    "df.to_csv('family.csv')"
   ]
  },
  {
   "cell_type": "code",
   "execution_count": 79,
   "id": "803ad9dd",
   "metadata": {},
   "outputs": [
    {
     "name": "stdout",
     "output_type": "stream",
     "text": [
      ",פרטי,משפחה,גיל\r\n",
      "0,Reuven,Lerner,51\r\n",
      "1,Atara,Lerner-Friedman,21\r\n",
      "2,Shikma,Lerner-Friedman,19\r\n",
      "3,Amotz,Lerner-Friedman,16\r\n",
      "4,John,Smith,35\r\n",
      "5,David,Cohen,60\r\n",
      "6,Sarah,Friedman,59\r\n"
     ]
    }
   ],
   "source": [
    "!cat family.csv"
   ]
  },
  {
   "cell_type": "code",
   "execution_count": 80,
   "id": "10982564",
   "metadata": {},
   "outputs": [],
   "source": [
    "df = pd.read_csv('family.csv')"
   ]
  },
  {
   "cell_type": "code",
   "execution_count": 81,
   "id": "3e764c90",
   "metadata": {},
   "outputs": [
    {
     "data": {
      "text/html": [
       "<div>\n",
       "<style scoped>\n",
       "    .dataframe tbody tr th:only-of-type {\n",
       "        vertical-align: middle;\n",
       "    }\n",
       "\n",
       "    .dataframe tbody tr th {\n",
       "        vertical-align: top;\n",
       "    }\n",
       "\n",
       "    .dataframe thead th {\n",
       "        text-align: right;\n",
       "    }\n",
       "</style>\n",
       "<table border=\"1\" class=\"dataframe\">\n",
       "  <thead>\n",
       "    <tr style=\"text-align: right;\">\n",
       "      <th></th>\n",
       "      <th>Unnamed: 0</th>\n",
       "      <th>פרטי</th>\n",
       "      <th>משפחה</th>\n",
       "      <th>גיל</th>\n",
       "    </tr>\n",
       "  </thead>\n",
       "  <tbody>\n",
       "    <tr>\n",
       "      <th>0</th>\n",
       "      <td>0</td>\n",
       "      <td>Reuven</td>\n",
       "      <td>Lerner</td>\n",
       "      <td>51</td>\n",
       "    </tr>\n",
       "    <tr>\n",
       "      <th>1</th>\n",
       "      <td>1</td>\n",
       "      <td>Atara</td>\n",
       "      <td>Lerner-Friedman</td>\n",
       "      <td>21</td>\n",
       "    </tr>\n",
       "    <tr>\n",
       "      <th>2</th>\n",
       "      <td>2</td>\n",
       "      <td>Shikma</td>\n",
       "      <td>Lerner-Friedman</td>\n",
       "      <td>19</td>\n",
       "    </tr>\n",
       "    <tr>\n",
       "      <th>3</th>\n",
       "      <td>3</td>\n",
       "      <td>Amotz</td>\n",
       "      <td>Lerner-Friedman</td>\n",
       "      <td>16</td>\n",
       "    </tr>\n",
       "    <tr>\n",
       "      <th>4</th>\n",
       "      <td>4</td>\n",
       "      <td>John</td>\n",
       "      <td>Smith</td>\n",
       "      <td>35</td>\n",
       "    </tr>\n",
       "    <tr>\n",
       "      <th>5</th>\n",
       "      <td>5</td>\n",
       "      <td>David</td>\n",
       "      <td>Cohen</td>\n",
       "      <td>60</td>\n",
       "    </tr>\n",
       "    <tr>\n",
       "      <th>6</th>\n",
       "      <td>6</td>\n",
       "      <td>Sarah</td>\n",
       "      <td>Friedman</td>\n",
       "      <td>59</td>\n",
       "    </tr>\n",
       "  </tbody>\n",
       "</table>\n",
       "</div>"
      ],
      "text/plain": [
       "   Unnamed: 0    פרטי            משפחה  גיל\n",
       "0           0  Reuven           Lerner   51\n",
       "1           1   Atara  Lerner-Friedman   21\n",
       "2           2  Shikma  Lerner-Friedman   19\n",
       "3           3   Amotz  Lerner-Friedman   16\n",
       "4           4    John            Smith   35\n",
       "5           5   David            Cohen   60\n",
       "6           6   Sarah         Friedman   59"
      ]
     },
     "execution_count": 81,
     "metadata": {},
     "output_type": "execute_result"
    }
   ],
   "source": [
    "df"
   ]
  },
  {
   "cell_type": "code",
   "execution_count": 82,
   "id": "81943b8b",
   "metadata": {},
   "outputs": [
    {
     "data": {
      "text/html": [
       "<div>\n",
       "<style scoped>\n",
       "    .dataframe tbody tr th:only-of-type {\n",
       "        vertical-align: middle;\n",
       "    }\n",
       "\n",
       "    .dataframe tbody tr th {\n",
       "        vertical-align: top;\n",
       "    }\n",
       "\n",
       "    .dataframe thead th {\n",
       "        text-align: right;\n",
       "    }\n",
       "</style>\n",
       "<table border=\"1\" class=\"dataframe\">\n",
       "  <thead>\n",
       "    <tr style=\"text-align: right;\">\n",
       "      <th></th>\n",
       "      <th>פרטי</th>\n",
       "      <th>משפחה</th>\n",
       "      <th>גיל</th>\n",
       "    </tr>\n",
       "  </thead>\n",
       "  <tbody>\n",
       "    <tr>\n",
       "      <th>0</th>\n",
       "      <td>Reuven</td>\n",
       "      <td>Lerner</td>\n",
       "      <td>51</td>\n",
       "    </tr>\n",
       "    <tr>\n",
       "      <th>1</th>\n",
       "      <td>Atara</td>\n",
       "      <td>Lerner-Friedman</td>\n",
       "      <td>21</td>\n",
       "    </tr>\n",
       "    <tr>\n",
       "      <th>2</th>\n",
       "      <td>Shikma</td>\n",
       "      <td>Lerner-Friedman</td>\n",
       "      <td>19</td>\n",
       "    </tr>\n",
       "    <tr>\n",
       "      <th>3</th>\n",
       "      <td>Amotz</td>\n",
       "      <td>Lerner-Friedman</td>\n",
       "      <td>16</td>\n",
       "    </tr>\n",
       "    <tr>\n",
       "      <th>4</th>\n",
       "      <td>John</td>\n",
       "      <td>Smith</td>\n",
       "      <td>35</td>\n",
       "    </tr>\n",
       "    <tr>\n",
       "      <th>5</th>\n",
       "      <td>David</td>\n",
       "      <td>Cohen</td>\n",
       "      <td>60</td>\n",
       "    </tr>\n",
       "    <tr>\n",
       "      <th>6</th>\n",
       "      <td>Sarah</td>\n",
       "      <td>Friedman</td>\n",
       "      <td>59</td>\n",
       "    </tr>\n",
       "  </tbody>\n",
       "</table>\n",
       "</div>"
      ],
      "text/plain": [
       "     פרטי            משפחה  גיל\n",
       "0  Reuven           Lerner   51\n",
       "1   Atara  Lerner-Friedman   21\n",
       "2  Shikma  Lerner-Friedman   19\n",
       "3   Amotz  Lerner-Friedman   16\n",
       "4    John            Smith   35\n",
       "5   David            Cohen   60\n",
       "6   Sarah         Friedman   59"
      ]
     },
     "execution_count": 82,
     "metadata": {},
     "output_type": "execute_result"
    }
   ],
   "source": [
    "df.drop('Unnamed: 0', axis='columns')"
   ]
  },
  {
   "cell_type": "code",
   "execution_count": 83,
   "id": "81f3ecae",
   "metadata": {},
   "outputs": [
    {
     "data": {
      "text/plain": [
       "0    51\n",
       "1    21\n",
       "2    19\n",
       "3    16\n",
       "4    35\n",
       "5    60\n",
       "6    59\n",
       "Name: גיל, dtype: int64"
      ]
     },
     "execution_count": 83,
     "metadata": {},
     "output_type": "execute_result"
    }
   ],
   "source": [
    "df.גיל"
   ]
  },
  {
   "cell_type": "code",
   "execution_count": 84,
   "id": "ee3fdc0c",
   "metadata": {},
   "outputs": [],
   "source": [
    "df.to_json('family.json')"
   ]
  },
  {
   "cell_type": "code",
   "execution_count": 85,
   "id": "95b063ac",
   "metadata": {},
   "outputs": [
    {
     "name": "stdout",
     "output_type": "stream",
     "text": [
      "{\"Unnamed: 0\":{\"0\":0,\"1\":1,\"2\":2,\"3\":3,\"4\":4,\"5\":5,\"6\":6},\"\\u05e4\\u05e8\\u05d8\\u05d9\":{\"0\":\"Reuven\",\"1\":\"Atara\",\"2\":\"Shikma\",\"3\":\"Amotz\",\"4\":\"John\",\"5\":\"David\",\"6\":\"Sarah\"},\"\\u05de\\u05e9\\u05e4\\u05d7\\u05d4\":{\"0\":\"Lerner\",\"1\":\"Lerner-Friedman\",\"2\":\"Lerner-Friedman\",\"3\":\"Lerner-Friedman\",\"4\":\"Smith\",\"5\":\"Cohen\",\"6\":\"Friedman\"},\"\\u05d2\\u05d9\\u05dc\":{\"0\":51,\"1\":21,\"2\":19,\"3\":16,\"4\":35,\"5\":60,\"6\":59}}"
     ]
    }
   ],
   "source": [
    "!cat family.json"
   ]
  },
  {
   "cell_type": "code",
   "execution_count": 86,
   "id": "d2e4d20c",
   "metadata": {},
   "outputs": [],
   "source": [
    "df = pd.read_json('family.json')"
   ]
  },
  {
   "cell_type": "code",
   "execution_count": 87,
   "id": "639f1c3e",
   "metadata": {},
   "outputs": [
    {
     "data": {
      "text/html": [
       "<div>\n",
       "<style scoped>\n",
       "    .dataframe tbody tr th:only-of-type {\n",
       "        vertical-align: middle;\n",
       "    }\n",
       "\n",
       "    .dataframe tbody tr th {\n",
       "        vertical-align: top;\n",
       "    }\n",
       "\n",
       "    .dataframe thead th {\n",
       "        text-align: right;\n",
       "    }\n",
       "</style>\n",
       "<table border=\"1\" class=\"dataframe\">\n",
       "  <thead>\n",
       "    <tr style=\"text-align: right;\">\n",
       "      <th></th>\n",
       "      <th>Unnamed: 0</th>\n",
       "      <th>פרטי</th>\n",
       "      <th>משפחה</th>\n",
       "      <th>גיל</th>\n",
       "    </tr>\n",
       "  </thead>\n",
       "  <tbody>\n",
       "    <tr>\n",
       "      <th>0</th>\n",
       "      <td>0</td>\n",
       "      <td>Reuven</td>\n",
       "      <td>Lerner</td>\n",
       "      <td>51</td>\n",
       "    </tr>\n",
       "    <tr>\n",
       "      <th>1</th>\n",
       "      <td>1</td>\n",
       "      <td>Atara</td>\n",
       "      <td>Lerner-Friedman</td>\n",
       "      <td>21</td>\n",
       "    </tr>\n",
       "    <tr>\n",
       "      <th>2</th>\n",
       "      <td>2</td>\n",
       "      <td>Shikma</td>\n",
       "      <td>Lerner-Friedman</td>\n",
       "      <td>19</td>\n",
       "    </tr>\n",
       "    <tr>\n",
       "      <th>3</th>\n",
       "      <td>3</td>\n",
       "      <td>Amotz</td>\n",
       "      <td>Lerner-Friedman</td>\n",
       "      <td>16</td>\n",
       "    </tr>\n",
       "    <tr>\n",
       "      <th>4</th>\n",
       "      <td>4</td>\n",
       "      <td>John</td>\n",
       "      <td>Smith</td>\n",
       "      <td>35</td>\n",
       "    </tr>\n",
       "    <tr>\n",
       "      <th>5</th>\n",
       "      <td>5</td>\n",
       "      <td>David</td>\n",
       "      <td>Cohen</td>\n",
       "      <td>60</td>\n",
       "    </tr>\n",
       "    <tr>\n",
       "      <th>6</th>\n",
       "      <td>6</td>\n",
       "      <td>Sarah</td>\n",
       "      <td>Friedman</td>\n",
       "      <td>59</td>\n",
       "    </tr>\n",
       "  </tbody>\n",
       "</table>\n",
       "</div>"
      ],
      "text/plain": [
       "   Unnamed: 0    פרטי            משפחה  גיל\n",
       "0           0  Reuven           Lerner   51\n",
       "1           1   Atara  Lerner-Friedman   21\n",
       "2           2  Shikma  Lerner-Friedman   19\n",
       "3           3   Amotz  Lerner-Friedman   16\n",
       "4           4    John            Smith   35\n",
       "5           5   David            Cohen   60\n",
       "6           6   Sarah         Friedman   59"
      ]
     },
     "execution_count": 87,
     "metadata": {},
     "output_type": "execute_result"
    }
   ],
   "source": [
    "df"
   ]
  },
  {
   "cell_type": "code",
   "execution_count": 88,
   "id": "ee614a59",
   "metadata": {
    "collapsed": true
   },
   "outputs": [
    {
     "name": "stdout",
     "output_type": "stream",
     "text": [
      "Help on function read_json in module pandas.io.json._json:\n",
      "\n",
      "read_json(path_or_buf=None, orient=None, typ='frame', dtype: 'DtypeArg | None' = None, convert_axes=None, convert_dates=True, keep_default_dates: 'bool' = True, numpy: 'bool' = False, precise_float: 'bool' = False, date_unit=None, encoding=None, encoding_errors: 'str | None' = 'strict', lines: 'bool' = False, chunksize: 'int | None' = None, compression: 'CompressionOptions' = 'infer', nrows: 'int | None' = None, storage_options: 'StorageOptions' = None)\n",
      "    Convert a JSON string to pandas object.\n",
      "    \n",
      "    Parameters\n",
      "    ----------\n",
      "    path_or_buf : a valid JSON str, path object or file-like object\n",
      "        Any valid string path is acceptable. The string could be a URL. Valid\n",
      "        URL schemes include http, ftp, s3, and file. For file URLs, a host is\n",
      "        expected. A local file could be:\n",
      "        ``file://localhost/path/to/table.json``.\n",
      "    \n",
      "        If you want to pass in a path object, pandas accepts any\n",
      "        ``os.PathLike``.\n",
      "    \n",
      "        By file-like object, we refer to objects with a ``read()`` method,\n",
      "        such as a file handle (e.g. via builtin ``open`` function)\n",
      "        or ``StringIO``.\n",
      "    orient : str\n",
      "        Indication of expected JSON string format.\n",
      "        Compatible JSON strings can be produced by ``to_json()`` with a\n",
      "        corresponding orient value.\n",
      "        The set of possible orients is:\n",
      "    \n",
      "        - ``'split'`` : dict like\n",
      "          ``{index -> [index], columns -> [columns], data -> [values]}``\n",
      "        - ``'records'`` : list like\n",
      "          ``[{column -> value}, ... , {column -> value}]``\n",
      "        - ``'index'`` : dict like ``{index -> {column -> value}}``\n",
      "        - ``'columns'`` : dict like ``{column -> {index -> value}}``\n",
      "        - ``'values'`` : just the values array\n",
      "    \n",
      "        The allowed and default values depend on the value\n",
      "        of the `typ` parameter.\n",
      "    \n",
      "        * when ``typ == 'series'``,\n",
      "    \n",
      "          - allowed orients are ``{'split','records','index'}``\n",
      "          - default is ``'index'``\n",
      "          - The Series index must be unique for orient ``'index'``.\n",
      "    \n",
      "        * when ``typ == 'frame'``,\n",
      "    \n",
      "          - allowed orients are ``{'split','records','index',\n",
      "            'columns','values', 'table'}``\n",
      "          - default is ``'columns'``\n",
      "          - The DataFrame index must be unique for orients ``'index'`` and\n",
      "            ``'columns'``.\n",
      "          - The DataFrame columns must be unique for orients ``'index'``,\n",
      "            ``'columns'``, and ``'records'``.\n",
      "    \n",
      "    typ : {'frame', 'series'}, default 'frame'\n",
      "        The type of object to recover.\n",
      "    \n",
      "    dtype : bool or dict, default None\n",
      "        If True, infer dtypes; if a dict of column to dtype, then use those;\n",
      "        if False, then don't infer dtypes at all, applies only to the data.\n",
      "    \n",
      "        For all ``orient`` values except ``'table'``, default is True.\n",
      "    \n",
      "        .. versionchanged:: 0.25.0\n",
      "    \n",
      "           Not applicable for ``orient='table'``.\n",
      "    \n",
      "    convert_axes : bool, default None\n",
      "        Try to convert the axes to the proper dtypes.\n",
      "    \n",
      "        For all ``orient`` values except ``'table'``, default is True.\n",
      "    \n",
      "        .. versionchanged:: 0.25.0\n",
      "    \n",
      "           Not applicable for ``orient='table'``.\n",
      "    \n",
      "    convert_dates : bool or list of str, default True\n",
      "        If True then default datelike columns may be converted (depending on\n",
      "        keep_default_dates).\n",
      "        If False, no dates will be converted.\n",
      "        If a list of column names, then those columns will be converted and\n",
      "        default datelike columns may also be converted (depending on\n",
      "        keep_default_dates).\n",
      "    \n",
      "    keep_default_dates : bool, default True\n",
      "        If parsing dates (convert_dates is not False), then try to parse the\n",
      "        default datelike columns.\n",
      "        A column label is datelike if\n",
      "    \n",
      "        * it ends with ``'_at'``,\n",
      "    \n",
      "        * it ends with ``'_time'``,\n",
      "    \n",
      "        * it begins with ``'timestamp'``,\n",
      "    \n",
      "        * it is ``'modified'``, or\n",
      "    \n",
      "        * it is ``'date'``.\n",
      "    \n",
      "    numpy : bool, default False\n",
      "        Direct decoding to numpy arrays. Supports numeric data only, but\n",
      "        non-numeric column and index labels are supported. Note also that the\n",
      "        JSON ordering MUST be the same for each term if numpy=True.\n",
      "    \n",
      "        .. deprecated:: 1.0.0\n",
      "    \n",
      "    precise_float : bool, default False\n",
      "        Set to enable usage of higher precision (strtod) function when\n",
      "        decoding string to double values. Default (False) is to use fast but\n",
      "        less precise builtin functionality.\n",
      "    \n",
      "    date_unit : str, default None\n",
      "        The timestamp unit to detect if converting dates. The default behaviour\n",
      "        is to try and detect the correct precision, but if this is not desired\n",
      "        then pass one of 's', 'ms', 'us' or 'ns' to force parsing only seconds,\n",
      "        milliseconds, microseconds or nanoseconds respectively.\n",
      "    \n",
      "    encoding : str, default is 'utf-8'\n",
      "        The encoding to use to decode py3 bytes.\n",
      "    \n",
      "    encoding_errors : str, optional, default \"strict\"\n",
      "        How encoding errors are treated. `List of possible values\n",
      "        <https://docs.python.org/3/library/codecs.html#error-handlers>`_ .\n",
      "    \n",
      "        .. versionadded:: 1.3.0\n",
      "    \n",
      "    lines : bool, default False\n",
      "        Read the file as a json object per line.\n",
      "    \n",
      "    chunksize : int, optional\n",
      "        Return JsonReader object for iteration.\n",
      "        See the `line-delimited json docs\n",
      "        <https://pandas.pydata.org/pandas-docs/stable/user_guide/io.html#line-delimited-json>`_\n",
      "        for more information on ``chunksize``.\n",
      "        This can only be passed if `lines=True`.\n",
      "        If this is None, the file will be read into memory all at once.\n",
      "    \n",
      "        .. versionchanged:: 1.2\n",
      "    \n",
      "           ``JsonReader`` is a context manager.\n",
      "    \n",
      "    compression : str or dict, default 'infer'\n",
      "        For on-the-fly decompression of on-disk data. If 'infer' and 'path_or_buf' is\n",
      "        path-like, then detect compression from the following extensions: '.gz',\n",
      "        '.bz2', '.zip', '.xz', or '.zst' (otherwise no compression). If using\n",
      "        'zip', the ZIP file must contain only one data file to be read in. Set to\n",
      "        ``None`` for no decompression. Can also be a dict with key ``'method'`` set\n",
      "        to one of {``'zip'``, ``'gzip'``, ``'bz2'``, ``'zstd'``} and other\n",
      "        key-value pairs are forwarded to ``zipfile.ZipFile``, ``gzip.GzipFile``,\n",
      "        ``bz2.BZ2File``, or ``zstandard.ZstdDecompressor``, respectively. As an\n",
      "        example, the following could be passed for Zstandard decompression using a\n",
      "        custom compression dictionary:\n",
      "        ``compression={'method': 'zstd', 'dict_data': my_compression_dict}``.\n",
      "    \n",
      "        .. versionchanged:: 1.4.0 Zstandard support.\n",
      "    \n",
      "    nrows : int, optional\n",
      "        The number of lines from the line-delimited jsonfile that has to be read.\n",
      "        This can only be passed if `lines=True`.\n",
      "        If this is None, all the rows will be returned.\n",
      "    \n",
      "        .. versionadded:: 1.1\n",
      "    \n",
      "    storage_options : dict, optional\n",
      "        Extra options that make sense for a particular storage connection, e.g.\n",
      "        host, port, username, password, etc. For HTTP(S) URLs the key-value pairs\n",
      "        are forwarded to ``urllib`` as header options. For other URLs (e.g.\n",
      "        starting with \"s3://\", and \"gcs://\") the key-value pairs are forwarded to\n",
      "        ``fsspec``. Please see ``fsspec`` and ``urllib`` for more details.\n",
      "    \n",
      "        .. versionadded:: 1.2.0\n",
      "    \n",
      "    Returns\n",
      "    -------\n",
      "    Series or DataFrame\n",
      "        The type returned depends on the value of `typ`.\n",
      "    \n",
      "    See Also\n",
      "    --------\n",
      "    DataFrame.to_json : Convert a DataFrame to a JSON string.\n",
      "    Series.to_json : Convert a Series to a JSON string.\n",
      "    json_normalize : Normalize semi-structured JSON data into a flat table.\n",
      "    \n",
      "    Notes\n",
      "    -----\n",
      "    Specific to ``orient='table'``, if a :class:`DataFrame` with a literal\n",
      "    :class:`Index` name of `index` gets written with :func:`to_json`, the\n",
      "    subsequent read operation will incorrectly set the :class:`Index` name to\n",
      "    ``None``. This is because `index` is also used by :func:`DataFrame.to_json`\n",
      "    to denote a missing :class:`Index` name, and the subsequent\n",
      "    :func:`read_json` operation cannot distinguish between the two. The same\n",
      "    limitation is encountered with a :class:`MultiIndex` and any names\n",
      "    beginning with ``'level_'``.\n",
      "    \n",
      "    Examples\n",
      "    --------\n",
      "    >>> df = pd.DataFrame([['a', 'b'], ['c', 'd']],\n",
      "    ...                   index=['row 1', 'row 2'],\n",
      "    ...                   columns=['col 1', 'col 2'])\n",
      "    \n",
      "    Encoding/decoding a Dataframe using ``'split'`` formatted JSON:\n",
      "    \n",
      "    >>> df.to_json(orient='split')\n",
      "        '{\"columns\":[\"col 1\",\"col 2\"],\"index\":[\"row 1\",\"row 2\"],\"data\":[[\"a\",\"b\"],[\"c\",\"d\"]]}'\n",
      "    >>> pd.read_json(_, orient='split')\n",
      "          col 1 col 2\n",
      "    row 1     a     b\n",
      "    row 2     c     d\n",
      "    \n",
      "    Encoding/decoding a Dataframe using ``'index'`` formatted JSON:\n",
      "    \n",
      "    >>> df.to_json(orient='index')\n",
      "    '{\"row 1\":{\"col 1\":\"a\",\"col 2\":\"b\"},\"row 2\":{\"col 1\":\"c\",\"col 2\":\"d\"}}'\n",
      "    \n",
      "    >>> pd.read_json(_, orient='index')\n",
      "          col 1 col 2\n",
      "    row 1     a     b\n",
      "    row 2     c     d\n",
      "    \n",
      "    Encoding/decoding a Dataframe using ``'records'`` formatted JSON.\n",
      "    Note that index labels are not preserved with this encoding.\n",
      "    \n",
      "    >>> df.to_json(orient='records')\n",
      "    '[{\"col 1\":\"a\",\"col 2\":\"b\"},{\"col 1\":\"c\",\"col 2\":\"d\"}]'\n",
      "    >>> pd.read_json(_, orient='records')\n",
      "      col 1 col 2\n",
      "    0     a     b\n",
      "    1     c     d\n",
      "    \n",
      "    Encoding with Table Schema\n",
      "    \n",
      "    >>> df.to_json(orient='table')\n",
      "        '{\"schema\":{\"fields\":[{\"name\":\"index\",\"type\":\"string\"},{\"name\":\"col 1\",\"type\":\"string\"},{\"name\":\"col 2\",\"type\":\"string\"}],\"primaryKey\":[\"index\"],\"pandas_version\":\"1.4.0\"},\"data\":[{\"index\":\"row 1\",\"col 1\":\"a\",\"col 2\":\"b\"},{\"index\":\"row 2\",\"col 1\":\"c\",\"col 2\":\"d\"}]}'\n",
      "\n"
     ]
    }
   ],
   "source": [
    "help(pd.read_json)"
   ]
  },
  {
   "cell_type": "markdown",
   "id": "50f1521b",
   "metadata": {},
   "source": [
    "# Exercise: Big cities\n",
    "\n",
    "1. Read `cities.json` into a data frame. (I'll give you the URL for this file, containing the 1,000 largest cities in the United States.)\n",
    "\n",
    "Don't forget that `pd.read_csv` and `pd.read_json` take URLs, not just filenames, as a first argument.\n",
    "\n",
    "2. What are the mean and median populations for these cities?\n",
    "4. What if we remove the 50 most populous cities from these calculations? Does the mean change?  Does the median change?  (You can get this by looking for a rank of >=50.)\n",
    "5. What is the northernmost city in this data set?\n",
    "6. Which state has the most cities in this list? Which has the fewest?"
   ]
  },
  {
   "cell_type": "code",
   "execution_count": 89,
   "id": "c2b3e6c9",
   "metadata": {},
   "outputs": [],
   "source": [
    "url = 'https://gist.githubusercontent.com/reuven/77edbb0292901f35019f17edb9794358/raw/2bf258763cdddd704f8ffd3ea9a3e81d25e2c6f6/cities.json'\n",
    "\n",
    "df = pd.read_json(url)"
   ]
  },
  {
   "cell_type": "code",
   "execution_count": 90,
   "id": "d19c26d4",
   "metadata": {},
   "outputs": [
    {
     "data": {
      "text/html": [
       "<div>\n",
       "<style scoped>\n",
       "    .dataframe tbody tr th:only-of-type {\n",
       "        vertical-align: middle;\n",
       "    }\n",
       "\n",
       "    .dataframe tbody tr th {\n",
       "        vertical-align: top;\n",
       "    }\n",
       "\n",
       "    .dataframe thead th {\n",
       "        text-align: right;\n",
       "    }\n",
       "</style>\n",
       "<table border=\"1\" class=\"dataframe\">\n",
       "  <thead>\n",
       "    <tr style=\"text-align: right;\">\n",
       "      <th></th>\n",
       "      <th>city</th>\n",
       "      <th>growth_from_2000_to_2013</th>\n",
       "      <th>latitude</th>\n",
       "      <th>longitude</th>\n",
       "      <th>population</th>\n",
       "      <th>rank</th>\n",
       "      <th>state</th>\n",
       "    </tr>\n",
       "  </thead>\n",
       "  <tbody>\n",
       "    <tr>\n",
       "      <th>0</th>\n",
       "      <td>New York</td>\n",
       "      <td>4.8%</td>\n",
       "      <td>40.712784</td>\n",
       "      <td>-74.005941</td>\n",
       "      <td>8405837</td>\n",
       "      <td>1</td>\n",
       "      <td>New York</td>\n",
       "    </tr>\n",
       "    <tr>\n",
       "      <th>1</th>\n",
       "      <td>Los Angeles</td>\n",
       "      <td>4.8%</td>\n",
       "      <td>34.052234</td>\n",
       "      <td>-118.243685</td>\n",
       "      <td>3884307</td>\n",
       "      <td>2</td>\n",
       "      <td>California</td>\n",
       "    </tr>\n",
       "    <tr>\n",
       "      <th>2</th>\n",
       "      <td>Chicago</td>\n",
       "      <td>-6.1%</td>\n",
       "      <td>41.878114</td>\n",
       "      <td>-87.629798</td>\n",
       "      <td>2718782</td>\n",
       "      <td>3</td>\n",
       "      <td>Illinois</td>\n",
       "    </tr>\n",
       "    <tr>\n",
       "      <th>3</th>\n",
       "      <td>Houston</td>\n",
       "      <td>11.0%</td>\n",
       "      <td>29.760427</td>\n",
       "      <td>-95.369803</td>\n",
       "      <td>2195914</td>\n",
       "      <td>4</td>\n",
       "      <td>Texas</td>\n",
       "    </tr>\n",
       "    <tr>\n",
       "      <th>4</th>\n",
       "      <td>Philadelphia</td>\n",
       "      <td>2.6%</td>\n",
       "      <td>39.952584</td>\n",
       "      <td>-75.165222</td>\n",
       "      <td>1553165</td>\n",
       "      <td>5</td>\n",
       "      <td>Pennsylvania</td>\n",
       "    </tr>\n",
       "  </tbody>\n",
       "</table>\n",
       "</div>"
      ],
      "text/plain": [
       "           city growth_from_2000_to_2013   latitude   longitude  population  \\\n",
       "0      New York                     4.8%  40.712784  -74.005941     8405837   \n",
       "1   Los Angeles                     4.8%  34.052234 -118.243685     3884307   \n",
       "2       Chicago                    -6.1%  41.878114  -87.629798     2718782   \n",
       "3       Houston                    11.0%  29.760427  -95.369803     2195914   \n",
       "4  Philadelphia                     2.6%  39.952584  -75.165222     1553165   \n",
       "\n",
       "   rank         state  \n",
       "0     1      New York  \n",
       "1     2    California  \n",
       "2     3      Illinois  \n",
       "3     4         Texas  \n",
       "4     5  Pennsylvania  "
      ]
     },
     "execution_count": 90,
     "metadata": {},
     "output_type": "execute_result"
    }
   ],
   "source": [
    "df.head()"
   ]
  },
  {
   "cell_type": "code",
   "execution_count": 91,
   "id": "2382bbbc",
   "metadata": {},
   "outputs": [
    {
     "data": {
      "text/plain": [
       "131132.443"
      ]
     },
     "execution_count": 91,
     "metadata": {},
     "output_type": "execute_result"
    }
   ],
   "source": [
    "# what are the mean and median populations for these cities?\n",
    "\n",
    "df['population'].mean()"
   ]
  },
  {
   "cell_type": "code",
   "execution_count": 92,
   "id": "217b5738",
   "metadata": {},
   "outputs": [
    {
     "data": {
      "text/plain": [
       "68207.0"
      ]
     },
     "execution_count": 92,
     "metadata": {},
     "output_type": "execute_result"
    }
   ],
   "source": [
    "df['population'].median()"
   ]
  },
  {
   "cell_type": "code",
   "execution_count": 93,
   "id": "3e7e2894",
   "metadata": {},
   "outputs": [
    {
     "data": {
      "text/plain": [
       "68207.0"
      ]
     },
     "execution_count": 93,
     "metadata": {},
     "output_type": "execute_result"
    }
   ],
   "source": [
    "df['population'].quantile(0.5)"
   ]
  },
  {
   "cell_type": "code",
   "execution_count": 94,
   "id": "93ae4110",
   "metadata": {},
   "outputs": [
    {
     "data": {
      "text/plain": [
       "count    1.000000e+03\n",
       "mean     1.311324e+05\n",
       "std      3.416902e+05\n",
       "min      3.687700e+04\n",
       "25%      4.969775e+04\n",
       "50%      6.820700e+04\n",
       "75%      1.098850e+05\n",
       "max      8.405837e+06\n",
       "Name: population, dtype: float64"
      ]
     },
     "execution_count": 94,
     "metadata": {},
     "output_type": "execute_result"
    }
   ],
   "source": [
    "df['population'].describe()"
   ]
  },
  {
   "cell_type": "code",
   "execution_count": 98,
   "id": "b87f0777",
   "metadata": {},
   "outputs": [
    {
     "data": {
      "text/plain": [
       "mean      131132.443\n",
       "median     68207.000\n",
       "Name: population, dtype: float64"
      ]
     },
     "execution_count": 98,
     "metadata": {},
     "output_type": "execute_result"
    }
   ],
   "source": [
    "df['population'].agg(['mean', 'median'])"
   ]
  },
  {
   "cell_type": "code",
   "execution_count": 102,
   "id": "a03ad2a6",
   "metadata": {},
   "outputs": [
    {
     "data": {
      "text/plain": [
       "mean      87027.387368\n",
       "median    65796.000000\n",
       "Name: population, dtype: float64"
      ]
     },
     "execution_count": 102,
     "metadata": {},
     "output_type": "execute_result"
    }
   ],
   "source": [
    "# remove the 50 most populous cities.  Do the mean and median change?\n",
    "#       row selector ,     column selector \n",
    "df.loc[df['rank'] > 50,   'population'].agg(['mean', 'median'])"
   ]
  },
  {
   "cell_type": "code",
   "execution_count": 103,
   "id": "a022c33e",
   "metadata": {},
   "outputs": [
    {
     "data": {
      "text/plain": [
       "mean      76823.707778\n",
       "median    63308.500000\n",
       "Name: population, dtype: float64"
      ]
     },
     "execution_count": 103,
     "metadata": {},
     "output_type": "execute_result"
    }
   ],
   "source": [
    "df.loc[df['rank'] > 100,   'population'].agg(['mean', 'median'])"
   ]
  },
  {
   "cell_type": "code",
   "execution_count": 104,
   "id": "abea75ca",
   "metadata": {},
   "outputs": [
    {
     "data": {
      "text/html": [
       "<div>\n",
       "<style scoped>\n",
       "    .dataframe tbody tr th:only-of-type {\n",
       "        vertical-align: middle;\n",
       "    }\n",
       "\n",
       "    .dataframe tbody tr th {\n",
       "        vertical-align: top;\n",
       "    }\n",
       "\n",
       "    .dataframe thead th {\n",
       "        text-align: right;\n",
       "    }\n",
       "</style>\n",
       "<table border=\"1\" class=\"dataframe\">\n",
       "  <thead>\n",
       "    <tr style=\"text-align: right;\">\n",
       "      <th></th>\n",
       "      <th>city</th>\n",
       "      <th>growth_from_2000_to_2013</th>\n",
       "      <th>latitude</th>\n",
       "      <th>longitude</th>\n",
       "      <th>population</th>\n",
       "      <th>rank</th>\n",
       "      <th>state</th>\n",
       "    </tr>\n",
       "  </thead>\n",
       "  <tbody>\n",
       "    <tr>\n",
       "      <th>100</th>\n",
       "      <td>Birmingham</td>\n",
       "      <td>-12.3%</td>\n",
       "      <td>33.520661</td>\n",
       "      <td>-86.802490</td>\n",
       "      <td>212113</td>\n",
       "      <td>101</td>\n",
       "      <td>Alabama</td>\n",
       "    </tr>\n",
       "    <tr>\n",
       "      <th>101</th>\n",
       "      <td>Spokane</td>\n",
       "      <td>7.0%</td>\n",
       "      <td>47.658780</td>\n",
       "      <td>-117.426047</td>\n",
       "      <td>210721</td>\n",
       "      <td>102</td>\n",
       "      <td>Washington</td>\n",
       "    </tr>\n",
       "    <tr>\n",
       "      <th>102</th>\n",
       "      <td>Rochester</td>\n",
       "      <td>-4.1%</td>\n",
       "      <td>43.161030</td>\n",
       "      <td>-77.610922</td>\n",
       "      <td>210358</td>\n",
       "      <td>103</td>\n",
       "      <td>New York</td>\n",
       "    </tr>\n",
       "    <tr>\n",
       "      <th>103</th>\n",
       "      <td>Des Moines</td>\n",
       "      <td>3.9%</td>\n",
       "      <td>41.600545</td>\n",
       "      <td>-93.609106</td>\n",
       "      <td>207510</td>\n",
       "      <td>104</td>\n",
       "      <td>Iowa</td>\n",
       "    </tr>\n",
       "    <tr>\n",
       "      <th>104</th>\n",
       "      <td>Modesto</td>\n",
       "      <td>7.7%</td>\n",
       "      <td>37.639097</td>\n",
       "      <td>-120.996878</td>\n",
       "      <td>204933</td>\n",
       "      <td>105</td>\n",
       "      <td>California</td>\n",
       "    </tr>\n",
       "  </tbody>\n",
       "</table>\n",
       "</div>"
      ],
      "text/plain": [
       "           city growth_from_2000_to_2013   latitude   longitude  population  \\\n",
       "100  Birmingham                   -12.3%  33.520661  -86.802490      212113   \n",
       "101     Spokane                     7.0%  47.658780 -117.426047      210721   \n",
       "102   Rochester                    -4.1%  43.161030  -77.610922      210358   \n",
       "103  Des Moines                     3.9%  41.600545  -93.609106      207510   \n",
       "104     Modesto                     7.7%  37.639097 -120.996878      204933   \n",
       "\n",
       "     rank       state  \n",
       "100   101     Alabama  \n",
       "101   102  Washington  \n",
       "102   103    New York  \n",
       "103   104        Iowa  \n",
       "104   105  California  "
      ]
     },
     "execution_count": 104,
     "metadata": {},
     "output_type": "execute_result"
    }
   ],
   "source": [
    "df.loc[df['rank'] > 100].head()"
   ]
  },
  {
   "cell_type": "code",
   "execution_count": 106,
   "id": "4f682e59",
   "metadata": {},
   "outputs": [
    {
     "data": {
      "text/html": [
       "<div>\n",
       "<style scoped>\n",
       "    .dataframe tbody tr th:only-of-type {\n",
       "        vertical-align: middle;\n",
       "    }\n",
       "\n",
       "    .dataframe tbody tr th {\n",
       "        vertical-align: top;\n",
       "    }\n",
       "\n",
       "    .dataframe thead th {\n",
       "        text-align: right;\n",
       "    }\n",
       "</style>\n",
       "<table border=\"1\" class=\"dataframe\">\n",
       "  <thead>\n",
       "    <tr style=\"text-align: right;\">\n",
       "      <th></th>\n",
       "      <th>city</th>\n",
       "      <th>growth_from_2000_to_2013</th>\n",
       "      <th>latitude</th>\n",
       "      <th>longitude</th>\n",
       "      <th>population</th>\n",
       "      <th>rank</th>\n",
       "      <th>state</th>\n",
       "    </tr>\n",
       "  </thead>\n",
       "  <tbody>\n",
       "    <tr>\n",
       "      <th>62</th>\n",
       "      <td>Anchorage</td>\n",
       "      <td>15.4%</td>\n",
       "      <td>61.218056</td>\n",
       "      <td>-149.900278</td>\n",
       "      <td>300950</td>\n",
       "      <td>63</td>\n",
       "      <td>Alaska</td>\n",
       "    </tr>\n",
       "  </tbody>\n",
       "</table>\n",
       "</div>"
      ],
      "text/plain": [
       "         city growth_from_2000_to_2013   latitude   longitude  population  \\\n",
       "62  Anchorage                    15.4%  61.218056 -149.900278      300950   \n",
       "\n",
       "    rank   state  \n",
       "62    63  Alaska  "
      ]
     },
     "execution_count": 106,
     "metadata": {},
     "output_type": "execute_result"
    }
   ],
   "source": [
    "# what is the northernmost city in this data set?\n",
    "# this would mean the greatest number for latitude\n",
    "\n",
    "df.loc[df['latitude'] == df['latitude'].max()]"
   ]
  },
  {
   "cell_type": "code",
   "execution_count": 107,
   "id": "8d474ca8",
   "metadata": {},
   "outputs": [
    {
     "data": {
      "text/plain": [
       "California              212\n",
       "Texas                    83\n",
       "Florida                  73\n",
       "Illinois                 52\n",
       "Massachusetts            36\n",
       "Ohio                     33\n",
       "Michigan                 31\n",
       "Washington               28\n",
       "Arizona                  25\n",
       "Minnesota                24\n",
       "North Carolina           22\n",
       "New Jersey               22\n",
       "Indiana                  21\n",
       "Colorado                 21\n",
       "Wisconsin                20\n",
       "Utah                     19\n",
       "Georgia                  18\n",
       "Virginia                 17\n",
       "New York                 17\n",
       "Tennessee                17\n",
       "Missouri                 16\n",
       "Connecticut              15\n",
       "Oregon                   14\n",
       "Pennsylvania             13\n",
       "Iowa                     13\n",
       "South Carolina           12\n",
       "Alabama                  12\n",
       "Kansas                   11\n",
       "Oklahoma                 11\n",
       "Arkansas                 10\n",
       "Louisiana                 9\n",
       "Idaho                     8\n",
       "Maryland                  7\n",
       "New Mexico                7\n",
       "Mississippi               6\n",
       "Rhode Island              6\n",
       "Nevada                    6\n",
       "Kentucky                  5\n",
       "Nebraska                  4\n",
       "North Dakota              4\n",
       "Montana                   4\n",
       "New Hampshire             3\n",
       "South Dakota              2\n",
       "Delaware                  2\n",
       "Wyoming                   2\n",
       "West Virginia             2\n",
       "Alaska                    1\n",
       "Hawaii                    1\n",
       "District of Columbia      1\n",
       "Maine                     1\n",
       "Vermont                   1\n",
       "Name: state, dtype: int64"
      ]
     },
     "execution_count": 107,
     "metadata": {},
     "output_type": "execute_result"
    }
   ],
   "source": [
    "# which state has the most (and the fewest) cities in our \"big city\" list?\n",
    "\n",
    "df['state'].value_counts()"
   ]
  },
  {
   "cell_type": "markdown",
   "id": "32d59037",
   "metadata": {},
   "source": [
    "# Next up\n",
    "\n",
    "1. Cleaning data: Removing `nan` and interpolating\n",
    "2. Analysis tools\n",
    "    - Cutting\n",
    "    - Categories\n",
    "    - Sorting\n",
    "    - Grouping\n",
    "\n",
    "Resume at :50"
   ]
  },
  {
   "cell_type": "code",
   "execution_count": 108,
   "id": "486d5fe1",
   "metadata": {},
   "outputs": [
    {
     "data": {
      "text/html": [
       "<div>\n",
       "<style scoped>\n",
       "    .dataframe tbody tr th:only-of-type {\n",
       "        vertical-align: middle;\n",
       "    }\n",
       "\n",
       "    .dataframe tbody tr th {\n",
       "        vertical-align: top;\n",
       "    }\n",
       "\n",
       "    .dataframe thead th {\n",
       "        text-align: right;\n",
       "    }\n",
       "</style>\n",
       "<table border=\"1\" class=\"dataframe\">\n",
       "  <thead>\n",
       "    <tr style=\"text-align: right;\">\n",
       "      <th></th>\n",
       "      <th>a</th>\n",
       "      <th>b</th>\n",
       "      <th>c</th>\n",
       "      <th>d</th>\n",
       "    </tr>\n",
       "  </thead>\n",
       "  <tbody>\n",
       "    <tr>\n",
       "      <th>v</th>\n",
       "      <td>44</td>\n",
       "      <td>47</td>\n",
       "      <td>64</td>\n",
       "      <td>67</td>\n",
       "    </tr>\n",
       "    <tr>\n",
       "      <th>w</th>\n",
       "      <td>67</td>\n",
       "      <td>9</td>\n",
       "      <td>83</td>\n",
       "      <td>21</td>\n",
       "    </tr>\n",
       "    <tr>\n",
       "      <th>x</th>\n",
       "      <td>36</td>\n",
       "      <td>87</td>\n",
       "      <td>70</td>\n",
       "      <td>88</td>\n",
       "    </tr>\n",
       "    <tr>\n",
       "      <th>y</th>\n",
       "      <td>88</td>\n",
       "      <td>12</td>\n",
       "      <td>58</td>\n",
       "      <td>65</td>\n",
       "    </tr>\n",
       "    <tr>\n",
       "      <th>z</th>\n",
       "      <td>39</td>\n",
       "      <td>87</td>\n",
       "      <td>46</td>\n",
       "      <td>88</td>\n",
       "    </tr>\n",
       "  </tbody>\n",
       "</table>\n",
       "</div>"
      ],
      "text/plain": [
       "    a   b   c   d\n",
       "v  44  47  64  67\n",
       "w  67   9  83  21\n",
       "x  36  87  70  88\n",
       "y  88  12  58  65\n",
       "z  39  87  46  88"
      ]
     },
     "execution_count": 108,
     "metadata": {},
     "output_type": "execute_result"
    }
   ],
   "source": [
    "np.random.seed(0)\n",
    "df = DataFrame(np.random.randint(0, 100, [5,4]),\n",
    "              index=list('vwxyz'),\n",
    "              columns=list('abcd'))\n",
    "df"
   ]
  },
  {
   "cell_type": "code",
   "execution_count": 109,
   "id": "0c651594",
   "metadata": {},
   "outputs": [],
   "source": [
    "df.loc['v', ['c', 'd']] = np.nan\n",
    "df.loc['x', ['a', 'b', 'c']] = np.nan\n",
    "df.loc['z', 'd'] = np.nan\n"
   ]
  },
  {
   "cell_type": "code",
   "execution_count": 110,
   "id": "d7019f43",
   "metadata": {},
   "outputs": [
    {
     "data": {
      "text/html": [
       "<div>\n",
       "<style scoped>\n",
       "    .dataframe tbody tr th:only-of-type {\n",
       "        vertical-align: middle;\n",
       "    }\n",
       "\n",
       "    .dataframe tbody tr th {\n",
       "        vertical-align: top;\n",
       "    }\n",
       "\n",
       "    .dataframe thead th {\n",
       "        text-align: right;\n",
       "    }\n",
       "</style>\n",
       "<table border=\"1\" class=\"dataframe\">\n",
       "  <thead>\n",
       "    <tr style=\"text-align: right;\">\n",
       "      <th></th>\n",
       "      <th>a</th>\n",
       "      <th>b</th>\n",
       "      <th>c</th>\n",
       "      <th>d</th>\n",
       "    </tr>\n",
       "  </thead>\n",
       "  <tbody>\n",
       "    <tr>\n",
       "      <th>v</th>\n",
       "      <td>44.0</td>\n",
       "      <td>47.0</td>\n",
       "      <td>NaN</td>\n",
       "      <td>NaN</td>\n",
       "    </tr>\n",
       "    <tr>\n",
       "      <th>w</th>\n",
       "      <td>67.0</td>\n",
       "      <td>9.0</td>\n",
       "      <td>83.0</td>\n",
       "      <td>21.0</td>\n",
       "    </tr>\n",
       "    <tr>\n",
       "      <th>x</th>\n",
       "      <td>NaN</td>\n",
       "      <td>NaN</td>\n",
       "      <td>NaN</td>\n",
       "      <td>88.0</td>\n",
       "    </tr>\n",
       "    <tr>\n",
       "      <th>y</th>\n",
       "      <td>88.0</td>\n",
       "      <td>12.0</td>\n",
       "      <td>58.0</td>\n",
       "      <td>65.0</td>\n",
       "    </tr>\n",
       "    <tr>\n",
       "      <th>z</th>\n",
       "      <td>39.0</td>\n",
       "      <td>87.0</td>\n",
       "      <td>46.0</td>\n",
       "      <td>NaN</td>\n",
       "    </tr>\n",
       "  </tbody>\n",
       "</table>\n",
       "</div>"
      ],
      "text/plain": [
       "      a     b     c     d\n",
       "v  44.0  47.0   NaN   NaN\n",
       "w  67.0   9.0  83.0  21.0\n",
       "x   NaN   NaN   NaN  88.0\n",
       "y  88.0  12.0  58.0  65.0\n",
       "z  39.0  87.0  46.0   NaN"
      ]
     },
     "execution_count": 110,
     "metadata": {},
     "output_type": "execute_result"
    }
   ],
   "source": [
    "df"
   ]
  },
  {
   "cell_type": "code",
   "execution_count": 111,
   "id": "e6c19dec",
   "metadata": {},
   "outputs": [
    {
     "data": {
      "text/html": [
       "<div>\n",
       "<style scoped>\n",
       "    .dataframe tbody tr th:only-of-type {\n",
       "        vertical-align: middle;\n",
       "    }\n",
       "\n",
       "    .dataframe tbody tr th {\n",
       "        vertical-align: top;\n",
       "    }\n",
       "\n",
       "    .dataframe thead th {\n",
       "        text-align: right;\n",
       "    }\n",
       "</style>\n",
       "<table border=\"1\" class=\"dataframe\">\n",
       "  <thead>\n",
       "    <tr style=\"text-align: right;\">\n",
       "      <th></th>\n",
       "      <th>a</th>\n",
       "      <th>b</th>\n",
       "      <th>c</th>\n",
       "      <th>d</th>\n",
       "    </tr>\n",
       "  </thead>\n",
       "  <tbody>\n",
       "    <tr>\n",
       "      <th>count</th>\n",
       "      <td>4.000000</td>\n",
       "      <td>4.00</td>\n",
       "      <td>3.000000</td>\n",
       "      <td>3.000000</td>\n",
       "    </tr>\n",
       "    <tr>\n",
       "      <th>mean</th>\n",
       "      <td>59.500000</td>\n",
       "      <td>38.75</td>\n",
       "      <td>62.333333</td>\n",
       "      <td>58.000000</td>\n",
       "    </tr>\n",
       "    <tr>\n",
       "      <th>std</th>\n",
       "      <td>22.575798</td>\n",
       "      <td>36.50</td>\n",
       "      <td>18.876794</td>\n",
       "      <td>34.044089</td>\n",
       "    </tr>\n",
       "    <tr>\n",
       "      <th>min</th>\n",
       "      <td>39.000000</td>\n",
       "      <td>9.00</td>\n",
       "      <td>46.000000</td>\n",
       "      <td>21.000000</td>\n",
       "    </tr>\n",
       "    <tr>\n",
       "      <th>25%</th>\n",
       "      <td>42.750000</td>\n",
       "      <td>11.25</td>\n",
       "      <td>52.000000</td>\n",
       "      <td>43.000000</td>\n",
       "    </tr>\n",
       "    <tr>\n",
       "      <th>50%</th>\n",
       "      <td>55.500000</td>\n",
       "      <td>29.50</td>\n",
       "      <td>58.000000</td>\n",
       "      <td>65.000000</td>\n",
       "    </tr>\n",
       "    <tr>\n",
       "      <th>75%</th>\n",
       "      <td>72.250000</td>\n",
       "      <td>57.00</td>\n",
       "      <td>70.500000</td>\n",
       "      <td>76.500000</td>\n",
       "    </tr>\n",
       "    <tr>\n",
       "      <th>max</th>\n",
       "      <td>88.000000</td>\n",
       "      <td>87.00</td>\n",
       "      <td>83.000000</td>\n",
       "      <td>88.000000</td>\n",
       "    </tr>\n",
       "  </tbody>\n",
       "</table>\n",
       "</div>"
      ],
      "text/plain": [
       "               a      b          c          d\n",
       "count   4.000000   4.00   3.000000   3.000000\n",
       "mean   59.500000  38.75  62.333333  58.000000\n",
       "std    22.575798  36.50  18.876794  34.044089\n",
       "min    39.000000   9.00  46.000000  21.000000\n",
       "25%    42.750000  11.25  52.000000  43.000000\n",
       "50%    55.500000  29.50  58.000000  65.000000\n",
       "75%    72.250000  57.00  70.500000  76.500000\n",
       "max    88.000000  87.00  83.000000  88.000000"
      ]
     },
     "execution_count": 111,
     "metadata": {},
     "output_type": "execute_result"
    }
   ],
   "source": [
    "df.describe()"
   ]
  },
  {
   "cell_type": "code",
   "execution_count": 112,
   "id": "a9a44d26",
   "metadata": {},
   "outputs": [
    {
     "data": {
      "text/html": [
       "<div>\n",
       "<style scoped>\n",
       "    .dataframe tbody tr th:only-of-type {\n",
       "        vertical-align: middle;\n",
       "    }\n",
       "\n",
       "    .dataframe tbody tr th {\n",
       "        vertical-align: top;\n",
       "    }\n",
       "\n",
       "    .dataframe thead th {\n",
       "        text-align: right;\n",
       "    }\n",
       "</style>\n",
       "<table border=\"1\" class=\"dataframe\">\n",
       "  <thead>\n",
       "    <tr style=\"text-align: right;\">\n",
       "      <th></th>\n",
       "      <th>a</th>\n",
       "      <th>b</th>\n",
       "      <th>c</th>\n",
       "      <th>d</th>\n",
       "    </tr>\n",
       "  </thead>\n",
       "  <tbody>\n",
       "    <tr>\n",
       "      <th>v</th>\n",
       "      <td>44.0</td>\n",
       "      <td>47.0</td>\n",
       "      <td>5.0</td>\n",
       "      <td>5.0</td>\n",
       "    </tr>\n",
       "    <tr>\n",
       "      <th>w</th>\n",
       "      <td>67.0</td>\n",
       "      <td>9.0</td>\n",
       "      <td>83.0</td>\n",
       "      <td>21.0</td>\n",
       "    </tr>\n",
       "    <tr>\n",
       "      <th>x</th>\n",
       "      <td>5.0</td>\n",
       "      <td>5.0</td>\n",
       "      <td>5.0</td>\n",
       "      <td>88.0</td>\n",
       "    </tr>\n",
       "    <tr>\n",
       "      <th>y</th>\n",
       "      <td>88.0</td>\n",
       "      <td>12.0</td>\n",
       "      <td>58.0</td>\n",
       "      <td>65.0</td>\n",
       "    </tr>\n",
       "    <tr>\n",
       "      <th>z</th>\n",
       "      <td>39.0</td>\n",
       "      <td>87.0</td>\n",
       "      <td>46.0</td>\n",
       "      <td>5.0</td>\n",
       "    </tr>\n",
       "  </tbody>\n",
       "</table>\n",
       "</div>"
      ],
      "text/plain": [
       "      a     b     c     d\n",
       "v  44.0  47.0   5.0   5.0\n",
       "w  67.0   9.0  83.0  21.0\n",
       "x   5.0   5.0   5.0  88.0\n",
       "y  88.0  12.0  58.0  65.0\n",
       "z  39.0  87.0  46.0   5.0"
      ]
     },
     "execution_count": 112,
     "metadata": {},
     "output_type": "execute_result"
    }
   ],
   "source": [
    "# how can I clean these values up?\n",
    "# option 1: replace with another value\n",
    "# option 1a: replace with the mean\n",
    "\n",
    "# I don't want to replace columns a, b, c, and d's nans with the *same* value.\n",
    "# I want to replace nans in a with a's mean, and nans in b with b's mean, etc.\n",
    "\n",
    "df.fillna(5)  # all nan values in df are now replaced with 5"
   ]
  },
  {
   "cell_type": "code",
   "execution_count": 113,
   "id": "62954f76",
   "metadata": {},
   "outputs": [
    {
     "data": {
      "text/plain": [
       "a    59.500000\n",
       "b    38.750000\n",
       "c    62.333333\n",
       "d    58.000000\n",
       "dtype: float64"
      ]
     },
     "execution_count": 113,
     "metadata": {},
     "output_type": "execute_result"
    }
   ],
   "source": [
    "df.mean()  # running a series method on the data frame returns a series, the mean for each column"
   ]
  },
  {
   "cell_type": "code",
   "execution_count": 114,
   "id": "b1bab395",
   "metadata": {},
   "outputs": [
    {
     "data": {
      "text/html": [
       "<div>\n",
       "<style scoped>\n",
       "    .dataframe tbody tr th:only-of-type {\n",
       "        vertical-align: middle;\n",
       "    }\n",
       "\n",
       "    .dataframe tbody tr th {\n",
       "        vertical-align: top;\n",
       "    }\n",
       "\n",
       "    .dataframe thead th {\n",
       "        text-align: right;\n",
       "    }\n",
       "</style>\n",
       "<table border=\"1\" class=\"dataframe\">\n",
       "  <thead>\n",
       "    <tr style=\"text-align: right;\">\n",
       "      <th></th>\n",
       "      <th>a</th>\n",
       "      <th>b</th>\n",
       "      <th>c</th>\n",
       "      <th>d</th>\n",
       "    </tr>\n",
       "  </thead>\n",
       "  <tbody>\n",
       "    <tr>\n",
       "      <th>v</th>\n",
       "      <td>44.0</td>\n",
       "      <td>47.00</td>\n",
       "      <td>62.333333</td>\n",
       "      <td>58.0</td>\n",
       "    </tr>\n",
       "    <tr>\n",
       "      <th>w</th>\n",
       "      <td>67.0</td>\n",
       "      <td>9.00</td>\n",
       "      <td>83.000000</td>\n",
       "      <td>21.0</td>\n",
       "    </tr>\n",
       "    <tr>\n",
       "      <th>x</th>\n",
       "      <td>59.5</td>\n",
       "      <td>38.75</td>\n",
       "      <td>62.333333</td>\n",
       "      <td>88.0</td>\n",
       "    </tr>\n",
       "    <tr>\n",
       "      <th>y</th>\n",
       "      <td>88.0</td>\n",
       "      <td>12.00</td>\n",
       "      <td>58.000000</td>\n",
       "      <td>65.0</td>\n",
       "    </tr>\n",
       "    <tr>\n",
       "      <th>z</th>\n",
       "      <td>39.0</td>\n",
       "      <td>87.00</td>\n",
       "      <td>46.000000</td>\n",
       "      <td>58.0</td>\n",
       "    </tr>\n",
       "  </tbody>\n",
       "</table>\n",
       "</div>"
      ],
      "text/plain": [
       "      a      b          c     d\n",
       "v  44.0  47.00  62.333333  58.0\n",
       "w  67.0   9.00  83.000000  21.0\n",
       "x  59.5  38.75  62.333333  88.0\n",
       "y  88.0  12.00  58.000000  65.0\n",
       "z  39.0  87.00  46.000000  58.0"
      ]
     },
     "execution_count": 114,
     "metadata": {},
     "output_type": "execute_result"
    }
   ],
   "source": [
    "df.fillna(df.mean())  # passing a series to fillna then uses the series to fill the nan values"
   ]
  },
  {
   "cell_type": "code",
   "execution_count": 115,
   "id": "0ba46fb8",
   "metadata": {},
   "outputs": [
    {
     "data": {
      "text/html": [
       "<div>\n",
       "<style scoped>\n",
       "    .dataframe tbody tr th:only-of-type {\n",
       "        vertical-align: middle;\n",
       "    }\n",
       "\n",
       "    .dataframe tbody tr th {\n",
       "        vertical-align: top;\n",
       "    }\n",
       "\n",
       "    .dataframe thead th {\n",
       "        text-align: right;\n",
       "    }\n",
       "</style>\n",
       "<table border=\"1\" class=\"dataframe\">\n",
       "  <thead>\n",
       "    <tr style=\"text-align: right;\">\n",
       "      <th></th>\n",
       "      <th>a</th>\n",
       "      <th>b</th>\n",
       "      <th>c</th>\n",
       "      <th>d</th>\n",
       "    </tr>\n",
       "  </thead>\n",
       "  <tbody>\n",
       "    <tr>\n",
       "      <th>v</th>\n",
       "      <td>44.0</td>\n",
       "      <td>47.0</td>\n",
       "      <td>58.0</td>\n",
       "      <td>65.0</td>\n",
       "    </tr>\n",
       "    <tr>\n",
       "      <th>w</th>\n",
       "      <td>67.0</td>\n",
       "      <td>9.0</td>\n",
       "      <td>83.0</td>\n",
       "      <td>21.0</td>\n",
       "    </tr>\n",
       "    <tr>\n",
       "      <th>x</th>\n",
       "      <td>55.5</td>\n",
       "      <td>29.5</td>\n",
       "      <td>58.0</td>\n",
       "      <td>88.0</td>\n",
       "    </tr>\n",
       "    <tr>\n",
       "      <th>y</th>\n",
       "      <td>88.0</td>\n",
       "      <td>12.0</td>\n",
       "      <td>58.0</td>\n",
       "      <td>65.0</td>\n",
       "    </tr>\n",
       "    <tr>\n",
       "      <th>z</th>\n",
       "      <td>39.0</td>\n",
       "      <td>87.0</td>\n",
       "      <td>46.0</td>\n",
       "      <td>65.0</td>\n",
       "    </tr>\n",
       "  </tbody>\n",
       "</table>\n",
       "</div>"
      ],
      "text/plain": [
       "      a     b     c     d\n",
       "v  44.0  47.0  58.0  65.0\n",
       "w  67.0   9.0  83.0  21.0\n",
       "x  55.5  29.5  58.0  88.0\n",
       "y  88.0  12.0  58.0  65.0\n",
       "z  39.0  87.0  46.0  65.0"
      ]
     },
     "execution_count": 115,
     "metadata": {},
     "output_type": "execute_result"
    }
   ],
   "source": [
    "# option 1b: the mean can be skewed too much by outliers\n",
    "# let's instead use the median\n",
    "\n",
    "df.fillna(df.median())"
   ]
  },
  {
   "cell_type": "markdown",
   "id": "29e1d7c0",
   "metadata": {},
   "source": [
    "# Interpolation\n",
    "\n",
    "Interpolation means: If we have a missing value, we'll assume that it probably lies between the value before it and the value after it.\n",
    "\n",
    "For example, if a stock price is $100 on Monday, $110 on Tuesday, and $130 on Thursday, we can probably assume that it was $120 on Wednesday.  That's what interpolation tries to do -- it assumes that we can reasonably fill in nan values with the average (mean) of the earlier and later values."
   ]
  },
  {
   "cell_type": "code",
   "execution_count": 117,
   "id": "c89bd927",
   "metadata": {},
   "outputs": [
    {
     "data": {
      "text/html": [
       "<div>\n",
       "<style scoped>\n",
       "    .dataframe tbody tr th:only-of-type {\n",
       "        vertical-align: middle;\n",
       "    }\n",
       "\n",
       "    .dataframe tbody tr th {\n",
       "        vertical-align: top;\n",
       "    }\n",
       "\n",
       "    .dataframe thead th {\n",
       "        text-align: right;\n",
       "    }\n",
       "</style>\n",
       "<table border=\"1\" class=\"dataframe\">\n",
       "  <thead>\n",
       "    <tr style=\"text-align: right;\">\n",
       "      <th></th>\n",
       "      <th>a</th>\n",
       "      <th>b</th>\n",
       "      <th>c</th>\n",
       "      <th>d</th>\n",
       "    </tr>\n",
       "  </thead>\n",
       "  <tbody>\n",
       "    <tr>\n",
       "      <th>v</th>\n",
       "      <td>44.0</td>\n",
       "      <td>47.0</td>\n",
       "      <td>NaN</td>\n",
       "      <td>NaN</td>\n",
       "    </tr>\n",
       "    <tr>\n",
       "      <th>w</th>\n",
       "      <td>67.0</td>\n",
       "      <td>9.0</td>\n",
       "      <td>83.0</td>\n",
       "      <td>21.0</td>\n",
       "    </tr>\n",
       "    <tr>\n",
       "      <th>x</th>\n",
       "      <td>NaN</td>\n",
       "      <td>NaN</td>\n",
       "      <td>NaN</td>\n",
       "      <td>88.0</td>\n",
       "    </tr>\n",
       "    <tr>\n",
       "      <th>y</th>\n",
       "      <td>88.0</td>\n",
       "      <td>12.0</td>\n",
       "      <td>58.0</td>\n",
       "      <td>65.0</td>\n",
       "    </tr>\n",
       "    <tr>\n",
       "      <th>z</th>\n",
       "      <td>39.0</td>\n",
       "      <td>87.0</td>\n",
       "      <td>46.0</td>\n",
       "      <td>NaN</td>\n",
       "    </tr>\n",
       "  </tbody>\n",
       "</table>\n",
       "</div>"
      ],
      "text/plain": [
       "      a     b     c     d\n",
       "v  44.0  47.0   NaN   NaN\n",
       "w  67.0   9.0  83.0  21.0\n",
       "x   NaN   NaN   NaN  88.0\n",
       "y  88.0  12.0  58.0  65.0\n",
       "z  39.0  87.0  46.0   NaN"
      ]
     },
     "execution_count": 117,
     "metadata": {},
     "output_type": "execute_result"
    }
   ],
   "source": [
    "df"
   ]
  },
  {
   "cell_type": "code",
   "execution_count": 118,
   "id": "8c599c9e",
   "metadata": {
    "scrolled": true
   },
   "outputs": [
    {
     "data": {
      "text/html": [
       "<div>\n",
       "<style scoped>\n",
       "    .dataframe tbody tr th:only-of-type {\n",
       "        vertical-align: middle;\n",
       "    }\n",
       "\n",
       "    .dataframe tbody tr th {\n",
       "        vertical-align: top;\n",
       "    }\n",
       "\n",
       "    .dataframe thead th {\n",
       "        text-align: right;\n",
       "    }\n",
       "</style>\n",
       "<table border=\"1\" class=\"dataframe\">\n",
       "  <thead>\n",
       "    <tr style=\"text-align: right;\">\n",
       "      <th></th>\n",
       "      <th>a</th>\n",
       "      <th>b</th>\n",
       "      <th>c</th>\n",
       "      <th>d</th>\n",
       "    </tr>\n",
       "  </thead>\n",
       "  <tbody>\n",
       "    <tr>\n",
       "      <th>v</th>\n",
       "      <td>44.0</td>\n",
       "      <td>47.0</td>\n",
       "      <td>NaN</td>\n",
       "      <td>NaN</td>\n",
       "    </tr>\n",
       "    <tr>\n",
       "      <th>w</th>\n",
       "      <td>67.0</td>\n",
       "      <td>9.0</td>\n",
       "      <td>83.0</td>\n",
       "      <td>21.0</td>\n",
       "    </tr>\n",
       "    <tr>\n",
       "      <th>x</th>\n",
       "      <td>77.5</td>\n",
       "      <td>10.5</td>\n",
       "      <td>70.5</td>\n",
       "      <td>88.0</td>\n",
       "    </tr>\n",
       "    <tr>\n",
       "      <th>y</th>\n",
       "      <td>88.0</td>\n",
       "      <td>12.0</td>\n",
       "      <td>58.0</td>\n",
       "      <td>65.0</td>\n",
       "    </tr>\n",
       "    <tr>\n",
       "      <th>z</th>\n",
       "      <td>39.0</td>\n",
       "      <td>87.0</td>\n",
       "      <td>46.0</td>\n",
       "      <td>65.0</td>\n",
       "    </tr>\n",
       "  </tbody>\n",
       "</table>\n",
       "</div>"
      ],
      "text/plain": [
       "      a     b     c     d\n",
       "v  44.0  47.0   NaN   NaN\n",
       "w  67.0   9.0  83.0  21.0\n",
       "x  77.5  10.5  70.5  88.0\n",
       "y  88.0  12.0  58.0  65.0\n",
       "z  39.0  87.0  46.0  65.0"
      ]
     },
     "execution_count": 118,
     "metadata": {},
     "output_type": "execute_result"
    }
   ],
   "source": [
    "df.interpolate()"
   ]
  },
  {
   "cell_type": "code",
   "execution_count": 119,
   "id": "c95f4e0a",
   "metadata": {},
   "outputs": [
    {
     "data": {
      "text/plain": [
       "77.5"
      ]
     },
     "execution_count": 119,
     "metadata": {},
     "output_type": "execute_result"
    }
   ],
   "source": [
    "(67 + 88)/ 2"
   ]
  },
  {
   "cell_type": "code",
   "execution_count": 125,
   "id": "35cc4483",
   "metadata": {},
   "outputs": [
    {
     "data": {
      "text/html": [
       "<div>\n",
       "<style scoped>\n",
       "    .dataframe tbody tr th:only-of-type {\n",
       "        vertical-align: middle;\n",
       "    }\n",
       "\n",
       "    .dataframe tbody tr th {\n",
       "        vertical-align: top;\n",
       "    }\n",
       "\n",
       "    .dataframe thead th {\n",
       "        text-align: right;\n",
       "    }\n",
       "</style>\n",
       "<table border=\"1\" class=\"dataframe\">\n",
       "  <thead>\n",
       "    <tr style=\"text-align: right;\">\n",
       "      <th></th>\n",
       "      <th>a</th>\n",
       "      <th>b</th>\n",
       "      <th>c</th>\n",
       "      <th>d</th>\n",
       "    </tr>\n",
       "  </thead>\n",
       "  <tbody>\n",
       "    <tr>\n",
       "      <th>w</th>\n",
       "      <td>67.0</td>\n",
       "      <td>9.0</td>\n",
       "      <td>83.0</td>\n",
       "      <td>21.0</td>\n",
       "    </tr>\n",
       "    <tr>\n",
       "      <th>y</th>\n",
       "      <td>88.0</td>\n",
       "      <td>12.0</td>\n",
       "      <td>58.0</td>\n",
       "      <td>65.0</td>\n",
       "    </tr>\n",
       "  </tbody>\n",
       "</table>\n",
       "</div>"
      ],
      "text/plain": [
       "      a     b     c     d\n",
       "w  67.0   9.0  83.0  21.0\n",
       "y  88.0  12.0  58.0  65.0"
      ]
     },
     "execution_count": 125,
     "metadata": {},
     "output_type": "execute_result"
    }
   ],
   "source": [
    "df.dropna()   # get rid of all rows with any NaN values"
   ]
  },
  {
   "cell_type": "code",
   "execution_count": 126,
   "id": "7ba4c7ff",
   "metadata": {},
   "outputs": [
    {
     "data": {
      "text/html": [
       "<div>\n",
       "<style scoped>\n",
       "    .dataframe tbody tr th:only-of-type {\n",
       "        vertical-align: middle;\n",
       "    }\n",
       "\n",
       "    .dataframe tbody tr th {\n",
       "        vertical-align: top;\n",
       "    }\n",
       "\n",
       "    .dataframe thead th {\n",
       "        text-align: right;\n",
       "    }\n",
       "</style>\n",
       "<table border=\"1\" class=\"dataframe\">\n",
       "  <thead>\n",
       "    <tr style=\"text-align: right;\">\n",
       "      <th></th>\n",
       "      <th>a</th>\n",
       "      <th>b</th>\n",
       "      <th>c</th>\n",
       "      <th>d</th>\n",
       "    </tr>\n",
       "  </thead>\n",
       "  <tbody>\n",
       "    <tr>\n",
       "      <th>w</th>\n",
       "      <td>67.0</td>\n",
       "      <td>9.0</td>\n",
       "      <td>83.0</td>\n",
       "      <td>21.0</td>\n",
       "    </tr>\n",
       "    <tr>\n",
       "      <th>y</th>\n",
       "      <td>88.0</td>\n",
       "      <td>12.0</td>\n",
       "      <td>58.0</td>\n",
       "      <td>65.0</td>\n",
       "    </tr>\n",
       "    <tr>\n",
       "      <th>z</th>\n",
       "      <td>39.0</td>\n",
       "      <td>87.0</td>\n",
       "      <td>46.0</td>\n",
       "      <td>NaN</td>\n",
       "    </tr>\n",
       "  </tbody>\n",
       "</table>\n",
       "</div>"
      ],
      "text/plain": [
       "      a     b     c     d\n",
       "w  67.0   9.0  83.0  21.0\n",
       "y  88.0  12.0  58.0  65.0\n",
       "z  39.0  87.0  46.0   NaN"
      ]
     },
     "execution_count": 126,
     "metadata": {},
     "output_type": "execute_result"
    }
   ],
   "source": [
    "df.dropna(thresh=3)  # if we have at least 3 values, then keep the row"
   ]
  },
  {
   "cell_type": "code",
   "execution_count": 127,
   "id": "9b356bfc",
   "metadata": {},
   "outputs": [],
   "source": [
    "# in the zipfile is a CSV file with all New York City parking tickets from 2020\n",
    "\n"
   ]
  },
  {
   "cell_type": "code",
   "execution_count": 128,
   "id": "cba00451",
   "metadata": {},
   "outputs": [
    {
     "name": "stdout",
     "output_type": "stream",
     "text": [
      "Summons Number,Plate ID,Registration State,Plate Type,Issue Date,Violation Code,Vehicle Body Type,Vehicle Make,Issuing Agency,Street Code1,Street Code2,Street Code3,Vehicle Expiration Date,Violation Location,Violation Precinct,Issuer Precinct,Issuer Code,Issuer Command,Issuer Squad,Violation Time,Time First Observed,Violation County,Violation In Front Of Or Opposite,House Number,Street Name,Intersecting Street,Date First Observed,Law Section,Sub Division,Violation Legal Code,Days Parking In Effect,From Hours In Effect,To Hours In Effect,Vehicle Color,Unregistered Vehicle?,Vehicle Year,Meter Number,Feet From Curb,Violation Post Code,Violation Description,No Standing or Stopping Violation,Hydrant Violation,Double Parking Violation\r\n",
      "1477633194,J58JKX,NJ,PAS,05/08/1972 12:00:00 AM,16,SDN,HONDA,P,8730,5130,5280,0,72,72,504,342924,T504,0000,0523P,,K,F,270,43 ST,,0,408,E2,,YYYYYBB,0800A,0400P,BK,0,0,-,0,,,,,\r\n",
      "1449715424,KRE6058,PA,PAS,08/29/1977 12:00:00 AM,98,SUBN,ME/BE,P,86530,71800,73110,0,77,77,77,961115,0077,0000,0428P,,K,F,1953,UNION ST,,0,408,F1,,BBBBBBB,ALL,ALL,BLK,0,0,-,0,,,,,\r\n",
      "1455779155,444326R,NJ,PAS,10/03/1988 12:00:00 AM,20,SDN,LEXUS,P,27030,41330,69230,0,88,88,730,535422,T730,0000,0625A,,K,O,45,CLERMONT AVENUE,,0,408,D,,BBBBBBB,ALL,ALL,BLACK,0,0,-,0,,,,,\r\n",
      "1458800908,F728330,OH,PAS,01/03/1990 12:00:00 AM,21,SDN,CHEVR,P,33030,93630,58730,0,90,90,301,355074,T301,0000,1106A,,K,F,218,DIVISION AVE,,0,408,C,,BYBBYBB,1100A,1230P,,0,0,-,0,,,,,\r\n",
      "1466038676,FMY9090,NY,PAS,02/14/1990 12:00:00 AM,21,SUBN,JEEP,S,45130,23930,68130,20210915,90,90,0,668676,KNBO,0000,1253A,,K,F,850,GRAND ST,,0,408,D1,,BYBBYBB,1200A,0300A,GREY,0,2015,-,0,,,,,\r\n",
      "1440657920,KDG0693,PA,PAS,07/21/1990 12:00:00 AM,14,SUBN,HYUN,P,33440,62200,0,20191231,100,100,100,963999,0100,0000,0525P,,Q,,,B 99 ST,SHORE FRONT PKWY,0,408,C,,BBBBBBB,ALL,ALL,GY,0,0,-,0,,,,,\r\n",
      "1460987810,79928MG,NY,COM,09/19/1990 12:00:00 AM,48,DELV,INTER,P,0,0,0,20200531,1,1,401,958976,0401,0000,1120A,,NY,,,W/S/O WASHINGTON ST,S/O SPRING ST,0,408,E9,,BBBBBBB,ALL,ALL,WH,0,2015,-,0,,,,,\r\n",
      "1449130203,JJJ8186,NY,PAS,10/14/1990 12:00:00 AM,14,SUBN,BMW,P,10020,27480,27540,20210710,52,52,52,964971,0052,0000,0320A,,BX,F,2734,BAINBRIDGE AVE,,0,408,F2,,BBBBBBB,ALL,ALL,BLK,0,2010,-,0,,,,,\r\n",
      "1451300189,DKD6024,NC,PAS,07/25/1991 12:00:00 AM,98,SDN,FORD,P,11280,54137,5430,20190930,68,68,68,945183,0068,0000,0843P,,K,F,372,94 ST,,0,408,C3,,BBBBBBB,ALL,ALL,GREY,0,0,-,0,,,,,\r\n"
     ]
    }
   ],
   "source": [
    "!head ../data/nyc-parking-violations-2020.csv"
   ]
  },
  {
   "cell_type": "markdown",
   "id": "d64a2b22",
   "metadata": {},
   "source": [
    "# Exercise: Parking cleanup\n",
    "\n",
    "1. Create a data frame from the NYC parking data file.  We only need a handful of columns: Plate ID, registration state, vehicle make, vehicle color, violation time, and street name.\n",
    "2. How many rows are in the data frame?  \n",
    "3. Which vehicle color has the most violations?\n",
    "4. Which vehicle make has the most violations?\n",
    "5. What are the 10 least common vehicle colors cited here?  Are these mistaken colors? How would such mistakes affect our data?\n",
    "6. If you remove all of the rows in which we have nans, how many rows are you removing? If each violation is $100 toward NYC's budget, how much money would they lose based on missing data?\n",
    "7. Remove rows that are missing at least 3 columns worth of data.  How many rows have you removed now?\n",
    "8. Which of the columns in the data frame contains the greatest number of nan values?"
   ]
  },
  {
   "cell_type": "code",
   "execution_count": 130,
   "id": "9d9ab679",
   "metadata": {},
   "outputs": [
    {
     "name": "stdout",
     "output_type": "stream",
     "text": [
      "-rw-r--r-- 1 reuven staff 2.2G Jul  5  2021 ../data/nyc-parking-violations-2020.csv\r\n"
     ]
    }
   ],
   "source": [
    "filename = '../data/nyc-parking-violations-2020.csv'\n",
    "\n",
    "!ls -lh ../data/nyc-parking-violations-2020.csv"
   ]
  },
  {
   "cell_type": "code",
   "execution_count": 131,
   "id": "d4306d38",
   "metadata": {},
   "outputs": [],
   "source": [
    "filename = '../data/nyc-parking-violations-2020.csv'\n",
    "\n",
    "df = pd.read_csv(filename,\n",
    "                usecols=['Plate ID', 'Registration State', 'Vehicle Make', 'Vehicle Color', \n",
    "                        'Violation Time', 'Street Name'])"
   ]
  },
  {
   "cell_type": "code",
   "execution_count": 132,
   "id": "5787a69b",
   "metadata": {},
   "outputs": [
    {
     "data": {
      "text/plain": [
       "(12495734, 6)"
      ]
     },
     "execution_count": 132,
     "metadata": {},
     "output_type": "execute_result"
    }
   ],
   "source": [
    "df.shape"
   ]
  },
  {
   "cell_type": "code",
   "execution_count": 134,
   "id": "fb45260c",
   "metadata": {},
   "outputs": [
    {
     "data": {
      "text/plain": [
       "4693114747"
      ]
     },
     "execution_count": 134,
     "metadata": {},
     "output_type": "execute_result"
    }
   ],
   "source": [
    "df.memory_usage(deep=True).sum()"
   ]
  },
  {
   "cell_type": "code",
   "execution_count": 136,
   "id": "ff9f9ca5",
   "metadata": {},
   "outputs": [
    {
     "data": {
      "text/plain": [
       "WH       2344858\n",
       "GY       2307704\n",
       "BK       2066374\n",
       "WHITE    1061234\n",
       "BL        775124\n",
       "RD        483298\n",
       "BLACK     465110\n",
       "GREY      306787\n",
       "BROWN     292348\n",
       "SILVE     191477\n",
       "GR        182929\n",
       "BLUE      178298\n",
       "RED       161693\n",
       "TN        120576\n",
       "BR        102204\n",
       "YW         98700\n",
       "BLK        91539\n",
       "OTHER      60245\n",
       "GREEN      58765\n",
       "GL         54851\n",
       "Name: Vehicle Color, dtype: int64"
      ]
     },
     "execution_count": 136,
     "metadata": {},
     "output_type": "execute_result"
    }
   ],
   "source": [
    "# Which vehicle color has the most violations?\n",
    "\n",
    "df['Vehicle Color'].value_counts().head(20)"
   ]
  },
  {
   "cell_type": "code",
   "execution_count": 137,
   "id": "b96a6933",
   "metadata": {},
   "outputs": [
    {
     "data": {
      "text/plain": [
       "TOYOT    1395273\n",
       "HONDA    1343265\n",
       "FORD     1328063\n",
       "NISSA    1119587\n",
       "CHEVR     711464\n",
       "FRUEH     530846\n",
       "ME/BE     530473\n",
       "JEEP      490977\n",
       "BMW       488545\n",
       "DODGE     462646\n",
       "HYUND     357747\n",
       "LEXUS     293752\n",
       "ACURA     247954\n",
       "INTER     231149\n",
       "INFIN     230237\n",
       "GMC       214300\n",
       "SUBAR     206609\n",
       "VOLKS     192747\n",
       "AUDI      182256\n",
       "HIN       181538\n",
       "Name: Vehicle Make, dtype: int64"
      ]
     },
     "execution_count": 137,
     "metadata": {},
     "output_type": "execute_result"
    }
   ],
   "source": [
    "df['Vehicle Make'].value_counts().head(20)"
   ]
  },
  {
   "cell_type": "code",
   "execution_count": 138,
   "id": "b977398c",
   "metadata": {},
   "outputs": [
    {
     "data": {
      "text/plain": [
       "CHE      1\n",
       "ORGL     1\n",
       "BUI      1\n",
       "GROON    1\n",
       "HWT      1\n",
       "SOLVE    1\n",
       "PIK      1\n",
       "TRC      1\n",
       "SIL V    1\n",
       "PRU      1\n",
       "GEAY     1\n",
       "M.GRE    1\n",
       "WHTQ     1\n",
       "STRLT    1\n",
       "BLDG     1\n",
       "RD-CH    1\n",
       "ELK      1\n",
       "WICK     1\n",
       "MARIO    1\n",
       "CH       1\n",
       "Name: Vehicle Color, dtype: int64"
      ]
     },
     "execution_count": 138,
     "metadata": {},
     "output_type": "execute_result"
    }
   ],
   "source": [
    "df['Vehicle Color'].value_counts().tail(20)"
   ]
  },
  {
   "cell_type": "code",
   "execution_count": 139,
   "id": "a87d71d2",
   "metadata": {},
   "outputs": [
    {
     "data": {
      "text/plain": [
       "WH       2344858\n",
       "GY       2307704\n",
       "BK       2066374\n",
       "WHITE    1061234\n",
       "BL        775124\n",
       "RD        483298\n",
       "BLACK     465110\n",
       "GREY      306787\n",
       "BROWN     292348\n",
       "SILVE     191477\n",
       "GR        182929\n",
       "BLUE      178298\n",
       "RED       161693\n",
       "TN        120576\n",
       "BR        102204\n",
       "YW         98700\n",
       "BLK        91539\n",
       "OTHER      60245\n",
       "GREEN      58765\n",
       "GL         54851\n",
       "Name: Vehicle Color, dtype: int64"
      ]
     },
     "execution_count": 139,
     "metadata": {},
     "output_type": "execute_result"
    }
   ],
   "source": [
    "# how can I fix this kind of problem?\n",
    "\n",
    "df['Vehicle Color'].value_counts().head(20)"
   ]
  },
  {
   "cell_type": "code",
   "execution_count": 140,
   "id": "1b98dcaf",
   "metadata": {},
   "outputs": [
    {
     "data": {
      "text/plain": [
       "6           WH\n",
       "16          WH\n",
       "18          WH\n",
       "19          WH\n",
       "21          WH\n",
       "            ..\n",
       "12495684    WH\n",
       "12495693    WH\n",
       "12495698    WH\n",
       "12495712    WH\n",
       "12495717    WH\n",
       "Name: Vehicle Color, Length: 2344858, dtype: object"
      ]
     },
     "execution_count": 140,
     "metadata": {},
     "output_type": "execute_result"
    }
   ],
   "source": [
    "# get the vehicle color for all cars that have a color of 'WH'\n",
    "df.loc[df['Vehicle Color'] == 'WH', 'Vehicle Color']"
   ]
  },
  {
   "cell_type": "code",
   "execution_count": 141,
   "id": "67b3695b",
   "metadata": {},
   "outputs": [],
   "source": [
    "# get the vehicle color for all cars that have a color of 'WH', and assign them to be white\n",
    "df.loc[df['Vehicle Color'] == 'WH', 'Vehicle Color'] = 'WHITE'"
   ]
  },
  {
   "cell_type": "code",
   "execution_count": 142,
   "id": "25b9efc5",
   "metadata": {},
   "outputs": [
    {
     "data": {
      "text/plain": [
       "WHITE    3406092\n",
       "GY       2307704\n",
       "BK       2066374\n",
       "BL        775124\n",
       "RD        483298\n",
       "BLACK     465110\n",
       "GREY      306787\n",
       "BROWN     292348\n",
       "SILVE     191477\n",
       "GR        182929\n",
       "BLUE      178298\n",
       "RED       161693\n",
       "TN        120576\n",
       "BR        102204\n",
       "YW         98700\n",
       "BLK        91539\n",
       "OTHER      60245\n",
       "GREEN      58765\n",
       "GL         54851\n",
       "GRY        46527\n",
       "Name: Vehicle Color, dtype: int64"
      ]
     },
     "execution_count": 142,
     "metadata": {},
     "output_type": "execute_result"
    }
   ],
   "source": [
    "df['Vehicle Color'].value_counts().head(20)"
   ]
  },
  {
   "cell_type": "code",
   "execution_count": 143,
   "id": "6f3c0245",
   "metadata": {},
   "outputs": [],
   "source": [
    "# replace two-letter colors with longer color names\n",
    "\n",
    "#     row selector w/boolean index   , column selector  = assignment\n",
    "df.loc[df['Vehicle Color'] == 'GY', 'Vehicle Color'] = 'GREY'\n",
    "df.loc[df['Vehicle Color'] == 'BK', 'Vehicle Color'] = 'BLACK'\n",
    "df.loc[df['Vehicle Color'] == 'BL', 'Vehicle Color'] = 'BLUE'\n",
    "df.loc[df['Vehicle Color'] == 'RD', 'Vehicle Color'] = 'RED'\n",
    "df.loc[df['Vehicle Color'] == 'GR', 'Vehicle Color'] = 'GREEN'\n",
    "df.loc[df['Vehicle Color'] == 'TN', 'Vehicle Color'] = 'TAN'\n",
    "df.loc[df['Vehicle Color'] == 'BR', 'Vehicle Color'] = 'BROWN'\n",
    "df.loc[df['Vehicle Color'] == 'YW', 'Vehicle Color'] = 'YELLO'"
   ]
  },
  {
   "cell_type": "code",
   "execution_count": 144,
   "id": "c9f224f5",
   "metadata": {},
   "outputs": [
    {
     "data": {
      "text/plain": [
       "WHITE    3406092\n",
       "GREY     2614491\n",
       "BLACK    2531484\n",
       "BLUE      953422\n",
       "RED       644991\n",
       "BROWN     394552\n",
       "GREEN     241694\n",
       "SILVE     191477\n",
       "TAN       141667\n",
       "YELLO     131492\n",
       "BLK        91539\n",
       "OTHER      60245\n",
       "GL         54851\n",
       "GRY        46527\n",
       "MR         42812\n",
       "GRAY       40854\n",
       "WHT        35433\n",
       "WHI        29760\n",
       "OR         28100\n",
       "BK.        27830\n",
       "Name: Vehicle Color, dtype: int64"
      ]
     },
     "execution_count": 144,
     "metadata": {},
     "output_type": "execute_result"
    }
   ],
   "source": [
    "df['Vehicle Color'].value_counts().head(20)"
   ]
  },
  {
   "cell_type": "code",
   "execution_count": 147,
   "id": "9cd26b9d",
   "metadata": {},
   "outputs": [
    {
     "data": {
      "text/plain": [
       "Plate ID              12495532\n",
       "Registration State    12495734\n",
       "Vehicle Make          12433314\n",
       "Violation Time        12495456\n",
       "Street Name           12494317\n",
       "Vehicle Color         12103752\n",
       "dtype: int64"
      ]
     },
     "execution_count": 147,
     "metadata": {},
     "output_type": "execute_result"
    }
   ],
   "source": [
    "df.count()   # how many non-nan values are there in each column?"
   ]
  },
  {
   "cell_type": "code",
   "execution_count": 148,
   "id": "3e857e3f",
   "metadata": {},
   "outputs": [
    {
     "data": {
      "text/plain": [
       "(12495734, 6)"
      ]
     },
     "execution_count": 148,
     "metadata": {},
     "output_type": "execute_result"
    }
   ],
   "source": [
    "df.shape"
   ]
  },
  {
   "cell_type": "code",
   "execution_count": 149,
   "id": "7b4a90bf",
   "metadata": {},
   "outputs": [
    {
     "data": {
      "text/plain": [
       "Plate ID                 202\n",
       "Registration State         0\n",
       "Vehicle Make           62420\n",
       "Violation Time           278\n",
       "Street Name             1417\n",
       "Vehicle Color         391982\n",
       "dtype: int64"
      ]
     },
     "execution_count": 149,
     "metadata": {},
     "output_type": "execute_result"
    }
   ],
   "source": [
    "# this will tell me how many non-nan values I have per columns\n",
    "df.shape[0] - df.count()"
   ]
  },
  {
   "cell_type": "code",
   "execution_count": 150,
   "id": "15577754",
   "metadata": {},
   "outputs": [
    {
     "data": {
      "text/plain": [
       "39198200"
      ]
     },
     "execution_count": 150,
     "metadata": {},
     "output_type": "execute_result"
    }
   ],
   "source": [
    "# If New York makes $100 per parking ticket, then if we remove all of the nan values,\n",
    "# how much money would the city lose?\n",
    "\n",
    "391982 * 100  # $39m!"
   ]
  },
  {
   "cell_type": "code",
   "execution_count": 151,
   "id": "e8dba024",
   "metadata": {},
   "outputs": [
    {
     "data": {
      "text/plain": [
       "(12495730, 6)"
      ]
     },
     "execution_count": 151,
     "metadata": {},
     "output_type": "execute_result"
    }
   ],
   "source": [
    "# keep rows in which we have at least 3 columns of data\n",
    "df.dropna(thresh=3).shape"
   ]
  },
  {
   "cell_type": "code",
   "execution_count": 152,
   "id": "25554cfb",
   "metadata": {},
   "outputs": [
    {
     "data": {
      "text/plain": [
       "4"
      ]
     },
     "execution_count": 152,
     "metadata": {},
     "output_type": "execute_result"
    }
   ],
   "source": [
    "df.shape[0] - 12495730"
   ]
  },
  {
   "cell_type": "code",
   "execution_count": 153,
   "id": "16d6dfda",
   "metadata": {},
   "outputs": [
    {
     "data": {
      "text/plain": [
       "(12495524, 6)"
      ]
     },
     "execution_count": 153,
     "metadata": {},
     "output_type": "execute_result"
    }
   ],
   "source": [
    "df.dropna(thresh=4).shape"
   ]
  },
  {
   "cell_type": "code",
   "execution_count": 154,
   "id": "e497698f",
   "metadata": {},
   "outputs": [
    {
     "data": {
      "text/plain": [
       "210"
      ]
     },
     "execution_count": 154,
     "metadata": {},
     "output_type": "execute_result"
    }
   ],
   "source": [
    "df.shape[0] - 12495524"
   ]
  },
  {
   "cell_type": "code",
   "execution_count": 155,
   "id": "fdbe2005",
   "metadata": {},
   "outputs": [],
   "source": [
    "df = DataFrame([['Reuven', 'Lerner', 51],\n",
    "                ['Atara', 'Lerner-Friedman', 21],\n",
    "                ['Shikma', 'Lerner-Friedman', 19],\n",
    "                ['Amotz', 'Lerner-Friedman', 16],\n",
    "                ['John', 'Smith', 35],\n",
    "                ['David', 'Cohen', 60],\n",
    "                ['Sarah', 'Friedman', 59]                \n",
    "               ],\n",
    "              columns='firstname lastname age'.split())     # ['firstname', 'lastname', 'age']"
   ]
  },
  {
   "cell_type": "code",
   "execution_count": 156,
   "id": "d03657af",
   "metadata": {},
   "outputs": [
    {
     "data": {
      "text/html": [
       "<div>\n",
       "<style scoped>\n",
       "    .dataframe tbody tr th:only-of-type {\n",
       "        vertical-align: middle;\n",
       "    }\n",
       "\n",
       "    .dataframe tbody tr th {\n",
       "        vertical-align: top;\n",
       "    }\n",
       "\n",
       "    .dataframe thead th {\n",
       "        text-align: right;\n",
       "    }\n",
       "</style>\n",
       "<table border=\"1\" class=\"dataframe\">\n",
       "  <thead>\n",
       "    <tr style=\"text-align: right;\">\n",
       "      <th></th>\n",
       "      <th>firstname</th>\n",
       "      <th>lastname</th>\n",
       "      <th>age</th>\n",
       "    </tr>\n",
       "  </thead>\n",
       "  <tbody>\n",
       "    <tr>\n",
       "      <th>0</th>\n",
       "      <td>Reuven</td>\n",
       "      <td>Lerner</td>\n",
       "      <td>51</td>\n",
       "    </tr>\n",
       "    <tr>\n",
       "      <th>1</th>\n",
       "      <td>Atara</td>\n",
       "      <td>Lerner-Friedman</td>\n",
       "      <td>21</td>\n",
       "    </tr>\n",
       "    <tr>\n",
       "      <th>2</th>\n",
       "      <td>Shikma</td>\n",
       "      <td>Lerner-Friedman</td>\n",
       "      <td>19</td>\n",
       "    </tr>\n",
       "    <tr>\n",
       "      <th>3</th>\n",
       "      <td>Amotz</td>\n",
       "      <td>Lerner-Friedman</td>\n",
       "      <td>16</td>\n",
       "    </tr>\n",
       "    <tr>\n",
       "      <th>4</th>\n",
       "      <td>John</td>\n",
       "      <td>Smith</td>\n",
       "      <td>35</td>\n",
       "    </tr>\n",
       "    <tr>\n",
       "      <th>5</th>\n",
       "      <td>David</td>\n",
       "      <td>Cohen</td>\n",
       "      <td>60</td>\n",
       "    </tr>\n",
       "    <tr>\n",
       "      <th>6</th>\n",
       "      <td>Sarah</td>\n",
       "      <td>Friedman</td>\n",
       "      <td>59</td>\n",
       "    </tr>\n",
       "  </tbody>\n",
       "</table>\n",
       "</div>"
      ],
      "text/plain": [
       "  firstname         lastname  age\n",
       "0    Reuven           Lerner   51\n",
       "1     Atara  Lerner-Friedman   21\n",
       "2    Shikma  Lerner-Friedman   19\n",
       "3     Amotz  Lerner-Friedman   16\n",
       "4      John            Smith   35\n",
       "5     David            Cohen   60\n",
       "6     Sarah         Friedman   59"
      ]
     },
     "execution_count": 156,
     "metadata": {},
     "output_type": "execute_result"
    }
   ],
   "source": [
    "df"
   ]
  },
  {
   "cell_type": "code",
   "execution_count": 157,
   "id": "3fe65618",
   "metadata": {},
   "outputs": [],
   "source": [
    "# I want to add a new column, age_category.  This category will describe people \n",
    "# as young, midage, or old.  (So that I'll have some people in each category, I'll\n",
    "# define young as under 20, 20-50 is midage, and old is above 50.)\n",
    "\n",
    "# how can I do that?\n",
    "\n",
    "# option 1: define a new column in which everyone is midage.\n",
    "# then assign 'young' to anyone with an age < 20 and 'old' to anyone with an age > 50\n",
    "\n",
    "df['age_category'] = 'midage'    # broadcasting this assignment to the new column"
   ]
  },
  {
   "cell_type": "code",
   "execution_count": 158,
   "id": "f35a9caf",
   "metadata": {},
   "outputs": [
    {
     "data": {
      "text/html": [
       "<div>\n",
       "<style scoped>\n",
       "    .dataframe tbody tr th:only-of-type {\n",
       "        vertical-align: middle;\n",
       "    }\n",
       "\n",
       "    .dataframe tbody tr th {\n",
       "        vertical-align: top;\n",
       "    }\n",
       "\n",
       "    .dataframe thead th {\n",
       "        text-align: right;\n",
       "    }\n",
       "</style>\n",
       "<table border=\"1\" class=\"dataframe\">\n",
       "  <thead>\n",
       "    <tr style=\"text-align: right;\">\n",
       "      <th></th>\n",
       "      <th>firstname</th>\n",
       "      <th>lastname</th>\n",
       "      <th>age</th>\n",
       "      <th>age_category</th>\n",
       "    </tr>\n",
       "  </thead>\n",
       "  <tbody>\n",
       "    <tr>\n",
       "      <th>0</th>\n",
       "      <td>Reuven</td>\n",
       "      <td>Lerner</td>\n",
       "      <td>51</td>\n",
       "      <td>midage</td>\n",
       "    </tr>\n",
       "    <tr>\n",
       "      <th>1</th>\n",
       "      <td>Atara</td>\n",
       "      <td>Lerner-Friedman</td>\n",
       "      <td>21</td>\n",
       "      <td>midage</td>\n",
       "    </tr>\n",
       "    <tr>\n",
       "      <th>2</th>\n",
       "      <td>Shikma</td>\n",
       "      <td>Lerner-Friedman</td>\n",
       "      <td>19</td>\n",
       "      <td>midage</td>\n",
       "    </tr>\n",
       "    <tr>\n",
       "      <th>3</th>\n",
       "      <td>Amotz</td>\n",
       "      <td>Lerner-Friedman</td>\n",
       "      <td>16</td>\n",
       "      <td>midage</td>\n",
       "    </tr>\n",
       "    <tr>\n",
       "      <th>4</th>\n",
       "      <td>John</td>\n",
       "      <td>Smith</td>\n",
       "      <td>35</td>\n",
       "      <td>midage</td>\n",
       "    </tr>\n",
       "    <tr>\n",
       "      <th>5</th>\n",
       "      <td>David</td>\n",
       "      <td>Cohen</td>\n",
       "      <td>60</td>\n",
       "      <td>midage</td>\n",
       "    </tr>\n",
       "    <tr>\n",
       "      <th>6</th>\n",
       "      <td>Sarah</td>\n",
       "      <td>Friedman</td>\n",
       "      <td>59</td>\n",
       "      <td>midage</td>\n",
       "    </tr>\n",
       "  </tbody>\n",
       "</table>\n",
       "</div>"
      ],
      "text/plain": [
       "  firstname         lastname  age age_category\n",
       "0    Reuven           Lerner   51       midage\n",
       "1     Atara  Lerner-Friedman   21       midage\n",
       "2    Shikma  Lerner-Friedman   19       midage\n",
       "3     Amotz  Lerner-Friedman   16       midage\n",
       "4      John            Smith   35       midage\n",
       "5     David            Cohen   60       midage\n",
       "6     Sarah         Friedman   59       midage"
      ]
     },
     "execution_count": 158,
     "metadata": {},
     "output_type": "execute_result"
    }
   ],
   "source": [
    "df"
   ]
  },
  {
   "cell_type": "code",
   "execution_count": 160,
   "id": "7a9f1fe5",
   "metadata": {},
   "outputs": [],
   "source": [
    "df.loc[df['age'] < 20, 'age_category'] = 'young'\n",
    "df.loc[df['age'] > 50, 'age_category'] = 'old'"
   ]
  },
  {
   "cell_type": "code",
   "execution_count": 161,
   "id": "3b711715",
   "metadata": {},
   "outputs": [
    {
     "data": {
      "text/html": [
       "<div>\n",
       "<style scoped>\n",
       "    .dataframe tbody tr th:only-of-type {\n",
       "        vertical-align: middle;\n",
       "    }\n",
       "\n",
       "    .dataframe tbody tr th {\n",
       "        vertical-align: top;\n",
       "    }\n",
       "\n",
       "    .dataframe thead th {\n",
       "        text-align: right;\n",
       "    }\n",
       "</style>\n",
       "<table border=\"1\" class=\"dataframe\">\n",
       "  <thead>\n",
       "    <tr style=\"text-align: right;\">\n",
       "      <th></th>\n",
       "      <th>firstname</th>\n",
       "      <th>lastname</th>\n",
       "      <th>age</th>\n",
       "      <th>age_category</th>\n",
       "    </tr>\n",
       "  </thead>\n",
       "  <tbody>\n",
       "    <tr>\n",
       "      <th>0</th>\n",
       "      <td>Reuven</td>\n",
       "      <td>Lerner</td>\n",
       "      <td>51</td>\n",
       "      <td>old</td>\n",
       "    </tr>\n",
       "    <tr>\n",
       "      <th>1</th>\n",
       "      <td>Atara</td>\n",
       "      <td>Lerner-Friedman</td>\n",
       "      <td>21</td>\n",
       "      <td>midage</td>\n",
       "    </tr>\n",
       "    <tr>\n",
       "      <th>2</th>\n",
       "      <td>Shikma</td>\n",
       "      <td>Lerner-Friedman</td>\n",
       "      <td>19</td>\n",
       "      <td>young</td>\n",
       "    </tr>\n",
       "    <tr>\n",
       "      <th>3</th>\n",
       "      <td>Amotz</td>\n",
       "      <td>Lerner-Friedman</td>\n",
       "      <td>16</td>\n",
       "      <td>young</td>\n",
       "    </tr>\n",
       "    <tr>\n",
       "      <th>4</th>\n",
       "      <td>John</td>\n",
       "      <td>Smith</td>\n",
       "      <td>35</td>\n",
       "      <td>midage</td>\n",
       "    </tr>\n",
       "    <tr>\n",
       "      <th>5</th>\n",
       "      <td>David</td>\n",
       "      <td>Cohen</td>\n",
       "      <td>60</td>\n",
       "      <td>old</td>\n",
       "    </tr>\n",
       "    <tr>\n",
       "      <th>6</th>\n",
       "      <td>Sarah</td>\n",
       "      <td>Friedman</td>\n",
       "      <td>59</td>\n",
       "      <td>old</td>\n",
       "    </tr>\n",
       "  </tbody>\n",
       "</table>\n",
       "</div>"
      ],
      "text/plain": [
       "  firstname         lastname  age age_category\n",
       "0    Reuven           Lerner   51          old\n",
       "1     Atara  Lerner-Friedman   21       midage\n",
       "2    Shikma  Lerner-Friedman   19        young\n",
       "3     Amotz  Lerner-Friedman   16        young\n",
       "4      John            Smith   35       midage\n",
       "5     David            Cohen   60          old\n",
       "6     Sarah         Friedman   59          old"
      ]
     },
     "execution_count": 161,
     "metadata": {},
     "output_type": "execute_result"
    }
   ],
   "source": [
    "df"
   ]
  },
  {
   "cell_type": "code",
   "execution_count": 162,
   "id": "93c93044",
   "metadata": {},
   "outputs": [
    {
     "data": {
      "text/plain": [
       "old       3\n",
       "midage    2\n",
       "young     2\n",
       "Name: age_category, dtype: int64"
      ]
     },
     "execution_count": 162,
     "metadata": {},
     "output_type": "execute_result"
    }
   ],
   "source": [
    "df['age_category'].value_counts()"
   ]
  },
  {
   "cell_type": "code",
   "execution_count": 163,
   "id": "5ad3a7a2",
   "metadata": {},
   "outputs": [],
   "source": [
    "# this turns out to be very common -- take continuous data (i.e., numbers) and turn it into\n",
    "# categorical data.  \n",
    "\n",
    "df = DataFrame([['Reuven', 'Lerner', 51],\n",
    "                ['Atara', 'Lerner-Friedman', 21],\n",
    "                ['Shikma', 'Lerner-Friedman', 19],\n",
    "                ['Amotz', 'Lerner-Friedman', 16],\n",
    "                ['John', 'Smith', 35],\n",
    "                ['David', 'Cohen', 60],\n",
    "                ['Sarah', 'Friedman', 59]                \n",
    "               ],\n",
    "              columns='firstname lastname age'.split())     # ['firstname', 'lastname', 'age']\n",
    "\n"
   ]
  },
  {
   "cell_type": "code",
   "execution_count": 166,
   "id": "549fd8db",
   "metadata": {},
   "outputs": [
    {
     "name": "stdout",
     "output_type": "stream",
     "text": [
      "Help on function cut in module pandas.core.reshape.tile:\n",
      "\n",
      "cut(x, bins, right: 'bool' = True, labels=None, retbins: 'bool' = False, precision: 'int' = 3, include_lowest: 'bool' = False, duplicates: 'str' = 'raise', ordered: 'bool' = True)\n",
      "    Bin values into discrete intervals.\n",
      "    \n",
      "    Use `cut` when you need to segment and sort data values into bins. This\n",
      "    function is also useful for going from a continuous variable to a\n",
      "    categorical variable. For example, `cut` could convert ages to groups of\n",
      "    age ranges. Supports binning into an equal number of bins, or a\n",
      "    pre-specified array of bins.\n",
      "    \n",
      "    Parameters\n",
      "    ----------\n",
      "    x : array-like\n",
      "        The input array to be binned. Must be 1-dimensional.\n",
      "    bins : int, sequence of scalars, or IntervalIndex\n",
      "        The criteria to bin by.\n",
      "    \n",
      "        * int : Defines the number of equal-width bins in the range of `x`. The\n",
      "          range of `x` is extended by .1% on each side to include the minimum\n",
      "          and maximum values of `x`.\n",
      "        * sequence of scalars : Defines the bin edges allowing for non-uniform\n",
      "          width. No extension of the range of `x` is done.\n",
      "        * IntervalIndex : Defines the exact bins to be used. Note that\n",
      "          IntervalIndex for `bins` must be non-overlapping.\n",
      "    \n",
      "    right : bool, default True\n",
      "        Indicates whether `bins` includes the rightmost edge or not. If\n",
      "        ``right == True`` (the default), then the `bins` ``[1, 2, 3, 4]``\n",
      "        indicate (1,2], (2,3], (3,4]. This argument is ignored when\n",
      "        `bins` is an IntervalIndex.\n",
      "    labels : array or False, default None\n",
      "        Specifies the labels for the returned bins. Must be the same length as\n",
      "        the resulting bins. If False, returns only integer indicators of the\n",
      "        bins. This affects the type of the output container (see below).\n",
      "        This argument is ignored when `bins` is an IntervalIndex. If True,\n",
      "        raises an error. When `ordered=False`, labels must be provided.\n",
      "    retbins : bool, default False\n",
      "        Whether to return the bins or not. Useful when bins is provided\n",
      "        as a scalar.\n",
      "    precision : int, default 3\n",
      "        The precision at which to store and display the bins labels.\n",
      "    include_lowest : bool, default False\n",
      "        Whether the first interval should be left-inclusive or not.\n",
      "    duplicates : {default 'raise', 'drop'}, optional\n",
      "        If bin edges are not unique, raise ValueError or drop non-uniques.\n",
      "    ordered : bool, default True\n",
      "        Whether the labels are ordered or not. Applies to returned types\n",
      "        Categorical and Series (with Categorical dtype). If True,\n",
      "        the resulting categorical will be ordered. If False, the resulting\n",
      "        categorical will be unordered (labels must be provided).\n",
      "    \n",
      "        .. versionadded:: 1.1.0\n",
      "    \n",
      "    Returns\n",
      "    -------\n",
      "    out : Categorical, Series, or ndarray\n",
      "        An array-like object representing the respective bin for each value\n",
      "        of `x`. The type depends on the value of `labels`.\n",
      "    \n",
      "        * None (default) : returns a Series for Series `x` or a\n",
      "          Categorical for all other inputs. The values stored within\n",
      "          are Interval dtype.\n",
      "    \n",
      "        * sequence of scalars : returns a Series for Series `x` or a\n",
      "          Categorical for all other inputs. The values stored within\n",
      "          are whatever the type in the sequence is.\n",
      "    \n",
      "        * False : returns an ndarray of integers.\n",
      "    \n",
      "    bins : numpy.ndarray or IntervalIndex.\n",
      "        The computed or specified bins. Only returned when `retbins=True`.\n",
      "        For scalar or sequence `bins`, this is an ndarray with the computed\n",
      "        bins. If set `duplicates=drop`, `bins` will drop non-unique bin. For\n",
      "        an IntervalIndex `bins`, this is equal to `bins`.\n",
      "    \n",
      "    See Also\n",
      "    --------\n",
      "    qcut : Discretize variable into equal-sized buckets based on rank\n",
      "        or based on sample quantiles.\n",
      "    Categorical : Array type for storing data that come from a\n",
      "        fixed set of values.\n",
      "    Series : One-dimensional array with axis labels (including time series).\n",
      "    IntervalIndex : Immutable Index implementing an ordered, sliceable set.\n",
      "    \n",
      "    Notes\n",
      "    -----\n",
      "    Any NA values will be NA in the result. Out of bounds values will be NA in\n",
      "    the resulting Series or Categorical object.\n",
      "    \n",
      "    Reference :ref:`the user guide <reshaping.tile.cut>` for more examples.\n",
      "    \n",
      "    Examples\n",
      "    --------\n",
      "    Discretize into three equal-sized bins.\n",
      "    \n",
      "    >>> pd.cut(np.array([1, 7, 5, 4, 6, 3]), 3)\n",
      "    ... # doctest: +ELLIPSIS\n",
      "    [(0.994, 3.0], (5.0, 7.0], (3.0, 5.0], (3.0, 5.0], (5.0, 7.0], ...\n",
      "    Categories (3, interval[float64, right]): [(0.994, 3.0] < (3.0, 5.0] ...\n",
      "    \n",
      "    >>> pd.cut(np.array([1, 7, 5, 4, 6, 3]), 3, retbins=True)\n",
      "    ... # doctest: +ELLIPSIS\n",
      "    ([(0.994, 3.0], (5.0, 7.0], (3.0, 5.0], (3.0, 5.0], (5.0, 7.0], ...\n",
      "    Categories (3, interval[float64, right]): [(0.994, 3.0] < (3.0, 5.0] ...\n",
      "    array([0.994, 3.   , 5.   , 7.   ]))\n",
      "    \n",
      "    Discovers the same bins, but assign them specific labels. Notice that\n",
      "    the returned Categorical's categories are `labels` and is ordered.\n",
      "    \n",
      "    >>> pd.cut(np.array([1, 7, 5, 4, 6, 3]),\n",
      "    ...        3, labels=[\"bad\", \"medium\", \"good\"])\n",
      "    ['bad', 'good', 'medium', 'medium', 'good', 'bad']\n",
      "    Categories (3, object): ['bad' < 'medium' < 'good']\n",
      "    \n",
      "    ``ordered=False`` will result in unordered categories when labels are passed.\n",
      "    This parameter can be used to allow non-unique labels:\n",
      "    \n",
      "    >>> pd.cut(np.array([1, 7, 5, 4, 6, 3]), 3,\n",
      "    ...        labels=[\"B\", \"A\", \"B\"], ordered=False)\n",
      "    ['B', 'B', 'A', 'A', 'B', 'B']\n",
      "    Categories (2, object): ['A', 'B']\n",
      "    \n",
      "    ``labels=False`` implies you just want the bins back.\n",
      "    \n",
      "    >>> pd.cut([0, 1, 1, 2], bins=4, labels=False)\n",
      "    array([0, 1, 1, 3])\n",
      "    \n",
      "    Passing a Series as an input returns a Series with categorical dtype:\n",
      "    \n",
      "    >>> s = pd.Series(np.array([2, 4, 6, 8, 10]),\n",
      "    ...               index=['a', 'b', 'c', 'd', 'e'])\n",
      "    >>> pd.cut(s, 3)\n",
      "    ... # doctest: +ELLIPSIS\n",
      "    a    (1.992, 4.667]\n",
      "    b    (1.992, 4.667]\n",
      "    c    (4.667, 7.333]\n",
      "    d     (7.333, 10.0]\n",
      "    e     (7.333, 10.0]\n",
      "    dtype: category\n",
      "    Categories (3, interval[float64, right]): [(1.992, 4.667] < (4.667, ...\n",
      "    \n",
      "    Passing a Series as an input returns a Series with mapping value.\n",
      "    It is used to map numerically to intervals based on bins.\n",
      "    \n",
      "    >>> s = pd.Series(np.array([2, 4, 6, 8, 10]),\n",
      "    ...               index=['a', 'b', 'c', 'd', 'e'])\n",
      "    >>> pd.cut(s, [0, 2, 4, 6, 8, 10], labels=False, retbins=True, right=False)\n",
      "    ... # doctest: +ELLIPSIS\n",
      "    (a    1.0\n",
      "     b    2.0\n",
      "     c    3.0\n",
      "     d    4.0\n",
      "     e    NaN\n",
      "     dtype: float64,\n",
      "     array([ 0,  2,  4,  6,  8, 10]))\n",
      "    \n",
      "    Use `drop` optional when bins is not unique\n",
      "    \n",
      "    >>> pd.cut(s, [0, 2, 4, 6, 10, 10], labels=False, retbins=True,\n",
      "    ...        right=False, duplicates='drop')\n",
      "    ... # doctest: +ELLIPSIS\n",
      "    (a    1.0\n",
      "     b    2.0\n",
      "     c    3.0\n",
      "     d    3.0\n",
      "     e    NaN\n",
      "     dtype: float64,\n",
      "     array([ 0,  2,  4,  6, 10]))\n",
      "    \n",
      "    Passing an IntervalIndex for `bins` results in those categories exactly.\n",
      "    Notice that values not covered by the IntervalIndex are set to NaN. 0\n",
      "    is to the left of the first bin (which is closed on the right), and 1.5\n",
      "    falls between two bins.\n",
      "    \n",
      "    >>> bins = pd.IntervalIndex.from_tuples([(0, 1), (2, 3), (4, 5)])\n",
      "    >>> pd.cut([0, 0.5, 1.5, 2.5, 4.5], bins)\n",
      "    [NaN, (0.0, 1.0], NaN, (2.0, 3.0], (4.0, 5.0]]\n",
      "    Categories (3, interval[int64, right]): [(0, 1] < (2, 3] < (4, 5]]\n",
      "\n"
     ]
    }
   ],
   "source": [
    "help(pd.cut)"
   ]
  },
  {
   "cell_type": "code",
   "execution_count": 167,
   "id": "480fdcf1",
   "metadata": {},
   "outputs": [
    {
     "data": {
      "text/plain": [
       "0       old\n",
       "1    midage\n",
       "2     young\n",
       "3     young\n",
       "4    midage\n",
       "5       old\n",
       "6       old\n",
       "Name: age, dtype: category\n",
       "Categories (3, object): ['young' < 'midage' < 'old']"
      ]
     },
     "execution_count": 167,
     "metadata": {},
     "output_type": "execute_result"
    }
   ],
   "source": [
    "pd.cut(df['age'], \n",
    "      bins=[0, 20, 50, 100],               # boundaries before/between/after categories\n",
    "      labels=['young', 'midage', 'old'])   # number of labels = len(bins) - 1"
   ]
  },
  {
   "cell_type": "code",
   "execution_count": 168,
   "id": "c59d173f",
   "metadata": {},
   "outputs": [],
   "source": [
    "df['age_category'] = pd.cut(df['age'], \n",
    "      bins=[0, 20, 50, 100],               # boundaries before/between/after categories\n",
    "      labels=['young', 'midage', 'old'])   # number of labels = len(bins) - 1"
   ]
  },
  {
   "cell_type": "code",
   "execution_count": 169,
   "id": "2bcea6a9",
   "metadata": {},
   "outputs": [
    {
     "data": {
      "text/html": [
       "<div>\n",
       "<style scoped>\n",
       "    .dataframe tbody tr th:only-of-type {\n",
       "        vertical-align: middle;\n",
       "    }\n",
       "\n",
       "    .dataframe tbody tr th {\n",
       "        vertical-align: top;\n",
       "    }\n",
       "\n",
       "    .dataframe thead th {\n",
       "        text-align: right;\n",
       "    }\n",
       "</style>\n",
       "<table border=\"1\" class=\"dataframe\">\n",
       "  <thead>\n",
       "    <tr style=\"text-align: right;\">\n",
       "      <th></th>\n",
       "      <th>firstname</th>\n",
       "      <th>lastname</th>\n",
       "      <th>age</th>\n",
       "      <th>age_category</th>\n",
       "    </tr>\n",
       "  </thead>\n",
       "  <tbody>\n",
       "    <tr>\n",
       "      <th>0</th>\n",
       "      <td>Reuven</td>\n",
       "      <td>Lerner</td>\n",
       "      <td>51</td>\n",
       "      <td>old</td>\n",
       "    </tr>\n",
       "    <tr>\n",
       "      <th>1</th>\n",
       "      <td>Atara</td>\n",
       "      <td>Lerner-Friedman</td>\n",
       "      <td>21</td>\n",
       "      <td>midage</td>\n",
       "    </tr>\n",
       "    <tr>\n",
       "      <th>2</th>\n",
       "      <td>Shikma</td>\n",
       "      <td>Lerner-Friedman</td>\n",
       "      <td>19</td>\n",
       "      <td>young</td>\n",
       "    </tr>\n",
       "    <tr>\n",
       "      <th>3</th>\n",
       "      <td>Amotz</td>\n",
       "      <td>Lerner-Friedman</td>\n",
       "      <td>16</td>\n",
       "      <td>young</td>\n",
       "    </tr>\n",
       "    <tr>\n",
       "      <th>4</th>\n",
       "      <td>John</td>\n",
       "      <td>Smith</td>\n",
       "      <td>35</td>\n",
       "      <td>midage</td>\n",
       "    </tr>\n",
       "    <tr>\n",
       "      <th>5</th>\n",
       "      <td>David</td>\n",
       "      <td>Cohen</td>\n",
       "      <td>60</td>\n",
       "      <td>old</td>\n",
       "    </tr>\n",
       "    <tr>\n",
       "      <th>6</th>\n",
       "      <td>Sarah</td>\n",
       "      <td>Friedman</td>\n",
       "      <td>59</td>\n",
       "      <td>old</td>\n",
       "    </tr>\n",
       "  </tbody>\n",
       "</table>\n",
       "</div>"
      ],
      "text/plain": [
       "  firstname         lastname  age age_category\n",
       "0    Reuven           Lerner   51          old\n",
       "1     Atara  Lerner-Friedman   21       midage\n",
       "2    Shikma  Lerner-Friedman   19        young\n",
       "3     Amotz  Lerner-Friedman   16        young\n",
       "4      John            Smith   35       midage\n",
       "5     David            Cohen   60          old\n",
       "6     Sarah         Friedman   59          old"
      ]
     },
     "execution_count": 169,
     "metadata": {},
     "output_type": "execute_result"
    }
   ],
   "source": [
    "df"
   ]
  },
  {
   "cell_type": "markdown",
   "id": "14bb7eeb",
   "metadata": {},
   "source": [
    "# Exercise: Short, medium, and long taxi rides\n",
    "\n",
    "1. Load the taxi data from January 2019 in the new zipfile you downloaded today.  Once again, we're only interested in `trip_distance`, `passenger_count`, and `total_amount`.\n",
    "2. Show the number of rides in each of these three categories:\n",
    "    - short (<= 2 miles)\n",
    "    - medium (> 2 miles, but <= 10 miles)\n",
    "    - long (> 10 miles)\n",
    "3. For each category, show the average total amount and passenger count.\n",
    "    - Based on this, would you say that longer trips cost more?\n",
    "    - Based on this, would you say that longer trips have more passengers?"
   ]
  },
  {
   "cell_type": "code",
   "execution_count": 170,
   "id": "147f0271",
   "metadata": {},
   "outputs": [
    {
     "name": "stdout",
     "output_type": "stream",
     "text": [
      "../data/nyc_taxi_2019-01.csv  ../data/nyc_taxi_2019-07.csv\r\n"
     ]
    }
   ],
   "source": [
    "!ls ../data/*2019*"
   ]
  },
  {
   "cell_type": "code",
   "execution_count": null,
   "id": "a5f17cd6",
   "metadata": {},
   "outputs": [],
   "source": []
  }
 ],
 "metadata": {
  "kernelspec": {
   "display_name": "Python 3 (ipykernel)",
   "language": "python",
   "name": "python3"
  },
  "language_info": {
   "codemirror_mode": {
    "name": "ipython",
    "version": 3
   },
   "file_extension": ".py",
   "mimetype": "text/x-python",
   "name": "python",
   "nbconvert_exporter": "python",
   "pygments_lexer": "ipython3",
   "version": "3.10.4"
  }
 },
 "nbformat": 4,
 "nbformat_minor": 5
}
