{
 "cells": [
  {
   "cell_type": "code",
   "execution_count": 1,
   "metadata": {},
   "outputs": [],
   "source": [
    "# REPL -- read, eval, print loop \n",
    "# Jupyter is based on a browser\n",
    "\n",
    "# Jupyter's server runs on your computer (or somewhere else)\n",
    "# Jupyter's client runs in your browser\n",
    "\n",
    "# you get the illusion of running Python inside of your browser"
   ]
  },
  {
   "cell_type": "markdown",
   "metadata": {},
   "source": [
    "# Course agenda\n",
    "\n",
    "1. Jupyter (Monday)\n",
    "2. NumPy  (Monday)\n",
    "    - Arrays\n",
    "    - Data types (dtypes)\n",
    "    - Operations with NumPy arrays\n",
    "    - Working with files (external data)\n",
    "    - Boolean indexing\n",
    "    - Searching, sorting, retrieving data\n",
    "    - Plotting with Matplotlib\n",
    "3. Pandas (Tuesday-Thursday)\n",
    "    - Series and data frames\n",
    "    - Working with data (setting, retrieving) in Pandas\n",
    "    - Importing and exporting data (in various formats)\n",
    "    - Filtering by rows and co"
   ]
  }
 ],
 "metadata": {
  "kernelspec": {
   "display_name": "Python 3 (ipykernel)",
   "language": "python",
   "name": "python3"
  },
  "language_info": {
   "codemirror_mode": {
    "name": "ipython",
    "version": 3
   },
   "file_extension": ".py",
   "mimetype": "text/x-python",
   "name": "python",
   "nbconvert_exporter": "python",
   "pygments_lexer": "ipython3",
   "version": "3.10.4"
  }
 },
 "nbformat": 4,
 "nbformat_minor": 4
}
