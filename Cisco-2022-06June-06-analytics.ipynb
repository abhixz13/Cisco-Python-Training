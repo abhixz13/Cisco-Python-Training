{
 "cells": [
  {
   "cell_type": "code",
   "execution_count": 1,
   "metadata": {},
   "outputs": [],
   "source": [
    "# REPL -- read, eval, print loop \n",
    "# Jupyter is based on a browser\n",
    "\n",
    "# Jupyter's server runs on your computer (or somewhere else)\n",
    "# Jupyter's client runs in your browser\n",
    "\n",
    "# you get the illusion of running Python inside of your browser"
   ]
  },
  {
   "cell_type": "markdown",
   "metadata": {},
   "source": [
    "# Course agenda\n",
    "\n",
    "1. Jupyter (Monday)\n",
    "2. NumPy  (Monday)\n",
    "    - Arrays\n",
    "    - Data types (dtypes)\n",
    "    - Operations with NumPy arrays\n",
    "    - Working with files (external data)\n",
    "    - Boolean indexing\n",
    "    - Searching, sorting, retrieving data\n",
    "    - Plotting with Matplotlib\n",
    "3. Pandas (Tuesday-Thursday)\n",
    "    - Series and data frames\n",
    "    - Working with data (setting, retrieving) in Pandas\n",
    "    - Importing and exporting data (in various formats)\n",
    "    - Filtering by rows and columns\n",
    "    - Working with string data (text)\n",
    "    - Indexing (regular indexes and multi-indexes)\n",
    "    - Pivot tables\n",
    "    - Grouping\n",
    "    - Sorting\n",
    "    - Joining\n",
    "    - Categories\n",
    "    - Working with dates and times\n",
    "    - Plotting and visualization using Pandas"
   ]
  },
  {
   "cell_type": "code",
   "execution_count": 2,
   "metadata": {},
   "outputs": [
    {
     "name": "stdout",
     "output_type": "stream",
     "text": [
      "30\n"
     ]
    }
   ],
   "source": [
    "# Input in Jupyter is put into \"cells\"\n",
    "# Each cell can contain either Python code (like this) or Markdown (like above, which creates HTML).\n",
    "\n",
    "# If I have Python code, I can just execute it with shift+enter.\n",
    "\n",
    "x = 10\n",
    "y = 20\n",
    "\n",
    "print(x+y)"
   ]
  },
  {
   "cell_type": "code",
   "execution_count": 3,
   "metadata": {},
   "outputs": [
    {
     "name": "stdout",
     "output_type": "stream",
     "text": [
      "30\n"
     ]
    }
   ],
   "source": [
    "# the entire Python backend running on my computer is one Python process\n",
    "# variables and functions stick around from one cell to another\n",
    "\n",
    "# so even though I'm in a new cell, I can still say:\n",
    "\n",
    "print(x+y)"
   ]
  },
  {
   "cell_type": "code",
   "execution_count": 4,
   "metadata": {},
   "outputs": [
    {
     "data": {
      "text/plain": [
       "30"
      ]
     },
     "execution_count": 4,
     "metadata": {},
     "output_type": "execute_result"
    }
   ],
   "source": [
    "# A cell may contain any number of lines of Python code\n",
    "# If the final line is an expression (i.e., it gives us a value back)\n",
    "# then we'll see its value , even without printing\n",
    "\n",
    "x+y"
   ]
  },
  {
   "cell_type": "code",
   "execution_count": 5,
   "metadata": {},
   "outputs": [
    {
     "data": {
      "text/plain": [
       "10"
      ]
     },
     "execution_count": 5,
     "metadata": {},
     "output_type": "execute_result"
    }
   ],
   "source": [
    "x"
   ]
  },
  {
   "cell_type": "code",
   "execution_count": 6,
   "metadata": {},
   "outputs": [
    {
     "data": {
      "text/plain": [
       "20"
      ]
     },
     "execution_count": 6,
     "metadata": {},
     "output_type": "execute_result"
    }
   ],
   "source": [
    "y"
   ]
  },
  {
   "cell_type": "markdown",
   "metadata": {},
   "source": [
    "# Modes in Jupyter\n",
    "\n",
    "Jupyter actually has two different \"modes\" -- meaning, what happens when you type.\n",
    "\n",
    "- Edit mode (green frame around the cell, press ENTER or click inside of the cell to activate) is what you use to enter text or code.  It's what I'm using right now.\n",
    "- Command mode (blue frame around the cell, press ESC or click to the left of the cell to activate) is what you use to give Jupyter commands.  \n",
    "\n",
    "When you're in command mode, you can type many one-character commands to Jupyter:\n",
    "\n",
    "- `c` -- copy the current cell\n",
    "- `v` -- paste the current cell\n",
    "- `x` -- cut the current cell\n",
    "- `h` -- get help about command mode\n",
    "- `a` -- add a new, empty cell *above* the current one\n",
    "- `b` -- add a new, empty cell *below* the current one\n",
    "- `m` -- set the mode to markdown (like now) for easy-to-write HTML\n",
    "- `y` -- set the mode to code, for writing Python\n",
    "- `r` -- set the mode to \"raw,\" meaning just text that isn't marked up or executed\n",
    "- `z` -- undo the latest action\n",
    "\n",
    "Always, we can use shift+Enter to execute the cell"
   ]
  },
  {
   "cell_type": "markdown",
   "metadata": {},
   "source": [
    "# Installing and starting Jupyter\n",
    "\n",
    "1. Download and install it with `pip install -U jupyter`.  This is a command-line command, not a Python command.\n",
    "2. At the command line, type `jupyter notebook`.\n",
    "3. You'll see a \"new\" menu on the top right, and you should choose \"Python 3 notebook.\"\n",
    "4. You can rename your notebook by clicking on the title and changing it.  (View->Header, and click on the title, to rename)."
   ]
  },
  {
   "cell_type": "markdown",
   "metadata": {},
   "source": [
    "# Exercise: Starting with Jupyter\n",
    "\n",
    "1. Start up a Jupyter server on your computer. (If you haven't yet installed it, now is a good time!)\n",
    "2. Start a new notebook with Jupyter.\n",
    "3. Rename it to reflect today's date\n",
    "4. Write some simple Python code, and execute it in Jupyter."
   ]
  },
  {
   "cell_type": "code",
   "execution_count": null,
   "metadata": {},
   "outputs": [],
   "source": []
  }
 ],
 "metadata": {
  "kernelspec": {
   "display_name": "Python 3 (ipykernel)",
   "language": "python",
   "name": "python3"
  },
  "language_info": {
   "codemirror_mode": {
    "name": "ipython",
    "version": 3
   },
   "file_extension": ".py",
   "mimetype": "text/x-python",
   "name": "python",
   "nbconvert_exporter": "python",
   "pygments_lexer": "ipython3",
   "version": "3.10.4"
  }
 },
 "nbformat": 4,
 "nbformat_minor": 4
}
